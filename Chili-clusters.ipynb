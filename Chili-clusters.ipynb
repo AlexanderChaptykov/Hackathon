{
 "cells": [
  {
   "cell_type": "markdown",
   "metadata": {},
   "source": [
    "## Латентно семантический анализ\n",
    "\n",
    "\n",
    "Прежде всего нужна матрица TDM. Принято, что строки  в  матрице TDM с соответствуют  словам, а столбцы — документам. В каждой ячейке матрицы указано какое количество раз слово встречается в соответствующем документе. \n"
   ]
  },
  {
   "cell_type": "code",
   "execution_count": 1,
   "metadata": {
    "collapsed": true
   },
   "outputs": [],
   "source": [
    "import pandas as pd\n",
    "import csv\n",
    "import re\n",
    "from pymystem3 import Mystem\n",
    "from yandex_translate import YandexTranslate\n",
    "translate = YandexTranslate('trnsl.1.1.20171021T160722Z.738acb6379ef8012.5214c13767962890654e18a0d677c343d03bba24')\n",
    "import nltk\n",
    "from nltk.corpus import wordnet as wn\n",
    "import numpy as np\n",
    "import itertools\n",
    "%matplotlib inline\n",
    "from sklearn.cluster import KMeans\n",
    "from sklearn.metrics import silhouette_samples, silhouette_score\n",
    "import numpy as np\n",
    "import matplotlib.pyplot as plt"
   ]
  },
  {
   "cell_type": "code",
   "execution_count": 6,
   "metadata": {
    "collapsed": true
   },
   "outputs": [],
   "source": [
    "#Загружаем русский датасет\n",
    "text_file = open(\"OpenData_MinFin_Russia.csv\", \"r\")\n",
    "lines = text_file.read().split('==Q==')"
   ]
  },
  {
   "cell_type": "code",
   "execution_count": 2,
   "metadata": {
    "collapsed": true
   },
   "outputs": [],
   "source": [
    "#Загружаем англ датасет\n",
    "text_file = open(\"UK.csv\", \"r\")\n",
    "uk = text_file.read().split('==Q==')"
   ]
  },
  {
   "cell_type": "code",
   "execution_count": 18,
   "metadata": {},
   "outputs": [
    {
     "data": {
      "text/plain": [
       "0    foo\n",
       "1    fuz\n",
       "2    NaN\n",
       "dtype: object"
      ]
     },
     "execution_count": 18,
     "metadata": {},
     "output_type": "execute_result"
    }
   ],
   "source": [
    "s"
   ]
  },
  {
   "cell_type": "code",
   "execution_count": 9,
   "metadata": {
    "collapsed": true
   },
   "outputs": [],
   "source": [
    "def d(l):\n",
    "    if l =='foo':\n",
    "        return \"fuz\""
   ]
  },
  {
   "cell_type": "code",
   "execution_count": 17,
   "metadata": {},
   "outputs": [
    {
     "ename": "TypeError",
     "evalue": "'str' object is not callable",
     "output_type": "error",
     "traceback": [
      "\u001b[0;31m---------------------------------------------------------------------------\u001b[0m",
      "\u001b[0;31mTypeError\u001b[0m                                 Traceback (most recent call last)",
      "\u001b[0;32m<ipython-input-17-aad837c8ce17>\u001b[0m in \u001b[0;36m<module>\u001b[0;34m()\u001b[0m\n\u001b[0;32m----> 1\u001b[0;31m \u001b[0ms\u001b[0m\u001b[0;34m.\u001b[0m\u001b[0mmap\u001b[0m\u001b[0;34m(\u001b[0m\u001b[0mre\u001b[0m\u001b[0;34m.\u001b[0m\u001b[0msub\u001b[0m\u001b[0;34m(\u001b[0m\u001b[0;34mr'abc'\u001b[0m\u001b[0;34m,\u001b[0m \u001b[0;34m'zzz'\u001b[0m\u001b[0;34m,\u001b[0m \u001b[0;34m'abcd'\u001b[0m\u001b[0;34m)\u001b[0m \u001b[0;34m)\u001b[0m\u001b[0;34m\u001b[0m\u001b[0m\n\u001b[0m",
      "\u001b[0;32m/opt/conda/lib/python3.6/site-packages/pandas/core/series.py\u001b[0m in \u001b[0;36mmap\u001b[0;34m(self, arg, na_action)\u001b[0m\n\u001b[1;32m   2175\u001b[0m             \u001b[0mnew_values\u001b[0m \u001b[0;34m=\u001b[0m \u001b[0malgos\u001b[0m\u001b[0;34m.\u001b[0m\u001b[0mtake_1d\u001b[0m\u001b[0;34m(\u001b[0m\u001b[0marg\u001b[0m\u001b[0;34m.\u001b[0m\u001b[0m_values\u001b[0m\u001b[0;34m,\u001b[0m \u001b[0mindexer\u001b[0m\u001b[0;34m)\u001b[0m\u001b[0;34m\u001b[0m\u001b[0m\n\u001b[1;32m   2176\u001b[0m         \u001b[0;32melse\u001b[0m\u001b[0;34m:\u001b[0m\u001b[0;34m\u001b[0m\u001b[0m\n\u001b[0;32m-> 2177\u001b[0;31m             \u001b[0mnew_values\u001b[0m \u001b[0;34m=\u001b[0m \u001b[0mmap_f\u001b[0m\u001b[0;34m(\u001b[0m\u001b[0mvalues\u001b[0m\u001b[0;34m,\u001b[0m \u001b[0marg\u001b[0m\u001b[0;34m)\u001b[0m\u001b[0;34m\u001b[0m\u001b[0m\n\u001b[0m\u001b[1;32m   2178\u001b[0m \u001b[0;34m\u001b[0m\u001b[0m\n\u001b[1;32m   2179\u001b[0m         return self._constructor(new_values,\n",
      "\u001b[0;32mpandas/src/inference.pyx\u001b[0m in \u001b[0;36mpandas.lib.map_infer (pandas/lib.c:66124)\u001b[0;34m()\u001b[0m\n",
      "\u001b[0;31mTypeError\u001b[0m: 'str' object is not callable"
     ]
    }
   ],
   "source": [
    "s.map(re.sub(r'abc', 'zzz', 'abcd') )"
   ]
  },
  {
   "cell_type": "code",
   "execution_count": 30,
   "metadata": {},
   "outputs": [
    {
     "data": {
      "text/plain": [
       "0        zz\n",
       "1       fuz\n",
       "2    np.nan\n",
       "dtype: object"
      ]
     },
     "execution_count": 30,
     "metadata": {},
     "output_type": "execute_result"
    }
   ],
   "source": [
    "s=pd.Series(['foo', 'fuz', 'np.nan'])#.str.replace(regex_pat, 'bar')\n",
    "s.map(lambda x: re.sub('foo', 'zz', x))"
   ]
  },
  {
   "cell_type": "code",
   "execution_count": 24,
   "metadata": {},
   "outputs": [
    {
     "data": {
      "text/plain": [
       "'fuz'"
      ]
     },
     "execution_count": 24,
     "metadata": {},
     "output_type": "execute_result"
    }
   ],
   "source": [
    "s[1]"
   ]
  },
  {
   "cell_type": "code",
   "execution_count": 19,
   "metadata": {
    "collapsed": true
   },
   "outputs": [],
   "source": [
    "\n",
    "uk = pd.Series(uk)\n",
    "uk = uk.map(lambda x: re.sub('\\s+', ' ', x))\n",
    "uk = uk.map(lambda x: re.sub('[^A-Za-zА-Яа-я]', ' ', x))\n",
    "\n",
    "uk = uk.str.lower()\n",
    "uk.to_csv('uk2.csv', encoding='utf8')"
   ]
  },
  {
   "cell_type": "code",
   "execution_count": 2,
   "metadata": {
    "collapsed": true
   },
   "outputs": [],
   "source": [
    "#Загружаем чилийский датасет\n",
    "\n",
    "text_file = open(\"chile.csv\", \"r\")\n",
    "chile = text_file.read().split('==Q==')\n",
    "chile = pd.Series(chile)\n",
    "chile = chile.map(lambda x: re.sub('\\s+', ' ', x))\n",
    "chile = chile.map(lambda x: re.sub('[^A-Za-zА-Яа-я]', ' ', x))\n",
    "\n",
    "chile = chile.str.lower()\n",
    "chile.to_csv('chile2.csv', encoding='utf8')"
   ]
  },
  {
   "cell_type": "code",
   "execution_count": 9,
   "metadata": {
    "collapsed": true
   },
   "outputs": [],
   "source": [
    "#Берем заранее лематизированные данные с пощью Mystem - я это делал на своем компьютере\n",
    "ru = pd.Series.empty\n",
    "ru = pd.Series.from_csv('ru2.csv')\n",
    "ru = ru[:-1]\n"
   ]
  },
  {
   "cell_type": "code",
   "execution_count": 10,
   "metadata": {
    "collapsed": true
   },
   "outputs": [],
   "source": [
    "#Переводим их на англ.\n",
    "for i in range(len(ru)):\n",
    "    ru[i] = translate.translate(ru[i], 'en')['text'][0]"
   ]
  },
  {
   "cell_type": "code",
   "execution_count": 11,
   "metadata": {
    "collapsed": true
   },
   "outputs": [],
   "source": [
    "ru.to_csv('ru_translate.csv', encoding='utf8')"
   ]
  },
  {
   "cell_type": "code",
   "execution_count": 80,
   "metadata": {
    "collapsed": true
   },
   "outputs": [],
   "source": [
    "#СТАРТ\n",
    "ru = chile"
   ]
  },
  {
   "cell_type": "code",
   "execution_count": 81,
   "metadata": {
    "collapsed": true
   },
   "outputs": [],
   "source": [
    "#Очищаем от запятых\n",
    "ru=ru.map(lambda x: re.sub('\\s+', ' ', x))\n",
    "ru = ru.map(lambda x: re.sub('[^A-Za-zА-Яа-я]', ' ', x))"
   ]
  },
  {
   "cell_type": "code",
   "execution_count": 82,
   "metadata": {
    "collapsed": true
   },
   "outputs": [],
   "source": [
    "#Удаляем стопворды\n",
    "text_file = open(\"stop_words.txt\", \"r\")\n",
    "lines = text_file.read().split('\\n')\n",
    "stopwords = lines[1:-2]\n",
    "stopwords = set(stopwords)\n",
    "\n",
    "def replace_stopwords(str_src, stopwords):\n",
    "    for w in stopwords:\n",
    "        str_src = str_src.replace(\" \" + w + \" \", \" \")\n",
    "        str_src = str_src.replace(\"  \",\" \")\n",
    "    return str_src\n",
    " \n",
    "# Удаление стоп слов\n",
    "ru =ru.map(lambda x: replace_stopwords(x, stopwords))"
   ]
  },
  {
   "cell_type": "code",
   "execution_count": 83,
   "metadata": {
    "collapsed": true
   },
   "outputs": [],
   "source": [
    "ru_old=ru"
   ]
  },
  {
   "cell_type": "code",
   "execution_count": 84,
   "metadata": {},
   "outputs": [
    {
     "data": {
      "text/plain": [
       "array([[0, 0, 0, ..., 0, 0, 0],\n",
       "       [0, 0, 0, ..., 0, 0, 0],\n",
       "       [0, 0, 0, ..., 0, 0, 0],\n",
       "       ..., \n",
       "       [0, 0, 0, ..., 0, 0, 0],\n",
       "       [3, 2, 1, ..., 0, 1, 0],\n",
       "       [0, 0, 0, ..., 0, 0, 0]], dtype=int64)"
      ]
     },
     "execution_count": 84,
     "metadata": {},
     "output_type": "execute_result"
    }
   ],
   "source": [
    "#Делаем веторайзер\n",
    "from sklearn.feature_extraction.text import CountVectorizer\n",
    "vectorizer = CountVectorizer()\n",
    "\n",
    "X = vectorizer.fit_transform(ru)\n",
    "dtm=X.toarray().transpose()\n",
    "vocabulary = vectorizer.get_feature_names()\n",
    "dtm"
   ]
  },
  {
   "cell_type": "code",
   "execution_count": 85,
   "metadata": {},
   "outputs": [
    {
     "name": "stderr",
     "output_type": "stream",
     "text": [
      "/opt/conda/lib/python3.6/site-packages/ipykernel_launcher.py:4: FutureWarning: sort(columns=....) is deprecated, use sort_values(by=.....)\n",
      "  after removing the cwd from sys.path.\n"
     ]
    }
   ],
   "source": [
    "#Подсчет частот\n",
    "d = {'vocabulary': vocabulary,'freq': sum(dtm.T),}\n",
    "freq = pd.DataFrame(data=d)\n",
    "freq=freq.sort('freq',ascending=False)"
   ]
  },
  {
   "cell_type": "code",
   "execution_count": 86,
   "metadata": {},
   "outputs": [
    {
     "data": {
      "text/html": [
       "\n",
       "    <div class=\"bk-root\">\n",
       "        <a href=\"https://bokeh.pydata.org\" target=\"_blank\" class=\"bk-logo bk-logo-small bk-logo-notebook\"></a>\n",
       "        <span id=\"b9c83111-5228-479f-a808-7a481fb514bc\">Loading BokehJS ...</span>\n",
       "    </div>"
      ]
     },
     "metadata": {},
     "output_type": "display_data"
    },
    {
     "data": {
      "application/javascript": [
       "\n",
       "(function(root) {\n",
       "  function now() {\n",
       "    return new Date();\n",
       "  }\n",
       "\n",
       "  var force = true;\n",
       "\n",
       "  if (typeof (root._bokeh_onload_callbacks) === \"undefined\" || force === true) {\n",
       "    root._bokeh_onload_callbacks = [];\n",
       "    root._bokeh_is_loading = undefined;\n",
       "  }\n",
       "\n",
       "  var JS_MIME_TYPE = 'application/javascript';\n",
       "  var HTML_MIME_TYPE = 'text/html';\n",
       "  var EXEC_MIME_TYPE = 'application/vnd.bokehjs_exec.v0+json';\n",
       "  var CLASS_NAME = 'output_bokeh rendered_html';\n",
       "\n",
       "  /**\n",
       "   * Render data to the DOM node\n",
       "   */\n",
       "  function render(props, node) {\n",
       "    var script = document.createElement(\"script\");\n",
       "    node.appendChild(script);\n",
       "  }\n",
       "\n",
       "  /**\n",
       "   * Handle when an output is cleared or removed\n",
       "   */\n",
       "  function handleClearOutput(event, handle) {\n",
       "    var cell = handle.cell;\n",
       "\n",
       "    var id = cell.output_area._bokeh_element_id;\n",
       "    var server_id = cell.output_area._bokeh_server_id;\n",
       "    // Clean up Bokeh references\n",
       "    if (id !== undefined) {\n",
       "      Bokeh.index[id].model.document.clear();\n",
       "      delete Bokeh.index[id];\n",
       "    }\n",
       "\n",
       "    if (server_id !== undefined) {\n",
       "      // Clean up Bokeh references\n",
       "      var cmd = \"from bokeh.io.state import curstate; print(curstate().uuid_to_server['\" + server_id + \"'].get_sessions()[0].document.roots[0]._id)\";\n",
       "      cell.notebook.kernel.execute(cmd, {\n",
       "        iopub: {\n",
       "          output: function(msg) {\n",
       "            var element_id = msg.content.text.trim();\n",
       "            Bokeh.index[element_id].model.document.clear();\n",
       "            delete Bokeh.index[element_id];\n",
       "          }\n",
       "        }\n",
       "      });\n",
       "      // Destroy server and session\n",
       "      var cmd = \"import bokeh.io.notebook as ion; ion.destroy_server('\" + server_id + \"')\";\n",
       "      cell.notebook.kernel.execute(cmd);\n",
       "    }\n",
       "  }\n",
       "\n",
       "  /**\n",
       "   * Handle when a new output is added\n",
       "   */\n",
       "  function handleAddOutput(event, handle) {\n",
       "    var output_area = handle.output_area;\n",
       "    var output = handle.output;\n",
       "\n",
       "    // limit handleAddOutput to display_data with EXEC_MIME_TYPE content only\n",
       "    if ((output.output_type != \"display_data\") || (!output.data.hasOwnProperty(EXEC_MIME_TYPE))) {\n",
       "      return\n",
       "    }\n",
       "\n",
       "    var toinsert = output_area.element.find(`.${CLASS_NAME.split(' ')[0]}`);\n",
       "\n",
       "    if (output.metadata[EXEC_MIME_TYPE][\"id\"] !== undefined) {\n",
       "      toinsert[0].firstChild.textContent = output.data[JS_MIME_TYPE];\n",
       "      // store reference to embed id on output_area\n",
       "      output_area._bokeh_element_id = output.metadata[EXEC_MIME_TYPE][\"id\"];\n",
       "    }\n",
       "    if (output.metadata[EXEC_MIME_TYPE][\"server_id\"] !== undefined) {\n",
       "      var bk_div = document.createElement(\"div\");\n",
       "      bk_div.innerHTML = output.data[HTML_MIME_TYPE];\n",
       "      var script_attrs = bk_div.children[0].attributes;\n",
       "      for (var i = 0; i < script_attrs.length; i++) {\n",
       "        toinsert[0].firstChild.setAttribute(script_attrs[i].name, script_attrs[i].value);\n",
       "      }\n",
       "      // store reference to server id on output_area\n",
       "      output_area._bokeh_server_id = output.metadata[EXEC_MIME_TYPE][\"server_id\"];\n",
       "    }\n",
       "  }\n",
       "\n",
       "  function register_renderer(events, OutputArea) {\n",
       "\n",
       "    function append_mime(data, metadata, element) {\n",
       "      // create a DOM node to render to\n",
       "      var toinsert = this.create_output_subarea(\n",
       "        metadata,\n",
       "        CLASS_NAME,\n",
       "        EXEC_MIME_TYPE\n",
       "      );\n",
       "      this.keyboard_manager.register_events(toinsert);\n",
       "      // Render to node\n",
       "      var props = {data: data, metadata: metadata[EXEC_MIME_TYPE]};\n",
       "      render(props, toinsert[0]);\n",
       "      element.append(toinsert);\n",
       "      return toinsert\n",
       "    }\n",
       "\n",
       "    /* Handle when an output is cleared or removed */\n",
       "    events.on('clear_output.CodeCell', handleClearOutput);\n",
       "    events.on('delete.Cell', handleClearOutput);\n",
       "\n",
       "    /* Handle when a new output is added */\n",
       "    events.on('output_added.OutputArea', handleAddOutput);\n",
       "\n",
       "    /**\n",
       "     * Register the mime type and append_mime function with output_area\n",
       "     */\n",
       "    OutputArea.prototype.register_mime_type(EXEC_MIME_TYPE, append_mime, {\n",
       "      /* Is output safe? */\n",
       "      safe: true,\n",
       "      /* Index of renderer in `output_area.display_order` */\n",
       "      index: 0\n",
       "    });\n",
       "  }\n",
       "\n",
       "  // register the mime type if in Jupyter Notebook environment and previously unregistered\n",
       "  if (root.Jupyter !== undefined) {\n",
       "    var events = require('base/js/events');\n",
       "    var OutputArea = require('notebook/js/outputarea').OutputArea;\n",
       "\n",
       "    if (OutputArea.prototype.mime_types().indexOf(EXEC_MIME_TYPE) == -1) {\n",
       "      register_renderer(events, OutputArea);\n",
       "    }\n",
       "  }\n",
       "\n",
       "  \n",
       "  if (typeof (root._bokeh_timeout) === \"undefined\" || force === true) {\n",
       "    root._bokeh_timeout = Date.now() + 5000;\n",
       "    root._bokeh_failed_load = false;\n",
       "  }\n",
       "\n",
       "  var NB_LOAD_WARNING = {'data': {'text/html':\n",
       "     \"<div style='background-color: #fdd'>\\n\"+\n",
       "     \"<p>\\n\"+\n",
       "     \"BokehJS does not appear to have successfully loaded. If loading BokehJS from CDN, this \\n\"+\n",
       "     \"may be due to a slow or bad network connection. Possible fixes:\\n\"+\n",
       "     \"</p>\\n\"+\n",
       "     \"<ul>\\n\"+\n",
       "     \"<li>re-rerun `output_notebook()` to attempt to load from CDN again, or</li>\\n\"+\n",
       "     \"<li>use INLINE resources instead, as so:</li>\\n\"+\n",
       "     \"</ul>\\n\"+\n",
       "     \"<code>\\n\"+\n",
       "     \"from bokeh.resources import INLINE\\n\"+\n",
       "     \"output_notebook(resources=INLINE)\\n\"+\n",
       "     \"</code>\\n\"+\n",
       "     \"</div>\"}};\n",
       "\n",
       "  function display_loaded() {\n",
       "    var el = document.getElementById(\"b9c83111-5228-479f-a808-7a481fb514bc\");\n",
       "    if (el != null) {\n",
       "      el.textContent = \"BokehJS is loading...\";\n",
       "    }\n",
       "    if (root.Bokeh !== undefined) {\n",
       "      if (el != null) {\n",
       "        el.textContent = \"BokehJS \" + root.Bokeh.version + \" successfully loaded.\";\n",
       "      }\n",
       "    } else if (Date.now() < root._bokeh_timeout) {\n",
       "      setTimeout(display_loaded, 100)\n",
       "    }\n",
       "  }\n",
       "\n",
       "\n",
       "  function run_callbacks() {\n",
       "    try {\n",
       "      root._bokeh_onload_callbacks.forEach(function(callback) { callback() });\n",
       "    }\n",
       "    finally {\n",
       "      delete root._bokeh_onload_callbacks\n",
       "    }\n",
       "    console.info(\"Bokeh: all callbacks have finished\");\n",
       "  }\n",
       "\n",
       "  function load_libs(js_urls, callback) {\n",
       "    root._bokeh_onload_callbacks.push(callback);\n",
       "    if (root._bokeh_is_loading > 0) {\n",
       "      console.log(\"Bokeh: BokehJS is being loaded, scheduling callback at\", now());\n",
       "      return null;\n",
       "    }\n",
       "    if (js_urls == null || js_urls.length === 0) {\n",
       "      run_callbacks();\n",
       "      return null;\n",
       "    }\n",
       "    console.log(\"Bokeh: BokehJS not loaded, scheduling load and callback at\", now());\n",
       "    root._bokeh_is_loading = js_urls.length;\n",
       "    for (var i = 0; i < js_urls.length; i++) {\n",
       "      var url = js_urls[i];\n",
       "      var s = document.createElement('script');\n",
       "      s.src = url;\n",
       "      s.async = false;\n",
       "      s.onreadystatechange = s.onload = function() {\n",
       "        root._bokeh_is_loading--;\n",
       "        if (root._bokeh_is_loading === 0) {\n",
       "          console.log(\"Bokeh: all BokehJS libraries loaded\");\n",
       "          run_callbacks()\n",
       "        }\n",
       "      };\n",
       "      s.onerror = function() {\n",
       "        console.warn(\"failed to load library \" + url);\n",
       "      };\n",
       "      console.log(\"Bokeh: injecting script tag for BokehJS library: \", url);\n",
       "      document.getElementsByTagName(\"head\")[0].appendChild(s);\n",
       "    }\n",
       "  };var element = document.getElementById(\"b9c83111-5228-479f-a808-7a481fb514bc\");\n",
       "  if (element == null) {\n",
       "    console.log(\"Bokeh: ERROR: autoload.js configured with elementid 'b9c83111-5228-479f-a808-7a481fb514bc' but no matching script tag was found. \")\n",
       "    return false;\n",
       "  }\n",
       "\n",
       "  var js_urls = [\"https://cdn.pydata.org/bokeh/release/bokeh-0.12.10.min.js\", \"https://cdn.pydata.org/bokeh/release/bokeh-widgets-0.12.10.min.js\", \"https://cdn.pydata.org/bokeh/release/bokeh-tables-0.12.10.min.js\", \"https://cdn.pydata.org/bokeh/release/bokeh-gl-0.12.10.min.js\"];\n",
       "\n",
       "  var inline_js = [\n",
       "    function(Bokeh) {\n",
       "      Bokeh.set_log_level(\"info\");\n",
       "    },\n",
       "    \n",
       "    function(Bokeh) {\n",
       "      \n",
       "    },\n",
       "    function(Bokeh) {\n",
       "      console.log(\"Bokeh: injecting CSS: https://cdn.pydata.org/bokeh/release/bokeh-0.12.10.min.css\");\n",
       "      Bokeh.embed.inject_css(\"https://cdn.pydata.org/bokeh/release/bokeh-0.12.10.min.css\");\n",
       "      console.log(\"Bokeh: injecting CSS: https://cdn.pydata.org/bokeh/release/bokeh-widgets-0.12.10.min.css\");\n",
       "      Bokeh.embed.inject_css(\"https://cdn.pydata.org/bokeh/release/bokeh-widgets-0.12.10.min.css\");\n",
       "      console.log(\"Bokeh: injecting CSS: https://cdn.pydata.org/bokeh/release/bokeh-tables-0.12.10.min.css\");\n",
       "      Bokeh.embed.inject_css(\"https://cdn.pydata.org/bokeh/release/bokeh-tables-0.12.10.min.css\");\n",
       "    }\n",
       "  ];\n",
       "\n",
       "  function run_inline_js() {\n",
       "    \n",
       "    if ((root.Bokeh !== undefined) || (force === true)) {\n",
       "      for (var i = 0; i < inline_js.length; i++) {\n",
       "        inline_js[i].call(root, root.Bokeh);\n",
       "      }if (force === true) {\n",
       "        display_loaded();\n",
       "      }} else if (Date.now() < root._bokeh_timeout) {\n",
       "      setTimeout(run_inline_js, 100);\n",
       "    } else if (!root._bokeh_failed_load) {\n",
       "      console.log(\"Bokeh: BokehJS failed to load within specified timeout.\");\n",
       "      root._bokeh_failed_load = true;\n",
       "    } else if (force !== true) {\n",
       "      var cell = $(document.getElementById(\"b9c83111-5228-479f-a808-7a481fb514bc\")).parents('.cell').data().cell;\n",
       "      cell.output_area.append_execute_result(NB_LOAD_WARNING)\n",
       "    }\n",
       "\n",
       "  }\n",
       "\n",
       "  if (root._bokeh_is_loading === 0) {\n",
       "    console.log(\"Bokeh: BokehJS loaded, going straight to plotting\");\n",
       "    run_inline_js();\n",
       "  } else {\n",
       "    load_libs(js_urls, function() {\n",
       "      console.log(\"Bokeh: BokehJS plotting callback run at\", now());\n",
       "      run_inline_js();\n",
       "    });\n",
       "  }\n",
       "}(window));"
      ],
      "application/vnd.bokehjs_load.v0+json": "\n(function(root) {\n  function now() {\n    return new Date();\n  }\n\n  var force = true;\n\n  if (typeof (root._bokeh_onload_callbacks) === \"undefined\" || force === true) {\n    root._bokeh_onload_callbacks = [];\n    root._bokeh_is_loading = undefined;\n  }\n\n  \n\n  \n  if (typeof (root._bokeh_timeout) === \"undefined\" || force === true) {\n    root._bokeh_timeout = Date.now() + 5000;\n    root._bokeh_failed_load = false;\n  }\n\n  var NB_LOAD_WARNING = {'data': {'text/html':\n     \"<div style='background-color: #fdd'>\\n\"+\n     \"<p>\\n\"+\n     \"BokehJS does not appear to have successfully loaded. If loading BokehJS from CDN, this \\n\"+\n     \"may be due to a slow or bad network connection. Possible fixes:\\n\"+\n     \"</p>\\n\"+\n     \"<ul>\\n\"+\n     \"<li>re-rerun `output_notebook()` to attempt to load from CDN again, or</li>\\n\"+\n     \"<li>use INLINE resources instead, as so:</li>\\n\"+\n     \"</ul>\\n\"+\n     \"<code>\\n\"+\n     \"from bokeh.resources import INLINE\\n\"+\n     \"output_notebook(resources=INLINE)\\n\"+\n     \"</code>\\n\"+\n     \"</div>\"}};\n\n  function display_loaded() {\n    var el = document.getElementById(\"b9c83111-5228-479f-a808-7a481fb514bc\");\n    if (el != null) {\n      el.textContent = \"BokehJS is loading...\";\n    }\n    if (root.Bokeh !== undefined) {\n      if (el != null) {\n        el.textContent = \"BokehJS \" + root.Bokeh.version + \" successfully loaded.\";\n      }\n    } else if (Date.now() < root._bokeh_timeout) {\n      setTimeout(display_loaded, 100)\n    }\n  }\n\n\n  function run_callbacks() {\n    try {\n      root._bokeh_onload_callbacks.forEach(function(callback) { callback() });\n    }\n    finally {\n      delete root._bokeh_onload_callbacks\n    }\n    console.info(\"Bokeh: all callbacks have finished\");\n  }\n\n  function load_libs(js_urls, callback) {\n    root._bokeh_onload_callbacks.push(callback);\n    if (root._bokeh_is_loading > 0) {\n      console.log(\"Bokeh: BokehJS is being loaded, scheduling callback at\", now());\n      return null;\n    }\n    if (js_urls == null || js_urls.length === 0) {\n      run_callbacks();\n      return null;\n    }\n    console.log(\"Bokeh: BokehJS not loaded, scheduling load and callback at\", now());\n    root._bokeh_is_loading = js_urls.length;\n    for (var i = 0; i < js_urls.length; i++) {\n      var url = js_urls[i];\n      var s = document.createElement('script');\n      s.src = url;\n      s.async = false;\n      s.onreadystatechange = s.onload = function() {\n        root._bokeh_is_loading--;\n        if (root._bokeh_is_loading === 0) {\n          console.log(\"Bokeh: all BokehJS libraries loaded\");\n          run_callbacks()\n        }\n      };\n      s.onerror = function() {\n        console.warn(\"failed to load library \" + url);\n      };\n      console.log(\"Bokeh: injecting script tag for BokehJS library: \", url);\n      document.getElementsByTagName(\"head\")[0].appendChild(s);\n    }\n  };var element = document.getElementById(\"b9c83111-5228-479f-a808-7a481fb514bc\");\n  if (element == null) {\n    console.log(\"Bokeh: ERROR: autoload.js configured with elementid 'b9c83111-5228-479f-a808-7a481fb514bc' but no matching script tag was found. \")\n    return false;\n  }\n\n  var js_urls = [\"https://cdn.pydata.org/bokeh/release/bokeh-0.12.10.min.js\", \"https://cdn.pydata.org/bokeh/release/bokeh-widgets-0.12.10.min.js\", \"https://cdn.pydata.org/bokeh/release/bokeh-tables-0.12.10.min.js\", \"https://cdn.pydata.org/bokeh/release/bokeh-gl-0.12.10.min.js\"];\n\n  var inline_js = [\n    function(Bokeh) {\n      Bokeh.set_log_level(\"info\");\n    },\n    \n    function(Bokeh) {\n      \n    },\n    function(Bokeh) {\n      console.log(\"Bokeh: injecting CSS: https://cdn.pydata.org/bokeh/release/bokeh-0.12.10.min.css\");\n      Bokeh.embed.inject_css(\"https://cdn.pydata.org/bokeh/release/bokeh-0.12.10.min.css\");\n      console.log(\"Bokeh: injecting CSS: https://cdn.pydata.org/bokeh/release/bokeh-widgets-0.12.10.min.css\");\n      Bokeh.embed.inject_css(\"https://cdn.pydata.org/bokeh/release/bokeh-widgets-0.12.10.min.css\");\n      console.log(\"Bokeh: injecting CSS: https://cdn.pydata.org/bokeh/release/bokeh-tables-0.12.10.min.css\");\n      Bokeh.embed.inject_css(\"https://cdn.pydata.org/bokeh/release/bokeh-tables-0.12.10.min.css\");\n    }\n  ];\n\n  function run_inline_js() {\n    \n    if ((root.Bokeh !== undefined) || (force === true)) {\n      for (var i = 0; i < inline_js.length; i++) {\n        inline_js[i].call(root, root.Bokeh);\n      }if (force === true) {\n        display_loaded();\n      }} else if (Date.now() < root._bokeh_timeout) {\n      setTimeout(run_inline_js, 100);\n    } else if (!root._bokeh_failed_load) {\n      console.log(\"Bokeh: BokehJS failed to load within specified timeout.\");\n      root._bokeh_failed_load = true;\n    } else if (force !== true) {\n      var cell = $(document.getElementById(\"b9c83111-5228-479f-a808-7a481fb514bc\")).parents('.cell').data().cell;\n      cell.output_area.append_execute_result(NB_LOAD_WARNING)\n    }\n\n  }\n\n  if (root._bokeh_is_loading === 0) {\n    console.log(\"Bokeh: BokehJS loaded, going straight to plotting\");\n    run_inline_js();\n  } else {\n    load_libs(js_urls, function() {\n      console.log(\"Bokeh: BokehJS plotting callback run at\", now());\n      run_inline_js();\n    });\n  }\n}(window));"
     },
     "metadata": {},
     "output_type": "display_data"
    }
   ],
   "source": [
    "from bokeh.io import output_notebook, show\n",
    "from bokeh import plotting\n",
    "output_notebook()"
   ]
  },
  {
   "cell_type": "code",
   "execution_count": 96,
   "metadata": {},
   "outputs": [
    {
     "name": "stderr",
     "output_type": "stream",
     "text": [
      "/opt/conda/lib/python3.6/site-packages/bokeh/models/sources.py:137: BokehUserWarning: ColumnDataSource's columns must be of the same length. Current lengths: ('x', 234), ('y', 235)\n",
      "  \"Current lengths: %s\" % \", \".join(sorted(str((k, len(v))) for k, v in data.items())), BokehUserWarning))\n"
     ]
    },
    {
     "data": {
      "text/html": [
       "<div style=\"display: table;\"><div style=\"display: table-row;\"><div style=\"display: table-cell;\"><b title=\"bokeh.models.renderers.GlyphRenderer\">GlyphRenderer</b>(</div><div style=\"display: table-cell;\">id&nbsp;=&nbsp;'6665b4fb-1590-44f4-9daa-2fba1dfd01e6', <span id=\"dadfaf82-c813-41cf-85df-bc4c92284ada\" style=\"cursor: pointer;\">&hellip;)</span></div></div><div class=\"a7637c68-f1fc-4224-99b2-56900dfa3ce7\" style=\"display: none;\"><div style=\"display: table-cell;\"></div><div style=\"display: table-cell;\">data_source&nbsp;=&nbsp;ColumnDataSource(id='4cf2bfc2-60d6-4492-ac36-2aafbd62621f', ...),</div></div><div class=\"a7637c68-f1fc-4224-99b2-56900dfa3ce7\" style=\"display: none;\"><div style=\"display: table-cell;\"></div><div style=\"display: table-cell;\">glyph&nbsp;=&nbsp;Circle(id='6d734130-eb09-4b86-b93d-4919d9999dc6', ...),</div></div><div class=\"a7637c68-f1fc-4224-99b2-56900dfa3ce7\" style=\"display: none;\"><div style=\"display: table-cell;\"></div><div style=\"display: table-cell;\">hover_glyph&nbsp;=&nbsp;None,</div></div><div class=\"a7637c68-f1fc-4224-99b2-56900dfa3ce7\" style=\"display: none;\"><div style=\"display: table-cell;\"></div><div style=\"display: table-cell;\">js_event_callbacks&nbsp;=&nbsp;{},</div></div><div class=\"a7637c68-f1fc-4224-99b2-56900dfa3ce7\" style=\"display: none;\"><div style=\"display: table-cell;\"></div><div style=\"display: table-cell;\">js_property_callbacks&nbsp;=&nbsp;{},</div></div><div class=\"a7637c68-f1fc-4224-99b2-56900dfa3ce7\" style=\"display: none;\"><div style=\"display: table-cell;\"></div><div style=\"display: table-cell;\">level&nbsp;=&nbsp;'glyph',</div></div><div class=\"a7637c68-f1fc-4224-99b2-56900dfa3ce7\" style=\"display: none;\"><div style=\"display: table-cell;\"></div><div style=\"display: table-cell;\">muted&nbsp;=&nbsp;False,</div></div><div class=\"a7637c68-f1fc-4224-99b2-56900dfa3ce7\" style=\"display: none;\"><div style=\"display: table-cell;\"></div><div style=\"display: table-cell;\">muted_glyph&nbsp;=&nbsp;None,</div></div><div class=\"a7637c68-f1fc-4224-99b2-56900dfa3ce7\" style=\"display: none;\"><div style=\"display: table-cell;\"></div><div style=\"display: table-cell;\">name&nbsp;=&nbsp;None,</div></div><div class=\"a7637c68-f1fc-4224-99b2-56900dfa3ce7\" style=\"display: none;\"><div style=\"display: table-cell;\"></div><div style=\"display: table-cell;\">nonselection_glyph&nbsp;=&nbsp;Circle(id='daa402be-0a90-4c1d-a0d4-2abc2efba6ec', ...),</div></div><div class=\"a7637c68-f1fc-4224-99b2-56900dfa3ce7\" style=\"display: none;\"><div style=\"display: table-cell;\"></div><div style=\"display: table-cell;\">selection_glyph&nbsp;=&nbsp;None,</div></div><div class=\"a7637c68-f1fc-4224-99b2-56900dfa3ce7\" style=\"display: none;\"><div style=\"display: table-cell;\"></div><div style=\"display: table-cell;\">subscribed_events&nbsp;=&nbsp;[],</div></div><div class=\"a7637c68-f1fc-4224-99b2-56900dfa3ce7\" style=\"display: none;\"><div style=\"display: table-cell;\"></div><div style=\"display: table-cell;\">tags&nbsp;=&nbsp;[],</div></div><div class=\"a7637c68-f1fc-4224-99b2-56900dfa3ce7\" style=\"display: none;\"><div style=\"display: table-cell;\"></div><div style=\"display: table-cell;\">view&nbsp;=&nbsp;CDSView(id='a5533dec-78fa-4f9b-bba0-c480ecbbb3fb', ...),</div></div><div class=\"a7637c68-f1fc-4224-99b2-56900dfa3ce7\" style=\"display: none;\"><div style=\"display: table-cell;\"></div><div style=\"display: table-cell;\">visible&nbsp;=&nbsp;True,</div></div><div class=\"a7637c68-f1fc-4224-99b2-56900dfa3ce7\" style=\"display: none;\"><div style=\"display: table-cell;\"></div><div style=\"display: table-cell;\">x_range_name&nbsp;=&nbsp;'default',</div></div><div class=\"a7637c68-f1fc-4224-99b2-56900dfa3ce7\" style=\"display: none;\"><div style=\"display: table-cell;\"></div><div style=\"display: table-cell;\">y_range_name&nbsp;=&nbsp;'default')</div></div></div>\n",
       "<script>\n",
       "(function() {\n",
       "  var expanded = false;\n",
       "  var ellipsis = document.getElementById(\"dadfaf82-c813-41cf-85df-bc4c92284ada\");\n",
       "  ellipsis.addEventListener(\"click\", function() {\n",
       "    var rows = document.getElementsByClassName(\"a7637c68-f1fc-4224-99b2-56900dfa3ce7\");\n",
       "    for (var i = 0; i < rows.length; i++) {\n",
       "      var el = rows[i];\n",
       "      el.style.display = expanded ? \"none\" : \"table-row\";\n",
       "    }\n",
       "    ellipsis.innerHTML = expanded ? \"&hellip;)\" : \"&lsaquo;&lsaquo;&lsaquo;\";\n",
       "    expanded = !expanded;\n",
       "  });\n",
       "})();\n",
       "</script>\n"
      ],
      "text/plain": [
       "GlyphRenderer(id='6665b4fb-1590-44f4-9daa-2fba1dfd01e6', ...)"
      ]
     },
     "execution_count": 96,
     "metadata": {},
     "output_type": "execute_result"
    }
   ],
   "source": [
    "from bokeh.plotting import figure, output_file, show\n",
    "\n",
    "\n",
    "# prepare some data\n",
    "y = freq['freq'].tolist()\n",
    "x = range(1,235)\n",
    "#x=[ x/10 for x in range(1,100) ]\n",
    "#y0 = [1/i for i in x]\n",
    "#y1 = [10**i for i in x]\n",
    "#y2 = [10**(i**2) for i in x]\n",
    "\n",
    "# output to static HTML file\n",
    "\n",
    "\n",
    "# create a new plot\n",
    "p = figure(\n",
    "   tools=\"pan,box_zoom,reset,save\",\n",
    "   y_axis_type=\"linear\", y_range=[1,120], title=\"Zipf's law illustration\",\n",
    "   x_axis_label='words', y_axis_label='frequency', plot_width = 800, plot_height = 700\n",
    ")\n",
    "\n",
    "# add some renderers\n",
    "#p.line(x, x, legend=\"y=x\")\n",
    "#p.circle(x, x, legend=\"y=x\", fill_color=\"white\", size=8)\n",
    "p.line(x, y, legend=\"Zipf's law curve\", line_width=3)\n",
    "#p.line(x, y1, legend=\"y=10^x\", line_color=\"red\")\n",
    "p.circle(26, 14, legend=\"optimal point\", fill_color=\"red\", line_color=\"red\", size=7)\n",
    "#p.line(x, y2, legend=\"y=10^x^2\", line_color=\"orange\", line_dash=\"4 4\")"
   ]
  },
  {
   "cell_type": "code",
   "execution_count": 89,
   "metadata": {},
   "outputs": [
    {
     "data": {
      "text/plain": [
       "(235,)"
      ]
     },
     "execution_count": 89,
     "metadata": {},
     "output_type": "execute_result"
    }
   ],
   "source": [
    "freq['freq'].shape"
   ]
  },
  {
   "cell_type": "code",
   "execution_count": 97,
   "metadata": {},
   "outputs": [
    {
     "data": {
      "text/html": [
       "\n",
       "<div class=\"bk-root\">\n",
       "    <div class=\"bk-plotdiv\" id=\"803cb2a9-16c7-4ee7-afe7-db29e9e65e7a\"></div>\n",
       "</div>"
      ]
     },
     "metadata": {},
     "output_type": "display_data"
    },
    {
     "data": {
      "application/javascript": [
       "(function(root) {\n",
       "  function embed_document(root) {\n",
       "    var docs_json = {\"d383d2b8-f3a9-4db4-b13e-0280a6876e65\":{\"roots\":{\"references\":[{\"attributes\":{\"active_drag\":\"auto\",\"active_inspect\":\"auto\",\"active_scroll\":\"auto\",\"active_tap\":\"auto\",\"tools\":[{\"id\":\"2ebe7af0-7b13-4094-8f40-5198326ae551\",\"type\":\"PanTool\"},{\"id\":\"6e6981d7-5b19-445a-b0da-b7ddc6567923\",\"type\":\"BoxZoomTool\"},{\"id\":\"6b8cce97-bc23-468e-bdc7-bf6a995bb6e2\",\"type\":\"ResetTool\"},{\"id\":\"e8d8634e-6686-4887-a03d-f1e5b8459029\",\"type\":\"SaveTool\"}]},\"id\":\"e28bfc0e-d897-453b-b4d5-3c56751a0f40\",\"type\":\"Toolbar\"},{\"attributes\":{\"source\":{\"id\":\"e5fc6fff-58eb-475f-98f6-6e1e7a837bc1\",\"type\":\"ColumnDataSource\"}},\"id\":\"071def9f-e84e-4d5c-823a-a48e0952195d\",\"type\":\"CDSView\"},{\"attributes\":{\"source\":{\"id\":\"4cf2bfc2-60d6-4492-ac36-2aafbd62621f\",\"type\":\"ColumnDataSource\"}},\"id\":\"a5533dec-78fa-4f9b-bba0-c480ecbbb3fb\",\"type\":\"CDSView\"},{\"attributes\":{\"data_source\":{\"id\":\"4cf2bfc2-60d6-4492-ac36-2aafbd62621f\",\"type\":\"ColumnDataSource\"},\"glyph\":{\"id\":\"6d734130-eb09-4b86-b93d-4919d9999dc6\",\"type\":\"Circle\"},\"hover_glyph\":null,\"muted_glyph\":null,\"nonselection_glyph\":{\"id\":\"daa402be-0a90-4c1d-a0d4-2abc2efba6ec\",\"type\":\"Circle\"},\"selection_glyph\":null,\"view\":{\"id\":\"a5533dec-78fa-4f9b-bba0-c480ecbbb3fb\",\"type\":\"CDSView\"}},\"id\":\"6665b4fb-1590-44f4-9daa-2fba1dfd01e6\",\"type\":\"GlyphRenderer\"},{\"attributes\":{},\"id\":\"1f761fe2-02f8-4673-bf8c-e2d1125e27c6\",\"type\":\"LinearScale\"},{\"attributes\":{\"overlay\":{\"id\":\"6c97905e-684d-420f-be00-e12cf526bcaf\",\"type\":\"BoxAnnotation\"}},\"id\":\"6e6981d7-5b19-445a-b0da-b7ddc6567923\",\"type\":\"BoxZoomTool\"},{\"attributes\":{\"line_alpha\":{\"value\":0.1},\"line_color\":{\"value\":\"#1f77b4\"},\"line_width\":{\"value\":3},\"x\":{\"field\":\"x\"},\"y\":{\"field\":\"y\"}},\"id\":\"3ff5514a-f150-4968-9641-d9fe74e2aefd\",\"type\":\"Line\"},{\"attributes\":{\"items\":[{\"id\":\"0d5fd5da-103a-4eda-84d4-bde4b07908c9\",\"type\":\"LegendItem\"},{\"id\":\"245c9304-424c-4ee7-9cfa-92894a3ef8aa\",\"type\":\"LegendItem\"}],\"plot\":{\"id\":\"a5a50e9e-7390-45ca-b396-ede6629f808a\",\"subtype\":\"Figure\",\"type\":\"Plot\"}},\"id\":\"8174f661-51b9-4ba5-9bb9-3efc91f531bd\",\"type\":\"Legend\"},{\"attributes\":{\"plot\":null,\"text\":\"Zipf's law illustration\"},\"id\":\"7c66ce27-1b9b-4dd0-8453-a29d40a8a5c1\",\"type\":\"Title\"},{\"attributes\":{\"line_color\":{\"value\":\"#1f77b4\"},\"line_width\":{\"value\":3},\"x\":{\"field\":\"x\"},\"y\":{\"field\":\"y\"}},\"id\":\"2fcebc13-72df-4c8f-ba68-590b350c4cbd\",\"type\":\"Line\"},{\"attributes\":{},\"id\":\"4a3d5260-f880-4dad-91ba-9154051ceee1\",\"type\":\"BasicTickFormatter\"},{\"attributes\":{},\"id\":\"6b8cce97-bc23-468e-bdc7-bf6a995bb6e2\",\"type\":\"ResetTool\"},{\"attributes\":{\"label\":{\"value\":\"optimal point\"},\"renderers\":[{\"id\":\"6665b4fb-1590-44f4-9daa-2fba1dfd01e6\",\"type\":\"GlyphRenderer\"}]},\"id\":\"245c9304-424c-4ee7-9cfa-92894a3ef8aa\",\"type\":\"LegendItem\"},{\"attributes\":{},\"id\":\"d094f87d-9464-40f2-8c93-e4cb82d3a4f7\",\"type\":\"BasicTicker\"},{\"attributes\":{\"fill_color\":{\"value\":\"red\"},\"line_color\":{\"value\":\"red\"},\"size\":{\"units\":\"screen\",\"value\":7},\"x\":{\"value\":26},\"y\":{\"value\":14}},\"id\":\"6d734130-eb09-4b86-b93d-4919d9999dc6\",\"type\":\"Circle\"},{\"attributes\":{\"callback\":null,\"column_names\":[\"x\",\"y\"],\"data\":{\"x\":[1,2,3,4,5,6,7,8,9,10,11,12,13,14,15,16,17,18,19,20,21,22,23,24,25,26,27,28,29,30,31,32,33,34,35,36,37,38,39,40,41,42,43,44,45,46,47,48,49,50,51,52,53,54,55,56,57,58,59,60,61,62,63,64,65,66,67,68,69,70,71,72,73,74,75,76,77,78,79,80,81,82,83,84,85,86,87,88,89,90,91,92,93,94,95,96,97,98,99,100,101,102,103,104,105,106,107,108,109,110,111,112,113,114,115,116,117,118,119,120,121,122,123,124,125,126,127,128,129,130,131,132,133,134,135,136,137,138,139,140,141,142,143,144,145,146,147,148,149,150,151,152,153,154,155,156,157,158,159,160,161,162,163,164,165,166,167,168,169,170,171,172,173,174,175,176,177,178,179,180,181,182,183,184,185,186,187,188,189,190,191,192,193,194,195,196,197,198,199,200,201,202,203,204,205,206,207,208,209,210,211,212,213,214,215,216,217,218,219,220,221,222,223,224,225,226,227,228,229,230,231,232,233,234],\"y\":[240,96,93,83,63,61,52,50,49,48,48,48,38,32,31,31,29,29,26,23,20,20,20,18,15,15,14,13,13,12,12,12,12,12,11,11,11,11,11,11,11,11,11,11,11,11,10,10,10,10,10,10,10,9,9,9,9,9,9,8,8,8,8,8,6,6,6,6,6,5,5,5,5,4,4,4,4,4,4,4,4,4,4,4,4,4,4,4,4,4,4,4,4,4,4,4,4,3,3,3,3,3,3,3,3,2,2,2,2,2,2,2,2,2,2,2,2,2,2,2,2,2,2,2,2,2,2,2,2,2,2,2,2,2,2,1,1,1,1,1,1,1,1,1,1,1,1,1,1,1,1,1,1,1,1,1,1,1,1,1,1,1,1,1,1,1,1,1,1,1,1,1,1,1,1,1,1,1,1,1,1,1,1,1,1,1,1,1,1,1,1,1,1,1,1,1,1,1,1,1,1,1,1,1,1,1,1,1,1,1,1,1,1,1,1,1,1,1,1,1,1,1,1,1,1,1,1,1,1,1,1,1,1,1,1]}},\"id\":\"e5fc6fff-58eb-475f-98f6-6e1e7a837bc1\",\"type\":\"ColumnDataSource\"},{\"attributes\":{\"bottom_units\":\"screen\",\"fill_alpha\":{\"value\":0.5},\"fill_color\":{\"value\":\"lightgrey\"},\"left_units\":\"screen\",\"level\":\"overlay\",\"line_alpha\":{\"value\":1.0},\"line_color\":{\"value\":\"black\"},\"line_dash\":[4,4],\"line_width\":{\"value\":2},\"plot\":null,\"render_mode\":\"css\",\"right_units\":\"screen\",\"top_units\":\"screen\"},\"id\":\"6c97905e-684d-420f-be00-e12cf526bcaf\",\"type\":\"BoxAnnotation\"},{\"attributes\":{\"below\":[{\"id\":\"433ebd4c-5947-46f5-bd52-29448fbcba3d\",\"type\":\"LinearAxis\"}],\"left\":[{\"id\":\"95028392-e46a-4513-89c3-ded04fe7bb85\",\"type\":\"LinearAxis\"}],\"plot_height\":700,\"plot_width\":800,\"renderers\":[{\"id\":\"433ebd4c-5947-46f5-bd52-29448fbcba3d\",\"type\":\"LinearAxis\"},{\"id\":\"dd7ca4df-95ca-4642-9324-47bc4fb0ec60\",\"type\":\"Grid\"},{\"id\":\"95028392-e46a-4513-89c3-ded04fe7bb85\",\"type\":\"LinearAxis\"},{\"id\":\"d219ca81-772c-4cce-a3fc-7ff226a14bf2\",\"type\":\"Grid\"},{\"id\":\"6c97905e-684d-420f-be00-e12cf526bcaf\",\"type\":\"BoxAnnotation\"},{\"id\":\"8174f661-51b9-4ba5-9bb9-3efc91f531bd\",\"type\":\"Legend\"},{\"id\":\"cb1da22d-7c63-486b-a575-15e1e705e693\",\"type\":\"GlyphRenderer\"},{\"id\":\"6665b4fb-1590-44f4-9daa-2fba1dfd01e6\",\"type\":\"GlyphRenderer\"}],\"title\":{\"id\":\"7c66ce27-1b9b-4dd0-8453-a29d40a8a5c1\",\"type\":\"Title\"},\"toolbar\":{\"id\":\"e28bfc0e-d897-453b-b4d5-3c56751a0f40\",\"type\":\"Toolbar\"},\"x_range\":{\"id\":\"eca5ca83-7d3e-43c5-9538-4eb12a7f8c10\",\"type\":\"DataRange1d\"},\"x_scale\":{\"id\":\"d39ba335-b748-4bff-8bb7-f9f505b49f7c\",\"type\":\"LinearScale\"},\"y_range\":{\"id\":\"c8829c48-6ade-4493-ab7e-63b5558ed9b0\",\"type\":\"Range1d\"},\"y_scale\":{\"id\":\"1f761fe2-02f8-4673-bf8c-e2d1125e27c6\",\"type\":\"LinearScale\"}},\"id\":\"a5a50e9e-7390-45ca-b396-ede6629f808a\",\"subtype\":\"Figure\",\"type\":\"Plot\"},{\"attributes\":{\"callback\":null,\"data\":{}},\"id\":\"4cf2bfc2-60d6-4492-ac36-2aafbd62621f\",\"type\":\"ColumnDataSource\"},{\"attributes\":{\"dimension\":1,\"plot\":{\"id\":\"a5a50e9e-7390-45ca-b396-ede6629f808a\",\"subtype\":\"Figure\",\"type\":\"Plot\"},\"ticker\":{\"id\":\"d094f87d-9464-40f2-8c93-e4cb82d3a4f7\",\"type\":\"BasicTicker\"}},\"id\":\"d219ca81-772c-4cce-a3fc-7ff226a14bf2\",\"type\":\"Grid\"},{\"attributes\":{},\"id\":\"2ebe7af0-7b13-4094-8f40-5198326ae551\",\"type\":\"PanTool\"},{\"attributes\":{\"plot\":{\"id\":\"a5a50e9e-7390-45ca-b396-ede6629f808a\",\"subtype\":\"Figure\",\"type\":\"Plot\"},\"ticker\":{\"id\":\"3ab0a480-4d87-487e-a9fa-7e90b1b4c653\",\"type\":\"BasicTicker\"}},\"id\":\"dd7ca4df-95ca-4642-9324-47bc4fb0ec60\",\"type\":\"Grid\"},{\"attributes\":{\"callback\":null,\"end\":120,\"start\":1},\"id\":\"c8829c48-6ade-4493-ab7e-63b5558ed9b0\",\"type\":\"Range1d\"},{\"attributes\":{},\"id\":\"e8d8634e-6686-4887-a03d-f1e5b8459029\",\"type\":\"SaveTool\"},{\"attributes\":{\"data_source\":{\"id\":\"e5fc6fff-58eb-475f-98f6-6e1e7a837bc1\",\"type\":\"ColumnDataSource\"},\"glyph\":{\"id\":\"2fcebc13-72df-4c8f-ba68-590b350c4cbd\",\"type\":\"Line\"},\"hover_glyph\":null,\"muted_glyph\":null,\"nonselection_glyph\":{\"id\":\"3ff5514a-f150-4968-9641-d9fe74e2aefd\",\"type\":\"Line\"},\"selection_glyph\":null,\"view\":{\"id\":\"071def9f-e84e-4d5c-823a-a48e0952195d\",\"type\":\"CDSView\"}},\"id\":\"cb1da22d-7c63-486b-a575-15e1e705e693\",\"type\":\"GlyphRenderer\"},{\"attributes\":{\"fill_alpha\":{\"value\":0.1},\"fill_color\":{\"value\":\"#1f77b4\"},\"line_alpha\":{\"value\":0.1},\"line_color\":{\"value\":\"#1f77b4\"},\"size\":{\"units\":\"screen\",\"value\":7},\"x\":{\"value\":26},\"y\":{\"value\":14}},\"id\":\"daa402be-0a90-4c1d-a0d4-2abc2efba6ec\",\"type\":\"Circle\"},{\"attributes\":{\"axis_label\":\"frequency\",\"formatter\":{\"id\":\"14332f70-e9e4-47e0-991a-8f7523052579\",\"type\":\"BasicTickFormatter\"},\"plot\":{\"id\":\"a5a50e9e-7390-45ca-b396-ede6629f808a\",\"subtype\":\"Figure\",\"type\":\"Plot\"},\"ticker\":{\"id\":\"d094f87d-9464-40f2-8c93-e4cb82d3a4f7\",\"type\":\"BasicTicker\"}},\"id\":\"95028392-e46a-4513-89c3-ded04fe7bb85\",\"type\":\"LinearAxis\"},{\"attributes\":{\"label\":{\"value\":\"Zipf's law curve\"},\"renderers\":[{\"id\":\"cb1da22d-7c63-486b-a575-15e1e705e693\",\"type\":\"GlyphRenderer\"}]},\"id\":\"0d5fd5da-103a-4eda-84d4-bde4b07908c9\",\"type\":\"LegendItem\"},{\"attributes\":{\"callback\":null},\"id\":\"eca5ca83-7d3e-43c5-9538-4eb12a7f8c10\",\"type\":\"DataRange1d\"},{\"attributes\":{},\"id\":\"d39ba335-b748-4bff-8bb7-f9f505b49f7c\",\"type\":\"LinearScale\"},{\"attributes\":{},\"id\":\"3ab0a480-4d87-487e-a9fa-7e90b1b4c653\",\"type\":\"BasicTicker\"},{\"attributes\":{},\"id\":\"14332f70-e9e4-47e0-991a-8f7523052579\",\"type\":\"BasicTickFormatter\"},{\"attributes\":{\"axis_label\":\"words\",\"formatter\":{\"id\":\"4a3d5260-f880-4dad-91ba-9154051ceee1\",\"type\":\"BasicTickFormatter\"},\"plot\":{\"id\":\"a5a50e9e-7390-45ca-b396-ede6629f808a\",\"subtype\":\"Figure\",\"type\":\"Plot\"},\"ticker\":{\"id\":\"3ab0a480-4d87-487e-a9fa-7e90b1b4c653\",\"type\":\"BasicTicker\"}},\"id\":\"433ebd4c-5947-46f5-bd52-29448fbcba3d\",\"type\":\"LinearAxis\"}],\"root_ids\":[\"a5a50e9e-7390-45ca-b396-ede6629f808a\"]},\"title\":\"Bokeh Application\",\"version\":\"0.12.10\"}};\n",
       "    var render_items = [{\"docid\":\"d383d2b8-f3a9-4db4-b13e-0280a6876e65\",\"elementid\":\"803cb2a9-16c7-4ee7-afe7-db29e9e65e7a\",\"modelid\":\"a5a50e9e-7390-45ca-b396-ede6629f808a\"}];\n",
       "\n",
       "    root.Bokeh.embed.embed_items(docs_json, render_items);\n",
       "  }\n",
       "\n",
       "  if (root.Bokeh !== undefined) {\n",
       "    embed_document(root);\n",
       "  } else {\n",
       "    var attempts = 0;\n",
       "    var timer = setInterval(function(root) {\n",
       "      if (root.Bokeh !== undefined) {\n",
       "        embed_document(root);\n",
       "        clearInterval(timer);\n",
       "      }\n",
       "      attempts++;\n",
       "      if (attempts > 100) {\n",
       "        console.log(\"Bokeh: ERROR: Unable to embed document because BokehJS library is missing\")\n",
       "        clearInterval(timer);\n",
       "      }\n",
       "    }, 10, root)\n",
       "  }\n",
       "})(window);"
      ],
      "application/vnd.bokehjs_exec.v0+json": ""
     },
     "metadata": {
      "application/vnd.bokehjs_exec.v0+json": {
       "id": "a5a50e9e-7390-45ca-b396-ede6629f808a"
      }
     },
     "output_type": "display_data"
    }
   ],
   "source": [
    "show(p)"
   ]
  },
  {
   "cell_type": "code",
   "execution_count": 15,
   "metadata": {},
   "outputs": [
    {
     "data": {
      "text/plain": [
       "[<matplotlib.lines.Line2D at 0x7f08a0347e10>]"
      ]
     },
     "execution_count": 15,
     "metadata": {},
     "output_type": "execute_result"
    },
    {
     "data": {
      "image/png": "[encoded data removed]",
      "text/plain": [
       "<matplotlib.figure.Figure at 0x7f08a058cef0>"
      ]
     },
     "metadata": {},
     "output_type": "display_data"
    }
   ],
   "source": [
    "import matplotlib.pyplot as plt\n",
    "\n",
    "major_ticks = np.arange(0, 200, 5)                                        \n",
    "minor_ticks = np.arange(0, 200, 5)      \n",
    "fig = plt.figure()\n",
    "\n",
    "ax = fig.add_subplot(111)\n",
    "\n",
    "ax.set_xticks(major_ticks)                                                       \n",
    "ax.set_xticks(minor_ticks, minor=True)                                           \n",
    "ax.set_yticks(major_ticks)                                                       \n",
    "ax.set_yticks(minor_ticks, minor=True)                                           \n",
    "\n",
    "# and a corresponding grid                                                       \n",
    "\n",
    "ax.grid(which='both')                                                            \n",
    "\n",
    "# or if you want differnet settings for the grids:                               \n",
    "ax.grid(which='minor', alpha=0.2)                                                \n",
    "ax.grid(which='major', alpha=0.5)                                                \n",
    "\n",
    "\n",
    "#plt.grid(color='b', linestyle='-', linewidth=1, alpha =0.3)\n",
    "plt.plot(freq['freq'].tolist()[10:200])\n"
   ]
  },
  {
   "cell_type": "code",
   "execution_count": 16,
   "metadata": {
    "collapsed": true
   },
   "outputs": [],
   "source": [
    "ux = []\n",
    "uy = []\n",
    "d = []\n",
    "nomer = []\n",
    "y = freq['freq'].tolist()\n",
    "x = range(1,len(freq['freq'])+1)\n",
    "for i in range(len(x)-2):\n",
    "    d.append(2*(x[i]*(y[i+1]-y[i+2]) + x[i+1]*(y[i+2]-y[i])+x[i+2]*(y[i]-y[i+1])))\n",
    "    if d[i] !=0:\n",
    "        ux.append(((x[i]**2+y[i]**2)*(y[i+1]-y[i+2])+(x[i+1]**2+y[i+1]**2)*(y[i+2]-y[i])+(x[i+2]**2+y[i+2])*(y[i]-y[i+1]))/d[i])\n",
    "        uy.append(((x[i]**2+y[i]**2)*(x[i+2]-x[i+1])+(x[i+1]**2+y[i+1]**2)*(x[i]-x[i+2])+(x[i+2]**2+y[i+2])*(x[i+1]-x[i]))/d[i])\n",
    "        nomer.append(i)"
   ]
  },
  {
   "cell_type": "code",
   "execution_count": 95,
   "metadata": {},
   "outputs": [
    {
     "data": {
      "text/plain": [
       "array([14, 'health'], dtype=object)"
      ]
     },
     "execution_count": 95,
     "metadata": {},
     "output_type": "execute_result"
    }
   ],
   "source": [
    "freq.values[26]"
   ]
  },
  {
   "cell_type": "code",
   "execution_count": 93,
   "metadata": {},
   "outputs": [
    {
     "name": "stdout",
     "output_type": "stream",
     "text": [
      "26\n"
     ]
    },
    {
     "data": {
      "image/png": "[encoded data removed]",
      "text/plain": [
       "<matplotlib.figure.Figure at 0x7f089eb7b978>"
      ]
     },
     "metadata": {},
     "output_type": "display_data"
    }
   ],
   "source": [
    "r = []\n",
    "for i in range(len(nomer)):\n",
    "    r.append(((ux[i]*-x[i])**2+(uy[i]*-y[i])**2)**0.5)\n",
    "    \n",
    "min(r)\n",
    "print(np.argmin(r))\n",
    "\n",
    "plt.scatter(range(1+40,len(r)),r[1-1+40:len(r)-1],s=1)\n",
    "#plt.plot((0, 8), (10, 10), 'k-')\n",
    "\n",
    "plt.show()"
   ]
  },
  {
   "cell_type": "code",
   "execution_count": 18,
   "metadata": {
    "collapsed": true
   },
   "outputs": [],
   "source": [
    "#выбираем нужные слова\n",
    "features =freq.reset_index(drop=True)[70:220]\n",
    "#спиоск фич\n",
    "features_list = features.T.iloc[1].tolist()"
   ]
  },
  {
   "cell_type": "code",
   "execution_count": 19,
   "metadata": {
    "collapsed": true
   },
   "outputs": [],
   "source": [
    "# Достаем индексы фич\n",
    "index_features=[]\n",
    "for i, j in enumerate(vocabulary):\n",
    "    if j in features_list:\n",
    "        index_features.append(i)\n",
    "#Матрица финальная\n",
    "dtm2 =dtm.T[:, index_features]\n",
    "dtm2=dtm2.T"
   ]
  },
  {
   "cell_type": "code",
   "execution_count": 53,
   "metadata": {},
   "outputs": [
    {
     "data": {
      "text/plain": [
       "array([[0, 1, 0, ..., 0, 0, 0],\n",
       "       [0, 0, 0, ..., 0, 0, 0],\n",
       "       [0, 0, 0, ..., 0, 0, 0],\n",
       "       ..., \n",
       "       [0, 0, 0, ..., 0, 0, 0],\n",
       "       [0, 0, 0, ..., 0, 0, 0],\n",
       "       [0, 0, 0, ..., 0, 0, 0]], dtype=int64)"
      ]
     },
     "execution_count": 53,
     "metadata": {},
     "output_type": "execute_result"
    }
   ],
   "source": []
  },
  {
   "cell_type": "code",
   "execution_count": 36,
   "metadata": {},
   "outputs": [
    {
     "name": "stdout",
     "output_type": "stream",
     "text": [
      "clust= 8 silh= 0.407109784983\n"
     ]
    }
   ],
   "source": [
    "#Кластеризация\n",
    "x=[]\n",
    "y=[]\n",
    "clusters=8\n",
    "kmean = KMeans(n_clusters=clusters)\n",
    "rez=kmean.fit_predict(dtm2) \n",
    "silhouette_avg = silhouette_score(dtm2, rez)\n",
    "x.append(clusters)\n",
    "y.append(silhouette_avg)\n",
    "print('clust=',clusters,'silh=',silhouette_avg)"
   ]
  },
  {
   "cell_type": "code",
   "execution_count": 43,
   "metadata": {},
   "outputs": [
    {
     "name": "stdout",
     "output_type": "stream",
     "text": [
      "  \n",
      "  \n",
      "  \n",
      "  \n",
      "  \n",
      "  \n",
      "  \n",
      "  \n"
     ]
    }
   ],
   "source": [
    "#Слова в кластеры\n",
    "\n",
    "d = {'rez': rez, 'vocabulary': features_list}\n",
    "df = pd.DataFrame(data=d)\n",
    "#Слова в кластеры\n",
    "chili_words= []\n",
    "result =  df.groupby('rez')['vocabulary'].apply(lambda x: \"%s\" % ', '.join(x))\n",
    "for i in result:\n",
    "    chili_words.append(len(i.split(', ')))\n",
    "    print('  ')"
   ]
  },
  {
   "cell_type": "code",
   "execution_count": 44,
   "metadata": {},
   "outputs": [
    {
     "data": {
      "text/plain": [
       "[55, 3, 29, 2, 2, 2, 43, 14]"
      ]
     },
     "execution_count": 44,
     "metadata": {},
     "output_type": "execute_result"
    }
   ],
   "source": [
    "chili_words"
   ]
  },
  {
   "cell_type": "code",
   "execution_count": 60,
   "metadata": {
    "collapsed": true
   },
   "outputs": [],
   "source": [
    "#Расширяем и доваляем синонинмы\n",
    "result_with_sin= result\n"
   ]
  },
  {
   "cell_type": "code",
   "execution_count": 61,
   "metadata": {},
   "outputs": [
    {
     "data": {
      "text/plain": [
       "13"
      ]
     },
     "execution_count": 61,
     "metadata": {},
     "output_type": "execute_result"
    }
   ],
   "source": [
    "a = [[3,3],[13,31]]\n",
    "a[1][0]"
   ]
  },
  {
   "cell_type": "code",
   "execution_count": 77,
   "metadata": {
    "collapsed": true
   },
   "outputs": [],
   "source": [
    "result_with_syn = []\n",
    "for i, j in enumerate(result.tolist()):\n",
    "    result_with_syn.append(j)\n",
    "#делаем список списков result_with_syn\n",
    "for i,j in enumerate(result_with_syn):\n",
    "    result_with_syn[i] = j.split(', ')"
   ]
  },
  {
   "cell_type": "code",
   "execution_count": 81,
   "metadata": {
    "collapsed": true
   },
   "outputs": [],
   "source": [
    "def get_syns(word):\n",
    "    ad=[]\n",
    "    for synset in wn.synsets(word):\n",
    "        for lemma in synset.lemmas():\n",
    "            ad.append(lemma.name())\n",
    "    return  ', '.join(list(set(ad)))\n"
   ]
  },
  {
   "cell_type": "code",
   "execution_count": 80,
   "metadata": {},
   "outputs": [
    {
     "data": {
      "text/plain": [
       "['budgetary',\n",
       " 'consolidated',\n",
       " 'osmium',\n",
       " 'foreign',\n",
       " 'trade',\n",
       " 'complextype',\n",
       " 'municipality',\n",
       " 'real']"
      ]
     },
     "execution_count": 80,
     "metadata": {},
     "output_type": "execute_result"
    }
   ],
   "source": [
    "result_with_syn[0]"
   ]
  },
  {
   "cell_type": "code",
   "execution_count": 66,
   "metadata": {
    "collapsed": true
   },
   "outputs": [],
   "source": [
    "result_with_syn_2=result_with_syn"
   ]
  },
  {
   "cell_type": "code",
   "execution_count": 134,
   "metadata": {
    "collapsed": true
   },
   "outputs": [],
   "source": [
    "f = open('workfile', 'w')\n",
    "for i in [['k','as'],['k','aas']]:\n",
    "    for a in i:\n",
    "        f.write(a+' ')\n",
    "    f.write('\\n')\n",
    "f.close()"
   ]
  },
  {
   "cell_type": "code",
   "execution_count": null,
   "metadata": {
    "collapsed": true
   },
   "outputs": [],
   "source": [
    "f.read()\n",
    "'This is the entire file.\\n'\n",
    "f.read()"
   ]
  },
  {
   "cell_type": "code",
   "execution_count": 82,
   "metadata": {
    "collapsed": true
   },
   "outputs": [
    {
     "name": "stdout",
     "output_type": "stream",
     "text": [
      "0 0 budgetary\n",
      "0 1 consolidated\n",
      "0 2 osmium\n",
      "0 3 foreign\n",
      "0 4 trade\n",
      "0 5 complextype\n",
      "0 6 municipality\n",
      "0 7 real\n",
      "1 0 sector\n",
      "1 1 document\n",
      "1 2 accounting\n",
      "1 3 inspection\n",
      "1 4 quot\n",
      "1 5 diamond\n",
      "1 6 external\n",
      "1 7 room\n",
      "1 8 position\n",
      "1 9 enter\n",
      "1 10 wastes\n",
      "1 11 anti\n",
      "1 12 law\n",
      "1 13 fax\n",
      "1 14 standardversion\n",
      "1 15 entered\n",
      "2 0 object\n",
      "2 1 responsible\n",
      "2 2 symptom\n",
      "2 3 budgets\n",
      "2 4 planning\n",
      "2 5 obligation\n",
      "2 6 iridium\n",
      "2 7 ruthenium\n",
      "2 8 readable\n",
      "2 9 register\n",
      "2 10 report\n",
      "2 11 spent\n",
      "2 12 receipt\n",
      "3 0 qualification\n",
      "3 1 current\n",
      "3 2 palladium\n",
      "3 3 services\n",
      "3 4 product\n",
      "4 0 set\n",
      "4 1 statistical\n",
      "4 2 address\n",
      "4 3 activity\n",
      "4 4 classification\n",
      "4 5 union\n",
      "4 6 structure\n",
      "4 7 control\n",
      "4 8 work\n",
      "4 9 internal\n",
      "4 10 institution\n",
      "4 11 order\n",
      "4 12 reconstruct\n",
      "4 13 certificate\n",
      "4 14 flow\n",
      "4 15 result\n",
      "4 16 term\n",
      "4 17 tax\n",
      "4 18 payment\n",
      "4 19 functional\n",
      "4 20 incision\n",
      "4 21 activities\n",
      "4 22 loss\n",
      "4 23 compilation\n",
      "4 24 direction\n",
      "4 25 request\n",
      "4 26 target\n",
      "4 27 thous\n",
      "4 28 spend\n",
      "4 29 execution\n",
      "4 30 bank\n",
      "4 31 date\n",
      "4 32 republican\n",
      "4 33 department\n",
      "4 34 synthetic\n",
      "4 35 test\n",
      "4 36 head\n",
      "4 37 supplier\n",
      "4 38 natural\n",
      "4 39 rhodium\n",
      "4 40 сonsecutive\n",
      "4 41 processing\n",
      "4 42 include\n",
      "4 43 contained\n",
      "4 44 support\n",
      "4 45 requirement\n",
      "4 46 procurement\n",
      "4 47 production\n",
      "4 48 size\n",
      "4 49 january\n",
      "4 50 authority\n",
      "4 51 guarantee\n",
      "4 52 purchase\n",
      "4 53 open\n",
      "4 54 registration\n",
      "4 55 entity\n",
      "4 56 mail\n",
      "4 57 http\n",
      "4 58 phone\n",
      "4 59 analytical\n",
      "4 60 gavalec\n",
      "4 61 normative\n",
      "4 62 category\n",
      "4 63 program\n",
      "4 64 loan\n",
      "4 65 shipped\n",
      "4 66 refining\n",
      "4 67 processed\n",
      "4 68 withdrawal\n",
      "4 69 standard\n",
      "4 70 identification\n",
      "4 71 issue\n",
      "4 72 feature\n",
      "4 73 text\n",
      "4 74 statutory\n",
      "4 75 main\n",
      "4 76 value\n",
      "4 77 leader\n",
      "4 78 fund\n",
      "4 79 sequence\n",
      "4 80 planned\n",
      "4 81 corruption\n",
      "4 82 securities\n",
      "4 83 official\n",
      "4 84 carry\n",
      "4 85 item\n",
      "4 86 source\n",
      "4 87 check\n",
      "4 88 executive\n",
      "4 89 month\n",
      "4 90 credit\n",
      "4 91 provision\n",
      "4 92 approve\n",
      "4 93 expertise\n",
      "4 94 opinion\n",
      "4 95 application\n",
      "4 96 opendata\n",
      "4 97 emerald\n",
      "5 0 process\n",
      "5 1 expense\n",
      "5 2 contractor\n",
      "5 3 ship\n",
      "5 4 article\n",
      "5 5 municipal\n",
      "5 6 paragraph\n",
      "5 7 ratio\n",
      "6 0 waste\n",
      "6 1 schedule\n"
     ]
    }
   ],
   "source": [
    "for i,j in enumerate(result_with_syn):\n",
    "    #print(i,j)\n",
    "    for k,l in enumerate(j):\n",
    "        #result_with_syn[i].append(j) #апендим синонимы\n",
    "        #print(i,k,l)\n",
    "        result_with_syn[i][k]=get_syns(l)\n",
    "#result_with_syn_2[:2]"
   ]
  },
  {
   "cell_type": "code",
   "execution_count": 85,
   "metadata": {},
   "outputs": [
    {
     "data": {
      "text/plain": [
       "'real, rattling, really, tangible, veridical, material, substantial, very, genuine, literal, existent, real_number, actual'"
      ]
     },
     "execution_count": 85,
     "metadata": {},
     "output_type": "execute_result"
    }
   ],
   "source": [
    "get_syns('real')"
   ]
  },
  {
   "cell_type": "code",
   "execution_count": 135,
   "metadata": {
    "collapsed": true
   },
   "outputs": [
    {
     "data": {
      "text/plain": [
       "[['budgetary',\n",
       "  'amalgamate, fused, consolidate, consolidated, amalgamated, coalesced',\n",
       "  'osmium, atomic_number_76, Os',\n",
       "  'foreign, strange, alien, extraneous',\n",
       "  'switch, swap, swop, merchandise, patronage, craft, business_deal, trade, trade_in, trade_wind, deal, barter, sell',\n",
       "  '',\n",
       "  'municipality',\n",
       "  'real, rattling, really, tangible, veridical, material, substantial, very, genuine, literal, existent, real_number, actual'],\n",
       " ['sector, sphere',\n",
       "  'written_document, document, text_file, papers',\n",
       "  'describe, answer_for, accounting, accountancy, method_of_accounting, account_statement, accounting_system, report, calculate, account',\n",
       "  'inspection, review',\n",
       "  '',\n",
       "  'baseball_field, infield, diamond, ball_field, rhombus, baseball_diamond, rhomb, adamant',\n",
       "  'external, outside, international, extraneous',\n",
       "  'elbow_room, room, way, board',\n",
       "  'put, perspective, attitude, billet, place, stead, post, positioning, set, berth, view, situation, placement, office, locating, military_position, posture, emplacement, spatial_relation, location, status, side, stance, pose, position, lieu, lay, spot',\n",
       "  'recruit, come_in, introduce, accede, move_into, record, insert, go_in, put_down, enrol, get_into, go_into, enroll, enter, inscribe, figure, embark, get_in, participate, infix',\n",
       "  'wastefulness, consume, languish, macerate, knock_off, neutralize, barren, run_off, neutralise, scourge, squander, liquidate, wasteland, lay_waste_to, ravage, thriftlessness, rot, blow, waste_product, waste_material, waste_matter, waste, dissipation, pine_away, ware, permissive_waste, emaciate, do_in, devastate, desolate',\n",
       "  'anti',\n",
       "  'legal_philosophy, law, police_force, jurisprudence, constabulary, practice_of_law, natural_law, police, law_of_nature',\n",
       "  'fax, telefax, facsimile, facsimile_machine',\n",
       "  '',\n",
       "  'recruit, come_in, introduce, accede, move_into, record, insert, go_in, put_down, enrol, get_into, go_into, enroll, enter, inscribe, figure, embark, get_in, participate, infix'],\n",
       " ['target, aim, physical_object, object, objective',\n",
       "  'responsible_for, responsible, creditworthy',\n",
       "  'symptom',\n",
       "  'budget',\n",
       "  'design, be_after, preparation, planning, project, plan, contrive, provision',\n",
       "  'responsibility, debt_instrument, duty, obligation, indebtedness, certificate_of_indebtedness',\n",
       "  'iridium, Ir, atomic_number_77',\n",
       "  'atomic_number_44, ruthenium, Ru',\n",
       "  'decipherable, readable, clear',\n",
       "  'file, read, cash_register, record, register, registry, cross-file, show',\n",
       "  'study, news_report, describe, written_report, story, paper, report, theme, reputation, write_up, cover, report_card, composition, account',\n",
       "  'pass, spent, worn_out, washed-out, dog-tired, expend, spend, drop, played_out, worn-out, fatigued, exhausted, fagged',\n",
       "  'acknowledge, reception, receipt'],\n",
       " ['reservation, qualification, making',\n",
       "  'stream, current, flow, electric_current',\n",
       "  'atomic_number_46, palladium, Pd',\n",
       "  'avail, Robert_William_Service, services, religious_service, divine_service, overhaul, inspection_and_repair, serving, service, table_service, servicing, military_service, help, serve, Service, armed_service, service_of_process',\n",
       "  'intersection, ware, production, merchandise, Cartesian_product, mathematical_product, product'],\n",
       " ['plant, put, hardened, situated, limit, lay_out, adjust, countersink, do, place, set_up, readiness, fit, Set, stage_set, jell, hardening, rig, circle, localise, coif, laid, fructify, dictated, specify, placed, primed, band, mark, fix, lot, go_under, go_down, define, bent, gear_up, fixed, determined, solidification, prepare, coiffure, determine, rigid, localize, coiffe, ready, sic, congeal, dress, solidifying, arrange, typeset, Seth, correct, exercise_set, curing, pose, position, located, lay, set',\n",
       "  'statistical',\n",
       "  'address, computer_address, cover, destination, direct, treat, accost, handle, speech, turn_to, plow, come_up_to, speak, deal, reference, name_and_address, savoir-faire, call',\n",
       "  'bodily_process, activity, natural_process, natural_action, body_process, bodily_function, activeness, action',\n",
       "  'classification, categorization, categorisation, sorting, compartmentalisation, compartmentalization, assortment',\n",
       "  'marriage, conglutination, Federal, coupling, matrimony, North, trade_union, trades_union, mating, sexual_union, pairing, wedlock, Union, labor_union, union, join, brotherhood, spousal_relationship, jointure, sum, uniting, conjugation, unification',\n",
       "  'structure, social_system, bodily_structure, complex_body_part, body_structure, social_organization, anatomical_structure, construction, social_structure, social_organisation',\n",
       "  'hold, ascendance, moderate, see_to_it, hold_in, ascendence, operate, insure, master, keep_in_line, manipulate, ascendancy, controller, verify, ascertain, assure, restraint, see, control, check, ensure, command, mastery, control_condition, curb, dominance, contain, ascendency',\n",
       "  'piece_of_work, run, workplace, oeuvre, play, do_work, wreak, operate, function, bring, knead, forge, make_for, solve, act, work_on, mould, make, figure_out, puzzle_out, employment, study, work_out, influence, ferment, sour, process, exercise, turn, crop, body_of_work, lick, work, act_upon, exploit, put_to_work, cultivate, shape, go, form, mold',\n",
       "  'intimate, national, interior, internal, home, inner, intragroup',\n",
       "  'mental_hospital, introduction, creation, asylum, founding, initiation, foundation, origination, mental_institution, instauration, innovation, insane_asylum, establishment, psychiatric_hospital, institution, mental_home',\n",
       "  'put, tell, rules_of_order, set_up, place, club, society, edict, consecrate, regulate, ordination, regularize, prescribe, range, enjoin, fiat, guild, rate, social_club, parliamentary_law, govern, dictate, gild, regularise, lodge, rescript, monastic_order, say, purchase_order, Order, order, decree, rank, parliamentary_procedure, grade, ordering, ordain, ordinate, Holy_Order, arrange, order_of_magnitude, orderliness',\n",
       "  'remodel, restore, construct, reconstruct, redo, rebuild, retrace',\n",
       "  'credential, security, certificate, credentials, certification',\n",
       "  'flowing, rate_of_flow, flux, period, run, menstruum, catamenia, hang, feed, menses, menstruate, flow, menstruation, flow_rate, stream, current, course, fall',\n",
       "  'outcome, resultant, issue, termination, effect, leave, consequence, solvent, answer, ensue, result, lead, resultant_role, solution, final_result, event, resolution, upshot',\n",
       "  'full_term, terminal_figure, term, condition, terminus',\n",
       "  'revenue_enhancement, assess, tax, taxation, task',\n",
       "  'defrayal, defrayment, requital, payment',\n",
       "  'usable, running, operative, functional, working, useable, operational, operable',\n",
       "  'dent, prick, surgical_incision, incision, scratch, section, slit',\n",
       "  'bodily_process, activity, natural_process, natural_action, body_process, bodily_function, activeness, action',\n",
       "  'red_ink, personnel_casualty, expiration, departure, loss, red, deprivation, going, release, exit, passing',\n",
       "  'compiling, compilation, digest',\n",
       "  'focussing, charge, focal_point, centering, counsel, steering, direction, guidance, focus, counselling, counseling, instruction, way, focusing, commission, management',\n",
       "  'request, asking, bespeak, postulation, petition, call_for, quest',\n",
       "  'point, target, aim, quarry, butt, direct, prey, place, mark, object, objective, target_area, fair_game',\n",
       "  'thousand, yard, chiliad, G, one_thousand, K, thou, grand, M, 1000',\n",
       "  'expend, spend, pass, drop',\n",
       "  'performance, death_penalty, capital_punishment, writ_of_execution, carrying_into_action, slaying, execution, murder, instruction_execution, carrying_out, execution_of_instrument, implementation, executing',\n",
       "  'banking_company, trust, rely, money_box, swear, deposit, banking_concern, bank, depository_financial_institution, bank_building, camber, coin_bank, cant, savings_bank',\n",
       "  'date, go_out, see, escort, appointment, day_of_the_month, engagement, particular_date, date_stamp, go_steady',\n",
       "  'republican, Republican_River, Republican',\n",
       "  'section, department',\n",
       "  'synthetic, synthetical, man-made, semisynthetic, synthetic_substance, celluloid',\n",
       "  'examination, trial_run, examine, mental_testing, essay, quiz, run, screen, psychometric_test, exam, prove, try, trial, tryout, mental_test, try_out, test',\n",
       "  'headway, head_up, chief, channelise, direct, lead, headland, heading, point, channelize, question, header, head, top_dog, capitulum, fountainhead, drumhead, manoeuver, psyche, forefront, nous, head_word, guide, oral_sex, foreland, straits, brain, maneuver, caput, school_principal, headspring, steer, read/write_head, promontory, mind, head_teacher, principal, manoeuvre, pass',\n",
       "  'provider, supplier',\n",
       "  'rude, instinctive, raw, innate, natural, lifelike, cancel, born',\n",
       "  'atomic_number_45, Rh, rhodium',\n",
       "  '',\n",
       "  'swear_out, work, sue, treat, action, processing, process, march, work_on, litigate, serve',\n",
       "  'admit, include, let_in',\n",
       "  'incorporate, stop, comprise, carry, hold, control, moderate, check, turn_back, hold_in, hold_back, curb, contain, take, contained, arrest, bear',\n",
       "  'sustain, financial_support, corroborate, underpin, hold, digest, sustenance, stick_out, stomach, abide, keep_going, fend_for, back, financial_backing, support, tolerate, endure, hold_up, supporting, defend, patronise, reinforcement, put_up, living, livelihood, documentation, patronize, substantiate, plunk_for, keep, back_up, stand, musical_accompaniment, funding, bread_and_butter, bear, accompaniment, suffer, affirm, indorse, bear_out, brook, reenforcement, patronage, endorse, plump_for, confirm, backup, backing, subscribe',\n",
       "  'necessity, prerequisite, requirement, requisite, necessary, demand, essential',\n",
       "  'procural, procurement, procurance',\n",
       "  'production, output, product, yield',\n",
       "  'size_of_it, sizing, size',\n",
       "  'Jan, January',\n",
       "  'confidence, sureness, sanction, authorization, government_agency, self-confidence, potency, federal_agency, bureau, authority, dominance, self-assurance, office, agency, authorisation, say-so, assurance',\n",
       "  'assure, warrant, secure, insure, warranty, guarantee, warrantee, ensure, undertake, vouch, guaranty',\n",
       "  'purchase, buy, leverage',\n",
       "  'candid, undefended, undecided, subject, outdoors, unresolved, open_up, surface, clear, undetermined, capable, heart-to-heart, unfastened, assailable, overt, exposed, opened, undefendable, out-of-doors, open, spread, receptive, unfold, loose, spread_out, afford, give, open_air',\n",
       "  'readjustment, enrolment, registration, adjustment, enrollment',\n",
       "  'entity',\n",
       "  'ring_armor, mail, get_off, postal_service, ring_armour, post, ring_mail, chain_mail, mail_service, chain_armour, chain_armor, send',\n",
       "  'HTTP, hypertext_transfer_protocol',\n",
       "  'call_up, telephone_set, phone, sound, ring, speech_sound, earpiece, earphone, headphone, telephone, call',\n",
       "  'analytical, analytic',\n",
       "  '',\n",
       "  'normative, prescriptive',\n",
       "  'class, family, category',\n",
       "  'course_of_study, broadcast, curriculum, computer_program, platform, political_platform, computer_programme, syllabus, political_program, plan, program, programme',\n",
       "  'loanword, lend, loan',\n",
       "  'embark, transport, send, ship',\n",
       "  'refinement, rarify, refine, refining, polish, fine-tune, rectify, elaborate, down, purification, complicate',\n",
       "  'swear_out, work, refined, sue, treat, action, process, march, work_on, litigate, serve, processed',\n",
       "  'pulling_out, climb-down, coitus_interruptus, backdown, withdrawal_method, onanism, secession, detachment, withdrawal, drug_withdrawal',\n",
       "  'standard, stock, banner, received, touchstone, monetary_standard, criterion, measure',\n",
       "  'designation, identification, recognition',\n",
       "  'bring_out, consequence, cut, subject, government_issue, put_out, upshot, supply, emergence, way_out, exit, military_issue, publication, number, payoff, takings, make_out, progeny, issue, offspring, effect, yield, write_out, release, come_forth, egress, proceeds, go_forth, topic, event, outcome, come_out, outlet, issuance, result, take, issuing, emerge, matter, publish, return',\n",
       "  'feature_of_speech, characteristic, boast, have, feature, lineament, sport, feature_film, feature_article',\n",
       "  'textual_matter, text, schoolbook, text_edition, textbook, school_text',\n",
       "  'statutory',\n",
       "  'chief, principal, master, main, independent, primary, briny',\n",
       "  'appreciate, value, prise, note_value, rate, economic_value, assess, esteem, respect, valuate, appraise, prize, treasure, evaluate, measure, time_value',\n",
       "  'drawing_card, loss_leader, leader',\n",
       "  'investment_trust, stock, investment_firm, investment_company, monetary_fund, store, fund',\n",
       "  'episode, chronological_succession, successiveness, succession, chronological_sequence, sequence',\n",
       "  'planned, design, aforethought, be_after, project, plotted, plan, contrive',\n",
       "  'degeneracy, depravity, putrescence, rottenness, putrefaction, subversion, corruption, putridness, corruptness, depravation',\n",
       "  'security_system, surety, security_measures, security, protection, security_department, security_measure, certificate',\n",
       "  'functionary, official, prescribed',\n",
       "  'stock, run, hold, persuade, gestate, express, post, acquit, transport, extend, behave, dribble, expect, conduct, channel, transmit, stockpile, pack, impart, comport, have_a_bun_in_the_oven, bear, convey, deport, take, contain, sway, carry',\n",
       "  'item, particular, token, point, detail',\n",
       "  'germ, seed, informant, origin, reservoir, source, author, rootage, beginning, generator, root, reference',\n",
       "  'confirmation, check_into, check_out, chequer, look_into, hold, moderate, fit, balk, see_to_it, hold_in, chink, check-out_procedure, go_over, jibe, chit, hinderance, check_off, correspond, baulk, deterrent, insure, stay, bank_check, handicap, mark, condition, check_up_on, bridle, check_mark, hindrance, ascertain, assure, assay, cheque, checker, watch, tab, see, suss_out, control, turn_back, check, hold_back, halt, stoppage, tick, ensure, tick_off, retard, arrest, delay, gibe, tally, determine, crack, stop, checkout, substantiation, verification, chip, hitch, check_over, agree, discipline, curb, contain, mark_off, match, train, learn, break, find_out, impediment',\n",
       "  'executive, administrator, executive_director',\n",
       "  'month, calendar_month',\n",
       "  'mention, course_credit, acknowledgment, credit_entry, credit, credit_rating, quotation, accredit, reference, deferred_payment, cite, citation, recognition',\n",
       "  'preparation, proviso, planning, purvey, supplying, provision, supply',\n",
       "  'sanction, okay, approve, O.K.',\n",
       "  'expertise, expertness',\n",
       "  'legal_opinion, ruling, feeling, popular_opinion, thought, persuasion, view, sentiment, vox_populi, judgement, judgment, belief, notion, opinion, public_opinion, impression',\n",
       "  'application_program, covering, applications_programme, lotion, practical_application, diligence, application, coating',\n",
       "  '',\n",
       "  'emerald'],\n",
       " ['swear_out, physical_process, work, litigate, sue, procedure, treat, action, process, cognitive_operation, mental_process, summons, march, work_on, appendage, operation, cognitive_process, outgrowth, serve, unconscious_process',\n",
       "  'disbursal, disbursement, expense, write_off, write_down',\n",
       "  'contractile_organ, declarer, contractor',\n",
       "  'embark, transport, send, ship',\n",
       "  'clause, article',\n",
       "  'municipal',\n",
       "  'paragraph',\n",
       "  'proportion, ratio'],\n",
       " ['wastefulness, consume, godforsaken, languish, macerate, knock_off, neutralize, barren, run_off, neutralise, wild, scourge, squander, liquidate, wasteland, lay_waste_to, ravage, thriftlessness, rot, blow, waste_product, waste_material, waste_matter, waste, dissipation, pine_away, ware, permissive_waste, emaciate, do_in, devastate, desolate',\n",
       "  'schedule, agenda, docket']]"
      ]
     },
     "execution_count": 135,
     "metadata": {},
     "output_type": "execute_result"
    }
   ],
   "source": [
    "result_with_syn"
   ]
  },
  {
   "cell_type": "code",
   "execution_count": 146,
   "metadata": {},
   "outputs": [
    {
     "name": "stdout",
     "output_type": "stream",
     "text": [
      "\n"
     ]
    }
   ],
   "source": [
    "f = open('workfile', 'r')\n",
    "print(f.readline())"
   ]
  },
  {
   "cell_type": "code",
   "execution_count": null,
   "metadata": {
    "collapsed": true
   },
   "outputs": [],
   "source": [
    "f = open('workfile', 'w')\n",
    "for i in result_with_syn:"
   ]
  },
  {
   "cell_type": "code",
   "execution_count": 214,
   "metadata": {
    "collapsed": true
   },
   "outputs": [
    {
     "ename": "TypeError",
     "evalue": "'int' object is not iterable",
     "output_type": "error",
     "traceback": [
      "\u001b[0;31m---------------------------------------------------------------------------\u001b[0m",
      "\u001b[0;31mTypeError\u001b[0m                                 Traceback (most recent call last)",
      "\u001b[0;32m<ipython-input-214-8a6ef8b839ee>\u001b[0m in \u001b[0;36m<module>\u001b[0;34m()\u001b[0m\n\u001b[1;32m      4\u001b[0m \u001b[0maaa\u001b[0m\u001b[0;34m[\u001b[0m\u001b[0;36m0\u001b[0m\u001b[0;34m]\u001b[0m\u001b[0;34m\u001b[0m\u001b[0m\n\u001b[1;32m      5\u001b[0m \u001b[0;32mfor\u001b[0m \u001b[0mx\u001b[0m \u001b[0;32min\u001b[0m \u001b[0maaa\u001b[0m\u001b[0;34m[\u001b[0m\u001b[0;36m0\u001b[0m\u001b[0;34m]\u001b[0m\u001b[0;34m:\u001b[0m\u001b[0;34m\u001b[0m\u001b[0m\n\u001b[0;32m----> 6\u001b[0;31m     \u001b[0;32mfor\u001b[0m \u001b[0my\u001b[0m \u001b[0;32min\u001b[0m \u001b[0mx\u001b[0m\u001b[0;34m:\u001b[0m\u001b[0;34m\u001b[0m\u001b[0m\n\u001b[0m\u001b[1;32m      7\u001b[0m         \u001b[0mflattened_list\u001b[0m\u001b[0;34m.\u001b[0m\u001b[0mappend\u001b[0m\u001b[0;34m(\u001b[0m\u001b[0my\u001b[0m\u001b[0;34m)\u001b[0m\u001b[0;34m\u001b[0m\u001b[0m\n",
      "\u001b[0;31mTypeError\u001b[0m: 'int' object is not iterable"
     ]
    }
   ],
   "source": [
    "aaa =[[1,3],[3,41,1]]\n",
    "aaa[0][1]=[9,2]\n",
    "aaa\n",
    "aaa[0]\n",
    "for x in aaa[0]:\n",
    "    for y in x:\n",
    "        flattened_list.append(y)"
   ]
  },
  {
   "cell_type": "code",
   "execution_count": 140,
   "metadata": {
    "collapsed": true
   },
   "outputs": [],
   "source": [
    "import nltk\n",
    "nltk.__version__\n",
    "\n",
    "from nltk.corpus import wordnet as wn\n"
   ]
  },
  {
   "cell_type": "code",
   "execution_count": 80,
   "metadata": {},
   "outputs": [
    {
     "data": {
      "text/plain": [
       "'budgetary'"
      ]
     },
     "execution_count": 80,
     "metadata": {},
     "output_type": "execute_result"
    }
   ],
   "source": [
    "#Разбиваем большой кластер\n",
    "split_big_cluster = result[0].split(', ')\n",
    "#split_big_cluster=result[0].map(lambda x: re.sub('\\s+', ' ', x))\n",
    "\n",
    "#features_list = features.T.iloc[1].tolist()\n",
    "split_big_cluster[1]"
   ]
  },
  {
   "cell_type": "code",
   "execution_count": 95,
   "metadata": {
    "collapsed": true
   },
   "outputs": [],
   "source": [
    "# Достаем индексы фич\n",
    "index_split_big_cluster=[]\n",
    "for i, j in enumerate(vocabulary):\n",
    "    if j in split_big_cluster:\n",
    "        index_split_big_cluster.append(i)\n",
    "#Матрица финальная\n",
    "dtm_big_cluster =dtm.T[:, index_split_big_cluster]\n",
    "dtm_big_cluster=dtm_big_cluster.T"
   ]
  },
  {
   "cell_type": "code",
   "execution_count": 93,
   "metadata": {
    "collapsed": true
   },
   "outputs": [],
   "source": [
    "#Функция которая по вводимому списку слов создает матрицу терм-док\n",
    "result_with_syn[0]\n",
    "def list_to_matrix(list_words):\n",
    "    global vocabulary\n",
    "    global dtm\n",
    "    indexes=[]\n",
    "    for i, j in enumerate(vocabulary):\n",
    "        if j in list_words:\n",
    "            indexes.append(i)\n",
    "    #Матрица финальная\n",
    "    result_matrix =dtm.T[:, indexes]\n",
    "    result_matrix=result_matrix.T\n",
    "    return result_matrix"
   ]
  },
  {
   "cell_type": "code",
   "execution_count": 102,
   "metadata": {},
   "outputs": [
    {
     "data": {
      "text/plain": [
       "'Hello-world'"
      ]
     },
     "execution_count": 102,
     "metadata": {},
     "output_type": "execute_result"
    }
   ],
   "source": [
    "my_list = [\"Hello\", \"world\"]\n",
    "\"-\".join(my_list)"
   ]
  },
  {
   "cell_type": "code",
   "execution_count": 117,
   "metadata": {},
   "outputs": [
    {
     "data": {
      "text/plain": [
       "['l', 'l', 'l', 'l', 'l', 'l', 'l', 'l']"
      ]
     },
     "execution_count": 117,
     "metadata": {},
     "output_type": "execute_result"
    }
   ],
   "source": [
    "flat_list = []\n",
    "for sublist in result_with_syn[0]:\n",
    "    for item in sublist:\n",
    "        flat_list.append(item)\n",
    "flat_list\n",
    "\n"
   ]
  },
  {
   "cell_type": "code",
   "execution_count": 113,
   "metadata": {},
   "outputs": [
    {
     "data": {
      "text/plain": [
       "'budgetary, amalgamate, fused, consolidate, consolidated, amalgamated, coalesced, osmium, atomic_number_76, Os, foreign, strange, alien, extraneous, switch, swap, swop, merchandise, patronage, craft, business_deal, trade, trade_in, trade_wind, deal, barter, sell, , municipality, real, rattling, really, tangible, veridical, material, substantial, very, genuine, literal, existent, real_number, actual'"
      ]
     },
     "execution_count": 113,
     "metadata": {},
     "output_type": "execute_result"
    }
   ],
   "source": [
    "\", \".join(result_with_syn[0]).split(', ')"
   ]
  },
  {
   "cell_type": "code",
   "execution_count": 112,
   "metadata": {
    "collapsed": true
   },
   "outputs": [
    {
     "data": {
      "text/plain": [
       "array([[ 0,  1,  1,  0,  0,  0,  0,  0,  0,  0,  0,  0,  0,  0,  1,  1,  0,\n",
       "         0,  0,  0,  0,  0,  0,  0,  0,  0,  0,  0,  0,  0,  0,  0,  0,  0,\n",
       "         0,  0,  0,  0,  0,  0,  0,  0,  0,  0,  0,  0,  0,  0,  0,  0,  0,\n",
       "         0,  0,  0,  0,  0,  0,  0,  0,  0,  0,  1,  1,  6,  3,  1,  0,  0,\n",
       "         0,  4,  3,  0,  0,  0,  0,  0,  0,  0,  0,  0,  0,  0,  0,  0,  0,\n",
       "         0,  0,  0,  0,  0,  0,  1,  0,  0,  6,  0,  0,  0,  1,  1,  4,  0,\n",
       "         0,  0,  0],\n",
       "       [ 0,  0,  0,  2,  0,  1,  0,  2,  2,  3,  3,  3,  2,  0,  1,  1,  0,\n",
       "         0,  0,  0,  0,  0,  0,  0,  0,  0,  0,  0,  0,  0,  0,  0,  0,  0,\n",
       "         1,  0,  0,  0,  0,  0,  0,  0,  0,  0,  0,  0,  0,  0,  0,  0,  0,\n",
       "         0,  0,  0,  0,  0,  0,  2,  2,  0,  0,  1,  1,  0,  0,  0,  0,  0,\n",
       "         0,  0,  0,  0,  0,  0,  0,  0,  0,  0,  0,  0,  0,  0,  0,  0,  0,\n",
       "         0,  0,  0,  0,  0,  0,  0,  0,  0,  0,  0,  0,  0,  0,  0,  0,  0,\n",
       "         0,  0,  0],\n",
       "       [ 0,  0,  0,  0,  0,  0,  0,  0,  0,  0,  0,  0,  0,  0,  0,  0,  0,\n",
       "         0,  0,  0,  0,  0,  0,  0,  0, 10,  0,  0,  0,  0,  0,  0,  0,  0,\n",
       "         0,  0,  0,  0,  0,  0,  0,  0,  0,  0,  0,  0,  0,  0,  0,  0,  0,\n",
       "         0,  0,  0,  0,  0,  0,  0,  0,  0,  0,  0,  0,  0,  0,  0,  0,  0,\n",
       "         0,  0,  0,  0,  0,  0,  0,  0,  0,  0,  0,  0,  0,  0,  0,  0,  0,\n",
       "         0,  0,  0,  0,  0,  0,  0,  0,  0,  0,  0,  0,  0,  0,  0,  0,  0,\n",
       "         0,  0,  0],\n",
       "       [ 0,  0,  0,  0,  0,  0,  0,  0,  0,  0,  0,  0,  0,  0,  0,  0,  0,\n",
       "         0,  0,  0,  0,  0,  0,  0,  0,  0,  0,  0,  0,  0,  6,  0,  0,  0,\n",
       "         0,  0,  0,  0,  0,  0,  0,  0,  0,  0,  0,  0,  0,  0,  0,  0,  0,\n",
       "         0,  0,  0,  0,  0,  0,  0,  0,  0,  0,  0,  0, 12,  0,  0,  0,  0,\n",
       "         0,  0,  0,  0,  0,  0,  0,  0,  0,  0,  0,  0,  0,  0,  0,  0,  0,\n",
       "         0,  0,  0,  0,  0,  0,  0,  0,  0,  0,  0,  0,  0,  0,  0,  0,  0,\n",
       "         0,  0,  0],\n",
       "       [ 0,  0,  0,  0,  0,  0,  0,  0,  0,  0,  0,  0,  0,  0,  0,  0,  0,\n",
       "         0,  0,  0,  0,  0,  0,  0,  0,  0,  0,  0,  0,  0,  0,  0,  0,  0,\n",
       "         0,  0,  0,  0,  0,  0,  0,  0,  0,  0,  0,  0,  0,  0,  0,  0,  0,\n",
       "         0,  0,  0,  0,  0,  0,  0,  0,  0,  0,  0,  0,  0,  0,  0,  0,  0,\n",
       "         0,  0,  0,  0,  0,  0,  0,  2,  1,  0,  0,  0,  0,  0,  0,  0,  0,\n",
       "         0,  0,  0,  0,  0,  0,  0,  0,  0,  0,  0,  0,  0,  0,  0,  0,  0,\n",
       "         0,  0,  0],\n",
       "       [ 0,  0,  0,  0,  0,  1,  0,  0,  0,  0,  0,  0,  0,  0,  0,  0,  0,\n",
       "         0,  0,  0,  0,  0,  0,  0,  0,  0,  0,  0,  0,  0,  0,  0,  0,  0,\n",
       "         0,  0,  0,  0,  0,  0,  0,  0,  0,  0,  0,  0,  0,  0,  0,  0,  0,\n",
       "         0,  0,  0,  0,  0,  0,  0,  0,  0,  0,  0,  0, 12,  0,  0,  0,  0,\n",
       "         0,  0,  0,  0,  0,  0,  0,  0,  0,  0,  0,  0,  0,  0,  0,  0,  0,\n",
       "         0,  0,  0,  0,  0,  0,  0,  0,  0,  0,  0,  0,  0,  0,  0,  0,  0,\n",
       "         0,  0,  0],\n",
       "       [ 0,  0,  0,  0,  0,  0,  0,  0,  0,  0,  0,  0,  0,  0,  0,  0,  0,\n",
       "         0,  0,  0,  0,  0,  0,  0,  0,  9,  0, 12,  0,  0,  0,  0,  0,  0,\n",
       "         0,  0,  0,  0,  0,  0,  0,  0,  0,  0,  0,  0,  0,  0,  0,  0,  0,\n",
       "         0,  0,  0,  0,  0,  0,  0,  0,  0,  0,  0,  0,  0,  0,  0,  0,  0,\n",
       "         0,  0,  0,  0,  0,  0,  0,  0,  0,  0,  0,  0,  0,  0,  0,  0,  0,\n",
       "         0,  0,  0,  0,  0,  0,  0,  0,  0,  0,  0,  0,  0,  0,  0,  0,  0,\n",
       "         0,  0,  0],\n",
       "       [ 0,  0,  0,  0,  0,  0,  0,  0,  0,  0,  0,  0,  0,  0,  0,  0,  0,\n",
       "         0,  0,  0,  0,  0,  0,  0,  0,  0,  0,  0,  0,  0,  0,  0,  0,  0,\n",
       "         0,  0,  0,  0,  0,  0,  0,  0,  0,  0,  0,  0,  0,  0,  0,  0,  0,\n",
       "         0,  0,  0,  0,  0,  0,  0,  0,  0,  0,  0,  0,  0,  0,  0,  0,  0,\n",
       "         0,  0,  0,  0,  0,  0,  0,  0,  0,  0,  0,  0,  0,  0,  0,  0,  0,\n",
       "         0,  0,  0,  0,  0,  0,  0,  0,  0,  0,  8,  5,  0,  0,  0,  0,  0,\n",
       "         0,  0,  0],\n",
       "       [ 0,  0,  0,  0,  0,  0,  0,  0,  0,  0,  0,  0,  0,  0,  0,  0,  0,\n",
       "         0,  0,  0,  0,  0,  0,  0,  0,  0,  0, 15,  0,  0,  0,  0,  0,  0,\n",
       "         0,  0,  0,  0,  0,  0,  0,  0,  0,  0,  0,  0,  0,  0,  0,  0,  0,\n",
       "         0,  0,  0,  0,  0,  0,  0,  0,  0,  0,  0,  0,  0,  0,  0,  0,  0,\n",
       "         0,  0,  0,  0,  0,  0,  0,  0,  0,  0,  0,  0,  0,  0,  0,  0,  0,\n",
       "         0,  0,  0,  0,  0,  0,  0,  0,  0,  0,  0,  0,  0,  0,  0,  0,  0,\n",
       "         0,  0,  0]], dtype=int64)"
      ]
     },
     "execution_count": 112,
     "metadata": {},
     "output_type": "execute_result"
    }
   ],
   "source": [
    "list_to_matrix(\", \".join(result_with_syn[0]).split(', '))"
   ]
  },
  {
   "cell_type": "code",
   "execution_count": 102,
   "metadata": {
    "collapsed": true
   },
   "outputs": [
    {
     "name": "stdout",
     "output_type": "stream",
     "text": [
      "clust= 6 silh= 0.161324313737\n",
      "metals, statistical, expense, address, object, activity, control, article, order, certificate, internal, flow, result, term, functional, direction, compilation, target, bank, execution, spend, date, department, current, natural, readable, ruthenium, contained, include, report, procurement, foreign, size, authority, external, program, schedule, phone, loan, paragraph, text, wastes, feature, anti, corruption, complextype, securities, carry, planned, credit, sum, opendata\n",
      "  \n",
      "contractor, ship, payment, document, thous, obligation, inspection, osmium, processing, diamond, withdrawal, real\n",
      "  \n",
      "budgetary, incision, product, check\n",
      "  \n",
      "request, synthetic, support, purchase, value, standard, main, expertise, fax, body\n",
      "  \n",
      "structure\n",
      "  \n",
      "classification, waste, institution, responsible, activities, municipal, quot, open, registration, analytical, gavalec, shipped, services, identification, trade, enter, leader, fund\n",
      "  \n"
     ]
    }
   ],
   "source": [
    "#Разбивка большого кластера\n",
    "matrix = dtm_big_cluster\n",
    "x=[]\n",
    "y=[]\n",
    "clusters=6\n",
    "kmean = KMeans(n_clusters=clusters)\n",
    "rez=kmean.fit_predict(matrix) \n",
    "silhouette_avg = silhouette_score(matrix, rez)\n",
    "x.append(clusters)\n",
    "y.append(silhouette_avg)\n",
    "print('clust=',clusters,'silh=',silhouette_avg)\n",
    "\n",
    "#Делаем панду\n",
    "d = {'rez': rez, 'vocabulary': split_big_cluster}\n",
    "df = pd.DataFrame(data=d)\n",
    "#Слова в кластеры\n",
    "\n",
    "result =  df.groupby('rez')['vocabulary'].apply(lambda x: \"%s\" % ', '.join(x))\n",
    "for i in result:\n",
    "    print(i)\n",
    "    print('  ')"
   ]
  },
  {
   "cell_type": "markdown",
   "metadata": {},
   "source": [
    "# Визуализация"
   ]
  },
  {
   "cell_type": "code",
   "execution_count": 167,
   "metadata": {},
   "outputs": [
    {
     "name": "stdout",
     "output_type": "stream",
     "text": [
      "8.0\n",
      "10.0\n",
      "7.0\n",
      "120.0\n",
      "5.0\n"
     ]
    },
    {
     "data": {
      "text/plain": [
       "'output  department  benefits  production  regions  producer  sectors  detailed'"
      ]
     },
     "execution_count": 167,
     "metadata": {},
     "output_type": "execute_result"
    }
   ],
   "source": [
    "text_file = open(\"words_uk.txt\", \"r\")\n",
    "uk = text_file.read().split('\\n')\n",
    "uk = pd.Series(uk)\n",
    "uk = uk.map(lambda x: re.sub('\\s+', ' ', x))\n",
    "uk = uk.map(lambda x: re.sub('[^A-Za-zА-Яа-я]', ' ', x))\n",
    "\n",
    "uk = uk.str.lower()\n",
    "lens_uk = []\n",
    "for i in uk:\n",
    "    print((len(i.split('\\n')[0].split(' '))+1)/2)\n",
    "   # lens_uk.append((i.split('\\n')))\n",
    "#lens_uk[1][0]\n",
    "uk[0]"
   ]
  },
  {
   "cell_type": "code",
   "execution_count": null,
   "metadata": {
    "collapsed": true
   },
   "outputs": [],
   "source": [
    "#Удаляем стопворды\n",
    "text_file = open(\"stop_words.txt\", \"r\")\n",
    "lines = text_file.read().split('\\n')\n",
    "stopwords = lines[1:-2]\n",
    "stopwords = set(stopwords)\n",
    "\n",
    "def replace_stopwords(str_src, stopwords):\n",
    "    for w in stopwords:\n",
    "        str_src = str_src.replace(\" \" + w + \" \", \" \")\n",
    "        str_src = str_src.replace(\"  \",\" \")\n",
    "    return str_src\n",
    " \n",
    "# Удаление стоп слов\n",
    "ru =ru.map(lambda x: replace_stopwords(x, stopwords))"
   ]
  },
  {
   "cell_type": "code",
   "execution_count": 148,
   "metadata": {},
   "outputs": [
    {
     "data": {
      "text/plain": [
       "[125, 4, 5, 5, 3, 2, 6]"
      ]
     },
     "execution_count": 148,
     "metadata": {},
     "output_type": "execute_result"
    }
   ],
   "source": [
    "words_in_clstrs = []\n",
    "result =  df.groupby('rez')['vocabulary'].apply(lambda x: \"%s\" % ', '.join(x))\n",
    "for i in result:\n",
    "    #print(len(i.split(', ')))\n",
    "    words_in_clstrs.append(len(i.split(', ')))\n",
    "words_in_clstrs"
   ]
  },
  {
   "cell_type": "code",
   "execution_count": 65,
   "metadata": {
    "collapsed": true
   },
   "outputs": [],
   "source": [
    "chili_words = [35, 7, 29, 9,  43, 14, 35, 35]"
   ]
  },
  {
   "cell_type": "code",
   "execution_count": 66,
   "metadata": {},
   "outputs": [
    {
     "data": {
      "image/png": "[encoded data removed]",
      "text/plain": [
       "<matplotlib.figure.Figure at 0x7f089f679ba8>"
      ]
     },
     "metadata": {},
     "output_type": "display_data"
    }
   ],
   "source": [
    "import seaborn\n",
    "from math import pi\n",
    "import matplotlib.pyplot as plt\n",
    "\n",
    "words_in_clstrs = chili_words\n",
    "words_in_clstrs2 = chili_words\n",
    "# Set data\n",
    "cat = ['1','2','3','4','5','6','7','8']\n",
    "values = words_in_clstrs\n",
    "\n",
    "N = len(cat)\n",
    "\n",
    "x_as = [n / float(N) * 2 * pi for n in range(N)]\n",
    "\n",
    "# Because our chart will be circular we need to append a copy of the first \n",
    "# value of each list at the end of each list with data\n",
    "values += values[:1]\n",
    "x_as += x_as[:1]\n",
    "\n",
    "\n",
    "# Set color of axes\n",
    "plt.rc('axes', linewidth=0.5, edgecolor=\"#888888\")\n",
    "\n",
    "\n",
    "# Create polar plot\n",
    "ax = plt.subplot(111, polar=True)\n",
    "\n",
    "\n",
    "# Set clockwise rotation. That is:\n",
    "ax.set_theta_offset(pi / 2)\n",
    "ax.set_theta_direction(-1)\n",
    "\n",
    "\n",
    "# Set position of y-labels\n",
    "ax.set_rlabel_position(0)\n",
    "\n",
    "\n",
    "# Set color and linestyle of grid\n",
    "ax.xaxis.grid(True, color=\"#888888\", linestyle='solid', linewidth=0.5)\n",
    "ax.yaxis.grid(True, color=\"#888888\", linestyle='solid', linewidth=0.5)\n",
    "\n",
    "\n",
    "# Set number of radial axes and remove labels\n",
    "plt.xticks(x_as[:-1], [])\n",
    "\n",
    "# Set yticks\n",
    "plt.yticks([0,  10, 20,30,40], [\"0\", \"10\", \"20\",'30','40'])\n",
    "\n",
    "\n",
    "# Plot data\n",
    "ax.plot(x_as, values, linewidth=0, linestyle='solid', zorder=3)\n",
    "\n",
    "# Fill area\n",
    "ax.fill(x_as, values, 'b', alpha=0.3)\n",
    "\n",
    "size_of_radar =50\n",
    "# Set axes limits\n",
    "plt.ylim(0, size_of_radar)\n",
    "\n",
    "# Draw ytick labels to make sure they fit properly\n",
    "for i in range(N):\n",
    "    angle_rad = i / float(N) * 2 * pi\n",
    "\n",
    "    if angle_rad == 0:\n",
    "        ha, distance_ax = \"center\", 1\n",
    "    elif 0 < angle_rad < pi:\n",
    "        ha, distance_ax = \"left\", 1\n",
    "    elif angle_rad == pi:\n",
    "        ha, distance_ax = \"center\", 1\n",
    "    else:\n",
    "        ha, distance_ax = \"right\", 1\n",
    "\n",
    "    ax.text(angle_rad, 52 + distance_ax, 'N'+str(cat[i])+' '+str(words_in_clstrs2[i])+' words', \n",
    "            size=13, horizontalalignment=ha, verticalalignment=\"center\")\n",
    "\n",
    "# Draw ytick labels to make sure they fit properly\n",
    "plt.savefig('filename_chile.png', dpi = 140)\n",
    "\n",
    "# Show polar plot\n",
    "plt.show()"
   ]
  },
  {
   "cell_type": "markdown",
   "metadata": {},
   "source": [
    "# Визуализация\n"
   ]
  },
  {
   "cell_type": "code",
   "execution_count": 739,
   "metadata": {},
   "outputs": [
    {
     "name": "stdout",
     "output_type": "stream",
     "text": [
      "Estimated number of clusters: 3\n",
      "-0.223409407245\n"
     ]
    }
   ],
   "source": [
    "#Попытка исопльзования DBSCAN\n",
    "db = DBSCAN(eps=0.0001, min_samples=3).fit(dtm2)\n",
    "core_samples_mask = np.zeros_like(db.labels_, dtype=bool)\n",
    "core_samples_mask[db.core_sample_indices_] = True\n",
    "labels = db.labels_\n",
    "rez=db.fit_predict(dtm2) \n",
    "# Number of clusters in labels, ignoring noise if present.\n",
    "n_clusters_ = len(set(labels)) - (1 if -1 in labels else 0)\n",
    "print('Estimated number of clusters: %d' % n_clusters_)\n",
    "print(silhouette_score(dtm2, rez))"
   ]
  },
  {
   "cell_type": "code",
   "execution_count": null,
   "metadata": {
    "collapsed": true
   },
   "outputs": [],
   "source": [
    "8.0\n",
    "10.0\n",
    "7.0\n",
    "120.0\n",
    "5.0"
   ]
  },
  {
   "cell_type": "code",
   "execution_count": 174,
   "metadata": {},
   "outputs": [
    {
     "data": {
      "image/png": "[encoded data removed]",
      "text/plain": [
       "<matplotlib.figure.Figure at 0x7f17902b2470>"
      ]
     },
     "metadata": {},
     "output_type": "display_data"
    }
   ],
   "source": [
    "import seaborn\n",
    "from math import pi\n",
    "import matplotlib.pyplot as plt\n",
    "\n",
    "words_in_clstrs = [8, 10, 7, 20, 5]\n",
    "words_in_clstrs2 = [8, 10, 7, 120, 5]\n",
    "# Set data\n",
    "cat = ['1','2','3','4','5']\n",
    "values = words_in_clstrs\n",
    "\n",
    "N = len(cat)\n",
    "\n",
    "x_as = [n / float(N) * 2 * pi for n in range(N)]\n",
    "\n",
    "# Because our chart will be circular we need to append a copy of the first \n",
    "# value of each list at the end of each list with data\n",
    "values += values[:1]\n",
    "x_as += x_as[:1]\n",
    "\n",
    "\n",
    "# Set color of axes\n",
    "plt.rc('axes', linewidth=0.5, edgecolor=\"#888888\")\n",
    "\n",
    "\n",
    "# Create polar plot\n",
    "ax = plt.subplot(111, polar=True)\n",
    "\n",
    "\n",
    "# Set clockwise rotation. That is:\n",
    "ax.set_theta_offset(pi / 2)\n",
    "ax.set_theta_direction(-1)\n",
    "\n",
    "\n",
    "# Set position of y-labels\n",
    "ax.set_rlabel_position(0)\n",
    "\n",
    "\n",
    "# Set color and linestyle of grid\n",
    "ax.xaxis.grid(True, color=\"#888888\", linestyle='solid', linewidth=0.5)\n",
    "ax.yaxis.grid(True, color=\"#888888\", linestyle='solid', linewidth=0.5)\n",
    "\n",
    "\n",
    "# Set number of radial axes and remove labels\n",
    "plt.xticks(x_as[:-1], [])\n",
    "\n",
    "# Set yticks\n",
    "plt.yticks([0, 5, 10, 15], [\"0\", '5', \"10\", \"15\"])\n",
    "\n",
    "\n",
    "# Plot data\n",
    "ax.plot(x_as, values, linewidth=0, linestyle='solid', zorder=3)\n",
    "\n",
    "# Fill area\n",
    "ax.fill(x_as, values, 'b', alpha=0.3)\n",
    "\n",
    "size_of_radar =20\n",
    "# Set axes limits\n",
    "plt.ylim(0, size_of_radar)\n",
    "\n",
    "# Draw ytick labels to make sure they fit properly\n",
    "for i in range(N):\n",
    "    angle_rad = i / float(N) * 2 * pi\n",
    "\n",
    "    if angle_rad == 0:\n",
    "        ha, distance_ax = \"center\", 1\n",
    "    elif 0 < angle_rad < pi:\n",
    "        ha, distance_ax = \"left\", 1\n",
    "    elif angle_rad == pi:\n",
    "        ha, distance_ax = \"center\", 1\n",
    "    else:\n",
    "        ha, distance_ax = \"right\", 1\n",
    "\n",
    "    ax.text(angle_rad, 21 + distance_ax, 'N'+str(cat[i])+' '+str(words_in_clstrs2[i])+' words', size=13, horizontalalignment=ha, verticalalignment=\"center\")\n",
    "\n",
    "# Draw ytick labels to make sure they fit properly\n",
    "plt.savefig('filename_uk.png', dpi = 140)\n",
    "\n",
    "# Show polar plot\n",
    "plt.show()"
   ]
  },
  {
   "cell_type": "code",
   "execution_count": 90,
   "metadata": {},
   "outputs": [
    {
     "data": {
      "text/plain": [
       "['budgetary',\n",
       " 'amalgamate, fused, consolidate, consolidated, amalgamated, coalesced',\n",
       " 'osmium, atomic_number_76, Os',\n",
       " 'foreign, strange, alien, extraneous',\n",
       " 'switch, swap, swop, merchandise, patronage, craft, business_deal, trade, trade_in, trade_wind, deal, barter, sell',\n",
       " '',\n",
       " 'municipality',\n",
       " 'real, rattling, really, tangible, veridical, material, substantial, very, genuine, literal, existent, real_number, actual']"
      ]
     },
     "execution_count": 90,
     "metadata": {},
     "output_type": "execute_result"
    }
   ],
   "source": [
    "result_with_syn[0]"
   ]
  },
  {
   "cell_type": "code",
   "execution_count": 89,
   "metadata": {},
   "outputs": [
    {
     "ename": "ValueError",
     "evalue": "could not convert string to float: 'budgetary'",
     "output_type": "error",
     "traceback": [
      "\u001b[0;31m---------------------------------------------------------------------------\u001b[0m",
      "\u001b[0;31mValueError\u001b[0m                                Traceback (most recent call last)",
      "\u001b[0;32m<ipython-input-89-2f8b9a075e40>\u001b[0m in \u001b[0;36m<module>\u001b[0;34m()\u001b[0m\n\u001b[1;32m     12\u001b[0m     \u001b[0;32mfor\u001b[0m \u001b[0mnc\u001b[0m \u001b[0;32min\u001b[0m \u001b[0mrange\u001b[0m\u001b[0;34m(\u001b[0m\u001b[0;36m10\u001b[0m\u001b[0;34m,\u001b[0m \u001b[0;36m3\u001b[0m\u001b[0;34m,\u001b[0m\u001b[0;34m-\u001b[0m\u001b[0;36m1\u001b[0m\u001b[0;34m)\u001b[0m\u001b[0;34m:\u001b[0m\u001b[0;34m\u001b[0m\u001b[0m\n\u001b[1;32m     13\u001b[0m             \u001b[0mkmean\u001b[0m \u001b[0;34m=\u001b[0m \u001b[0mKMeans\u001b[0m\u001b[0;34m(\u001b[0m\u001b[0mn_clusters\u001b[0m\u001b[0;34m=\u001b[0m\u001b[0mnc\u001b[0m\u001b[0;34m)\u001b[0m\u001b[0;34m\u001b[0m\u001b[0m\n\u001b[0;32m---> 14\u001b[0;31m             \u001b[0mrez\u001b[0m\u001b[0;34m=\u001b[0m\u001b[0mkmean\u001b[0m\u001b[0;34m.\u001b[0m\u001b[0mfit_predict\u001b[0m\u001b[0;34m(\u001b[0m\u001b[0mmatrix\u001b[0m\u001b[0;34m)\u001b[0m\u001b[0;34m\u001b[0m\u001b[0m\n\u001b[0m\u001b[1;32m     15\u001b[0m             \u001b[0msilhouette_avg\u001b[0m \u001b[0;34m=\u001b[0m \u001b[0msilhouette_score\u001b[0m\u001b[0;34m(\u001b[0m\u001b[0mmatrix\u001b[0m\u001b[0;34m,\u001b[0m \u001b[0mrez\u001b[0m\u001b[0;34m)\u001b[0m\u001b[0;34m\u001b[0m\u001b[0m\n\u001b[1;32m     16\u001b[0m             \u001b[0mx\u001b[0m\u001b[0;34m.\u001b[0m\u001b[0mappend\u001b[0m\u001b[0;34m(\u001b[0m\u001b[0mnc\u001b[0m\u001b[0;34m)\u001b[0m\u001b[0;34m\u001b[0m\u001b[0m\n",
      "\u001b[0;32m/opt/conda/lib/python3.6/site-packages/sklearn/cluster/k_means_.py\u001b[0m in \u001b[0;36mfit_predict\u001b[0;34m(self, X, y)\u001b[0m\n\u001b[1;32m    896\u001b[0m         \u001b[0mpredict\u001b[0m\u001b[0;34m(\u001b[0m\u001b[0mX\u001b[0m\u001b[0;34m)\u001b[0m\u001b[0;34m.\u001b[0m\u001b[0;34m\u001b[0m\u001b[0m\n\u001b[1;32m    897\u001b[0m         \"\"\"\n\u001b[0;32m--> 898\u001b[0;31m         \u001b[0;32mreturn\u001b[0m \u001b[0mself\u001b[0m\u001b[0;34m.\u001b[0m\u001b[0mfit\u001b[0m\u001b[0;34m(\u001b[0m\u001b[0mX\u001b[0m\u001b[0;34m)\u001b[0m\u001b[0;34m.\u001b[0m\u001b[0mlabels_\u001b[0m\u001b[0;34m\u001b[0m\u001b[0m\n\u001b[0m\u001b[1;32m    899\u001b[0m \u001b[0;34m\u001b[0m\u001b[0m\n\u001b[1;32m    900\u001b[0m     \u001b[0;32mdef\u001b[0m \u001b[0mfit_transform\u001b[0m\u001b[0;34m(\u001b[0m\u001b[0mself\u001b[0m\u001b[0;34m,\u001b[0m \u001b[0mX\u001b[0m\u001b[0;34m,\u001b[0m \u001b[0my\u001b[0m\u001b[0;34m=\u001b[0m\u001b[0;32mNone\u001b[0m\u001b[0;34m)\u001b[0m\u001b[0;34m:\u001b[0m\u001b[0;34m\u001b[0m\u001b[0m\n",
      "\u001b[0;32m/opt/conda/lib/python3.6/site-packages/sklearn/cluster/k_means_.py\u001b[0m in \u001b[0;36mfit\u001b[0;34m(self, X, y)\u001b[0m\n\u001b[1;32m    878\u001b[0m         \"\"\"\n\u001b[1;32m    879\u001b[0m         \u001b[0mrandom_state\u001b[0m \u001b[0;34m=\u001b[0m \u001b[0mcheck_random_state\u001b[0m\u001b[0;34m(\u001b[0m\u001b[0mself\u001b[0m\u001b[0;34m.\u001b[0m\u001b[0mrandom_state\u001b[0m\u001b[0;34m)\u001b[0m\u001b[0;34m\u001b[0m\u001b[0m\n\u001b[0;32m--> 880\u001b[0;31m         \u001b[0mX\u001b[0m \u001b[0;34m=\u001b[0m \u001b[0mself\u001b[0m\u001b[0;34m.\u001b[0m\u001b[0m_check_fit_data\u001b[0m\u001b[0;34m(\u001b[0m\u001b[0mX\u001b[0m\u001b[0;34m)\u001b[0m\u001b[0;34m\u001b[0m\u001b[0m\n\u001b[0m\u001b[1;32m    881\u001b[0m \u001b[0;34m\u001b[0m\u001b[0m\n\u001b[1;32m    882\u001b[0m         \u001b[0mself\u001b[0m\u001b[0;34m.\u001b[0m\u001b[0mcluster_centers_\u001b[0m\u001b[0;34m,\u001b[0m \u001b[0mself\u001b[0m\u001b[0;34m.\u001b[0m\u001b[0mlabels_\u001b[0m\u001b[0;34m,\u001b[0m \u001b[0mself\u001b[0m\u001b[0;34m.\u001b[0m\u001b[0minertia_\u001b[0m\u001b[0;34m,\u001b[0m \u001b[0mself\u001b[0m\u001b[0;34m.\u001b[0m\u001b[0mn_iter_\u001b[0m \u001b[0;34m=\u001b[0m\u001b[0;31m \u001b[0m\u001b[0;31m\\\u001b[0m\u001b[0;34m\u001b[0m\u001b[0m\n",
      "\u001b[0;32m/opt/conda/lib/python3.6/site-packages/sklearn/cluster/k_means_.py\u001b[0m in \u001b[0;36m_check_fit_data\u001b[0;34m(self, X)\u001b[0m\n\u001b[1;32m    852\u001b[0m     \u001b[0;32mdef\u001b[0m \u001b[0m_check_fit_data\u001b[0m\u001b[0;34m(\u001b[0m\u001b[0mself\u001b[0m\u001b[0;34m,\u001b[0m \u001b[0mX\u001b[0m\u001b[0;34m)\u001b[0m\u001b[0;34m:\u001b[0m\u001b[0;34m\u001b[0m\u001b[0m\n\u001b[1;32m    853\u001b[0m         \u001b[0;34m\"\"\"Verify that the number of samples given is larger than k\"\"\"\u001b[0m\u001b[0;34m\u001b[0m\u001b[0m\n\u001b[0;32m--> 854\u001b[0;31m         \u001b[0mX\u001b[0m \u001b[0;34m=\u001b[0m \u001b[0mcheck_array\u001b[0m\u001b[0;34m(\u001b[0m\u001b[0mX\u001b[0m\u001b[0;34m,\u001b[0m \u001b[0maccept_sparse\u001b[0m\u001b[0;34m=\u001b[0m\u001b[0;34m'csr'\u001b[0m\u001b[0;34m,\u001b[0m \u001b[0mdtype\u001b[0m\u001b[0;34m=\u001b[0m\u001b[0;34m[\u001b[0m\u001b[0mnp\u001b[0m\u001b[0;34m.\u001b[0m\u001b[0mfloat64\u001b[0m\u001b[0;34m,\u001b[0m \u001b[0mnp\u001b[0m\u001b[0;34m.\u001b[0m\u001b[0mfloat32\u001b[0m\u001b[0;34m]\u001b[0m\u001b[0;34m)\u001b[0m\u001b[0;34m\u001b[0m\u001b[0m\n\u001b[0m\u001b[1;32m    855\u001b[0m         \u001b[0;32mif\u001b[0m \u001b[0mX\u001b[0m\u001b[0;34m.\u001b[0m\u001b[0mshape\u001b[0m\u001b[0;34m[\u001b[0m\u001b[0;36m0\u001b[0m\u001b[0;34m]\u001b[0m \u001b[0;34m<\u001b[0m \u001b[0mself\u001b[0m\u001b[0;34m.\u001b[0m\u001b[0mn_clusters\u001b[0m\u001b[0;34m:\u001b[0m\u001b[0;34m\u001b[0m\u001b[0m\n\u001b[1;32m    856\u001b[0m             raise ValueError(\"n_samples=%d should be >= n_clusters=%d\" % (\n",
      "\u001b[0;32m/opt/conda/lib/python3.6/site-packages/sklearn/utils/validation.py\u001b[0m in \u001b[0;36mcheck_array\u001b[0;34m(array, accept_sparse, dtype, order, copy, force_all_finite, ensure_2d, allow_nd, ensure_min_samples, ensure_min_features, warn_on_dtype, estimator)\u001b[0m\n\u001b[1;32m    380\u001b[0m                                       force_all_finite)\n\u001b[1;32m    381\u001b[0m     \u001b[0;32melse\u001b[0m\u001b[0;34m:\u001b[0m\u001b[0;34m\u001b[0m\u001b[0m\n\u001b[0;32m--> 382\u001b[0;31m         \u001b[0marray\u001b[0m \u001b[0;34m=\u001b[0m \u001b[0mnp\u001b[0m\u001b[0;34m.\u001b[0m\u001b[0marray\u001b[0m\u001b[0;34m(\u001b[0m\u001b[0marray\u001b[0m\u001b[0;34m,\u001b[0m \u001b[0mdtype\u001b[0m\u001b[0;34m=\u001b[0m\u001b[0mdtype\u001b[0m\u001b[0;34m,\u001b[0m \u001b[0morder\u001b[0m\u001b[0;34m=\u001b[0m\u001b[0morder\u001b[0m\u001b[0;34m,\u001b[0m \u001b[0mcopy\u001b[0m\u001b[0;34m=\u001b[0m\u001b[0mcopy\u001b[0m\u001b[0;34m)\u001b[0m\u001b[0;34m\u001b[0m\u001b[0m\n\u001b[0m\u001b[1;32m    383\u001b[0m \u001b[0;34m\u001b[0m\u001b[0m\n\u001b[1;32m    384\u001b[0m         \u001b[0;32mif\u001b[0m \u001b[0mensure_2d\u001b[0m\u001b[0;34m:\u001b[0m\u001b[0;34m\u001b[0m\u001b[0m\n",
      "\u001b[0;31mValueError\u001b[0m: could not convert string to float: 'budgetary'"
     ]
    }
   ],
   "source": [
    "#Распределение кластеров\n",
    "from sklearn.cluster import KMeans\n",
    "from sklearn.metrics import silhouette_samples, silhouette_score\n",
    "import numpy as np\n",
    "\n",
    "x= []\n",
    "y= []\n",
    "averg=[]\n",
    "mm = 0\n",
    "matrix = result_with_syn[0]\n",
    "for _ in range(20):\n",
    "    for nc in range(10, 3,-1):\n",
    "            kmean = KMeans(n_clusters=nc)\n",
    "            rez=kmean.fit_predict(matrix) \n",
    "            silhouette_avg = silhouette_score(matrix, rez)\n",
    "            x.append(nc)\n",
    "            y.append(silhouette_avg)\n",
    "            print('clust=',nc,'silh=',silhouette_avg)\n",
    "\n",
    "        \n",
    "        \n",
    "#    df['clst'] = x\n",
    "#    df['coef'] = y\n",
    "#    x= []\n",
    "#    y= []\n",
    "#    averg.append(df.loc[df['coef'].idxmax()]['clst'])\n",
    "#sum(averg)/len(averg)"
   ]
  },
  {
   "cell_type": "code",
   "execution_count": 316,
   "metadata": {},
   "outputs": [
    {
     "data": {
      "text/plain": [
       "(105, 1361)"
      ]
     },
     "execution_count": 316,
     "metadata": {},
     "output_type": "execute_result"
    }
   ],
   "source": [
    "dtm.shape"
   ]
  },
  {
   "cell_type": "code",
   "execution_count": 314,
   "metadata": {
    "collapsed": true
   },
   "outputs": [],
   "source": [
    "dtm = dtm.T"
   ]
  },
  {
   "cell_type": "code",
   "execution_count": 313,
   "metadata": {},
   "outputs": [
    {
     "name": "stdout",
     "output_type": "stream",
     "text": [
      "clust= 10 silh= 0.0732165802112\n"
     ]
    }
   ],
   "source": [
    "kmean = KMeans(n_clusters=10)\n",
    "rez=kmean.fit_predict(dtm) \n",
    "print('clust=',10,'silh=',silhouette_score(dtm, rez))\n"
   ]
  },
  {
   "cell_type": "code",
   "execution_count": 224,
   "metadata": {},
   "outputs": [
    {
     "data": {
      "text/plain": [
       "array([0, 0, 0, ..., 0, 0, 0], dtype=int32)"
      ]
     },
     "execution_count": 224,
     "metadata": {},
     "output_type": "execute_result"
    }
   ],
   "source": [
    "kmean = KMeans(n_clusters=10).fit(dtm)\n",
    "kmean.labels_"
   ]
  },
  {
   "cell_type": "code",
   "execution_count": 487,
   "metadata": {
    "collapsed": true
   },
   "outputs": [
    {
     "data": {
      "image/png": "[encoded data removed]",
      "text/plain": [
       "<matplotlib.figure.Figure at 0x7fbf82702588>"
      ]
     },
     "metadata": {},
     "output_type": "display_data"
    }
   ],
   "source": [
    "plt.plot(ux,uy, marker='o', color='g', ls='')\n",
    "plt.plot(x,y, marker='o', color='r', ls='')\n",
    "plt.show()"
   ]
  },
  {
   "cell_type": "code",
   "execution_count": 488,
   "metadata": {
    "collapsed": true
   },
   "outputs": [],
   "source": [
    "r = []\n",
    "for i in range(len(nomer)):\n",
    "    r.append(((ux[i]*-x[i])**2+(uy[i]*-y[i])**2)**0.5)"
   ]
  },
  {
   "cell_type": "code",
   "execution_count": 10,
   "metadata": {
    "collapsed": true
   },
   "outputs": [],
   "source": [
    "#Токенизация\n",
    "ru_ls= []\n",
    "for i in range(len(ru)):\n",
    "    ru_ls.append(ru[i].split(' '))\n"
   ]
  },
  {
   "cell_type": "code",
   "execution_count": 58,
   "metadata": {
    "scrolled": true
   },
   "outputs": [
    {
     "name": "stdout",
     "output_type": "stream",
     "text": [
      "['the', 'organization', 'to', 'be', 'under', 'the', 'jurisdiction', 'of', 'the', 'Ministry', 'of', 'Finance', 'Russia', 'list', '', 'and', 'the', 'function', 'of', 'the', 'organization', 'to', 'be', 'under', 'the', 'jurisdiction', 'of', 'the', 'Ministry', 'of', 'Finance', '', 'Russia', 'field', 'name', 'english', 'description', 'English', 'description', 'format', 'name', 'of', 'the', 'organization', 'Name', 'of', 'the', 'organization', 'name', 'of', 'the', 'organization', 'to', 'be', 'under', 'the', 'jurisdiction', 'of', 'the', 'Ministry', 'of', 'Finance', 'Russia', 'string', 'head', 'organization', 'of', 'the', 'CEO', '', 'the', 'head', 'of', 'the', 'string', 'legal', 'address', 'Legal', 'address', 'legal', 'address', 'legal', 'address', 'string', 'code', 'kladr', 'KLADR', 'Legal', 'address', 'the', 'legal', 'address', 'of', 'the', 'string', 'kladr', 'code', 'postal', 'address', 'Postal', 'address', 'postal', 'address', 'postal', 'address', 'string', 'code', 'kladr', 'KLADR', 'Postal', 'address', 'postal', 'address', 'code', 'kladr', 'string', 'the', 'latitude', 'coordinate', 'the', 'Latitude', 'coordinate', 'of', 'the', 'latitude', 'string', 'longitude', 'coordinate', 'the', 'Longitude', 'coordinate', 'of', 'the', 'longitude', 'string', 'address', 'e', 'mail', 'Email', 'address', 'email', 'string', 'website', 'WebSite', 'the', 'official', 'website', 'address', 'organization', 'phone', 'Telephone', 'string', 'telephone', 'number', 'string', 'Fax', 'Fax', 'Fax', 'string', 'task', 'and', 'function', 'Functions', 'and', 'tasks', 'the', 'size', 'of', 'payment', 'of', 'work', 'for', 'the', 'vacant', 'position', 'string', '']\n",
      "0\n",
      "the -------\n",
      "organization -------\n",
      "to -------\n",
      "be -------\n",
      "under -------\n",
      "the -------\n",
      "jurisdiction -------\n",
      "of -------\n",
      "the -------\n",
      "Ministry -------\n",
      "of -------\n",
      "Finance -------\n",
      "Russia -------\n",
      "list -------\n",
      " -------\n",
      "and -------\n",
      "the -------\n",
      "function -------\n",
      "of -------\n",
      "the -------\n",
      "organization -------\n",
      "to -------\n",
      "be -------\n",
      "under -------\n",
      "the -------\n",
      "jurisdiction -------\n",
      "of -------\n",
      "the -------\n",
      "Ministry -------\n",
      "of -------\n",
      "Finance -------\n",
      " -------\n",
      "Russia -------\n",
      "field -------\n",
      "name -------\n",
      "english -------\n",
      "description -------\n",
      "English -------\n",
      "description -------\n",
      "format -------\n",
      "name -------\n",
      "of -------\n",
      "the -------\n",
      "organization -------\n",
      "Name -------\n",
      "of -------\n",
      "the -------\n",
      "organization -------\n",
      "name -------\n",
      "of -------\n",
      "the -------\n",
      "organization -------\n",
      "to -------\n",
      "be -------\n",
      "under -------\n",
      "the -------\n",
      "jurisdiction -------\n",
      "of -------\n",
      "the -------\n",
      "Ministry -------\n",
      "of -------\n",
      "Finance -------\n",
      "Russia -------\n",
      "string -------\n",
      "head -------\n",
      "organization -------\n",
      "of -------\n",
      "the -------\n",
      "CEO -------\n",
      " -------\n",
      "the -------\n",
      "head -------\n",
      "of -------\n",
      "the -------\n",
      "string -------\n",
      "legal -------\n",
      "address -------\n",
      "Legal -------\n",
      "address -------\n",
      "legal -------\n",
      "address -------\n",
      "legal -------\n",
      "address -------\n",
      "string -------\n",
      "code -------\n",
      "kladr -------\n",
      "KLADR -------\n",
      "Legal -------\n",
      "address -------\n",
      "the -------\n",
      "legal -------\n",
      "address -------\n",
      "of -------\n",
      "the -------\n",
      "string -------\n",
      "kladr -------\n",
      "code -------\n",
      "postal -------\n",
      "address -------\n",
      "Postal -------\n",
      "address -------\n",
      "postal -------\n",
      "address -------\n",
      "postal -------\n",
      "address -------\n",
      "string -------\n",
      "code -------\n",
      "kladr -------\n",
      "KLADR -------\n",
      "Postal -------\n",
      "address -------\n",
      "postal -------\n",
      "address -------\n",
      "code -------\n",
      "kladr -------\n",
      "string -------\n",
      "the -------\n",
      "latitude -------\n",
      "coordinate -------\n",
      "the -------\n",
      "Latitude -------\n",
      "coordinate -------\n",
      "of -------\n",
      "the -------\n",
      "latitude -------\n",
      "string -------\n",
      "longitude -------\n",
      "coordinate -------\n",
      "the -------\n",
      "Longitude -------\n",
      "coordinate -------\n",
      "of -------\n",
      "the -------\n",
      "longitude -------\n",
      "string -------\n",
      "address -------\n",
      "e -------\n",
      "mail -------\n",
      "Email -------\n",
      "address -------\n",
      "email -------\n",
      "string -------\n",
      "website -------\n",
      "WebSite -------\n",
      "the -------\n",
      "official -------\n",
      "website -------\n",
      "address -------\n",
      "organization -------\n",
      "phone -------\n",
      "Telephone -------\n",
      "string -------\n",
      "telephone -------\n",
      "number -------\n",
      "string -------\n",
      "Fax -------\n",
      "Fax -------\n",
      "Fax -------\n",
      "string -------\n",
      "task -------\n",
      "and -------\n",
      "function -------\n",
      "Functions -------\n",
      "and -------\n",
      "tasks -------\n",
      "the -------\n",
      "size -------\n",
      "of -------\n",
      "payment -------\n",
      "of -------\n",
      "work -------\n",
      "for -------\n",
      "the -------\n",
      "vacant -------\n",
      "position -------\n",
      "string -------\n",
      " -------\n",
      "['', 'the', 'plan', 'of', 'control', 'activities', 'of', 'the', 'administrative', 'Department', 'of', 'the', 'Ministry', 'of', 'Finance', 'of', 'the', 'Russian', 'Federation', 'a', 'plan', 'for', 'the', 'implementation', 'of', 'verification', 'under', 'the', 'jurisdiction', 'of', 'the', 'Ministry', 'of', 'Finance', 'of', 'the', 'Russian', 'Federation', 'Federal', 'state', 'institution', 'fgku', 'in', 'the', 'course', 'of', 'control', 'at', 'the', 'level', 'of', 'jurisdiction', 'of', 'xs', 'element', 'name', 'table', 'coll', 'xs', 'complexType', 'xs', 'sequence', 'xs', 'element', 'name', 'p', 'p', 'type', 'xs', 'string', 'xs', 'element', 'name', 'theme', 'test', 'type', 'xs', 'string', 'xs', 'element', 'name', 'number', 'of', 'the', 'member', 'of', 'the', 'control', 'group', 'accounting', 'supervisor', 'the', 'employee', 'financial', 'control', 'to', 'take', 'part', 'in', 'the', 'conduct', 'of', 'inspection', 'type', 'xs', 'string', 'xs', 'element', 'name', 'to', 'render', 'for', 'the', 'result', 'of', 'the', 'verification', 'representation', 'about', 'inadequate', 'execution', 'of', 'the', 'budget', 'and', 'the', 'adoption', 'of', 'a', 'measure', 'on', 'elimination', 'to', 'identify', 'the', 'violation', 'of', 'the', 'budget', 'legislation', 'date', 'room', 'type', 'xs', 'string', 'xs', 'element', 'name', 'violation', 'period', 'based', 'on', 'the', 'extension', 'of', 'the', 'holding', 'in', 'check', 'the', 'number', 'of', 'unscheduled', 'inspection', 'day', 'count', 'type', 'xs', 'string', 'xs', 'element', 'name', 'the', 'amount', 'of', 'means', 'of', 'the', 'Federal', 'budget', 'against', 'which', 'to', 'identify', 'a', 'violation', 'of', 'the', 'budgetary', 'legislation', 'of', 'the', 'Russian', 'Federation', 'RUB', 'type', 'xs', 'string', 'xs', 'element', 'name', 'number', 'to', 'identify', 'the', 'violation', 'of', 'the', 'budget', 'legislation', 'of', 'the', 'Russian', 'Federation', 'type', 'xs', 'string', 'xs', 'element', 'name', 'number', 'of', 'appeal', 'against', 'the', 'decision', 'action', 'inaction', 'a', 'member', 'of', 'the', 'control', 'group', 'or', 'the', 'employee', 'financial', 'control', 'recognized', 'in', 'the', 'established', 'order', 'reasonable', 'type', 'xs', 'string', '']\n",
      "1\n",
      " -------\n",
      "the -------\n",
      "plan -------\n",
      "of -------\n",
      "control -------\n",
      "activities -------\n",
      "of -------\n",
      "the -------\n",
      "administrative -------\n",
      "Department -------\n",
      "of -------\n",
      "the -------\n",
      "Ministry -------\n",
      "of -------\n",
      "Finance -------\n",
      "of -------\n",
      "the -------\n",
      "Russian -------\n",
      "Federation -------\n",
      "a -------\n",
      "plan -------\n",
      "for -------\n",
      "the -------\n",
      "implementation -------\n",
      "of -------\n",
      "verification -------\n",
      "under -------\n",
      "the -------\n",
      "jurisdiction -------\n",
      "of -------\n",
      "the -------\n",
      "Ministry -------\n",
      "of -------\n",
      "Finance -------\n",
      "of -------\n",
      "the -------\n",
      "Russian -------\n",
      "Federation -------\n",
      "Federal -------\n",
      "state -------\n",
      "institution -------\n",
      "fgku -------\n",
      "in -------\n",
      "the -------\n",
      "course -------\n",
      "of -------\n",
      "control -------\n",
      "at -------\n",
      "the -------\n",
      "level -------\n",
      "of -------\n",
      "jurisdiction -------\n",
      "of -------\n",
      "xs -------\n",
      "element -------\n",
      "name -------\n",
      "table -------\n",
      "coll -------\n",
      "xs -------\n",
      "complexType -------\n",
      "xs -------\n",
      "sequence -------\n",
      "xs -------\n",
      "element -------\n",
      "name -------\n",
      "p -------\n",
      "p -------\n",
      "type -------\n",
      "xs -------\n",
      "string -------\n",
      "xs -------\n",
      "element -------\n",
      "name -------\n",
      "theme -------\n",
      "test -------\n",
      "type -------\n",
      "xs -------\n",
      "string -------\n",
      "xs -------\n",
      "element -------\n",
      "name -------\n",
      "number -------\n",
      "of -------\n",
      "the -------\n",
      "member -------\n",
      "of -------\n",
      "the -------\n",
      "control -------\n",
      "group -------\n",
      "accounting -------\n",
      "supervisor -------\n",
      "the -------\n",
      "employee -------\n",
      "financial -------\n",
      "control -------\n",
      "to -------\n",
      "take -------\n",
      "part -------\n",
      "in -------\n",
      "the -------\n",
      "conduct -------\n",
      "of -------\n",
      "inspection -------\n",
      "type -------\n",
      "xs -------\n",
      "string -------\n",
      "xs -------\n",
      "element -------\n",
      "name -------\n",
      "to -------\n",
      "render -------\n",
      "for -------\n",
      "the -------\n",
      "result -------\n",
      "of -------\n",
      "the -------\n",
      "verification -------\n",
      "representation -------\n",
      "about -------\n",
      "inadequate -------\n",
      "execution -------\n",
      "of -------\n",
      "the -------\n",
      "budget -------\n",
      "and -------\n",
      "the -------\n",
      "adoption -------\n",
      "of -------\n",
      "a -------\n",
      "measure -------\n",
      "on -------\n",
      "elimination -------\n",
      "to -------\n",
      "identify -------\n",
      "the -------\n",
      "violation -------\n",
      "of -------\n",
      "the -------\n",
      "budget -------\n",
      "legislation -------\n",
      "date -------\n",
      "room -------\n",
      "type -------\n",
      "xs -------\n",
      "string -------\n",
      "xs -------\n",
      "element -------\n",
      "name -------\n",
      "violation -------\n",
      "period -------\n",
      "based -------\n",
      "on -------\n",
      "the -------\n",
      "extension -------\n",
      "of -------\n",
      "the -------\n",
      "holding -------\n",
      "in -------\n",
      "check -------\n",
      "the -------\n",
      "number -------\n",
      "of -------\n",
      "unscheduled -------\n",
      "inspection -------\n",
      "day -------\n",
      "count -------\n",
      "type -------\n",
      "xs -------\n",
      "string -------\n",
      "xs -------\n",
      "element -------\n",
      "name -------\n",
      "the -------\n",
      "amount -------\n",
      "of -------\n",
      "means -------\n",
      "of -------\n",
      "the -------\n",
      "Federal -------\n",
      "budget -------\n",
      "against -------\n",
      "which -------\n",
      "to -------\n",
      "identify -------\n",
      "a -------\n",
      "violation -------\n",
      "of -------\n",
      "the -------\n",
      "budgetary -------\n",
      "legislation -------\n",
      "of -------\n",
      "the -------\n",
      "Russian -------\n",
      "Federation -------\n",
      "RUB -------\n",
      "type -------\n",
      "xs -------\n",
      "string -------\n",
      "xs -------\n",
      "element -------\n",
      "name -------\n",
      "number -------\n",
      "to -------\n",
      "identify -------\n",
      "the -------\n",
      "violation -------\n",
      "of -------\n",
      "the -------\n",
      "budget -------\n",
      "legislation -------\n",
      "of -------\n",
      "the -------\n",
      "Russian -------\n",
      "Federation -------\n",
      "type -------\n",
      "xs -------\n",
      "string -------\n",
      "xs -------\n",
      "element -------\n",
      "name -------\n",
      "number -------\n",
      "of -------\n",
      "appeal -------\n",
      "against -------\n",
      "the -------\n",
      "decision -------\n",
      "action -------\n",
      "inaction -------\n",
      "a -------\n",
      "member -------\n",
      "of -------\n",
      "the -------\n",
      "control -------\n",
      "group -------\n",
      "or -------\n",
      "the -------\n",
      "employee -------\n",
      "financial -------\n",
      "control -------\n",
      "recognized -------\n",
      "in -------\n",
      "the -------\n",
      "established -------\n",
      "order -------\n",
      "reasonable -------\n",
      "type -------\n",
      "xs -------\n",
      "string -------\n",
      " -------\n",
      "['', 'report', 'on', 'the', 'controlling', 'activities', 'of', 'the', 'administrative', 'Department', 'of', 'the', 'information', 'about', 'the', 'result', 'of', 'scheduled', 'and', 'unscheduled', 'inspection', 'to', 'carry', 'out', 'the', 'Ministry', 'of', 'Finance', 'in', 'Russia', 'the', 'limit', 'of', 'his', 'authority', 'and', 'the', 'result', 'of', 'the', 'test', 'carried', 'out', 'in', 'Russia', '', 'the', 'Ministry', 'of', 'Finance', 'and', 'its', 'subordinate', 'organization', 'of', 'the', 'xs', 'element', 'name', 'table', 'coll', 'xs', 'complexType', 'xs', 'sequence', 'xs', 'element', 'name', 'p', 'p', 'type', 'xs', 'string', 'xs', 'element', 'name', 'theme', 'test', 'type', 'xs', 'string', 'xs', 'element', 'name', 'number', 'of', 'the', 'member', 'of', 'the', 'control', 'group', 'accounting', 'supervisor', 'the', 'employee', 'financial', 'control', 'to', 'take', 'part', 'in', 'the', 'conduct', 'of', 'inspection', 'type', 'xs', 'string', 'xs', 'element', 'name', 'to', 'render', 'for', 'the', 'result', 'of', 'the', 'verification', 'representation', 'about', 'inadequate', 'execution', 'of', 'the', 'budget', 'and', 'the', 'adoption', 'of', 'a', 'measure', 'on', 'elimination', 'to', 'identify', 'the', 'violation', 'of', 'the', 'budget', 'legislation', 'date', 'room', 'type', 'xs', 'string', 'xs', 'element', 'name', 'violation', 'period', 'based', 'on', 'the', 'extension', 'of', 'the', 'holding', 'in', 'check', 'the', 'number', 'of', 'unscheduled', 'inspection', 'day', 'count', 'type', 'xs', 'string', 'xs', 'element', 'name', 'the', 'amount', 'of', 'means', 'of', 'the', 'Federal', 'budget', 'against', 'which', 'to', 'identify', 'a', 'violation', 'of', 'the', 'budgetary', 'legislation', 'of', 'the', 'Russian', 'Federation', 'RUB', 'type', 'xs', 'string', 'xs', 'element', 'name', 'number', 'to', 'identify', 'the', 'violation', 'of', 'the', 'budget', 'legislation', 'of', 'the', 'Russian', 'Federation', 'type', 'xs', 'string', 'xs', 'element', 'name', 'number', 'of', 'appeal', 'against', 'the', 'decision', 'action', 'inaction', 'a', 'member', 'of', 'the', 'control', 'group', 'or', 'the', 'employee', 'financial', 'control', 'recognized', 'in', 'the', 'established', 'order', 'reasonable', 'type', 'xs', 'string', '']\n",
      "2\n"
     ]
    },
    {
     "name": "stdout",
     "output_type": "stream",
     "text": [
      " -------\n",
      "report -------\n"
     ]
    },
    {
     "ename": "IndexError",
     "evalue": "list index out of range",
     "output_type": "error",
     "traceback": [
      "\u001b[0;31m---------------------------------------------------------------------------\u001b[0m",
      "\u001b[0;31mIndexError\u001b[0m                                Traceback (most recent call last)",
      "\u001b[0;32m<ipython-input-58-7f0e971706ac>\u001b[0m in \u001b[0;36m<module>\u001b[0;34m()\u001b[0m\n\u001b[1;32m     10\u001b[0m         \u001b[0;32mfor\u001b[0m \u001b[0msynset\u001b[0m \u001b[0;32min\u001b[0m \u001b[0mwn\u001b[0m\u001b[0;34m.\u001b[0m\u001b[0msynsets\u001b[0m\u001b[0;34m(\u001b[0m\u001b[0ma\u001b[0m\u001b[0;34m)\u001b[0m\u001b[0;34m:\u001b[0m\u001b[0;34m\u001b[0m\u001b[0m\n\u001b[1;32m     11\u001b[0m             \u001b[0;32mfor\u001b[0m \u001b[0mlemma\u001b[0m \u001b[0;32min\u001b[0m \u001b[0msynset\u001b[0m\u001b[0;34m.\u001b[0m\u001b[0mlemmas\u001b[0m\u001b[0;34m(\u001b[0m\u001b[0;34m)\u001b[0m\u001b[0;34m:\u001b[0m\u001b[0;34m\u001b[0m\u001b[0m\n\u001b[0;32m---> 12\u001b[0;31m                 \u001b[0mz\u001b[0m\u001b[0;34m[\u001b[0m\u001b[0mind\u001b[0m\u001b[0;34m]\u001b[0m\u001b[0;34m.\u001b[0m\u001b[0mappend\u001b[0m\u001b[0;34m(\u001b[0m\u001b[0mlemma\u001b[0m\u001b[0;34m.\u001b[0m\u001b[0mname\u001b[0m\u001b[0;34m(\u001b[0m\u001b[0;34m)\u001b[0m\u001b[0;34m)\u001b[0m\u001b[0;34m\u001b[0m\u001b[0m\n\u001b[0m",
      "\u001b[0;31mIndexError\u001b[0m: list index out of range"
     ]
    }
   ],
   "source": [
    "#Синонимы\n",
    "z= [[],[]]\n",
    "ind=-1\n",
    "for i in ru_ls:\n",
    "    print(i)\n",
    "    ind +=1\n",
    "    print(ind)\n",
    "    for a in i:\n",
    "        print(a,'-------')\n",
    "        for synset in wn.synsets(a):\n",
    "            for lemma in synset.lemmas():\n",
    "                z[ind].append(lemma.name())"
   ]
  },
  {
   "cell_type": "code",
   "execution_count": 83,
   "metadata": {},
   "outputs": [
    {
     "data": {
      "text/plain": [
       "array([[0, 0, 0, ..., 0, 0, 0],\n",
       "       [0, 1, 2, ..., 1, 1, 4],\n",
       "       [0, 0, 0, ..., 0, 0, 0],\n",
       "       ..., \n",
       "       [0, 0, 0, ..., 0, 0, 0],\n",
       "       [0, 0, 0, ..., 0, 0, 0],\n",
       "       [0, 0, 0, ..., 0, 1, 1]], dtype=int64)"
      ]
     },
     "execution_count": 83,
     "metadata": {},
     "output_type": "execute_result"
    }
   ],
   "source": []
  },
  {
   "cell_type": "code",
   "execution_count": 64,
   "metadata": {
    "collapsed": true
   },
   "outputs": [],
   "source": [
    "import numpy as np\n",
    "U, s, V = np.linalg.svd(tdm, full_matrices=True)"
   ]
  },
  {
   "cell_type": "code",
   "execution_count": 65,
   "metadata": {
    "collapsed": true
   },
   "outputs": [],
   "source": [
    "import pandas as pd\n",
    "\n",
    "dfU = pd.DataFrame(U, index=vectorizer.get_feature_names() )\n",
    "dfV = pd.DataFrame(V)\n"
   ]
  },
  {
   "cell_type": "code",
   "execution_count": 67,
   "metadata": {
    "collapsed": true
   },
   "outputs": [
    {
     "data": {
      "text/html": [
       "<div>\n",
       "<table border=\"1\" class=\"dataframe\">\n",
       "  <thead>\n",
       "    <tr style=\"text-align: right;\">\n",
       "      <th></th>\n",
       "      <th>1</th>\n",
       "      <th>2</th>\n",
       "      <th>3</th>\n",
       "    </tr>\n",
       "  </thead>\n",
       "  <tbody>\n",
       "    <tr>\n",
       "      <th>abbreviated</th>\n",
       "      <td>-0.000039</td>\n",
       "      <td>0.000142</td>\n",
       "      <td>0.001162</td>\n",
       "    </tr>\n",
       "    <tr>\n",
       "      <th>about</th>\n",
       "      <td>0.004000</td>\n",
       "      <td>-0.004269</td>\n",
       "      <td>0.046473</td>\n",
       "    </tr>\n",
       "    <tr>\n",
       "      <th>academic</th>\n",
       "      <td>0.002673</td>\n",
       "      <td>-0.000138</td>\n",
       "      <td>-0.000379</td>\n",
       "    </tr>\n",
       "    <tr>\n",
       "      <th>academicdegree</th>\n",
       "      <td>0.002673</td>\n",
       "      <td>-0.000138</td>\n",
       "      <td>-0.000379</td>\n",
       "    </tr>\n",
       "    <tr>\n",
       "      <th>academy</th>\n",
       "      <td>-0.000007</td>\n",
       "      <td>0.000041</td>\n",
       "      <td>0.000819</td>\n",
       "    </tr>\n",
       "    <tr>\n",
       "      <th>acap</th>\n",
       "      <td>-0.000282</td>\n",
       "      <td>0.000304</td>\n",
       "      <td>0.004552</td>\n",
       "    </tr>\n",
       "    <tr>\n",
       "      <th>acceptance</th>\n",
       "      <td>-0.000059</td>\n",
       "      <td>0.000012</td>\n",
       "      <td>0.000767</td>\n",
       "    </tr>\n",
       "    <tr>\n",
       "      <th>access</th>\n",
       "      <td>-0.000127</td>\n",
       "      <td>0.000146</td>\n",
       "      <td>0.001816</td>\n",
       "    </tr>\n",
       "    <tr>\n",
       "      <th>accommodation</th>\n",
       "      <td>-0.000107</td>\n",
       "      <td>0.000081</td>\n",
       "      <td>0.001325</td>\n",
       "    </tr>\n",
       "    <tr>\n",
       "      <th>accordance</th>\n",
       "      <td>-0.001590</td>\n",
       "      <td>0.004204</td>\n",
       "      <td>0.009933</td>\n",
       "    </tr>\n",
       "    <tr>\n",
       "      <th>according</th>\n",
       "      <td>-0.001517</td>\n",
       "      <td>0.001634</td>\n",
       "      <td>0.017649</td>\n",
       "    </tr>\n",
       "    <tr>\n",
       "      <th>account</th>\n",
       "      <td>-0.008480</td>\n",
       "      <td>-0.042358</td>\n",
       "      <td>0.137140</td>\n",
       "    </tr>\n",
       "    <tr>\n",
       "      <th>accounting</th>\n",
       "      <td>-0.001315</td>\n",
       "      <td>0.003521</td>\n",
       "      <td>0.005696</td>\n",
       "    </tr>\n",
       "    <tr>\n",
       "      <th>achieve</th>\n",
       "      <td>-0.000709</td>\n",
       "      <td>0.000968</td>\n",
       "      <td>0.010014</td>\n",
       "    </tr>\n",
       "    <tr>\n",
       "      <th>achievement</th>\n",
       "      <td>-0.000118</td>\n",
       "      <td>0.000161</td>\n",
       "      <td>0.001669</td>\n",
       "    </tr>\n",
       "    <tr>\n",
       "      <th>achieving</th>\n",
       "      <td>-0.001300</td>\n",
       "      <td>0.001775</td>\n",
       "      <td>0.018359</td>\n",
       "    </tr>\n",
       "    <tr>\n",
       "      <th>act</th>\n",
       "      <td>-0.004306</td>\n",
       "      <td>-0.030823</td>\n",
       "      <td>-0.005591</td>\n",
       "    </tr>\n",
       "    <tr>\n",
       "      <th>action</th>\n",
       "      <td>0.000196</td>\n",
       "      <td>0.000140</td>\n",
       "      <td>0.000968</td>\n",
       "    </tr>\n",
       "    <tr>\n",
       "      <th>activities</th>\n",
       "      <td>-0.001345</td>\n",
       "      <td>0.001547</td>\n",
       "      <td>0.019229</td>\n",
       "    </tr>\n",
       "    <tr>\n",
       "      <th>activity</th>\n",
       "      <td>0.010824</td>\n",
       "      <td>0.002650</td>\n",
       "      <td>0.034297</td>\n",
       "    </tr>\n",
       "    <tr>\n",
       "      <th>acts</th>\n",
       "      <td>-0.000030</td>\n",
       "      <td>0.000006</td>\n",
       "      <td>0.000384</td>\n",
       "    </tr>\n",
       "    <tr>\n",
       "      <th>additional</th>\n",
       "      <td>-0.000403</td>\n",
       "      <td>0.000575</td>\n",
       "      <td>0.003539</td>\n",
       "    </tr>\n",
       "    <tr>\n",
       "      <th>additionally</th>\n",
       "      <td>-0.000061</td>\n",
       "      <td>-0.000022</td>\n",
       "      <td>0.000645</td>\n",
       "    </tr>\n",
       "    <tr>\n",
       "      <th>address</th>\n",
       "      <td>-0.000666</td>\n",
       "      <td>0.001850</td>\n",
       "      <td>0.021446</td>\n",
       "    </tr>\n",
       "    <tr>\n",
       "      <th>adjust</th>\n",
       "      <td>-0.000074</td>\n",
       "      <td>-0.000105</td>\n",
       "      <td>0.000537</td>\n",
       "    </tr>\n",
       "    <tr>\n",
       "      <th>administrative</th>\n",
       "      <td>0.000196</td>\n",
       "      <td>0.000140</td>\n",
       "      <td>0.000968</td>\n",
       "    </tr>\n",
       "    <tr>\n",
       "      <th>administrator</th>\n",
       "      <td>-0.000211</td>\n",
       "      <td>0.000510</td>\n",
       "      <td>0.002063</td>\n",
       "    </tr>\n",
       "    <tr>\n",
       "      <th>admission</th>\n",
       "      <td>-0.000898</td>\n",
       "      <td>0.002585</td>\n",
       "      <td>-0.001309</td>\n",
       "    </tr>\n",
       "    <tr>\n",
       "      <th>adopt</th>\n",
       "      <td>-0.000029</td>\n",
       "      <td>0.000040</td>\n",
       "      <td>0.000608</td>\n",
       "    </tr>\n",
       "    <tr>\n",
       "      <th>adoption</th>\n",
       "      <td>-0.000045</td>\n",
       "      <td>0.000243</td>\n",
       "      <td>0.003141</td>\n",
       "    </tr>\n",
       "    <tr>\n",
       "      <th>...</th>\n",
       "      <td>...</td>\n",
       "      <td>...</td>\n",
       "      <td>...</td>\n",
       "    </tr>\n",
       "    <tr>\n",
       "      <th>when</th>\n",
       "      <td>-0.000871</td>\n",
       "      <td>-0.005810</td>\n",
       "      <td>-0.002860</td>\n",
       "    </tr>\n",
       "    <tr>\n",
       "      <th>where</th>\n",
       "      <td>0.004986</td>\n",
       "      <td>0.000659</td>\n",
       "      <td>-0.001315</td>\n",
       "    </tr>\n",
       "    <tr>\n",
       "      <th>which</th>\n",
       "      <td>0.000096</td>\n",
       "      <td>0.007127</td>\n",
       "      <td>0.019795</td>\n",
       "    </tr>\n",
       "    <tr>\n",
       "      <th>who</th>\n",
       "      <td>0.002673</td>\n",
       "      <td>-0.000138</td>\n",
       "      <td>-0.000379</td>\n",
       "    </tr>\n",
       "    <tr>\n",
       "      <th>whole</th>\n",
       "      <td>-0.001332</td>\n",
       "      <td>0.008570</td>\n",
       "      <td>-0.011885</td>\n",
       "    </tr>\n",
       "    <tr>\n",
       "      <th>whose</th>\n",
       "      <td>-0.000037</td>\n",
       "      <td>0.000119</td>\n",
       "      <td>0.000687</td>\n",
       "    </tr>\n",
       "    <tr>\n",
       "      <th>with</th>\n",
       "      <td>-0.014664</td>\n",
       "      <td>-0.081706</td>\n",
       "      <td>-0.011522</td>\n",
       "    </tr>\n",
       "    <tr>\n",
       "      <th>withdrawal</th>\n",
       "      <td>-0.003844</td>\n",
       "      <td>-0.037685</td>\n",
       "      <td>-0.025314</td>\n",
       "    </tr>\n",
       "    <tr>\n",
       "      <th>within</th>\n",
       "      <td>-0.000004</td>\n",
       "      <td>0.000018</td>\n",
       "      <td>0.000110</td>\n",
       "    </tr>\n",
       "    <tr>\n",
       "      <th>without</th>\n",
       "      <td>-0.000937</td>\n",
       "      <td>0.002079</td>\n",
       "      <td>-0.001105</td>\n",
       "    </tr>\n",
       "    <tr>\n",
       "      <th>work</th>\n",
       "      <td>0.003245</td>\n",
       "      <td>0.003169</td>\n",
       "      <td>0.023773</td>\n",
       "    </tr>\n",
       "    <tr>\n",
       "      <th>worked</th>\n",
       "      <td>0.002673</td>\n",
       "      <td>-0.000138</td>\n",
       "      <td>-0.000379</td>\n",
       "    </tr>\n",
       "    <tr>\n",
       "      <th>worker</th>\n",
       "      <td>-0.000036</td>\n",
       "      <td>0.000051</td>\n",
       "      <td>0.000376</td>\n",
       "    </tr>\n",
       "    <tr>\n",
       "      <th>working</th>\n",
       "      <td>-0.000074</td>\n",
       "      <td>0.000238</td>\n",
       "      <td>0.001374</td>\n",
       "    </tr>\n",
       "    <tr>\n",
       "      <th>works</th>\n",
       "      <td>-0.000565</td>\n",
       "      <td>0.000865</td>\n",
       "      <td>0.006648</td>\n",
       "    </tr>\n",
       "    <tr>\n",
       "      <th>workshop</th>\n",
       "      <td>-0.000004</td>\n",
       "      <td>0.000018</td>\n",
       "      <td>0.000110</td>\n",
       "    </tr>\n",
       "    <tr>\n",
       "      <th>wrap</th>\n",
       "      <td>-0.000141</td>\n",
       "      <td>0.000152</td>\n",
       "      <td>0.002276</td>\n",
       "    </tr>\n",
       "    <tr>\n",
       "      <th>write</th>\n",
       "      <td>-0.001524</td>\n",
       "      <td>-0.010168</td>\n",
       "      <td>-0.005005</td>\n",
       "    </tr>\n",
       "    <tr>\n",
       "      <th>written</th>\n",
       "      <td>-0.000218</td>\n",
       "      <td>-0.001453</td>\n",
       "      <td>-0.000715</td>\n",
       "    </tr>\n",
       "    <tr>\n",
       "      <th>www</th>\n",
       "      <td>0.005346</td>\n",
       "      <td>-0.000275</td>\n",
       "      <td>-0.000758</td>\n",
       "    </tr>\n",
       "    <tr>\n",
       "      <th>xml</th>\n",
       "      <td>0.163056</td>\n",
       "      <td>-0.008403</td>\n",
       "      <td>-0.023121</td>\n",
       "    </tr>\n",
       "    <tr>\n",
       "      <th>xmlns</th>\n",
       "      <td>0.010692</td>\n",
       "      <td>-0.000551</td>\n",
       "      <td>-0.001516</td>\n",
       "    </tr>\n",
       "    <tr>\n",
       "      <th>xmlschema</th>\n",
       "      <td>0.002673</td>\n",
       "      <td>-0.000138</td>\n",
       "      <td>-0.000379</td>\n",
       "    </tr>\n",
       "    <tr>\n",
       "      <th>xs</th>\n",
       "      <td>0.816325</td>\n",
       "      <td>-0.039208</td>\n",
       "      <td>-0.096831</td>\n",
       "    </tr>\n",
       "    <tr>\n",
       "      <th>year</th>\n",
       "      <td>-0.033269</td>\n",
       "      <td>-0.389915</td>\n",
       "      <td>-0.122441</td>\n",
       "    </tr>\n",
       "    <tr>\n",
       "      <th>years</th>\n",
       "      <td>-0.000238</td>\n",
       "      <td>0.000137</td>\n",
       "      <td>0.002548</td>\n",
       "    </tr>\n",
       "    <tr>\n",
       "      <th>yes</th>\n",
       "      <td>-0.000403</td>\n",
       "      <td>0.000575</td>\n",
       "      <td>0.003539</td>\n",
       "    </tr>\n",
       "    <tr>\n",
       "      <th>your</th>\n",
       "      <td>-0.000080</td>\n",
       "      <td>0.000053</td>\n",
       "      <td>0.000944</td>\n",
       "    </tr>\n",
       "    <tr>\n",
       "      <th>yyyy</th>\n",
       "      <td>-0.000094</td>\n",
       "      <td>0.000464</td>\n",
       "      <td>-0.000038</td>\n",
       "    </tr>\n",
       "    <tr>\n",
       "      <th>сonsecutive</th>\n",
       "      <td>-0.000562</td>\n",
       "      <td>0.000648</td>\n",
       "      <td>0.010890</td>\n",
       "    </tr>\n",
       "  </tbody>\n",
       "</table>\n",
       "<p>1185 rows × 3 columns</p>\n",
       "</div>"
      ],
      "text/plain": [
       "                       1         2         3\n",
       "abbreviated    -0.000039  0.000142  0.001162\n",
       "about           0.004000 -0.004269  0.046473\n",
       "academic        0.002673 -0.000138 -0.000379\n",
       "academicdegree  0.002673 -0.000138 -0.000379\n",
       "academy        -0.000007  0.000041  0.000819\n",
       "acap           -0.000282  0.000304  0.004552\n",
       "acceptance     -0.000059  0.000012  0.000767\n",
       "access         -0.000127  0.000146  0.001816\n",
       "accommodation  -0.000107  0.000081  0.001325\n",
       "accordance     -0.001590  0.004204  0.009933\n",
       "according      -0.001517  0.001634  0.017649\n",
       "account        -0.008480 -0.042358  0.137140\n",
       "accounting     -0.001315  0.003521  0.005696\n",
       "achieve        -0.000709  0.000968  0.010014\n",
       "achievement    -0.000118  0.000161  0.001669\n",
       "achieving      -0.001300  0.001775  0.018359\n",
       "act            -0.004306 -0.030823 -0.005591\n",
       "action          0.000196  0.000140  0.000968\n",
       "activities     -0.001345  0.001547  0.019229\n",
       "activity        0.010824  0.002650  0.034297\n",
       "acts           -0.000030  0.000006  0.000384\n",
       "additional     -0.000403  0.000575  0.003539\n",
       "additionally   -0.000061 -0.000022  0.000645\n",
       "address        -0.000666  0.001850  0.021446\n",
       "adjust         -0.000074 -0.000105  0.000537\n",
       "administrative  0.000196  0.000140  0.000968\n",
       "administrator  -0.000211  0.000510  0.002063\n",
       "admission      -0.000898  0.002585 -0.001309\n",
       "adopt          -0.000029  0.000040  0.000608\n",
       "adoption       -0.000045  0.000243  0.003141\n",
       "...                  ...       ...       ...\n",
       "when           -0.000871 -0.005810 -0.002860\n",
       "where           0.004986  0.000659 -0.001315\n",
       "which           0.000096  0.007127  0.019795\n",
       "who             0.002673 -0.000138 -0.000379\n",
       "whole          -0.001332  0.008570 -0.011885\n",
       "whose          -0.000037  0.000119  0.000687\n",
       "with           -0.014664 -0.081706 -0.011522\n",
       "withdrawal     -0.003844 -0.037685 -0.025314\n",
       "within         -0.000004  0.000018  0.000110\n",
       "without        -0.000937  0.002079 -0.001105\n",
       "work            0.003245  0.003169  0.023773\n",
       "worked          0.002673 -0.000138 -0.000379\n",
       "worker         -0.000036  0.000051  0.000376\n",
       "working        -0.000074  0.000238  0.001374\n",
       "works          -0.000565  0.000865  0.006648\n",
       "workshop       -0.000004  0.000018  0.000110\n",
       "wrap           -0.000141  0.000152  0.002276\n",
       "write          -0.001524 -0.010168 -0.005005\n",
       "written        -0.000218 -0.001453 -0.000715\n",
       "www             0.005346 -0.000275 -0.000758\n",
       "xml             0.163056 -0.008403 -0.023121\n",
       "xmlns           0.010692 -0.000551 -0.001516\n",
       "xmlschema       0.002673 -0.000138 -0.000379\n",
       "xs              0.816325 -0.039208 -0.096831\n",
       "year           -0.033269 -0.389915 -0.122441\n",
       "years          -0.000238  0.000137  0.002548\n",
       "yes            -0.000403  0.000575  0.003539\n",
       "your           -0.000080  0.000053  0.000944\n",
       "yyyy           -0.000094  0.000464 -0.000038\n",
       "сonsecutive    -0.000562  0.000648  0.010890\n",
       "\n",
       "[1185 rows x 3 columns]"
      ]
     },
     "execution_count": 67,
     "metadata": {},
     "output_type": "execute_result"
    }
   ],
   "source": [
    "dfU[[1,2,3]]"
   ]
  },
  {
   "cell_type": "code",
   "execution_count": 66,
   "metadata": {
    "collapsed": true
   },
   "outputs": [
    {
     "data": {
      "text/html": [
       "<div>\n",
       "<table border=\"1\" class=\"dataframe\">\n",
       "  <thead>\n",
       "    <tr style=\"text-align: right;\">\n",
       "      <th></th>\n",
       "      <th>0</th>\n",
       "      <th>1</th>\n",
       "      <th>2</th>\n",
       "      <th>3</th>\n",
       "      <th>4</th>\n",
       "      <th>5</th>\n",
       "      <th>6</th>\n",
       "      <th>7</th>\n",
       "      <th>8</th>\n",
       "      <th>9</th>\n",
       "      <th>...</th>\n",
       "      <th>95</th>\n",
       "      <th>96</th>\n",
       "      <th>97</th>\n",
       "      <th>98</th>\n",
       "      <th>99</th>\n",
       "      <th>100</th>\n",
       "      <th>101</th>\n",
       "      <th>102</th>\n",
       "      <th>103</th>\n",
       "      <th>104</th>\n",
       "    </tr>\n",
       "  </thead>\n",
       "  <tbody>\n",
       "    <tr>\n",
       "      <th>1</th>\n",
       "      <td>-0.007257</td>\n",
       "      <td>0.034809</td>\n",
       "      <td>0.035193</td>\n",
       "      <td>-0.013210</td>\n",
       "      <td>-0.002468</td>\n",
       "      <td>-0.009688</td>\n",
       "      <td>-0.004063</td>\n",
       "      <td>-0.006397</td>\n",
       "      <td>-0.006713</td>\n",
       "      <td>-0.007762</td>\n",
       "      <td>...</td>\n",
       "      <td>-0.005444</td>\n",
       "      <td>-0.048055</td>\n",
       "      <td>-0.037256</td>\n",
       "      <td>0.000960</td>\n",
       "      <td>-0.003635</td>\n",
       "      <td>-0.017434</td>\n",
       "      <td>-0.008460</td>\n",
       "      <td>-0.002718</td>\n",
       "      <td>-0.005527</td>\n",
       "      <td>-0.009607</td>\n",
       "    </tr>\n",
       "    <tr>\n",
       "      <th>2</th>\n",
       "      <td>0.005040</td>\n",
       "      <td>0.020590</td>\n",
       "      <td>0.007395</td>\n",
       "      <td>-0.010482</td>\n",
       "      <td>-0.011348</td>\n",
       "      <td>0.000039</td>\n",
       "      <td>-0.004217</td>\n",
       "      <td>0.005101</td>\n",
       "      <td>0.002313</td>\n",
       "      <td>0.002308</td>\n",
       "      <td>...</td>\n",
       "      <td>-0.002762</td>\n",
       "      <td>0.038221</td>\n",
       "      <td>-0.010987</td>\n",
       "      <td>0.007644</td>\n",
       "      <td>0.000457</td>\n",
       "      <td>-0.009073</td>\n",
       "      <td>0.025682</td>\n",
       "      <td>0.007112</td>\n",
       "      <td>0.009241</td>\n",
       "      <td>0.005604</td>\n",
       "    </tr>\n",
       "  </tbody>\n",
       "</table>\n",
       "<p>2 rows × 105 columns</p>\n",
       "</div>"
      ],
      "text/plain": [
       "        0         1         2         3         4         5         6    \\\n",
       "1 -0.007257  0.034809  0.035193 -0.013210 -0.002468 -0.009688 -0.004063   \n",
       "2  0.005040  0.020590  0.007395 -0.010482 -0.011348  0.000039 -0.004217   \n",
       "\n",
       "        7         8         9      ...          95        96        97   \\\n",
       "1 -0.006397 -0.006713 -0.007762    ...    -0.005444 -0.048055 -0.037256   \n",
       "2  0.005101  0.002313  0.002308    ...    -0.002762  0.038221 -0.010987   \n",
       "\n",
       "        98        99        100       101       102       103       104  \n",
       "1  0.000960 -0.003635 -0.017434 -0.008460 -0.002718 -0.005527 -0.009607  \n",
       "2  0.007644  0.000457 -0.009073  0.025682  0.007112  0.009241  0.005604  \n",
       "\n",
       "[2 rows x 105 columns]"
      ]
     },
     "execution_count": 66,
     "metadata": {},
     "output_type": "execute_result"
    }
   ],
   "source": [
    "dfV.iloc[[1,2]]"
   ]
  },
  {
   "cell_type": "code",
   "execution_count": 10,
   "metadata": {
    "collapsed": true
   },
   "outputs": [],
   "source": [
    "#%matplotlib inline\n",
    "#from pandas.tools.plotting import scatter_matrix\n",
    "#scatter_matrix(dfV, alpha=0.1, figsize=(12, 12), diagonal='kde')"
   ]
  },
  {
   "cell_type": "code",
   "execution_count": 68,
   "metadata": {
    "collapsed": true
   },
   "outputs": [],
   "source": [
    "def f1(x):\n",
    "    if abs(x)<0.1: \n",
    "        return 0  \n",
    "    return x\n"
   ]
  },
  {
   "cell_type": "markdown",
   "metadata": {
    "collapsed": true
   },
   "source": [
    "Выше показаны ключевые образы их три 1-ая компонента самая сильная, вторая послабей и последняя самая слабая.\n",
    "Действительно текст первой компоненты повторяется чаще всего."
   ]
  },
  {
   "cell_type": "code",
   "execution_count": 33,
   "metadata": {},
   "outputs": [
    {
     "data": {
      "text/plain": [
       "[0, -0.57735026918962573, 0, 0, -0.81649658092772615, 0, 0, 0]"
      ]
     },
     "execution_count": 33,
     "metadata": {},
     "output_type": "execute_result"
    }
   ],
   "source": [
    "list(map(f1,dfV[0] ))"
   ]
  },
  {
   "cell_type": "markdown",
   "metadata": {
    "collapsed": true
   },
   "source": [
    "Первая компонента говорит, что  стоит взять 2 и 5 \n",
    "предложения - остальные похожи на эти два, \n",
    "скорее всего или на одно или на другое "
   ]
  },
  {
   "cell_type": "code",
   "execution_count": 74,
   "metadata": {
    "collapsed": true
   },
   "outputs": [],
   "source": [
    "np.savetxt('nump.out', tdm, delimiter=',',fmt = )"
   ]
  },
  {
   "cell_type": "code",
   "execution_count": 80,
   "metadata": {},
   "outputs": [
    {
     "data": {
      "text/plain": [
       "(2, 2)"
      ]
     },
     "execution_count": 80,
     "metadata": {},
     "output_type": "execute_result"
    }
   ],
   "source": [
    "from io import StringIO  \n",
    "numps = StringIO(\"0 1\\n2 3\")\n",
    "np.loadtxt(numps).shape\n"
   ]
  },
  {
   "cell_type": "code",
   "execution_count": 13,
   "metadata": {
    "collapsed": true
   },
   "outputs": [
    {
     "data": {
      "text/plain": [
       "[0, -0.57735026918962584, 0, 0.70441146084575823, 0.40824829046386291, 0, 0, 0]"
      ]
     },
     "execution_count": 13,
     "metadata": {},
     "output_type": "execute_result"
    }
   ],
   "source": [
    "KMeans()"
   ]
  },
  {
   "cell_type": "markdown",
   "metadata": {},
   "source": [
    "В третье компоненте есть различия. Это  показывает что слова образуют две устойчивые группы по повтояемости, то есть две темы."
   ]
  },
  {
   "cell_type": "code",
   "execution_count": 73,
   "metadata": {
    "collapsed": true
   },
   "outputs": [
    {
     "data": {
      "text/html": [
       "\n",
       "    <div class=\"bk-root\">\n",
       "        <a href=\"https://bokeh.pydata.org\" target=\"_blank\" class=\"bk-logo bk-logo-small bk-logo-notebook\"></a>\n",
       "        <span id=\"1eaf69d6-24fe-4ad8-a2ec-f793d4e15b5f\">Loading BokehJS ...</span>\n",
       "    </div>"
      ]
     },
     "metadata": {},
     "output_type": "display_data"
    },
    {
     "data": {
      "application/javascript": [
       "\n",
       "(function(root) {\n",
       "  function now() {\n",
       "    return new Date();\n",
       "  }\n",
       "\n",
       "  var force = true;\n",
       "\n",
       "  if (typeof (root._bokeh_onload_callbacks) === \"undefined\" || force === true) {\n",
       "    root._bokeh_onload_callbacks = [];\n",
       "    root._bokeh_is_loading = undefined;\n",
       "  }\n",
       "\n",
       "  var JS_MIME_TYPE = 'application/javascript';\n",
       "  var HTML_MIME_TYPE = 'text/html';\n",
       "  var EXEC_MIME_TYPE = 'application/vnd.bokehjs_exec.v0+json';\n",
       "  var CLASS_NAME = 'output_bokeh rendered_html';\n",
       "\n",
       "  /**\n",
       "   * Render data to the DOM node\n",
       "   */\n",
       "  function render(props, node) {\n",
       "    var script = document.createElement(\"script\");\n",
       "    node.appendChild(script);\n",
       "  }\n",
       "\n",
       "  /**\n",
       "   * Handle when an output is cleared or removed\n",
       "   */\n",
       "  function handleClearOutput(event, handle) {\n",
       "    var cell = handle.cell;\n",
       "\n",
       "    var id = cell.output_area._bokeh_element_id;\n",
       "    var server_id = cell.output_area._bokeh_server_id;\n",
       "    // Clean up Bokeh references\n",
       "    if (id !== undefined) {\n",
       "      Bokeh.index[id].model.document.clear();\n",
       "      delete Bokeh.index[id];\n",
       "    }\n",
       "\n",
       "    if (server_id !== undefined) {\n",
       "      // Clean up Bokeh references\n",
       "      var cmd = \"from bokeh.io.state import curstate; print(curstate().uuid_to_server['\" + server_id + \"'].get_sessions()[0].document.roots[0]._id)\";\n",
       "      cell.notebook.kernel.execute(cmd, {\n",
       "        iopub: {\n",
       "          output: function(msg) {\n",
       "            var element_id = msg.content.text.trim();\n",
       "            Bokeh.index[element_id].model.document.clear();\n",
       "            delete Bokeh.index[element_id];\n",
       "          }\n",
       "        }\n",
       "      });\n",
       "      // Destroy server and session\n",
       "      var cmd = \"import bokeh.io.notebook as ion; ion.destroy_server('\" + server_id + \"')\";\n",
       "      cell.notebook.kernel.execute(cmd);\n",
       "    }\n",
       "  }\n",
       "\n",
       "  /**\n",
       "   * Handle when a new output is added\n",
       "   */\n",
       "  function handleAddOutput(event, handle) {\n",
       "    var output_area = handle.output_area;\n",
       "    var output = handle.output;\n",
       "\n",
       "    // limit handleAddOutput to display_data with EXEC_MIME_TYPE content only\n",
       "    if ((output.output_type != \"display_data\") || (!output.data.hasOwnProperty(EXEC_MIME_TYPE))) {\n",
       "      return\n",
       "    }\n",
       "\n",
       "    var toinsert = output_area.element.find(`.${CLASS_NAME.split(' ')[0]}`);\n",
       "\n",
       "    if (output.metadata[EXEC_MIME_TYPE][\"id\"] !== undefined) {\n",
       "      toinsert[0].firstChild.textContent = output.data[JS_MIME_TYPE];\n",
       "      // store reference to embed id on output_area\n",
       "      output_area._bokeh_element_id = output.metadata[EXEC_MIME_TYPE][\"id\"];\n",
       "    }\n",
       "    if (output.metadata[EXEC_MIME_TYPE][\"server_id\"] !== undefined) {\n",
       "      var bk_div = document.createElement(\"div\");\n",
       "      bk_div.innerHTML = output.data[HTML_MIME_TYPE];\n",
       "      var script_attrs = bk_div.children[0].attributes;\n",
       "      for (var i = 0; i < script_attrs.length; i++) {\n",
       "        toinsert[0].firstChild.setAttribute(script_attrs[i].name, script_attrs[i].value);\n",
       "      }\n",
       "      // store reference to server id on output_area\n",
       "      output_area._bokeh_server_id = output.metadata[EXEC_MIME_TYPE][\"server_id\"];\n",
       "    }\n",
       "  }\n",
       "\n",
       "  function register_renderer(events, OutputArea) {\n",
       "\n",
       "    function append_mime(data, metadata, element) {\n",
       "      // create a DOM node to render to\n",
       "      var toinsert = this.create_output_subarea(\n",
       "        metadata,\n",
       "        CLASS_NAME,\n",
       "        EXEC_MIME_TYPE\n",
       "      );\n",
       "      this.keyboard_manager.register_events(toinsert);\n",
       "      // Render to node\n",
       "      var props = {data: data, metadata: metadata[EXEC_MIME_TYPE]};\n",
       "      render(props, toinsert[0]);\n",
       "      element.append(toinsert);\n",
       "      return toinsert\n",
       "    }\n",
       "\n",
       "    /* Handle when an output is cleared or removed */\n",
       "    events.on('clear_output.CodeCell', handleClearOutput);\n",
       "    events.on('delete.Cell', handleClearOutput);\n",
       "\n",
       "    /* Handle when a new output is added */\n",
       "    events.on('output_added.OutputArea', handleAddOutput);\n",
       "\n",
       "    /**\n",
       "     * Register the mime type and append_mime function with output_area\n",
       "     */\n",
       "    OutputArea.prototype.register_mime_type(EXEC_MIME_TYPE, append_mime, {\n",
       "      /* Is output safe? */\n",
       "      safe: true,\n",
       "      /* Index of renderer in `output_area.display_order` */\n",
       "      index: 0\n",
       "    });\n",
       "  }\n",
       "\n",
       "  // register the mime type if in Jupyter Notebook environment and previously unregistered\n",
       "  if (root.Jupyter !== undefined) {\n",
       "    var events = require('base/js/events');\n",
       "    var OutputArea = require('notebook/js/outputarea').OutputArea;\n",
       "\n",
       "    if (OutputArea.prototype.mime_types().indexOf(EXEC_MIME_TYPE) == -1) {\n",
       "      register_renderer(events, OutputArea);\n",
       "    }\n",
       "  }\n",
       "\n",
       "  \n",
       "  if (typeof (root._bokeh_timeout) === \"undefined\" || force === true) {\n",
       "    root._bokeh_timeout = Date.now() + 5000;\n",
       "    root._bokeh_failed_load = false;\n",
       "  }\n",
       "\n",
       "  var NB_LOAD_WARNING = {'data': {'text/html':\n",
       "     \"<div style='background-color: #fdd'>\\n\"+\n",
       "     \"<p>\\n\"+\n",
       "     \"BokehJS does not appear to have successfully loaded. If loading BokehJS from CDN, this \\n\"+\n",
       "     \"may be due to a slow or bad network connection. Possible fixes:\\n\"+\n",
       "     \"</p>\\n\"+\n",
       "     \"<ul>\\n\"+\n",
       "     \"<li>re-rerun `output_notebook()` to attempt to load from CDN again, or</li>\\n\"+\n",
       "     \"<li>use INLINE resources instead, as so:</li>\\n\"+\n",
       "     \"</ul>\\n\"+\n",
       "     \"<code>\\n\"+\n",
       "     \"from bokeh.resources import INLINE\\n\"+\n",
       "     \"output_notebook(resources=INLINE)\\n\"+\n",
       "     \"</code>\\n\"+\n",
       "     \"</div>\"}};\n",
       "\n",
       "  function display_loaded() {\n",
       "    var el = document.getElementById(\"1eaf69d6-24fe-4ad8-a2ec-f793d4e15b5f\");\n",
       "    if (el != null) {\n",
       "      el.textContent = \"BokehJS is loading...\";\n",
       "    }\n",
       "    if (root.Bokeh !== undefined) {\n",
       "      if (el != null) {\n",
       "        el.textContent = \"BokehJS \" + root.Bokeh.version + \" successfully loaded.\";\n",
       "      }\n",
       "    } else if (Date.now() < root._bokeh_timeout) {\n",
       "      setTimeout(display_loaded, 100)\n",
       "    }\n",
       "  }\n",
       "\n",
       "\n",
       "  function run_callbacks() {\n",
       "    try {\n",
       "      root._bokeh_onload_callbacks.forEach(function(callback) { callback() });\n",
       "    }\n",
       "    finally {\n",
       "      delete root._bokeh_onload_callbacks\n",
       "    }\n",
       "    console.info(\"Bokeh: all callbacks have finished\");\n",
       "  }\n",
       "\n",
       "  function load_libs(js_urls, callback) {\n",
       "    root._bokeh_onload_callbacks.push(callback);\n",
       "    if (root._bokeh_is_loading > 0) {\n",
       "      console.log(\"Bokeh: BokehJS is being loaded, scheduling callback at\", now());\n",
       "      return null;\n",
       "    }\n",
       "    if (js_urls == null || js_urls.length === 0) {\n",
       "      run_callbacks();\n",
       "      return null;\n",
       "    }\n",
       "    console.log(\"Bokeh: BokehJS not loaded, scheduling load and callback at\", now());\n",
       "    root._bokeh_is_loading = js_urls.length;\n",
       "    for (var i = 0; i < js_urls.length; i++) {\n",
       "      var url = js_urls[i];\n",
       "      var s = document.createElement('script');\n",
       "      s.src = url;\n",
       "      s.async = false;\n",
       "      s.onreadystatechange = s.onload = function() {\n",
       "        root._bokeh_is_loading--;\n",
       "        if (root._bokeh_is_loading === 0) {\n",
       "          console.log(\"Bokeh: all BokehJS libraries loaded\");\n",
       "          run_callbacks()\n",
       "        }\n",
       "      };\n",
       "      s.onerror = function() {\n",
       "        console.warn(\"failed to load library \" + url);\n",
       "      };\n",
       "      console.log(\"Bokeh: injecting script tag for BokehJS library: \", url);\n",
       "      document.getElementsByTagName(\"head\")[0].appendChild(s);\n",
       "    }\n",
       "  };var element = document.getElementById(\"1eaf69d6-24fe-4ad8-a2ec-f793d4e15b5f\");\n",
       "  if (element == null) {\n",
       "    console.log(\"Bokeh: ERROR: autoload.js configured with elementid '1eaf69d6-24fe-4ad8-a2ec-f793d4e15b5f' but no matching script tag was found. \")\n",
       "    return false;\n",
       "  }\n",
       "\n",
       "  var js_urls = [\"https://cdn.pydata.org/bokeh/release/bokeh-0.12.10.min.js\", \"https://cdn.pydata.org/bokeh/release/bokeh-widgets-0.12.10.min.js\", \"https://cdn.pydata.org/bokeh/release/bokeh-tables-0.12.10.min.js\", \"https://cdn.pydata.org/bokeh/release/bokeh-gl-0.12.10.min.js\"];\n",
       "\n",
       "  var inline_js = [\n",
       "    function(Bokeh) {\n",
       "      Bokeh.set_log_level(\"info\");\n",
       "    },\n",
       "    \n",
       "    function(Bokeh) {\n",
       "      \n",
       "    },\n",
       "    function(Bokeh) {\n",
       "      console.log(\"Bokeh: injecting CSS: https://cdn.pydata.org/bokeh/release/bokeh-0.12.10.min.css\");\n",
       "      Bokeh.embed.inject_css(\"https://cdn.pydata.org/bokeh/release/bokeh-0.12.10.min.css\");\n",
       "      console.log(\"Bokeh: injecting CSS: https://cdn.pydata.org/bokeh/release/bokeh-widgets-0.12.10.min.css\");\n",
       "      Bokeh.embed.inject_css(\"https://cdn.pydata.org/bokeh/release/bokeh-widgets-0.12.10.min.css\");\n",
       "      console.log(\"Bokeh: injecting CSS: https://cdn.pydata.org/bokeh/release/bokeh-tables-0.12.10.min.css\");\n",
       "      Bokeh.embed.inject_css(\"https://cdn.pydata.org/bokeh/release/bokeh-tables-0.12.10.min.css\");\n",
       "    }\n",
       "  ];\n",
       "\n",
       "  function run_inline_js() {\n",
       "    \n",
       "    if ((root.Bokeh !== undefined) || (force === true)) {\n",
       "      for (var i = 0; i < inline_js.length; i++) {\n",
       "        inline_js[i].call(root, root.Bokeh);\n",
       "      }if (force === true) {\n",
       "        display_loaded();\n",
       "      }} else if (Date.now() < root._bokeh_timeout) {\n",
       "      setTimeout(run_inline_js, 100);\n",
       "    } else if (!root._bokeh_failed_load) {\n",
       "      console.log(\"Bokeh: BokehJS failed to load within specified timeout.\");\n",
       "      root._bokeh_failed_load = true;\n",
       "    } else if (force !== true) {\n",
       "      var cell = $(document.getElementById(\"1eaf69d6-24fe-4ad8-a2ec-f793d4e15b5f\")).parents('.cell').data().cell;\n",
       "      cell.output_area.append_execute_result(NB_LOAD_WARNING)\n",
       "    }\n",
       "\n",
       "  }\n",
       "\n",
       "  if (root._bokeh_is_loading === 0) {\n",
       "    console.log(\"Bokeh: BokehJS loaded, going straight to plotting\");\n",
       "    run_inline_js();\n",
       "  } else {\n",
       "    load_libs(js_urls, function() {\n",
       "      console.log(\"Bokeh: BokehJS plotting callback run at\", now());\n",
       "      run_inline_js();\n",
       "    });\n",
       "  }\n",
       "}(window));"
      ],
      "application/vnd.bokehjs_load.v0+json": "\n(function(root) {\n  function now() {\n    return new Date();\n  }\n\n  var force = true;\n\n  if (typeof (root._bokeh_onload_callbacks) === \"undefined\" || force === true) {\n    root._bokeh_onload_callbacks = [];\n    root._bokeh_is_loading = undefined;\n  }\n\n  \n\n  \n  if (typeof (root._bokeh_timeout) === \"undefined\" || force === true) {\n    root._bokeh_timeout = Date.now() + 5000;\n    root._bokeh_failed_load = false;\n  }\n\n  var NB_LOAD_WARNING = {'data': {'text/html':\n     \"<div style='background-color: #fdd'>\\n\"+\n     \"<p>\\n\"+\n     \"BokehJS does not appear to have successfully loaded. If loading BokehJS from CDN, this \\n\"+\n     \"may be due to a slow or bad network connection. Possible fixes:\\n\"+\n     \"</p>\\n\"+\n     \"<ul>\\n\"+\n     \"<li>re-rerun `output_notebook()` to attempt to load from CDN again, or</li>\\n\"+\n     \"<li>use INLINE resources instead, as so:</li>\\n\"+\n     \"</ul>\\n\"+\n     \"<code>\\n\"+\n     \"from bokeh.resources import INLINE\\n\"+\n     \"output_notebook(resources=INLINE)\\n\"+\n     \"</code>\\n\"+\n     \"</div>\"}};\n\n  function display_loaded() {\n    var el = document.getElementById(\"1eaf69d6-24fe-4ad8-a2ec-f793d4e15b5f\");\n    if (el != null) {\n      el.textContent = \"BokehJS is loading...\";\n    }\n    if (root.Bokeh !== undefined) {\n      if (el != null) {\n        el.textContent = \"BokehJS \" + root.Bokeh.version + \" successfully loaded.\";\n      }\n    } else if (Date.now() < root._bokeh_timeout) {\n      setTimeout(display_loaded, 100)\n    }\n  }\n\n\n  function run_callbacks() {\n    try {\n      root._bokeh_onload_callbacks.forEach(function(callback) { callback() });\n    }\n    finally {\n      delete root._bokeh_onload_callbacks\n    }\n    console.info(\"Bokeh: all callbacks have finished\");\n  }\n\n  function load_libs(js_urls, callback) {\n    root._bokeh_onload_callbacks.push(callback);\n    if (root._bokeh_is_loading > 0) {\n      console.log(\"Bokeh: BokehJS is being loaded, scheduling callback at\", now());\n      return null;\n    }\n    if (js_urls == null || js_urls.length === 0) {\n      run_callbacks();\n      return null;\n    }\n    console.log(\"Bokeh: BokehJS not loaded, scheduling load and callback at\", now());\n    root._bokeh_is_loading = js_urls.length;\n    for (var i = 0; i < js_urls.length; i++) {\n      var url = js_urls[i];\n      var s = document.createElement('script');\n      s.src = url;\n      s.async = false;\n      s.onreadystatechange = s.onload = function() {\n        root._bokeh_is_loading--;\n        if (root._bokeh_is_loading === 0) {\n          console.log(\"Bokeh: all BokehJS libraries loaded\");\n          run_callbacks()\n        }\n      };\n      s.onerror = function() {\n        console.warn(\"failed to load library \" + url);\n      };\n      console.log(\"Bokeh: injecting script tag for BokehJS library: \", url);\n      document.getElementsByTagName(\"head\")[0].appendChild(s);\n    }\n  };var element = document.getElementById(\"1eaf69d6-24fe-4ad8-a2ec-f793d4e15b5f\");\n  if (element == null) {\n    console.log(\"Bokeh: ERROR: autoload.js configured with elementid '1eaf69d6-24fe-4ad8-a2ec-f793d4e15b5f' but no matching script tag was found. \")\n    return false;\n  }\n\n  var js_urls = [\"https://cdn.pydata.org/bokeh/release/bokeh-0.12.10.min.js\", \"https://cdn.pydata.org/bokeh/release/bokeh-widgets-0.12.10.min.js\", \"https://cdn.pydata.org/bokeh/release/bokeh-tables-0.12.10.min.js\", \"https://cdn.pydata.org/bokeh/release/bokeh-gl-0.12.10.min.js\"];\n\n  var inline_js = [\n    function(Bokeh) {\n      Bokeh.set_log_level(\"info\");\n    },\n    \n    function(Bokeh) {\n      \n    },\n    function(Bokeh) {\n      console.log(\"Bokeh: injecting CSS: https://cdn.pydata.org/bokeh/release/bokeh-0.12.10.min.css\");\n      Bokeh.embed.inject_css(\"https://cdn.pydata.org/bokeh/release/bokeh-0.12.10.min.css\");\n      console.log(\"Bokeh: injecting CSS: https://cdn.pydata.org/bokeh/release/bokeh-widgets-0.12.10.min.css\");\n      Bokeh.embed.inject_css(\"https://cdn.pydata.org/bokeh/release/bokeh-widgets-0.12.10.min.css\");\n      console.log(\"Bokeh: injecting CSS: https://cdn.pydata.org/bokeh/release/bokeh-tables-0.12.10.min.css\");\n      Bokeh.embed.inject_css(\"https://cdn.pydata.org/bokeh/release/bokeh-tables-0.12.10.min.css\");\n    }\n  ];\n\n  function run_inline_js() {\n    \n    if ((root.Bokeh !== undefined) || (force === true)) {\n      for (var i = 0; i < inline_js.length; i++) {\n        inline_js[i].call(root, root.Bokeh);\n      }if (force === true) {\n        display_loaded();\n      }} else if (Date.now() < root._bokeh_timeout) {\n      setTimeout(run_inline_js, 100);\n    } else if (!root._bokeh_failed_load) {\n      console.log(\"Bokeh: BokehJS failed to load within specified timeout.\");\n      root._bokeh_failed_load = true;\n    } else if (force !== true) {\n      var cell = $(document.getElementById(\"1eaf69d6-24fe-4ad8-a2ec-f793d4e15b5f\")).parents('.cell').data().cell;\n      cell.output_area.append_execute_result(NB_LOAD_WARNING)\n    }\n\n  }\n\n  if (root._bokeh_is_loading === 0) {\n    console.log(\"Bokeh: BokehJS loaded, going straight to plotting\");\n    run_inline_js();\n  } else {\n    load_libs(js_urls, function() {\n      console.log(\"Bokeh: BokehJS plotting callback run at\", now());\n      run_inline_js();\n    });\n  }\n}(window));"
     },
     "metadata": {},
     "output_type": "display_data"
    },
    {
     "ename": "KeyboardInterrupt",
     "evalue": "",
     "output_type": "error",
     "traceback": [
      "\u001b[0;31m---------------------------------------------------------------------------\u001b[0m",
      "\u001b[0;31mKeyboardInterrupt\u001b[0m                         Traceback (most recent call last)",
      "\u001b[0;32m<ipython-input-73-e6e109535a2b>\u001b[0m in \u001b[0;36m<module>\u001b[0;34m()\u001b[0m\n\u001b[1;32m     50\u001b[0m \u001b[0;34m\u001b[0m\u001b[0m\n\u001b[1;32m     51\u001b[0m    \u001b[0;32mif\u001b[0m \u001b[0mkmean\u001b[0m\u001b[0;34m.\u001b[0m\u001b[0mlabels_\u001b[0m\u001b[0;34m[\u001b[0m\u001b[0mi\u001b[0m\u001b[0;34m]\u001b[0m \u001b[0;34m==\u001b[0m \u001b[0;36m0\u001b[0m\u001b[0;34m:\u001b[0m\u001b[0;34m\u001b[0m\u001b[0m\n\u001b[0;32m---> 52\u001b[0;31m         \u001b[0mplot\u001b[0m\u001b[0;34m.\u001b[0m\u001b[0mcircle\u001b[0m\u001b[0;34m(\u001b[0m\u001b[0mx\u001b[0m\u001b[0;34m=\u001b[0m\u001b[0msample\u001b[0m\u001b[0;34m[\u001b[0m\u001b[0;36m0\u001b[0m\u001b[0;34m]\u001b[0m\u001b[0;34m,\u001b[0m \u001b[0my\u001b[0m\u001b[0;34m=\u001b[0m\u001b[0msample\u001b[0m\u001b[0;34m[\u001b[0m\u001b[0;36m1\u001b[0m\u001b[0;34m]\u001b[0m\u001b[0;34m,\u001b[0m \u001b[0msize\u001b[0m\u001b[0;34m=\u001b[0m\u001b[0;36m15\u001b[0m\u001b[0;34m,\u001b[0m \u001b[0mcolor\u001b[0m\u001b[0;34m=\u001b[0m\u001b[0;34m\"red\"\u001b[0m\u001b[0;34m)\u001b[0m\u001b[0;34m\u001b[0m\u001b[0m\n\u001b[0m\u001b[1;32m     53\u001b[0m \u001b[0;34m\u001b[0m\u001b[0m\n\u001b[1;32m     54\u001b[0m    \u001b[0;32mif\u001b[0m \u001b[0mkmean\u001b[0m\u001b[0;34m.\u001b[0m\u001b[0mlabels_\u001b[0m\u001b[0;34m[\u001b[0m\u001b[0mi\u001b[0m\u001b[0;34m]\u001b[0m \u001b[0;34m==\u001b[0m \u001b[0;36m1\u001b[0m\u001b[0;34m:\u001b[0m\u001b[0;34m\u001b[0m\u001b[0m\n",
      "\u001b[0;32mfakesource\u001b[0m in \u001b[0;36mcircle\u001b[0;34m(self, x, y, **kwargs)\u001b[0m\n",
      "\u001b[0;32m/opt/conda/lib/python3.6/site-packages/bokeh/plotting/helpers.py\u001b[0m in \u001b[0;36mfunc\u001b[0;34m(self, **kwargs)\u001b[0m\n\u001b[1;32m    758\u001b[0m             \u001b[0m_update_legend\u001b[0m\u001b[0;34m(\u001b[0m\u001b[0mself\u001b[0m\u001b[0;34m,\u001b[0m \u001b[0mlegend_item_label\u001b[0m\u001b[0;34m,\u001b[0m \u001b[0mglyph_renderer\u001b[0m\u001b[0;34m)\u001b[0m\u001b[0;34m\u001b[0m\u001b[0m\n\u001b[1;32m    759\u001b[0m \u001b[0;34m\u001b[0m\u001b[0m\n\u001b[0;32m--> 760\u001b[0;31m         \u001b[0;32mfor\u001b[0m \u001b[0mtool\u001b[0m \u001b[0;32min\u001b[0m \u001b[0mself\u001b[0m\u001b[0;34m.\u001b[0m\u001b[0mselect\u001b[0m\u001b[0;34m(\u001b[0m\u001b[0mtype\u001b[0m\u001b[0;34m=\u001b[0m\u001b[0mBoxSelectTool\u001b[0m\u001b[0;34m)\u001b[0m\u001b[0;34m:\u001b[0m\u001b[0;34m\u001b[0m\u001b[0m\n\u001b[0m\u001b[1;32m    761\u001b[0m             \u001b[0mtool\u001b[0m\u001b[0;34m.\u001b[0m\u001b[0mrenderers\u001b[0m\u001b[0;34m.\u001b[0m\u001b[0mappend\u001b[0m\u001b[0;34m(\u001b[0m\u001b[0mglyph_renderer\u001b[0m\u001b[0;34m)\u001b[0m\u001b[0;34m\u001b[0m\u001b[0m\n\u001b[1;32m    762\u001b[0m \u001b[0;34m\u001b[0m\u001b[0m\n",
      "\u001b[0;32m/opt/conda/lib/python3.6/site-packages/bokeh/models/plots.py\u001b[0m in \u001b[0;36mselect\u001b[0;34m(self, *args, **kwargs)\u001b[0m\n\u001b[1;32m     99\u001b[0m \u001b[0;34m\u001b[0m\u001b[0m\n\u001b[1;32m    100\u001b[0m         \u001b[0;31m# Want to pass selector that is a dictionary\u001b[0m\u001b[0;34m\u001b[0m\u001b[0;34m\u001b[0m\u001b[0m\n\u001b[0;32m--> 101\u001b[0;31m         \u001b[0;32mreturn\u001b[0m \u001b[0m_list_attr_splat\u001b[0m\u001b[0;34m(\u001b[0m\u001b[0mfind\u001b[0m\u001b[0;34m(\u001b[0m\u001b[0mself\u001b[0m\u001b[0;34m.\u001b[0m\u001b[0mreferences\u001b[0m\u001b[0;34m(\u001b[0m\u001b[0;34m)\u001b[0m\u001b[0;34m,\u001b[0m \u001b[0mselector\u001b[0m\u001b[0;34m,\u001b[0m \u001b[0;34m{\u001b[0m\u001b[0;34m'plot'\u001b[0m\u001b[0;34m:\u001b[0m \u001b[0mself\u001b[0m\u001b[0;34m}\u001b[0m\u001b[0;34m)\u001b[0m\u001b[0;34m)\u001b[0m\u001b[0;34m\u001b[0m\u001b[0m\n\u001b[0m\u001b[1;32m    102\u001b[0m \u001b[0;34m\u001b[0m\u001b[0m\n\u001b[1;32m    103\u001b[0m     \u001b[0;32mdef\u001b[0m \u001b[0mrow\u001b[0m\u001b[0;34m(\u001b[0m\u001b[0mself\u001b[0m\u001b[0;34m,\u001b[0m \u001b[0mrow\u001b[0m\u001b[0;34m,\u001b[0m \u001b[0mgridplot\u001b[0m\u001b[0;34m)\u001b[0m\u001b[0;34m:\u001b[0m\u001b[0;34m\u001b[0m\u001b[0m\n",
      "\u001b[0;32m/opt/conda/lib/python3.6/site-packages/bokeh/model.py\u001b[0m in \u001b[0;36mreferences\u001b[0;34m(self)\u001b[0m\n\u001b[1;32m    421\u001b[0m \u001b[0;34m\u001b[0m\u001b[0m\n\u001b[1;32m    422\u001b[0m         '''\n\u001b[0;32m--> 423\u001b[0;31m         \u001b[0;32mreturn\u001b[0m \u001b[0mset\u001b[0m\u001b[0;34m(\u001b[0m\u001b[0mcollect_models\u001b[0m\u001b[0;34m(\u001b[0m\u001b[0mself\u001b[0m\u001b[0;34m)\u001b[0m\u001b[0;34m)\u001b[0m\u001b[0;34m\u001b[0m\u001b[0m\n\u001b[0m\u001b[1;32m    424\u001b[0m \u001b[0;34m\u001b[0m\u001b[0m\n\u001b[1;32m    425\u001b[0m     \u001b[0;32mdef\u001b[0m \u001b[0mselect\u001b[0m\u001b[0;34m(\u001b[0m\u001b[0mself\u001b[0m\u001b[0;34m,\u001b[0m \u001b[0mselector\u001b[0m\u001b[0;34m)\u001b[0m\u001b[0;34m:\u001b[0m\u001b[0;34m\u001b[0m\u001b[0m\n",
      "\u001b[0;32m/opt/conda/lib/python3.6/site-packages/bokeh/model.py\u001b[0m in \u001b[0;36mcollect_models\u001b[0;34m(*input_values)\u001b[0m\n\u001b[1;32m     56\u001b[0m             \u001b[0mids\u001b[0m\u001b[0;34m.\u001b[0m\u001b[0madd\u001b[0m\u001b[0;34m(\u001b[0m\u001b[0mobj\u001b[0m\u001b[0;34m.\u001b[0m\u001b[0m_id\u001b[0m\u001b[0;34m)\u001b[0m\u001b[0;34m\u001b[0m\u001b[0m\n\u001b[1;32m     57\u001b[0m             \u001b[0mcollected\u001b[0m\u001b[0;34m.\u001b[0m\u001b[0mappend\u001b[0m\u001b[0;34m(\u001b[0m\u001b[0mobj\u001b[0m\u001b[0;34m)\u001b[0m\u001b[0;34m\u001b[0m\u001b[0m\n\u001b[0;32m---> 58\u001b[0;31m             \u001b[0m_visit_immediate_value_references\u001b[0m\u001b[0;34m(\u001b[0m\u001b[0mobj\u001b[0m\u001b[0;34m,\u001b[0m \u001b[0mqueue_one\u001b[0m\u001b[0;34m)\u001b[0m\u001b[0;34m\u001b[0m\u001b[0m\n\u001b[0m\u001b[1;32m     59\u001b[0m \u001b[0;34m\u001b[0m\u001b[0m\n\u001b[1;32m     60\u001b[0m     \u001b[0;32mreturn\u001b[0m \u001b[0mcollected\u001b[0m\u001b[0;34m\u001b[0m\u001b[0m\n",
      "\u001b[0;32m/opt/conda/lib/python3.6/site-packages/bokeh/model.py\u001b[0m in \u001b[0;36m_visit_immediate_value_references\u001b[0;34m(value, visitor)\u001b[0m\n\u001b[1;32m    685\u001b[0m     \u001b[0;32mif\u001b[0m \u001b[0misinstance\u001b[0m\u001b[0;34m(\u001b[0m\u001b[0mvalue\u001b[0m\u001b[0;34m,\u001b[0m \u001b[0mHasProps\u001b[0m\u001b[0;34m)\u001b[0m\u001b[0;34m:\u001b[0m\u001b[0;34m\u001b[0m\u001b[0m\n\u001b[1;32m    686\u001b[0m         \u001b[0;32mfor\u001b[0m \u001b[0mattr\u001b[0m \u001b[0;32min\u001b[0m \u001b[0mvalue\u001b[0m\u001b[0;34m.\u001b[0m\u001b[0mproperties_with_refs\u001b[0m\u001b[0;34m(\u001b[0m\u001b[0;34m)\u001b[0m\u001b[0;34m:\u001b[0m\u001b[0;34m\u001b[0m\u001b[0m\n\u001b[0;32m--> 687\u001b[0;31m             \u001b[0mchild\u001b[0m \u001b[0;34m=\u001b[0m \u001b[0mgetattr\u001b[0m\u001b[0;34m(\u001b[0m\u001b[0mvalue\u001b[0m\u001b[0;34m,\u001b[0m \u001b[0mattr\u001b[0m\u001b[0;34m)\u001b[0m\u001b[0;34m\u001b[0m\u001b[0m\n\u001b[0m\u001b[1;32m    688\u001b[0m             \u001b[0m_visit_value_and_its_immediate_references\u001b[0m\u001b[0;34m(\u001b[0m\u001b[0mchild\u001b[0m\u001b[0;34m,\u001b[0m \u001b[0mvisitor\u001b[0m\u001b[0;34m)\u001b[0m\u001b[0;34m\u001b[0m\u001b[0m\n\u001b[1;32m    689\u001b[0m     \u001b[0;32melse\u001b[0m\u001b[0;34m:\u001b[0m\u001b[0;34m\u001b[0m\u001b[0m\n",
      "\u001b[0;32m/opt/conda/lib/python3.6/site-packages/bokeh/core/property/descriptors.py\u001b[0m in \u001b[0;36m__get__\u001b[0;34m(self, obj, owner)\u001b[0m\n\u001b[1;32m    455\u001b[0m         '''\n\u001b[1;32m    456\u001b[0m         \u001b[0;32mif\u001b[0m \u001b[0mobj\u001b[0m \u001b[0;32mis\u001b[0m \u001b[0;32mnot\u001b[0m \u001b[0;32mNone\u001b[0m\u001b[0;34m:\u001b[0m\u001b[0;34m\u001b[0m\u001b[0m\n\u001b[0;32m--> 457\u001b[0;31m             \u001b[0;32mreturn\u001b[0m \u001b[0mself\u001b[0m\u001b[0;34m.\u001b[0m\u001b[0m_get\u001b[0m\u001b[0;34m(\u001b[0m\u001b[0mobj\u001b[0m\u001b[0;34m)\u001b[0m\u001b[0;34m\u001b[0m\u001b[0m\n\u001b[0m\u001b[1;32m    458\u001b[0m         \u001b[0;32melif\u001b[0m \u001b[0mowner\u001b[0m \u001b[0;32mis\u001b[0m \u001b[0;32mnot\u001b[0m \u001b[0;32mNone\u001b[0m\u001b[0;34m:\u001b[0m\u001b[0;34m\u001b[0m\u001b[0m\n\u001b[1;32m    459\u001b[0m             \u001b[0;32mreturn\u001b[0m \u001b[0mself\u001b[0m\u001b[0;34m\u001b[0m\u001b[0m\n",
      "\u001b[0;32m/opt/conda/lib/python3.6/site-packages/bokeh/core/property/descriptors.py\u001b[0m in \u001b[0;36m_get\u001b[0;34m(self, obj)\u001b[0m\n\u001b[1;32m    651\u001b[0m \u001b[0;34m\u001b[0m\u001b[0m\n\u001b[1;32m    652\u001b[0m         \u001b[0;32mif\u001b[0m \u001b[0mself\u001b[0m\u001b[0;34m.\u001b[0m\u001b[0mname\u001b[0m \u001b[0;32mnot\u001b[0m \u001b[0;32min\u001b[0m \u001b[0mobj\u001b[0m\u001b[0;34m.\u001b[0m\u001b[0m_property_values\u001b[0m\u001b[0;34m:\u001b[0m\u001b[0;34m\u001b[0m\u001b[0m\n\u001b[0;32m--> 653\u001b[0;31m             \u001b[0;32mreturn\u001b[0m \u001b[0mself\u001b[0m\u001b[0;34m.\u001b[0m\u001b[0m_get_default\u001b[0m\u001b[0;34m(\u001b[0m\u001b[0mobj\u001b[0m\u001b[0;34m)\u001b[0m\u001b[0;34m\u001b[0m\u001b[0m\n\u001b[0m\u001b[1;32m    654\u001b[0m         \u001b[0;32melse\u001b[0m\u001b[0;34m:\u001b[0m\u001b[0;34m\u001b[0m\u001b[0m\n\u001b[1;32m    655\u001b[0m             \u001b[0;32mreturn\u001b[0m \u001b[0mobj\u001b[0m\u001b[0;34m.\u001b[0m\u001b[0m_property_values\u001b[0m\u001b[0;34m[\u001b[0m\u001b[0mself\u001b[0m\u001b[0;34m.\u001b[0m\u001b[0mname\u001b[0m\u001b[0;34m]\u001b[0m\u001b[0;34m\u001b[0m\u001b[0m\n",
      "\u001b[0;32m/opt/conda/lib/python3.6/site-packages/bokeh/core/property/descriptors.py\u001b[0m in \u001b[0;36m_get_default\u001b[0;34m(self, obj)\u001b[0m\n\u001b[1;32m    668\u001b[0m         \u001b[0mis_themed\u001b[0m \u001b[0;34m=\u001b[0m \u001b[0mobj\u001b[0m\u001b[0;34m.\u001b[0m\u001b[0mthemed_values\u001b[0m\u001b[0;34m(\u001b[0m\u001b[0;34m)\u001b[0m \u001b[0;32mis\u001b[0m \u001b[0;32mnot\u001b[0m \u001b[0;32mNone\u001b[0m \u001b[0;32mand\u001b[0m \u001b[0mself\u001b[0m\u001b[0;34m.\u001b[0m\u001b[0mname\u001b[0m \u001b[0;32min\u001b[0m \u001b[0mobj\u001b[0m\u001b[0;34m.\u001b[0m\u001b[0mthemed_values\u001b[0m\u001b[0;34m(\u001b[0m\u001b[0;34m)\u001b[0m\u001b[0;34m\u001b[0m\u001b[0m\n\u001b[1;32m    669\u001b[0m \u001b[0;34m\u001b[0m\u001b[0m\n\u001b[0;32m--> 670\u001b[0;31m         \u001b[0mdefault\u001b[0m \u001b[0;34m=\u001b[0m \u001b[0mself\u001b[0m\u001b[0;34m.\u001b[0m\u001b[0minstance_default\u001b[0m\u001b[0;34m(\u001b[0m\u001b[0mobj\u001b[0m\u001b[0;34m)\u001b[0m\u001b[0;34m\u001b[0m\u001b[0m\n\u001b[0m\u001b[1;32m    671\u001b[0m \u001b[0;34m\u001b[0m\u001b[0m\n\u001b[1;32m    672\u001b[0m         \u001b[0;32mif\u001b[0m \u001b[0mis_themed\u001b[0m\u001b[0;34m:\u001b[0m\u001b[0;34m\u001b[0m\u001b[0m\n",
      "\u001b[0;32m/opt/conda/lib/python3.6/site-packages/bokeh/core/property/descriptors.py\u001b[0m in \u001b[0;36minstance_default\u001b[0;34m(self, obj)\u001b[0m\n\u001b[1;32m    543\u001b[0m \u001b[0;34m\u001b[0m\u001b[0m\n\u001b[1;32m    544\u001b[0m         '''\n\u001b[0;32m--> 545\u001b[0;31m         \u001b[0;32mreturn\u001b[0m \u001b[0mself\u001b[0m\u001b[0;34m.\u001b[0m\u001b[0mproperty\u001b[0m\u001b[0;34m.\u001b[0m\u001b[0mthemed_default\u001b[0m\u001b[0;34m(\u001b[0m\u001b[0mobj\u001b[0m\u001b[0;34m.\u001b[0m\u001b[0m__class__\u001b[0m\u001b[0;34m,\u001b[0m \u001b[0mself\u001b[0m\u001b[0;34m.\u001b[0m\u001b[0mname\u001b[0m\u001b[0;34m,\u001b[0m \u001b[0mobj\u001b[0m\u001b[0;34m.\u001b[0m\u001b[0mthemed_values\u001b[0m\u001b[0;34m(\u001b[0m\u001b[0;34m)\u001b[0m\u001b[0;34m)\u001b[0m\u001b[0;34m\u001b[0m\u001b[0m\n\u001b[0m\u001b[1;32m    546\u001b[0m \u001b[0;34m\u001b[0m\u001b[0m\n\u001b[1;32m    547\u001b[0m     \u001b[0;32mdef\u001b[0m \u001b[0mset_from_json\u001b[0m\u001b[0;34m(\u001b[0m\u001b[0mself\u001b[0m\u001b[0;34m,\u001b[0m \u001b[0mobj\u001b[0m\u001b[0;34m,\u001b[0m \u001b[0mjson\u001b[0m\u001b[0;34m,\u001b[0m \u001b[0mmodels\u001b[0m\u001b[0;34m=\u001b[0m\u001b[0;32mNone\u001b[0m\u001b[0;34m,\u001b[0m \u001b[0msetter\u001b[0m\u001b[0;34m=\u001b[0m\u001b[0;32mNone\u001b[0m\u001b[0;34m)\u001b[0m\u001b[0;34m:\u001b[0m\u001b[0;34m\u001b[0m\u001b[0m\n",
      "\u001b[0;31mKeyboardInterrupt\u001b[0m: "
     ]
    }
   ],
   "source": [
    "from sklearn.cluster import KMeans\n",
    "\n",
    "import numpy as np\n",
    "\n",
    "import bokeh.plotting\n",
    "\n",
    "from bokeh.plotting import figure\n",
    "\n",
    "from sklearn import datasets\n",
    "\n",
    "bokeh.plotting.output_notebook()  \n",
    "\n",
    "iris = datasets.load_iris()\n",
    "\n",
    "petal_data = tdm \n",
    "\n",
    "kmean = KMeans() #n_clusters asks for only 3 groupings\n",
    "\n",
    "kmean.fit(petal_data) \n",
    "\n",
    "plot = figure(width=500, height=500, title='Ru', x_axis_label = \"X\", y_axis_label = \"Y\")\n",
    "\n",
    "#plot centroid / cluster center / group mean for each group\n",
    "\n",
    "clus_xs = []\n",
    "\n",
    "clus_ys = []\n",
    "\n",
    "#we get the  cluster x / y values from the k-means algorithm\n",
    "\n",
    "for entry in kmean.cluster_centers_:\n",
    "\n",
    "   clus_xs.append(entry[0])\n",
    "\n",
    "   clus_ys.append(entry[1])\n",
    "\n",
    "#the cluster center is marked by a circle, with a cross in it\n",
    "\n",
    "plot.circle_cross(x=clus_xs, y=clus_ys, size=40, fill_alpha=0, line_width=2, )\n",
    "\n",
    "plot.text(x=clus_xs, y=clus_ys, text_font_size='30pt')\n",
    "\n",
    "i = 0 #counter\n",
    "\n",
    " \n",
    "\n",
    "for sample in petal_data:\n",
    "\n",
    " \n",
    "   if kmean.labels_[i] == 0:\n",
    "        plot.circle(x=sample[0], y=sample[1], size=15, color=\"red\")\n",
    "\n",
    "   if kmean.labels_[i] == 1:\n",
    "    plot.circle(x=sample[0], y=sample[1], size=15, color=\"blue\")\n",
    "\n",
    "   if kmean.labels_[i] == 2:\n",
    "    plot.circle(x=sample[0], y=sample[1], size=15, color=\"purple\")\n",
    "\n",
    "   i += 1\n",
    "\n",
    "bokeh.plotting.show(plot)\n"
   ]
  },
  {
   "cell_type": "code",
   "execution_count": null,
   "metadata": {},
   "outputs": [
    {
     "data": {
      "text/html": [
       "\n",
       "    <div class=\"bk-root\">\n",
       "        <a href=\"https://bokeh.pydata.org\" target=\"_blank\" class=\"bk-logo bk-logo-small bk-logo-notebook\"></a>\n",
       "        <span id=\"779d1b0c-3855-42ee-92ee-04d67958aaf0\">Loading BokehJS ...</span>\n",
       "    </div>"
      ]
     },
     "metadata": {},
     "output_type": "display_data"
    },
    {
     "data": {
      "application/javascript": [
       "\n",
       "(function(root) {\n",
       "  function now() {\n",
       "    return new Date();\n",
       "  }\n",
       "\n",
       "  var force = true;\n",
       "\n",
       "  if (typeof (root._bokeh_onload_callbacks) === \"undefined\" || force === true) {\n",
       "    root._bokeh_onload_callbacks = [];\n",
       "    root._bokeh_is_loading = undefined;\n",
       "  }\n",
       "\n",
       "  var JS_MIME_TYPE = 'application/javascript';\n",
       "  var HTML_MIME_TYPE = 'text/html';\n",
       "  var EXEC_MIME_TYPE = 'application/vnd.bokehjs_exec.v0+json';\n",
       "  var CLASS_NAME = 'output_bokeh rendered_html';\n",
       "\n",
       "  /**\n",
       "   * Render data to the DOM node\n",
       "   */\n",
       "  function render(props, node) {\n",
       "    var script = document.createElement(\"script\");\n",
       "    node.appendChild(script);\n",
       "  }\n",
       "\n",
       "  /**\n",
       "   * Handle when an output is cleared or removed\n",
       "   */\n",
       "  function handleClearOutput(event, handle) {\n",
       "    var cell = handle.cell;\n",
       "\n",
       "    var id = cell.output_area._bokeh_element_id;\n",
       "    var server_id = cell.output_area._bokeh_server_id;\n",
       "    // Clean up Bokeh references\n",
       "    if (id !== undefined) {\n",
       "      Bokeh.index[id].model.document.clear();\n",
       "      delete Bokeh.index[id];\n",
       "    }\n",
       "\n",
       "    if (server_id !== undefined) {\n",
       "      // Clean up Bokeh references\n",
       "      var cmd = \"from bokeh.io.state import curstate; print(curstate().uuid_to_server['\" + server_id + \"'].get_sessions()[0].document.roots[0]._id)\";\n",
       "      cell.notebook.kernel.execute(cmd, {\n",
       "        iopub: {\n",
       "          output: function(msg) {\n",
       "            var element_id = msg.content.text.trim();\n",
       "            Bokeh.index[element_id].model.document.clear();\n",
       "            delete Bokeh.index[element_id];\n",
       "          }\n",
       "        }\n",
       "      });\n",
       "      // Destroy server and session\n",
       "      var cmd = \"import bokeh.io.notebook as ion; ion.destroy_server('\" + server_id + \"')\";\n",
       "      cell.notebook.kernel.execute(cmd);\n",
       "    }\n",
       "  }\n",
       "\n",
       "  /**\n",
       "   * Handle when a new output is added\n",
       "   */\n",
       "  function handleAddOutput(event, handle) {\n",
       "    var output_area = handle.output_area;\n",
       "    var output = handle.output;\n",
       "\n",
       "    // limit handleAddOutput to display_data with EXEC_MIME_TYPE content only\n",
       "    if ((output.output_type != \"display_data\") || (!output.data.hasOwnProperty(EXEC_MIME_TYPE))) {\n",
       "      return\n",
       "    }\n",
       "\n",
       "    var toinsert = output_area.element.find(`.${CLASS_NAME.split(' ')[0]}`);\n",
       "\n",
       "    if (output.metadata[EXEC_MIME_TYPE][\"id\"] !== undefined) {\n",
       "      toinsert[0].firstChild.textContent = output.data[JS_MIME_TYPE];\n",
       "      // store reference to embed id on output_area\n",
       "      output_area._bokeh_element_id = output.metadata[EXEC_MIME_TYPE][\"id\"];\n",
       "    }\n",
       "    if (output.metadata[EXEC_MIME_TYPE][\"server_id\"] !== undefined) {\n",
       "      var bk_div = document.createElement(\"div\");\n",
       "      bk_div.innerHTML = output.data[HTML_MIME_TYPE];\n",
       "      var script_attrs = bk_div.children[0].attributes;\n",
       "      for (var i = 0; i < script_attrs.length; i++) {\n",
       "        toinsert[0].firstChild.setAttribute(script_attrs[i].name, script_attrs[i].value);\n",
       "      }\n",
       "      // store reference to server id on output_area\n",
       "      output_area._bokeh_server_id = output.metadata[EXEC_MIME_TYPE][\"server_id\"];\n",
       "    }\n",
       "  }\n",
       "\n",
       "  function register_renderer(events, OutputArea) {\n",
       "\n",
       "    function append_mime(data, metadata, element) {\n",
       "      // create a DOM node to render to\n",
       "      var toinsert = this.create_output_subarea(\n",
       "        metadata,\n",
       "        CLASS_NAME,\n",
       "        EXEC_MIME_TYPE\n",
       "      );\n",
       "      this.keyboard_manager.register_events(toinsert);\n",
       "      // Render to node\n",
       "      var props = {data: data, metadata: metadata[EXEC_MIME_TYPE]};\n",
       "      render(props, toinsert[0]);\n",
       "      element.append(toinsert);\n",
       "      return toinsert\n",
       "    }\n",
       "\n",
       "    /* Handle when an output is cleared or removed */\n",
       "    events.on('clear_output.CodeCell', handleClearOutput);\n",
       "    events.on('delete.Cell', handleClearOutput);\n",
       "\n",
       "    /* Handle when a new output is added */\n",
       "    events.on('output_added.OutputArea', handleAddOutput);\n",
       "\n",
       "    /**\n",
       "     * Register the mime type and append_mime function with output_area\n",
       "     */\n",
       "    OutputArea.prototype.register_mime_type(EXEC_MIME_TYPE, append_mime, {\n",
       "      /* Is output safe? */\n",
       "      safe: true,\n",
       "      /* Index of renderer in `output_area.display_order` */\n",
       "      index: 0\n",
       "    });\n",
       "  }\n",
       "\n",
       "  // register the mime type if in Jupyter Notebook environment and previously unregistered\n",
       "  if (root.Jupyter !== undefined) {\n",
       "    var events = require('base/js/events');\n",
       "    var OutputArea = require('notebook/js/outputarea').OutputArea;\n",
       "\n",
       "    if (OutputArea.prototype.mime_types().indexOf(EXEC_MIME_TYPE) == -1) {\n",
       "      register_renderer(events, OutputArea);\n",
       "    }\n",
       "  }\n",
       "\n",
       "  \n",
       "  if (typeof (root._bokeh_timeout) === \"undefined\" || force === true) {\n",
       "    root._bokeh_timeout = Date.now() + 5000;\n",
       "    root._bokeh_failed_load = false;\n",
       "  }\n",
       "\n",
       "  var NB_LOAD_WARNING = {'data': {'text/html':\n",
       "     \"<div style='background-color: #fdd'>\\n\"+\n",
       "     \"<p>\\n\"+\n",
       "     \"BokehJS does not appear to have successfully loaded. If loading BokehJS from CDN, this \\n\"+\n",
       "     \"may be due to a slow or bad network connection. Possible fixes:\\n\"+\n",
       "     \"</p>\\n\"+\n",
       "     \"<ul>\\n\"+\n",
       "     \"<li>re-rerun `output_notebook()` to attempt to load from CDN again, or</li>\\n\"+\n",
       "     \"<li>use INLINE resources instead, as so:</li>\\n\"+\n",
       "     \"</ul>\\n\"+\n",
       "     \"<code>\\n\"+\n",
       "     \"from bokeh.resources import INLINE\\n\"+\n",
       "     \"output_notebook(resources=INLINE)\\n\"+\n",
       "     \"</code>\\n\"+\n",
       "     \"</div>\"}};\n",
       "\n",
       "  function display_loaded() {\n",
       "    var el = document.getElementById(\"779d1b0c-3855-42ee-92ee-04d67958aaf0\");\n",
       "    if (el != null) {\n",
       "      el.textContent = \"BokehJS is loading...\";\n",
       "    }\n",
       "    if (root.Bokeh !== undefined) {\n",
       "      if (el != null) {\n",
       "        el.textContent = \"BokehJS \" + root.Bokeh.version + \" successfully loaded.\";\n",
       "      }\n",
       "    } else if (Date.now() < root._bokeh_timeout) {\n",
       "      setTimeout(display_loaded, 100)\n",
       "    }\n",
       "  }\n",
       "\n",
       "\n",
       "  function run_callbacks() {\n",
       "    try {\n",
       "      root._bokeh_onload_callbacks.forEach(function(callback) { callback() });\n",
       "    }\n",
       "    finally {\n",
       "      delete root._bokeh_onload_callbacks\n",
       "    }\n",
       "    console.info(\"Bokeh: all callbacks have finished\");\n",
       "  }\n",
       "\n",
       "  function load_libs(js_urls, callback) {\n",
       "    root._bokeh_onload_callbacks.push(callback);\n",
       "    if (root._bokeh_is_loading > 0) {\n",
       "      console.log(\"Bokeh: BokehJS is being loaded, scheduling callback at\", now());\n",
       "      return null;\n",
       "    }\n",
       "    if (js_urls == null || js_urls.length === 0) {\n",
       "      run_callbacks();\n",
       "      return null;\n",
       "    }\n",
       "    console.log(\"Bokeh: BokehJS not loaded, scheduling load and callback at\", now());\n",
       "    root._bokeh_is_loading = js_urls.length;\n",
       "    for (var i = 0; i < js_urls.length; i++) {\n",
       "      var url = js_urls[i];\n",
       "      var s = document.createElement('script');\n",
       "      s.src = url;\n",
       "      s.async = false;\n",
       "      s.onreadystatechange = s.onload = function() {\n",
       "        root._bokeh_is_loading--;\n",
       "        if (root._bokeh_is_loading === 0) {\n",
       "          console.log(\"Bokeh: all BokehJS libraries loaded\");\n",
       "          run_callbacks()\n",
       "        }\n",
       "      };\n",
       "      s.onerror = function() {\n",
       "        console.warn(\"failed to load library \" + url);\n",
       "      };\n",
       "      console.log(\"Bokeh: injecting script tag for BokehJS library: \", url);\n",
       "      document.getElementsByTagName(\"head\")[0].appendChild(s);\n",
       "    }\n",
       "  };var element = document.getElementById(\"779d1b0c-3855-42ee-92ee-04d67958aaf0\");\n",
       "  if (element == null) {\n",
       "    console.log(\"Bokeh: ERROR: autoload.js configured with elementid '779d1b0c-3855-42ee-92ee-04d67958aaf0' but no matching script tag was found. \")\n",
       "    return false;\n",
       "  }\n",
       "\n",
       "  var js_urls = [\"https://cdn.pydata.org/bokeh/release/bokeh-0.12.10.min.js\", \"https://cdn.pydata.org/bokeh/release/bokeh-widgets-0.12.10.min.js\", \"https://cdn.pydata.org/bokeh/release/bokeh-tables-0.12.10.min.js\", \"https://cdn.pydata.org/bokeh/release/bokeh-gl-0.12.10.min.js\"];\n",
       "\n",
       "  var inline_js = [\n",
       "    function(Bokeh) {\n",
       "      Bokeh.set_log_level(\"info\");\n",
       "    },\n",
       "    \n",
       "    function(Bokeh) {\n",
       "      \n",
       "    },\n",
       "    function(Bokeh) {\n",
       "      console.log(\"Bokeh: injecting CSS: https://cdn.pydata.org/bokeh/release/bokeh-0.12.10.min.css\");\n",
       "      Bokeh.embed.inject_css(\"https://cdn.pydata.org/bokeh/release/bokeh-0.12.10.min.css\");\n",
       "      console.log(\"Bokeh: injecting CSS: https://cdn.pydata.org/bokeh/release/bokeh-widgets-0.12.10.min.css\");\n",
       "      Bokeh.embed.inject_css(\"https://cdn.pydata.org/bokeh/release/bokeh-widgets-0.12.10.min.css\");\n",
       "      console.log(\"Bokeh: injecting CSS: https://cdn.pydata.org/bokeh/release/bokeh-tables-0.12.10.min.css\");\n",
       "      Bokeh.embed.inject_css(\"https://cdn.pydata.org/bokeh/release/bokeh-tables-0.12.10.min.css\");\n",
       "    }\n",
       "  ];\n",
       "\n",
       "  function run_inline_js() {\n",
       "    \n",
       "    if ((root.Bokeh !== undefined) || (force === true)) {\n",
       "      for (var i = 0; i < inline_js.length; i++) {\n",
       "        inline_js[i].call(root, root.Bokeh);\n",
       "      }if (force === true) {\n",
       "        display_loaded();\n",
       "      }} else if (Date.now() < root._bokeh_timeout) {\n",
       "      setTimeout(run_inline_js, 100);\n",
       "    } else if (!root._bokeh_failed_load) {\n",
       "      console.log(\"Bokeh: BokehJS failed to load within specified timeout.\");\n",
       "      root._bokeh_failed_load = true;\n",
       "    } else if (force !== true) {\n",
       "      var cell = $(document.getElementById(\"779d1b0c-3855-42ee-92ee-04d67958aaf0\")).parents('.cell').data().cell;\n",
       "      cell.output_area.append_execute_result(NB_LOAD_WARNING)\n",
       "    }\n",
       "\n",
       "  }\n",
       "\n",
       "  if (root._bokeh_is_loading === 0) {\n",
       "    console.log(\"Bokeh: BokehJS loaded, going straight to plotting\");\n",
       "    run_inline_js();\n",
       "  } else {\n",
       "    load_libs(js_urls, function() {\n",
       "      console.log(\"Bokeh: BokehJS plotting callback run at\", now());\n",
       "      run_inline_js();\n",
       "    });\n",
       "  }\n",
       "}(window));"
      ],
      "application/vnd.bokehjs_load.v0+json": "\n(function(root) {\n  function now() {\n    return new Date();\n  }\n\n  var force = true;\n\n  if (typeof (root._bokeh_onload_callbacks) === \"undefined\" || force === true) {\n    root._bokeh_onload_callbacks = [];\n    root._bokeh_is_loading = undefined;\n  }\n\n  \n\n  \n  if (typeof (root._bokeh_timeout) === \"undefined\" || force === true) {\n    root._bokeh_timeout = Date.now() + 5000;\n    root._bokeh_failed_load = false;\n  }\n\n  var NB_LOAD_WARNING = {'data': {'text/html':\n     \"<div style='background-color: #fdd'>\\n\"+\n     \"<p>\\n\"+\n     \"BokehJS does not appear to have successfully loaded. If loading BokehJS from CDN, this \\n\"+\n     \"may be due to a slow or bad network connection. Possible fixes:\\n\"+\n     \"</p>\\n\"+\n     \"<ul>\\n\"+\n     \"<li>re-rerun `output_notebook()` to attempt to load from CDN again, or</li>\\n\"+\n     \"<li>use INLINE resources instead, as so:</li>\\n\"+\n     \"</ul>\\n\"+\n     \"<code>\\n\"+\n     \"from bokeh.resources import INLINE\\n\"+\n     \"output_notebook(resources=INLINE)\\n\"+\n     \"</code>\\n\"+\n     \"</div>\"}};\n\n  function display_loaded() {\n    var el = document.getElementById(\"779d1b0c-3855-42ee-92ee-04d67958aaf0\");\n    if (el != null) {\n      el.textContent = \"BokehJS is loading...\";\n    }\n    if (root.Bokeh !== undefined) {\n      if (el != null) {\n        el.textContent = \"BokehJS \" + root.Bokeh.version + \" successfully loaded.\";\n      }\n    } else if (Date.now() < root._bokeh_timeout) {\n      setTimeout(display_loaded, 100)\n    }\n  }\n\n\n  function run_callbacks() {\n    try {\n      root._bokeh_onload_callbacks.forEach(function(callback) { callback() });\n    }\n    finally {\n      delete root._bokeh_onload_callbacks\n    }\n    console.info(\"Bokeh: all callbacks have finished\");\n  }\n\n  function load_libs(js_urls, callback) {\n    root._bokeh_onload_callbacks.push(callback);\n    if (root._bokeh_is_loading > 0) {\n      console.log(\"Bokeh: BokehJS is being loaded, scheduling callback at\", now());\n      return null;\n    }\n    if (js_urls == null || js_urls.length === 0) {\n      run_callbacks();\n      return null;\n    }\n    console.log(\"Bokeh: BokehJS not loaded, scheduling load and callback at\", now());\n    root._bokeh_is_loading = js_urls.length;\n    for (var i = 0; i < js_urls.length; i++) {\n      var url = js_urls[i];\n      var s = document.createElement('script');\n      s.src = url;\n      s.async = false;\n      s.onreadystatechange = s.onload = function() {\n        root._bokeh_is_loading--;\n        if (root._bokeh_is_loading === 0) {\n          console.log(\"Bokeh: all BokehJS libraries loaded\");\n          run_callbacks()\n        }\n      };\n      s.onerror = function() {\n        console.warn(\"failed to load library \" + url);\n      };\n      console.log(\"Bokeh: injecting script tag for BokehJS library: \", url);\n      document.getElementsByTagName(\"head\")[0].appendChild(s);\n    }\n  };var element = document.getElementById(\"779d1b0c-3855-42ee-92ee-04d67958aaf0\");\n  if (element == null) {\n    console.log(\"Bokeh: ERROR: autoload.js configured with elementid '779d1b0c-3855-42ee-92ee-04d67958aaf0' but no matching script tag was found. \")\n    return false;\n  }\n\n  var js_urls = [\"https://cdn.pydata.org/bokeh/release/bokeh-0.12.10.min.js\", \"https://cdn.pydata.org/bokeh/release/bokeh-widgets-0.12.10.min.js\", \"https://cdn.pydata.org/bokeh/release/bokeh-tables-0.12.10.min.js\", \"https://cdn.pydata.org/bokeh/release/bokeh-gl-0.12.10.min.js\"];\n\n  var inline_js = [\n    function(Bokeh) {\n      Bokeh.set_log_level(\"info\");\n    },\n    \n    function(Bokeh) {\n      \n    },\n    function(Bokeh) {\n      console.log(\"Bokeh: injecting CSS: https://cdn.pydata.org/bokeh/release/bokeh-0.12.10.min.css\");\n      Bokeh.embed.inject_css(\"https://cdn.pydata.org/bokeh/release/bokeh-0.12.10.min.css\");\n      console.log(\"Bokeh: injecting CSS: https://cdn.pydata.org/bokeh/release/bokeh-widgets-0.12.10.min.css\");\n      Bokeh.embed.inject_css(\"https://cdn.pydata.org/bokeh/release/bokeh-widgets-0.12.10.min.css\");\n      console.log(\"Bokeh: injecting CSS: https://cdn.pydata.org/bokeh/release/bokeh-tables-0.12.10.min.css\");\n      Bokeh.embed.inject_css(\"https://cdn.pydata.org/bokeh/release/bokeh-tables-0.12.10.min.css\");\n    }\n  ];\n\n  function run_inline_js() {\n    \n    if ((root.Bokeh !== undefined) || (force === true)) {\n      for (var i = 0; i < inline_js.length; i++) {\n        inline_js[i].call(root, root.Bokeh);\n      }if (force === true) {\n        display_loaded();\n      }} else if (Date.now() < root._bokeh_timeout) {\n      setTimeout(run_inline_js, 100);\n    } else if (!root._bokeh_failed_load) {\n      console.log(\"Bokeh: BokehJS failed to load within specified timeout.\");\n      root._bokeh_failed_load = true;\n    } else if (force !== true) {\n      var cell = $(document.getElementById(\"779d1b0c-3855-42ee-92ee-04d67958aaf0\")).parents('.cell').data().cell;\n      cell.output_area.append_execute_result(NB_LOAD_WARNING)\n    }\n\n  }\n\n  if (root._bokeh_is_loading === 0) {\n    console.log(\"Bokeh: BokehJS loaded, going straight to plotting\");\n    run_inline_js();\n  } else {\n    load_libs(js_urls, function() {\n      console.log(\"Bokeh: BokehJS plotting callback run at\", now());\n      run_inline_js();\n    });\n  }\n}(window));"
     },
     "metadata": {},
     "output_type": "display_data"
    }
   ],
   "source": [
    "\n",
    "from sklearn.cluster import KMeans\n",
    "\n",
    "import numpy as np\n",
    "\n",
    "import bokeh.plotting\n",
    "\n",
    "from bokeh.plotting import figure\n",
    "\n",
    "from sklearn import datasets\n",
    "\n",
    "bokeh.plotting.output_notebook()  \n",
    "\n",
    "iris = datasets.load_iris()\n",
    "\n",
    "petal_data = iris.data[:,2:] \n",
    "\n",
    "kmean = KMeans(n_clusters=3) #n_clusters asks for only 3 groupings\n",
    "\n",
    "kmean.fit(petal_data) \n",
    "\n",
    "plot = figure(width=500, height=500, title='Iris Petals', x_axis_label = \"Petal Length\", y_axis_label = \"Petal Width\")\n",
    "\n",
    "#plot centroid / cluster center / group mean for each group\n",
    "\n",
    "clus_xs = []\n",
    "\n",
    "clus_ys = []\n",
    "\n",
    "#we get the  cluster x / y values from the k-means algorithm\n",
    "\n",
    "for entry in kmean.cluster_centers_:\n",
    "\n",
    "   clus_xs.append(entry[0])\n",
    "\n",
    "   clus_ys.append(entry[1])\n",
    "\n",
    "#the cluster center is marked by a circle, with a cross in it\n",
    "\n",
    "plot.circle_cross(x=clus_xs, y=clus_ys, size=40, fill_alpha=0, line_width=2, color=['red', 'blue', 'purple'])\n",
    "\n",
    "plot.text(text = ['setosa', 'versicolor', 'virginica'], x=clus_xs, y=clus_ys, text_font_size='30pt')\n",
    "\n",
    "i = 0 #counter\n",
    "\n",
    " \n",
    "\n",
    "for sample in petal_data:\n",
    "\n",
    " \n",
    "   if kmean.labels_[i] == 0:\n",
    "        plot.circle(x=sample[0], y=sample[1], size=15, color=\"red\")\n",
    "\n",
    "   if kmean.labels_[i] == 1:\n",
    "    plot.circle(x=sample[0], y=sample[1], size=15, color=\"blue\")\n",
    "\n",
    "   if kmean.labels_[i] == 2:\n",
    "    plot.circle(x=sample[0], y=sample[1], size=15, color=\"purple\")\n",
    "\n",
    "   i += 1\n",
    "\n",
    "bokeh.plotting.show(plot)\n"
   ]
  },
  {
   "cell_type": "code",
   "execution_count": 84,
   "metadata": {},
   "outputs": [
    {
     "ename": "NameError",
     "evalue": "name 'iris' is not defined",
     "output_type": "error",
     "traceback": [
      "\u001b[0;31m---------------------------------------------------------------------------\u001b[0m",
      "\u001b[0;31mNameError\u001b[0m                                 Traceback (most recent call last)",
      "\u001b[0;32m<ipython-input-84-7351ba6f3316>\u001b[0m in \u001b[0;36m<module>\u001b[0;34m()\u001b[0m\n\u001b[0;32m----> 1\u001b[0;31m \u001b[0miris\u001b[0m\u001b[0;34m.\u001b[0m\u001b[0mdata\u001b[0m\u001b[0;34m[\u001b[0m\u001b[0;34m:\u001b[0m\u001b[0;34m,\u001b[0m\u001b[0;36m2\u001b[0m\u001b[0;34m:\u001b[0m\u001b[0;34m]\u001b[0m\u001b[0;34m\u001b[0m\u001b[0m\n\u001b[0m",
      "\u001b[0;31mNameError\u001b[0m: name 'iris' is not defined"
     ]
    }
   ],
   "source": [
    "iris.data[:,2:] "
   ]
  }
 ],
 "metadata": {
  "kernelspec": {
   "display_name": "Python 3",
   "language": "python",
   "name": "python3"
  },
  "language_info": {
   "codemirror_mode": {
    "name": "ipython",
    "version": 3
   },
   "file_extension": ".py",
   "mimetype": "text/x-python",
   "name": "python",
   "nbconvert_exporter": "python",
   "pygments_lexer": "ipython3",
   "version": "3.6.2"
  }
 },
 "nbformat": 4,
 "nbformat_minor": 2
}
