{
 "cells": [
  {
   "cell_type": "markdown",
   "metadata": {},
   "source": [
    "## Латентно семантический анализ\n",
    "\n",
    "\n",
    "Прежде всего нужна матрица TDM. Принято, что строки  в  матрице TDM с соответствуют  словам, а столбцы — документам. В каждой ячейке матрицы указано какое количество раз слово встречается в соответствующем документе. \n"
   ]
  },
  {
   "cell_type": "code",
   "execution_count": 46,
   "metadata": {
    "collapsed": true
   },
   "outputs": [],
   "source": [
    "import pandas as pd\n",
    "import csv\n",
    "import re\n",
    "from pymystem3 import Mystem\n",
    "from yandex_translate import YandexTranslate\n",
    "translate = YandexTranslate('trnsl.1.1.20171021T160722Z.738acb6379ef8012.5214c13767962890654e18a0d677c343d03bba24')\n",
    "import nltk\n",
    "from nltk.corpus import wordnet as wn\n",
    "import numpy as np\n",
    "import itertools\n",
    "%matplotlib inline\n",
    "from sklearn.cluster import KMeans\n",
    "from sklearn.metrics import silhouette_samples, silhouette_score\n",
    "import numpy as np\n"
   ]
  },
  {
   "cell_type": "code",
   "execution_count": 6,
   "metadata": {
    "collapsed": true
   },
   "outputs": [],
   "source": [
    "#Загружаем русский датасет\n",
    "text_file = open(\"OpenData_MinFin_Russia.csv\", \"r\")\n",
    "lines = text_file.read().split('==Q==')"
   ]
  },
  {
   "cell_type": "code",
   "execution_count": 7,
   "metadata": {
    "collapsed": true
   },
   "outputs": [],
   "source": [
    "#Загружаем англ датасет\n",
    "text_file = open(\"UK.csv\", \"r\")\n",
    "uk = text_file.read().split('==Q==')\n",
    "uk = pd.Series(uk)\n",
    "uk = uk.map(lambda x: re.sub('\\s+', ' ', x))\n",
    "uk = uk.map(lambda x: re.sub('[^A-Za-zА-Яа-я]', ' ', x))\n",
    "\n",
    "uk = uk.str.lower()\n",
    "uk.to_csv('uk2.csv', encoding='utf8')"
   ]
  },
  {
   "cell_type": "code",
   "execution_count": 8,
   "metadata": {
    "collapsed": true
   },
   "outputs": [],
   "source": [
    "#Загружаем чилийский датасет\n",
    "\n",
    "text_file = open(\"chile.csv\", \"r\")\n",
    "chile = text_file.read().split('==Q==')\n",
    "chile = pd.Series(chile)\n",
    "chile = chile.map(lambda x: re.sub('\\s+', ' ', x))\n",
    "chile = chile.map(lambda x: re.sub('[^A-Za-zА-Яа-я]', ' ', x))\n",
    "\n",
    "chile = chile.str.lower()\n",
    "chile.to_csv('chile2.csv', encoding='utf8')"
   ]
  },
  {
   "cell_type": "code",
   "execution_count": 9,
   "metadata": {
    "collapsed": true
   },
   "outputs": [],
   "source": [
    "#Берем заранее лематизированные данные с пощью Mystem - я это делал на своем компьютере\n",
    "ru = pd.Series.empty\n",
    "ru = pd.Series.from_csv('ru2.csv')\n",
    "ru = ru[:-1]\n"
   ]
  },
  {
   "cell_type": "code",
   "execution_count": 10,
   "metadata": {
    "collapsed": true
   },
   "outputs": [],
   "source": [
    "#Переводим их на англ.\n",
    "for i in range(len(ru)):\n",
    "    ru[i] = translate.translate(ru[i], 'en')['text'][0]"
   ]
  },
  {
   "cell_type": "code",
   "execution_count": 11,
   "metadata": {
    "collapsed": true
   },
   "outputs": [],
   "source": [
    "ru.to_csv('ru_translate.csv', encoding='utf8')"
   ]
  },
  {
   "cell_type": "code",
   "execution_count": 47,
   "metadata": {
    "collapsed": true
   },
   "outputs": [],
   "source": [
    "#СТАРТ\n",
    "ru = pd.Series.from_csv('ru_translate.csv')"
   ]
  },
  {
   "cell_type": "code",
   "execution_count": 48,
   "metadata": {
    "collapsed": true
   },
   "outputs": [],
   "source": [
    "#Очищаем от запятых\n",
    "ru=ru.map(lambda x: re.sub('\\s+', ' ', x))\n",
    "ru = ru.map(lambda x: re.sub('[^A-Za-zА-Яа-я]', ' ', x))"
   ]
  },
  {
   "cell_type": "code",
   "execution_count": 49,
   "metadata": {
    "collapsed": true
   },
   "outputs": [],
   "source": [
    "#Удаляем стопворды\n",
    "text_file = open(\"stop_words.txt\", \"r\")\n",
    "lines = text_file.read().split('\\n')\n",
    "stopwords = lines[1:-2]\n",
    "stopwords = set(stopwords)\n",
    "\n",
    "def replace_stopwords(str_src, stopwords):\n",
    "    for w in stopwords:\n",
    "        str_src = str_src.replace(\" \" + w + \" \", \" \")\n",
    "        str_src = str_src.replace(\"  \",\" \")\n",
    "    return str_src\n",
    " \n",
    "# Удаление стоп слов\n",
    "ru =ru.map(lambda x: replace_stopwords(x, stopwords))"
   ]
  },
  {
   "cell_type": "code",
   "execution_count": 50,
   "metadata": {
    "collapsed": true
   },
   "outputs": [],
   "source": [
    "ru_old=ru"
   ]
  },
  {
   "cell_type": "code",
   "execution_count": 51,
   "metadata": {},
   "outputs": [
    {
     "data": {
      "text/plain": [
       "array([[0, 0, 0, ..., 0, 0, 0],\n",
       "       [0, 0, 0, ..., 0, 0, 0],\n",
       "       [0, 0, 0, ..., 0, 0, 0],\n",
       "       ..., \n",
       "       [0, 0, 0, ..., 0, 0, 0],\n",
       "       [0, 0, 0, ..., 0, 0, 0],\n",
       "       [0, 0, 0, ..., 0, 1, 1]], dtype=int64)"
      ]
     },
     "execution_count": 51,
     "metadata": {},
     "output_type": "execute_result"
    }
   ],
   "source": [
    "#Делаем веторайзер\n",
    "from sklearn.feature_extraction.text import CountVectorizer\n",
    "vectorizer = CountVectorizer()\n",
    "\n",
    "X = vectorizer.fit_transform(ru)\n",
    "dtm=X.toarray().transpose()\n",
    "vocabulary = vectorizer.get_feature_names()\n",
    "dtm"
   ]
  },
  {
   "cell_type": "code",
   "execution_count": 122,
   "metadata": {},
   "outputs": [
    {
     "name": "stderr",
     "output_type": "stream",
     "text": [
      "/opt/conda/lib/python3.6/site-packages/ipykernel_launcher.py:4: FutureWarning: sort(columns=....) is deprecated, use sort_values(by=.....)\n",
      "  after removing the cwd from sys.path.\n"
     ]
    }
   ],
   "source": [
    "#Подсчет частот\n",
    "d = {'vocabulary': vocabulary,'freq': sum(dtm.T),}\n",
    "freq = pd.DataFrame(data=d)\n",
    "freq=freq.sort('freq',ascending=False)"
   ]
  },
  {
   "cell_type": "code",
   "execution_count": 54,
   "metadata": {},
   "outputs": [
    {
     "data": {
      "text/plain": [
       "[<matplotlib.lines.Line2D at 0x7f765c0da470>]"
      ]
     },
     "execution_count": 54,
     "metadata": {},
     "output_type": "execute_result"
    },
    {
     "data": {
      "image/png": "[encoded data removed]",
      "text/plain": [
       "<matplotlib.figure.Figure at 0x7f7661828be0>"
      ]
     },
     "metadata": {},
     "output_type": "display_data"
    }
   ],
   "source": [
    "import matplotlib.pyplot as plt\n",
    "\n",
    "major_ticks = np.arange(0, 200, 5)                                        \n",
    "minor_ticks = np.arange(0, 200, 5)      \n",
    "fig = plt.figure()\n",
    "\n",
    "ax = fig.add_subplot(111)\n",
    "\n",
    "ax.set_xticks(major_ticks)                                                       \n",
    "ax.set_xticks(minor_ticks, minor=True)                                           \n",
    "ax.set_yticks(major_ticks)                                                       \n",
    "ax.set_yticks(minor_ticks, minor=True)                                           \n",
    "\n",
    "# and a corresponding grid                                                       \n",
    "\n",
    "ax.grid(which='both')                                                            \n",
    "\n",
    "# or if you want differnet settings for the grids:                               \n",
    "ax.grid(which='minor', alpha=0.2)                                                \n",
    "ax.grid(which='major', alpha=0.5)                                                \n",
    "\n",
    "\n",
    "#plt.grid(color='b', linestyle='-', linewidth=1, alpha =0.3)\n",
    "plt.plot(freq['freq'].tolist()[10:200])\n"
   ]
  },
  {
   "cell_type": "code",
   "execution_count": 55,
   "metadata": {
    "collapsed": true
   },
   "outputs": [],
   "source": [
    "ux = []\n",
    "uy = []\n",
    "d = []\n",
    "nomer = []\n",
    "y = freq['freq'].tolist()\n",
    "x = range(1,len(freq['freq'])+1)\n",
    "for i in range(len(x)-2):\n",
    "    d.append(2*(x[i]*(y[i+1]-y[i+2]) + x[i+1]*(y[i+2]-y[i])+x[i+2]*(y[i]-y[i+1])))\n",
    "    if d[i] !=0:\n",
    "        ux.append(((x[i]**2+y[i]**2)*(y[i+1]-y[i+2])+(x[i+1]**2+y[i+1]**2)*(y[i+2]-y[i])+(x[i+2]**2+y[i+2])*(y[i]-y[i+1]))/d[i])\n",
    "        uy.append(((x[i]**2+y[i]**2)*(x[i+2]-x[i+1])+(x[i+1]**2+y[i+1]**2)*(x[i]-x[i+2])+(x[i+2]**2+y[i+2])*(x[i+1]-x[i]))/d[i])\n",
    "        nomer.append(i)"
   ]
  },
  {
   "cell_type": "code",
   "execution_count": 56,
   "metadata": {},
   "outputs": [
    {
     "data": {
      "image/png": "[encoded data removed]",
      "text/plain": [
       "<matplotlib.figure.Figure at 0x7f765c132da0>"
      ]
     },
     "metadata": {},
     "output_type": "display_data"
    }
   ],
   "source": [
    "r = []\n",
    "for i in range(len(nomer)):\n",
    "    r.append(((ux[i]*-x[i])**2+(uy[i]*-y[i])**2)**0.5)\n",
    "    \n",
    "min(r)\n",
    "np.argmin(r)\n",
    "\n",
    "plt.scatter(range(1+40,len(r)),r[1-1+40:len(r)-1],s=1)\n",
    "#plt.plot((0, 8), (10, 10), 'k-')\n",
    "\n",
    "plt.show()"
   ]
  },
  {
   "cell_type": "code",
   "execution_count": 57,
   "metadata": {
    "collapsed": true
   },
   "outputs": [],
   "source": [
    "#выбираем нужные слова\n",
    "features =freq.reset_index(drop=True)[70:220]\n",
    "#спиоск фич\n",
    "features_list = features.T.iloc[1].tolist()"
   ]
  },
  {
   "cell_type": "code",
   "execution_count": 58,
   "metadata": {
    "collapsed": true
   },
   "outputs": [],
   "source": [
    "# Достаем индексы фич\n",
    "index_features=[]\n",
    "for i, j in enumerate(vocabulary):\n",
    "    if j in features_list:\n",
    "        index_features.append(i)\n",
    "#Матрица финальная\n",
    "dtm2 =dtm.T[:, index_features]\n",
    "dtm2=dtm2.T"
   ]
  },
  {
   "cell_type": "code",
   "execution_count": 230,
   "metadata": {},
   "outputs": [
    {
     "name": "stdout",
     "output_type": "stream",
     "text": [
      "clust= 7 silh= 0.211496916642\n"
     ]
    }
   ],
   "source": [
    "#Кластеризация\n",
    "x=[]\n",
    "y=[]\n",
    "clusters=7\n",
    "kmean = KMeans(n_clusters=clusters)\n",
    "rez=kmean.fit_predict(dtm2) \n",
    "silhouette_avg = silhouette_score(dtm2, rez)\n",
    "x.append(clusters)\n",
    "y.append(silhouette_avg)\n",
    "print('clust=',clusters,'silh=',silhouette_avg)"
   ]
  },
  {
   "cell_type": "code",
   "execution_count": 232,
   "metadata": {
    "collapsed": true
   },
   "outputs": [
    {
     "name": "stdout",
     "output_type": "stream",
     "text": [
      "expense, article, municipal, paragraph, ratio\n",
      "  \n",
      "certificate, term, compilation, include, guarantee, open, registration, http, normative, main, sequence, check, executive\n",
      "  \n",
      "waste, schedule\n",
      "  \n",
      "process, set, budgetary, statistical, address, activity, classification, union, contractor, structure, control, work, internal, institution, order, reconstruct, flow, result, tax, payment, functional, consolidated, incision, activities, loss, direction, request, target, thous, spend, execution, bank, date, republican, department, synthetic, test, osmium, head, supplier, natural, rhodium, сonsecutive, processing, contained, support, requirement, procurement, production, size, foreign, january, authority, purchase, entity, mail, phone, analytical, gavalec, category, program, loan, shipped, refining, processed, withdrawal, standard, trade, identification, issue, feature, text, statutory, value, leader, fund, planned, corruption, securities, official, carry, item, complextype, source, month, municipality, credit, real, provision, approve, expertise, opinion, application, opendata, emerald\n",
      "  \n",
      "sector, document, accounting, inspection, quot, diamond, external, room, position, enter, wastes, anti, law, fax, standardversion, entered\n",
      "  \n",
      "object, ship, responsible, symptom, budgets, planning, obligation, iridium, ruthenium, readable, register, report, spent, receipt\n",
      "  \n",
      "qualification, current, palladium, services, product\n",
      "  \n"
     ]
    }
   ],
   "source": [
    "#Слова в кластеры\n",
    "\n",
    "d = {'rez': rez, 'vocabulary': features_list}\n",
    "df = pd.DataFrame(data=d)\n",
    "#Слова в кластеры\n",
    "\n",
    "result =  df.groupby('rez')['vocabulary'].apply(lambda x: \"%s\" % ', '.join(x))\n",
    "for i in result:\n",
    "    print(i)\n",
    "    print('  ')"
   ]
  },
  {
   "cell_type": "code",
   "execution_count": 60,
   "metadata": {
    "collapsed": true
   },
   "outputs": [],
   "source": [
    "#Расширяем и доваляем синонинмы\n",
    "result_with_sin= result\n"
   ]
  },
  {
   "cell_type": "code",
   "execution_count": 61,
   "metadata": {},
   "outputs": [
    {
     "data": {
      "text/plain": [
       "13"
      ]
     },
     "execution_count": 61,
     "metadata": {},
     "output_type": "execute_result"
    }
   ],
   "source": [
    "a = [[3,3],[13,31]]\n",
    "a[1][0]"
   ]
  },
  {
   "cell_type": "code",
   "execution_count": 77,
   "metadata": {
    "collapsed": true
   },
   "outputs": [],
   "source": [
    "result_with_syn = []\n",
    "for i, j in enumerate(result.tolist()):\n",
    "    result_with_syn.append(j)\n",
    "#делаем список списков result_with_syn\n",
    "for i,j in enumerate(result_with_syn):\n",
    "    result_with_syn[i] = j.split(', ')"
   ]
  },
  {
   "cell_type": "code",
   "execution_count": 81,
   "metadata": {
    "collapsed": true
   },
   "outputs": [],
   "source": [
    "def get_syns(word):\n",
    "    ad=[]\n",
    "    for synset in wn.synsets(word):\n",
    "        for lemma in synset.lemmas():\n",
    "            ad.append(lemma.name())\n",
    "    return  ', '.join(list(set(ad)))\n"
   ]
  },
  {
   "cell_type": "code",
   "execution_count": 80,
   "metadata": {},
   "outputs": [
    {
     "data": {
      "text/plain": [
       "['budgetary',\n",
       " 'consolidated',\n",
       " 'osmium',\n",
       " 'foreign',\n",
       " 'trade',\n",
       " 'complextype',\n",
       " 'municipality',\n",
       " 'real']"
      ]
     },
     "execution_count": 80,
     "metadata": {},
     "output_type": "execute_result"
    }
   ],
   "source": [
    "result_with_syn[0]"
   ]
  },
  {
   "cell_type": "code",
   "execution_count": 66,
   "metadata": {
    "collapsed": true
   },
   "outputs": [],
   "source": [
    "result_with_syn_2=result_with_syn"
   ]
  },
  {
   "cell_type": "code",
   "execution_count": 183,
   "metadata": {
    "collapsed": true
   },
   "outputs": [],
   "source": [
    "#Сохраняем в файл с разбивкой words_uk.txt\n",
    "f= open('workfile.csv', 'w')\n",
    "for i in result_with_syn:\n",
    "    for a in i:\n",
    "        f.write(a+' ')\n",
    "    f.write('/n')\n",
    "f.close()"
   ]
  },
  {
   "cell_type": "code",
   "execution_count": 188,
   "metadata": {
    "collapsed": true
   },
   "outputs": [
    {
     "data": {
      "text/plain": [
       "0    budgetary amalgamate, fused, consolidate, cons...\n",
       "1    sector, sphere written_document, document, tex...\n",
       "2    target, aim, physical_object, object, objectiv...\n",
       "3    reservation, qualification, making stream, cur...\n",
       "4    plant, put, hardened, situated, limit, lay_out...\n",
       "5    swear_out, physical_process, work, litigate, s...\n",
       "6    wastefulness, consume, godforsaken, languish, ...\n",
       "dtype: object"
      ]
     },
     "execution_count": 188,
     "metadata": {},
     "output_type": "execute_result"
    }
   ],
   "source": [
    "text_file = open(\"workfile.csv\", \"r\")\n",
    "result_with_sin_from_file = text_file.read().split('/n')\n",
    "result_with_sin_from_file = pd.Series(result_with_sin_from_file)\n",
    "result_with_sin_from_file = result_with_sin_from_file.map(lambda x: re.sub('\\s+', ' ', x))\n",
    "uresult_with_sin_from_file = result_with_sin_from_file.map(lambda x: re.sub('[^A-Za-zА-Яа-я]', ' ', x))\n",
    "\n",
    "result_with_sin_from_file = result_with_sin_from_file.str.lower()\n",
    "result_with_sin_from_file = result_with_sin_from_file[:-1]\n",
    "result_with_sin_from_file"
   ]
  },
  {
   "cell_type": "code",
   "execution_count": 192,
   "metadata": {
    "collapsed": true
   },
   "outputs": [
    {
     "data": {
      "text/plain": [
       "0    budgetary amalgamate fused consolidate consoli...\n",
       "1    sector sphere written_document document text_f...\n",
       "2    target aim physical_object object objective re...\n",
       "3    reservation qualification making stream curren...\n",
       "4    plant put hardened situated limit lay_out adju...\n",
       "5    swear_out physical_process work litigate sue p...\n",
       "6    wastefulness consume godforsaken languish mace...\n",
       "dtype: object"
      ]
     },
     "execution_count": 192,
     "metadata": {},
     "output_type": "execute_result"
    }
   ],
   "source": [
    "import re\n",
    "result_with_sin_from_file = result_with_sin_from_file.map(lambda x: re.sub('  ', ' ', x))\n",
    "result_with_sin_from_file"
   ]
  },
  {
   "cell_type": "code",
   "execution_count": 193,
   "metadata": {},
   "outputs": [
    {
     "data": {
      "text/plain": [
       "'sector sphere written_document document text_file papers describe answer_for accounting accountancy method_of_accounting account_statement accounting_system report calculate account inspection review baseball_field infield diamond ball_field rhombus baseball_diamond rhomb adamant external outside international extraneous elbow_room room way board put perspective attitude billet place stead post positioning set berth view situation placement office locating military_position posture emplacement spatial_relation location status side stance pose position lieu lay spot recruit come_in introduce accede move_into record insert go_in put_down enrol get_into go_into enroll enter inscribe figure embark get_in participate infix wastefulness consume languish macerate knock_off neutralize barren run_off neutralise scourge squander liquidate wasteland lay_waste_to ravage thriftlessness rot blow waste_product waste_material waste_matter waste dissipation pine_away ware permissive_waste emaciate do_in devastate desolate anti legal_philosophy law police_force jurisprudence constabulary practice_of_law natural_law police law_of_nature fax telefax facsimile facsimile_machine recruit come_in introduce accede move_into record insert go_in put_down enrol get_into go_into enroll enter inscribe figure embark get_in participate infix '"
      ]
     },
     "execution_count": 193,
     "metadata": {},
     "output_type": "execute_result"
    }
   ],
   "source": [
    "result_with_sin_from_file[1]"
   ]
  },
  {
   "cell_type": "code",
   "execution_count": 82,
   "metadata": {
    "collapsed": true
   },
   "outputs": [
    {
     "name": "stdout",
     "output_type": "stream",
     "text": [
      "0 0 budgetary\n",
      "0 1 consolidated\n",
      "0 2 osmium\n",
      "0 3 foreign\n",
      "0 4 trade\n",
      "0 5 complextype\n",
      "0 6 municipality\n",
      "0 7 real\n",
      "1 0 sector\n",
      "1 1 document\n",
      "1 2 accounting\n",
      "1 3 inspection\n",
      "1 4 quot\n",
      "1 5 diamond\n",
      "1 6 external\n",
      "1 7 room\n",
      "1 8 position\n",
      "1 9 enter\n",
      "1 10 wastes\n",
      "1 11 anti\n",
      "1 12 law\n",
      "1 13 fax\n",
      "1 14 standardversion\n",
      "1 15 entered\n",
      "2 0 object\n",
      "2 1 responsible\n",
      "2 2 symptom\n",
      "2 3 budgets\n",
      "2 4 planning\n",
      "2 5 obligation\n",
      "2 6 iridium\n",
      "2 7 ruthenium\n",
      "2 8 readable\n",
      "2 9 register\n",
      "2 10 report\n",
      "2 11 spent\n",
      "2 12 receipt\n",
      "3 0 qualification\n",
      "3 1 current\n",
      "3 2 palladium\n",
      "3 3 services\n",
      "3 4 product\n",
      "4 0 set\n",
      "4 1 statistical\n",
      "4 2 address\n",
      "4 3 activity\n",
      "4 4 classification\n",
      "4 5 union\n",
      "4 6 structure\n",
      "4 7 control\n",
      "4 8 work\n",
      "4 9 internal\n",
      "4 10 institution\n",
      "4 11 order\n",
      "4 12 reconstruct\n",
      "4 13 certificate\n",
      "4 14 flow\n",
      "4 15 result\n",
      "4 16 term\n",
      "4 17 tax\n",
      "4 18 payment\n",
      "4 19 functional\n",
      "4 20 incision\n",
      "4 21 activities\n",
      "4 22 loss\n",
      "4 23 compilation\n",
      "4 24 direction\n",
      "4 25 request\n",
      "4 26 target\n",
      "4 27 thous\n",
      "4 28 spend\n",
      "4 29 execution\n",
      "4 30 bank\n",
      "4 31 date\n",
      "4 32 republican\n",
      "4 33 department\n",
      "4 34 synthetic\n",
      "4 35 test\n",
      "4 36 head\n",
      "4 37 supplier\n",
      "4 38 natural\n",
      "4 39 rhodium\n",
      "4 40 сonsecutive\n",
      "4 41 processing\n",
      "4 42 include\n",
      "4 43 contained\n",
      "4 44 support\n",
      "4 45 requirement\n",
      "4 46 procurement\n",
      "4 47 production\n",
      "4 48 size\n",
      "4 49 january\n",
      "4 50 authority\n",
      "4 51 guarantee\n",
      "4 52 purchase\n",
      "4 53 open\n",
      "4 54 registration\n",
      "4 55 entity\n",
      "4 56 mail\n",
      "4 57 http\n",
      "4 58 phone\n",
      "4 59 analytical\n",
      "4 60 gavalec\n",
      "4 61 normative\n",
      "4 62 category\n",
      "4 63 program\n",
      "4 64 loan\n",
      "4 65 shipped\n",
      "4 66 refining\n",
      "4 67 processed\n",
      "4 68 withdrawal\n",
      "4 69 standard\n",
      "4 70 identification\n",
      "4 71 issue\n",
      "4 72 feature\n",
      "4 73 text\n",
      "4 74 statutory\n",
      "4 75 main\n",
      "4 76 value\n",
      "4 77 leader\n",
      "4 78 fund\n",
      "4 79 sequence\n",
      "4 80 planned\n",
      "4 81 corruption\n",
      "4 82 securities\n",
      "4 83 official\n",
      "4 84 carry\n",
      "4 85 item\n",
      "4 86 source\n",
      "4 87 check\n",
      "4 88 executive\n",
      "4 89 month\n",
      "4 90 credit\n",
      "4 91 provision\n",
      "4 92 approve\n",
      "4 93 expertise\n",
      "4 94 opinion\n",
      "4 95 application\n",
      "4 96 opendata\n",
      "4 97 emerald\n",
      "5 0 process\n",
      "5 1 expense\n",
      "5 2 contractor\n",
      "5 3 ship\n",
      "5 4 article\n",
      "5 5 municipal\n",
      "5 6 paragraph\n",
      "5 7 ratio\n",
      "6 0 waste\n",
      "6 1 schedule\n"
     ]
    }
   ],
   "source": [
    "for i,j in enumerate(result_with_syn):\n",
    "    #print(i,j)\n",
    "    for k,l in enumerate(j):\n",
    "        #result_with_syn[i].append(j) #апендим синонимы\n",
    "        #print(i,k,l)\n",
    "        result_with_syn[i][k]=get_syns(l)\n",
    "#result_with_syn_2[:2]"
   ]
  },
  {
   "cell_type": "code",
   "execution_count": 85,
   "metadata": {},
   "outputs": [
    {
     "data": {
      "text/plain": [
       "'real, rattling, really, tangible, veridical, material, substantial, very, genuine, literal, existent, real_number, actual'"
      ]
     },
     "execution_count": 85,
     "metadata": {},
     "output_type": "execute_result"
    }
   ],
   "source": [
    "get_syns('real')"
   ]
  },
  {
   "cell_type": "code",
   "execution_count": 135,
   "metadata": {
    "collapsed": true
   },
   "outputs": [
    {
     "data": {
      "text/plain": [
       "[['budgetary',\n",
       "  'amalgamate, fused, consolidate, consolidated, amalgamated, coalesced',\n",
       "  'osmium, atomic_number_76, Os',\n",
       "  'foreign, strange, alien, extraneous',\n",
       "  'switch, swap, swop, merchandise, patronage, craft, business_deal, trade, trade_in, trade_wind, deal, barter, sell',\n",
       "  '',\n",
       "  'municipality',\n",
       "  'real, rattling, really, tangible, veridical, material, substantial, very, genuine, literal, existent, real_number, actual'],\n",
       " ['sector, sphere',\n",
       "  'written_document, document, text_file, papers',\n",
       "  'describe, answer_for, accounting, accountancy, method_of_accounting, account_statement, accounting_system, report, calculate, account',\n",
       "  'inspection, review',\n",
       "  '',\n",
       "  'baseball_field, infield, diamond, ball_field, rhombus, baseball_diamond, rhomb, adamant',\n",
       "  'external, outside, international, extraneous',\n",
       "  'elbow_room, room, way, board',\n",
       "  'put, perspective, attitude, billet, place, stead, post, positioning, set, berth, view, situation, placement, office, locating, military_position, posture, emplacement, spatial_relation, location, status, side, stance, pose, position, lieu, lay, spot',\n",
       "  'recruit, come_in, introduce, accede, move_into, record, insert, go_in, put_down, enrol, get_into, go_into, enroll, enter, inscribe, figure, embark, get_in, participate, infix',\n",
       "  'wastefulness, consume, languish, macerate, knock_off, neutralize, barren, run_off, neutralise, scourge, squander, liquidate, wasteland, lay_waste_to, ravage, thriftlessness, rot, blow, waste_product, waste_material, waste_matter, waste, dissipation, pine_away, ware, permissive_waste, emaciate, do_in, devastate, desolate',\n",
       "  'anti',\n",
       "  'legal_philosophy, law, police_force, jurisprudence, constabulary, practice_of_law, natural_law, police, law_of_nature',\n",
       "  'fax, telefax, facsimile, facsimile_machine',\n",
       "  '',\n",
       "  'recruit, come_in, introduce, accede, move_into, record, insert, go_in, put_down, enrol, get_into, go_into, enroll, enter, inscribe, figure, embark, get_in, participate, infix'],\n",
       " ['target, aim, physical_object, object, objective',\n",
       "  'responsible_for, responsible, creditworthy',\n",
       "  'symptom',\n",
       "  'budget',\n",
       "  'design, be_after, preparation, planning, project, plan, contrive, provision',\n",
       "  'responsibility, debt_instrument, duty, obligation, indebtedness, certificate_of_indebtedness',\n",
       "  'iridium, Ir, atomic_number_77',\n",
       "  'atomic_number_44, ruthenium, Ru',\n",
       "  'decipherable, readable, clear',\n",
       "  'file, read, cash_register, record, register, registry, cross-file, show',\n",
       "  'study, news_report, describe, written_report, story, paper, report, theme, reputation, write_up, cover, report_card, composition, account',\n",
       "  'pass, spent, worn_out, washed-out, dog-tired, expend, spend, drop, played_out, worn-out, fatigued, exhausted, fagged',\n",
       "  'acknowledge, reception, receipt'],\n",
       " ['reservation, qualification, making',\n",
       "  'stream, current, flow, electric_current',\n",
       "  'atomic_number_46, palladium, Pd',\n",
       "  'avail, Robert_William_Service, services, religious_service, divine_service, overhaul, inspection_and_repair, serving, service, table_service, servicing, military_service, help, serve, Service, armed_service, service_of_process',\n",
       "  'intersection, ware, production, merchandise, Cartesian_product, mathematical_product, product'],\n",
       " ['plant, put, hardened, situated, limit, lay_out, adjust, countersink, do, place, set_up, readiness, fit, Set, stage_set, jell, hardening, rig, circle, localise, coif, laid, fructify, dictated, specify, placed, primed, band, mark, fix, lot, go_under, go_down, define, bent, gear_up, fixed, determined, solidification, prepare, coiffure, determine, rigid, localize, coiffe, ready, sic, congeal, dress, solidifying, arrange, typeset, Seth, correct, exercise_set, curing, pose, position, located, lay, set',\n",
       "  'statistical',\n",
       "  'address, computer_address, cover, destination, direct, treat, accost, handle, speech, turn_to, plow, come_up_to, speak, deal, reference, name_and_address, savoir-faire, call',\n",
       "  'bodily_process, activity, natural_process, natural_action, body_process, bodily_function, activeness, action',\n",
       "  'classification, categorization, categorisation, sorting, compartmentalisation, compartmentalization, assortment',\n",
       "  'marriage, conglutination, Federal, coupling, matrimony, North, trade_union, trades_union, mating, sexual_union, pairing, wedlock, Union, labor_union, union, join, brotherhood, spousal_relationship, jointure, sum, uniting, conjugation, unification',\n",
       "  'structure, social_system, bodily_structure, complex_body_part, body_structure, social_organization, anatomical_structure, construction, social_structure, social_organisation',\n",
       "  'hold, ascendance, moderate, see_to_it, hold_in, ascendence, operate, insure, master, keep_in_line, manipulate, ascendancy, controller, verify, ascertain, assure, restraint, see, control, check, ensure, command, mastery, control_condition, curb, dominance, contain, ascendency',\n",
       "  'piece_of_work, run, workplace, oeuvre, play, do_work, wreak, operate, function, bring, knead, forge, make_for, solve, act, work_on, mould, make, figure_out, puzzle_out, employment, study, work_out, influence, ferment, sour, process, exercise, turn, crop, body_of_work, lick, work, act_upon, exploit, put_to_work, cultivate, shape, go, form, mold',\n",
       "  'intimate, national, interior, internal, home, inner, intragroup',\n",
       "  'mental_hospital, introduction, creation, asylum, founding, initiation, foundation, origination, mental_institution, instauration, innovation, insane_asylum, establishment, psychiatric_hospital, institution, mental_home',\n",
       "  'put, tell, rules_of_order, set_up, place, club, society, edict, consecrate, regulate, ordination, regularize, prescribe, range, enjoin, fiat, guild, rate, social_club, parliamentary_law, govern, dictate, gild, regularise, lodge, rescript, monastic_order, say, purchase_order, Order, order, decree, rank, parliamentary_procedure, grade, ordering, ordain, ordinate, Holy_Order, arrange, order_of_magnitude, orderliness',\n",
       "  'remodel, restore, construct, reconstruct, redo, rebuild, retrace',\n",
       "  'credential, security, certificate, credentials, certification',\n",
       "  'flowing, rate_of_flow, flux, period, run, menstruum, catamenia, hang, feed, menses, menstruate, flow, menstruation, flow_rate, stream, current, course, fall',\n",
       "  'outcome, resultant, issue, termination, effect, leave, consequence, solvent, answer, ensue, result, lead, resultant_role, solution, final_result, event, resolution, upshot',\n",
       "  'full_term, terminal_figure, term, condition, terminus',\n",
       "  'revenue_enhancement, assess, tax, taxation, task',\n",
       "  'defrayal, defrayment, requital, payment',\n",
       "  'usable, running, operative, functional, working, useable, operational, operable',\n",
       "  'dent, prick, surgical_incision, incision, scratch, section, slit',\n",
       "  'bodily_process, activity, natural_process, natural_action, body_process, bodily_function, activeness, action',\n",
       "  'red_ink, personnel_casualty, expiration, departure, loss, red, deprivation, going, release, exit, passing',\n",
       "  'compiling, compilation, digest',\n",
       "  'focussing, charge, focal_point, centering, counsel, steering, direction, guidance, focus, counselling, counseling, instruction, way, focusing, commission, management',\n",
       "  'request, asking, bespeak, postulation, petition, call_for, quest',\n",
       "  'point, target, aim, quarry, butt, direct, prey, place, mark, object, objective, target_area, fair_game',\n",
       "  'thousand, yard, chiliad, G, one_thousand, K, thou, grand, M, 1000',\n",
       "  'expend, spend, pass, drop',\n",
       "  'performance, death_penalty, capital_punishment, writ_of_execution, carrying_into_action, slaying, execution, murder, instruction_execution, carrying_out, execution_of_instrument, implementation, executing',\n",
       "  'banking_company, trust, rely, money_box, swear, deposit, banking_concern, bank, depository_financial_institution, bank_building, camber, coin_bank, cant, savings_bank',\n",
       "  'date, go_out, see, escort, appointment, day_of_the_month, engagement, particular_date, date_stamp, go_steady',\n",
       "  'republican, Republican_River, Republican',\n",
       "  'section, department',\n",
       "  'synthetic, synthetical, man-made, semisynthetic, synthetic_substance, celluloid',\n",
       "  'examination, trial_run, examine, mental_testing, essay, quiz, run, screen, psychometric_test, exam, prove, try, trial, tryout, mental_test, try_out, test',\n",
       "  'headway, head_up, chief, channelise, direct, lead, headland, heading, point, channelize, question, header, head, top_dog, capitulum, fountainhead, drumhead, manoeuver, psyche, forefront, nous, head_word, guide, oral_sex, foreland, straits, brain, maneuver, caput, school_principal, headspring, steer, read/write_head, promontory, mind, head_teacher, principal, manoeuvre, pass',\n",
       "  'provider, supplier',\n",
       "  'rude, instinctive, raw, innate, natural, lifelike, cancel, born',\n",
       "  'atomic_number_45, Rh, rhodium',\n",
       "  '',\n",
       "  'swear_out, work, sue, treat, action, processing, process, march, work_on, litigate, serve',\n",
       "  'admit, include, let_in',\n",
       "  'incorporate, stop, comprise, carry, hold, control, moderate, check, turn_back, hold_in, hold_back, curb, contain, take, contained, arrest, bear',\n",
       "  'sustain, financial_support, corroborate, underpin, hold, digest, sustenance, stick_out, stomach, abide, keep_going, fend_for, back, financial_backing, support, tolerate, endure, hold_up, supporting, defend, patronise, reinforcement, put_up, living, livelihood, documentation, patronize, substantiate, plunk_for, keep, back_up, stand, musical_accompaniment, funding, bread_and_butter, bear, accompaniment, suffer, affirm, indorse, bear_out, brook, reenforcement, patronage, endorse, plump_for, confirm, backup, backing, subscribe',\n",
       "  'necessity, prerequisite, requirement, requisite, necessary, demand, essential',\n",
       "  'procural, procurement, procurance',\n",
       "  'production, output, product, yield',\n",
       "  'size_of_it, sizing, size',\n",
       "  'Jan, January',\n",
       "  'confidence, sureness, sanction, authorization, government_agency, self-confidence, potency, federal_agency, bureau, authority, dominance, self-assurance, office, agency, authorisation, say-so, assurance',\n",
       "  'assure, warrant, secure, insure, warranty, guarantee, warrantee, ensure, undertake, vouch, guaranty',\n",
       "  'purchase, buy, leverage',\n",
       "  'candid, undefended, undecided, subject, outdoors, unresolved, open_up, surface, clear, undetermined, capable, heart-to-heart, unfastened, assailable, overt, exposed, opened, undefendable, out-of-doors, open, spread, receptive, unfold, loose, spread_out, afford, give, open_air',\n",
       "  'readjustment, enrolment, registration, adjustment, enrollment',\n",
       "  'entity',\n",
       "  'ring_armor, mail, get_off, postal_service, ring_armour, post, ring_mail, chain_mail, mail_service, chain_armour, chain_armor, send',\n",
       "  'HTTP, hypertext_transfer_protocol',\n",
       "  'call_up, telephone_set, phone, sound, ring, speech_sound, earpiece, earphone, headphone, telephone, call',\n",
       "  'analytical, analytic',\n",
       "  '',\n",
       "  'normative, prescriptive',\n",
       "  'class, family, category',\n",
       "  'course_of_study, broadcast, curriculum, computer_program, platform, political_platform, computer_programme, syllabus, political_program, plan, program, programme',\n",
       "  'loanword, lend, loan',\n",
       "  'embark, transport, send, ship',\n",
       "  'refinement, rarify, refine, refining, polish, fine-tune, rectify, elaborate, down, purification, complicate',\n",
       "  'swear_out, work, refined, sue, treat, action, process, march, work_on, litigate, serve, processed',\n",
       "  'pulling_out, climb-down, coitus_interruptus, backdown, withdrawal_method, onanism, secession, detachment, withdrawal, drug_withdrawal',\n",
       "  'standard, stock, banner, received, touchstone, monetary_standard, criterion, measure',\n",
       "  'designation, identification, recognition',\n",
       "  'bring_out, consequence, cut, subject, government_issue, put_out, upshot, supply, emergence, way_out, exit, military_issue, publication, number, payoff, takings, make_out, progeny, issue, offspring, effect, yield, write_out, release, come_forth, egress, proceeds, go_forth, topic, event, outcome, come_out, outlet, issuance, result, take, issuing, emerge, matter, publish, return',\n",
       "  'feature_of_speech, characteristic, boast, have, feature, lineament, sport, feature_film, feature_article',\n",
       "  'textual_matter, text, schoolbook, text_edition, textbook, school_text',\n",
       "  'statutory',\n",
       "  'chief, principal, master, main, independent, primary, briny',\n",
       "  'appreciate, value, prise, note_value, rate, economic_value, assess, esteem, respect, valuate, appraise, prize, treasure, evaluate, measure, time_value',\n",
       "  'drawing_card, loss_leader, leader',\n",
       "  'investment_trust, stock, investment_firm, investment_company, monetary_fund, store, fund',\n",
       "  'episode, chronological_succession, successiveness, succession, chronological_sequence, sequence',\n",
       "  'planned, design, aforethought, be_after, project, plotted, plan, contrive',\n",
       "  'degeneracy, depravity, putrescence, rottenness, putrefaction, subversion, corruption, putridness, corruptness, depravation',\n",
       "  'security_system, surety, security_measures, security, protection, security_department, security_measure, certificate',\n",
       "  'functionary, official, prescribed',\n",
       "  'stock, run, hold, persuade, gestate, express, post, acquit, transport, extend, behave, dribble, expect, conduct, channel, transmit, stockpile, pack, impart, comport, have_a_bun_in_the_oven, bear, convey, deport, take, contain, sway, carry',\n",
       "  'item, particular, token, point, detail',\n",
       "  'germ, seed, informant, origin, reservoir, source, author, rootage, beginning, generator, root, reference',\n",
       "  'confirmation, check_into, check_out, chequer, look_into, hold, moderate, fit, balk, see_to_it, hold_in, chink, check-out_procedure, go_over, jibe, chit, hinderance, check_off, correspond, baulk, deterrent, insure, stay, bank_check, handicap, mark, condition, check_up_on, bridle, check_mark, hindrance, ascertain, assure, assay, cheque, checker, watch, tab, see, suss_out, control, turn_back, check, hold_back, halt, stoppage, tick, ensure, tick_off, retard, arrest, delay, gibe, tally, determine, crack, stop, checkout, substantiation, verification, chip, hitch, check_over, agree, discipline, curb, contain, mark_off, match, train, learn, break, find_out, impediment',\n",
       "  'executive, administrator, executive_director',\n",
       "  'month, calendar_month',\n",
       "  'mention, course_credit, acknowledgment, credit_entry, credit, credit_rating, quotation, accredit, reference, deferred_payment, cite, citation, recognition',\n",
       "  'preparation, proviso, planning, purvey, supplying, provision, supply',\n",
       "  'sanction, okay, approve, O.K.',\n",
       "  'expertise, expertness',\n",
       "  'legal_opinion, ruling, feeling, popular_opinion, thought, persuasion, view, sentiment, vox_populi, judgement, judgment, belief, notion, opinion, public_opinion, impression',\n",
       "  'application_program, covering, applications_programme, lotion, practical_application, diligence, application, coating',\n",
       "  '',\n",
       "  'emerald'],\n",
       " ['swear_out, physical_process, work, litigate, sue, procedure, treat, action, process, cognitive_operation, mental_process, summons, march, work_on, appendage, operation, cognitive_process, outgrowth, serve, unconscious_process',\n",
       "  'disbursal, disbursement, expense, write_off, write_down',\n",
       "  'contractile_organ, declarer, contractor',\n",
       "  'embark, transport, send, ship',\n",
       "  'clause, article',\n",
       "  'municipal',\n",
       "  'paragraph',\n",
       "  'proportion, ratio'],\n",
       " ['wastefulness, consume, godforsaken, languish, macerate, knock_off, neutralize, barren, run_off, neutralise, wild, scourge, squander, liquidate, wasteland, lay_waste_to, ravage, thriftlessness, rot, blow, waste_product, waste_material, waste_matter, waste, dissipation, pine_away, ware, permissive_waste, emaciate, do_in, devastate, desolate',\n",
       "  'schedule, agenda, docket']]"
      ]
     },
     "execution_count": 135,
     "metadata": {},
     "output_type": "execute_result"
    }
   ],
   "source": [
    "result_with_syn"
   ]
  },
  {
   "cell_type": "code",
   "execution_count": 149,
   "metadata": {},
   "outputs": [
    {
     "data": {
      "text/plain": [
       "''"
      ]
     },
     "execution_count": 149,
     "metadata": {},
     "output_type": "execute_result"
    }
   ],
   "source": [
    "f.read() \n"
   ]
  },
  {
   "cell_type": "code",
   "execution_count": 214,
   "metadata": {
    "collapsed": true
   },
   "outputs": [
    {
     "ename": "TypeError",
     "evalue": "'int' object is not iterable",
     "output_type": "error",
     "traceback": [
      "\u001b[0;31m---------------------------------------------------------------------------\u001b[0m",
      "\u001b[0;31mTypeError\u001b[0m                                 Traceback (most recent call last)",
      "\u001b[0;32m<ipython-input-214-8a6ef8b839ee>\u001b[0m in \u001b[0;36m<module>\u001b[0;34m()\u001b[0m\n\u001b[1;32m      4\u001b[0m \u001b[0maaa\u001b[0m\u001b[0;34m[\u001b[0m\u001b[0;36m0\u001b[0m\u001b[0;34m]\u001b[0m\u001b[0;34m\u001b[0m\u001b[0m\n\u001b[1;32m      5\u001b[0m \u001b[0;32mfor\u001b[0m \u001b[0mx\u001b[0m \u001b[0;32min\u001b[0m \u001b[0maaa\u001b[0m\u001b[0;34m[\u001b[0m\u001b[0;36m0\u001b[0m\u001b[0;34m]\u001b[0m\u001b[0;34m:\u001b[0m\u001b[0;34m\u001b[0m\u001b[0m\n\u001b[0;32m----> 6\u001b[0;31m     \u001b[0;32mfor\u001b[0m \u001b[0my\u001b[0m \u001b[0;32min\u001b[0m \u001b[0mx\u001b[0m\u001b[0;34m:\u001b[0m\u001b[0;34m\u001b[0m\u001b[0m\n\u001b[0m\u001b[1;32m      7\u001b[0m         \u001b[0mflattened_list\u001b[0m\u001b[0;34m.\u001b[0m\u001b[0mappend\u001b[0m\u001b[0;34m(\u001b[0m\u001b[0my\u001b[0m\u001b[0;34m)\u001b[0m\u001b[0;34m\u001b[0m\u001b[0m\n",
      "\u001b[0;31mTypeError\u001b[0m: 'int' object is not iterable"
     ]
    }
   ],
   "source": [
    "aaa =[[1,3],[3,41,1]]\n",
    "aaa[0][1]=[9,2]\n",
    "aaa\n",
    "aaa[0]\n",
    "for x in aaa[0]:\n",
    "    for y in x:\n",
    "        flattened_list.append(y)"
   ]
  },
  {
   "cell_type": "code",
   "execution_count": 140,
   "metadata": {
    "collapsed": true
   },
   "outputs": [],
   "source": [
    "import nltk\n",
    "nltk.__version__\n",
    "\n",
    "from nltk.corpus import wordnet as wn\n"
   ]
  },
  {
   "cell_type": "code",
   "execution_count": 80,
   "metadata": {},
   "outputs": [
    {
     "data": {
      "text/plain": [
       "'budgetary'"
      ]
     },
     "execution_count": 80,
     "metadata": {},
     "output_type": "execute_result"
    }
   ],
   "source": [
    "#Разбиваем большой кластер\n",
    "split_big_cluster = result[0].split(', ')\n",
    "#split_big_cluster=result[0].map(lambda x: re.sub('\\s+', ' ', x))\n",
    "\n",
    "#features_list = features.T.iloc[1].tolist()\n",
    "split_big_cluster[1]"
   ]
  },
  {
   "cell_type": "code",
   "execution_count": 95,
   "metadata": {
    "collapsed": true
   },
   "outputs": [],
   "source": [
    "# Достаем индексы фич\n",
    "index_split_big_cluster=[]\n",
    "for i, j in enumerate(vocabulary):\n",
    "    if j in split_big_cluster:\n",
    "        index_split_big_cluster.append(i)\n",
    "#Матрица финальная\n",
    "dtm_big_cluster =dtm.T[:, index_split_big_cluster]\n",
    "dtm_big_cluster=dtm_big_cluster.T"
   ]
  },
  {
   "cell_type": "code",
   "execution_count": 93,
   "metadata": {
    "collapsed": true
   },
   "outputs": [],
   "source": [
    "#Функция которая по вводимому списку слов создает матрицу терм-док\n",
    "result_with_syn[0]\n",
    "def list_to_matrix(list_words):\n",
    "    global vocabulary\n",
    "    global dtm\n",
    "    indexes=[]\n",
    "    for i, j in enumerate(vocabulary):\n",
    "        if j in list_words:\n",
    "            indexes.append(i)\n",
    "    #Матрица финальная\n",
    "    result_matrix =dtm.T[:, indexes]\n",
    "    result_matrix=result_matrix.T\n",
    "    return result_matrix"
   ]
  },
  {
   "cell_type": "code",
   "execution_count": 102,
   "metadata": {},
   "outputs": [
    {
     "data": {
      "text/plain": [
       "'Hello-world'"
      ]
     },
     "execution_count": 102,
     "metadata": {},
     "output_type": "execute_result"
    }
   ],
   "source": [
    "my_list = [\"Hello\", \"world\"]\n",
    "\"-\".join(my_list)"
   ]
  },
  {
   "cell_type": "code",
   "execution_count": 117,
   "metadata": {},
   "outputs": [
    {
     "data": {
      "text/plain": [
       "['l', 'l', 'l', 'l', 'l', 'l', 'l', 'l']"
      ]
     },
     "execution_count": 117,
     "metadata": {},
     "output_type": "execute_result"
    }
   ],
   "source": [
    "flat_list = []\n",
    "for sublist in result_with_syn[0]:\n",
    "    for item in sublist:\n",
    "        flat_list.append(item)\n",
    "flat_list\n",
    "\n"
   ]
  },
  {
   "cell_type": "code",
   "execution_count": 113,
   "metadata": {},
   "outputs": [
    {
     "data": {
      "text/plain": [
       "'budgetary, amalgamate, fused, consolidate, consolidated, amalgamated, coalesced, osmium, atomic_number_76, Os, foreign, strange, alien, extraneous, switch, swap, swop, merchandise, patronage, craft, business_deal, trade, trade_in, trade_wind, deal, barter, sell, , municipality, real, rattling, really, tangible, veridical, material, substantial, very, genuine, literal, existent, real_number, actual'"
      ]
     },
     "execution_count": 113,
     "metadata": {},
     "output_type": "execute_result"
    }
   ],
   "source": [
    "\", \".join(result_with_syn[0]).split(', ')"
   ]
  },
  {
   "cell_type": "code",
   "execution_count": 112,
   "metadata": {
    "collapsed": true
   },
   "outputs": [
    {
     "data": {
      "text/plain": [
       "array([[ 0,  1,  1,  0,  0,  0,  0,  0,  0,  0,  0,  0,  0,  0,  1,  1,  0,\n",
       "         0,  0,  0,  0,  0,  0,  0,  0,  0,  0,  0,  0,  0,  0,  0,  0,  0,\n",
       "         0,  0,  0,  0,  0,  0,  0,  0,  0,  0,  0,  0,  0,  0,  0,  0,  0,\n",
       "         0,  0,  0,  0,  0,  0,  0,  0,  0,  0,  1,  1,  6,  3,  1,  0,  0,\n",
       "         0,  4,  3,  0,  0,  0,  0,  0,  0,  0,  0,  0,  0,  0,  0,  0,  0,\n",
       "         0,  0,  0,  0,  0,  0,  1,  0,  0,  6,  0,  0,  0,  1,  1,  4,  0,\n",
       "         0,  0,  0],\n",
       "       [ 0,  0,  0,  2,  0,  1,  0,  2,  2,  3,  3,  3,  2,  0,  1,  1,  0,\n",
       "         0,  0,  0,  0,  0,  0,  0,  0,  0,  0,  0,  0,  0,  0,  0,  0,  0,\n",
       "         1,  0,  0,  0,  0,  0,  0,  0,  0,  0,  0,  0,  0,  0,  0,  0,  0,\n",
       "         0,  0,  0,  0,  0,  0,  2,  2,  0,  0,  1,  1,  0,  0,  0,  0,  0,\n",
       "         0,  0,  0,  0,  0,  0,  0,  0,  0,  0,  0,  0,  0,  0,  0,  0,  0,\n",
       "         0,  0,  0,  0,  0,  0,  0,  0,  0,  0,  0,  0,  0,  0,  0,  0,  0,\n",
       "         0,  0,  0],\n",
       "       [ 0,  0,  0,  0,  0,  0,  0,  0,  0,  0,  0,  0,  0,  0,  0,  0,  0,\n",
       "         0,  0,  0,  0,  0,  0,  0,  0, 10,  0,  0,  0,  0,  0,  0,  0,  0,\n",
       "         0,  0,  0,  0,  0,  0,  0,  0,  0,  0,  0,  0,  0,  0,  0,  0,  0,\n",
       "         0,  0,  0,  0,  0,  0,  0,  0,  0,  0,  0,  0,  0,  0,  0,  0,  0,\n",
       "         0,  0,  0,  0,  0,  0,  0,  0,  0,  0,  0,  0,  0,  0,  0,  0,  0,\n",
       "         0,  0,  0,  0,  0,  0,  0,  0,  0,  0,  0,  0,  0,  0,  0,  0,  0,\n",
       "         0,  0,  0],\n",
       "       [ 0,  0,  0,  0,  0,  0,  0,  0,  0,  0,  0,  0,  0,  0,  0,  0,  0,\n",
       "         0,  0,  0,  0,  0,  0,  0,  0,  0,  0,  0,  0,  0,  6,  0,  0,  0,\n",
       "         0,  0,  0,  0,  0,  0,  0,  0,  0,  0,  0,  0,  0,  0,  0,  0,  0,\n",
       "         0,  0,  0,  0,  0,  0,  0,  0,  0,  0,  0,  0, 12,  0,  0,  0,  0,\n",
       "         0,  0,  0,  0,  0,  0,  0,  0,  0,  0,  0,  0,  0,  0,  0,  0,  0,\n",
       "         0,  0,  0,  0,  0,  0,  0,  0,  0,  0,  0,  0,  0,  0,  0,  0,  0,\n",
       "         0,  0,  0],\n",
       "       [ 0,  0,  0,  0,  0,  0,  0,  0,  0,  0,  0,  0,  0,  0,  0,  0,  0,\n",
       "         0,  0,  0,  0,  0,  0,  0,  0,  0,  0,  0,  0,  0,  0,  0,  0,  0,\n",
       "         0,  0,  0,  0,  0,  0,  0,  0,  0,  0,  0,  0,  0,  0,  0,  0,  0,\n",
       "         0,  0,  0,  0,  0,  0,  0,  0,  0,  0,  0,  0,  0,  0,  0,  0,  0,\n",
       "         0,  0,  0,  0,  0,  0,  0,  2,  1,  0,  0,  0,  0,  0,  0,  0,  0,\n",
       "         0,  0,  0,  0,  0,  0,  0,  0,  0,  0,  0,  0,  0,  0,  0,  0,  0,\n",
       "         0,  0,  0],\n",
       "       [ 0,  0,  0,  0,  0,  1,  0,  0,  0,  0,  0,  0,  0,  0,  0,  0,  0,\n",
       "         0,  0,  0,  0,  0,  0,  0,  0,  0,  0,  0,  0,  0,  0,  0,  0,  0,\n",
       "         0,  0,  0,  0,  0,  0,  0,  0,  0,  0,  0,  0,  0,  0,  0,  0,  0,\n",
       "         0,  0,  0,  0,  0,  0,  0,  0,  0,  0,  0,  0, 12,  0,  0,  0,  0,\n",
       "         0,  0,  0,  0,  0,  0,  0,  0,  0,  0,  0,  0,  0,  0,  0,  0,  0,\n",
       "         0,  0,  0,  0,  0,  0,  0,  0,  0,  0,  0,  0,  0,  0,  0,  0,  0,\n",
       "         0,  0,  0],\n",
       "       [ 0,  0,  0,  0,  0,  0,  0,  0,  0,  0,  0,  0,  0,  0,  0,  0,  0,\n",
       "         0,  0,  0,  0,  0,  0,  0,  0,  9,  0, 12,  0,  0,  0,  0,  0,  0,\n",
       "         0,  0,  0,  0,  0,  0,  0,  0,  0,  0,  0,  0,  0,  0,  0,  0,  0,\n",
       "         0,  0,  0,  0,  0,  0,  0,  0,  0,  0,  0,  0,  0,  0,  0,  0,  0,\n",
       "         0,  0,  0,  0,  0,  0,  0,  0,  0,  0,  0,  0,  0,  0,  0,  0,  0,\n",
       "         0,  0,  0,  0,  0,  0,  0,  0,  0,  0,  0,  0,  0,  0,  0,  0,  0,\n",
       "         0,  0,  0],\n",
       "       [ 0,  0,  0,  0,  0,  0,  0,  0,  0,  0,  0,  0,  0,  0,  0,  0,  0,\n",
       "         0,  0,  0,  0,  0,  0,  0,  0,  0,  0,  0,  0,  0,  0,  0,  0,  0,\n",
       "         0,  0,  0,  0,  0,  0,  0,  0,  0,  0,  0,  0,  0,  0,  0,  0,  0,\n",
       "         0,  0,  0,  0,  0,  0,  0,  0,  0,  0,  0,  0,  0,  0,  0,  0,  0,\n",
       "         0,  0,  0,  0,  0,  0,  0,  0,  0,  0,  0,  0,  0,  0,  0,  0,  0,\n",
       "         0,  0,  0,  0,  0,  0,  0,  0,  0,  0,  8,  5,  0,  0,  0,  0,  0,\n",
       "         0,  0,  0],\n",
       "       [ 0,  0,  0,  0,  0,  0,  0,  0,  0,  0,  0,  0,  0,  0,  0,  0,  0,\n",
       "         0,  0,  0,  0,  0,  0,  0,  0,  0,  0, 15,  0,  0,  0,  0,  0,  0,\n",
       "         0,  0,  0,  0,  0,  0,  0,  0,  0,  0,  0,  0,  0,  0,  0,  0,  0,\n",
       "         0,  0,  0,  0,  0,  0,  0,  0,  0,  0,  0,  0,  0,  0,  0,  0,  0,\n",
       "         0,  0,  0,  0,  0,  0,  0,  0,  0,  0,  0,  0,  0,  0,  0,  0,  0,\n",
       "         0,  0,  0,  0,  0,  0,  0,  0,  0,  0,  0,  0,  0,  0,  0,  0,  0,\n",
       "         0,  0,  0]], dtype=int64)"
      ]
     },
     "execution_count": 112,
     "metadata": {},
     "output_type": "execute_result"
    }
   ],
   "source": [
    "list_to_matrix(\", \".join(result_with_syn[0]).split(', '))"
   ]
  },
  {
   "cell_type": "code",
   "execution_count": 102,
   "metadata": {
    "collapsed": true
   },
   "outputs": [
    {
     "name": "stdout",
     "output_type": "stream",
     "text": [
      "clust= 6 silh= 0.161324313737\n",
      "metals, statistical, expense, address, object, activity, control, article, order, certificate, internal, flow, result, term, functional, direction, compilation, target, bank, execution, spend, date, department, current, natural, readable, ruthenium, contained, include, report, procurement, foreign, size, authority, external, program, schedule, phone, loan, paragraph, text, wastes, feature, anti, corruption, complextype, securities, carry, planned, credit, sum, opendata\n",
      "  \n",
      "contractor, ship, payment, document, thous, obligation, inspection, osmium, processing, diamond, withdrawal, real\n",
      "  \n",
      "budgetary, incision, product, check\n",
      "  \n",
      "request, synthetic, support, purchase, value, standard, main, expertise, fax, body\n",
      "  \n",
      "structure\n",
      "  \n",
      "classification, waste, institution, responsible, activities, municipal, quot, open, registration, analytical, gavalec, shipped, services, identification, trade, enter, leader, fund\n",
      "  \n"
     ]
    }
   ],
   "source": [
    "#Разбивка большого кластера\n",
    "matrix = dtm_big_cluster\n",
    "x=[]\n",
    "y=[]\n",
    "clusters=6\n",
    "kmean = KMeans(n_clusters=clusters)\n",
    "rez=kmean.fit_predict(matrix) \n",
    "silhouette_avg = silhouette_score(matrix, rez)\n",
    "x.append(clusters)\n",
    "y.append(silhouette_avg)\n",
    "print('clust=',clusters,'silh=',silhouette_avg)\n",
    "\n",
    "#Делаем панду\n",
    "d = {'rez': rez, 'vocabulary': split_big_cluster}\n",
    "df = pd.DataFrame(data=d)\n",
    "#Слова в кластеры\n",
    "\n",
    "result =  df.groupby('rez')['vocabulary'].apply(lambda x: \"%s\" % ', '.join(x))\n",
    "for i in result:\n",
    "    print(i)\n",
    "    print('  ')"
   ]
  },
  {
   "cell_type": "markdown",
   "metadata": {},
   "source": [
    "# Визуализация\n"
   ]
  },
  {
   "cell_type": "code",
   "execution_count": null,
   "metadata": {
    "collapsed": true
   },
   "outputs": [],
   "source": []
  },
  {
   "cell_type": "code",
   "execution_count": 233,
   "metadata": {},
   "outputs": [
    {
     "data": {
      "text/plain": [
       "[5, 13, 2, 95, 16, 14, 5]"
      ]
     },
     "execution_count": 233,
     "metadata": {},
     "output_type": "execute_result"
    }
   ],
   "source": [
    "words_in_clstrs = []\n",
    "result =  df.groupby('rez')['vocabulary'].apply(lambda x: \"%s\" % ', '.join(x))\n",
    "for i in result:\n",
    "    #print(len(i.split(', ')))\n",
    "    words_in_clstrs.append(len(i.split(', ')))\n",
    "words_in_clstrs"
   ]
  },
  {
   "cell_type": "code",
   "execution_count": 269,
   "metadata": {},
   "outputs": [
    {
     "data": {
      "image/png": "[encoded data removed]",
      "text/plain": [
       "<matplotlib.figure.Figure at 0x7f764dee0400>"
      ]
     },
     "metadata": {},
     "output_type": "display_data"
    }
   ],
   "source": [
    "import seaborn\n",
    "from math import pi\n",
    "import matplotlib.pyplot as plt\n",
    "\n",
    "words_in_clstrs = [5, 13, 2, 23, 16, 14, 5]\n",
    "words_in_clstrs2 = [5, 13, 2, 96, 16, 14, 5]\n",
    "# Set data\n",
    "cat = ['1','2','3','4','5','6','7']\n",
    "values = words_in_clstrs\n",
    "\n",
    "N = len(cat)\n",
    "\n",
    "x_as = [n / float(N) * 2 * pi for n in range(N)]\n",
    "\n",
    "# Because our chart will be circular we need to append a copy of the first \n",
    "# value of each list at the end of each list with data\n",
    "values += values[:1]\n",
    "x_as += x_as[:1]\n",
    "\n",
    "\n",
    "# Set color of axes\n",
    "plt.rc('axes', linewidth=0.5, edgecolor=\"#888888\")\n",
    "\n",
    "\n",
    "# Create polar plot\n",
    "ax = plt.subplot(111, polar=True)\n",
    "\n",
    "\n",
    "# Set clockwise rotation. That is:\n",
    "ax.set_theta_offset(pi / 2)\n",
    "ax.set_theta_direction(-1)\n",
    "\n",
    "\n",
    "# Set position of y-labels\n",
    "ax.set_rlabel_position(0)\n",
    "\n",
    "\n",
    "# Set color and linestyle of grid\n",
    "ax.xaxis.grid(True, color=\"#888888\", linestyle='solid', linewidth=0.5)\n",
    "ax.yaxis.grid(True, color=\"#888888\", linestyle='solid', linewidth=0.5)\n",
    "\n",
    "\n",
    "# Set number of radial axes and remove labels\n",
    "plt.xticks(x_as[:-1], [])\n",
    "\n",
    "# Set yticks\n",
    "plt.yticks([0,  10, 20], [\"0\", \"10\", \"20\"])\n",
    "\n",
    "\n",
    "# Plot data\n",
    "ax.plot(x_as, values, linewidth=0, linestyle='solid', zorder=3)\n",
    "\n",
    "# Fill area\n",
    "ax.fill(x_as, values, 'b', alpha=0.3)\n",
    "\n",
    "size_of_radar =25\n",
    "# Set axes limits\n",
    "plt.ylim(0, size_of_radar)\n",
    "\n",
    "# Draw ytick labels to make sure they fit properly\n",
    "for i in range(N):\n",
    "    angle_rad = i / float(N) * 2 * pi\n",
    "\n",
    "    if angle_rad == 0:\n",
    "        ha, distance_ax = \"center\", 1\n",
    "    elif 0 < angle_rad < pi:\n",
    "        ha, distance_ax = \"left\", 1\n",
    "    elif angle_rad == pi:\n",
    "        ha, distance_ax = \"center\", 1\n",
    "    else:\n",
    "        ha, distance_ax = \"right\", 1\n",
    "\n",
    "    ax.text(angle_rad, 25 + distance_ax, 'N'+str(cat[i])+' '+str(words_in_clstrs2[i])+' words', size=13, horizontalalignment=ha, verticalalignment=\"center\")\n",
    "\n",
    "# Draw ytick labels to make sure they fit properly\n",
    "plt.savefig('filename.png', dpi = 140)\n",
    "\n",
    "# Show polar plot\n",
    "plt.show()"
   ]
  },
  {
   "cell_type": "code",
   "execution_count": 242,
   "metadata": {},
   "outputs": [
    {
     "ename": "NameError",
     "evalue": "name 'size_of_radar' is not defined",
     "output_type": "error",
     "traceback": [
      "\u001b[0;31m---------------------------------------------------------------------------\u001b[0m",
      "\u001b[0;31mNameError\u001b[0m                                 Traceback (most recent call last)",
      "\u001b[0;32m<ipython-input-242-9cce543b4c36>\u001b[0m in \u001b[0;36m<module>\u001b[0;34m()\u001b[0m\n\u001b[0;32m----> 1\u001b[0;31m \u001b[0;34m[\u001b[0m\u001b[0;36m0\u001b[0m\u001b[0;34m,\u001b[0m \u001b[0msize_of_radar\u001b[0m\u001b[0;34m,\u001b[0m\u001b[0;36m4\u001b[0m\u001b[0;34m]\u001b[0m\u001b[0;34m\u001b[0m\u001b[0m\n\u001b[0m",
      "\u001b[0;31mNameError\u001b[0m: name 'size_of_radar' is not defined"
     ]
    }
   ],
   "source": []
  },
  {
   "cell_type": "code",
   "execution_count": 215,
   "metadata": {},
   "outputs": [
    {
     "data": {
      "text/html": [
       "\n",
       "<div class=\"bk-root\">\n",
       "    <div class=\"bk-plotdiv\" id=\"81af20c3-f473-4deb-a9f7-36cc790c129e\"></div>\n",
       "</div>"
      ]
     },
     "metadata": {},
     "output_type": "display_data"
    },
    {
     "data": {
      "application/javascript": [
       "(function(root) {\n",
       "  function embed_document(root) {\n",
       "    var docs_json = {\"8ec72200-8c84-4b3f-94d6-ffafb8917a15\":{\"roots\":{\"references\":[{\"attributes\":{\"source\":{\"id\":\"823e3a61-e0ec-4d09-9494-3a5b783ad200\",\"type\":\"ColumnDataSource\"}},\"id\":\"f177f48e-beb3-4db0-bf8a-3bb75253b810\",\"type\":\"CDSView\"},{\"attributes\":{},\"id\":\"1598c2b0-4ac4-4a83-96bc-aed6995bfd68\",\"type\":\"BasicTickFormatter\"},{\"attributes\":{\"fill_alpha\":{\"value\":0.1},\"fill_color\":{\"value\":\"#1f77b4\"},\"line_alpha\":{\"value\":0.1},\"line_color\":{\"value\":\"#1f77b4\"},\"x\":{\"field\":\"x\"},\"y\":{\"field\":\"y\"}},\"id\":\"fb6318dc-f11a-4f19-9a82-7366bb596937\",\"type\":\"Patch\"},{\"attributes\":{\"plot\":{\"id\":\"88205f14-5b66-45f6-8e6e-a7ad1d2a8e60\",\"subtype\":\"Figure\",\"type\":\"Plot\"},\"ticker\":{\"id\":\"3ed26671-433f-425b-af76-27eebb2e7a45\",\"type\":\"BasicTicker\"}},\"id\":\"a116b3a4-7697-4bad-bb50-ca75dbc0e84a\",\"type\":\"Grid\"},{\"attributes\":{\"overlay\":{\"id\":\"9d4bfee3-efd0-4969-a7a3-53f13a827443\",\"type\":\"BoxAnnotation\"}},\"id\":\"b7ec839a-81b0-489b-aafe-ea77a6b28485\",\"type\":\"BoxZoomTool\"},{\"attributes\":{},\"id\":\"500f5763-6165-463c-8fa5-109bac83e0a8\",\"type\":\"LinearScale\"},{\"attributes\":{\"bottom_units\":\"screen\",\"fill_alpha\":{\"value\":0.5},\"fill_color\":{\"value\":\"lightgrey\"},\"left_units\":\"screen\",\"level\":\"overlay\",\"line_alpha\":{\"value\":1.0},\"line_color\":{\"value\":\"black\"},\"line_dash\":[4,4],\"line_width\":{\"value\":2},\"plot\":null,\"render_mode\":\"css\",\"right_units\":\"screen\",\"top_units\":\"screen\"},\"id\":\"9d4bfee3-efd0-4969-a7a3-53f13a827443\",\"type\":\"BoxAnnotation\"},{\"attributes\":{\"active_drag\":\"auto\",\"active_inspect\":\"auto\",\"active_scroll\":\"auto\",\"active_tap\":\"auto\",\"tools\":[{\"id\":\"40c0a35a-cf9a-4992-aa9e-fa3d8cbdaf4d\",\"type\":\"PanTool\"},{\"id\":\"2774b3a5-fc61-42ab-b225-62621ea4d113\",\"type\":\"WheelZoomTool\"},{\"id\":\"b7ec839a-81b0-489b-aafe-ea77a6b28485\",\"type\":\"BoxZoomTool\"},{\"id\":\"7ec2ce48-42f1-40dc-9a9e-2ff119023861\",\"type\":\"SaveTool\"},{\"id\":\"e25b2ab3-0712-4fec-936a-1eccd75070da\",\"type\":\"ResetTool\"},{\"id\":\"1d7fd7ef-d288-41c0-bd08-701aa1cc4215\",\"type\":\"HelpTool\"}]},\"id\":\"760dc6d3-8409-4a49-bfa5-228a179cdf88\",\"type\":\"Toolbar\"},{\"attributes\":{},\"id\":\"40c0a35a-cf9a-4992-aa9e-fa3d8cbdaf4d\",\"type\":\"PanTool\"},{\"attributes\":{\"data_source\":{\"id\":\"22334658-847a-490c-a043-41f94cee61ee\",\"type\":\"ColumnDataSource\"},\"glyph\":{\"id\":\"ebccbdc3-fb14-4432-821d-9350b233abe9\",\"type\":\"Patch\"},\"hover_glyph\":null,\"muted_glyph\":null,\"nonselection_glyph\":{\"id\":\"fb6318dc-f11a-4f19-9a82-7366bb596937\",\"type\":\"Patch\"},\"selection_glyph\":null,\"view\":{\"id\":\"d682a1d1-6906-418f-be60-463357e2c2ba\",\"type\":\"CDSView\"}},\"id\":\"c40f136e-3a89-480b-bd90-971a87b9a47c\",\"type\":\"GlyphRenderer\"},{\"attributes\":{},\"id\":\"b9c73d3e-b08d-460c-9081-74058d0d1c9f\",\"type\":\"BasicTicker\"},{\"attributes\":{\"fill_alpha\":{\"value\":0.1},\"fill_color\":{\"value\":\"#1f77b4\"},\"line_alpha\":{\"value\":0.1},\"line_color\":{\"value\":\"#1f77b4\"},\"x\":{\"field\":\"x\"},\"y\":{\"field\":\"y\"}},\"id\":\"dcbf6ef7-f34a-4181-be70-bf797acab041\",\"type\":\"Patch\"},{\"attributes\":{\"callback\":null,\"column_names\":[\"x\",\"y\",\"text\"],\"data\":{\"text\":[\"Sulfate\",\"Nitrate\",\"EC\",\"OC1\",\"OC2\",\"OC3\",\"OP\",\"CO\",\"O3\",\"\"],\"x\":[0.5,0.17860619515673032,0.00759612349389599,0.06698729810778059,0.3289899283371657,0.6710100716628341,0.9330127018922192,0.9924038765061041,0.8213938048432698,0.5],\"y\":[1.0,0.883022221559489,0.5868240888334652,0.2500000000000001,0.030153689607045786,0.03015368960704573,0.24999999999999978,0.5868240888334649,0.883022221559489,1]}},\"id\":\"823e3a61-e0ec-4d09-9494-3a5b783ad200\",\"type\":\"ColumnDataSource\"},{\"attributes\":{\"plot\":null,\"text\":\"Baseline - Radar plot\"},\"id\":\"691064b1-e924-4683-89d1-4d96e89b24f0\",\"type\":\"Title\"},{\"attributes\":{\"dimension\":1,\"plot\":{\"id\":\"88205f14-5b66-45f6-8e6e-a7ad1d2a8e60\",\"subtype\":\"Figure\",\"type\":\"Plot\"},\"ticker\":{\"id\":\"b9c73d3e-b08d-460c-9081-74058d0d1c9f\",\"type\":\"BasicTicker\"}},\"id\":\"fa2b35aa-ea43-41f4-b906-ea04797ed62b\",\"type\":\"Grid\"},{\"attributes\":{\"callback\":null},\"id\":\"410cbe66-a8ee-44f8-90e8-437a6b2aa6d2\",\"type\":\"DataRange1d\"},{\"attributes\":{\"source\":{\"id\":\"590a4b66-879b-4185-9b7c-2cce0e11e137\",\"type\":\"ColumnDataSource\"}},\"id\":\"a04ddf33-1c39-4c6c-adf1-f872259bed6f\",\"type\":\"CDSView\"},{\"attributes\":{},\"id\":\"3ed26671-433f-425b-af76-27eebb2e7a45\",\"type\":\"BasicTicker\"},{\"attributes\":{\"below\":[{\"id\":\"a34bf844-a19e-4f6c-884a-89958bbcb1e6\",\"type\":\"LinearAxis\"}],\"left\":[{\"id\":\"bffe4226-1d8b-46cc-ad34-c45d455d8f9c\",\"type\":\"LinearAxis\"}],\"renderers\":[{\"id\":\"a34bf844-a19e-4f6c-884a-89958bbcb1e6\",\"type\":\"LinearAxis\"},{\"id\":\"a116b3a4-7697-4bad-bb50-ca75dbc0e84a\",\"type\":\"Grid\"},{\"id\":\"bffe4226-1d8b-46cc-ad34-c45d455d8f9c\",\"type\":\"LinearAxis\"},{\"id\":\"fa2b35aa-ea43-41f4-b906-ea04797ed62b\",\"type\":\"Grid\"},{\"id\":\"9d4bfee3-efd0-4969-a7a3-53f13a827443\",\"type\":\"BoxAnnotation\"},{\"id\":\"9213cbc8-ba95-4df7-9a11-227bb9883076\",\"type\":\"GlyphRenderer\"},{\"id\":\"75ad1cb8-17be-435f-bf88-c55d75c5c7d5\",\"type\":\"LabelSet\"},{\"id\":\"360080c4-eb0c-4ee5-ac89-188a142016d6\",\"type\":\"GlyphRenderer\"},{\"id\":\"6aa8df71-a34a-48f5-9d37-fd78fc80af46\",\"type\":\"GlyphRenderer\"},{\"id\":\"8d061554-8e27-49e7-a0aa-35bc25536307\",\"type\":\"GlyphRenderer\"},{\"id\":\"c40f136e-3a89-480b-bd90-971a87b9a47c\",\"type\":\"GlyphRenderer\"},{\"id\":\"7a9e85ef-ab84-4103-ad3b-712a0d036855\",\"type\":\"GlyphRenderer\"}],\"title\":{\"id\":\"691064b1-e924-4683-89d1-4d96e89b24f0\",\"type\":\"Title\"},\"toolbar\":{\"id\":\"760dc6d3-8409-4a49-bfa5-228a179cdf88\",\"type\":\"Toolbar\"},\"x_range\":{\"id\":\"275be933-4888-44a5-994d-1bb9a64b12ae\",\"type\":\"DataRange1d\"},\"x_scale\":{\"id\":\"500f5763-6165-463c-8fa5-109bac83e0a8\",\"type\":\"LinearScale\"},\"y_range\":{\"id\":\"410cbe66-a8ee-44f8-90e8-437a6b2aa6d2\",\"type\":\"DataRange1d\"},\"y_scale\":{\"id\":\"752d5a32-c247-4778-8378-e04bc5b920ba\",\"type\":\"LinearScale\"}},\"id\":\"88205f14-5b66-45f6-8e6e-a7ad1d2a8e60\",\"subtype\":\"Figure\",\"type\":\"Plot\"},{\"attributes\":{\"fill_alpha\":{\"value\":0.15},\"fill_color\":{\"value\":\"purple\"},\"line_color\":{\"value\":\"#1f77b4\"},\"x\":{\"field\":\"x\"},\"y\":{\"field\":\"y\"}},\"id\":\"248374e3-c6d4-4617-af8f-56a2635b2e33\",\"type\":\"Patch\"},{\"attributes\":{\"data_source\":{\"id\":\"8592d7ce-2b28-4ef0-bcbb-604db31caa21\",\"type\":\"ColumnDataSource\"},\"glyph\":{\"id\":\"74d4f4a1-db8a-4977-acc9-df818771c819\",\"type\":\"Patch\"},\"hover_glyph\":null,\"muted_glyph\":null,\"nonselection_glyph\":{\"id\":\"76b2a4e2-7a5f-4c4d-a8ae-12a4990765de\",\"type\":\"Patch\"},\"selection_glyph\":null,\"view\":{\"id\":\"59fa54f0-940b-4f10-8d72-e56ce4e2e874\",\"type\":\"CDSView\"}},\"id\":\"360080c4-eb0c-4ee5-ac89-188a142016d6\",\"type\":\"GlyphRenderer\"},{\"attributes\":{},\"id\":\"752d5a32-c247-4778-8378-e04bc5b920ba\",\"type\":\"LinearScale\"},{\"attributes\":{\"callback\":null},\"id\":\"275be933-4888-44a5-994d-1bb9a64b12ae\",\"type\":\"DataRange1d\"},{\"attributes\":{\"formatter\":{\"id\":\"302b2e02-33e9-4e91-b8cc-c0549daff81d\",\"type\":\"BasicTickFormatter\"},\"plot\":{\"id\":\"88205f14-5b66-45f6-8e6e-a7ad1d2a8e60\",\"subtype\":\"Figure\",\"type\":\"Plot\"},\"ticker\":{\"id\":\"3ed26671-433f-425b-af76-27eebb2e7a45\",\"type\":\"BasicTicker\"}},\"id\":\"a34bf844-a19e-4f6c-884a-89958bbcb1e6\",\"type\":\"LinearAxis\"},{\"attributes\":{\"data_source\":{\"id\":\"823e3a61-e0ec-4d09-9494-3a5b783ad200\",\"type\":\"ColumnDataSource\"},\"glyph\":{\"id\":\"14911511-c8a1-4186-9b9d-8331d5e19dc0\",\"type\":\"Line\"},\"hover_glyph\":null,\"muted_glyph\":null,\"nonselection_glyph\":{\"id\":\"a1560676-1a31-43c3-a48b-fb2f6806c9f2\",\"type\":\"Line\"},\"selection_glyph\":null,\"view\":{\"id\":\"f177f48e-beb3-4db0-bf8a-3bb75253b810\",\"type\":\"CDSView\"}},\"id\":\"9213cbc8-ba95-4df7-9a11-227bb9883076\",\"type\":\"GlyphRenderer\"},{\"attributes\":{\"fill_alpha\":{\"value\":0.1},\"fill_color\":{\"value\":\"#1f77b4\"},\"line_alpha\":{\"value\":0.1},\"line_color\":{\"value\":\"#1f77b4\"},\"x\":{\"field\":\"x\"},\"y\":{\"field\":\"y\"}},\"id\":\"5db1aae1-773c-46e5-b92e-c64babed6254\",\"type\":\"Patch\"},{\"attributes\":{\"line_color\":{\"value\":\"#1f77b4\"},\"x\":{\"field\":\"x\"},\"y\":{\"field\":\"y\"}},\"id\":\"14911511-c8a1-4186-9b9d-8331d5e19dc0\",\"type\":\"Line\"},{\"attributes\":{\"data_source\":{\"id\":\"590a4b66-879b-4185-9b7c-2cce0e11e137\",\"type\":\"ColumnDataSource\"},\"glyph\":{\"id\":\"06ceb1aa-9fda-4c40-99ac-31d6c7075e64\",\"type\":\"Patch\"},\"hover_glyph\":null,\"muted_glyph\":null,\"nonselection_glyph\":{\"id\":\"dcbf6ef7-f34a-4181-be70-bf797acab041\",\"type\":\"Patch\"},\"selection_glyph\":null,\"view\":{\"id\":\"a04ddf33-1c39-4c6c-adf1-f872259bed6f\",\"type\":\"CDSView\"}},\"id\":\"8d061554-8e27-49e7-a0aa-35bc25536307\",\"type\":\"GlyphRenderer\"},{\"attributes\":{\"fill_alpha\":{\"value\":0.1},\"fill_color\":{\"value\":\"#1f77b4\"},\"line_alpha\":{\"value\":0.1},\"line_color\":{\"value\":\"#1f77b4\"},\"x\":{\"field\":\"x\"},\"y\":{\"field\":\"y\"}},\"id\":\"76b2a4e2-7a5f-4c4d-a8ae-12a4990765de\",\"type\":\"Patch\"},{\"attributes\":{},\"id\":\"2774b3a5-fc61-42ab-b225-62621ea4d113\",\"type\":\"WheelZoomTool\"},{\"attributes\":{\"formatter\":{\"id\":\"1598c2b0-4ac4-4a83-96bc-aed6995bfd68\",\"type\":\"BasicTickFormatter\"},\"plot\":{\"id\":\"88205f14-5b66-45f6-8e6e-a7ad1d2a8e60\",\"subtype\":\"Figure\",\"type\":\"Plot\"},\"ticker\":{\"id\":\"b9c73d3e-b08d-460c-9081-74058d0d1c9f\",\"type\":\"BasicTicker\"}},\"id\":\"bffe4226-1d8b-46cc-ad34-c45d455d8f9c\",\"type\":\"LinearAxis\"},{\"attributes\":{\"line_alpha\":{\"value\":0.1},\"line_color\":{\"value\":\"#1f77b4\"},\"x\":{\"field\":\"x\"},\"y\":{\"field\":\"y\"}},\"id\":\"a1560676-1a31-43c3-a48b-fb2f6806c9f2\",\"type\":\"Line\"},{\"attributes\":{\"plot\":{\"id\":\"88205f14-5b66-45f6-8e6e-a7ad1d2a8e60\",\"subtype\":\"Figure\",\"type\":\"Plot\"},\"source\":{\"id\":\"823e3a61-e0ec-4d09-9494-3a5b783ad200\",\"type\":\"ColumnDataSource\"},\"x\":{\"field\":\"x\"},\"y\":{\"field\":\"y\"}},\"id\":\"75ad1cb8-17be-435f-bf88-c55d75c5c7d5\",\"type\":\"LabelSet\"},{\"attributes\":{\"source\":{\"id\":\"8592d7ce-2b28-4ef0-bcbb-604db31caa21\",\"type\":\"ColumnDataSource\"}},\"id\":\"59fa54f0-940b-4f10-8d72-e56ce4e2e874\",\"type\":\"CDSView\"},{\"attributes\":{\"callback\":null,\"column_names\":[\"x\",\"y\"],\"data\":{\"x\":{\"__ndarray__\":\"AAAAAAAA4D/wmORMB2LfP5i+LGyfbN4/Xi+Vp0ad3j8Vs6yi9sffP9eZproScOA//aS5zWpq4D97c13qrFDgPwXNszuoNOA/\",\"dtype\":\"float64\",\"shape\":[9]},\"y\":{\"__ndarray__\":\"ZmZmZmZm7j80oa6sIV7gP4ZFYyqQI+A/MzMzMzMz3z/HRlBvCmbfPxwbQb0pmN0/hetRuB6F3z/PG46qOQ7gP83AyR3BPuA/\",\"dtype\":\"float64\",\"shape\":[9]}}},\"id\":\"8592d7ce-2b28-4ef0-bcbb-604db31caa21\",\"type\":\"ColumnDataSource\"},{\"attributes\":{\"source\":{\"id\":\"9129fc4b-a934-4c36-a859-b652029f7798\",\"type\":\"ColumnDataSource\"}},\"id\":\"894ee14f-4ad5-4924-8164-2d2b5a1349cd\",\"type\":\"CDSView\"},{\"attributes\":{\"fill_alpha\":{\"value\":0.1},\"fill_color\":{\"value\":\"#1f77b4\"},\"line_alpha\":{\"value\":0.1},\"line_color\":{\"value\":\"#1f77b4\"},\"x\":{\"field\":\"x\"},\"y\":{\"field\":\"y\"}},\"id\":\"5e38d971-f45c-4f11-8530-a1355cc06dd0\",\"type\":\"Patch\"},{\"attributes\":{\"fill_alpha\":{\"value\":0.15},\"fill_color\":{\"value\":\"red\"},\"line_color\":{\"value\":\"#1f77b4\"},\"x\":{\"field\":\"x\"},\"y\":{\"field\":\"y\"}},\"id\":\"06ceb1aa-9fda-4c40-99ac-31d6c7075e64\",\"type\":\"Patch\"},{\"attributes\":{},\"id\":\"302b2e02-33e9-4e91-b8cc-c0549daff81d\",\"type\":\"BasicTickFormatter\"},{\"attributes\":{\"data_source\":{\"id\":\"9129fc4b-a934-4c36-a859-b652029f7798\",\"type\":\"ColumnDataSource\"},\"glyph\":{\"id\":\"248374e3-c6d4-4617-af8f-56a2635b2e33\",\"type\":\"Patch\"},\"hover_glyph\":null,\"muted_glyph\":null,\"nonselection_glyph\":{\"id\":\"5db1aae1-773c-46e5-b92e-c64babed6254\",\"type\":\"Patch\"},\"selection_glyph\":null,\"view\":{\"id\":\"894ee14f-4ad5-4924-8164-2d2b5a1349cd\",\"type\":\"CDSView\"}},\"id\":\"7a9e85ef-ab84-4103-ad3b-712a0d036855\",\"type\":\"GlyphRenderer\"},{\"attributes\":{\"source\":{\"id\":\"f6a22643-fe79-4475-a3ff-130f4d5c355a\",\"type\":\"ColumnDataSource\"}},\"id\":\"e9453cfb-a21c-40be-b065-e14627e82a0d\",\"type\":\"CDSView\"},{\"attributes\":{\"fill_alpha\":{\"value\":0.15},\"fill_color\":{\"value\":\"orange\"},\"line_color\":{\"value\":\"#1f77b4\"},\"x\":{\"field\":\"x\"},\"y\":{\"field\":\"y\"}},\"id\":\"ebccbdc3-fb14-4432-821d-9350b233abe9\",\"type\":\"Patch\"},{\"attributes\":{},\"id\":\"e25b2ab3-0712-4fec-936a-1eccd75070da\",\"type\":\"ResetTool\"},{\"attributes\":{\"callback\":null,\"column_names\":[\"x\",\"y\"],\"data\":{\"x\":{\"__ndarray__\":\"AAAAAAAA4D/mob7BghjIPx1Lz4HyG94/tqid6mIP3j8Vs6yi9sffP+tMU10JOOA//aS5zWpq4D97c13qrFDgPwXNszuoNOA/\",\"dtype\":\"float64\",\"shape\":[9]},\"y\":{\"__ndarray__\":\"cT0K16Nw4T/oBrkkluPrP21Tqv+sKuA/4XoUrkfh3j/HRlBvCmbfP46NoN4UzN4/hetRuB6F3z/PG46qOQ7gP83AyR3BPuA/\",\"dtype\":\"float64\",\"shape\":[9]}}},\"id\":\"f6a22643-fe79-4475-a3ff-130f4d5c355a\",\"type\":\"ColumnDataSource\"},{\"attributes\":{\"callback\":null,\"column_names\":[\"x\",\"y\"],\"data\":{\"x\":{\"__ndarray__\":\"AAAAAAAA4D/wmORMB2LfPxQyilZMvd4/TJpqHQ+Kxz8QlaIlnK7XP4xo24+o8OM/VMN73vFG4D97c13qrFDgPwXNszuoNOA/\",\"dtype\":\"float64\",\"shape\":[9]},\"y\":{\"__ndarray__\":\"exSuR+F64D80oa6sIV7gP543HFVzHOA/VLgehetR1D8cA9ULGUvCPwDok07vssQ/rkfhehSu3z/PG46qOQ7gP83AyR3BPuA/\",\"dtype\":\"float64\",\"shape\":[9]}}},\"id\":\"9129fc4b-a934-4c36-a859-b652029f7798\",\"type\":\"ColumnDataSource\"},{\"attributes\":{},\"id\":\"1d7fd7ef-d288-41c0-bd08-701aa1cc4215\",\"type\":\"HelpTool\"},{\"attributes\":{\"fill_alpha\":{\"value\":0.15},\"fill_color\":{\"value\":\"blue\"},\"line_color\":{\"value\":\"#1f77b4\"},\"x\":{\"field\":\"x\"},\"y\":{\"field\":\"y\"}},\"id\":\"74d4f4a1-db8a-4977-acc9-df818771c819\",\"type\":\"Patch\"},{\"attributes\":{\"callback\":null,\"column_names\":[\"x\",\"y\"],\"data\":{\"x\":{\"__ndarray__\":\"AAAAAAAA4D/wmORMB2LfP6zwtsLrKd0/BbaMZCor3z9tC8JOlHvdPziNo8YgxOA/VCYsdD3b7T97c13qrFDgPwXNszuoNOA/\",\"dtype\":\"float64\",\"shape\":[9]},\"y\":{\"__ndarray__\":\"pHA9Ctej4D80oa6sIV7gPyR9f38DQOA/hetRuB6F3z/yLRsAeBXZP3LvMQtJyts/+P//////zz/PG46qOQ7gP83AyR3BPuA/\",\"dtype\":\"float64\",\"shape\":[9]}}},\"id\":\"22334658-847a-490c-a043-41f94cee61ee\",\"type\":\"ColumnDataSource\"},{\"attributes\":{\"callback\":null,\"column_names\":[\"x\",\"y\"],\"data\":{\"x\":{\"__ndarray__\":\"AAAAAAAA4D/qyzARXy3fP6QE92jxVLI/JPrYvygu2j/Iclw53zvfP8Lm+RccqOA/VMN73vFG4D97c13qrFDgPwXNszuoNOA/\",\"dtype\":\"float64\",\"shape\":[9]},\"y\":{\"__ndarray__\":\"exSuR+F64D+bgZM7gn3gP6+5JXvMauI/pHA9Ctej3D+595iFJOXdP6qo4Zs+ZNw/rkfhehSu3z/PG46qOQ7gP83AyR3BPuA/\",\"dtype\":\"float64\",\"shape\":[9]}}},\"id\":\"590a4b66-879b-4185-9b7c-2cce0e11e137\",\"type\":\"ColumnDataSource\"},{\"attributes\":{\"fill_alpha\":{\"value\":0.15},\"fill_color\":{\"value\":\"green\"},\"line_color\":{\"value\":\"#1f77b4\"},\"x\":{\"field\":\"x\"},\"y\":{\"field\":\"y\"}},\"id\":\"67ca3000-a411-4c59-9731-49ef55d17b7f\",\"type\":\"Patch\"},{\"attributes\":{},\"id\":\"7ec2ce48-42f1-40dc-9a9e-2ff119023861\",\"type\":\"SaveTool\"},{\"attributes\":{\"source\":{\"id\":\"22334658-847a-490c-a043-41f94cee61ee\",\"type\":\"ColumnDataSource\"}},\"id\":\"d682a1d1-6906-418f-be60-463357e2c2ba\",\"type\":\"CDSView\"},{\"attributes\":{\"data_source\":{\"id\":\"f6a22643-fe79-4475-a3ff-130f4d5c355a\",\"type\":\"ColumnDataSource\"},\"glyph\":{\"id\":\"67ca3000-a411-4c59-9731-49ef55d17b7f\",\"type\":\"Patch\"},\"hover_glyph\":null,\"muted_glyph\":null,\"nonselection_glyph\":{\"id\":\"5e38d971-f45c-4f11-8530-a1355cc06dd0\",\"type\":\"Patch\"},\"selection_glyph\":null,\"view\":{\"id\":\"e9453cfb-a21c-40be-b065-e14627e82a0d\",\"type\":\"CDSView\"}},\"id\":\"6aa8df71-a34a-48f5-9d37-fd78fc80af46\",\"type\":\"GlyphRenderer\"}],\"root_ids\":[\"88205f14-5b66-45f6-8e6e-a7ad1d2a8e60\"]},\"title\":\"Bokeh Application\",\"version\":\"0.12.10\"}};\n",
       "    var render_items = [{\"docid\":\"8ec72200-8c84-4b3f-94d6-ffafb8917a15\",\"elementid\":\"81af20c3-f473-4deb-a9f7-36cc790c129e\",\"modelid\":\"88205f14-5b66-45f6-8e6e-a7ad1d2a8e60\"}];\n",
       "\n",
       "    root.Bokeh.embed.embed_items(docs_json, render_items);\n",
       "  }\n",
       "\n",
       "  if (root.Bokeh !== undefined) {\n",
       "    embed_document(root);\n",
       "  } else {\n",
       "    var attempts = 0;\n",
       "    var timer = setInterval(function(root) {\n",
       "      if (root.Bokeh !== undefined) {\n",
       "        embed_document(root);\n",
       "        clearInterval(timer);\n",
       "      }\n",
       "      attempts++;\n",
       "      if (attempts > 100) {\n",
       "        console.log(\"Bokeh: ERROR: Unable to embed document because BokehJS library is missing\")\n",
       "        clearInterval(timer);\n",
       "      }\n",
       "    }, 10, root)\n",
       "  }\n",
       "})(window);"
      ],
      "application/vnd.bokehjs_exec.v0+json": ""
     },
     "metadata": {
      "application/vnd.bokehjs_exec.v0+json": {
       "id": "88205f14-5b66-45f6-8e6e-a7ad1d2a8e60"
      }
     },
     "output_type": "display_data"
    }
   ],
   "source": [
    "import numpy as np\n",
    "from bokeh.plotting import figure, show, output_file\n",
    "from bokeh.models import ColumnDataSource, LabelSet\n",
    "\n",
    "num_vars = 9\n",
    "\n",
    "centre = 0.5\n",
    "\n",
    "theta = np.linspace(0, 2*np.pi, num_vars, endpoint=False)\n",
    "# rotate theta such that the first axis is at the top\n",
    "theta += np.pi/2\n",
    "\n",
    "def unit_poly_verts(theta, centre ):\n",
    "    \"\"\"Return vertices of polygon for subplot axes.\n",
    "    This polygon is circumscribed by a unit circle centered at (0.5, 0.5)\n",
    "    \"\"\"\n",
    "    x0, y0, r = [centre ] * 3\n",
    "    verts = [(r*np.cos(t) + x0, r*np.sin(t) + y0) for t in theta]\n",
    "    return verts\n",
    "\n",
    "def radar_patch(r, theta, centre ):\n",
    "    \"\"\" Returns the x and y coordinates corresponding to the magnitudes of \n",
    "    each variable displayed in the radar plot\n",
    "    \"\"\"\n",
    "    # offset from centre of circle\n",
    "    offset = 0.01\n",
    "    yt = (r*centre + offset) * np.sin(theta) + centre \n",
    "    xt = (r*centre + offset) * np.cos(theta) + centre \n",
    "    return xt, yt\n",
    "\n",
    "verts = unit_poly_verts(theta, centre)\n",
    "x = [v[0] for v in verts] \n",
    "y = [v[1] for v in verts] \n",
    "\n",
    "p = figure(title=\"Baseline - Radar plot\")\n",
    "text = ['Sulfate', 'Nitrate', 'EC', 'OC1', 'OC2', 'OC3', 'OP', 'CO', 'O3','']\n",
    "source = ColumnDataSource({'x':x + [centre ],'y':y + [1],'text':text})\n",
    "\n",
    "p.line(x=\"x\", y=\"y\", source=source)\n",
    "\n",
    "labels = LabelSet(x=\"x\",y=\"y\",text=\"text\",source=source)\n",
    "\n",
    "p.add_layout(labels)\n",
    "\n",
    "# example factor:\n",
    "#xt = np.array(x)\n",
    "flist = [f1,f2,f3,f4,f5]\n",
    "colors = ['blue','green','red', 'orange','purple']\n",
    "for i in range(len(flist)):\n",
    "    xt, yt = radar_patch(flist[i], theta, centre)\n",
    "    p.patch(x=xt, y=yt, fill_alpha=0.15, fill_color=colors[i])\n",
    "show(p)"
   ]
  },
  {
   "cell_type": "code",
   "execution_count": 739,
   "metadata": {},
   "outputs": [
    {
     "name": "stdout",
     "output_type": "stream",
     "text": [
      "Estimated number of clusters: 3\n",
      "-0.223409407245\n"
     ]
    }
   ],
   "source": [
    "#Попытка исопльзования DBSCAN\n",
    "db = DBSCAN(eps=0.0001, min_samples=3).fit(dtm2)\n",
    "core_samples_mask = np.zeros_like(db.labels_, dtype=bool)\n",
    "core_samples_mask[db.core_sample_indices_] = True\n",
    "labels = db.labels_\n",
    "rez=db.fit_predict(dtm2) \n",
    "# Number of clusters in labels, ignoring noise if present.\n",
    "n_clusters_ = len(set(labels)) - (1 if -1 in labels else 0)\n",
    "print('Estimated number of clusters: %d' % n_clusters_)\n",
    "print(silhouette_score(dtm2, rez))"
   ]
  },
  {
   "cell_type": "code",
   "execution_count": 90,
   "metadata": {},
   "outputs": [
    {
     "data": {
      "text/plain": [
       "['budgetary',\n",
       " 'amalgamate, fused, consolidate, consolidated, amalgamated, coalesced',\n",
       " 'osmium, atomic_number_76, Os',\n",
       " 'foreign, strange, alien, extraneous',\n",
       " 'switch, swap, swop, merchandise, patronage, craft, business_deal, trade, trade_in, trade_wind, deal, barter, sell',\n",
       " '',\n",
       " 'municipality',\n",
       " 'real, rattling, really, tangible, veridical, material, substantial, very, genuine, literal, existent, real_number, actual']"
      ]
     },
     "execution_count": 90,
     "metadata": {},
     "output_type": "execute_result"
    }
   ],
   "source": [
    "result_with_syn[0]"
   ]
  },
  {
   "cell_type": "code",
   "execution_count": 89,
   "metadata": {},
   "outputs": [
    {
     "ename": "ValueError",
     "evalue": "could not convert string to float: 'budgetary'",
     "output_type": "error",
     "traceback": [
      "\u001b[0;31m---------------------------------------------------------------------------\u001b[0m",
      "\u001b[0;31mValueError\u001b[0m                                Traceback (most recent call last)",
      "\u001b[0;32m<ipython-input-89-2f8b9a075e40>\u001b[0m in \u001b[0;36m<module>\u001b[0;34m()\u001b[0m\n\u001b[1;32m     12\u001b[0m     \u001b[0;32mfor\u001b[0m \u001b[0mnc\u001b[0m \u001b[0;32min\u001b[0m \u001b[0mrange\u001b[0m\u001b[0;34m(\u001b[0m\u001b[0;36m10\u001b[0m\u001b[0;34m,\u001b[0m \u001b[0;36m3\u001b[0m\u001b[0;34m,\u001b[0m\u001b[0;34m-\u001b[0m\u001b[0;36m1\u001b[0m\u001b[0;34m)\u001b[0m\u001b[0;34m:\u001b[0m\u001b[0;34m\u001b[0m\u001b[0m\n\u001b[1;32m     13\u001b[0m             \u001b[0mkmean\u001b[0m \u001b[0;34m=\u001b[0m \u001b[0mKMeans\u001b[0m\u001b[0;34m(\u001b[0m\u001b[0mn_clusters\u001b[0m\u001b[0;34m=\u001b[0m\u001b[0mnc\u001b[0m\u001b[0;34m)\u001b[0m\u001b[0;34m\u001b[0m\u001b[0m\n\u001b[0;32m---> 14\u001b[0;31m             \u001b[0mrez\u001b[0m\u001b[0;34m=\u001b[0m\u001b[0mkmean\u001b[0m\u001b[0;34m.\u001b[0m\u001b[0mfit_predict\u001b[0m\u001b[0;34m(\u001b[0m\u001b[0mmatrix\u001b[0m\u001b[0;34m)\u001b[0m\u001b[0;34m\u001b[0m\u001b[0m\n\u001b[0m\u001b[1;32m     15\u001b[0m             \u001b[0msilhouette_avg\u001b[0m \u001b[0;34m=\u001b[0m \u001b[0msilhouette_score\u001b[0m\u001b[0;34m(\u001b[0m\u001b[0mmatrix\u001b[0m\u001b[0;34m,\u001b[0m \u001b[0mrez\u001b[0m\u001b[0;34m)\u001b[0m\u001b[0;34m\u001b[0m\u001b[0m\n\u001b[1;32m     16\u001b[0m             \u001b[0mx\u001b[0m\u001b[0;34m.\u001b[0m\u001b[0mappend\u001b[0m\u001b[0;34m(\u001b[0m\u001b[0mnc\u001b[0m\u001b[0;34m)\u001b[0m\u001b[0;34m\u001b[0m\u001b[0m\n",
      "\u001b[0;32m/opt/conda/lib/python3.6/site-packages/sklearn/cluster/k_means_.py\u001b[0m in \u001b[0;36mfit_predict\u001b[0;34m(self, X, y)\u001b[0m\n\u001b[1;32m    896\u001b[0m         \u001b[0mpredict\u001b[0m\u001b[0;34m(\u001b[0m\u001b[0mX\u001b[0m\u001b[0;34m)\u001b[0m\u001b[0;34m.\u001b[0m\u001b[0;34m\u001b[0m\u001b[0m\n\u001b[1;32m    897\u001b[0m         \"\"\"\n\u001b[0;32m--> 898\u001b[0;31m         \u001b[0;32mreturn\u001b[0m \u001b[0mself\u001b[0m\u001b[0;34m.\u001b[0m\u001b[0mfit\u001b[0m\u001b[0;34m(\u001b[0m\u001b[0mX\u001b[0m\u001b[0;34m)\u001b[0m\u001b[0;34m.\u001b[0m\u001b[0mlabels_\u001b[0m\u001b[0;34m\u001b[0m\u001b[0m\n\u001b[0m\u001b[1;32m    899\u001b[0m \u001b[0;34m\u001b[0m\u001b[0m\n\u001b[1;32m    900\u001b[0m     \u001b[0;32mdef\u001b[0m \u001b[0mfit_transform\u001b[0m\u001b[0;34m(\u001b[0m\u001b[0mself\u001b[0m\u001b[0;34m,\u001b[0m \u001b[0mX\u001b[0m\u001b[0;34m,\u001b[0m \u001b[0my\u001b[0m\u001b[0;34m=\u001b[0m\u001b[0;32mNone\u001b[0m\u001b[0;34m)\u001b[0m\u001b[0;34m:\u001b[0m\u001b[0;34m\u001b[0m\u001b[0m\n",
      "\u001b[0;32m/opt/conda/lib/python3.6/site-packages/sklearn/cluster/k_means_.py\u001b[0m in \u001b[0;36mfit\u001b[0;34m(self, X, y)\u001b[0m\n\u001b[1;32m    878\u001b[0m         \"\"\"\n\u001b[1;32m    879\u001b[0m         \u001b[0mrandom_state\u001b[0m \u001b[0;34m=\u001b[0m \u001b[0mcheck_random_state\u001b[0m\u001b[0;34m(\u001b[0m\u001b[0mself\u001b[0m\u001b[0;34m.\u001b[0m\u001b[0mrandom_state\u001b[0m\u001b[0;34m)\u001b[0m\u001b[0;34m\u001b[0m\u001b[0m\n\u001b[0;32m--> 880\u001b[0;31m         \u001b[0mX\u001b[0m \u001b[0;34m=\u001b[0m \u001b[0mself\u001b[0m\u001b[0;34m.\u001b[0m\u001b[0m_check_fit_data\u001b[0m\u001b[0;34m(\u001b[0m\u001b[0mX\u001b[0m\u001b[0;34m)\u001b[0m\u001b[0;34m\u001b[0m\u001b[0m\n\u001b[0m\u001b[1;32m    881\u001b[0m \u001b[0;34m\u001b[0m\u001b[0m\n\u001b[1;32m    882\u001b[0m         \u001b[0mself\u001b[0m\u001b[0;34m.\u001b[0m\u001b[0mcluster_centers_\u001b[0m\u001b[0;34m,\u001b[0m \u001b[0mself\u001b[0m\u001b[0;34m.\u001b[0m\u001b[0mlabels_\u001b[0m\u001b[0;34m,\u001b[0m \u001b[0mself\u001b[0m\u001b[0;34m.\u001b[0m\u001b[0minertia_\u001b[0m\u001b[0;34m,\u001b[0m \u001b[0mself\u001b[0m\u001b[0;34m.\u001b[0m\u001b[0mn_iter_\u001b[0m \u001b[0;34m=\u001b[0m\u001b[0;31m \u001b[0m\u001b[0;31m\\\u001b[0m\u001b[0;34m\u001b[0m\u001b[0m\n",
      "\u001b[0;32m/opt/conda/lib/python3.6/site-packages/sklearn/cluster/k_means_.py\u001b[0m in \u001b[0;36m_check_fit_data\u001b[0;34m(self, X)\u001b[0m\n\u001b[1;32m    852\u001b[0m     \u001b[0;32mdef\u001b[0m \u001b[0m_check_fit_data\u001b[0m\u001b[0;34m(\u001b[0m\u001b[0mself\u001b[0m\u001b[0;34m,\u001b[0m \u001b[0mX\u001b[0m\u001b[0;34m)\u001b[0m\u001b[0;34m:\u001b[0m\u001b[0;34m\u001b[0m\u001b[0m\n\u001b[1;32m    853\u001b[0m         \u001b[0;34m\"\"\"Verify that the number of samples given is larger than k\"\"\"\u001b[0m\u001b[0;34m\u001b[0m\u001b[0m\n\u001b[0;32m--> 854\u001b[0;31m         \u001b[0mX\u001b[0m \u001b[0;34m=\u001b[0m \u001b[0mcheck_array\u001b[0m\u001b[0;34m(\u001b[0m\u001b[0mX\u001b[0m\u001b[0;34m,\u001b[0m \u001b[0maccept_sparse\u001b[0m\u001b[0;34m=\u001b[0m\u001b[0;34m'csr'\u001b[0m\u001b[0;34m,\u001b[0m \u001b[0mdtype\u001b[0m\u001b[0;34m=\u001b[0m\u001b[0;34m[\u001b[0m\u001b[0mnp\u001b[0m\u001b[0;34m.\u001b[0m\u001b[0mfloat64\u001b[0m\u001b[0;34m,\u001b[0m \u001b[0mnp\u001b[0m\u001b[0;34m.\u001b[0m\u001b[0mfloat32\u001b[0m\u001b[0;34m]\u001b[0m\u001b[0;34m)\u001b[0m\u001b[0;34m\u001b[0m\u001b[0m\n\u001b[0m\u001b[1;32m    855\u001b[0m         \u001b[0;32mif\u001b[0m \u001b[0mX\u001b[0m\u001b[0;34m.\u001b[0m\u001b[0mshape\u001b[0m\u001b[0;34m[\u001b[0m\u001b[0;36m0\u001b[0m\u001b[0;34m]\u001b[0m \u001b[0;34m<\u001b[0m \u001b[0mself\u001b[0m\u001b[0;34m.\u001b[0m\u001b[0mn_clusters\u001b[0m\u001b[0;34m:\u001b[0m\u001b[0;34m\u001b[0m\u001b[0m\n\u001b[1;32m    856\u001b[0m             raise ValueError(\"n_samples=%d should be >= n_clusters=%d\" % (\n",
      "\u001b[0;32m/opt/conda/lib/python3.6/site-packages/sklearn/utils/validation.py\u001b[0m in \u001b[0;36mcheck_array\u001b[0;34m(array, accept_sparse, dtype, order, copy, force_all_finite, ensure_2d, allow_nd, ensure_min_samples, ensure_min_features, warn_on_dtype, estimator)\u001b[0m\n\u001b[1;32m    380\u001b[0m                                       force_all_finite)\n\u001b[1;32m    381\u001b[0m     \u001b[0;32melse\u001b[0m\u001b[0;34m:\u001b[0m\u001b[0;34m\u001b[0m\u001b[0m\n\u001b[0;32m--> 382\u001b[0;31m         \u001b[0marray\u001b[0m \u001b[0;34m=\u001b[0m \u001b[0mnp\u001b[0m\u001b[0;34m.\u001b[0m\u001b[0marray\u001b[0m\u001b[0;34m(\u001b[0m\u001b[0marray\u001b[0m\u001b[0;34m,\u001b[0m \u001b[0mdtype\u001b[0m\u001b[0;34m=\u001b[0m\u001b[0mdtype\u001b[0m\u001b[0;34m,\u001b[0m \u001b[0morder\u001b[0m\u001b[0;34m=\u001b[0m\u001b[0morder\u001b[0m\u001b[0;34m,\u001b[0m \u001b[0mcopy\u001b[0m\u001b[0;34m=\u001b[0m\u001b[0mcopy\u001b[0m\u001b[0;34m)\u001b[0m\u001b[0;34m\u001b[0m\u001b[0m\n\u001b[0m\u001b[1;32m    383\u001b[0m \u001b[0;34m\u001b[0m\u001b[0m\n\u001b[1;32m    384\u001b[0m         \u001b[0;32mif\u001b[0m \u001b[0mensure_2d\u001b[0m\u001b[0;34m:\u001b[0m\u001b[0;34m\u001b[0m\u001b[0m\n",
      "\u001b[0;31mValueError\u001b[0m: could not convert string to float: 'budgetary'"
     ]
    }
   ],
   "source": [
    "#Распределение кластеров\n",
    "from sklearn.cluster import KMeans\n",
    "from sklearn.metrics import silhouette_samples, silhouette_score\n",
    "import numpy as np\n",
    "\n",
    "x= []\n",
    "y= []\n",
    "averg=[]\n",
    "mm = 0\n",
    "matrix = result_with_syn[0]\n",
    "for _ in range(20):\n",
    "    for nc in range(10, 3,-1):\n",
    "            kmean = KMeans(n_clusters=nc)\n",
    "            rez=kmean.fit_predict(matrix) \n",
    "            silhouette_avg = silhouette_score(matrix, rez)\n",
    "            x.append(nc)\n",
    "            y.append(silhouette_avg)\n",
    "            print('clust=',nc,'silh=',silhouette_avg)\n",
    "\n",
    "        \n",
    "        \n",
    "#    df['clst'] = x\n",
    "#    df['coef'] = y\n",
    "#    x= []\n",
    "#    y= []\n",
    "#    averg.append(df.loc[df['coef'].idxmax()]['clst'])\n",
    "#sum(averg)/len(averg)"
   ]
  },
  {
   "cell_type": "code",
   "execution_count": 316,
   "metadata": {},
   "outputs": [
    {
     "data": {
      "text/plain": [
       "(105, 1361)"
      ]
     },
     "execution_count": 316,
     "metadata": {},
     "output_type": "execute_result"
    }
   ],
   "source": [
    "dtm.shape"
   ]
  },
  {
   "cell_type": "code",
   "execution_count": 314,
   "metadata": {
    "collapsed": true
   },
   "outputs": [],
   "source": [
    "dtm = dtm.T"
   ]
  },
  {
   "cell_type": "code",
   "execution_count": 313,
   "metadata": {},
   "outputs": [
    {
     "name": "stdout",
     "output_type": "stream",
     "text": [
      "clust= 10 silh= 0.0732165802112\n"
     ]
    }
   ],
   "source": [
    "kmean = KMeans(n_clusters=10)\n",
    "rez=kmean.fit_predict(dtm) \n",
    "print('clust=',10,'silh=',silhouette_score(dtm, rez))\n"
   ]
  },
  {
   "cell_type": "code",
   "execution_count": 224,
   "metadata": {},
   "outputs": [
    {
     "data": {
      "text/plain": [
       "array([0, 0, 0, ..., 0, 0, 0], dtype=int32)"
      ]
     },
     "execution_count": 224,
     "metadata": {},
     "output_type": "execute_result"
    }
   ],
   "source": [
    "kmean = KMeans(n_clusters=10).fit(dtm)\n",
    "kmean.labels_"
   ]
  },
  {
   "cell_type": "code",
   "execution_count": 487,
   "metadata": {
    "collapsed": true
   },
   "outputs": [
    {
     "data": {
      "image/png": "[encoded data removed]",
      "text/plain": [
       "<matplotlib.figure.Figure at 0x7fbf82702588>"
      ]
     },
     "metadata": {},
     "output_type": "display_data"
    }
   ],
   "source": [
    "plt.plot(ux,uy, marker='o', color='g', ls='')\n",
    "plt.plot(x,y, marker='o', color='r', ls='')\n",
    "plt.show()"
   ]
  },
  {
   "cell_type": "code",
   "execution_count": 488,
   "metadata": {
    "collapsed": true
   },
   "outputs": [],
   "source": [
    "r = []\n",
    "for i in range(len(nomer)):\n",
    "    r.append(((ux[i]*-x[i])**2+(uy[i]*-y[i])**2)**0.5)"
   ]
  },
  {
   "cell_type": "code",
   "execution_count": 10,
   "metadata": {
    "collapsed": true
   },
   "outputs": [],
   "source": [
    "#Токенизация\n",
    "ru_ls= []\n",
    "for i in range(len(ru)):\n",
    "    ru_ls.append(ru[i].split(' '))\n"
   ]
  },
  {
   "cell_type": "code",
   "execution_count": 58,
   "metadata": {
    "scrolled": true
   },
   "outputs": [
    {
     "name": "stdout",
     "output_type": "stream",
     "text": [
      "['the', 'organization', 'to', 'be', 'under', 'the', 'jurisdiction', 'of', 'the', 'Ministry', 'of', 'Finance', 'Russia', 'list', '', 'and', 'the', 'function', 'of', 'the', 'organization', 'to', 'be', 'under', 'the', 'jurisdiction', 'of', 'the', 'Ministry', 'of', 'Finance', '', 'Russia', 'field', 'name', 'english', 'description', 'English', 'description', 'format', 'name', 'of', 'the', 'organization', 'Name', 'of', 'the', 'organization', 'name', 'of', 'the', 'organization', 'to', 'be', 'under', 'the', 'jurisdiction', 'of', 'the', 'Ministry', 'of', 'Finance', 'Russia', 'string', 'head', 'organization', 'of', 'the', 'CEO', '', 'the', 'head', 'of', 'the', 'string', 'legal', 'address', 'Legal', 'address', 'legal', 'address', 'legal', 'address', 'string', 'code', 'kladr', 'KLADR', 'Legal', 'address', 'the', 'legal', 'address', 'of', 'the', 'string', 'kladr', 'code', 'postal', 'address', 'Postal', 'address', 'postal', 'address', 'postal', 'address', 'string', 'code', 'kladr', 'KLADR', 'Postal', 'address', 'postal', 'address', 'code', 'kladr', 'string', 'the', 'latitude', 'coordinate', 'the', 'Latitude', 'coordinate', 'of', 'the', 'latitude', 'string', 'longitude', 'coordinate', 'the', 'Longitude', 'coordinate', 'of', 'the', 'longitude', 'string', 'address', 'e', 'mail', 'Email', 'address', 'email', 'string', 'website', 'WebSite', 'the', 'official', 'website', 'address', 'organization', 'phone', 'Telephone', 'string', 'telephone', 'number', 'string', 'Fax', 'Fax', 'Fax', 'string', 'task', 'and', 'function', 'Functions', 'and', 'tasks', 'the', 'size', 'of', 'payment', 'of', 'work', 'for', 'the', 'vacant', 'position', 'string', '']\n",
      "0\n",
      "the -------\n",
      "organization -------\n",
      "to -------\n",
      "be -------\n",
      "under -------\n",
      "the -------\n",
      "jurisdiction -------\n",
      "of -------\n",
      "the -------\n",
      "Ministry -------\n",
      "of -------\n",
      "Finance -------\n",
      "Russia -------\n",
      "list -------\n",
      " -------\n",
      "and -------\n",
      "the -------\n",
      "function -------\n",
      "of -------\n",
      "the -------\n",
      "organization -------\n",
      "to -------\n",
      "be -------\n",
      "under -------\n",
      "the -------\n",
      "jurisdiction -------\n",
      "of -------\n",
      "the -------\n",
      "Ministry -------\n",
      "of -------\n",
      "Finance -------\n",
      " -------\n",
      "Russia -------\n",
      "field -------\n",
      "name -------\n",
      "english -------\n",
      "description -------\n",
      "English -------\n",
      "description -------\n",
      "format -------\n",
      "name -------\n",
      "of -------\n",
      "the -------\n",
      "organization -------\n",
      "Name -------\n",
      "of -------\n",
      "the -------\n",
      "organization -------\n",
      "name -------\n",
      "of -------\n",
      "the -------\n",
      "organization -------\n",
      "to -------\n",
      "be -------\n",
      "under -------\n",
      "the -------\n",
      "jurisdiction -------\n",
      "of -------\n",
      "the -------\n",
      "Ministry -------\n",
      "of -------\n",
      "Finance -------\n",
      "Russia -------\n",
      "string -------\n",
      "head -------\n",
      "organization -------\n",
      "of -------\n",
      "the -------\n",
      "CEO -------\n",
      " -------\n",
      "the -------\n",
      "head -------\n",
      "of -------\n",
      "the -------\n",
      "string -------\n",
      "legal -------\n",
      "address -------\n",
      "Legal -------\n",
      "address -------\n",
      "legal -------\n",
      "address -------\n",
      "legal -------\n",
      "address -------\n",
      "string -------\n",
      "code -------\n",
      "kladr -------\n",
      "KLADR -------\n",
      "Legal -------\n",
      "address -------\n",
      "the -------\n",
      "legal -------\n",
      "address -------\n",
      "of -------\n",
      "the -------\n",
      "string -------\n",
      "kladr -------\n",
      "code -------\n",
      "postal -------\n",
      "address -------\n",
      "Postal -------\n",
      "address -------\n",
      "postal -------\n",
      "address -------\n",
      "postal -------\n",
      "address -------\n",
      "string -------\n",
      "code -------\n",
      "kladr -------\n",
      "KLADR -------\n",
      "Postal -------\n",
      "address -------\n",
      "postal -------\n",
      "address -------\n",
      "code -------\n",
      "kladr -------\n",
      "string -------\n",
      "the -------\n",
      "latitude -------\n",
      "coordinate -------\n",
      "the -------\n",
      "Latitude -------\n",
      "coordinate -------\n",
      "of -------\n",
      "the -------\n",
      "latitude -------\n",
      "string -------\n",
      "longitude -------\n",
      "coordinate -------\n",
      "the -------\n",
      "Longitude -------\n",
      "coordinate -------\n",
      "of -------\n",
      "the -------\n",
      "longitude -------\n",
      "string -------\n",
      "address -------\n",
      "e -------\n",
      "mail -------\n",
      "Email -------\n",
      "address -------\n",
      "email -------\n",
      "string -------\n",
      "website -------\n",
      "WebSite -------\n",
      "the -------\n",
      "official -------\n",
      "website -------\n",
      "address -------\n",
      "organization -------\n",
      "phone -------\n",
      "Telephone -------\n",
      "string -------\n",
      "telephone -------\n",
      "number -------\n",
      "string -------\n",
      "Fax -------\n",
      "Fax -------\n",
      "Fax -------\n",
      "string -------\n",
      "task -------\n",
      "and -------\n",
      "function -------\n",
      "Functions -------\n",
      "and -------\n",
      "tasks -------\n",
      "the -------\n",
      "size -------\n",
      "of -------\n",
      "payment -------\n",
      "of -------\n",
      "work -------\n",
      "for -------\n",
      "the -------\n",
      "vacant -------\n",
      "position -------\n",
      "string -------\n",
      " -------\n",
      "['', 'the', 'plan', 'of', 'control', 'activities', 'of', 'the', 'administrative', 'Department', 'of', 'the', 'Ministry', 'of', 'Finance', 'of', 'the', 'Russian', 'Federation', 'a', 'plan', 'for', 'the', 'implementation', 'of', 'verification', 'under', 'the', 'jurisdiction', 'of', 'the', 'Ministry', 'of', 'Finance', 'of', 'the', 'Russian', 'Federation', 'Federal', 'state', 'institution', 'fgku', 'in', 'the', 'course', 'of', 'control', 'at', 'the', 'level', 'of', 'jurisdiction', 'of', 'xs', 'element', 'name', 'table', 'coll', 'xs', 'complexType', 'xs', 'sequence', 'xs', 'element', 'name', 'p', 'p', 'type', 'xs', 'string', 'xs', 'element', 'name', 'theme', 'test', 'type', 'xs', 'string', 'xs', 'element', 'name', 'number', 'of', 'the', 'member', 'of', 'the', 'control', 'group', 'accounting', 'supervisor', 'the', 'employee', 'financial', 'control', 'to', 'take', 'part', 'in', 'the', 'conduct', 'of', 'inspection', 'type', 'xs', 'string', 'xs', 'element', 'name', 'to', 'render', 'for', 'the', 'result', 'of', 'the', 'verification', 'representation', 'about', 'inadequate', 'execution', 'of', 'the', 'budget', 'and', 'the', 'adoption', 'of', 'a', 'measure', 'on', 'elimination', 'to', 'identify', 'the', 'violation', 'of', 'the', 'budget', 'legislation', 'date', 'room', 'type', 'xs', 'string', 'xs', 'element', 'name', 'violation', 'period', 'based', 'on', 'the', 'extension', 'of', 'the', 'holding', 'in', 'check', 'the', 'number', 'of', 'unscheduled', 'inspection', 'day', 'count', 'type', 'xs', 'string', 'xs', 'element', 'name', 'the', 'amount', 'of', 'means', 'of', 'the', 'Federal', 'budget', 'against', 'which', 'to', 'identify', 'a', 'violation', 'of', 'the', 'budgetary', 'legislation', 'of', 'the', 'Russian', 'Federation', 'RUB', 'type', 'xs', 'string', 'xs', 'element', 'name', 'number', 'to', 'identify', 'the', 'violation', 'of', 'the', 'budget', 'legislation', 'of', 'the', 'Russian', 'Federation', 'type', 'xs', 'string', 'xs', 'element', 'name', 'number', 'of', 'appeal', 'against', 'the', 'decision', 'action', 'inaction', 'a', 'member', 'of', 'the', 'control', 'group', 'or', 'the', 'employee', 'financial', 'control', 'recognized', 'in', 'the', 'established', 'order', 'reasonable', 'type', 'xs', 'string', '']\n",
      "1\n",
      " -------\n",
      "the -------\n",
      "plan -------\n",
      "of -------\n",
      "control -------\n",
      "activities -------\n",
      "of -------\n",
      "the -------\n",
      "administrative -------\n",
      "Department -------\n",
      "of -------\n",
      "the -------\n",
      "Ministry -------\n",
      "of -------\n",
      "Finance -------\n",
      "of -------\n",
      "the -------\n",
      "Russian -------\n",
      "Federation -------\n",
      "a -------\n",
      "plan -------\n",
      "for -------\n",
      "the -------\n",
      "implementation -------\n",
      "of -------\n",
      "verification -------\n",
      "under -------\n",
      "the -------\n",
      "jurisdiction -------\n",
      "of -------\n",
      "the -------\n",
      "Ministry -------\n",
      "of -------\n",
      "Finance -------\n",
      "of -------\n",
      "the -------\n",
      "Russian -------\n",
      "Federation -------\n",
      "Federal -------\n",
      "state -------\n",
      "institution -------\n",
      "fgku -------\n",
      "in -------\n",
      "the -------\n",
      "course -------\n",
      "of -------\n",
      "control -------\n",
      "at -------\n",
      "the -------\n",
      "level -------\n",
      "of -------\n",
      "jurisdiction -------\n",
      "of -------\n",
      "xs -------\n",
      "element -------\n",
      "name -------\n",
      "table -------\n",
      "coll -------\n",
      "xs -------\n",
      "complexType -------\n",
      "xs -------\n",
      "sequence -------\n",
      "xs -------\n",
      "element -------\n",
      "name -------\n",
      "p -------\n",
      "p -------\n",
      "type -------\n",
      "xs -------\n",
      "string -------\n",
      "xs -------\n",
      "element -------\n",
      "name -------\n",
      "theme -------\n",
      "test -------\n",
      "type -------\n",
      "xs -------\n",
      "string -------\n",
      "xs -------\n",
      "element -------\n",
      "name -------\n",
      "number -------\n",
      "of -------\n",
      "the -------\n",
      "member -------\n",
      "of -------\n",
      "the -------\n",
      "control -------\n",
      "group -------\n",
      "accounting -------\n",
      "supervisor -------\n",
      "the -------\n",
      "employee -------\n",
      "financial -------\n",
      "control -------\n",
      "to -------\n",
      "take -------\n",
      "part -------\n",
      "in -------\n",
      "the -------\n",
      "conduct -------\n",
      "of -------\n",
      "inspection -------\n",
      "type -------\n",
      "xs -------\n",
      "string -------\n",
      "xs -------\n",
      "element -------\n",
      "name -------\n",
      "to -------\n",
      "render -------\n",
      "for -------\n",
      "the -------\n",
      "result -------\n",
      "of -------\n",
      "the -------\n",
      "verification -------\n",
      "representation -------\n",
      "about -------\n",
      "inadequate -------\n",
      "execution -------\n",
      "of -------\n",
      "the -------\n",
      "budget -------\n",
      "and -------\n",
      "the -------\n",
      "adoption -------\n",
      "of -------\n",
      "a -------\n",
      "measure -------\n",
      "on -------\n",
      "elimination -------\n",
      "to -------\n",
      "identify -------\n",
      "the -------\n",
      "violation -------\n",
      "of -------\n",
      "the -------\n",
      "budget -------\n",
      "legislation -------\n",
      "date -------\n",
      "room -------\n",
      "type -------\n",
      "xs -------\n",
      "string -------\n",
      "xs -------\n",
      "element -------\n",
      "name -------\n",
      "violation -------\n",
      "period -------\n",
      "based -------\n",
      "on -------\n",
      "the -------\n",
      "extension -------\n",
      "of -------\n",
      "the -------\n",
      "holding -------\n",
      "in -------\n",
      "check -------\n",
      "the -------\n",
      "number -------\n",
      "of -------\n",
      "unscheduled -------\n",
      "inspection -------\n",
      "day -------\n",
      "count -------\n",
      "type -------\n",
      "xs -------\n",
      "string -------\n",
      "xs -------\n",
      "element -------\n",
      "name -------\n",
      "the -------\n",
      "amount -------\n",
      "of -------\n",
      "means -------\n",
      "of -------\n",
      "the -------\n",
      "Federal -------\n",
      "budget -------\n",
      "against -------\n",
      "which -------\n",
      "to -------\n",
      "identify -------\n",
      "a -------\n",
      "violation -------\n",
      "of -------\n",
      "the -------\n",
      "budgetary -------\n",
      "legislation -------\n",
      "of -------\n",
      "the -------\n",
      "Russian -------\n",
      "Federation -------\n",
      "RUB -------\n",
      "type -------\n",
      "xs -------\n",
      "string -------\n",
      "xs -------\n",
      "element -------\n",
      "name -------\n",
      "number -------\n",
      "to -------\n",
      "identify -------\n",
      "the -------\n",
      "violation -------\n",
      "of -------\n",
      "the -------\n",
      "budget -------\n",
      "legislation -------\n",
      "of -------\n",
      "the -------\n",
      "Russian -------\n",
      "Federation -------\n",
      "type -------\n",
      "xs -------\n",
      "string -------\n",
      "xs -------\n",
      "element -------\n",
      "name -------\n",
      "number -------\n",
      "of -------\n",
      "appeal -------\n",
      "against -------\n",
      "the -------\n",
      "decision -------\n",
      "action -------\n",
      "inaction -------\n",
      "a -------\n",
      "member -------\n",
      "of -------\n",
      "the -------\n",
      "control -------\n",
      "group -------\n",
      "or -------\n",
      "the -------\n",
      "employee -------\n",
      "financial -------\n",
      "control -------\n",
      "recognized -------\n",
      "in -------\n",
      "the -------\n",
      "established -------\n",
      "order -------\n",
      "reasonable -------\n",
      "type -------\n",
      "xs -------\n",
      "string -------\n",
      " -------\n",
      "['', 'report', 'on', 'the', 'controlling', 'activities', 'of', 'the', 'administrative', 'Department', 'of', 'the', 'information', 'about', 'the', 'result', 'of', 'scheduled', 'and', 'unscheduled', 'inspection', 'to', 'carry', 'out', 'the', 'Ministry', 'of', 'Finance', 'in', 'Russia', 'the', 'limit', 'of', 'his', 'authority', 'and', 'the', 'result', 'of', 'the', 'test', 'carried', 'out', 'in', 'Russia', '', 'the', 'Ministry', 'of', 'Finance', 'and', 'its', 'subordinate', 'organization', 'of', 'the', 'xs', 'element', 'name', 'table', 'coll', 'xs', 'complexType', 'xs', 'sequence', 'xs', 'element', 'name', 'p', 'p', 'type', 'xs', 'string', 'xs', 'element', 'name', 'theme', 'test', 'type', 'xs', 'string', 'xs', 'element', 'name', 'number', 'of', 'the', 'member', 'of', 'the', 'control', 'group', 'accounting', 'supervisor', 'the', 'employee', 'financial', 'control', 'to', 'take', 'part', 'in', 'the', 'conduct', 'of', 'inspection', 'type', 'xs', 'string', 'xs', 'element', 'name', 'to', 'render', 'for', 'the', 'result', 'of', 'the', 'verification', 'representation', 'about', 'inadequate', 'execution', 'of', 'the', 'budget', 'and', 'the', 'adoption', 'of', 'a', 'measure', 'on', 'elimination', 'to', 'identify', 'the', 'violation', 'of', 'the', 'budget', 'legislation', 'date', 'room', 'type', 'xs', 'string', 'xs', 'element', 'name', 'violation', 'period', 'based', 'on', 'the', 'extension', 'of', 'the', 'holding', 'in', 'check', 'the', 'number', 'of', 'unscheduled', 'inspection', 'day', 'count', 'type', 'xs', 'string', 'xs', 'element', 'name', 'the', 'amount', 'of', 'means', 'of', 'the', 'Federal', 'budget', 'against', 'which', 'to', 'identify', 'a', 'violation', 'of', 'the', 'budgetary', 'legislation', 'of', 'the', 'Russian', 'Federation', 'RUB', 'type', 'xs', 'string', 'xs', 'element', 'name', 'number', 'to', 'identify', 'the', 'violation', 'of', 'the', 'budget', 'legislation', 'of', 'the', 'Russian', 'Federation', 'type', 'xs', 'string', 'xs', 'element', 'name', 'number', 'of', 'appeal', 'against', 'the', 'decision', 'action', 'inaction', 'a', 'member', 'of', 'the', 'control', 'group', 'or', 'the', 'employee', 'financial', 'control', 'recognized', 'in', 'the', 'established', 'order', 'reasonable', 'type', 'xs', 'string', '']\n",
      "2\n"
     ]
    },
    {
     "name": "stdout",
     "output_type": "stream",
     "text": [
      " -------\n",
      "report -------\n"
     ]
    },
    {
     "ename": "IndexError",
     "evalue": "list index out of range",
     "output_type": "error",
     "traceback": [
      "\u001b[0;31m---------------------------------------------------------------------------\u001b[0m",
      "\u001b[0;31mIndexError\u001b[0m                                Traceback (most recent call last)",
      "\u001b[0;32m<ipython-input-58-7f0e971706ac>\u001b[0m in \u001b[0;36m<module>\u001b[0;34m()\u001b[0m\n\u001b[1;32m     10\u001b[0m         \u001b[0;32mfor\u001b[0m \u001b[0msynset\u001b[0m \u001b[0;32min\u001b[0m \u001b[0mwn\u001b[0m\u001b[0;34m.\u001b[0m\u001b[0msynsets\u001b[0m\u001b[0;34m(\u001b[0m\u001b[0ma\u001b[0m\u001b[0;34m)\u001b[0m\u001b[0;34m:\u001b[0m\u001b[0;34m\u001b[0m\u001b[0m\n\u001b[1;32m     11\u001b[0m             \u001b[0;32mfor\u001b[0m \u001b[0mlemma\u001b[0m \u001b[0;32min\u001b[0m \u001b[0msynset\u001b[0m\u001b[0;34m.\u001b[0m\u001b[0mlemmas\u001b[0m\u001b[0;34m(\u001b[0m\u001b[0;34m)\u001b[0m\u001b[0;34m:\u001b[0m\u001b[0;34m\u001b[0m\u001b[0m\n\u001b[0;32m---> 12\u001b[0;31m                 \u001b[0mz\u001b[0m\u001b[0;34m[\u001b[0m\u001b[0mind\u001b[0m\u001b[0;34m]\u001b[0m\u001b[0;34m.\u001b[0m\u001b[0mappend\u001b[0m\u001b[0;34m(\u001b[0m\u001b[0mlemma\u001b[0m\u001b[0;34m.\u001b[0m\u001b[0mname\u001b[0m\u001b[0;34m(\u001b[0m\u001b[0;34m)\u001b[0m\u001b[0;34m)\u001b[0m\u001b[0;34m\u001b[0m\u001b[0m\n\u001b[0m",
      "\u001b[0;31mIndexError\u001b[0m: list index out of range"
     ]
    }
   ],
   "source": [
    "#Синонимы\n",
    "z= [[],[]]\n",
    "ind=-1\n",
    "for i in ru_ls:\n",
    "    print(i)\n",
    "    ind +=1\n",
    "    print(ind)\n",
    "    for a in i:\n",
    "        print(a,'-------')\n",
    "        for synset in wn.synsets(a):\n",
    "            for lemma in synset.lemmas():\n",
    "                z[ind].append(lemma.name())"
   ]
  },
  {
   "cell_type": "code",
   "execution_count": 83,
   "metadata": {},
   "outputs": [
    {
     "data": {
      "text/plain": [
       "array([[0, 0, 0, ..., 0, 0, 0],\n",
       "       [0, 1, 2, ..., 1, 1, 4],\n",
       "       [0, 0, 0, ..., 0, 0, 0],\n",
       "       ..., \n",
       "       [0, 0, 0, ..., 0, 0, 0],\n",
       "       [0, 0, 0, ..., 0, 0, 0],\n",
       "       [0, 0, 0, ..., 0, 1, 1]], dtype=int64)"
      ]
     },
     "execution_count": 83,
     "metadata": {},
     "output_type": "execute_result"
    }
   ],
   "source": []
  },
  {
   "cell_type": "code",
   "execution_count": 64,
   "metadata": {
    "collapsed": true
   },
   "outputs": [],
   "source": [
    "import numpy as np\n",
    "U, s, V = np.linalg.svd(tdm, full_matrices=True)"
   ]
  },
  {
   "cell_type": "code",
   "execution_count": 65,
   "metadata": {
    "collapsed": true
   },
   "outputs": [],
   "source": [
    "import pandas as pd\n",
    "\n",
    "dfU = pd.DataFrame(U, index=vectorizer.get_feature_names() )\n",
    "dfV = pd.DataFrame(V)\n"
   ]
  },
  {
   "cell_type": "code",
   "execution_count": 67,
   "metadata": {
    "collapsed": true
   },
   "outputs": [
    {
     "data": {
      "text/html": [
       "<div>\n",
       "<table border=\"1\" class=\"dataframe\">\n",
       "  <thead>\n",
       "    <tr style=\"text-align: right;\">\n",
       "      <th></th>\n",
       "      <th>1</th>\n",
       "      <th>2</th>\n",
       "      <th>3</th>\n",
       "    </tr>\n",
       "  </thead>\n",
       "  <tbody>\n",
       "    <tr>\n",
       "      <th>abbreviated</th>\n",
       "      <td>-0.000039</td>\n",
       "      <td>0.000142</td>\n",
       "      <td>0.001162</td>\n",
       "    </tr>\n",
       "    <tr>\n",
       "      <th>about</th>\n",
       "      <td>0.004000</td>\n",
       "      <td>-0.004269</td>\n",
       "      <td>0.046473</td>\n",
       "    </tr>\n",
       "    <tr>\n",
       "      <th>academic</th>\n",
       "      <td>0.002673</td>\n",
       "      <td>-0.000138</td>\n",
       "      <td>-0.000379</td>\n",
       "    </tr>\n",
       "    <tr>\n",
       "      <th>academicdegree</th>\n",
       "      <td>0.002673</td>\n",
       "      <td>-0.000138</td>\n",
       "      <td>-0.000379</td>\n",
       "    </tr>\n",
       "    <tr>\n",
       "      <th>academy</th>\n",
       "      <td>-0.000007</td>\n",
       "      <td>0.000041</td>\n",
       "      <td>0.000819</td>\n",
       "    </tr>\n",
       "    <tr>\n",
       "      <th>acap</th>\n",
       "      <td>-0.000282</td>\n",
       "      <td>0.000304</td>\n",
       "      <td>0.004552</td>\n",
       "    </tr>\n",
       "    <tr>\n",
       "      <th>acceptance</th>\n",
       "      <td>-0.000059</td>\n",
       "      <td>0.000012</td>\n",
       "      <td>0.000767</td>\n",
       "    </tr>\n",
       "    <tr>\n",
       "      <th>access</th>\n",
       "      <td>-0.000127</td>\n",
       "      <td>0.000146</td>\n",
       "      <td>0.001816</td>\n",
       "    </tr>\n",
       "    <tr>\n",
       "      <th>accommodation</th>\n",
       "      <td>-0.000107</td>\n",
       "      <td>0.000081</td>\n",
       "      <td>0.001325</td>\n",
       "    </tr>\n",
       "    <tr>\n",
       "      <th>accordance</th>\n",
       "      <td>-0.001590</td>\n",
       "      <td>0.004204</td>\n",
       "      <td>0.009933</td>\n",
       "    </tr>\n",
       "    <tr>\n",
       "      <th>according</th>\n",
       "      <td>-0.001517</td>\n",
       "      <td>0.001634</td>\n",
       "      <td>0.017649</td>\n",
       "    </tr>\n",
       "    <tr>\n",
       "      <th>account</th>\n",
       "      <td>-0.008480</td>\n",
       "      <td>-0.042358</td>\n",
       "      <td>0.137140</td>\n",
       "    </tr>\n",
       "    <tr>\n",
       "      <th>accounting</th>\n",
       "      <td>-0.001315</td>\n",
       "      <td>0.003521</td>\n",
       "      <td>0.005696</td>\n",
       "    </tr>\n",
       "    <tr>\n",
       "      <th>achieve</th>\n",
       "      <td>-0.000709</td>\n",
       "      <td>0.000968</td>\n",
       "      <td>0.010014</td>\n",
       "    </tr>\n",
       "    <tr>\n",
       "      <th>achievement</th>\n",
       "      <td>-0.000118</td>\n",
       "      <td>0.000161</td>\n",
       "      <td>0.001669</td>\n",
       "    </tr>\n",
       "    <tr>\n",
       "      <th>achieving</th>\n",
       "      <td>-0.001300</td>\n",
       "      <td>0.001775</td>\n",
       "      <td>0.018359</td>\n",
       "    </tr>\n",
       "    <tr>\n",
       "      <th>act</th>\n",
       "      <td>-0.004306</td>\n",
       "      <td>-0.030823</td>\n",
       "      <td>-0.005591</td>\n",
       "    </tr>\n",
       "    <tr>\n",
       "      <th>action</th>\n",
       "      <td>0.000196</td>\n",
       "      <td>0.000140</td>\n",
       "      <td>0.000968</td>\n",
       "    </tr>\n",
       "    <tr>\n",
       "      <th>activities</th>\n",
       "      <td>-0.001345</td>\n",
       "      <td>0.001547</td>\n",
       "      <td>0.019229</td>\n",
       "    </tr>\n",
       "    <tr>\n",
       "      <th>activity</th>\n",
       "      <td>0.010824</td>\n",
       "      <td>0.002650</td>\n",
       "      <td>0.034297</td>\n",
       "    </tr>\n",
       "    <tr>\n",
       "      <th>acts</th>\n",
       "      <td>-0.000030</td>\n",
       "      <td>0.000006</td>\n",
       "      <td>0.000384</td>\n",
       "    </tr>\n",
       "    <tr>\n",
       "      <th>additional</th>\n",
       "      <td>-0.000403</td>\n",
       "      <td>0.000575</td>\n",
       "      <td>0.003539</td>\n",
       "    </tr>\n",
       "    <tr>\n",
       "      <th>additionally</th>\n",
       "      <td>-0.000061</td>\n",
       "      <td>-0.000022</td>\n",
       "      <td>0.000645</td>\n",
       "    </tr>\n",
       "    <tr>\n",
       "      <th>address</th>\n",
       "      <td>-0.000666</td>\n",
       "      <td>0.001850</td>\n",
       "      <td>0.021446</td>\n",
       "    </tr>\n",
       "    <tr>\n",
       "      <th>adjust</th>\n",
       "      <td>-0.000074</td>\n",
       "      <td>-0.000105</td>\n",
       "      <td>0.000537</td>\n",
       "    </tr>\n",
       "    <tr>\n",
       "      <th>administrative</th>\n",
       "      <td>0.000196</td>\n",
       "      <td>0.000140</td>\n",
       "      <td>0.000968</td>\n",
       "    </tr>\n",
       "    <tr>\n",
       "      <th>administrator</th>\n",
       "      <td>-0.000211</td>\n",
       "      <td>0.000510</td>\n",
       "      <td>0.002063</td>\n",
       "    </tr>\n",
       "    <tr>\n",
       "      <th>admission</th>\n",
       "      <td>-0.000898</td>\n",
       "      <td>0.002585</td>\n",
       "      <td>-0.001309</td>\n",
       "    </tr>\n",
       "    <tr>\n",
       "      <th>adopt</th>\n",
       "      <td>-0.000029</td>\n",
       "      <td>0.000040</td>\n",
       "      <td>0.000608</td>\n",
       "    </tr>\n",
       "    <tr>\n",
       "      <th>adoption</th>\n",
       "      <td>-0.000045</td>\n",
       "      <td>0.000243</td>\n",
       "      <td>0.003141</td>\n",
       "    </tr>\n",
       "    <tr>\n",
       "      <th>...</th>\n",
       "      <td>...</td>\n",
       "      <td>...</td>\n",
       "      <td>...</td>\n",
       "    </tr>\n",
       "    <tr>\n",
       "      <th>when</th>\n",
       "      <td>-0.000871</td>\n",
       "      <td>-0.005810</td>\n",
       "      <td>-0.002860</td>\n",
       "    </tr>\n",
       "    <tr>\n",
       "      <th>where</th>\n",
       "      <td>0.004986</td>\n",
       "      <td>0.000659</td>\n",
       "      <td>-0.001315</td>\n",
       "    </tr>\n",
       "    <tr>\n",
       "      <th>which</th>\n",
       "      <td>0.000096</td>\n",
       "      <td>0.007127</td>\n",
       "      <td>0.019795</td>\n",
       "    </tr>\n",
       "    <tr>\n",
       "      <th>who</th>\n",
       "      <td>0.002673</td>\n",
       "      <td>-0.000138</td>\n",
       "      <td>-0.000379</td>\n",
       "    </tr>\n",
       "    <tr>\n",
       "      <th>whole</th>\n",
       "      <td>-0.001332</td>\n",
       "      <td>0.008570</td>\n",
       "      <td>-0.011885</td>\n",
       "    </tr>\n",
       "    <tr>\n",
       "      <th>whose</th>\n",
       "      <td>-0.000037</td>\n",
       "      <td>0.000119</td>\n",
       "      <td>0.000687</td>\n",
       "    </tr>\n",
       "    <tr>\n",
       "      <th>with</th>\n",
       "      <td>-0.014664</td>\n",
       "      <td>-0.081706</td>\n",
       "      <td>-0.011522</td>\n",
       "    </tr>\n",
       "    <tr>\n",
       "      <th>withdrawal</th>\n",
       "      <td>-0.003844</td>\n",
       "      <td>-0.037685</td>\n",
       "      <td>-0.025314</td>\n",
       "    </tr>\n",
       "    <tr>\n",
       "      <th>within</th>\n",
       "      <td>-0.000004</td>\n",
       "      <td>0.000018</td>\n",
       "      <td>0.000110</td>\n",
       "    </tr>\n",
       "    <tr>\n",
       "      <th>without</th>\n",
       "      <td>-0.000937</td>\n",
       "      <td>0.002079</td>\n",
       "      <td>-0.001105</td>\n",
       "    </tr>\n",
       "    <tr>\n",
       "      <th>work</th>\n",
       "      <td>0.003245</td>\n",
       "      <td>0.003169</td>\n",
       "      <td>0.023773</td>\n",
       "    </tr>\n",
       "    <tr>\n",
       "      <th>worked</th>\n",
       "      <td>0.002673</td>\n",
       "      <td>-0.000138</td>\n",
       "      <td>-0.000379</td>\n",
       "    </tr>\n",
       "    <tr>\n",
       "      <th>worker</th>\n",
       "      <td>-0.000036</td>\n",
       "      <td>0.000051</td>\n",
       "      <td>0.000376</td>\n",
       "    </tr>\n",
       "    <tr>\n",
       "      <th>working</th>\n",
       "      <td>-0.000074</td>\n",
       "      <td>0.000238</td>\n",
       "      <td>0.001374</td>\n",
       "    </tr>\n",
       "    <tr>\n",
       "      <th>works</th>\n",
       "      <td>-0.000565</td>\n",
       "      <td>0.000865</td>\n",
       "      <td>0.006648</td>\n",
       "    </tr>\n",
       "    <tr>\n",
       "      <th>workshop</th>\n",
       "      <td>-0.000004</td>\n",
       "      <td>0.000018</td>\n",
       "      <td>0.000110</td>\n",
       "    </tr>\n",
       "    <tr>\n",
       "      <th>wrap</th>\n",
       "      <td>-0.000141</td>\n",
       "      <td>0.000152</td>\n",
       "      <td>0.002276</td>\n",
       "    </tr>\n",
       "    <tr>\n",
       "      <th>write</th>\n",
       "      <td>-0.001524</td>\n",
       "      <td>-0.010168</td>\n",
       "      <td>-0.005005</td>\n",
       "    </tr>\n",
       "    <tr>\n",
       "      <th>written</th>\n",
       "      <td>-0.000218</td>\n",
       "      <td>-0.001453</td>\n",
       "      <td>-0.000715</td>\n",
       "    </tr>\n",
       "    <tr>\n",
       "      <th>www</th>\n",
       "      <td>0.005346</td>\n",
       "      <td>-0.000275</td>\n",
       "      <td>-0.000758</td>\n",
       "    </tr>\n",
       "    <tr>\n",
       "      <th>xml</th>\n",
       "      <td>0.163056</td>\n",
       "      <td>-0.008403</td>\n",
       "      <td>-0.023121</td>\n",
       "    </tr>\n",
       "    <tr>\n",
       "      <th>xmlns</th>\n",
       "      <td>0.010692</td>\n",
       "      <td>-0.000551</td>\n",
       "      <td>-0.001516</td>\n",
       "    </tr>\n",
       "    <tr>\n",
       "      <th>xmlschema</th>\n",
       "      <td>0.002673</td>\n",
       "      <td>-0.000138</td>\n",
       "      <td>-0.000379</td>\n",
       "    </tr>\n",
       "    <tr>\n",
       "      <th>xs</th>\n",
       "      <td>0.816325</td>\n",
       "      <td>-0.039208</td>\n",
       "      <td>-0.096831</td>\n",
       "    </tr>\n",
       "    <tr>\n",
       "      <th>year</th>\n",
       "      <td>-0.033269</td>\n",
       "      <td>-0.389915</td>\n",
       "      <td>-0.122441</td>\n",
       "    </tr>\n",
       "    <tr>\n",
       "      <th>years</th>\n",
       "      <td>-0.000238</td>\n",
       "      <td>0.000137</td>\n",
       "      <td>0.002548</td>\n",
       "    </tr>\n",
       "    <tr>\n",
       "      <th>yes</th>\n",
       "      <td>-0.000403</td>\n",
       "      <td>0.000575</td>\n",
       "      <td>0.003539</td>\n",
       "    </tr>\n",
       "    <tr>\n",
       "      <th>your</th>\n",
       "      <td>-0.000080</td>\n",
       "      <td>0.000053</td>\n",
       "      <td>0.000944</td>\n",
       "    </tr>\n",
       "    <tr>\n",
       "      <th>yyyy</th>\n",
       "      <td>-0.000094</td>\n",
       "      <td>0.000464</td>\n",
       "      <td>-0.000038</td>\n",
       "    </tr>\n",
       "    <tr>\n",
       "      <th>сonsecutive</th>\n",
       "      <td>-0.000562</td>\n",
       "      <td>0.000648</td>\n",
       "      <td>0.010890</td>\n",
       "    </tr>\n",
       "  </tbody>\n",
       "</table>\n",
       "<p>1185 rows × 3 columns</p>\n",
       "</div>"
      ],
      "text/plain": [
       "                       1         2         3\n",
       "abbreviated    -0.000039  0.000142  0.001162\n",
       "about           0.004000 -0.004269  0.046473\n",
       "academic        0.002673 -0.000138 -0.000379\n",
       "academicdegree  0.002673 -0.000138 -0.000379\n",
       "academy        -0.000007  0.000041  0.000819\n",
       "acap           -0.000282  0.000304  0.004552\n",
       "acceptance     -0.000059  0.000012  0.000767\n",
       "access         -0.000127  0.000146  0.001816\n",
       "accommodation  -0.000107  0.000081  0.001325\n",
       "accordance     -0.001590  0.004204  0.009933\n",
       "according      -0.001517  0.001634  0.017649\n",
       "account        -0.008480 -0.042358  0.137140\n",
       "accounting     -0.001315  0.003521  0.005696\n",
       "achieve        -0.000709  0.000968  0.010014\n",
       "achievement    -0.000118  0.000161  0.001669\n",
       "achieving      -0.001300  0.001775  0.018359\n",
       "act            -0.004306 -0.030823 -0.005591\n",
       "action          0.000196  0.000140  0.000968\n",
       "activities     -0.001345  0.001547  0.019229\n",
       "activity        0.010824  0.002650  0.034297\n",
       "acts           -0.000030  0.000006  0.000384\n",
       "additional     -0.000403  0.000575  0.003539\n",
       "additionally   -0.000061 -0.000022  0.000645\n",
       "address        -0.000666  0.001850  0.021446\n",
       "adjust         -0.000074 -0.000105  0.000537\n",
       "administrative  0.000196  0.000140  0.000968\n",
       "administrator  -0.000211  0.000510  0.002063\n",
       "admission      -0.000898  0.002585 -0.001309\n",
       "adopt          -0.000029  0.000040  0.000608\n",
       "adoption       -0.000045  0.000243  0.003141\n",
       "...                  ...       ...       ...\n",
       "when           -0.000871 -0.005810 -0.002860\n",
       "where           0.004986  0.000659 -0.001315\n",
       "which           0.000096  0.007127  0.019795\n",
       "who             0.002673 -0.000138 -0.000379\n",
       "whole          -0.001332  0.008570 -0.011885\n",
       "whose          -0.000037  0.000119  0.000687\n",
       "with           -0.014664 -0.081706 -0.011522\n",
       "withdrawal     -0.003844 -0.037685 -0.025314\n",
       "within         -0.000004  0.000018  0.000110\n",
       "without        -0.000937  0.002079 -0.001105\n",
       "work            0.003245  0.003169  0.023773\n",
       "worked          0.002673 -0.000138 -0.000379\n",
       "worker         -0.000036  0.000051  0.000376\n",
       "working        -0.000074  0.000238  0.001374\n",
       "works          -0.000565  0.000865  0.006648\n",
       "workshop       -0.000004  0.000018  0.000110\n",
       "wrap           -0.000141  0.000152  0.002276\n",
       "write          -0.001524 -0.010168 -0.005005\n",
       "written        -0.000218 -0.001453 -0.000715\n",
       "www             0.005346 -0.000275 -0.000758\n",
       "xml             0.163056 -0.008403 -0.023121\n",
       "xmlns           0.010692 -0.000551 -0.001516\n",
       "xmlschema       0.002673 -0.000138 -0.000379\n",
       "xs              0.816325 -0.039208 -0.096831\n",
       "year           -0.033269 -0.389915 -0.122441\n",
       "years          -0.000238  0.000137  0.002548\n",
       "yes            -0.000403  0.000575  0.003539\n",
       "your           -0.000080  0.000053  0.000944\n",
       "yyyy           -0.000094  0.000464 -0.000038\n",
       "сonsecutive    -0.000562  0.000648  0.010890\n",
       "\n",
       "[1185 rows x 3 columns]"
      ]
     },
     "execution_count": 67,
     "metadata": {},
     "output_type": "execute_result"
    }
   ],
   "source": [
    "dfU[[1,2,3]]"
   ]
  },
  {
   "cell_type": "code",
   "execution_count": 66,
   "metadata": {
    "collapsed": true
   },
   "outputs": [
    {
     "data": {
      "text/html": [
       "<div>\n",
       "<table border=\"1\" class=\"dataframe\">\n",
       "  <thead>\n",
       "    <tr style=\"text-align: right;\">\n",
       "      <th></th>\n",
       "      <th>0</th>\n",
       "      <th>1</th>\n",
       "      <th>2</th>\n",
       "      <th>3</th>\n",
       "      <th>4</th>\n",
       "      <th>5</th>\n",
       "      <th>6</th>\n",
       "      <th>7</th>\n",
       "      <th>8</th>\n",
       "      <th>9</th>\n",
       "      <th>...</th>\n",
       "      <th>95</th>\n",
       "      <th>96</th>\n",
       "      <th>97</th>\n",
       "      <th>98</th>\n",
       "      <th>99</th>\n",
       "      <th>100</th>\n",
       "      <th>101</th>\n",
       "      <th>102</th>\n",
       "      <th>103</th>\n",
       "      <th>104</th>\n",
       "    </tr>\n",
       "  </thead>\n",
       "  <tbody>\n",
       "    <tr>\n",
       "      <th>1</th>\n",
       "      <td>-0.007257</td>\n",
       "      <td>0.034809</td>\n",
       "      <td>0.035193</td>\n",
       "      <td>-0.013210</td>\n",
       "      <td>-0.002468</td>\n",
       "      <td>-0.009688</td>\n",
       "      <td>-0.004063</td>\n",
       "      <td>-0.006397</td>\n",
       "      <td>-0.006713</td>\n",
       "      <td>-0.007762</td>\n",
       "      <td>...</td>\n",
       "      <td>-0.005444</td>\n",
       "      <td>-0.048055</td>\n",
       "      <td>-0.037256</td>\n",
       "      <td>0.000960</td>\n",
       "      <td>-0.003635</td>\n",
       "      <td>-0.017434</td>\n",
       "      <td>-0.008460</td>\n",
       "      <td>-0.002718</td>\n",
       "      <td>-0.005527</td>\n",
       "      <td>-0.009607</td>\n",
       "    </tr>\n",
       "    <tr>\n",
       "      <th>2</th>\n",
       "      <td>0.005040</td>\n",
       "      <td>0.020590</td>\n",
       "      <td>0.007395</td>\n",
       "      <td>-0.010482</td>\n",
       "      <td>-0.011348</td>\n",
       "      <td>0.000039</td>\n",
       "      <td>-0.004217</td>\n",
       "      <td>0.005101</td>\n",
       "      <td>0.002313</td>\n",
       "      <td>0.002308</td>\n",
       "      <td>...</td>\n",
       "      <td>-0.002762</td>\n",
       "      <td>0.038221</td>\n",
       "      <td>-0.010987</td>\n",
       "      <td>0.007644</td>\n",
       "      <td>0.000457</td>\n",
       "      <td>-0.009073</td>\n",
       "      <td>0.025682</td>\n",
       "      <td>0.007112</td>\n",
       "      <td>0.009241</td>\n",
       "      <td>0.005604</td>\n",
       "    </tr>\n",
       "  </tbody>\n",
       "</table>\n",
       "<p>2 rows × 105 columns</p>\n",
       "</div>"
      ],
      "text/plain": [
       "        0         1         2         3         4         5         6    \\\n",
       "1 -0.007257  0.034809  0.035193 -0.013210 -0.002468 -0.009688 -0.004063   \n",
       "2  0.005040  0.020590  0.007395 -0.010482 -0.011348  0.000039 -0.004217   \n",
       "\n",
       "        7         8         9      ...          95        96        97   \\\n",
       "1 -0.006397 -0.006713 -0.007762    ...    -0.005444 -0.048055 -0.037256   \n",
       "2  0.005101  0.002313  0.002308    ...    -0.002762  0.038221 -0.010987   \n",
       "\n",
       "        98        99        100       101       102       103       104  \n",
       "1  0.000960 -0.003635 -0.017434 -0.008460 -0.002718 -0.005527 -0.009607  \n",
       "2  0.007644  0.000457 -0.009073  0.025682  0.007112  0.009241  0.005604  \n",
       "\n",
       "[2 rows x 105 columns]"
      ]
     },
     "execution_count": 66,
     "metadata": {},
     "output_type": "execute_result"
    }
   ],
   "source": [
    "dfV.iloc[[1,2]]"
   ]
  },
  {
   "cell_type": "code",
   "execution_count": 10,
   "metadata": {
    "collapsed": true
   },
   "outputs": [],
   "source": [
    "#%matplotlib inline\n",
    "#from pandas.tools.plotting import scatter_matrix\n",
    "#scatter_matrix(dfV, alpha=0.1, figsize=(12, 12), diagonal='kde')"
   ]
  },
  {
   "cell_type": "code",
   "execution_count": 68,
   "metadata": {
    "collapsed": true
   },
   "outputs": [],
   "source": [
    "def f1(x):\n",
    "    if abs(x)<0.1: \n",
    "        return 0  \n",
    "    return x\n"
   ]
  },
  {
   "cell_type": "markdown",
   "metadata": {
    "collapsed": true
   },
   "source": [
    "Выше показаны ключевые образы их три 1-ая компонента самая сильная, вторая послабей и последняя самая слабая.\n",
    "Действительно текст первой компоненты повторяется чаще всего."
   ]
  },
  {
   "cell_type": "code",
   "execution_count": 33,
   "metadata": {},
   "outputs": [
    {
     "data": {
      "text/plain": [
       "[0, -0.57735026918962573, 0, 0, -0.81649658092772615, 0, 0, 0]"
      ]
     },
     "execution_count": 33,
     "metadata": {},
     "output_type": "execute_result"
    }
   ],
   "source": [
    "list(map(f1,dfV[0] ))"
   ]
  },
  {
   "cell_type": "markdown",
   "metadata": {
    "collapsed": true
   },
   "source": [
    "Первая компонента говорит, что  стоит взять 2 и 5 \n",
    "предложения - остальные похожи на эти два, \n",
    "скорее всего или на одно или на другое "
   ]
  },
  {
   "cell_type": "code",
   "execution_count": 74,
   "metadata": {
    "collapsed": true
   },
   "outputs": [],
   "source": [
    "np.savetxt('nump.out', tdm, delimiter=',',fmt = )"
   ]
  },
  {
   "cell_type": "code",
   "execution_count": 80,
   "metadata": {},
   "outputs": [
    {
     "data": {
      "text/plain": [
       "(2, 2)"
      ]
     },
     "execution_count": 80,
     "metadata": {},
     "output_type": "execute_result"
    }
   ],
   "source": [
    "from io import StringIO  \n",
    "numps = StringIO(\"0 1\\n2 3\")\n",
    "np.loadtxt(numps).shape\n"
   ]
  },
  {
   "cell_type": "code",
   "execution_count": 13,
   "metadata": {
    "collapsed": true
   },
   "outputs": [
    {
     "data": {
      "text/plain": [
       "[0, -0.57735026918962584, 0, 0.70441146084575823, 0.40824829046386291, 0, 0, 0]"
      ]
     },
     "execution_count": 13,
     "metadata": {},
     "output_type": "execute_result"
    }
   ],
   "source": [
    "KMeans()"
   ]
  },
  {
   "cell_type": "markdown",
   "metadata": {},
   "source": [
    "В третье компоненте есть различия. Это  показывает что слова образуют две устойчивые группы по повтояемости, то есть две темы."
   ]
  },
  {
   "cell_type": "code",
   "execution_count": 73,
   "metadata": {
    "collapsed": true
   },
   "outputs": [
    {
     "data": {
      "text/html": [
       "\n",
       "    <div class=\"bk-root\">\n",
       "        <a href=\"https://bokeh.pydata.org\" target=\"_blank\" class=\"bk-logo bk-logo-small bk-logo-notebook\"></a>\n",
       "        <span id=\"1eaf69d6-24fe-4ad8-a2ec-f793d4e15b5f\">Loading BokehJS ...</span>\n",
       "    </div>"
      ]
     },
     "metadata": {},
     "output_type": "display_data"
    },
    {
     "data": {
      "application/javascript": [
       "\n",
       "(function(root) {\n",
       "  function now() {\n",
       "    return new Date();\n",
       "  }\n",
       "\n",
       "  var force = true;\n",
       "\n",
       "  if (typeof (root._bokeh_onload_callbacks) === \"undefined\" || force === true) {\n",
       "    root._bokeh_onload_callbacks = [];\n",
       "    root._bokeh_is_loading = undefined;\n",
       "  }\n",
       "\n",
       "  var JS_MIME_TYPE = 'application/javascript';\n",
       "  var HTML_MIME_TYPE = 'text/html';\n",
       "  var EXEC_MIME_TYPE = 'application/vnd.bokehjs_exec.v0+json';\n",
       "  var CLASS_NAME = 'output_bokeh rendered_html';\n",
       "\n",
       "  /**\n",
       "   * Render data to the DOM node\n",
       "   */\n",
       "  function render(props, node) {\n",
       "    var script = document.createElement(\"script\");\n",
       "    node.appendChild(script);\n",
       "  }\n",
       "\n",
       "  /**\n",
       "   * Handle when an output is cleared or removed\n",
       "   */\n",
       "  function handleClearOutput(event, handle) {\n",
       "    var cell = handle.cell;\n",
       "\n",
       "    var id = cell.output_area._bokeh_element_id;\n",
       "    var server_id = cell.output_area._bokeh_server_id;\n",
       "    // Clean up Bokeh references\n",
       "    if (id !== undefined) {\n",
       "      Bokeh.index[id].model.document.clear();\n",
       "      delete Bokeh.index[id];\n",
       "    }\n",
       "\n",
       "    if (server_id !== undefined) {\n",
       "      // Clean up Bokeh references\n",
       "      var cmd = \"from bokeh.io.state import curstate; print(curstate().uuid_to_server['\" + server_id + \"'].get_sessions()[0].document.roots[0]._id)\";\n",
       "      cell.notebook.kernel.execute(cmd, {\n",
       "        iopub: {\n",
       "          output: function(msg) {\n",
       "            var element_id = msg.content.text.trim();\n",
       "            Bokeh.index[element_id].model.document.clear();\n",
       "            delete Bokeh.index[element_id];\n",
       "          }\n",
       "        }\n",
       "      });\n",
       "      // Destroy server and session\n",
       "      var cmd = \"import bokeh.io.notebook as ion; ion.destroy_server('\" + server_id + \"')\";\n",
       "      cell.notebook.kernel.execute(cmd);\n",
       "    }\n",
       "  }\n",
       "\n",
       "  /**\n",
       "   * Handle when a new output is added\n",
       "   */\n",
       "  function handleAddOutput(event, handle) {\n",
       "    var output_area = handle.output_area;\n",
       "    var output = handle.output;\n",
       "\n",
       "    // limit handleAddOutput to display_data with EXEC_MIME_TYPE content only\n",
       "    if ((output.output_type != \"display_data\") || (!output.data.hasOwnProperty(EXEC_MIME_TYPE))) {\n",
       "      return\n",
       "    }\n",
       "\n",
       "    var toinsert = output_area.element.find(`.${CLASS_NAME.split(' ')[0]}`);\n",
       "\n",
       "    if (output.metadata[EXEC_MIME_TYPE][\"id\"] !== undefined) {\n",
       "      toinsert[0].firstChild.textContent = output.data[JS_MIME_TYPE];\n",
       "      // store reference to embed id on output_area\n",
       "      output_area._bokeh_element_id = output.metadata[EXEC_MIME_TYPE][\"id\"];\n",
       "    }\n",
       "    if (output.metadata[EXEC_MIME_TYPE][\"server_id\"] !== undefined) {\n",
       "      var bk_div = document.createElement(\"div\");\n",
       "      bk_div.innerHTML = output.data[HTML_MIME_TYPE];\n",
       "      var script_attrs = bk_div.children[0].attributes;\n",
       "      for (var i = 0; i < script_attrs.length; i++) {\n",
       "        toinsert[0].firstChild.setAttribute(script_attrs[i].name, script_attrs[i].value);\n",
       "      }\n",
       "      // store reference to server id on output_area\n",
       "      output_area._bokeh_server_id = output.metadata[EXEC_MIME_TYPE][\"server_id\"];\n",
       "    }\n",
       "  }\n",
       "\n",
       "  function register_renderer(events, OutputArea) {\n",
       "\n",
       "    function append_mime(data, metadata, element) {\n",
       "      // create a DOM node to render to\n",
       "      var toinsert = this.create_output_subarea(\n",
       "        metadata,\n",
       "        CLASS_NAME,\n",
       "        EXEC_MIME_TYPE\n",
       "      );\n",
       "      this.keyboard_manager.register_events(toinsert);\n",
       "      // Render to node\n",
       "      var props = {data: data, metadata: metadata[EXEC_MIME_TYPE]};\n",
       "      render(props, toinsert[0]);\n",
       "      element.append(toinsert);\n",
       "      return toinsert\n",
       "    }\n",
       "\n",
       "    /* Handle when an output is cleared or removed */\n",
       "    events.on('clear_output.CodeCell', handleClearOutput);\n",
       "    events.on('delete.Cell', handleClearOutput);\n",
       "\n",
       "    /* Handle when a new output is added */\n",
       "    events.on('output_added.OutputArea', handleAddOutput);\n",
       "\n",
       "    /**\n",
       "     * Register the mime type and append_mime function with output_area\n",
       "     */\n",
       "    OutputArea.prototype.register_mime_type(EXEC_MIME_TYPE, append_mime, {\n",
       "      /* Is output safe? */\n",
       "      safe: true,\n",
       "      /* Index of renderer in `output_area.display_order` */\n",
       "      index: 0\n",
       "    });\n",
       "  }\n",
       "\n",
       "  // register the mime type if in Jupyter Notebook environment and previously unregistered\n",
       "  if (root.Jupyter !== undefined) {\n",
       "    var events = require('base/js/events');\n",
       "    var OutputArea = require('notebook/js/outputarea').OutputArea;\n",
       "\n",
       "    if (OutputArea.prototype.mime_types().indexOf(EXEC_MIME_TYPE) == -1) {\n",
       "      register_renderer(events, OutputArea);\n",
       "    }\n",
       "  }\n",
       "\n",
       "  \n",
       "  if (typeof (root._bokeh_timeout) === \"undefined\" || force === true) {\n",
       "    root._bokeh_timeout = Date.now() + 5000;\n",
       "    root._bokeh_failed_load = false;\n",
       "  }\n",
       "\n",
       "  var NB_LOAD_WARNING = {'data': {'text/html':\n",
       "     \"<div style='background-color: #fdd'>\\n\"+\n",
       "     \"<p>\\n\"+\n",
       "     \"BokehJS does not appear to have successfully loaded. If loading BokehJS from CDN, this \\n\"+\n",
       "     \"may be due to a slow or bad network connection. Possible fixes:\\n\"+\n",
       "     \"</p>\\n\"+\n",
       "     \"<ul>\\n\"+\n",
       "     \"<li>re-rerun `output_notebook()` to attempt to load from CDN again, or</li>\\n\"+\n",
       "     \"<li>use INLINE resources instead, as so:</li>\\n\"+\n",
       "     \"</ul>\\n\"+\n",
       "     \"<code>\\n\"+\n",
       "     \"from bokeh.resources import INLINE\\n\"+\n",
       "     \"output_notebook(resources=INLINE)\\n\"+\n",
       "     \"</code>\\n\"+\n",
       "     \"</div>\"}};\n",
       "\n",
       "  function display_loaded() {\n",
       "    var el = document.getElementById(\"1eaf69d6-24fe-4ad8-a2ec-f793d4e15b5f\");\n",
       "    if (el != null) {\n",
       "      el.textContent = \"BokehJS is loading...\";\n",
       "    }\n",
       "    if (root.Bokeh !== undefined) {\n",
       "      if (el != null) {\n",
       "        el.textContent = \"BokehJS \" + root.Bokeh.version + \" successfully loaded.\";\n",
       "      }\n",
       "    } else if (Date.now() < root._bokeh_timeout) {\n",
       "      setTimeout(display_loaded, 100)\n",
       "    }\n",
       "  }\n",
       "\n",
       "\n",
       "  function run_callbacks() {\n",
       "    try {\n",
       "      root._bokeh_onload_callbacks.forEach(function(callback) { callback() });\n",
       "    }\n",
       "    finally {\n",
       "      delete root._bokeh_onload_callbacks\n",
       "    }\n",
       "    console.info(\"Bokeh: all callbacks have finished\");\n",
       "  }\n",
       "\n",
       "  function load_libs(js_urls, callback) {\n",
       "    root._bokeh_onload_callbacks.push(callback);\n",
       "    if (root._bokeh_is_loading > 0) {\n",
       "      console.log(\"Bokeh: BokehJS is being loaded, scheduling callback at\", now());\n",
       "      return null;\n",
       "    }\n",
       "    if (js_urls == null || js_urls.length === 0) {\n",
       "      run_callbacks();\n",
       "      return null;\n",
       "    }\n",
       "    console.log(\"Bokeh: BokehJS not loaded, scheduling load and callback at\", now());\n",
       "    root._bokeh_is_loading = js_urls.length;\n",
       "    for (var i = 0; i < js_urls.length; i++) {\n",
       "      var url = js_urls[i];\n",
       "      var s = document.createElement('script');\n",
       "      s.src = url;\n",
       "      s.async = false;\n",
       "      s.onreadystatechange = s.onload = function() {\n",
       "        root._bokeh_is_loading--;\n",
       "        if (root._bokeh_is_loading === 0) {\n",
       "          console.log(\"Bokeh: all BokehJS libraries loaded\");\n",
       "          run_callbacks()\n",
       "        }\n",
       "      };\n",
       "      s.onerror = function() {\n",
       "        console.warn(\"failed to load library \" + url);\n",
       "      };\n",
       "      console.log(\"Bokeh: injecting script tag for BokehJS library: \", url);\n",
       "      document.getElementsByTagName(\"head\")[0].appendChild(s);\n",
       "    }\n",
       "  };var element = document.getElementById(\"1eaf69d6-24fe-4ad8-a2ec-f793d4e15b5f\");\n",
       "  if (element == null) {\n",
       "    console.log(\"Bokeh: ERROR: autoload.js configured with elementid '1eaf69d6-24fe-4ad8-a2ec-f793d4e15b5f' but no matching script tag was found. \")\n",
       "    return false;\n",
       "  }\n",
       "\n",
       "  var js_urls = [\"https://cdn.pydata.org/bokeh/release/bokeh-0.12.10.min.js\", \"https://cdn.pydata.org/bokeh/release/bokeh-widgets-0.12.10.min.js\", \"https://cdn.pydata.org/bokeh/release/bokeh-tables-0.12.10.min.js\", \"https://cdn.pydata.org/bokeh/release/bokeh-gl-0.12.10.min.js\"];\n",
       "\n",
       "  var inline_js = [\n",
       "    function(Bokeh) {\n",
       "      Bokeh.set_log_level(\"info\");\n",
       "    },\n",
       "    \n",
       "    function(Bokeh) {\n",
       "      \n",
       "    },\n",
       "    function(Bokeh) {\n",
       "      console.log(\"Bokeh: injecting CSS: https://cdn.pydata.org/bokeh/release/bokeh-0.12.10.min.css\");\n",
       "      Bokeh.embed.inject_css(\"https://cdn.pydata.org/bokeh/release/bokeh-0.12.10.min.css\");\n",
       "      console.log(\"Bokeh: injecting CSS: https://cdn.pydata.org/bokeh/release/bokeh-widgets-0.12.10.min.css\");\n",
       "      Bokeh.embed.inject_css(\"https://cdn.pydata.org/bokeh/release/bokeh-widgets-0.12.10.min.css\");\n",
       "      console.log(\"Bokeh: injecting CSS: https://cdn.pydata.org/bokeh/release/bokeh-tables-0.12.10.min.css\");\n",
       "      Bokeh.embed.inject_css(\"https://cdn.pydata.org/bokeh/release/bokeh-tables-0.12.10.min.css\");\n",
       "    }\n",
       "  ];\n",
       "\n",
       "  function run_inline_js() {\n",
       "    \n",
       "    if ((root.Bokeh !== undefined) || (force === true)) {\n",
       "      for (var i = 0; i < inline_js.length; i++) {\n",
       "        inline_js[i].call(root, root.Bokeh);\n",
       "      }if (force === true) {\n",
       "        display_loaded();\n",
       "      }} else if (Date.now() < root._bokeh_timeout) {\n",
       "      setTimeout(run_inline_js, 100);\n",
       "    } else if (!root._bokeh_failed_load) {\n",
       "      console.log(\"Bokeh: BokehJS failed to load within specified timeout.\");\n",
       "      root._bokeh_failed_load = true;\n",
       "    } else if (force !== true) {\n",
       "      var cell = $(document.getElementById(\"1eaf69d6-24fe-4ad8-a2ec-f793d4e15b5f\")).parents('.cell').data().cell;\n",
       "      cell.output_area.append_execute_result(NB_LOAD_WARNING)\n",
       "    }\n",
       "\n",
       "  }\n",
       "\n",
       "  if (root._bokeh_is_loading === 0) {\n",
       "    console.log(\"Bokeh: BokehJS loaded, going straight to plotting\");\n",
       "    run_inline_js();\n",
       "  } else {\n",
       "    load_libs(js_urls, function() {\n",
       "      console.log(\"Bokeh: BokehJS plotting callback run at\", now());\n",
       "      run_inline_js();\n",
       "    });\n",
       "  }\n",
       "}(window));"
      ],
      "application/vnd.bokehjs_load.v0+json": "\n(function(root) {\n  function now() {\n    return new Date();\n  }\n\n  var force = true;\n\n  if (typeof (root._bokeh_onload_callbacks) === \"undefined\" || force === true) {\n    root._bokeh_onload_callbacks = [];\n    root._bokeh_is_loading = undefined;\n  }\n\n  \n\n  \n  if (typeof (root._bokeh_timeout) === \"undefined\" || force === true) {\n    root._bokeh_timeout = Date.now() + 5000;\n    root._bokeh_failed_load = false;\n  }\n\n  var NB_LOAD_WARNING = {'data': {'text/html':\n     \"<div style='background-color: #fdd'>\\n\"+\n     \"<p>\\n\"+\n     \"BokehJS does not appear to have successfully loaded. If loading BokehJS from CDN, this \\n\"+\n     \"may be due to a slow or bad network connection. Possible fixes:\\n\"+\n     \"</p>\\n\"+\n     \"<ul>\\n\"+\n     \"<li>re-rerun `output_notebook()` to attempt to load from CDN again, or</li>\\n\"+\n     \"<li>use INLINE resources instead, as so:</li>\\n\"+\n     \"</ul>\\n\"+\n     \"<code>\\n\"+\n     \"from bokeh.resources import INLINE\\n\"+\n     \"output_notebook(resources=INLINE)\\n\"+\n     \"</code>\\n\"+\n     \"</div>\"}};\n\n  function display_loaded() {\n    var el = document.getElementById(\"1eaf69d6-24fe-4ad8-a2ec-f793d4e15b5f\");\n    if (el != null) {\n      el.textContent = \"BokehJS is loading...\";\n    }\n    if (root.Bokeh !== undefined) {\n      if (el != null) {\n        el.textContent = \"BokehJS \" + root.Bokeh.version + \" successfully loaded.\";\n      }\n    } else if (Date.now() < root._bokeh_timeout) {\n      setTimeout(display_loaded, 100)\n    }\n  }\n\n\n  function run_callbacks() {\n    try {\n      root._bokeh_onload_callbacks.forEach(function(callback) { callback() });\n    }\n    finally {\n      delete root._bokeh_onload_callbacks\n    }\n    console.info(\"Bokeh: all callbacks have finished\");\n  }\n\n  function load_libs(js_urls, callback) {\n    root._bokeh_onload_callbacks.push(callback);\n    if (root._bokeh_is_loading > 0) {\n      console.log(\"Bokeh: BokehJS is being loaded, scheduling callback at\", now());\n      return null;\n    }\n    if (js_urls == null || js_urls.length === 0) {\n      run_callbacks();\n      return null;\n    }\n    console.log(\"Bokeh: BokehJS not loaded, scheduling load and callback at\", now());\n    root._bokeh_is_loading = js_urls.length;\n    for (var i = 0; i < js_urls.length; i++) {\n      var url = js_urls[i];\n      var s = document.createElement('script');\n      s.src = url;\n      s.async = false;\n      s.onreadystatechange = s.onload = function() {\n        root._bokeh_is_loading--;\n        if (root._bokeh_is_loading === 0) {\n          console.log(\"Bokeh: all BokehJS libraries loaded\");\n          run_callbacks()\n        }\n      };\n      s.onerror = function() {\n        console.warn(\"failed to load library \" + url);\n      };\n      console.log(\"Bokeh: injecting script tag for BokehJS library: \", url);\n      document.getElementsByTagName(\"head\")[0].appendChild(s);\n    }\n  };var element = document.getElementById(\"1eaf69d6-24fe-4ad8-a2ec-f793d4e15b5f\");\n  if (element == null) {\n    console.log(\"Bokeh: ERROR: autoload.js configured with elementid '1eaf69d6-24fe-4ad8-a2ec-f793d4e15b5f' but no matching script tag was found. \")\n    return false;\n  }\n\n  var js_urls = [\"https://cdn.pydata.org/bokeh/release/bokeh-0.12.10.min.js\", \"https://cdn.pydata.org/bokeh/release/bokeh-widgets-0.12.10.min.js\", \"https://cdn.pydata.org/bokeh/release/bokeh-tables-0.12.10.min.js\", \"https://cdn.pydata.org/bokeh/release/bokeh-gl-0.12.10.min.js\"];\n\n  var inline_js = [\n    function(Bokeh) {\n      Bokeh.set_log_level(\"info\");\n    },\n    \n    function(Bokeh) {\n      \n    },\n    function(Bokeh) {\n      console.log(\"Bokeh: injecting CSS: https://cdn.pydata.org/bokeh/release/bokeh-0.12.10.min.css\");\n      Bokeh.embed.inject_css(\"https://cdn.pydata.org/bokeh/release/bokeh-0.12.10.min.css\");\n      console.log(\"Bokeh: injecting CSS: https://cdn.pydata.org/bokeh/release/bokeh-widgets-0.12.10.min.css\");\n      Bokeh.embed.inject_css(\"https://cdn.pydata.org/bokeh/release/bokeh-widgets-0.12.10.min.css\");\n      console.log(\"Bokeh: injecting CSS: https://cdn.pydata.org/bokeh/release/bokeh-tables-0.12.10.min.css\");\n      Bokeh.embed.inject_css(\"https://cdn.pydata.org/bokeh/release/bokeh-tables-0.12.10.min.css\");\n    }\n  ];\n\n  function run_inline_js() {\n    \n    if ((root.Bokeh !== undefined) || (force === true)) {\n      for (var i = 0; i < inline_js.length; i++) {\n        inline_js[i].call(root, root.Bokeh);\n      }if (force === true) {\n        display_loaded();\n      }} else if (Date.now() < root._bokeh_timeout) {\n      setTimeout(run_inline_js, 100);\n    } else if (!root._bokeh_failed_load) {\n      console.log(\"Bokeh: BokehJS failed to load within specified timeout.\");\n      root._bokeh_failed_load = true;\n    } else if (force !== true) {\n      var cell = $(document.getElementById(\"1eaf69d6-24fe-4ad8-a2ec-f793d4e15b5f\")).parents('.cell').data().cell;\n      cell.output_area.append_execute_result(NB_LOAD_WARNING)\n    }\n\n  }\n\n  if (root._bokeh_is_loading === 0) {\n    console.log(\"Bokeh: BokehJS loaded, going straight to plotting\");\n    run_inline_js();\n  } else {\n    load_libs(js_urls, function() {\n      console.log(\"Bokeh: BokehJS plotting callback run at\", now());\n      run_inline_js();\n    });\n  }\n}(window));"
     },
     "metadata": {},
     "output_type": "display_data"
    },
    {
     "ename": "KeyboardInterrupt",
     "evalue": "",
     "output_type": "error",
     "traceback": [
      "\u001b[0;31m---------------------------------------------------------------------------\u001b[0m",
      "\u001b[0;31mKeyboardInterrupt\u001b[0m                         Traceback (most recent call last)",
      "\u001b[0;32m<ipython-input-73-e6e109535a2b>\u001b[0m in \u001b[0;36m<module>\u001b[0;34m()\u001b[0m\n\u001b[1;32m     50\u001b[0m \u001b[0;34m\u001b[0m\u001b[0m\n\u001b[1;32m     51\u001b[0m    \u001b[0;32mif\u001b[0m \u001b[0mkmean\u001b[0m\u001b[0;34m.\u001b[0m\u001b[0mlabels_\u001b[0m\u001b[0;34m[\u001b[0m\u001b[0mi\u001b[0m\u001b[0;34m]\u001b[0m \u001b[0;34m==\u001b[0m \u001b[0;36m0\u001b[0m\u001b[0;34m:\u001b[0m\u001b[0;34m\u001b[0m\u001b[0m\n\u001b[0;32m---> 52\u001b[0;31m         \u001b[0mplot\u001b[0m\u001b[0;34m.\u001b[0m\u001b[0mcircle\u001b[0m\u001b[0;34m(\u001b[0m\u001b[0mx\u001b[0m\u001b[0;34m=\u001b[0m\u001b[0msample\u001b[0m\u001b[0;34m[\u001b[0m\u001b[0;36m0\u001b[0m\u001b[0;34m]\u001b[0m\u001b[0;34m,\u001b[0m \u001b[0my\u001b[0m\u001b[0;34m=\u001b[0m\u001b[0msample\u001b[0m\u001b[0;34m[\u001b[0m\u001b[0;36m1\u001b[0m\u001b[0;34m]\u001b[0m\u001b[0;34m,\u001b[0m \u001b[0msize\u001b[0m\u001b[0;34m=\u001b[0m\u001b[0;36m15\u001b[0m\u001b[0;34m,\u001b[0m \u001b[0mcolor\u001b[0m\u001b[0;34m=\u001b[0m\u001b[0;34m\"red\"\u001b[0m\u001b[0;34m)\u001b[0m\u001b[0;34m\u001b[0m\u001b[0m\n\u001b[0m\u001b[1;32m     53\u001b[0m \u001b[0;34m\u001b[0m\u001b[0m\n\u001b[1;32m     54\u001b[0m    \u001b[0;32mif\u001b[0m \u001b[0mkmean\u001b[0m\u001b[0;34m.\u001b[0m\u001b[0mlabels_\u001b[0m\u001b[0;34m[\u001b[0m\u001b[0mi\u001b[0m\u001b[0;34m]\u001b[0m \u001b[0;34m==\u001b[0m \u001b[0;36m1\u001b[0m\u001b[0;34m:\u001b[0m\u001b[0;34m\u001b[0m\u001b[0m\n",
      "\u001b[0;32mfakesource\u001b[0m in \u001b[0;36mcircle\u001b[0;34m(self, x, y, **kwargs)\u001b[0m\n",
      "\u001b[0;32m/opt/conda/lib/python3.6/site-packages/bokeh/plotting/helpers.py\u001b[0m in \u001b[0;36mfunc\u001b[0;34m(self, **kwargs)\u001b[0m\n\u001b[1;32m    758\u001b[0m             \u001b[0m_update_legend\u001b[0m\u001b[0;34m(\u001b[0m\u001b[0mself\u001b[0m\u001b[0;34m,\u001b[0m \u001b[0mlegend_item_label\u001b[0m\u001b[0;34m,\u001b[0m \u001b[0mglyph_renderer\u001b[0m\u001b[0;34m)\u001b[0m\u001b[0;34m\u001b[0m\u001b[0m\n\u001b[1;32m    759\u001b[0m \u001b[0;34m\u001b[0m\u001b[0m\n\u001b[0;32m--> 760\u001b[0;31m         \u001b[0;32mfor\u001b[0m \u001b[0mtool\u001b[0m \u001b[0;32min\u001b[0m \u001b[0mself\u001b[0m\u001b[0;34m.\u001b[0m\u001b[0mselect\u001b[0m\u001b[0;34m(\u001b[0m\u001b[0mtype\u001b[0m\u001b[0;34m=\u001b[0m\u001b[0mBoxSelectTool\u001b[0m\u001b[0;34m)\u001b[0m\u001b[0;34m:\u001b[0m\u001b[0;34m\u001b[0m\u001b[0m\n\u001b[0m\u001b[1;32m    761\u001b[0m             \u001b[0mtool\u001b[0m\u001b[0;34m.\u001b[0m\u001b[0mrenderers\u001b[0m\u001b[0;34m.\u001b[0m\u001b[0mappend\u001b[0m\u001b[0;34m(\u001b[0m\u001b[0mglyph_renderer\u001b[0m\u001b[0;34m)\u001b[0m\u001b[0;34m\u001b[0m\u001b[0m\n\u001b[1;32m    762\u001b[0m \u001b[0;34m\u001b[0m\u001b[0m\n",
      "\u001b[0;32m/opt/conda/lib/python3.6/site-packages/bokeh/models/plots.py\u001b[0m in \u001b[0;36mselect\u001b[0;34m(self, *args, **kwargs)\u001b[0m\n\u001b[1;32m     99\u001b[0m \u001b[0;34m\u001b[0m\u001b[0m\n\u001b[1;32m    100\u001b[0m         \u001b[0;31m# Want to pass selector that is a dictionary\u001b[0m\u001b[0;34m\u001b[0m\u001b[0;34m\u001b[0m\u001b[0m\n\u001b[0;32m--> 101\u001b[0;31m         \u001b[0;32mreturn\u001b[0m \u001b[0m_list_attr_splat\u001b[0m\u001b[0;34m(\u001b[0m\u001b[0mfind\u001b[0m\u001b[0;34m(\u001b[0m\u001b[0mself\u001b[0m\u001b[0;34m.\u001b[0m\u001b[0mreferences\u001b[0m\u001b[0;34m(\u001b[0m\u001b[0;34m)\u001b[0m\u001b[0;34m,\u001b[0m \u001b[0mselector\u001b[0m\u001b[0;34m,\u001b[0m \u001b[0;34m{\u001b[0m\u001b[0;34m'plot'\u001b[0m\u001b[0;34m:\u001b[0m \u001b[0mself\u001b[0m\u001b[0;34m}\u001b[0m\u001b[0;34m)\u001b[0m\u001b[0;34m)\u001b[0m\u001b[0;34m\u001b[0m\u001b[0m\n\u001b[0m\u001b[1;32m    102\u001b[0m \u001b[0;34m\u001b[0m\u001b[0m\n\u001b[1;32m    103\u001b[0m     \u001b[0;32mdef\u001b[0m \u001b[0mrow\u001b[0m\u001b[0;34m(\u001b[0m\u001b[0mself\u001b[0m\u001b[0;34m,\u001b[0m \u001b[0mrow\u001b[0m\u001b[0;34m,\u001b[0m \u001b[0mgridplot\u001b[0m\u001b[0;34m)\u001b[0m\u001b[0;34m:\u001b[0m\u001b[0;34m\u001b[0m\u001b[0m\n",
      "\u001b[0;32m/opt/conda/lib/python3.6/site-packages/bokeh/model.py\u001b[0m in \u001b[0;36mreferences\u001b[0;34m(self)\u001b[0m\n\u001b[1;32m    421\u001b[0m \u001b[0;34m\u001b[0m\u001b[0m\n\u001b[1;32m    422\u001b[0m         '''\n\u001b[0;32m--> 423\u001b[0;31m         \u001b[0;32mreturn\u001b[0m \u001b[0mset\u001b[0m\u001b[0;34m(\u001b[0m\u001b[0mcollect_models\u001b[0m\u001b[0;34m(\u001b[0m\u001b[0mself\u001b[0m\u001b[0;34m)\u001b[0m\u001b[0;34m)\u001b[0m\u001b[0;34m\u001b[0m\u001b[0m\n\u001b[0m\u001b[1;32m    424\u001b[0m \u001b[0;34m\u001b[0m\u001b[0m\n\u001b[1;32m    425\u001b[0m     \u001b[0;32mdef\u001b[0m \u001b[0mselect\u001b[0m\u001b[0;34m(\u001b[0m\u001b[0mself\u001b[0m\u001b[0;34m,\u001b[0m \u001b[0mselector\u001b[0m\u001b[0;34m)\u001b[0m\u001b[0;34m:\u001b[0m\u001b[0;34m\u001b[0m\u001b[0m\n",
      "\u001b[0;32m/opt/conda/lib/python3.6/site-packages/bokeh/model.py\u001b[0m in \u001b[0;36mcollect_models\u001b[0;34m(*input_values)\u001b[0m\n\u001b[1;32m     56\u001b[0m             \u001b[0mids\u001b[0m\u001b[0;34m.\u001b[0m\u001b[0madd\u001b[0m\u001b[0;34m(\u001b[0m\u001b[0mobj\u001b[0m\u001b[0;34m.\u001b[0m\u001b[0m_id\u001b[0m\u001b[0;34m)\u001b[0m\u001b[0;34m\u001b[0m\u001b[0m\n\u001b[1;32m     57\u001b[0m             \u001b[0mcollected\u001b[0m\u001b[0;34m.\u001b[0m\u001b[0mappend\u001b[0m\u001b[0;34m(\u001b[0m\u001b[0mobj\u001b[0m\u001b[0;34m)\u001b[0m\u001b[0;34m\u001b[0m\u001b[0m\n\u001b[0;32m---> 58\u001b[0;31m             \u001b[0m_visit_immediate_value_references\u001b[0m\u001b[0;34m(\u001b[0m\u001b[0mobj\u001b[0m\u001b[0;34m,\u001b[0m \u001b[0mqueue_one\u001b[0m\u001b[0;34m)\u001b[0m\u001b[0;34m\u001b[0m\u001b[0m\n\u001b[0m\u001b[1;32m     59\u001b[0m \u001b[0;34m\u001b[0m\u001b[0m\n\u001b[1;32m     60\u001b[0m     \u001b[0;32mreturn\u001b[0m \u001b[0mcollected\u001b[0m\u001b[0;34m\u001b[0m\u001b[0m\n",
      "\u001b[0;32m/opt/conda/lib/python3.6/site-packages/bokeh/model.py\u001b[0m in \u001b[0;36m_visit_immediate_value_references\u001b[0;34m(value, visitor)\u001b[0m\n\u001b[1;32m    685\u001b[0m     \u001b[0;32mif\u001b[0m \u001b[0misinstance\u001b[0m\u001b[0;34m(\u001b[0m\u001b[0mvalue\u001b[0m\u001b[0;34m,\u001b[0m \u001b[0mHasProps\u001b[0m\u001b[0;34m)\u001b[0m\u001b[0;34m:\u001b[0m\u001b[0;34m\u001b[0m\u001b[0m\n\u001b[1;32m    686\u001b[0m         \u001b[0;32mfor\u001b[0m \u001b[0mattr\u001b[0m \u001b[0;32min\u001b[0m \u001b[0mvalue\u001b[0m\u001b[0;34m.\u001b[0m\u001b[0mproperties_with_refs\u001b[0m\u001b[0;34m(\u001b[0m\u001b[0;34m)\u001b[0m\u001b[0;34m:\u001b[0m\u001b[0;34m\u001b[0m\u001b[0m\n\u001b[0;32m--> 687\u001b[0;31m             \u001b[0mchild\u001b[0m \u001b[0;34m=\u001b[0m \u001b[0mgetattr\u001b[0m\u001b[0;34m(\u001b[0m\u001b[0mvalue\u001b[0m\u001b[0;34m,\u001b[0m \u001b[0mattr\u001b[0m\u001b[0;34m)\u001b[0m\u001b[0;34m\u001b[0m\u001b[0m\n\u001b[0m\u001b[1;32m    688\u001b[0m             \u001b[0m_visit_value_and_its_immediate_references\u001b[0m\u001b[0;34m(\u001b[0m\u001b[0mchild\u001b[0m\u001b[0;34m,\u001b[0m \u001b[0mvisitor\u001b[0m\u001b[0;34m)\u001b[0m\u001b[0;34m\u001b[0m\u001b[0m\n\u001b[1;32m    689\u001b[0m     \u001b[0;32melse\u001b[0m\u001b[0;34m:\u001b[0m\u001b[0;34m\u001b[0m\u001b[0m\n",
      "\u001b[0;32m/opt/conda/lib/python3.6/site-packages/bokeh/core/property/descriptors.py\u001b[0m in \u001b[0;36m__get__\u001b[0;34m(self, obj, owner)\u001b[0m\n\u001b[1;32m    455\u001b[0m         '''\n\u001b[1;32m    456\u001b[0m         \u001b[0;32mif\u001b[0m \u001b[0mobj\u001b[0m \u001b[0;32mis\u001b[0m \u001b[0;32mnot\u001b[0m \u001b[0;32mNone\u001b[0m\u001b[0;34m:\u001b[0m\u001b[0;34m\u001b[0m\u001b[0m\n\u001b[0;32m--> 457\u001b[0;31m             \u001b[0;32mreturn\u001b[0m \u001b[0mself\u001b[0m\u001b[0;34m.\u001b[0m\u001b[0m_get\u001b[0m\u001b[0;34m(\u001b[0m\u001b[0mobj\u001b[0m\u001b[0;34m)\u001b[0m\u001b[0;34m\u001b[0m\u001b[0m\n\u001b[0m\u001b[1;32m    458\u001b[0m         \u001b[0;32melif\u001b[0m \u001b[0mowner\u001b[0m \u001b[0;32mis\u001b[0m \u001b[0;32mnot\u001b[0m \u001b[0;32mNone\u001b[0m\u001b[0;34m:\u001b[0m\u001b[0;34m\u001b[0m\u001b[0m\n\u001b[1;32m    459\u001b[0m             \u001b[0;32mreturn\u001b[0m \u001b[0mself\u001b[0m\u001b[0;34m\u001b[0m\u001b[0m\n",
      "\u001b[0;32m/opt/conda/lib/python3.6/site-packages/bokeh/core/property/descriptors.py\u001b[0m in \u001b[0;36m_get\u001b[0;34m(self, obj)\u001b[0m\n\u001b[1;32m    651\u001b[0m \u001b[0;34m\u001b[0m\u001b[0m\n\u001b[1;32m    652\u001b[0m         \u001b[0;32mif\u001b[0m \u001b[0mself\u001b[0m\u001b[0;34m.\u001b[0m\u001b[0mname\u001b[0m \u001b[0;32mnot\u001b[0m \u001b[0;32min\u001b[0m \u001b[0mobj\u001b[0m\u001b[0;34m.\u001b[0m\u001b[0m_property_values\u001b[0m\u001b[0;34m:\u001b[0m\u001b[0;34m\u001b[0m\u001b[0m\n\u001b[0;32m--> 653\u001b[0;31m             \u001b[0;32mreturn\u001b[0m \u001b[0mself\u001b[0m\u001b[0;34m.\u001b[0m\u001b[0m_get_default\u001b[0m\u001b[0;34m(\u001b[0m\u001b[0mobj\u001b[0m\u001b[0;34m)\u001b[0m\u001b[0;34m\u001b[0m\u001b[0m\n\u001b[0m\u001b[1;32m    654\u001b[0m         \u001b[0;32melse\u001b[0m\u001b[0;34m:\u001b[0m\u001b[0;34m\u001b[0m\u001b[0m\n\u001b[1;32m    655\u001b[0m             \u001b[0;32mreturn\u001b[0m \u001b[0mobj\u001b[0m\u001b[0;34m.\u001b[0m\u001b[0m_property_values\u001b[0m\u001b[0;34m[\u001b[0m\u001b[0mself\u001b[0m\u001b[0;34m.\u001b[0m\u001b[0mname\u001b[0m\u001b[0;34m]\u001b[0m\u001b[0;34m\u001b[0m\u001b[0m\n",
      "\u001b[0;32m/opt/conda/lib/python3.6/site-packages/bokeh/core/property/descriptors.py\u001b[0m in \u001b[0;36m_get_default\u001b[0;34m(self, obj)\u001b[0m\n\u001b[1;32m    668\u001b[0m         \u001b[0mis_themed\u001b[0m \u001b[0;34m=\u001b[0m \u001b[0mobj\u001b[0m\u001b[0;34m.\u001b[0m\u001b[0mthemed_values\u001b[0m\u001b[0;34m(\u001b[0m\u001b[0;34m)\u001b[0m \u001b[0;32mis\u001b[0m \u001b[0;32mnot\u001b[0m \u001b[0;32mNone\u001b[0m \u001b[0;32mand\u001b[0m \u001b[0mself\u001b[0m\u001b[0;34m.\u001b[0m\u001b[0mname\u001b[0m \u001b[0;32min\u001b[0m \u001b[0mobj\u001b[0m\u001b[0;34m.\u001b[0m\u001b[0mthemed_values\u001b[0m\u001b[0;34m(\u001b[0m\u001b[0;34m)\u001b[0m\u001b[0;34m\u001b[0m\u001b[0m\n\u001b[1;32m    669\u001b[0m \u001b[0;34m\u001b[0m\u001b[0m\n\u001b[0;32m--> 670\u001b[0;31m         \u001b[0mdefault\u001b[0m \u001b[0;34m=\u001b[0m \u001b[0mself\u001b[0m\u001b[0;34m.\u001b[0m\u001b[0minstance_default\u001b[0m\u001b[0;34m(\u001b[0m\u001b[0mobj\u001b[0m\u001b[0;34m)\u001b[0m\u001b[0;34m\u001b[0m\u001b[0m\n\u001b[0m\u001b[1;32m    671\u001b[0m \u001b[0;34m\u001b[0m\u001b[0m\n\u001b[1;32m    672\u001b[0m         \u001b[0;32mif\u001b[0m \u001b[0mis_themed\u001b[0m\u001b[0;34m:\u001b[0m\u001b[0;34m\u001b[0m\u001b[0m\n",
      "\u001b[0;32m/opt/conda/lib/python3.6/site-packages/bokeh/core/property/descriptors.py\u001b[0m in \u001b[0;36minstance_default\u001b[0;34m(self, obj)\u001b[0m\n\u001b[1;32m    543\u001b[0m \u001b[0;34m\u001b[0m\u001b[0m\n\u001b[1;32m    544\u001b[0m         '''\n\u001b[0;32m--> 545\u001b[0;31m         \u001b[0;32mreturn\u001b[0m \u001b[0mself\u001b[0m\u001b[0;34m.\u001b[0m\u001b[0mproperty\u001b[0m\u001b[0;34m.\u001b[0m\u001b[0mthemed_default\u001b[0m\u001b[0;34m(\u001b[0m\u001b[0mobj\u001b[0m\u001b[0;34m.\u001b[0m\u001b[0m__class__\u001b[0m\u001b[0;34m,\u001b[0m \u001b[0mself\u001b[0m\u001b[0;34m.\u001b[0m\u001b[0mname\u001b[0m\u001b[0;34m,\u001b[0m \u001b[0mobj\u001b[0m\u001b[0;34m.\u001b[0m\u001b[0mthemed_values\u001b[0m\u001b[0;34m(\u001b[0m\u001b[0;34m)\u001b[0m\u001b[0;34m)\u001b[0m\u001b[0;34m\u001b[0m\u001b[0m\n\u001b[0m\u001b[1;32m    546\u001b[0m \u001b[0;34m\u001b[0m\u001b[0m\n\u001b[1;32m    547\u001b[0m     \u001b[0;32mdef\u001b[0m \u001b[0mset_from_json\u001b[0m\u001b[0;34m(\u001b[0m\u001b[0mself\u001b[0m\u001b[0;34m,\u001b[0m \u001b[0mobj\u001b[0m\u001b[0;34m,\u001b[0m \u001b[0mjson\u001b[0m\u001b[0;34m,\u001b[0m \u001b[0mmodels\u001b[0m\u001b[0;34m=\u001b[0m\u001b[0;32mNone\u001b[0m\u001b[0;34m,\u001b[0m \u001b[0msetter\u001b[0m\u001b[0;34m=\u001b[0m\u001b[0;32mNone\u001b[0m\u001b[0;34m)\u001b[0m\u001b[0;34m:\u001b[0m\u001b[0;34m\u001b[0m\u001b[0m\n",
      "\u001b[0;31mKeyboardInterrupt\u001b[0m: "
     ]
    }
   ],
   "source": [
    "from sklearn.cluster import KMeans\n",
    "\n",
    "import numpy as np\n",
    "\n",
    "import bokeh.plotting\n",
    "\n",
    "from bokeh.plotting import figure\n",
    "\n",
    "from sklearn import datasets\n",
    "\n",
    "bokeh.plotting.output_notebook()  \n",
    "\n",
    "iris = datasets.load_iris()\n",
    "\n",
    "petal_data = tdm \n",
    "\n",
    "kmean = KMeans() #n_clusters asks for only 3 groupings\n",
    "\n",
    "kmean.fit(petal_data) \n",
    "\n",
    "plot = figure(width=500, height=500, title='Ru', x_axis_label = \"X\", y_axis_label = \"Y\")\n",
    "\n",
    "#plot centroid / cluster center / group mean for each group\n",
    "\n",
    "clus_xs = []\n",
    "\n",
    "clus_ys = []\n",
    "\n",
    "#we get the  cluster x / y values from the k-means algorithm\n",
    "\n",
    "for entry in kmean.cluster_centers_:\n",
    "\n",
    "   clus_xs.append(entry[0])\n",
    "\n",
    "   clus_ys.append(entry[1])\n",
    "\n",
    "#the cluster center is marked by a circle, with a cross in it\n",
    "\n",
    "plot.circle_cross(x=clus_xs, y=clus_ys, size=40, fill_alpha=0, line_width=2, )\n",
    "\n",
    "plot.text(x=clus_xs, y=clus_ys, text_font_size='30pt')\n",
    "\n",
    "i = 0 #counter\n",
    "\n",
    " \n",
    "\n",
    "for sample in petal_data:\n",
    "\n",
    " \n",
    "   if kmean.labels_[i] == 0:\n",
    "        plot.circle(x=sample[0], y=sample[1], size=15, color=\"red\")\n",
    "\n",
    "   if kmean.labels_[i] == 1:\n",
    "    plot.circle(x=sample[0], y=sample[1], size=15, color=\"blue\")\n",
    "\n",
    "   if kmean.labels_[i] == 2:\n",
    "    plot.circle(x=sample[0], y=sample[1], size=15, color=\"purple\")\n",
    "\n",
    "   i += 1\n",
    "\n",
    "bokeh.plotting.show(plot)\n"
   ]
  },
  {
   "cell_type": "code",
   "execution_count": 86,
   "metadata": {},
   "outputs": [
    {
     "data": {
      "text/html": [
       "\n",
       "    <div class=\"bk-root\">\n",
       "        <a href=\"https://bokeh.pydata.org\" target=\"_blank\" class=\"bk-logo bk-logo-small bk-logo-notebook\"></a>\n",
       "        <span id=\"a8aa197d-d863-4ac5-9b4a-964baa526bd2\">Loading BokehJS ...</span>\n",
       "    </div>"
      ]
     },
     "metadata": {},
     "output_type": "display_data"
    },
    {
     "data": {
      "application/javascript": [
       "\n",
       "(function(root) {\n",
       "  function now() {\n",
       "    return new Date();\n",
       "  }\n",
       "\n",
       "  var force = true;\n",
       "\n",
       "  if (typeof (root._bokeh_onload_callbacks) === \"undefined\" || force === true) {\n",
       "    root._bokeh_onload_callbacks = [];\n",
       "    root._bokeh_is_loading = undefined;\n",
       "  }\n",
       "\n",
       "  var JS_MIME_TYPE = 'application/javascript';\n",
       "  var HTML_MIME_TYPE = 'text/html';\n",
       "  var EXEC_MIME_TYPE = 'application/vnd.bokehjs_exec.v0+json';\n",
       "  var CLASS_NAME = 'output_bokeh rendered_html';\n",
       "\n",
       "  /**\n",
       "   * Render data to the DOM node\n",
       "   */\n",
       "  function render(props, node) {\n",
       "    var script = document.createElement(\"script\");\n",
       "    node.appendChild(script);\n",
       "  }\n",
       "\n",
       "  /**\n",
       "   * Handle when an output is cleared or removed\n",
       "   */\n",
       "  function handleClearOutput(event, handle) {\n",
       "    var cell = handle.cell;\n",
       "\n",
       "    var id = cell.output_area._bokeh_element_id;\n",
       "    var server_id = cell.output_area._bokeh_server_id;\n",
       "    // Clean up Bokeh references\n",
       "    if (id !== undefined) {\n",
       "      Bokeh.index[id].model.document.clear();\n",
       "      delete Bokeh.index[id];\n",
       "    }\n",
       "\n",
       "    if (server_id !== undefined) {\n",
       "      // Clean up Bokeh references\n",
       "      var cmd = \"from bokeh.io.state import curstate; print(curstate().uuid_to_server['\" + server_id + \"'].get_sessions()[0].document.roots[0]._id)\";\n",
       "      cell.notebook.kernel.execute(cmd, {\n",
       "        iopub: {\n",
       "          output: function(msg) {\n",
       "            var element_id = msg.content.text.trim();\n",
       "            Bokeh.index[element_id].model.document.clear();\n",
       "            delete Bokeh.index[element_id];\n",
       "          }\n",
       "        }\n",
       "      });\n",
       "      // Destroy server and session\n",
       "      var cmd = \"import bokeh.io.notebook as ion; ion.destroy_server('\" + server_id + \"')\";\n",
       "      cell.notebook.kernel.execute(cmd);\n",
       "    }\n",
       "  }\n",
       "\n",
       "  /**\n",
       "   * Handle when a new output is added\n",
       "   */\n",
       "  function handleAddOutput(event, handle) {\n",
       "    var output_area = handle.output_area;\n",
       "    var output = handle.output;\n",
       "\n",
       "    // limit handleAddOutput to display_data with EXEC_MIME_TYPE content only\n",
       "    if ((output.output_type != \"display_data\") || (!output.data.hasOwnProperty(EXEC_MIME_TYPE))) {\n",
       "      return\n",
       "    }\n",
       "\n",
       "    var toinsert = output_area.element.find(`.${CLASS_NAME.split(' ')[0]}`);\n",
       "\n",
       "    if (output.metadata[EXEC_MIME_TYPE][\"id\"] !== undefined) {\n",
       "      toinsert[0].firstChild.textContent = output.data[JS_MIME_TYPE];\n",
       "      // store reference to embed id on output_area\n",
       "      output_area._bokeh_element_id = output.metadata[EXEC_MIME_TYPE][\"id\"];\n",
       "    }\n",
       "    if (output.metadata[EXEC_MIME_TYPE][\"server_id\"] !== undefined) {\n",
       "      var bk_div = document.createElement(\"div\");\n",
       "      bk_div.innerHTML = output.data[HTML_MIME_TYPE];\n",
       "      var script_attrs = bk_div.children[0].attributes;\n",
       "      for (var i = 0; i < script_attrs.length; i++) {\n",
       "        toinsert[0].firstChild.setAttribute(script_attrs[i].name, script_attrs[i].value);\n",
       "      }\n",
       "      // store reference to server id on output_area\n",
       "      output_area._bokeh_server_id = output.metadata[EXEC_MIME_TYPE][\"server_id\"];\n",
       "    }\n",
       "  }\n",
       "\n",
       "  function register_renderer(events, OutputArea) {\n",
       "\n",
       "    function append_mime(data, metadata, element) {\n",
       "      // create a DOM node to render to\n",
       "      var toinsert = this.create_output_subarea(\n",
       "        metadata,\n",
       "        CLASS_NAME,\n",
       "        EXEC_MIME_TYPE\n",
       "      );\n",
       "      this.keyboard_manager.register_events(toinsert);\n",
       "      // Render to node\n",
       "      var props = {data: data, metadata: metadata[EXEC_MIME_TYPE]};\n",
       "      render(props, toinsert[0]);\n",
       "      element.append(toinsert);\n",
       "      return toinsert\n",
       "    }\n",
       "\n",
       "    /* Handle when an output is cleared or removed */\n",
       "    events.on('clear_output.CodeCell', handleClearOutput);\n",
       "    events.on('delete.Cell', handleClearOutput);\n",
       "\n",
       "    /* Handle when a new output is added */\n",
       "    events.on('output_added.OutputArea', handleAddOutput);\n",
       "\n",
       "    /**\n",
       "     * Register the mime type and append_mime function with output_area\n",
       "     */\n",
       "    OutputArea.prototype.register_mime_type(EXEC_MIME_TYPE, append_mime, {\n",
       "      /* Is output safe? */\n",
       "      safe: true,\n",
       "      /* Index of renderer in `output_area.display_order` */\n",
       "      index: 0\n",
       "    });\n",
       "  }\n",
       "\n",
       "  // register the mime type if in Jupyter Notebook environment and previously unregistered\n",
       "  if (root.Jupyter !== undefined) {\n",
       "    var events = require('base/js/events');\n",
       "    var OutputArea = require('notebook/js/outputarea').OutputArea;\n",
       "\n",
       "    if (OutputArea.prototype.mime_types().indexOf(EXEC_MIME_TYPE) == -1) {\n",
       "      register_renderer(events, OutputArea);\n",
       "    }\n",
       "  }\n",
       "\n",
       "  \n",
       "  if (typeof (root._bokeh_timeout) === \"undefined\" || force === true) {\n",
       "    root._bokeh_timeout = Date.now() + 5000;\n",
       "    root._bokeh_failed_load = false;\n",
       "  }\n",
       "\n",
       "  var NB_LOAD_WARNING = {'data': {'text/html':\n",
       "     \"<div style='background-color: #fdd'>\\n\"+\n",
       "     \"<p>\\n\"+\n",
       "     \"BokehJS does not appear to have successfully loaded. If loading BokehJS from CDN, this \\n\"+\n",
       "     \"may be due to a slow or bad network connection. Possible fixes:\\n\"+\n",
       "     \"</p>\\n\"+\n",
       "     \"<ul>\\n\"+\n",
       "     \"<li>re-rerun `output_notebook()` to attempt to load from CDN again, or</li>\\n\"+\n",
       "     \"<li>use INLINE resources instead, as so:</li>\\n\"+\n",
       "     \"</ul>\\n\"+\n",
       "     \"<code>\\n\"+\n",
       "     \"from bokeh.resources import INLINE\\n\"+\n",
       "     \"output_notebook(resources=INLINE)\\n\"+\n",
       "     \"</code>\\n\"+\n",
       "     \"</div>\"}};\n",
       "\n",
       "  function display_loaded() {\n",
       "    var el = document.getElementById(\"a8aa197d-d863-4ac5-9b4a-964baa526bd2\");\n",
       "    if (el != null) {\n",
       "      el.textContent = \"BokehJS is loading...\";\n",
       "    }\n",
       "    if (root.Bokeh !== undefined) {\n",
       "      if (el != null) {\n",
       "        el.textContent = \"BokehJS \" + root.Bokeh.version + \" successfully loaded.\";\n",
       "      }\n",
       "    } else if (Date.now() < root._bokeh_timeout) {\n",
       "      setTimeout(display_loaded, 100)\n",
       "    }\n",
       "  }\n",
       "\n",
       "\n",
       "  function run_callbacks() {\n",
       "    try {\n",
       "      root._bokeh_onload_callbacks.forEach(function(callback) { callback() });\n",
       "    }\n",
       "    finally {\n",
       "      delete root._bokeh_onload_callbacks\n",
       "    }\n",
       "    console.info(\"Bokeh: all callbacks have finished\");\n",
       "  }\n",
       "\n",
       "  function load_libs(js_urls, callback) {\n",
       "    root._bokeh_onload_callbacks.push(callback);\n",
       "    if (root._bokeh_is_loading > 0) {\n",
       "      console.log(\"Bokeh: BokehJS is being loaded, scheduling callback at\", now());\n",
       "      return null;\n",
       "    }\n",
       "    if (js_urls == null || js_urls.length === 0) {\n",
       "      run_callbacks();\n",
       "      return null;\n",
       "    }\n",
       "    console.log(\"Bokeh: BokehJS not loaded, scheduling load and callback at\", now());\n",
       "    root._bokeh_is_loading = js_urls.length;\n",
       "    for (var i = 0; i < js_urls.length; i++) {\n",
       "      var url = js_urls[i];\n",
       "      var s = document.createElement('script');\n",
       "      s.src = url;\n",
       "      s.async = false;\n",
       "      s.onreadystatechange = s.onload = function() {\n",
       "        root._bokeh_is_loading--;\n",
       "        if (root._bokeh_is_loading === 0) {\n",
       "          console.log(\"Bokeh: all BokehJS libraries loaded\");\n",
       "          run_callbacks()\n",
       "        }\n",
       "      };\n",
       "      s.onerror = function() {\n",
       "        console.warn(\"failed to load library \" + url);\n",
       "      };\n",
       "      console.log(\"Bokeh: injecting script tag for BokehJS library: \", url);\n",
       "      document.getElementsByTagName(\"head\")[0].appendChild(s);\n",
       "    }\n",
       "  };var element = document.getElementById(\"a8aa197d-d863-4ac5-9b4a-964baa526bd2\");\n",
       "  if (element == null) {\n",
       "    console.log(\"Bokeh: ERROR: autoload.js configured with elementid 'a8aa197d-d863-4ac5-9b4a-964baa526bd2' but no matching script tag was found. \")\n",
       "    return false;\n",
       "  }\n",
       "\n",
       "  var js_urls = [\"https://cdn.pydata.org/bokeh/release/bokeh-0.12.10.min.js\", \"https://cdn.pydata.org/bokeh/release/bokeh-widgets-0.12.10.min.js\", \"https://cdn.pydata.org/bokeh/release/bokeh-tables-0.12.10.min.js\", \"https://cdn.pydata.org/bokeh/release/bokeh-gl-0.12.10.min.js\"];\n",
       "\n",
       "  var inline_js = [\n",
       "    function(Bokeh) {\n",
       "      Bokeh.set_log_level(\"info\");\n",
       "    },\n",
       "    \n",
       "    function(Bokeh) {\n",
       "      \n",
       "    },\n",
       "    function(Bokeh) {\n",
       "      console.log(\"Bokeh: injecting CSS: https://cdn.pydata.org/bokeh/release/bokeh-0.12.10.min.css\");\n",
       "      Bokeh.embed.inject_css(\"https://cdn.pydata.org/bokeh/release/bokeh-0.12.10.min.css\");\n",
       "      console.log(\"Bokeh: injecting CSS: https://cdn.pydata.org/bokeh/release/bokeh-widgets-0.12.10.min.css\");\n",
       "      Bokeh.embed.inject_css(\"https://cdn.pydata.org/bokeh/release/bokeh-widgets-0.12.10.min.css\");\n",
       "      console.log(\"Bokeh: injecting CSS: https://cdn.pydata.org/bokeh/release/bokeh-tables-0.12.10.min.css\");\n",
       "      Bokeh.embed.inject_css(\"https://cdn.pydata.org/bokeh/release/bokeh-tables-0.12.10.min.css\");\n",
       "    }\n",
       "  ];\n",
       "\n",
       "  function run_inline_js() {\n",
       "    \n",
       "    if ((root.Bokeh !== undefined) || (force === true)) {\n",
       "      for (var i = 0; i < inline_js.length; i++) {\n",
       "        inline_js[i].call(root, root.Bokeh);\n",
       "      }if (force === true) {\n",
       "        display_loaded();\n",
       "      }} else if (Date.now() < root._bokeh_timeout) {\n",
       "      setTimeout(run_inline_js, 100);\n",
       "    } else if (!root._bokeh_failed_load) {\n",
       "      console.log(\"Bokeh: BokehJS failed to load within specified timeout.\");\n",
       "      root._bokeh_failed_load = true;\n",
       "    } else if (force !== true) {\n",
       "      var cell = $(document.getElementById(\"a8aa197d-d863-4ac5-9b4a-964baa526bd2\")).parents('.cell').data().cell;\n",
       "      cell.output_area.append_execute_result(NB_LOAD_WARNING)\n",
       "    }\n",
       "\n",
       "  }\n",
       "\n",
       "  if (root._bokeh_is_loading === 0) {\n",
       "    console.log(\"Bokeh: BokehJS loaded, going straight to plotting\");\n",
       "    run_inline_js();\n",
       "  } else {\n",
       "    load_libs(js_urls, function() {\n",
       "      console.log(\"Bokeh: BokehJS plotting callback run at\", now());\n",
       "      run_inline_js();\n",
       "    });\n",
       "  }\n",
       "}(window));"
      ],
      "application/vnd.bokehjs_load.v0+json": "\n(function(root) {\n  function now() {\n    return new Date();\n  }\n\n  var force = true;\n\n  if (typeof (root._bokeh_onload_callbacks) === \"undefined\" || force === true) {\n    root._bokeh_onload_callbacks = [];\n    root._bokeh_is_loading = undefined;\n  }\n\n  \n\n  \n  if (typeof (root._bokeh_timeout) === \"undefined\" || force === true) {\n    root._bokeh_timeout = Date.now() + 5000;\n    root._bokeh_failed_load = false;\n  }\n\n  var NB_LOAD_WARNING = {'data': {'text/html':\n     \"<div style='background-color: #fdd'>\\n\"+\n     \"<p>\\n\"+\n     \"BokehJS does not appear to have successfully loaded. If loading BokehJS from CDN, this \\n\"+\n     \"may be due to a slow or bad network connection. Possible fixes:\\n\"+\n     \"</p>\\n\"+\n     \"<ul>\\n\"+\n     \"<li>re-rerun `output_notebook()` to attempt to load from CDN again, or</li>\\n\"+\n     \"<li>use INLINE resources instead, as so:</li>\\n\"+\n     \"</ul>\\n\"+\n     \"<code>\\n\"+\n     \"from bokeh.resources import INLINE\\n\"+\n     \"output_notebook(resources=INLINE)\\n\"+\n     \"</code>\\n\"+\n     \"</div>\"}};\n\n  function display_loaded() {\n    var el = document.getElementById(\"a8aa197d-d863-4ac5-9b4a-964baa526bd2\");\n    if (el != null) {\n      el.textContent = \"BokehJS is loading...\";\n    }\n    if (root.Bokeh !== undefined) {\n      if (el != null) {\n        el.textContent = \"BokehJS \" + root.Bokeh.version + \" successfully loaded.\";\n      }\n    } else if (Date.now() < root._bokeh_timeout) {\n      setTimeout(display_loaded, 100)\n    }\n  }\n\n\n  function run_callbacks() {\n    try {\n      root._bokeh_onload_callbacks.forEach(function(callback) { callback() });\n    }\n    finally {\n      delete root._bokeh_onload_callbacks\n    }\n    console.info(\"Bokeh: all callbacks have finished\");\n  }\n\n  function load_libs(js_urls, callback) {\n    root._bokeh_onload_callbacks.push(callback);\n    if (root._bokeh_is_loading > 0) {\n      console.log(\"Bokeh: BokehJS is being loaded, scheduling callback at\", now());\n      return null;\n    }\n    if (js_urls == null || js_urls.length === 0) {\n      run_callbacks();\n      return null;\n    }\n    console.log(\"Bokeh: BokehJS not loaded, scheduling load and callback at\", now());\n    root._bokeh_is_loading = js_urls.length;\n    for (var i = 0; i < js_urls.length; i++) {\n      var url = js_urls[i];\n      var s = document.createElement('script');\n      s.src = url;\n      s.async = false;\n      s.onreadystatechange = s.onload = function() {\n        root._bokeh_is_loading--;\n        if (root._bokeh_is_loading === 0) {\n          console.log(\"Bokeh: all BokehJS libraries loaded\");\n          run_callbacks()\n        }\n      };\n      s.onerror = function() {\n        console.warn(\"failed to load library \" + url);\n      };\n      console.log(\"Bokeh: injecting script tag for BokehJS library: \", url);\n      document.getElementsByTagName(\"head\")[0].appendChild(s);\n    }\n  };var element = document.getElementById(\"a8aa197d-d863-4ac5-9b4a-964baa526bd2\");\n  if (element == null) {\n    console.log(\"Bokeh: ERROR: autoload.js configured with elementid 'a8aa197d-d863-4ac5-9b4a-964baa526bd2' but no matching script tag was found. \")\n    return false;\n  }\n\n  var js_urls = [\"https://cdn.pydata.org/bokeh/release/bokeh-0.12.10.min.js\", \"https://cdn.pydata.org/bokeh/release/bokeh-widgets-0.12.10.min.js\", \"https://cdn.pydata.org/bokeh/release/bokeh-tables-0.12.10.min.js\", \"https://cdn.pydata.org/bokeh/release/bokeh-gl-0.12.10.min.js\"];\n\n  var inline_js = [\n    function(Bokeh) {\n      Bokeh.set_log_level(\"info\");\n    },\n    \n    function(Bokeh) {\n      \n    },\n    function(Bokeh) {\n      console.log(\"Bokeh: injecting CSS: https://cdn.pydata.org/bokeh/release/bokeh-0.12.10.min.css\");\n      Bokeh.embed.inject_css(\"https://cdn.pydata.org/bokeh/release/bokeh-0.12.10.min.css\");\n      console.log(\"Bokeh: injecting CSS: https://cdn.pydata.org/bokeh/release/bokeh-widgets-0.12.10.min.css\");\n      Bokeh.embed.inject_css(\"https://cdn.pydata.org/bokeh/release/bokeh-widgets-0.12.10.min.css\");\n      console.log(\"Bokeh: injecting CSS: https://cdn.pydata.org/bokeh/release/bokeh-tables-0.12.10.min.css\");\n      Bokeh.embed.inject_css(\"https://cdn.pydata.org/bokeh/release/bokeh-tables-0.12.10.min.css\");\n    }\n  ];\n\n  function run_inline_js() {\n    \n    if ((root.Bokeh !== undefined) || (force === true)) {\n      for (var i = 0; i < inline_js.length; i++) {\n        inline_js[i].call(root, root.Bokeh);\n      }if (force === true) {\n        display_loaded();\n      }} else if (Date.now() < root._bokeh_timeout) {\n      setTimeout(run_inline_js, 100);\n    } else if (!root._bokeh_failed_load) {\n      console.log(\"Bokeh: BokehJS failed to load within specified timeout.\");\n      root._bokeh_failed_load = true;\n    } else if (force !== true) {\n      var cell = $(document.getElementById(\"a8aa197d-d863-4ac5-9b4a-964baa526bd2\")).parents('.cell').data().cell;\n      cell.output_area.append_execute_result(NB_LOAD_WARNING)\n    }\n\n  }\n\n  if (root._bokeh_is_loading === 0) {\n    console.log(\"Bokeh: BokehJS loaded, going straight to plotting\");\n    run_inline_js();\n  } else {\n    load_libs(js_urls, function() {\n      console.log(\"Bokeh: BokehJS plotting callback run at\", now());\n      run_inline_js();\n    });\n  }\n}(window));"
     },
     "metadata": {},
     "output_type": "display_data"
    },
    {
     "data": {
      "text/html": [
       "\n",
       "<div class=\"bk-root\">\n",
       "    <div class=\"bk-plotdiv\" id=\"b3d43cae-28a9-4115-bc17-6c279059d94e\"></div>\n",
       "</div>"
      ]
     },
     "metadata": {},
     "output_type": "display_data"
    },
    {
     "data": {
      "application/javascript": [
       "(function(root) {\n",
       "  function embed_document(root) {\n",
       "    var docs_json = {\"e45217e3-f3b8-4bca-89e5-14fefed3a8d5\":{\"roots\":{\"references\":[{\"attributes\":{\"fill_alpha\":{\"value\":0.1},\"fill_color\":{\"value\":\"#1f77b4\"},\"line_alpha\":{\"value\":0.1},\"line_color\":{\"value\":\"#1f77b4\"},\"size\":{\"units\":\"screen\",\"value\":15},\"x\":{\"value\":1.3},\"y\":{\"value\":0.2}},\"id\":\"6476e2ed-11af-4fcb-949e-6d76a64ba5df\",\"type\":\"Circle\"},{\"attributes\":{\"source\":{\"id\":\"3f842bcd-09f4-464a-b9e2-b284579500c6\",\"type\":\"ColumnDataSource\"}},\"id\":\"76894042-5995-459a-8eb7-197e3d0fef99\",\"type\":\"CDSView\"},{\"attributes\":{\"callback\":null,\"data\":{}},\"id\":\"94b1a031-78b6-4e73-bd57-d2588c397593\",\"type\":\"ColumnDataSource\"},{\"attributes\":{\"fill_alpha\":{\"value\":0.1},\"fill_color\":{\"value\":\"#1f77b4\"},\"line_alpha\":{\"value\":0.1},\"line_color\":{\"value\":\"#1f77b4\"},\"size\":{\"units\":\"screen\",\"value\":15},\"x\":{\"value\":5.0},\"y\":{\"value\":1.9}},\"id\":\"46477e96-fac4-48db-95f1-2f95c0166158\",\"type\":\"Circle\"},{\"attributes\":{\"data_source\":{\"id\":\"3f842bcd-09f4-464a-b9e2-b284579500c6\",\"type\":\"ColumnDataSource\"},\"glyph\":{\"id\":\"9aa8c064-9c01-48af-b656-deb30d435017\",\"type\":\"Circle\"},\"hover_glyph\":null,\"muted_glyph\":null,\"nonselection_glyph\":{\"id\":\"4f699c4c-078b-44f9-ba2a-8223fff464cf\",\"type\":\"Circle\"},\"selection_glyph\":null,\"view\":{\"id\":\"76894042-5995-459a-8eb7-197e3d0fef99\",\"type\":\"CDSView\"}},\"id\":\"3b72405b-08f2-42db-8a83-36b0da00f6a1\",\"type\":\"GlyphRenderer\"},{\"attributes\":{\"callback\":null,\"data\":{}},\"id\":\"8a5bda51-0db2-47c4-bcd7-cf1b9840b6ec\",\"type\":\"ColumnDataSource\"},{\"attributes\":{\"fill_color\":{\"value\":\"purple\"},\"line_color\":{\"value\":\"purple\"},\"size\":{\"units\":\"screen\",\"value\":15},\"x\":{\"value\":4.3},\"y\":{\"value\":1.3}},\"id\":\"613ce830-597c-450f-a819-16c258ba74f8\",\"type\":\"Circle\"},{\"attributes\":{\"data_source\":{\"id\":\"ea666e4b-4ecb-464d-93a5-b3d1967f1072\",\"type\":\"ColumnDataSource\"},\"glyph\":{\"id\":\"30e6a2ad-58fb-4915-bd75-8fea00fe3b56\",\"type\":\"Circle\"},\"hover_glyph\":null,\"muted_glyph\":null,\"nonselection_glyph\":{\"id\":\"6476e2ed-11af-4fcb-949e-6d76a64ba5df\",\"type\":\"Circle\"},\"selection_glyph\":null,\"view\":{\"id\":\"85b0d936-1f16-4f22-a040-1d2736a326cf\",\"type\":\"CDSView\"}},\"id\":\"af3416e9-b98e-4d7f-a15c-ad1be8b8ebb7\",\"type\":\"GlyphRenderer\"},{\"attributes\":{\"data_source\":{\"id\":\"fb9fbe27-2d6c-45de-b631-3ca1c2f09628\",\"type\":\"ColumnDataSource\"},\"glyph\":{\"id\":\"b10c55dc-894a-47e4-add6-ff825c5a2761\",\"type\":\"Circle\"},\"hover_glyph\":null,\"muted_glyph\":null,\"nonselection_glyph\":{\"id\":\"46477e96-fac4-48db-95f1-2f95c0166158\",\"type\":\"Circle\"},\"selection_glyph\":null,\"view\":{\"id\":\"4623d611-8254-43c1-9b80-138139f727b6\",\"type\":\"CDSView\"}},\"id\":\"56f964c2-6e6c-4b29-bd78-f18e50088b3c\",\"type\":\"GlyphRenderer\"},{\"attributes\":{\"callback\":null,\"data\":{}},\"id\":\"2b454bb9-9a6a-4cb5-9779-906f0fd528e8\",\"type\":\"ColumnDataSource\"},{\"attributes\":{\"fill_color\":{\"value\":\"purple\"},\"line_color\":{\"value\":\"purple\"},\"size\":{\"units\":\"screen\",\"value\":15},\"x\":{\"value\":3.5},\"y\":{\"value\":1.0}},\"id\":\"85e0fac0-ee9e-4ddf-a969-40b80685f66b\",\"type\":\"Circle\"},{\"attributes\":{\"source\":{\"id\":\"ea666e4b-4ecb-464d-93a5-b3d1967f1072\",\"type\":\"ColumnDataSource\"}},\"id\":\"85b0d936-1f16-4f22-a040-1d2736a326cf\",\"type\":\"CDSView\"},{\"attributes\":{\"fill_color\":{\"value\":\"blue\"},\"line_color\":{\"value\":\"blue\"},\"size\":{\"units\":\"screen\",\"value\":15},\"x\":{\"value\":1.4},\"y\":{\"value\":0.3}},\"id\":\"792d33f5-30c0-4dbb-b988-9c20521220ea\",\"type\":\"Circle\"},{\"attributes\":{\"fill_alpha\":{\"value\":0.1},\"fill_color\":{\"value\":\"#1f77b4\"},\"line_alpha\":{\"value\":0.1},\"line_color\":{\"value\":\"#1f77b4\"},\"size\":{\"units\":\"screen\",\"value\":15},\"x\":{\"value\":3.5},\"y\":{\"value\":1.0}},\"id\":\"04d39a95-1ba9-4f17-8036-9ed20f315afe\",\"type\":\"Circle\"},{\"attributes\":{\"data_source\":{\"id\":\"2b454bb9-9a6a-4cb5-9779-906f0fd528e8\",\"type\":\"ColumnDataSource\"},\"glyph\":{\"id\":\"792d33f5-30c0-4dbb-b988-9c20521220ea\",\"type\":\"Circle\"},\"hover_glyph\":null,\"muted_glyph\":null,\"nonselection_glyph\":{\"id\":\"db9b02fa-1c92-4dd7-b8bc-b6c99c5f5be1\",\"type\":\"Circle\"},\"selection_glyph\":null,\"view\":{\"id\":\"54591197-9527-4cf7-b9b4-37be0bcfdd98\",\"type\":\"CDSView\"}},\"id\":\"55be2e7e-b229-43df-ae15-2fac6d137420\",\"type\":\"GlyphRenderer\"},{\"attributes\":{\"data_source\":{\"id\":\"94b1a031-78b6-4e73-bd57-d2588c397593\",\"type\":\"ColumnDataSource\"},\"glyph\":{\"id\":\"85e0fac0-ee9e-4ddf-a969-40b80685f66b\",\"type\":\"Circle\"},\"hover_glyph\":null,\"muted_glyph\":null,\"nonselection_glyph\":{\"id\":\"04d39a95-1ba9-4f17-8036-9ed20f315afe\",\"type\":\"Circle\"},\"selection_glyph\":null,\"view\":{\"id\":\"bd22422a-0a31-42f8-a0c5-36868f128565\",\"type\":\"CDSView\"}},\"id\":\"bd9d8aa3-d113-4aab-a3c9-206985f5fce4\",\"type\":\"GlyphRenderer\"},{\"attributes\":{\"fill_color\":{\"value\":\"blue\"},\"line_color\":{\"value\":\"blue\"},\"size\":{\"units\":\"screen\",\"value\":15},\"x\":{\"value\":1.5},\"y\":{\"value\":0.2}},\"id\":\"0e888261-1613-419e-b5fe-77e9abe163bc\",\"type\":\"Circle\"},{\"attributes\":{\"source\":{\"id\":\"fb9fbe27-2d6c-45de-b631-3ca1c2f09628\",\"type\":\"ColumnDataSource\"}},\"id\":\"4623d611-8254-43c1-9b80-138139f727b6\",\"type\":\"CDSView\"},{\"attributes\":{\"callback\":null,\"data\":{}},\"id\":\"dc9a0d98-77ba-4b13-8990-01430fb4cb0e\",\"type\":\"ColumnDataSource\"},{\"attributes\":{\"fill_alpha\":{\"value\":0.1},\"fill_color\":{\"value\":\"#1f77b4\"},\"line_alpha\":{\"value\":0.1},\"line_color\":{\"value\":\"#1f77b4\"},\"size\":{\"units\":\"screen\",\"value\":15},\"x\":{\"value\":1.4},\"y\":{\"value\":0.3}},\"id\":\"db9b02fa-1c92-4dd7-b8bc-b6c99c5f5be1\",\"type\":\"Circle\"},{\"attributes\":{\"source\":{\"id\":\"94b1a031-78b6-4e73-bd57-d2588c397593\",\"type\":\"ColumnDataSource\"}},\"id\":\"bd22422a-0a31-42f8-a0c5-36868f128565\",\"type\":\"CDSView\"},{\"attributes\":{\"data_source\":{\"id\":\"dc9a0d98-77ba-4b13-8990-01430fb4cb0e\",\"type\":\"ColumnDataSource\"},\"glyph\":{\"id\":\"0e888261-1613-419e-b5fe-77e9abe163bc\",\"type\":\"Circle\"},\"hover_glyph\":null,\"muted_glyph\":null,\"nonselection_glyph\":{\"id\":\"5fd5b085-1b7a-4776-9130-5f9204e8aa08\",\"type\":\"Circle\"},\"selection_glyph\":null,\"view\":{\"id\":\"904fda55-c453-4c43-a912-627bac05e429\",\"type\":\"CDSView\"}},\"id\":\"dd30142e-1b8c-4a5c-80ec-d85346d7eb7b\",\"type\":\"GlyphRenderer\"},{\"attributes\":{\"data_source\":{\"id\":\"7a156d4f-f67b-4ae5-a0dc-fca56e629290\",\"type\":\"ColumnDataSource\"},\"glyph\":{\"id\":\"cf970dea-cc4c-46d1-b58c-37264839cd88\",\"type\":\"Circle\"},\"hover_glyph\":null,\"muted_glyph\":null,\"nonselection_glyph\":{\"id\":\"0d98c9b4-84fd-4e14-8559-904e10cce583\",\"type\":\"Circle\"},\"selection_glyph\":null,\"view\":{\"id\":\"1dcc1cc2-4147-4527-b2a5-565bd0a22d54\",\"type\":\"CDSView\"}},\"id\":\"03bb9aa8-621b-4f26-bf82-918f7f6fa01f\",\"type\":\"GlyphRenderer\"},{\"attributes\":{\"callback\":null,\"data\":{}},\"id\":\"2ffc5b0e-682f-4d77-bc10-c67d51339672\",\"type\":\"ColumnDataSource\"},{\"attributes\":{\"fill_color\":{\"value\":\"purple\"},\"line_color\":{\"value\":\"purple\"},\"size\":{\"units\":\"screen\",\"value\":15},\"x\":{\"value\":4.2},\"y\":{\"value\":1.5}},\"id\":\"7af1e4c7-3dc0-4231-a11f-dad0c2933d70\",\"type\":\"Circle\"},{\"attributes\":{\"data_source\":{\"id\":\"2ffc5b0e-682f-4d77-bc10-c67d51339672\",\"type\":\"ColumnDataSource\"},\"glyph\":{\"id\":\"97799455-28f9-4675-ba5b-5d3fd79493eb\",\"type\":\"Circle\"},\"hover_glyph\":null,\"muted_glyph\":null,\"nonselection_glyph\":{\"id\":\"e723f74b-552a-4f88-ad52-9c6cd89e98cd\",\"type\":\"Circle\"},\"selection_glyph\":null,\"view\":{\"id\":\"cbbb80e6-1ec6-4509-b3dc-092a56fff498\",\"type\":\"CDSView\"}},\"id\":\"48011715-1e2a-4d61-b79f-2568f49004c0\",\"type\":\"GlyphRenderer\"},{\"attributes\":{\"fill_alpha\":{\"value\":0.1},\"fill_color\":{\"value\":\"#1f77b4\"},\"line_alpha\":{\"value\":0.1},\"line_color\":{\"value\":\"#1f77b4\"},\"size\":{\"units\":\"screen\",\"value\":15},\"x\":{\"value\":1.5},\"y\":{\"value\":0.2}},\"id\":\"5fd5b085-1b7a-4776-9130-5f9204e8aa08\",\"type\":\"Circle\"},{\"attributes\":{\"callback\":null,\"data\":{}},\"id\":\"697bc27a-7a48-4de7-83ee-42a4126883ff\",\"type\":\"ColumnDataSource\"},{\"attributes\":{\"data_source\":{\"id\":\"697bc27a-7a48-4de7-83ee-42a4126883ff\",\"type\":\"ColumnDataSource\"},\"glyph\":{\"id\":\"7af1e4c7-3dc0-4231-a11f-dad0c2933d70\",\"type\":\"Circle\"},\"hover_glyph\":null,\"muted_glyph\":null,\"nonselection_glyph\":{\"id\":\"738714bc-992c-4f0b-9541-b25040a8714a\",\"type\":\"Circle\"},\"selection_glyph\":null,\"view\":{\"id\":\"22485245-a822-4e4a-b633-1332a9b930bd\",\"type\":\"CDSView\"}},\"id\":\"313ef5af-9a1f-4b1a-a1dc-620001ecae1e\",\"type\":\"GlyphRenderer\"},{\"attributes\":{\"callback\":null,\"data\":{}},\"id\":\"83a42002-de52-48be-bfa9-3cf4041176f8\",\"type\":\"ColumnDataSource\"},{\"attributes\":{\"source\":{\"id\":\"2b454bb9-9a6a-4cb5-9779-906f0fd528e8\",\"type\":\"ColumnDataSource\"}},\"id\":\"54591197-9527-4cf7-b9b4-37be0bcfdd98\",\"type\":\"CDSView\"},{\"attributes\":{\"fill_alpha\":{\"value\":0.1},\"fill_color\":{\"value\":\"#1f77b4\"},\"line_alpha\":{\"value\":0.1},\"line_color\":{\"value\":\"#1f77b4\"},\"size\":{\"units\":\"screen\",\"value\":15},\"x\":{\"value\":5.2},\"y\":{\"value\":2.0}},\"id\":\"0d98c9b4-84fd-4e14-8559-904e10cce583\",\"type\":\"Circle\"},{\"attributes\":{\"data_source\":{\"id\":\"83a42002-de52-48be-bfa9-3cf4041176f8\",\"type\":\"ColumnDataSource\"},\"glyph\":{\"id\":\"5ec8903f-d47b-49d8-93c9-da5c746f3700\",\"type\":\"Circle\"},\"hover_glyph\":null,\"muted_glyph\":null,\"nonselection_glyph\":{\"id\":\"cd98e1b1-b013-4fa0-b056-77dbfd0a64e7\",\"type\":\"Circle\"},\"selection_glyph\":null,\"view\":{\"id\":\"c27d3a05-d736-4339-86b5-6fa5350eda3e\",\"type\":\"CDSView\"}},\"id\":\"c596222b-f682-4d22-9eb3-f9efb296710e\",\"type\":\"GlyphRenderer\"},{\"attributes\":{\"data_source\":{\"id\":\"a41aa8e3-1636-45d3-b5fd-88f0883ea591\",\"type\":\"ColumnDataSource\"},\"glyph\":{\"id\":\"288978a3-d2da-4d08-a023-5db7c1efba94\",\"type\":\"Circle\"},\"hover_glyph\":null,\"muted_glyph\":null,\"nonselection_glyph\":{\"id\":\"34efadcc-7772-4a13-baa3-a5eb80130aef\",\"type\":\"Circle\"},\"selection_glyph\":null,\"view\":{\"id\":\"6b1b0fd4-16b9-4587-9789-184562076d06\",\"type\":\"CDSView\"}},\"id\":\"020f8e09-a583-40ae-83db-20a31f31ef10\",\"type\":\"GlyphRenderer\"},{\"attributes\":{\"fill_color\":{\"value\":\"blue\"},\"line_color\":{\"value\":\"blue\"},\"size\":{\"units\":\"screen\",\"value\":15},\"x\":{\"value\":1.7},\"y\":{\"value\":0.3}},\"id\":\"97799455-28f9-4675-ba5b-5d3fd79493eb\",\"type\":\"Circle\"},{\"attributes\":{\"source\":{\"id\":\"dc9a0d98-77ba-4b13-8990-01430fb4cb0e\",\"type\":\"ColumnDataSource\"}},\"id\":\"904fda55-c453-4c43-a912-627bac05e429\",\"type\":\"CDSView\"},{\"attributes\":{\"fill_alpha\":{\"value\":0.1},\"fill_color\":{\"value\":\"#1f77b4\"},\"line_alpha\":{\"value\":0.1},\"line_color\":{\"value\":\"#1f77b4\"},\"size\":{\"units\":\"screen\",\"value\":15},\"x\":{\"value\":1.7},\"y\":{\"value\":0.3}},\"id\":\"e723f74b-552a-4f88-ad52-9c6cd89e98cd\",\"type\":\"Circle\"},{\"attributes\":{\"fill_alpha\":{\"value\":0.1},\"fill_color\":{\"value\":\"#1f77b4\"},\"line_alpha\":{\"value\":0.1},\"line_color\":{\"value\":\"#1f77b4\"},\"size\":{\"units\":\"screen\",\"value\":15},\"x\":{\"value\":4.2},\"y\":{\"value\":1.5}},\"id\":\"738714bc-992c-4f0b-9541-b25040a8714a\",\"type\":\"Circle\"},{\"attributes\":{\"callback\":null,\"data\":{}},\"id\":\"1db2686f-4d21-4c47-841e-7b0ac91e40bf\",\"type\":\"ColumnDataSource\"},{\"attributes\":{\"data_source\":{\"id\":\"1db2686f-4d21-4c47-841e-7b0ac91e40bf\",\"type\":\"ColumnDataSource\"},\"glyph\":{\"id\":\"9fb749a6-1075-4b8c-b9be-8068f91ee6fa\",\"type\":\"Circle\"},\"hover_glyph\":null,\"muted_glyph\":null,\"nonselection_glyph\":{\"id\":\"34e71423-f175-4ce7-a122-a6a3736b76b6\",\"type\":\"Circle\"},\"selection_glyph\":null,\"view\":{\"id\":\"f415e18f-4b32-4acb-b850-fd8d485a62b9\",\"type\":\"CDSView\"}},\"id\":\"042ac91d-689a-49c4-87cf-6c57b62470b0\",\"type\":\"GlyphRenderer\"},{\"attributes\":{\"fill_color\":{\"value\":\"blue\"},\"line_color\":{\"value\":\"blue\"},\"size\":{\"units\":\"screen\",\"value\":15},\"x\":{\"value\":1.4},\"y\":{\"value\":0.2}},\"id\":\"5ec8903f-d47b-49d8-93c9-da5c746f3700\",\"type\":\"Circle\"},{\"attributes\":{\"callback\":null,\"data\":{}},\"id\":\"5d180299-5e85-4ffc-a8c9-710753842f9d\",\"type\":\"ColumnDataSource\"},{\"attributes\":{\"data_source\":{\"id\":\"5d180299-5e85-4ffc-a8c9-710753842f9d\",\"type\":\"ColumnDataSource\"},\"glyph\":{\"id\":\"c58715ac-6c9c-48d5-aaf3-c7caa49d636d\",\"type\":\"Circle\"},\"hover_glyph\":null,\"muted_glyph\":null,\"nonselection_glyph\":{\"id\":\"979050f7-9785-4307-9007-f2d330b21de9\",\"type\":\"Circle\"},\"selection_glyph\":null,\"view\":{\"id\":\"517e3c6f-88ac-4cbb-ac7c-dc74116ca3c5\",\"type\":\"CDSView\"}},\"id\":\"1adf22ba-a8e4-4863-8f6c-fda3b95de730\",\"type\":\"GlyphRenderer\"},{\"attributes\":{\"fill_alpha\":{\"value\":0.1},\"fill_color\":{\"value\":\"#1f77b4\"},\"line_alpha\":{\"value\":0.1},\"line_color\":{\"value\":\"#1f77b4\"},\"size\":{\"units\":\"screen\",\"value\":15},\"x\":{\"value\":1.4},\"y\":{\"value\":0.2}},\"id\":\"cd98e1b1-b013-4fa0-b056-77dbfd0a64e7\",\"type\":\"Circle\"},{\"attributes\":{\"source\":{\"id\":\"697bc27a-7a48-4de7-83ee-42a4126883ff\",\"type\":\"ColumnDataSource\"}},\"id\":\"22485245-a822-4e4a-b633-1332a9b930bd\",\"type\":\"CDSView\"},{\"attributes\":{\"fill_alpha\":{\"value\":0.1},\"fill_color\":{\"value\":\"#1f77b4\"},\"line_alpha\":{\"value\":0.1},\"line_color\":{\"value\":\"#1f77b4\"},\"size\":{\"units\":\"screen\",\"value\":15},\"x\":{\"value\":5.4},\"y\":{\"value\":2.3}},\"id\":\"34efadcc-7772-4a13-baa3-a5eb80130aef\",\"type\":\"Circle\"},{\"attributes\":{\"callback\":null,\"data\":{}},\"id\":\"af0a8e70-a8b0-4098-8dd0-6946e7d0d612\",\"type\":\"ColumnDataSource\"},{\"attributes\":{\"source\":{\"id\":\"2ffc5b0e-682f-4d77-bc10-c67d51339672\",\"type\":\"ColumnDataSource\"}},\"id\":\"cbbb80e6-1ec6-4509-b3dc-092a56fff498\",\"type\":\"CDSView\"},{\"attributes\":{\"fill_color\":{\"value\":\"purple\"},\"line_color\":{\"value\":\"purple\"},\"size\":{\"units\":\"screen\",\"value\":15},\"x\":{\"value\":4.0},\"y\":{\"value\":1.0}},\"id\":\"9fb749a6-1075-4b8c-b9be-8068f91ee6fa\",\"type\":\"Circle\"},{\"attributes\":{\"data_source\":{\"id\":\"af0a8e70-a8b0-4098-8dd0-6946e7d0d612\",\"type\":\"ColumnDataSource\"},\"glyph\":{\"id\":\"ca8bf805-65ea-454d-908d-895a35035bb8\",\"type\":\"Circle\"},\"hover_glyph\":null,\"muted_glyph\":null,\"nonselection_glyph\":{\"id\":\"cda16d9f-c068-479d-98d0-e6b4f7782a38\",\"type\":\"Circle\"},\"selection_glyph\":null,\"view\":{\"id\":\"9aa69301-911d-4239-9c8d-c2247a20791b\",\"type\":\"CDSView\"}},\"id\":\"ee2b0e97-e500-48d4-9828-bfd0eeebe114\",\"type\":\"GlyphRenderer\"},{\"attributes\":{\"data_source\":{\"id\":\"e65405cd-7700-4a60-b595-76cc6b483266\",\"type\":\"ColumnDataSource\"},\"glyph\":{\"id\":\"43d3d837-8b53-4008-8b12-804e285aa6bc\",\"type\":\"Circle\"},\"hover_glyph\":null,\"muted_glyph\":null,\"nonselection_glyph\":{\"id\":\"dc5382f3-2c89-41b7-91f2-e3c35e8be4eb\",\"type\":\"Circle\"},\"selection_glyph\":null,\"view\":{\"id\":\"021bd2a3-c31c-414d-8331-290238457664\",\"type\":\"CDSView\"}},\"id\":\"ce0a17f5-8362-4a7c-aa0f-0ce4d7541740\",\"type\":\"GlyphRenderer\"},{\"attributes\":{\"fill_color\":{\"value\":\"blue\"},\"line_color\":{\"value\":\"blue\"},\"size\":{\"units\":\"screen\",\"value\":15},\"x\":{\"value\":1.5},\"y\":{\"value\":0.3}},\"id\":\"c58715ac-6c9c-48d5-aaf3-c7caa49d636d\",\"type\":\"Circle\"},{\"attributes\":{\"fill_alpha\":{\"value\":0.1},\"fill_color\":{\"value\":\"#1f77b4\"},\"line_alpha\":{\"value\":0.1},\"line_color\":{\"value\":\"#1f77b4\"},\"size\":{\"units\":\"screen\",\"value\":15},\"x\":{\"value\":4.0},\"y\":{\"value\":1.0}},\"id\":\"34e71423-f175-4ce7-a122-a6a3736b76b6\",\"type\":\"Circle\"},{\"attributes\":{\"source\":{\"id\":\"83a42002-de52-48be-bfa9-3cf4041176f8\",\"type\":\"ColumnDataSource\"}},\"id\":\"c27d3a05-d736-4339-86b5-6fa5350eda3e\",\"type\":\"CDSView\"},{\"attributes\":{\"fill_alpha\":{\"value\":0.1},\"fill_color\":{\"value\":\"#1f77b4\"},\"line_alpha\":{\"value\":0.1},\"line_color\":{\"value\":\"#1f77b4\"},\"size\":{\"units\":\"screen\",\"value\":15},\"x\":{\"value\":1.5},\"y\":{\"value\":0.3}},\"id\":\"979050f7-9785-4307-9007-f2d330b21de9\",\"type\":\"Circle\"},{\"attributes\":{\"callback\":null,\"data\":{}},\"id\":\"124e29fe-efa5-47cf-aaab-3e2e7fb96ee7\",\"type\":\"ColumnDataSource\"},{\"attributes\":{\"data_source\":{\"id\":\"124e29fe-efa5-47cf-aaab-3e2e7fb96ee7\",\"type\":\"ColumnDataSource\"},\"glyph\":{\"id\":\"a270bcec-5937-4c4a-af80-53c69d5f592d\",\"type\":\"Circle\"},\"hover_glyph\":null,\"muted_glyph\":null,\"nonselection_glyph\":{\"id\":\"a70eccc6-b2fe-4aa8-9600-579d5d70a7b9\",\"type\":\"Circle\"},\"selection_glyph\":null,\"view\":{\"id\":\"05d9a70d-39ec-4066-8222-82efab2770fc\",\"type\":\"CDSView\"}},\"id\":\"5ce4df6c-39dc-44fa-81a1-e685b72bc128\",\"type\":\"GlyphRenderer\"},{\"attributes\":{\"fill_color\":{\"value\":\"blue\"},\"line_color\":{\"value\":\"blue\"},\"size\":{\"units\":\"screen\",\"value\":15},\"x\":{\"value\":1.7},\"y\":{\"value\":0.4}},\"id\":\"ca8bf805-65ea-454d-908d-895a35035bb8\",\"type\":\"Circle\"},{\"attributes\":{\"callback\":null,\"data\":{}},\"id\":\"fcab93f0-95d4-4a3a-9e7c-9184e7520011\",\"type\":\"ColumnDataSource\"},{\"attributes\":{\"source\":{\"id\":\"a41aa8e3-1636-45d3-b5fd-88f0883ea591\",\"type\":\"ColumnDataSource\"}},\"id\":\"6b1b0fd4-16b9-4587-9789-184562076d06\",\"type\":\"CDSView\"},{\"attributes\":{\"data_source\":{\"id\":\"fcab93f0-95d4-4a3a-9e7c-9184e7520011\",\"type\":\"ColumnDataSource\"},\"glyph\":{\"id\":\"9957803b-c30f-4b9b-84da-e0e6b2bd15ab\",\"type\":\"Circle\"},\"hover_glyph\":null,\"muted_glyph\":null,\"nonselection_glyph\":{\"id\":\"6f388911-4c77-437e-8ad1-8ef3d3b7b54e\",\"type\":\"Circle\"},\"selection_glyph\":null,\"view\":{\"id\":\"7d79366b-cea8-41bd-bbde-e8a4bbfaf3fa\",\"type\":\"CDSView\"}},\"id\":\"6362c4ea-8bcc-4f87-a6d2-dba8f9d3c3d9\",\"type\":\"GlyphRenderer\"},{\"attributes\":{\"fill_alpha\":{\"value\":0.1},\"fill_color\":{\"value\":\"#1f77b4\"},\"line_alpha\":{\"value\":0.1},\"line_color\":{\"value\":\"#1f77b4\"},\"size\":{\"units\":\"screen\",\"value\":15},\"x\":{\"value\":1.7},\"y\":{\"value\":0.4}},\"id\":\"cda16d9f-c068-479d-98d0-e6b4f7782a38\",\"type\":\"Circle\"},{\"attributes\":{\"source\":{\"id\":\"1db2686f-4d21-4c47-841e-7b0ac91e40bf\",\"type\":\"ColumnDataSource\"}},\"id\":\"f415e18f-4b32-4acb-b850-fd8d485a62b9\",\"type\":\"CDSView\"},{\"attributes\":{\"callback\":null,\"data\":{}},\"id\":\"5f49d7a3-64c5-4cd2-9e4d-1416f27287e9\",\"type\":\"ColumnDataSource\"},{\"attributes\":{\"source\":{\"id\":\"5d180299-5e85-4ffc-a8c9-710753842f9d\",\"type\":\"ColumnDataSource\"}},\"id\":\"517e3c6f-88ac-4cbb-ac7c-dc74116ca3c5\",\"type\":\"CDSView\"},{\"attributes\":{\"fill_color\":{\"value\":\"purple\"},\"line_color\":{\"value\":\"purple\"},\"size\":{\"units\":\"screen\",\"value\":15},\"x\":{\"value\":4.7},\"y\":{\"value\":1.4}},\"id\":\"a270bcec-5937-4c4a-af80-53c69d5f592d\",\"type\":\"Circle\"},{\"attributes\":{\"fill_alpha\":{\"value\":0.1},\"fill_color\":{\"value\":\"#1f77b4\"},\"line_alpha\":{\"value\":0.1},\"line_color\":{\"value\":\"#1f77b4\"},\"size\":{\"units\":\"screen\",\"value\":15},\"x\":{\"value\":5.1},\"y\":{\"value\":1.8}},\"id\":\"dc5382f3-2c89-41b7-91f2-e3c35e8be4eb\",\"type\":\"Circle\"},{\"attributes\":{\"data_source\":{\"id\":\"5f49d7a3-64c5-4cd2-9e4d-1416f27287e9\",\"type\":\"ColumnDataSource\"},\"glyph\":{\"id\":\"e82675e2-51ea-40fd-8b9c-4271b14e3a5c\",\"type\":\"Circle\"},\"hover_glyph\":null,\"muted_glyph\":null,\"nonselection_glyph\":{\"id\":\"bdd105da-fac5-4346-a3f8-b3b31237da37\",\"type\":\"Circle\"},\"selection_glyph\":null,\"view\":{\"id\":\"1adb035a-5402-461e-bf94-3d7c72ae1911\",\"type\":\"CDSView\"}},\"id\":\"49a204a7-1597-4096-b49c-1a12ebb921db\",\"type\":\"GlyphRenderer\"},{\"attributes\":{\"fill_color\":{\"value\":\"blue\"},\"line_color\":{\"value\":\"blue\"},\"size\":{\"units\":\"screen\",\"value\":15},\"x\":{\"value\":1.7},\"y\":{\"value\":0.2}},\"id\":\"9957803b-c30f-4b9b-84da-e0e6b2bd15ab\",\"type\":\"Circle\"},{\"attributes\":{\"fill_alpha\":{\"value\":0.1},\"fill_color\":{\"value\":\"#1f77b4\"},\"line_alpha\":{\"value\":0.1},\"line_color\":{\"value\":\"#1f77b4\"},\"size\":{\"units\":\"screen\",\"value\":15},\"x\":{\"value\":4.7},\"y\":{\"value\":1.4}},\"id\":\"a70eccc6-b2fe-4aa8-9600-579d5d70a7b9\",\"type\":\"Circle\"},{\"attributes\":{\"source\":{\"id\":\"af0a8e70-a8b0-4098-8dd0-6946e7d0d612\",\"type\":\"ColumnDataSource\"}},\"id\":\"9aa69301-911d-4239-9c8d-c2247a20791b\",\"type\":\"CDSView\"},{\"attributes\":{\"fill_alpha\":{\"value\":0.1},\"fill_color\":{\"value\":\"#1f77b4\"},\"line_alpha\":{\"value\":0.1},\"line_color\":{\"value\":\"#1f77b4\"},\"size\":{\"units\":\"screen\",\"value\":15},\"x\":{\"value\":1.7},\"y\":{\"value\":0.2}},\"id\":\"6f388911-4c77-437e-8ad1-8ef3d3b7b54e\",\"type\":\"Circle\"},{\"attributes\":{\"callback\":null,\"data\":{}},\"id\":\"9a0ee7d5-a18c-4bfc-8601-33dfaffb510b\",\"type\":\"ColumnDataSource\"},{\"attributes\":{\"source\":{\"id\":\"e65405cd-7700-4a60-b595-76cc6b483266\",\"type\":\"ColumnDataSource\"}},\"id\":\"021bd2a3-c31c-414d-8331-290238457664\",\"type\":\"CDSView\"},{\"attributes\":{\"data_source\":{\"id\":\"9a0ee7d5-a18c-4bfc-8601-33dfaffb510b\",\"type\":\"ColumnDataSource\"},\"glyph\":{\"id\":\"a546ce1c-72ff-4cdd-9f29-e04a9df82119\",\"type\":\"Circle\"},\"hover_glyph\":null,\"muted_glyph\":null,\"nonselection_glyph\":{\"id\":\"899bb1d5-1edd-4f1e-95b9-c76577b1f858\",\"type\":\"Circle\"},\"selection_glyph\":null,\"view\":{\"id\":\"b2b98de4-b63c-42ce-b07f-53b59417d94c\",\"type\":\"CDSView\"}},\"id\":\"a8c0cf93-41c7-4a3e-b7c7-e47903378e1e\",\"type\":\"GlyphRenderer\"},{\"attributes\":{\"fill_color\":{\"value\":\"blue\"},\"line_color\":{\"value\":\"blue\"},\"size\":{\"units\":\"screen\",\"value\":15},\"x\":{\"value\":1.4},\"y\":{\"value\":0.3}},\"id\":\"e82675e2-51ea-40fd-8b9c-4271b14e3a5c\",\"type\":\"Circle\"},{\"attributes\":{\"callback\":null,\"data\":{}},\"id\":\"47a834aa-772a-45ed-b58d-9200cdd71e41\",\"type\":\"ColumnDataSource\"},{\"attributes\":{\"data_source\":{\"id\":\"47a834aa-772a-45ed-b58d-9200cdd71e41\",\"type\":\"ColumnDataSource\"},\"glyph\":{\"id\":\"88f4c3e2-ed7d-47b0-8e47-fc551aebd2f9\",\"type\":\"Circle\"},\"hover_glyph\":null,\"muted_glyph\":null,\"nonselection_glyph\":{\"id\":\"d7aead90-6ce5-499b-a474-5405d2d4bcf8\",\"type\":\"Circle\"},\"selection_glyph\":null,\"view\":{\"id\":\"3012de7d-de8f-4a20-b424-3c8017c3847e\",\"type\":\"CDSView\"}},\"id\":\"2a39bf1b-b8c2-408d-9932-e80636b6b33d\",\"type\":\"GlyphRenderer\"},{\"attributes\":{\"fill_alpha\":{\"value\":0.1},\"fill_color\":{\"value\":\"#1f77b4\"},\"line_alpha\":{\"value\":0.1},\"line_color\":{\"value\":\"#1f77b4\"},\"size\":{\"units\":\"screen\",\"value\":15},\"x\":{\"value\":1.4},\"y\":{\"value\":0.3}},\"id\":\"bdd105da-fac5-4346-a3f8-b3b31237da37\",\"type\":\"Circle\"},{\"attributes\":{\"source\":{\"id\":\"124e29fe-efa5-47cf-aaab-3e2e7fb96ee7\",\"type\":\"ColumnDataSource\"}},\"id\":\"05d9a70d-39ec-4066-8222-82efab2770fc\",\"type\":\"CDSView\"},{\"attributes\":{\"callback\":null,\"data\":{}},\"id\":\"9ad43be5-8687-4479-acdc-7854e014255e\",\"type\":\"ColumnDataSource\"},{\"attributes\":{\"source\":{\"id\":\"fcab93f0-95d4-4a3a-9e7c-9184e7520011\",\"type\":\"ColumnDataSource\"}},\"id\":\"7d79366b-cea8-41bd-bbde-e8a4bbfaf3fa\",\"type\":\"CDSView\"},{\"attributes\":{\"fill_color\":{\"value\":\"purple\"},\"line_color\":{\"value\":\"purple\"},\"size\":{\"units\":\"screen\",\"value\":15},\"x\":{\"value\":3.6},\"y\":{\"value\":1.3}},\"id\":\"a546ce1c-72ff-4cdd-9f29-e04a9df82119\",\"type\":\"Circle\"},{\"attributes\":{\"data_source\":{\"id\":\"9ad43be5-8687-4479-acdc-7854e014255e\",\"type\":\"ColumnDataSource\"},\"glyph\":{\"id\":\"3a605431-0416-495c-818a-fe1258214550\",\"type\":\"Circle\"},\"hover_glyph\":null,\"muted_glyph\":null,\"nonselection_glyph\":{\"id\":\"f96a8d35-27ce-4825-965c-c27a88e5c8ba\",\"type\":\"Circle\"},\"selection_glyph\":null,\"view\":{\"id\":\"02159587-3b20-4766-8d7c-b9b0caf84c9b\",\"type\":\"CDSView\"}},\"id\":\"eff2512d-7936-4d5e-89fd-f0bdeab58b46\",\"type\":\"GlyphRenderer\"},{\"attributes\":{\"fill_color\":{\"value\":\"blue\"},\"line_color\":{\"value\":\"blue\"},\"size\":{\"units\":\"screen\",\"value\":15},\"x\":{\"value\":1.5},\"y\":{\"value\":0.4}},\"id\":\"88f4c3e2-ed7d-47b0-8e47-fc551aebd2f9\",\"type\":\"Circle\"},{\"attributes\":{\"fill_alpha\":{\"value\":0.1},\"fill_color\":{\"value\":\"#1f77b4\"},\"line_alpha\":{\"value\":0.1},\"line_color\":{\"value\":\"#1f77b4\"},\"size\":{\"units\":\"screen\",\"value\":15},\"x\":{\"value\":3.6},\"y\":{\"value\":1.3}},\"id\":\"899bb1d5-1edd-4f1e-95b9-c76577b1f858\",\"type\":\"Circle\"},{\"attributes\":{\"fill_alpha\":{\"value\":0.1},\"fill_color\":{\"value\":\"#1f77b4\"},\"line_alpha\":{\"value\":0.1},\"line_color\":{\"value\":\"#1f77b4\"},\"size\":{\"units\":\"screen\",\"value\":15},\"x\":{\"value\":1.5},\"y\":{\"value\":0.4}},\"id\":\"d7aead90-6ce5-499b-a474-5405d2d4bcf8\",\"type\":\"Circle\"},{\"attributes\":{\"source\":{\"id\":\"5f49d7a3-64c5-4cd2-9e4d-1416f27287e9\",\"type\":\"ColumnDataSource\"}},\"id\":\"1adb035a-5402-461e-bf94-3d7c72ae1911\",\"type\":\"CDSView\"},{\"attributes\":{\"callback\":null,\"data\":{}},\"id\":\"2c75b083-76e5-4cb3-b552-385b7a771145\",\"type\":\"ColumnDataSource\"},{\"attributes\":{\"data_source\":{\"id\":\"2c75b083-76e5-4cb3-b552-385b7a771145\",\"type\":\"ColumnDataSource\"},\"glyph\":{\"id\":\"0d41f03a-190a-434e-82c4-8849f8620350\",\"type\":\"Circle\"},\"hover_glyph\":null,\"muted_glyph\":null,\"nonselection_glyph\":{\"id\":\"e365cd09-ab0d-429c-991e-609eb57ae0cc\",\"type\":\"Circle\"},\"selection_glyph\":null,\"view\":{\"id\":\"3db77a51-28dc-48f6-8865-5c89e9fe9891\",\"type\":\"CDSView\"}},\"id\":\"8cdb0449-1548-40cd-b0be-2b8dbec61b09\",\"type\":\"GlyphRenderer\"},{\"attributes\":{\"fill_color\":{\"value\":\"blue\"},\"line_color\":{\"value\":\"blue\"},\"size\":{\"units\":\"screen\",\"value\":15},\"x\":{\"value\":1.5},\"y\":{\"value\":0.2}},\"id\":\"3a605431-0416-495c-818a-fe1258214550\",\"type\":\"Circle\"},{\"attributes\":{\"callback\":null,\"data\":{}},\"id\":\"59bcf311-ad94-4e77-963a-933d1cddb4af\",\"type\":\"ColumnDataSource\"},{\"attributes\":{\"data_source\":{\"id\":\"59bcf311-ad94-4e77-963a-933d1cddb4af\",\"type\":\"ColumnDataSource\"},\"glyph\":{\"id\":\"7e9d7eec-7d55-451f-a72c-1989225ff3ea\",\"type\":\"Circle\"},\"hover_glyph\":null,\"muted_glyph\":null,\"nonselection_glyph\":{\"id\":\"8a07721e-01fb-4de2-88cf-776350941382\",\"type\":\"Circle\"},\"selection_glyph\":null,\"view\":{\"id\":\"03b3860e-bfb5-4111-83f0-c2035a7f4d83\",\"type\":\"CDSView\"}},\"id\":\"9717bf24-7271-4fda-86ac-2699689d80f4\",\"type\":\"GlyphRenderer\"},{\"attributes\":{\"fill_alpha\":{\"value\":0.1},\"fill_color\":{\"value\":\"#1f77b4\"},\"line_alpha\":{\"value\":0.1},\"line_color\":{\"value\":\"#1f77b4\"},\"size\":{\"units\":\"screen\",\"value\":15},\"x\":{\"value\":1.5},\"y\":{\"value\":0.2}},\"id\":\"f96a8d35-27ce-4825-965c-c27a88e5c8ba\",\"type\":\"Circle\"},{\"attributes\":{\"source\":{\"id\":\"9a0ee7d5-a18c-4bfc-8601-33dfaffb510b\",\"type\":\"ColumnDataSource\"}},\"id\":\"b2b98de4-b63c-42ce-b07f-53b59417d94c\",\"type\":\"CDSView\"},{\"attributes\":{\"callback\":null,\"data\":{}},\"id\":\"76e343ef-42a2-4e72-a928-cc7116ebee6c\",\"type\":\"ColumnDataSource\"},{\"attributes\":{\"source\":{\"id\":\"47a834aa-772a-45ed-b58d-9200cdd71e41\",\"type\":\"ColumnDataSource\"}},\"id\":\"3012de7d-de8f-4a20-b424-3c8017c3847e\",\"type\":\"CDSView\"},{\"attributes\":{\"fill_color\":{\"value\":\"purple\"},\"line_color\":{\"value\":\"purple\"},\"size\":{\"units\":\"screen\",\"value\":15},\"x\":{\"value\":4.4},\"y\":{\"value\":1.4}},\"id\":\"0d41f03a-190a-434e-82c4-8849f8620350\",\"type\":\"Circle\"},{\"attributes\":{\"data_source\":{\"id\":\"76e343ef-42a2-4e72-a928-cc7116ebee6c\",\"type\":\"ColumnDataSource\"},\"glyph\":{\"id\":\"61d1c9fe-5f34-48c4-99ea-5d8eef72deb1\",\"type\":\"Circle\"},\"hover_glyph\":null,\"muted_glyph\":null,\"nonselection_glyph\":{\"id\":\"2ddd52a7-35fb-447c-9143-fc0f58a61663\",\"type\":\"Circle\"},\"selection_glyph\":null,\"view\":{\"id\":\"db27185a-3777-42a9-9291-25518076eb46\",\"type\":\"CDSView\"}},\"id\":\"bef5783b-1ea4-4178-8b5f-279fb829d0f1\",\"type\":\"GlyphRenderer\"},{\"attributes\":{\"fill_color\":{\"value\":\"blue\"},\"line_color\":{\"value\":\"blue\"},\"size\":{\"units\":\"screen\",\"value\":15},\"x\":{\"value\":1.0},\"y\":{\"value\":0.2}},\"id\":\"7e9d7eec-7d55-451f-a72c-1989225ff3ea\",\"type\":\"Circle\"},{\"attributes\":{\"fill_alpha\":{\"value\":0.1},\"fill_color\":{\"value\":\"#1f77b4\"},\"line_alpha\":{\"value\":0.1},\"line_color\":{\"value\":\"#1f77b4\"},\"size\":{\"units\":\"screen\",\"value\":15},\"x\":{\"value\":4.4},\"y\":{\"value\":1.4}},\"id\":\"e365cd09-ab0d-429c-991e-609eb57ae0cc\",\"type\":\"Circle\"},{\"attributes\":{\"source\":{\"id\":\"9ad43be5-8687-4479-acdc-7854e014255e\",\"type\":\"ColumnDataSource\"}},\"id\":\"02159587-3b20-4766-8d7c-b9b0caf84c9b\",\"type\":\"CDSView\"},{\"attributes\":{\"fill_alpha\":{\"value\":0.1},\"fill_color\":{\"value\":\"#1f77b4\"},\"line_alpha\":{\"value\":0.1},\"line_color\":{\"value\":\"#1f77b4\"},\"size\":{\"units\":\"screen\",\"value\":15},\"x\":{\"value\":1.0},\"y\":{\"value\":0.2}},\"id\":\"8a07721e-01fb-4de2-88cf-776350941382\",\"type\":\"Circle\"},{\"attributes\":{\"callback\":null,\"data\":{}},\"id\":\"930d18ef-ba03-4c74-a547-5d12a277a6db\",\"type\":\"ColumnDataSource\"},{\"attributes\":{\"data_source\":{\"id\":\"930d18ef-ba03-4c74-a547-5d12a277a6db\",\"type\":\"ColumnDataSource\"},\"glyph\":{\"id\":\"17746855-54c3-4768-a5c6-587cb8edeb68\",\"type\":\"Circle\"},\"hover_glyph\":null,\"muted_glyph\":null,\"nonselection_glyph\":{\"id\":\"f2e9f29c-f50b-49dd-ae81-0f7800bf26be\",\"type\":\"Circle\"},\"selection_glyph\":null,\"view\":{\"id\":\"94b1c1c5-2223-4dfa-b8ec-1ca48ed492c2\",\"type\":\"CDSView\"}},\"id\":\"5124eacd-e2d7-44e5-89f8-ade10e78954d\",\"type\":\"GlyphRenderer\"},{\"attributes\":{\"fill_color\":{\"value\":\"blue\"},\"line_color\":{\"value\":\"blue\"},\"size\":{\"units\":\"screen\",\"value\":15},\"x\":{\"value\":1.4},\"y\":{\"value\":0.2}},\"id\":\"61d1c9fe-5f34-48c4-99ea-5d8eef72deb1\",\"type\":\"Circle\"},{\"attributes\":{\"callback\":null,\"data\":{}},\"id\":\"0e038ab6-0200-4018-aa1f-f18e7d7a3723\",\"type\":\"ColumnDataSource\"},{\"attributes\":{\"data_source\":{\"id\":\"0e038ab6-0200-4018-aa1f-f18e7d7a3723\",\"type\":\"ColumnDataSource\"},\"glyph\":{\"id\":\"c8293d79-3c28-449e-a60e-b5c5a127241a\",\"type\":\"Circle\"},\"hover_glyph\":null,\"muted_glyph\":null,\"nonselection_glyph\":{\"id\":\"13d49846-1e94-4def-8530-91944042a889\",\"type\":\"Circle\"},\"selection_glyph\":null,\"view\":{\"id\":\"eaa26267-29b4-4203-8091-41092953def4\",\"type\":\"CDSView\"}},\"id\":\"61e98c35-9f7c-4268-ba7f-480f99f31901\",\"type\":\"GlyphRenderer\"},{\"attributes\":{\"fill_alpha\":{\"value\":0.1},\"fill_color\":{\"value\":\"#1f77b4\"},\"line_alpha\":{\"value\":0.1},\"line_color\":{\"value\":\"#1f77b4\"},\"size\":{\"units\":\"screen\",\"value\":15},\"x\":{\"value\":1.4},\"y\":{\"value\":0.2}},\"id\":\"2ddd52a7-35fb-447c-9143-fc0f58a61663\",\"type\":\"Circle\"},{\"attributes\":{\"source\":{\"id\":\"2c75b083-76e5-4cb3-b552-385b7a771145\",\"type\":\"ColumnDataSource\"}},\"id\":\"3db77a51-28dc-48f6-8865-5c89e9fe9891\",\"type\":\"CDSView\"},{\"attributes\":{\"callback\":null,\"data\":{}},\"id\":\"4c9fb2e8-9886-4466-8ac1-17217132547e\",\"type\":\"ColumnDataSource\"},{\"attributes\":{\"source\":{\"id\":\"59bcf311-ad94-4e77-963a-933d1cddb4af\",\"type\":\"ColumnDataSource\"}},\"id\":\"03b3860e-bfb5-4111-83f0-c2035a7f4d83\",\"type\":\"CDSView\"},{\"attributes\":{\"fill_color\":{\"value\":\"purple\"},\"line_color\":{\"value\":\"purple\"},\"size\":{\"units\":\"screen\",\"value\":15},\"x\":{\"value\":4.5},\"y\":{\"value\":1.5}},\"id\":\"17746855-54c3-4768-a5c6-587cb8edeb68\",\"type\":\"Circle\"},{\"attributes\":{\"data_source\":{\"id\":\"4c9fb2e8-9886-4466-8ac1-17217132547e\",\"type\":\"ColumnDataSource\"},\"glyph\":{\"id\":\"205414cf-0f65-4196-85ab-0c1e95677f39\",\"type\":\"Circle\"},\"hover_glyph\":null,\"muted_glyph\":null,\"nonselection_glyph\":{\"id\":\"31fe1126-84a9-4f35-af9b-1459e0840173\",\"type\":\"Circle\"},\"selection_glyph\":null,\"view\":{\"id\":\"d7f9bc2a-a25a-4ab2-b504-f51c8ab5f880\",\"type\":\"CDSView\"}},\"id\":\"57e5d625-d52b-4f21-b49e-69c8f364d9f3\",\"type\":\"GlyphRenderer\"},{\"attributes\":{\"fill_color\":{\"value\":\"blue\"},\"line_color\":{\"value\":\"blue\"},\"size\":{\"units\":\"screen\",\"value\":15},\"x\":{\"value\":1.7},\"y\":{\"value\":0.5}},\"id\":\"c8293d79-3c28-449e-a60e-b5c5a127241a\",\"type\":\"Circle\"},{\"attributes\":{\"fill_alpha\":{\"value\":0.1},\"fill_color\":{\"value\":\"#1f77b4\"},\"line_alpha\":{\"value\":0.1},\"line_color\":{\"value\":\"#1f77b4\"},\"size\":{\"units\":\"screen\",\"value\":15},\"x\":{\"value\":4.5},\"y\":{\"value\":1.5}},\"id\":\"f2e9f29c-f50b-49dd-ae81-0f7800bf26be\",\"type\":\"Circle\"},{\"attributes\":{\"source\":{\"id\":\"76e343ef-42a2-4e72-a928-cc7116ebee6c\",\"type\":\"ColumnDataSource\"}},\"id\":\"db27185a-3777-42a9-9291-25518076eb46\",\"type\":\"CDSView\"},{\"attributes\":{\"fill_alpha\":{\"value\":0.1},\"fill_color\":{\"value\":\"#1f77b4\"},\"line_alpha\":{\"value\":0.1},\"line_color\":{\"value\":\"#1f77b4\"},\"size\":{\"units\":\"screen\",\"value\":15},\"x\":{\"value\":1.7},\"y\":{\"value\":0.5}},\"id\":\"13d49846-1e94-4def-8530-91944042a889\",\"type\":\"Circle\"},{\"attributes\":{\"callback\":null,\"data\":{}},\"id\":\"753b91fa-721c-4ed1-9b02-5d959008ab59\",\"type\":\"ColumnDataSource\"},{\"attributes\":{\"data_source\":{\"id\":\"753b91fa-721c-4ed1-9b02-5d959008ab59\",\"type\":\"ColumnDataSource\"},\"glyph\":{\"id\":\"30636e26-cad8-4494-8e95-7c81df453282\",\"type\":\"Circle\"},\"hover_glyph\":null,\"muted_glyph\":null,\"nonselection_glyph\":{\"id\":\"06eb257f-50cb-4c3a-b1a3-0e65f48f0562\",\"type\":\"Circle\"},\"selection_glyph\":null,\"view\":{\"id\":\"f20ab140-60ea-4556-a818-5e61afb7f3a5\",\"type\":\"CDSView\"}},\"id\":\"a787aba8-489e-423b-a4ff-21c5aa4da716\",\"type\":\"GlyphRenderer\"},{\"attributes\":{\"fill_color\":{\"value\":\"blue\"},\"line_color\":{\"value\":\"blue\"},\"size\":{\"units\":\"screen\",\"value\":15},\"x\":{\"value\":1.5},\"y\":{\"value\":0.1}},\"id\":\"205414cf-0f65-4196-85ab-0c1e95677f39\",\"type\":\"Circle\"},{\"attributes\":{\"callback\":null,\"data\":{}},\"id\":\"80e98e68-132e-4bb0-b5b7-c3bcbeab55fb\",\"type\":\"ColumnDataSource\"},{\"attributes\":{\"data_source\":{\"id\":\"80e98e68-132e-4bb0-b5b7-c3bcbeab55fb\",\"type\":\"ColumnDataSource\"},\"glyph\":{\"id\":\"5fc0e842-4397-433a-a52e-aed3aeb23160\",\"type\":\"Circle\"},\"hover_glyph\":null,\"muted_glyph\":null,\"nonselection_glyph\":{\"id\":\"e5065071-ac47-4dcf-827e-5d1262c0ff9d\",\"type\":\"Circle\"},\"selection_glyph\":null,\"view\":{\"id\":\"1f74a830-d3f8-4253-a6b1-f898fa576625\",\"type\":\"CDSView\"}},\"id\":\"31440c04-f308-4ad1-a8cb-cc2a705e26c8\",\"type\":\"GlyphRenderer\"},{\"attributes\":{\"fill_alpha\":{\"value\":0.1},\"fill_color\":{\"value\":\"#1f77b4\"},\"line_alpha\":{\"value\":0.1},\"line_color\":{\"value\":\"#1f77b4\"},\"size\":{\"units\":\"screen\",\"value\":15},\"x\":{\"value\":1.5},\"y\":{\"value\":0.1}},\"id\":\"31fe1126-84a9-4f35-af9b-1459e0840173\",\"type\":\"Circle\"},{\"attributes\":{\"source\":{\"id\":\"930d18ef-ba03-4c74-a547-5d12a277a6db\",\"type\":\"ColumnDataSource\"}},\"id\":\"94b1c1c5-2223-4dfa-b8ec-1ca48ed492c2\",\"type\":\"CDSView\"},{\"attributes\":{\"callback\":null,\"data\":{}},\"id\":\"ffe23447-fb27-422d-84f8-5a41868e503b\",\"type\":\"ColumnDataSource\"},{\"attributes\":{\"source\":{\"id\":\"0e038ab6-0200-4018-aa1f-f18e7d7a3723\",\"type\":\"ColumnDataSource\"}},\"id\":\"eaa26267-29b4-4203-8091-41092953def4\",\"type\":\"CDSView\"},{\"attributes\":{\"fill_color\":{\"value\":\"purple\"},\"line_color\":{\"value\":\"purple\"},\"size\":{\"units\":\"screen\",\"value\":15},\"x\":{\"value\":4.1},\"y\":{\"value\":1.0}},\"id\":\"30636e26-cad8-4494-8e95-7c81df453282\",\"type\":\"Circle\"},{\"attributes\":{\"data_source\":{\"id\":\"ffe23447-fb27-422d-84f8-5a41868e503b\",\"type\":\"ColumnDataSource\"},\"glyph\":{\"id\":\"40ded59c-4342-4465-bae7-d2698ea564c4\",\"type\":\"Circle\"},\"hover_glyph\":null,\"muted_glyph\":null,\"nonselection_glyph\":{\"id\":\"8e66c90d-5bc6-4224-b1e5-5eabd20f7118\",\"type\":\"Circle\"},\"selection_glyph\":null,\"view\":{\"id\":\"d621c0d1-06b4-4d77-92c0-f6de8e5d53ae\",\"type\":\"CDSView\"}},\"id\":\"1244aa3b-ba33-4471-ad68-4727170f6571\",\"type\":\"GlyphRenderer\"},{\"attributes\":{\"fill_color\":{\"value\":\"blue\"},\"line_color\":{\"value\":\"blue\"},\"size\":{\"units\":\"screen\",\"value\":15},\"x\":{\"value\":1.9},\"y\":{\"value\":0.2}},\"id\":\"5fc0e842-4397-433a-a52e-aed3aeb23160\",\"type\":\"Circle\"},{\"attributes\":{\"fill_alpha\":{\"value\":0.1},\"fill_color\":{\"value\":\"#1f77b4\"},\"line_alpha\":{\"value\":0.1},\"line_color\":{\"value\":\"#1f77b4\"},\"size\":{\"units\":\"screen\",\"value\":15},\"x\":{\"value\":4.1},\"y\":{\"value\":1.0}},\"id\":\"06eb257f-50cb-4c3a-b1a3-0e65f48f0562\",\"type\":\"Circle\"},{\"attributes\":{\"source\":{\"id\":\"4c9fb2e8-9886-4466-8ac1-17217132547e\",\"type\":\"ColumnDataSource\"}},\"id\":\"d7f9bc2a-a25a-4ab2-b504-f51c8ab5f880\",\"type\":\"CDSView\"},{\"attributes\":{\"fill_alpha\":{\"value\":0.1},\"fill_color\":{\"value\":\"#1f77b4\"},\"line_alpha\":{\"value\":0.1},\"line_color\":{\"value\":\"#1f77b4\"},\"size\":{\"units\":\"screen\",\"value\":15},\"x\":{\"value\":1.9},\"y\":{\"value\":0.2}},\"id\":\"e5065071-ac47-4dcf-827e-5d1262c0ff9d\",\"type\":\"Circle\"},{\"attributes\":{\"callback\":null,\"data\":{}},\"id\":\"f8a2804c-f485-4429-a00e-f6b289b5be89\",\"type\":\"ColumnDataSource\"},{\"attributes\":{\"data_source\":{\"id\":\"f8a2804c-f485-4429-a00e-f6b289b5be89\",\"type\":\"ColumnDataSource\"},\"glyph\":{\"id\":\"d2d8f311-2bfd-4f04-96d0-18f68200e9c7\",\"type\":\"Circle\"},\"hover_glyph\":null,\"muted_glyph\":null,\"nonselection_glyph\":{\"id\":\"354e478b-d3c5-442e-87ff-5c8ad564001e\",\"type\":\"Circle\"},\"selection_glyph\":null,\"view\":{\"id\":\"8cd29d68-df28-4543-bf54-2c45c304f509\",\"type\":\"CDSView\"}},\"id\":\"906a49cc-2063-4a41-85cb-9427d5c70101\",\"type\":\"GlyphRenderer\"},{\"attributes\":{\"fill_color\":{\"value\":\"blue\"},\"line_color\":{\"value\":\"blue\"},\"size\":{\"units\":\"screen\",\"value\":15},\"x\":{\"value\":1.5},\"y\":{\"value\":0.2}},\"id\":\"40ded59c-4342-4465-bae7-d2698ea564c4\",\"type\":\"Circle\"},{\"attributes\":{\"callback\":null,\"data\":{}},\"id\":\"8a6cf82c-14b6-4b9d-ae1d-cddbd9c379f6\",\"type\":\"ColumnDataSource\"},{\"attributes\":{\"data_source\":{\"id\":\"8a6cf82c-14b6-4b9d-ae1d-cddbd9c379f6\",\"type\":\"ColumnDataSource\"},\"glyph\":{\"id\":\"b2c72ae5-0d98-4873-af28-e98a46b604cb\",\"type\":\"Circle\"},\"hover_glyph\":null,\"muted_glyph\":null,\"nonselection_glyph\":{\"id\":\"7858e827-0a84-494b-8880-28e6f8fd74de\",\"type\":\"Circle\"},\"selection_glyph\":null,\"view\":{\"id\":\"955eea9c-b392-4dcc-a73f-6008d6a222ab\",\"type\":\"CDSView\"}},\"id\":\"a6c5a1c3-4649-4bc7-8404-87f87592cb11\",\"type\":\"GlyphRenderer\"},{\"attributes\":{\"fill_alpha\":{\"value\":0.1},\"fill_color\":{\"value\":\"#1f77b4\"},\"line_alpha\":{\"value\":0.1},\"line_color\":{\"value\":\"#1f77b4\"},\"size\":{\"units\":\"screen\",\"value\":15},\"x\":{\"value\":1.5},\"y\":{\"value\":0.2}},\"id\":\"8e66c90d-5bc6-4224-b1e5-5eabd20f7118\",\"type\":\"Circle\"},{\"attributes\":{\"source\":{\"id\":\"753b91fa-721c-4ed1-9b02-5d959008ab59\",\"type\":\"ColumnDataSource\"}},\"id\":\"f20ab140-60ea-4556-a818-5e61afb7f3a5\",\"type\":\"CDSView\"},{\"attributes\":{\"callback\":null,\"data\":{}},\"id\":\"f2915b25-eb31-48e7-8f73-147289374dc8\",\"type\":\"ColumnDataSource\"},{\"attributes\":{\"source\":{\"id\":\"80e98e68-132e-4bb0-b5b7-c3bcbeab55fb\",\"type\":\"ColumnDataSource\"}},\"id\":\"1f74a830-d3f8-4253-a6b1-f898fa576625\",\"type\":\"CDSView\"},{\"attributes\":{\"fill_color\":{\"value\":\"purple\"},\"line_color\":{\"value\":\"purple\"},\"size\":{\"units\":\"screen\",\"value\":15},\"x\":{\"value\":4.5},\"y\":{\"value\":1.5}},\"id\":\"d2d8f311-2bfd-4f04-96d0-18f68200e9c7\",\"type\":\"Circle\"},{\"attributes\":{\"data_source\":{\"id\":\"f2915b25-eb31-48e7-8f73-147289374dc8\",\"type\":\"ColumnDataSource\"},\"glyph\":{\"id\":\"cb8342ff-e8e1-4548-9839-32323d4de843\",\"type\":\"Circle\"},\"hover_glyph\":null,\"muted_glyph\":null,\"nonselection_glyph\":{\"id\":\"49d4c009-2951-4663-a5c7-d52a6b5af49b\",\"type\":\"Circle\"},\"selection_glyph\":null,\"view\":{\"id\":\"db5e3fd5-d549-44a0-a5aa-7f67ab4462ed\",\"type\":\"CDSView\"}},\"id\":\"27419331-2cee-4956-b00b-389c88b0a0c3\",\"type\":\"GlyphRenderer\"},{\"attributes\":{\"fill_color\":{\"value\":\"blue\"},\"line_color\":{\"value\":\"blue\"},\"size\":{\"units\":\"screen\",\"value\":15},\"x\":{\"value\":1.6},\"y\":{\"value\":0.2}},\"id\":\"b2c72ae5-0d98-4873-af28-e98a46b604cb\",\"type\":\"Circle\"},{\"attributes\":{\"fill_alpha\":{\"value\":0.1},\"fill_color\":{\"value\":\"#1f77b4\"},\"line_alpha\":{\"value\":0.1},\"line_color\":{\"value\":\"#1f77b4\"},\"size\":{\"units\":\"screen\",\"value\":15},\"x\":{\"value\":4.5},\"y\":{\"value\":1.5}},\"id\":\"354e478b-d3c5-442e-87ff-5c8ad564001e\",\"type\":\"Circle\"},{\"attributes\":{\"source\":{\"id\":\"ffe23447-fb27-422d-84f8-5a41868e503b\",\"type\":\"ColumnDataSource\"}},\"id\":\"d621c0d1-06b4-4d77-92c0-f6de8e5d53ae\",\"type\":\"CDSView\"},{\"attributes\":{\"fill_alpha\":{\"value\":0.1},\"fill_color\":{\"value\":\"#1f77b4\"},\"line_alpha\":{\"value\":0.1},\"line_color\":{\"value\":\"#1f77b4\"},\"size\":{\"units\":\"screen\",\"value\":15},\"x\":{\"value\":1.6},\"y\":{\"value\":0.2}},\"id\":\"7858e827-0a84-494b-8880-28e6f8fd74de\",\"type\":\"Circle\"},{\"attributes\":{\"callback\":null,\"data\":{}},\"id\":\"355f34c8-48eb-4bf8-bb07-6c64ffefdef5\",\"type\":\"ColumnDataSource\"},{\"attributes\":{\"data_source\":{\"id\":\"355f34c8-48eb-4bf8-bb07-6c64ffefdef5\",\"type\":\"ColumnDataSource\"},\"glyph\":{\"id\":\"a37933a8-e824-4dcc-ad3c-487525eaf5a2\",\"type\":\"Circle\"},\"hover_glyph\":null,\"muted_glyph\":null,\"nonselection_glyph\":{\"id\":\"4671dc8e-b774-4f85-abc1-48df6ae512e1\",\"type\":\"Circle\"},\"selection_glyph\":null,\"view\":{\"id\":\"19ffae90-839a-4ac7-bf7a-995aa35bd4ff\",\"type\":\"CDSView\"}},\"id\":\"24412251-5474-4580-bdf7-19d7131a92dc\",\"type\":\"GlyphRenderer\"},{\"attributes\":{\"fill_color\":{\"value\":\"blue\"},\"line_color\":{\"value\":\"blue\"},\"size\":{\"units\":\"screen\",\"value\":15},\"x\":{\"value\":1.6},\"y\":{\"value\":0.2}},\"id\":\"cb8342ff-e8e1-4548-9839-32323d4de843\",\"type\":\"Circle\"},{\"attributes\":{\"callback\":null,\"data\":{}},\"id\":\"eba24df6-f074-49a7-8864-515e75bdcda6\",\"type\":\"ColumnDataSource\"},{\"attributes\":{\"data_source\":{\"id\":\"eba24df6-f074-49a7-8864-515e75bdcda6\",\"type\":\"ColumnDataSource\"},\"glyph\":{\"id\":\"c48b51b4-1690-46b3-873a-33d75552060e\",\"type\":\"Circle\"},\"hover_glyph\":null,\"muted_glyph\":null,\"nonselection_glyph\":{\"id\":\"198b7f37-1cc5-4e89-a4b1-ef806e22db4d\",\"type\":\"Circle\"},\"selection_glyph\":null,\"view\":{\"id\":\"23887be8-ced7-4801-aceb-5147290dcdb3\",\"type\":\"CDSView\"}},\"id\":\"26c947cf-619e-4625-84ae-73a88cad8127\",\"type\":\"GlyphRenderer\"},{\"attributes\":{\"fill_alpha\":{\"value\":0.1},\"fill_color\":{\"value\":\"#1f77b4\"},\"line_alpha\":{\"value\":0.1},\"line_color\":{\"value\":\"#1f77b4\"},\"size\":{\"units\":\"screen\",\"value\":15},\"x\":{\"value\":1.6},\"y\":{\"value\":0.2}},\"id\":\"49d4c009-2951-4663-a5c7-d52a6b5af49b\",\"type\":\"Circle\"},{\"attributes\":{\"source\":{\"id\":\"f8a2804c-f485-4429-a00e-f6b289b5be89\",\"type\":\"ColumnDataSource\"}},\"id\":\"8cd29d68-df28-4543-bf54-2c45c304f509\",\"type\":\"CDSView\"},{\"attributes\":{\"callback\":null,\"data\":{}},\"id\":\"dfcd3c1b-34d3-427e-acf4-2898e5372b91\",\"type\":\"ColumnDataSource\"},{\"attributes\":{\"source\":{\"id\":\"8a6cf82c-14b6-4b9d-ae1d-cddbd9c379f6\",\"type\":\"ColumnDataSource\"}},\"id\":\"955eea9c-b392-4dcc-a73f-6008d6a222ab\",\"type\":\"CDSView\"},{\"attributes\":{\"fill_color\":{\"value\":\"purple\"},\"line_color\":{\"value\":\"purple\"},\"size\":{\"units\":\"screen\",\"value\":15},\"x\":{\"value\":3.9},\"y\":{\"value\":1.1}},\"id\":\"a37933a8-e824-4dcc-ad3c-487525eaf5a2\",\"type\":\"Circle\"},{\"attributes\":{\"data_source\":{\"id\":\"dfcd3c1b-34d3-427e-acf4-2898e5372b91\",\"type\":\"ColumnDataSource\"},\"glyph\":{\"id\":\"811fe65e-4cd5-4f46-96e8-cd10756efb80\",\"type\":\"Circle\"},\"hover_glyph\":null,\"muted_glyph\":null,\"nonselection_glyph\":{\"id\":\"9066d5fc-6110-45a2-b724-d253084b9db9\",\"type\":\"Circle\"},\"selection_glyph\":null,\"view\":{\"id\":\"bd3b6a4a-b6f4-45a9-8a7f-3ccbc48225c8\",\"type\":\"CDSView\"}},\"id\":\"2f33db4f-62e2-4710-9171-6f2cb0907acb\",\"type\":\"GlyphRenderer\"},{\"attributes\":{\"fill_color\":{\"value\":\"blue\"},\"line_color\":{\"value\":\"blue\"},\"size\":{\"units\":\"screen\",\"value\":15},\"x\":{\"value\":1.6},\"y\":{\"value\":0.4}},\"id\":\"c48b51b4-1690-46b3-873a-33d75552060e\",\"type\":\"Circle\"},{\"attributes\":{\"fill_alpha\":{\"value\":0.1},\"fill_color\":{\"value\":\"#1f77b4\"},\"line_alpha\":{\"value\":0.1},\"line_color\":{\"value\":\"#1f77b4\"},\"size\":{\"units\":\"screen\",\"value\":15},\"x\":{\"value\":3.9},\"y\":{\"value\":1.1}},\"id\":\"4671dc8e-b774-4f85-abc1-48df6ae512e1\",\"type\":\"Circle\"},{\"attributes\":{\"source\":{\"id\":\"f2915b25-eb31-48e7-8f73-147289374dc8\",\"type\":\"ColumnDataSource\"}},\"id\":\"db5e3fd5-d549-44a0-a5aa-7f67ab4462ed\",\"type\":\"CDSView\"},{\"attributes\":{\"fill_alpha\":{\"value\":0.1},\"fill_color\":{\"value\":\"#1f77b4\"},\"line_alpha\":{\"value\":0.1},\"line_color\":{\"value\":\"#1f77b4\"},\"size\":{\"units\":\"screen\",\"value\":15},\"x\":{\"value\":1.6},\"y\":{\"value\":0.4}},\"id\":\"198b7f37-1cc5-4e89-a4b1-ef806e22db4d\",\"type\":\"Circle\"},{\"attributes\":{\"callback\":null,\"data\":{}},\"id\":\"f00c3b44-daaf-478e-b16a-1691bc1e4a8e\",\"type\":\"ColumnDataSource\"},{\"attributes\":{\"data_source\":{\"id\":\"f00c3b44-daaf-478e-b16a-1691bc1e4a8e\",\"type\":\"ColumnDataSource\"},\"glyph\":{\"id\":\"3016c565-4bd5-4a1c-9eed-477d7d82d408\",\"type\":\"Circle\"},\"hover_glyph\":null,\"muted_glyph\":null,\"nonselection_glyph\":{\"id\":\"7d131023-eae7-422d-9860-0f558d6c6a58\",\"type\":\"Circle\"},\"selection_glyph\":null,\"view\":{\"id\":\"64faee82-55c1-403d-866b-4ae9068fcb3e\",\"type\":\"CDSView\"}},\"id\":\"cbd4c616-19cd-4617-b8ca-e1b779afac83\",\"type\":\"GlyphRenderer\"},{\"attributes\":{\"fill_color\":{\"value\":\"blue\"},\"line_color\":{\"value\":\"blue\"},\"size\":{\"units\":\"screen\",\"value\":15},\"x\":{\"value\":1.4},\"y\":{\"value\":0.1}},\"id\":\"811fe65e-4cd5-4f46-96e8-cd10756efb80\",\"type\":\"Circle\"},{\"attributes\":{\"callback\":null,\"data\":{}},\"id\":\"fa9214b7-032d-48db-a145-35c684b01206\",\"type\":\"ColumnDataSource\"},{\"attributes\":{\"data_source\":{\"id\":\"fa9214b7-032d-48db-a145-35c684b01206\",\"type\":\"ColumnDataSource\"},\"glyph\":{\"id\":\"51006ca1-8e76-4201-91dc-fa559df1a758\",\"type\":\"Circle\"},\"hover_glyph\":null,\"muted_glyph\":null,\"nonselection_glyph\":{\"id\":\"afb0a9e5-4e6e-4802-b0a2-3a91e10a049f\",\"type\":\"Circle\"},\"selection_glyph\":null,\"view\":{\"id\":\"88055c61-93f7-4a14-aa18-c1f0be148d60\",\"type\":\"CDSView\"}},\"id\":\"152ed219-d844-4138-a34a-a500fa347850\",\"type\":\"GlyphRenderer\"},{\"attributes\":{\"fill_alpha\":{\"value\":0.1},\"fill_color\":{\"value\":\"#1f77b4\"},\"line_alpha\":{\"value\":0.1},\"line_color\":{\"value\":\"#1f77b4\"},\"size\":{\"units\":\"screen\",\"value\":15},\"x\":{\"value\":1.4},\"y\":{\"value\":0.1}},\"id\":\"9066d5fc-6110-45a2-b724-d253084b9db9\",\"type\":\"Circle\"},{\"attributes\":{\"source\":{\"id\":\"355f34c8-48eb-4bf8-bb07-6c64ffefdef5\",\"type\":\"ColumnDataSource\"}},\"id\":\"19ffae90-839a-4ac7-bf7a-995aa35bd4ff\",\"type\":\"CDSView\"},{\"attributes\":{\"callback\":null,\"data\":{}},\"id\":\"d5f9606e-9fe8-411a-b338-1e6e75fd95f7\",\"type\":\"ColumnDataSource\"},{\"attributes\":{\"source\":{\"id\":\"eba24df6-f074-49a7-8864-515e75bdcda6\",\"type\":\"ColumnDataSource\"}},\"id\":\"23887be8-ced7-4801-aceb-5147290dcdb3\",\"type\":\"CDSView\"},{\"attributes\":{\"fill_color\":{\"value\":\"purple\"},\"line_color\":{\"value\":\"purple\"},\"size\":{\"units\":\"screen\",\"value\":15},\"x\":{\"value\":4.8},\"y\":{\"value\":1.8}},\"id\":\"3016c565-4bd5-4a1c-9eed-477d7d82d408\",\"type\":\"Circle\"},{\"attributes\":{\"data_source\":{\"id\":\"d5f9606e-9fe8-411a-b338-1e6e75fd95f7\",\"type\":\"ColumnDataSource\"},\"glyph\":{\"id\":\"02be4dfc-c812-4bba-857a-92eaff428bc9\",\"type\":\"Circle\"},\"hover_glyph\":null,\"muted_glyph\":null,\"nonselection_glyph\":{\"id\":\"15b72485-fa54-483b-b8eb-07905a98d6ac\",\"type\":\"Circle\"},\"selection_glyph\":null,\"view\":{\"id\":\"1698629e-90ca-4bee-a8d2-a644364a0a5e\",\"type\":\"CDSView\"}},\"id\":\"f03a3218-964b-4593-9924-e4530faf54c2\",\"type\":\"GlyphRenderer\"},{\"attributes\":{\"fill_color\":{\"value\":\"blue\"},\"line_color\":{\"value\":\"blue\"},\"size\":{\"units\":\"screen\",\"value\":15},\"x\":{\"value\":1.5},\"y\":{\"value\":0.2}},\"id\":\"51006ca1-8e76-4201-91dc-fa559df1a758\",\"type\":\"Circle\"},{\"attributes\":{\"fill_alpha\":{\"value\":0.1},\"fill_color\":{\"value\":\"#1f77b4\"},\"line_alpha\":{\"value\":0.1},\"line_color\":{\"value\":\"#1f77b4\"},\"size\":{\"units\":\"screen\",\"value\":15},\"x\":{\"value\":4.8},\"y\":{\"value\":1.8}},\"id\":\"7d131023-eae7-422d-9860-0f558d6c6a58\",\"type\":\"Circle\"},{\"attributes\":{\"source\":{\"id\":\"dfcd3c1b-34d3-427e-acf4-2898e5372b91\",\"type\":\"ColumnDataSource\"}},\"id\":\"bd3b6a4a-b6f4-45a9-8a7f-3ccbc48225c8\",\"type\":\"CDSView\"},{\"attributes\":{\"fill_alpha\":{\"value\":0.1},\"fill_color\":{\"value\":\"#1f77b4\"},\"line_alpha\":{\"value\":0.1},\"line_color\":{\"value\":\"#1f77b4\"},\"size\":{\"units\":\"screen\",\"value\":15},\"x\":{\"value\":1.5},\"y\":{\"value\":0.2}},\"id\":\"afb0a9e5-4e6e-4802-b0a2-3a91e10a049f\",\"type\":\"Circle\"},{\"attributes\":{\"callback\":null,\"data\":{}},\"id\":\"bde52eac-b1d7-4b8c-81e6-38aa2d6a40fb\",\"type\":\"ColumnDataSource\"},{\"attributes\":{\"callback\":null,\"data\":{}},\"id\":\"49367d35-c1f5-4c9a-a917-ac9facce6ed1\",\"type\":\"ColumnDataSource\"},{\"attributes\":{\"data_source\":{\"id\":\"bde52eac-b1d7-4b8c-81e6-38aa2d6a40fb\",\"type\":\"ColumnDataSource\"},\"glyph\":{\"id\":\"ee1937da-584c-4592-83d7-1fc71cc74b02\",\"type\":\"Circle\"},\"hover_glyph\":null,\"muted_glyph\":null,\"nonselection_glyph\":{\"id\":\"ebc57ca1-d64c-4d6b-aba6-5e049aead724\",\"type\":\"Circle\"},\"selection_glyph\":null,\"view\":{\"id\":\"d492fb4f-0731-4a9e-8bda-a5d904bdfcbd\",\"type\":\"CDSView\"}},\"id\":\"d395afca-314a-4d3f-9096-bfe49f911d2b\",\"type\":\"GlyphRenderer\"},{\"attributes\":{\"fill_color\":{\"value\":\"blue\"},\"line_color\":{\"value\":\"blue\"},\"size\":{\"units\":\"screen\",\"value\":15},\"x\":{\"value\":1.1},\"y\":{\"value\":0.1}},\"id\":\"02be4dfc-c812-4bba-857a-92eaff428bc9\",\"type\":\"Circle\"},{\"attributes\":{\"data_source\":{\"id\":\"49367d35-c1f5-4c9a-a917-ac9facce6ed1\",\"type\":\"ColumnDataSource\"},\"glyph\":{\"id\":\"cb5f3943-a007-4374-a3f6-e00aa8d8dbd3\",\"type\":\"Circle\"},\"hover_glyph\":null,\"muted_glyph\":null,\"nonselection_glyph\":{\"id\":\"eb3d586a-4b91-4239-a70c-fae6e6cfd411\",\"type\":\"Circle\"},\"selection_glyph\":null,\"view\":{\"id\":\"92a884b6-5622-4d49-b1bc-755efe0ee80b\",\"type\":\"CDSView\"}},\"id\":\"43aa380a-1d87-4b37-ba76-0c0231b9aa08\",\"type\":\"GlyphRenderer\"},{\"attributes\":{\"fill_alpha\":{\"value\":0.1},\"fill_color\":{\"value\":\"#1f77b4\"},\"line_alpha\":{\"value\":0.1},\"line_color\":{\"value\":\"#1f77b4\"},\"size\":{\"units\":\"screen\",\"value\":15},\"x\":{\"value\":1.1},\"y\":{\"value\":0.1}},\"id\":\"15b72485-fa54-483b-b8eb-07905a98d6ac\",\"type\":\"Circle\"},{\"attributes\":{\"source\":{\"id\":\"f00c3b44-daaf-478e-b16a-1691bc1e4a8e\",\"type\":\"ColumnDataSource\"}},\"id\":\"64faee82-55c1-403d-866b-4ae9068fcb3e\",\"type\":\"CDSView\"},{\"attributes\":{\"callback\":null,\"data\":{}},\"id\":\"1228b4c8-7db7-4788-9f24-7680af5f327c\",\"type\":\"ColumnDataSource\"},{\"attributes\":{\"source\":{\"id\":\"fa9214b7-032d-48db-a145-35c684b01206\",\"type\":\"ColumnDataSource\"}},\"id\":\"88055c61-93f7-4a14-aa18-c1f0be148d60\",\"type\":\"CDSView\"},{\"attributes\":{\"fill_color\":{\"value\":\"purple\"},\"line_color\":{\"value\":\"purple\"},\"size\":{\"units\":\"screen\",\"value\":15},\"x\":{\"value\":4.0},\"y\":{\"value\":1.3}},\"id\":\"ee1937da-584c-4592-83d7-1fc71cc74b02\",\"type\":\"Circle\"},{\"attributes\":{\"data_source\":{\"id\":\"1228b4c8-7db7-4788-9f24-7680af5f327c\",\"type\":\"ColumnDataSource\"},\"glyph\":{\"id\":\"752fcbdd-89d9-47a5-9ac6-eacc8beec4db\",\"type\":\"Circle\"},\"hover_glyph\":null,\"muted_glyph\":null,\"nonselection_glyph\":{\"id\":\"6e207132-d4bd-4f5a-8b35-60b3c989c92e\",\"type\":\"Circle\"},\"selection_glyph\":null,\"view\":{\"id\":\"b733ad2c-bfe9-4de9-86c0-b4c10ea48dd2\",\"type\":\"CDSView\"}},\"id\":\"ca8c4c68-6584-48e9-acb2-ca2e718c17f2\",\"type\":\"GlyphRenderer\"},{\"attributes\":{\"fill_color\":{\"value\":\"blue\"},\"line_color\":{\"value\":\"blue\"},\"size\":{\"units\":\"screen\",\"value\":15},\"x\":{\"value\":1.4},\"y\":{\"value\":0.2}},\"id\":\"cb5f3943-a007-4374-a3f6-e00aa8d8dbd3\",\"type\":\"Circle\"},{\"attributes\":{\"fill_alpha\":{\"value\":0.1},\"fill_color\":{\"value\":\"#1f77b4\"},\"line_alpha\":{\"value\":0.1},\"line_color\":{\"value\":\"#1f77b4\"},\"size\":{\"units\":\"screen\",\"value\":15},\"x\":{\"value\":4.0},\"y\":{\"value\":1.3}},\"id\":\"ebc57ca1-d64c-4d6b-aba6-5e049aead724\",\"type\":\"Circle\"},{\"attributes\":{\"source\":{\"id\":\"d5f9606e-9fe8-411a-b338-1e6e75fd95f7\",\"type\":\"ColumnDataSource\"}},\"id\":\"1698629e-90ca-4bee-a8d2-a644364a0a5e\",\"type\":\"CDSView\"},{\"attributes\":{\"fill_alpha\":{\"value\":0.1},\"fill_color\":{\"value\":\"#1f77b4\"},\"line_alpha\":{\"value\":0.1},\"line_color\":{\"value\":\"#1f77b4\"},\"size\":{\"units\":\"screen\",\"value\":15},\"x\":{\"value\":1.4},\"y\":{\"value\":0.2}},\"id\":\"eb3d586a-4b91-4239-a70c-fae6e6cfd411\",\"type\":\"Circle\"},{\"attributes\":{\"callback\":null,\"data\":{}},\"id\":\"a034b55c-ebc3-418d-8dd9-101a06aaca79\",\"type\":\"ColumnDataSource\"},{\"attributes\":{\"data_source\":{\"id\":\"a034b55c-ebc3-418d-8dd9-101a06aaca79\",\"type\":\"ColumnDataSource\"},\"glyph\":{\"id\":\"3ee84862-f640-48c2-b00f-4fa3fe53db2b\",\"type\":\"Circle\"},\"hover_glyph\":null,\"muted_glyph\":null,\"nonselection_glyph\":{\"id\":\"61ad523d-9736-4768-99ac-be0b6d2084ff\",\"type\":\"Circle\"},\"selection_glyph\":null,\"view\":{\"id\":\"ee446b28-0053-408f-8462-1fb08b743800\",\"type\":\"CDSView\"}},\"id\":\"8c37e473-e972-463e-aac3-46e11dc8cd93\",\"type\":\"GlyphRenderer\"},{\"attributes\":{\"fill_color\":{\"value\":\"blue\"},\"line_color\":{\"value\":\"blue\"},\"size\":{\"units\":\"screen\",\"value\":15},\"x\":{\"value\":1.2},\"y\":{\"value\":0.2}},\"id\":\"752fcbdd-89d9-47a5-9ac6-eacc8beec4db\",\"type\":\"Circle\"},{\"attributes\":{\"callback\":null,\"data\":{}},\"id\":\"644b4498-fdba-45cd-9b76-8a4f35b7497f\",\"type\":\"ColumnDataSource\"},{\"attributes\":{\"data_source\":{\"id\":\"644b4498-fdba-45cd-9b76-8a4f35b7497f\",\"type\":\"ColumnDataSource\"},\"glyph\":{\"id\":\"5099d61c-70f0-48e5-97f5-0b5e5b7fa949\",\"type\":\"Circle\"},\"hover_glyph\":null,\"muted_glyph\":null,\"nonselection_glyph\":{\"id\":\"08587fe3-195f-4f86-8af7-69f4d29efca4\",\"type\":\"Circle\"},\"selection_glyph\":null,\"view\":{\"id\":\"ea92ae80-b2ba-4776-aeda-2184b758da1a\",\"type\":\"CDSView\"}},\"id\":\"45c02dcc-93a1-42eb-bbbc-686a961c09bd\",\"type\":\"GlyphRenderer\"},{\"attributes\":{\"fill_alpha\":{\"value\":0.1},\"fill_color\":{\"value\":\"#1f77b4\"},\"line_alpha\":{\"value\":0.1},\"line_color\":{\"value\":\"#1f77b4\"},\"size\":{\"units\":\"screen\",\"value\":15},\"x\":{\"value\":1.2},\"y\":{\"value\":0.2}},\"id\":\"6e207132-d4bd-4f5a-8b35-60b3c989c92e\",\"type\":\"Circle\"},{\"attributes\":{\"source\":{\"id\":\"bde52eac-b1d7-4b8c-81e6-38aa2d6a40fb\",\"type\":\"ColumnDataSource\"}},\"id\":\"d492fb4f-0731-4a9e-8bda-a5d904bdfcbd\",\"type\":\"CDSView\"},{\"attributes\":{\"callback\":null,\"data\":{}},\"id\":\"39641196-cb8b-42bd-922e-735fdaaf7321\",\"type\":\"ColumnDataSource\"},{\"attributes\":{\"source\":{\"id\":\"49367d35-c1f5-4c9a-a917-ac9facce6ed1\",\"type\":\"ColumnDataSource\"}},\"id\":\"92a884b6-5622-4d49-b1bc-755efe0ee80b\",\"type\":\"CDSView\"},{\"attributes\":{\"fill_color\":{\"value\":\"purple\"},\"line_color\":{\"value\":\"purple\"},\"size\":{\"units\":\"screen\",\"value\":15},\"x\":{\"value\":4.9},\"y\":{\"value\":1.5}},\"id\":\"3ee84862-f640-48c2-b00f-4fa3fe53db2b\",\"type\":\"Circle\"},{\"attributes\":{\"data_source\":{\"id\":\"39641196-cb8b-42bd-922e-735fdaaf7321\",\"type\":\"ColumnDataSource\"},\"glyph\":{\"id\":\"9ca6852b-5034-4542-b5ab-e416d7f24dea\",\"type\":\"Circle\"},\"hover_glyph\":null,\"muted_glyph\":null,\"nonselection_glyph\":{\"id\":\"03099c4a-15cb-4243-be79-55b411c28023\",\"type\":\"Circle\"},\"selection_glyph\":null,\"view\":{\"id\":\"91d95222-541c-4e50-947d-c6408bb6bf1b\",\"type\":\"CDSView\"}},\"id\":\"f671da00-55d3-47f4-a3d2-fd58f06b8052\",\"type\":\"GlyphRenderer\"},{\"attributes\":{\"fill_color\":{\"value\":\"blue\"},\"line_color\":{\"value\":\"blue\"},\"size\":{\"units\":\"screen\",\"value\":15},\"x\":{\"value\":1.6},\"y\":{\"value\":0.2}},\"id\":\"5099d61c-70f0-48e5-97f5-0b5e5b7fa949\",\"type\":\"Circle\"},{\"attributes\":{\"fill_alpha\":{\"value\":0.1},\"fill_color\":{\"value\":\"#1f77b4\"},\"line_alpha\":{\"value\":0.1},\"line_color\":{\"value\":\"#1f77b4\"},\"size\":{\"units\":\"screen\",\"value\":15},\"x\":{\"value\":4.9},\"y\":{\"value\":1.5}},\"id\":\"61ad523d-9736-4768-99ac-be0b6d2084ff\",\"type\":\"Circle\"},{\"attributes\":{\"source\":{\"id\":\"1228b4c8-7db7-4788-9f24-7680af5f327c\",\"type\":\"ColumnDataSource\"}},\"id\":\"b733ad2c-bfe9-4de9-86c0-b4c10ea48dd2\",\"type\":\"CDSView\"},{\"attributes\":{\"fill_alpha\":{\"value\":0.1},\"fill_color\":{\"value\":\"#1f77b4\"},\"line_alpha\":{\"value\":0.1},\"line_color\":{\"value\":\"#1f77b4\"},\"size\":{\"units\":\"screen\",\"value\":15},\"x\":{\"value\":1.6},\"y\":{\"value\":0.2}},\"id\":\"08587fe3-195f-4f86-8af7-69f4d29efca4\",\"type\":\"Circle\"},{\"attributes\":{\"callback\":null,\"data\":{}},\"id\":\"ded28916-b85e-4de8-a4fe-e3f2c016f827\",\"type\":\"ColumnDataSource\"},{\"attributes\":{\"data_source\":{\"id\":\"ded28916-b85e-4de8-a4fe-e3f2c016f827\",\"type\":\"ColumnDataSource\"},\"glyph\":{\"id\":\"ae25b128-61ef-4e4e-98e8-d64d2d7e20c6\",\"type\":\"Circle\"},\"hover_glyph\":null,\"muted_glyph\":null,\"nonselection_glyph\":{\"id\":\"88ff3fed-9aaa-41a3-adbf-c6d2bc3a2dc8\",\"type\":\"Circle\"},\"selection_glyph\":null,\"view\":{\"id\":\"8c734e64-7567-4d65-a197-8ae9d3a4defd\",\"type\":\"CDSView\"}},\"id\":\"ba61502b-a8e0-4f2f-8aa8-b1d768fefb34\",\"type\":\"GlyphRenderer\"},{\"attributes\":{\"fill_color\":{\"value\":\"blue\"},\"line_color\":{\"value\":\"blue\"},\"size\":{\"units\":\"screen\",\"value\":15},\"x\":{\"value\":1.5},\"y\":{\"value\":0.4}},\"id\":\"9ca6852b-5034-4542-b5ab-e416d7f24dea\",\"type\":\"Circle\"},{\"attributes\":{\"callback\":null,\"data\":{}},\"id\":\"20463e43-3e7a-47ae-b53d-8979117173ad\",\"type\":\"ColumnDataSource\"},{\"attributes\":{\"data_source\":{\"id\":\"20463e43-3e7a-47ae-b53d-8979117173ad\",\"type\":\"ColumnDataSource\"},\"glyph\":{\"id\":\"784f31a5-440d-4bf4-a3fb-17e22933decf\",\"type\":\"Circle\"},\"hover_glyph\":null,\"muted_glyph\":null,\"nonselection_glyph\":{\"id\":\"2e6ac6c8-3c9c-463b-a88e-ef84742f1e5b\",\"type\":\"Circle\"},\"selection_glyph\":null,\"view\":{\"id\":\"4d4ca5cc-098e-48c1-8faf-07aaae469601\",\"type\":\"CDSView\"}},\"id\":\"5d5429d6-292d-4c93-8c8c-8867bfbd4804\",\"type\":\"GlyphRenderer\"},{\"attributes\":{\"fill_alpha\":{\"value\":0.1},\"fill_color\":{\"value\":\"#1f77b4\"},\"line_alpha\":{\"value\":0.1},\"line_color\":{\"value\":\"#1f77b4\"},\"size\":{\"units\":\"screen\",\"value\":15},\"x\":{\"value\":1.5},\"y\":{\"value\":0.4}},\"id\":\"03099c4a-15cb-4243-be79-55b411c28023\",\"type\":\"Circle\"},{\"attributes\":{\"source\":{\"id\":\"a034b55c-ebc3-418d-8dd9-101a06aaca79\",\"type\":\"ColumnDataSource\"}},\"id\":\"ee446b28-0053-408f-8462-1fb08b743800\",\"type\":\"CDSView\"},{\"attributes\":{\"callback\":null,\"data\":{}},\"id\":\"3f842bcd-09f4-464a-b9e2-b284579500c6\",\"type\":\"ColumnDataSource\"},{\"attributes\":{\"source\":{\"id\":\"644b4498-fdba-45cd-9b76-8a4f35b7497f\",\"type\":\"ColumnDataSource\"}},\"id\":\"ea92ae80-b2ba-4776-aeda-2184b758da1a\",\"type\":\"CDSView\"},{\"attributes\":{\"fill_color\":{\"value\":\"purple\"},\"line_color\":{\"value\":\"purple\"},\"size\":{\"units\":\"screen\",\"value\":15},\"x\":{\"value\":4.7},\"y\":{\"value\":1.2}},\"id\":\"ae25b128-61ef-4e4e-98e8-d64d2d7e20c6\",\"type\":\"Circle\"},{\"attributes\":{\"fill_alpha\":{\"value\":0.1},\"fill_color\":{\"value\":\"#1f77b4\"},\"line_alpha\":{\"value\":0.1},\"line_color\":{\"value\":\"#1f77b4\"},\"size\":{\"units\":\"screen\",\"value\":15},\"x\":{\"value\":1.3},\"y\":{\"value\":0.4}},\"id\":\"4f699c4c-078b-44f9-ba2a-8223fff464cf\",\"type\":\"Circle\"},{\"attributes\":{\"fill_color\":{\"value\":\"blue\"},\"line_color\":{\"value\":\"blue\"},\"size\":{\"units\":\"screen\",\"value\":15},\"x\":{\"value\":1.6},\"y\":{\"value\":0.2}},\"id\":\"784f31a5-440d-4bf4-a3fb-17e22933decf\",\"type\":\"Circle\"},{\"attributes\":{\"fill_alpha\":{\"value\":0.1},\"fill_color\":{\"value\":\"#1f77b4\"},\"line_alpha\":{\"value\":0.1},\"line_color\":{\"value\":\"#1f77b4\"},\"size\":{\"units\":\"screen\",\"value\":15},\"x\":{\"value\":4.7},\"y\":{\"value\":1.2}},\"id\":\"88ff3fed-9aaa-41a3-adbf-c6d2bc3a2dc8\",\"type\":\"Circle\"},{\"attributes\":{\"source\":{\"id\":\"39641196-cb8b-42bd-922e-735fdaaf7321\",\"type\":\"ColumnDataSource\"}},\"id\":\"91d95222-541c-4e50-947d-c6408bb6bf1b\",\"type\":\"CDSView\"},{\"attributes\":{\"fill_alpha\":{\"value\":0.1},\"fill_color\":{\"value\":\"#1f77b4\"},\"line_alpha\":{\"value\":0.1},\"line_color\":{\"value\":\"#1f77b4\"},\"size\":{\"units\":\"screen\",\"value\":15},\"x\":{\"value\":1.6},\"y\":{\"value\":0.2}},\"id\":\"2e6ac6c8-3c9c-463b-a88e-ef84742f1e5b\",\"type\":\"Circle\"},{\"attributes\":{\"source\":{\"id\":\"ded28916-b85e-4de8-a4fe-e3f2c016f827\",\"type\":\"ColumnDataSource\"}},\"id\":\"8c734e64-7567-4d65-a197-8ae9d3a4defd\",\"type\":\"CDSView\"},{\"attributes\":{\"fill_color\":{\"value\":\"blue\"},\"line_color\":{\"value\":\"blue\"},\"size\":{\"units\":\"screen\",\"value\":15},\"x\":{\"value\":1.3},\"y\":{\"value\":0.4}},\"id\":\"9aa8c064-9c01-48af-b656-deb30d435017\",\"type\":\"Circle\"},{\"attributes\":{\"source\":{\"id\":\"20463e43-3e7a-47ae-b53d-8979117173ad\",\"type\":\"ColumnDataSource\"}},\"id\":\"4d4ca5cc-098e-48c1-8faf-07aaae469601\",\"type\":\"CDSView\"},{\"attributes\":{\"callback\":null,\"data\":{}},\"id\":\"643db6ff-bcd8-472e-a887-d2e7884cb5b8\",\"type\":\"ColumnDataSource\"},{\"attributes\":{\"fill_color\":{\"value\":\"blue\"},\"line_color\":{\"value\":\"blue\"},\"size\":{\"units\":\"screen\",\"value\":15},\"x\":{\"value\":1.5},\"y\":{\"value\":0.4}},\"id\":\"477ad61a-705a-4b0d-8bb2-f127e9ca0f5a\",\"type\":\"Circle\"},{\"attributes\":{\"source\":{\"id\":\"82043516-8463-40e2-964d-6d155e0aa442\",\"type\":\"ColumnDataSource\"}},\"id\":\"75d1c10b-fb90-4221-8043-29d1e0cdd74a\",\"type\":\"CDSView\"},{\"attributes\":{\"fill_alpha\":{\"value\":0.1},\"fill_color\":{\"value\":\"#1f77b4\"},\"line_alpha\":{\"value\":0.1},\"line_color\":{\"value\":\"#1f77b4\"},\"size\":{\"units\":\"screen\",\"value\":15},\"x\":{\"value\":1.4},\"y\":{\"value\":0.3}},\"id\":\"ef7afcb8-d718-4937-b971-327a15067d05\",\"type\":\"Circle\"},{\"attributes\":{\"callback\":null,\"data\":{}},\"id\":\"5511b1ca-a5a3-4429-9db2-afc3c593395e\",\"type\":\"ColumnDataSource\"},{\"attributes\":{\"fill_alpha\":{\"value\":0.1},\"fill_color\":{\"value\":\"#1f77b4\"},\"line_alpha\":{\"value\":0.1},\"line_color\":{\"value\":\"#1f77b4\"},\"size\":{\"units\":\"screen\",\"value\":15},\"x\":{\"value\":1.5},\"y\":{\"value\":0.4}},\"id\":\"e328e8cb-9397-4bd0-b358-223ac7b0b4e7\",\"type\":\"Circle\"},{\"attributes\":{\"callback\":null,\"data\":{}},\"id\":\"a800a03c-825b-4f74-b8db-23dae5d3cd8c\",\"type\":\"ColumnDataSource\"},{\"attributes\":{\"data_source\":{\"id\":\"8a5bda51-0db2-47c4-bcd7-cf1b9840b6ec\",\"type\":\"ColumnDataSource\"},\"glyph\":{\"id\":\"477ad61a-705a-4b0d-8bb2-f127e9ca0f5a\",\"type\":\"Circle\"},\"hover_glyph\":null,\"muted_glyph\":null,\"nonselection_glyph\":{\"id\":\"e328e8cb-9397-4bd0-b358-223ac7b0b4e7\",\"type\":\"Circle\"},\"selection_glyph\":null,\"view\":{\"id\":\"40ef4db7-229f-461f-9ad8-cb43ce1654fb\",\"type\":\"CDSView\"}},\"id\":\"5d67606f-4f5c-48f3-8d83-2805c4c67ecc\",\"type\":\"GlyphRenderer\"},{\"attributes\":{\"fill_color\":{\"value\":\"purple\"},\"line_color\":{\"value\":\"purple\"},\"size\":{\"units\":\"screen\",\"value\":15},\"x\":{\"value\":4.0},\"y\":{\"value\":1.3}},\"id\":\"186ecf3e-6981-4c95-a71b-10e22ed69790\",\"type\":\"Circle\"},{\"attributes\":{\"data_source\":{\"id\":\"a800a03c-825b-4f74-b8db-23dae5d3cd8c\",\"type\":\"ColumnDataSource\"},\"glyph\":{\"id\":\"186ecf3e-6981-4c95-a71b-10e22ed69790\",\"type\":\"Circle\"},\"hover_glyph\":null,\"muted_glyph\":null,\"nonselection_glyph\":{\"id\":\"86f62294-b905-410b-bc13-4b511dd2de06\",\"type\":\"Circle\"},\"selection_glyph\":null,\"view\":{\"id\":\"5e25c29c-0335-4d77-9d9d-9c0da3680ba5\",\"type\":\"CDSView\"}},\"id\":\"da4dc3da-3e43-4308-b3bb-367dd1d63311\",\"type\":\"GlyphRenderer\"},{\"attributes\":{\"source\":{\"id\":\"8a5bda51-0db2-47c4-bcd7-cf1b9840b6ec\",\"type\":\"ColumnDataSource\"}},\"id\":\"40ef4db7-229f-461f-9ad8-cb43ce1654fb\",\"type\":\"CDSView\"},{\"attributes\":{\"fill_color\":{\"value\":\"blue\"},\"line_color\":{\"value\":\"blue\"},\"size\":{\"units\":\"screen\",\"value\":15},\"x\":{\"value\":1.5},\"y\":{\"value\":0.1}},\"id\":\"30dc12e0-585e-440a-975a-941e82c87471\",\"type\":\"Circle\"},{\"attributes\":{\"fill_alpha\":{\"value\":0.1},\"fill_color\":{\"value\":\"#1f77b4\"},\"line_alpha\":{\"value\":0.1},\"line_color\":{\"value\":\"#1f77b4\"},\"size\":{\"units\":\"screen\",\"value\":15},\"x\":{\"value\":4.0},\"y\":{\"value\":1.3}},\"id\":\"86f62294-b905-410b-bc13-4b511dd2de06\",\"type\":\"Circle\"},{\"attributes\":{\"callback\":null,\"data\":{}},\"id\":\"24aeb6b4-9dbe-484c-97a0-a42e4478042b\",\"type\":\"ColumnDataSource\"},{\"attributes\":{\"callback\":null,\"data\":{}},\"id\":\"56547640-5735-44e3-acf8-7ab0aaf99885\",\"type\":\"ColumnDataSource\"},{\"attributes\":{\"data_source\":{\"id\":\"24aeb6b4-9dbe-484c-97a0-a42e4478042b\",\"type\":\"ColumnDataSource\"},\"glyph\":{\"id\":\"30dc12e0-585e-440a-975a-941e82c87471\",\"type\":\"Circle\"},\"hover_glyph\":null,\"muted_glyph\":null,\"nonselection_glyph\":{\"id\":\"5df2e2a6-e0e1-4453-ae75-81fd722e2164\",\"type\":\"Circle\"},\"selection_glyph\":null,\"view\":{\"id\":\"a601f345-ab0a-4b36-a997-d19f34645ecd\",\"type\":\"CDSView\"}},\"id\":\"2d793df1-2b9f-4676-872e-99fe6a3ca020\",\"type\":\"GlyphRenderer\"},{\"attributes\":{\"data_source\":{\"id\":\"56547640-5735-44e3-acf8-7ab0aaf99885\",\"type\":\"ColumnDataSource\"},\"glyph\":{\"id\":\"b1cff273-5375-41eb-a519-cc7472d7d6e2\",\"type\":\"Circle\"},\"hover_glyph\":null,\"muted_glyph\":null,\"nonselection_glyph\":{\"id\":\"d5509eca-4162-421e-b6fd-7ef810cdb85c\",\"type\":\"Circle\"},\"selection_glyph\":null,\"view\":{\"id\":\"8cc3cc58-bcdc-47d7-b103-11017478c827\",\"type\":\"CDSView\"}},\"id\":\"31303168-ca8d-41a2-aa4f-8e3a62773d75\",\"type\":\"GlyphRenderer\"},{\"attributes\":{\"fill_alpha\":{\"value\":0.1},\"fill_color\":{\"value\":\"#1f77b4\"},\"line_alpha\":{\"value\":0.1},\"line_color\":{\"value\":\"#1f77b4\"},\"size\":{\"units\":\"screen\",\"value\":15},\"x\":{\"value\":1.5},\"y\":{\"value\":0.1}},\"id\":\"5df2e2a6-e0e1-4453-ae75-81fd722e2164\",\"type\":\"Circle\"},{\"attributes\":{\"source\":{\"id\":\"a800a03c-825b-4f74-b8db-23dae5d3cd8c\",\"type\":\"ColumnDataSource\"}},\"id\":\"5e25c29c-0335-4d77-9d9d-9c0da3680ba5\",\"type\":\"CDSView\"},{\"attributes\":{\"callback\":null,\"data\":{}},\"id\":\"1def4977-1f5a-48bc-b236-d44a3f5f40d3\",\"type\":\"ColumnDataSource\"},{\"attributes\":{\"fill_color\":{\"value\":\"purple\"},\"line_color\":{\"value\":\"purple\"},\"size\":{\"units\":\"screen\",\"value\":15},\"x\":{\"value\":4.4},\"y\":{\"value\":1.2}},\"id\":\"b1cff273-5375-41eb-a519-cc7472d7d6e2\",\"type\":\"Circle\"},{\"attributes\":{\"data_source\":{\"id\":\"1def4977-1f5a-48bc-b236-d44a3f5f40d3\",\"type\":\"ColumnDataSource\"},\"glyph\":{\"id\":\"7c3b2d1a-4600-4031-bf2a-d90d8ab06b01\",\"type\":\"Circle\"},\"hover_glyph\":null,\"muted_glyph\":null,\"nonselection_glyph\":{\"id\":\"1eed450e-25d7-4e99-92f6-a0cfff59c1e3\",\"type\":\"Circle\"},\"selection_glyph\":null,\"view\":{\"id\":\"70c861a8-d198-46af-b651-a64fb1e798da\",\"type\":\"CDSView\"}},\"id\":\"0b6fa897-eaca-4b9f-b97a-4cf0a122d0a1\",\"type\":\"GlyphRenderer\"},{\"attributes\":{\"fill_alpha\":{\"value\":0.1},\"fill_color\":{\"value\":\"#1f77b4\"},\"line_alpha\":{\"value\":0.1},\"line_color\":{\"value\":\"#1f77b4\"},\"size\":{\"units\":\"screen\",\"value\":15},\"x\":{\"value\":4.4},\"y\":{\"value\":1.2}},\"id\":\"d5509eca-4162-421e-b6fd-7ef810cdb85c\",\"type\":\"Circle\"},{\"attributes\":{\"source\":{\"id\":\"24aeb6b4-9dbe-484c-97a0-a42e4478042b\",\"type\":\"ColumnDataSource\"}},\"id\":\"a601f345-ab0a-4b36-a997-d19f34645ecd\",\"type\":\"CDSView\"},{\"attributes\":{\"callback\":null,\"data\":{}},\"id\":\"6763560f-2c46-4201-b3af-338d60c7198d\",\"type\":\"ColumnDataSource\"},{\"attributes\":{\"data_source\":{\"id\":\"6763560f-2c46-4201-b3af-338d60c7198d\",\"type\":\"ColumnDataSource\"},\"glyph\":{\"id\":\"589141be-34f6-4f9e-a8bb-71faa8b3701f\",\"type\":\"Circle\"},\"hover_glyph\":null,\"muted_glyph\":null,\"nonselection_glyph\":{\"id\":\"766fbe4d-a8d4-4b61-ab8c-c00003118d1e\",\"type\":\"Circle\"},\"selection_glyph\":null,\"view\":{\"id\":\"79f9a314-e9c2-4df1-9efb-67d95546ad43\",\"type\":\"CDSView\"}},\"id\":\"0d4f1eb9-2442-467a-a5cc-d627ef0f0644\",\"type\":\"GlyphRenderer\"},{\"attributes\":{\"fill_color\":{\"value\":\"blue\"},\"line_color\":{\"value\":\"blue\"},\"size\":{\"units\":\"screen\",\"value\":15},\"x\":{\"value\":1.4},\"y\":{\"value\":0.2}},\"id\":\"7c3b2d1a-4600-4031-bf2a-d90d8ab06b01\",\"type\":\"Circle\"},{\"attributes\":{\"fill_alpha\":{\"value\":0.1},\"fill_color\":{\"value\":\"#1f77b4\"},\"line_alpha\":{\"value\":0.1},\"line_color\":{\"value\":\"#1f77b4\"},\"size\":{\"units\":\"screen\",\"value\":15},\"x\":{\"value\":1.4},\"y\":{\"value\":0.2}},\"id\":\"1eed450e-25d7-4e99-92f6-a0cfff59c1e3\",\"type\":\"Circle\"},{\"attributes\":{\"source\":{\"id\":\"56547640-5735-44e3-acf8-7ab0aaf99885\",\"type\":\"ColumnDataSource\"}},\"id\":\"8cc3cc58-bcdc-47d7-b103-11017478c827\",\"type\":\"CDSView\"},{\"attributes\":{\"callback\":null,\"data\":{}},\"id\":\"076246f0-a9a7-4cdf-a8bf-ed5f76acfe33\",\"type\":\"ColumnDataSource\"},{\"attributes\":{\"fill_color\":{\"value\":\"purple\"},\"line_color\":{\"value\":\"purple\"},\"size\":{\"units\":\"screen\",\"value\":15},\"x\":{\"value\":4.6},\"y\":{\"value\":1.4}},\"id\":\"589141be-34f6-4f9e-a8bb-71faa8b3701f\",\"type\":\"Circle\"},{\"attributes\":{\"data_source\":{\"id\":\"076246f0-a9a7-4cdf-a8bf-ed5f76acfe33\",\"type\":\"ColumnDataSource\"},\"glyph\":{\"id\":\"91197ca4-3fa7-4c12-82e0-3784e2b8d700\",\"type\":\"Circle\"},\"hover_glyph\":null,\"muted_glyph\":null,\"nonselection_glyph\":{\"id\":\"8f74eb6c-af2f-4f2f-bf3f-bcf1fb8ce01a\",\"type\":\"Circle\"},\"selection_glyph\":null,\"view\":{\"id\":\"1689d343-b89e-47ca-b6f3-b4755bf44bf2\",\"type\":\"CDSView\"}},\"id\":\"743d6caf-a8be-4bc5-9f88-5c395c924a66\",\"type\":\"GlyphRenderer\"},{\"attributes\":{\"fill_alpha\":{\"value\":0.1},\"fill_color\":{\"value\":\"#1f77b4\"},\"line_alpha\":{\"value\":0.1},\"line_color\":{\"value\":\"#1f77b4\"},\"size\":{\"units\":\"screen\",\"value\":15},\"x\":{\"value\":4.6},\"y\":{\"value\":1.4}},\"id\":\"766fbe4d-a8d4-4b61-ab8c-c00003118d1e\",\"type\":\"Circle\"},{\"attributes\":{\"source\":{\"id\":\"1def4977-1f5a-48bc-b236-d44a3f5f40d3\",\"type\":\"ColumnDataSource\"}},\"id\":\"70c861a8-d198-46af-b651-a64fb1e798da\",\"type\":\"CDSView\"},{\"attributes\":{\"callback\":null,\"data\":{}},\"id\":\"1c3d3605-c220-4da7-8cb8-400766c2f702\",\"type\":\"ColumnDataSource\"},{\"attributes\":{\"data_source\":{\"id\":\"1c3d3605-c220-4da7-8cb8-400766c2f702\",\"type\":\"ColumnDataSource\"},\"glyph\":{\"id\":\"1bfb9afc-0b0b-42cb-bf92-1bb1a19bc697\",\"type\":\"Circle\"},\"hover_glyph\":null,\"muted_glyph\":null,\"nonselection_glyph\":{\"id\":\"69ac0096-4d69-4a70-b326-fb4da1aedbc9\",\"type\":\"Circle\"},\"selection_glyph\":null,\"view\":{\"id\":\"1df93d28-e699-47c0-83cc-1ebd25f44094\",\"type\":\"CDSView\"}},\"id\":\"16fd52f5-da84-43bd-bfcb-f8e5a4963be6\",\"type\":\"GlyphRenderer\"},{\"attributes\":{\"fill_color\":{\"value\":\"blue\"},\"line_color\":{\"value\":\"blue\"},\"size\":{\"units\":\"screen\",\"value\":15},\"x\":{\"value\":1.5},\"y\":{\"value\":0.1}},\"id\":\"91197ca4-3fa7-4c12-82e0-3784e2b8d700\",\"type\":\"Circle\"},{\"attributes\":{\"fill_alpha\":{\"value\":0.1},\"fill_color\":{\"value\":\"#1f77b4\"},\"line_alpha\":{\"value\":0.1},\"line_color\":{\"value\":\"#1f77b4\"},\"size\":{\"units\":\"screen\",\"value\":15},\"x\":{\"value\":1.5},\"y\":{\"value\":0.1}},\"id\":\"8f74eb6c-af2f-4f2f-bf3f-bcf1fb8ce01a\",\"type\":\"Circle\"},{\"attributes\":{\"source\":{\"id\":\"6763560f-2c46-4201-b3af-338d60c7198d\",\"type\":\"ColumnDataSource\"}},\"id\":\"79f9a314-e9c2-4df1-9efb-67d95546ad43\",\"type\":\"CDSView\"},{\"attributes\":{\"callback\":null,\"data\":{}},\"id\":\"748e207d-fe66-4434-8130-bbe080d1571c\",\"type\":\"ColumnDataSource\"},{\"attributes\":{\"fill_color\":{\"value\":\"purple\"},\"line_color\":{\"value\":\"purple\"},\"size\":{\"units\":\"screen\",\"value\":15},\"x\":{\"value\":4.0},\"y\":{\"value\":1.2}},\"id\":\"1bfb9afc-0b0b-42cb-bf92-1bb1a19bc697\",\"type\":\"Circle\"},{\"attributes\":{\"data_source\":{\"id\":\"748e207d-fe66-4434-8130-bbe080d1571c\",\"type\":\"ColumnDataSource\"},\"glyph\":{\"id\":\"646cae6f-f9ae-4e50-8356-065d3658ff6d\",\"type\":\"Circle\"},\"hover_glyph\":null,\"muted_glyph\":null,\"nonselection_glyph\":{\"id\":\"0bf68576-3acf-411b-8b16-fd977b8dc699\",\"type\":\"Circle\"},\"selection_glyph\":null,\"view\":{\"id\":\"b4720c29-1246-4b9c-bad1-cf303e817d20\",\"type\":\"CDSView\"}},\"id\":\"937c0f7f-d9c5-4194-ac1b-954e5bad45ce\",\"type\":\"GlyphRenderer\"},{\"attributes\":{\"fill_alpha\":{\"value\":0.1},\"fill_color\":{\"value\":\"#1f77b4\"},\"line_alpha\":{\"value\":0.1},\"line_color\":{\"value\":\"#1f77b4\"},\"size\":{\"units\":\"screen\",\"value\":15},\"x\":{\"value\":4.0},\"y\":{\"value\":1.2}},\"id\":\"69ac0096-4d69-4a70-b326-fb4da1aedbc9\",\"type\":\"Circle\"},{\"attributes\":{\"source\":{\"id\":\"076246f0-a9a7-4cdf-a8bf-ed5f76acfe33\",\"type\":\"ColumnDataSource\"}},\"id\":\"1689d343-b89e-47ca-b6f3-b4755bf44bf2\",\"type\":\"CDSView\"},{\"attributes\":{\"callback\":null,\"data\":{}},\"id\":\"528e7e9d-c295-43d6-9991-33dec410b564\",\"type\":\"ColumnDataSource\"},{\"attributes\":{\"data_source\":{\"id\":\"528e7e9d-c295-43d6-9991-33dec410b564\",\"type\":\"ColumnDataSource\"},\"glyph\":{\"id\":\"dd9af94e-b7b6-46d1-bf58-02ffa89f198b\",\"type\":\"Circle\"},\"hover_glyph\":null,\"muted_glyph\":null,\"nonselection_glyph\":{\"id\":\"98056c89-3149-4523-8adf-1158a40ce8fe\",\"type\":\"Circle\"},\"selection_glyph\":null,\"view\":{\"id\":\"c8863e65-c43d-48a1-9c2a-bd3e2d7a519b\",\"type\":\"CDSView\"}},\"id\":\"e5b6c1c0-1b38-4135-bf85-feb520a1d76c\",\"type\":\"GlyphRenderer\"},{\"attributes\":{\"fill_color\":{\"value\":\"blue\"},\"line_color\":{\"value\":\"blue\"},\"size\":{\"units\":\"screen\",\"value\":15},\"x\":{\"value\":1.2},\"y\":{\"value\":0.2}},\"id\":\"646cae6f-f9ae-4e50-8356-065d3658ff6d\",\"type\":\"Circle\"},{\"attributes\":{\"fill_alpha\":{\"value\":0.1},\"fill_color\":{\"value\":\"#1f77b4\"},\"line_alpha\":{\"value\":0.1},\"line_color\":{\"value\":\"#1f77b4\"},\"size\":{\"units\":\"screen\",\"value\":15},\"x\":{\"value\":1.2},\"y\":{\"value\":0.2}},\"id\":\"0bf68576-3acf-411b-8b16-fd977b8dc699\",\"type\":\"Circle\"},{\"attributes\":{\"source\":{\"id\":\"1c3d3605-c220-4da7-8cb8-400766c2f702\",\"type\":\"ColumnDataSource\"}},\"id\":\"1df93d28-e699-47c0-83cc-1ebd25f44094\",\"type\":\"CDSView\"},{\"attributes\":{\"callback\":null,\"data\":{}},\"id\":\"10c42cd9-755b-4183-a619-37bf53b574ea\",\"type\":\"ColumnDataSource\"},{\"attributes\":{\"fill_color\":{\"value\":\"purple\"},\"line_color\":{\"value\":\"purple\"},\"size\":{\"units\":\"screen\",\"value\":15},\"x\":{\"value\":3.3},\"y\":{\"value\":1.0}},\"id\":\"dd9af94e-b7b6-46d1-bf58-02ffa89f198b\",\"type\":\"Circle\"},{\"attributes\":{\"data_source\":{\"id\":\"10c42cd9-755b-4183-a619-37bf53b574ea\",\"type\":\"ColumnDataSource\"},\"glyph\":{\"id\":\"ccbff6d6-88b6-4057-9db9-eebf33474dda\",\"type\":\"Circle\"},\"hover_glyph\":null,\"muted_glyph\":null,\"nonselection_glyph\":{\"id\":\"bd4ae873-b895-4e4e-b1a1-25f51d9ac0f4\",\"type\":\"Circle\"},\"selection_glyph\":null,\"view\":{\"id\":\"378b7fdf-2189-4231-9eef-2955b197e9c4\",\"type\":\"CDSView\"}},\"id\":\"d1c7fcaa-d719-46c6-b49a-84cae2e4c061\",\"type\":\"GlyphRenderer\"},{\"attributes\":{\"fill_alpha\":{\"value\":0.1},\"fill_color\":{\"value\":\"#1f77b4\"},\"line_alpha\":{\"value\":0.1},\"line_color\":{\"value\":\"#1f77b4\"},\"size\":{\"units\":\"screen\",\"value\":15},\"x\":{\"value\":3.3},\"y\":{\"value\":1.0}},\"id\":\"98056c89-3149-4523-8adf-1158a40ce8fe\",\"type\":\"Circle\"},{\"attributes\":{\"source\":{\"id\":\"748e207d-fe66-4434-8130-bbe080d1571c\",\"type\":\"ColumnDataSource\"}},\"id\":\"b4720c29-1246-4b9c-bad1-cf303e817d20\",\"type\":\"CDSView\"},{\"attributes\":{\"callback\":null,\"data\":{}},\"id\":\"69ff8bf2-a8d4-4e21-8476-b4276d19e56f\",\"type\":\"ColumnDataSource\"},{\"attributes\":{\"data_source\":{\"id\":\"69ff8bf2-a8d4-4e21-8476-b4276d19e56f\",\"type\":\"ColumnDataSource\"},\"glyph\":{\"id\":\"1d16d8fe-1fc2-49c8-b849-8b4e59a50806\",\"type\":\"Circle\"},\"hover_glyph\":null,\"muted_glyph\":null,\"nonselection_glyph\":{\"id\":\"2be0ba4b-d9bd-42e6-8335-a58f0138abe0\",\"type\":\"Circle\"},\"selection_glyph\":null,\"view\":{\"id\":\"c3a4e327-4611-4b77-9c1e-c74159b033d9\",\"type\":\"CDSView\"}},\"id\":\"d673431c-e006-445e-a139-610464dd11df\",\"type\":\"GlyphRenderer\"},{\"attributes\":{\"fill_color\":{\"value\":\"blue\"},\"line_color\":{\"value\":\"blue\"},\"size\":{\"units\":\"screen\",\"value\":15},\"x\":{\"value\":1.3},\"y\":{\"value\":0.2}},\"id\":\"ccbff6d6-88b6-4057-9db9-eebf33474dda\",\"type\":\"Circle\"},{\"attributes\":{\"fill_alpha\":{\"value\":0.1},\"fill_color\":{\"value\":\"#1f77b4\"},\"line_alpha\":{\"value\":0.1},\"line_color\":{\"value\":\"#1f77b4\"},\"size\":{\"units\":\"screen\",\"value\":15},\"x\":{\"value\":1.3},\"y\":{\"value\":0.2}},\"id\":\"bd4ae873-b895-4e4e-b1a1-25f51d9ac0f4\",\"type\":\"Circle\"},{\"attributes\":{\"source\":{\"id\":\"528e7e9d-c295-43d6-9991-33dec410b564\",\"type\":\"ColumnDataSource\"}},\"id\":\"c8863e65-c43d-48a1-9c2a-bd3e2d7a519b\",\"type\":\"CDSView\"},{\"attributes\":{\"callback\":null,\"data\":{}},\"id\":\"9899cb90-e2af-4c99-a790-a0db1704be68\",\"type\":\"ColumnDataSource\"},{\"attributes\":{\"fill_color\":{\"value\":\"purple\"},\"line_color\":{\"value\":\"purple\"},\"size\":{\"units\":\"screen\",\"value\":15},\"x\":{\"value\":4.2},\"y\":{\"value\":1.3}},\"id\":\"1d16d8fe-1fc2-49c8-b849-8b4e59a50806\",\"type\":\"Circle\"},{\"attributes\":{\"data_source\":{\"id\":\"9899cb90-e2af-4c99-a790-a0db1704be68\",\"type\":\"ColumnDataSource\"},\"glyph\":{\"id\":\"4bc7092e-2e77-4ab9-b016-8629dbeac80e\",\"type\":\"Circle\"},\"hover_glyph\":null,\"muted_glyph\":null,\"nonselection_glyph\":{\"id\":\"ff4f0425-bf7d-454d-ba6f-656850cd71b1\",\"type\":\"Circle\"},\"selection_glyph\":null,\"view\":{\"id\":\"130aaed5-5336-4e25-a963-d02ef32e088b\",\"type\":\"CDSView\"}},\"id\":\"59513596-71e7-4d9d-8314-449d55f1cf7b\",\"type\":\"GlyphRenderer\"},{\"attributes\":{\"fill_alpha\":{\"value\":0.1},\"fill_color\":{\"value\":\"#1f77b4\"},\"line_alpha\":{\"value\":0.1},\"line_color\":{\"value\":\"#1f77b4\"},\"size\":{\"units\":\"screen\",\"value\":15},\"x\":{\"value\":4.2},\"y\":{\"value\":1.3}},\"id\":\"2be0ba4b-d9bd-42e6-8335-a58f0138abe0\",\"type\":\"Circle\"},{\"attributes\":{\"source\":{\"id\":\"10c42cd9-755b-4183-a619-37bf53b574ea\",\"type\":\"ColumnDataSource\"}},\"id\":\"378b7fdf-2189-4231-9eef-2955b197e9c4\",\"type\":\"CDSView\"},{\"attributes\":{\"callback\":null,\"data\":{}},\"id\":\"6c2ec818-722a-435e-8dd7-d92e5f9268d5\",\"type\":\"ColumnDataSource\"},{\"attributes\":{\"data_source\":{\"id\":\"6c2ec818-722a-435e-8dd7-d92e5f9268d5\",\"type\":\"ColumnDataSource\"},\"glyph\":{\"id\":\"9943b445-e4fe-4a46-9ceb-9f1cdbbbd34e\",\"type\":\"Circle\"},\"hover_glyph\":null,\"muted_glyph\":null,\"nonselection_glyph\":{\"id\":\"328327b9-eec3-406f-8116-0fcb0fec094c\",\"type\":\"Circle\"},\"selection_glyph\":null,\"view\":{\"id\":\"eb08cde8-7442-4e3b-a5f3-dfed4f8a6eb8\",\"type\":\"CDSView\"}},\"id\":\"5d4a66ea-a901-4d0d-849c-caa972d4bba3\",\"type\":\"GlyphRenderer\"},{\"attributes\":{\"fill_color\":{\"value\":\"blue\"},\"line_color\":{\"value\":\"blue\"},\"size\":{\"units\":\"screen\",\"value\":15},\"x\":{\"value\":1.5},\"y\":{\"value\":0.1}},\"id\":\"4bc7092e-2e77-4ab9-b016-8629dbeac80e\",\"type\":\"Circle\"},{\"attributes\":{\"fill_alpha\":{\"value\":0.1},\"fill_color\":{\"value\":\"#1f77b4\"},\"line_alpha\":{\"value\":0.1},\"line_color\":{\"value\":\"#1f77b4\"},\"size\":{\"units\":\"screen\",\"value\":15},\"x\":{\"value\":1.5},\"y\":{\"value\":0.1}},\"id\":\"ff4f0425-bf7d-454d-ba6f-656850cd71b1\",\"type\":\"Circle\"},{\"attributes\":{\"source\":{\"id\":\"69ff8bf2-a8d4-4e21-8476-b4276d19e56f\",\"type\":\"ColumnDataSource\"}},\"id\":\"c3a4e327-4611-4b77-9c1e-c74159b033d9\",\"type\":\"CDSView\"},{\"attributes\":{\"callback\":null,\"data\":{}},\"id\":\"d8398d56-f6d9-4f15-8612-30236a146b21\",\"type\":\"ColumnDataSource\"},{\"attributes\":{\"fill_color\":{\"value\":\"purple\"},\"line_color\":{\"value\":\"purple\"},\"size\":{\"units\":\"screen\",\"value\":15},\"x\":{\"value\":4.2},\"y\":{\"value\":1.2}},\"id\":\"9943b445-e4fe-4a46-9ceb-9f1cdbbbd34e\",\"type\":\"Circle\"},{\"attributes\":{\"data_source\":{\"id\":\"d8398d56-f6d9-4f15-8612-30236a146b21\",\"type\":\"ColumnDataSource\"},\"glyph\":{\"id\":\"1473bff4-7ccd-44fe-92ba-a76ac5d48f13\",\"type\":\"Circle\"},\"hover_glyph\":null,\"muted_glyph\":null,\"nonselection_glyph\":{\"id\":\"18b0e829-c673-4dc5-a3cf-56bc7cbb7bc3\",\"type\":\"Circle\"},\"selection_glyph\":null,\"view\":{\"id\":\"06c8ee99-6603-4905-b726-4cc8909119c9\",\"type\":\"CDSView\"}},\"id\":\"b74e4ead-29c9-4ce7-b06e-686885f0046d\",\"type\":\"GlyphRenderer\"},{\"attributes\":{\"fill_alpha\":{\"value\":0.1},\"fill_color\":{\"value\":\"#1f77b4\"},\"line_alpha\":{\"value\":0.1},\"line_color\":{\"value\":\"#1f77b4\"},\"size\":{\"units\":\"screen\",\"value\":15},\"x\":{\"value\":4.2},\"y\":{\"value\":1.2}},\"id\":\"328327b9-eec3-406f-8116-0fcb0fec094c\",\"type\":\"Circle\"},{\"attributes\":{\"source\":{\"id\":\"9899cb90-e2af-4c99-a790-a0db1704be68\",\"type\":\"ColumnDataSource\"}},\"id\":\"130aaed5-5336-4e25-a963-d02ef32e088b\",\"type\":\"CDSView\"},{\"attributes\":{\"callback\":null,\"data\":{}},\"id\":\"ea157f90-1206-424e-bd06-004666cfab7d\",\"type\":\"ColumnDataSource\"},{\"attributes\":{\"data_source\":{\"id\":\"ea157f90-1206-424e-bd06-004666cfab7d\",\"type\":\"ColumnDataSource\"},\"glyph\":{\"id\":\"92e82031-a323-4f6c-9693-25cec13c4ec0\",\"type\":\"Circle\"},\"hover_glyph\":null,\"muted_glyph\":null,\"nonselection_glyph\":{\"id\":\"e5b85c33-0b4d-438a-a58f-46cacdb6d02c\",\"type\":\"Circle\"},\"selection_glyph\":null,\"view\":{\"id\":\"aaf408f4-f192-422f-8069-b3b566f1600a\",\"type\":\"CDSView\"}},\"id\":\"fb4a3328-c8e0-4875-bc30-67300cb97060\",\"type\":\"GlyphRenderer\"},{\"attributes\":{\"fill_color\":{\"value\":\"blue\"},\"line_color\":{\"value\":\"blue\"},\"size\":{\"units\":\"screen\",\"value\":15},\"x\":{\"value\":1.3},\"y\":{\"value\":0.2}},\"id\":\"1473bff4-7ccd-44fe-92ba-a76ac5d48f13\",\"type\":\"Circle\"},{\"attributes\":{\"fill_alpha\":{\"value\":0.1},\"fill_color\":{\"value\":\"#1f77b4\"},\"line_alpha\":{\"value\":0.1},\"line_color\":{\"value\":\"#1f77b4\"},\"size\":{\"units\":\"screen\",\"value\":15},\"x\":{\"value\":1.3},\"y\":{\"value\":0.2}},\"id\":\"18b0e829-c673-4dc5-a3cf-56bc7cbb7bc3\",\"type\":\"Circle\"},{\"attributes\":{\"source\":{\"id\":\"6c2ec818-722a-435e-8dd7-d92e5f9268d5\",\"type\":\"ColumnDataSource\"}},\"id\":\"eb08cde8-7442-4e3b-a5f3-dfed4f8a6eb8\",\"type\":\"CDSView\"},{\"attributes\":{\"callback\":null,\"data\":{}},\"id\":\"6a5aff10-e89e-4269-8e45-05690e86a048\",\"type\":\"ColumnDataSource\"},{\"attributes\":{\"fill_color\":{\"value\":\"purple\"},\"line_color\":{\"value\":\"purple\"},\"size\":{\"units\":\"screen\",\"value\":15},\"x\":{\"value\":4.2},\"y\":{\"value\":1.3}},\"id\":\"92e82031-a323-4f6c-9693-25cec13c4ec0\",\"type\":\"Circle\"},{\"attributes\":{\"data_source\":{\"id\":\"6a5aff10-e89e-4269-8e45-05690e86a048\",\"type\":\"ColumnDataSource\"},\"glyph\":{\"id\":\"836206dd-1e1c-4ede-99b6-acda10d6891b\",\"type\":\"Circle\"},\"hover_glyph\":null,\"muted_glyph\":null,\"nonselection_glyph\":{\"id\":\"ff3af342-6f9d-424b-8ff4-40e367b00275\",\"type\":\"Circle\"},\"selection_glyph\":null,\"view\":{\"id\":\"713874aa-9236-446e-934c-72de79c1e635\",\"type\":\"CDSView\"}},\"id\":\"cdaabee9-bcdb-4129-9a55-f842760f9c24\",\"type\":\"GlyphRenderer\"},{\"attributes\":{\"fill_alpha\":{\"value\":0.1},\"fill_color\":{\"value\":\"#1f77b4\"},\"line_alpha\":{\"value\":0.1},\"line_color\":{\"value\":\"#1f77b4\"},\"size\":{\"units\":\"screen\",\"value\":15},\"x\":{\"value\":4.2},\"y\":{\"value\":1.3}},\"id\":\"e5b85c33-0b4d-438a-a58f-46cacdb6d02c\",\"type\":\"Circle\"},{\"attributes\":{\"source\":{\"id\":\"d8398d56-f6d9-4f15-8612-30236a146b21\",\"type\":\"ColumnDataSource\"}},\"id\":\"06c8ee99-6603-4905-b726-4cc8909119c9\",\"type\":\"CDSView\"},{\"attributes\":{\"callback\":null,\"data\":{}},\"id\":\"bd19ef04-73b7-4923-915c-e75a6c853c09\",\"type\":\"ColumnDataSource\"},{\"attributes\":{\"data_source\":{\"id\":\"bd19ef04-73b7-4923-915c-e75a6c853c09\",\"type\":\"ColumnDataSource\"},\"glyph\":{\"id\":\"aa27b3c9-4cb4-405e-9893-06dfe96fb72f\",\"type\":\"Circle\"},\"hover_glyph\":null,\"muted_glyph\":null,\"nonselection_glyph\":{\"id\":\"42394191-ceb7-444c-a228-808b0bd47bed\",\"type\":\"Circle\"},\"selection_glyph\":null,\"view\":{\"id\":\"bd959228-a68c-4253-ae43-5bb3364da6eb\",\"type\":\"CDSView\"}},\"id\":\"9d0ecffc-61d2-4a80-8b7a-760327fa82b2\",\"type\":\"GlyphRenderer\"},{\"attributes\":{\"fill_color\":{\"value\":\"blue\"},\"line_color\":{\"value\":\"blue\"},\"size\":{\"units\":\"screen\",\"value\":15},\"x\":{\"value\":1.5},\"y\":{\"value\":0.2}},\"id\":\"836206dd-1e1c-4ede-99b6-acda10d6891b\",\"type\":\"Circle\"},{\"attributes\":{\"fill_alpha\":{\"value\":0.1},\"fill_color\":{\"value\":\"#1f77b4\"},\"line_alpha\":{\"value\":0.1},\"line_color\":{\"value\":\"#1f77b4\"},\"size\":{\"units\":\"screen\",\"value\":15},\"x\":{\"value\":1.5},\"y\":{\"value\":0.2}},\"id\":\"ff3af342-6f9d-424b-8ff4-40e367b00275\",\"type\":\"Circle\"},{\"attributes\":{\"source\":{\"id\":\"ea157f90-1206-424e-bd06-004666cfab7d\",\"type\":\"ColumnDataSource\"}},\"id\":\"aaf408f4-f192-422f-8069-b3b566f1600a\",\"type\":\"CDSView\"},{\"attributes\":{\"callback\":null,\"data\":{}},\"id\":\"950de1e2-2b61-4d51-a146-03a1ac605b5a\",\"type\":\"ColumnDataSource\"},{\"attributes\":{\"fill_color\":{\"value\":\"purple\"},\"line_color\":{\"value\":\"purple\"},\"size\":{\"units\":\"screen\",\"value\":15},\"x\":{\"value\":4.3},\"y\":{\"value\":1.3}},\"id\":\"aa27b3c9-4cb4-405e-9893-06dfe96fb72f\",\"type\":\"Circle\"},{\"attributes\":{\"data_source\":{\"id\":\"950de1e2-2b61-4d51-a146-03a1ac605b5a\",\"type\":\"ColumnDataSource\"},\"glyph\":{\"id\":\"982e5969-b584-498a-ba6f-8c10536c1d9e\",\"type\":\"Circle\"},\"hover_glyph\":null,\"muted_glyph\":null,\"nonselection_glyph\":{\"id\":\"3ef75022-3e44-4efd-87a4-e530518f8641\",\"type\":\"Circle\"},\"selection_glyph\":null,\"view\":{\"id\":\"946f46fb-3e7b-4781-9832-9b63fb3f6201\",\"type\":\"CDSView\"}},\"id\":\"e0288b44-69f1-4fbc-9654-e3d44ce67cf8\",\"type\":\"GlyphRenderer\"},{\"attributes\":{\"fill_alpha\":{\"value\":0.1},\"fill_color\":{\"value\":\"#1f77b4\"},\"line_alpha\":{\"value\":0.1},\"line_color\":{\"value\":\"#1f77b4\"},\"size\":{\"units\":\"screen\",\"value\":15},\"x\":{\"value\":4.3},\"y\":{\"value\":1.3}},\"id\":\"42394191-ceb7-444c-a228-808b0bd47bed\",\"type\":\"Circle\"},{\"attributes\":{\"source\":{\"id\":\"6a5aff10-e89e-4269-8e45-05690e86a048\",\"type\":\"ColumnDataSource\"}},\"id\":\"713874aa-9236-446e-934c-72de79c1e635\",\"type\":\"CDSView\"},{\"attributes\":{\"callback\":null,\"data\":{}},\"id\":\"0139ae80-2f52-41bf-92ef-b99f16b5c498\",\"type\":\"ColumnDataSource\"},{\"attributes\":{\"data_source\":{\"id\":\"0139ae80-2f52-41bf-92ef-b99f16b5c498\",\"type\":\"ColumnDataSource\"},\"glyph\":{\"id\":\"d7cb9764-7b33-44b5-b37c-0a99d1fa7451\",\"type\":\"Circle\"},\"hover_glyph\":null,\"muted_glyph\":null,\"nonselection_glyph\":{\"id\":\"793391cc-e8d2-4dd8-a930-b67c18da32aa\",\"type\":\"Circle\"},\"selection_glyph\":null,\"view\":{\"id\":\"14b704a4-64d6-46c2-b991-5fdc60b8fd99\",\"type\":\"CDSView\"}},\"id\":\"4b8f19fa-6edc-4bc4-9b3e-776a8790fae1\",\"type\":\"GlyphRenderer\"},{\"attributes\":{\"fill_color\":{\"value\":\"blue\"},\"line_color\":{\"value\":\"blue\"},\"size\":{\"units\":\"screen\",\"value\":15},\"x\":{\"value\":1.3},\"y\":{\"value\":0.3}},\"id\":\"982e5969-b584-498a-ba6f-8c10536c1d9e\",\"type\":\"Circle\"},{\"attributes\":{\"fill_alpha\":{\"value\":0.1},\"fill_color\":{\"value\":\"#1f77b4\"},\"line_alpha\":{\"value\":0.1},\"line_color\":{\"value\":\"#1f77b4\"},\"size\":{\"units\":\"screen\",\"value\":15},\"x\":{\"value\":1.3},\"y\":{\"value\":0.3}},\"id\":\"3ef75022-3e44-4efd-87a4-e530518f8641\",\"type\":\"Circle\"},{\"attributes\":{\"source\":{\"id\":\"bd19ef04-73b7-4923-915c-e75a6c853c09\",\"type\":\"ColumnDataSource\"}},\"id\":\"bd959228-a68c-4253-ae43-5bb3364da6eb\",\"type\":\"CDSView\"},{\"attributes\":{\"callback\":null,\"data\":{}},\"id\":\"38e41052-2174-481f-ae95-7bdd5362e6ef\",\"type\":\"ColumnDataSource\"},{\"attributes\":{\"fill_color\":{\"value\":\"purple\"},\"line_color\":{\"value\":\"purple\"},\"size\":{\"units\":\"screen\",\"value\":15},\"x\":{\"value\":3.0},\"y\":{\"value\":1.1}},\"id\":\"d7cb9764-7b33-44b5-b37c-0a99d1fa7451\",\"type\":\"Circle\"},{\"attributes\":{\"data_source\":{\"id\":\"38e41052-2174-481f-ae95-7bdd5362e6ef\",\"type\":\"ColumnDataSource\"},\"glyph\":{\"id\":\"a7764c91-c789-40f0-87e6-c702d9653434\",\"type\":\"Circle\"},\"hover_glyph\":null,\"muted_glyph\":null,\"nonselection_glyph\":{\"id\":\"4919fd65-c76a-4ab9-a2a4-8d10905189c2\",\"type\":\"Circle\"},\"selection_glyph\":null,\"view\":{\"id\":\"37a996fb-0c3a-4699-a735-b44ac6b8f92e\",\"type\":\"CDSView\"}},\"id\":\"ef060562-b1a7-4cd0-8eca-81fa5794bf97\",\"type\":\"GlyphRenderer\"},{\"attributes\":{\"fill_alpha\":{\"value\":0.1},\"fill_color\":{\"value\":\"#1f77b4\"},\"line_alpha\":{\"value\":0.1},\"line_color\":{\"value\":\"#1f77b4\"},\"size\":{\"units\":\"screen\",\"value\":15},\"x\":{\"value\":3.0},\"y\":{\"value\":1.1}},\"id\":\"793391cc-e8d2-4dd8-a930-b67c18da32aa\",\"type\":\"Circle\"},{\"attributes\":{\"source\":{\"id\":\"950de1e2-2b61-4d51-a146-03a1ac605b5a\",\"type\":\"ColumnDataSource\"}},\"id\":\"946f46fb-3e7b-4781-9832-9b63fb3f6201\",\"type\":\"CDSView\"},{\"attributes\":{\"callback\":null,\"data\":{}},\"id\":\"6cca81bf-ce9f-4677-824d-2bf209465ea3\",\"type\":\"ColumnDataSource\"},{\"attributes\":{\"data_source\":{\"id\":\"6cca81bf-ce9f-4677-824d-2bf209465ea3\",\"type\":\"ColumnDataSource\"},\"glyph\":{\"id\":\"ceca695a-91ae-4004-8a8d-f14140256ca1\",\"type\":\"Circle\"},\"hover_glyph\":null,\"muted_glyph\":null,\"nonselection_glyph\":{\"id\":\"9e8719ec-9daa-4eed-90c8-d2aeacb26a1c\",\"type\":\"Circle\"},\"selection_glyph\":null,\"view\":{\"id\":\"9783a267-3333-4b6c-8072-351e62cc712a\",\"type\":\"CDSView\"}},\"id\":\"03f347ca-5c5b-441d-9db9-ef9acfe14fe3\",\"type\":\"GlyphRenderer\"},{\"attributes\":{\"fill_color\":{\"value\":\"blue\"},\"line_color\":{\"value\":\"blue\"},\"size\":{\"units\":\"screen\",\"value\":15},\"x\":{\"value\":1.3},\"y\":{\"value\":0.3}},\"id\":\"a7764c91-c789-40f0-87e6-c702d9653434\",\"type\":\"Circle\"},{\"attributes\":{\"fill_alpha\":{\"value\":0.1},\"fill_color\":{\"value\":\"#1f77b4\"},\"line_alpha\":{\"value\":0.1},\"line_color\":{\"value\":\"#1f77b4\"},\"size\":{\"units\":\"screen\",\"value\":15},\"x\":{\"value\":1.3},\"y\":{\"value\":0.3}},\"id\":\"4919fd65-c76a-4ab9-a2a4-8d10905189c2\",\"type\":\"Circle\"},{\"attributes\":{\"source\":{\"id\":\"0139ae80-2f52-41bf-92ef-b99f16b5c498\",\"type\":\"ColumnDataSource\"}},\"id\":\"14b704a4-64d6-46c2-b991-5fdc60b8fd99\",\"type\":\"CDSView\"},{\"attributes\":{\"callback\":null,\"data\":{}},\"id\":\"9712b819-946f-4c2f-b10f-07a017adb022\",\"type\":\"ColumnDataSource\"},{\"attributes\":{\"fill_color\":{\"value\":\"purple\"},\"line_color\":{\"value\":\"purple\"},\"size\":{\"units\":\"screen\",\"value\":15},\"x\":{\"value\":4.1},\"y\":{\"value\":1.3}},\"id\":\"ceca695a-91ae-4004-8a8d-f14140256ca1\",\"type\":\"Circle\"},{\"attributes\":{\"data_source\":{\"id\":\"9712b819-946f-4c2f-b10f-07a017adb022\",\"type\":\"ColumnDataSource\"},\"glyph\":{\"id\":\"56425e5b-3617-4bb9-85eb-150ae7a9b520\",\"type\":\"Circle\"},\"hover_glyph\":null,\"muted_glyph\":null,\"nonselection_glyph\":{\"id\":\"dd73d7ad-02ce-4d9a-a3b1-4ad4651075c5\",\"type\":\"Circle\"},\"selection_glyph\":null,\"view\":{\"id\":\"9d64d9d8-302a-4f29-be80-0a250167ad1c\",\"type\":\"CDSView\"}},\"id\":\"cae72f4d-be56-471b-9d8a-247bb3e6c0ac\",\"type\":\"GlyphRenderer\"},{\"attributes\":{\"fill_alpha\":{\"value\":0.1},\"fill_color\":{\"value\":\"#1f77b4\"},\"line_alpha\":{\"value\":0.1},\"line_color\":{\"value\":\"#1f77b4\"},\"size\":{\"units\":\"screen\",\"value\":15},\"x\":{\"value\":4.1},\"y\":{\"value\":1.3}},\"id\":\"9e8719ec-9daa-4eed-90c8-d2aeacb26a1c\",\"type\":\"Circle\"},{\"attributes\":{\"source\":{\"id\":\"38e41052-2174-481f-ae95-7bdd5362e6ef\",\"type\":\"ColumnDataSource\"}},\"id\":\"37a996fb-0c3a-4699-a735-b44ac6b8f92e\",\"type\":\"CDSView\"},{\"attributes\":{\"callback\":null,\"data\":{}},\"id\":\"1e09f579-ee2d-4803-a038-7350b2ee6090\",\"type\":\"ColumnDataSource\"},{\"attributes\":{\"data_source\":{\"id\":\"1e09f579-ee2d-4803-a038-7350b2ee6090\",\"type\":\"ColumnDataSource\"},\"glyph\":{\"id\":\"e7c8cc61-3ba1-42db-ad74-9aa4dac81bfa\",\"type\":\"Circle\"},\"hover_glyph\":null,\"muted_glyph\":null,\"nonselection_glyph\":{\"id\":\"c12e5fff-4d48-4a26-97d3-806968ec9a06\",\"type\":\"Circle\"},\"selection_glyph\":null,\"view\":{\"id\":\"3ae851ce-e4e1-4549-aa68-117943813e3b\",\"type\":\"CDSView\"}},\"id\":\"f50ca30e-51bb-44fd-b886-12dfb9426462\",\"type\":\"GlyphRenderer\"},{\"attributes\":{\"fill_color\":{\"value\":\"blue\"},\"line_color\":{\"value\":\"blue\"},\"size\":{\"units\":\"screen\",\"value\":15},\"x\":{\"value\":1.3},\"y\":{\"value\":0.2}},\"id\":\"56425e5b-3617-4bb9-85eb-150ae7a9b520\",\"type\":\"Circle\"},{\"attributes\":{\"fill_alpha\":{\"value\":0.1},\"fill_color\":{\"value\":\"#1f77b4\"},\"line_alpha\":{\"value\":0.1},\"line_color\":{\"value\":\"#1f77b4\"},\"size\":{\"units\":\"screen\",\"value\":15},\"x\":{\"value\":1.3},\"y\":{\"value\":0.2}},\"id\":\"dd73d7ad-02ce-4d9a-a3b1-4ad4651075c5\",\"type\":\"Circle\"},{\"attributes\":{\"source\":{\"id\":\"6cca81bf-ce9f-4677-824d-2bf209465ea3\",\"type\":\"ColumnDataSource\"}},\"id\":\"9783a267-3333-4b6c-8072-351e62cc712a\",\"type\":\"CDSView\"},{\"attributes\":{\"callback\":null,\"data\":{}},\"id\":\"c3aa29d0-a255-40f9-8c66-b8692e1504bf\",\"type\":\"ColumnDataSource\"},{\"attributes\":{\"fill_color\":{\"value\":\"red\"},\"line_color\":{\"value\":\"red\"},\"size\":{\"units\":\"screen\",\"value\":15},\"x\":{\"value\":6.0},\"y\":{\"value\":2.5}},\"id\":\"e7c8cc61-3ba1-42db-ad74-9aa4dac81bfa\",\"type\":\"Circle\"},{\"attributes\":{\"data_source\":{\"id\":\"c3aa29d0-a255-40f9-8c66-b8692e1504bf\",\"type\":\"ColumnDataSource\"},\"glyph\":{\"id\":\"545f6513-e01c-4e49-84de-52370299a2a5\",\"type\":\"Circle\"},\"hover_glyph\":null,\"muted_glyph\":null,\"nonselection_glyph\":{\"id\":\"62ebdbd8-c288-45aa-a807-9b8a6ea1516a\",\"type\":\"Circle\"},\"selection_glyph\":null,\"view\":{\"id\":\"2efb0432-25a2-47f3-a2de-25d10e40329a\",\"type\":\"CDSView\"}},\"id\":\"59eb1ac2-2c88-4397-9e20-8f0f2737b88b\",\"type\":\"GlyphRenderer\"},{\"attributes\":{\"fill_alpha\":{\"value\":0.1},\"fill_color\":{\"value\":\"#1f77b4\"},\"line_alpha\":{\"value\":0.1},\"line_color\":{\"value\":\"#1f77b4\"},\"size\":{\"units\":\"screen\",\"value\":15},\"x\":{\"value\":6.0},\"y\":{\"value\":2.5}},\"id\":\"c12e5fff-4d48-4a26-97d3-806968ec9a06\",\"type\":\"Circle\"},{\"attributes\":{\"source\":{\"id\":\"9712b819-946f-4c2f-b10f-07a017adb022\",\"type\":\"ColumnDataSource\"}},\"id\":\"9d64d9d8-302a-4f29-be80-0a250167ad1c\",\"type\":\"CDSView\"},{\"attributes\":{\"callback\":null,\"data\":{}},\"id\":\"814178ad-4f8e-482e-a92b-35735518ffd9\",\"type\":\"ColumnDataSource\"},{\"attributes\":{\"data_source\":{\"id\":\"814178ad-4f8e-482e-a92b-35735518ffd9\",\"type\":\"ColumnDataSource\"},\"glyph\":{\"id\":\"b326f42d-ef8a-40e7-819c-6df86a99b76f\",\"type\":\"Circle\"},\"hover_glyph\":null,\"muted_glyph\":null,\"nonselection_glyph\":{\"id\":\"3fd33b6f-6a7e-47ad-81d7-3d6f1a66f163\",\"type\":\"Circle\"},\"selection_glyph\":null,\"view\":{\"id\":\"9f4599ca-4cba-452a-a964-a450ebe045ca\",\"type\":\"CDSView\"}},\"id\":\"2bea523b-bb24-404d-a45a-d8626d619f7e\",\"type\":\"GlyphRenderer\"},{\"attributes\":{\"fill_color\":{\"value\":\"blue\"},\"line_color\":{\"value\":\"blue\"},\"size\":{\"units\":\"screen\",\"value\":15},\"x\":{\"value\":1.6},\"y\":{\"value\":0.6}},\"id\":\"545f6513-e01c-4e49-84de-52370299a2a5\",\"type\":\"Circle\"},{\"attributes\":{\"fill_alpha\":{\"value\":0.1},\"fill_color\":{\"value\":\"#1f77b4\"},\"line_alpha\":{\"value\":0.1},\"line_color\":{\"value\":\"#1f77b4\"},\"size\":{\"units\":\"screen\",\"value\":15},\"x\":{\"value\":1.6},\"y\":{\"value\":0.6}},\"id\":\"62ebdbd8-c288-45aa-a807-9b8a6ea1516a\",\"type\":\"Circle\"},{\"attributes\":{\"source\":{\"id\":\"1e09f579-ee2d-4803-a038-7350b2ee6090\",\"type\":\"ColumnDataSource\"}},\"id\":\"3ae851ce-e4e1-4549-aa68-117943813e3b\",\"type\":\"CDSView\"},{\"attributes\":{\"callback\":null,\"data\":{}},\"id\":\"e3f2f5ca-35a4-46df-9192-f71920acc34b\",\"type\":\"ColumnDataSource\"},{\"attributes\":{\"fill_color\":{\"value\":\"red\"},\"line_color\":{\"value\":\"red\"},\"size\":{\"units\":\"screen\",\"value\":15},\"x\":{\"value\":5.1},\"y\":{\"value\":1.9}},\"id\":\"b326f42d-ef8a-40e7-819c-6df86a99b76f\",\"type\":\"Circle\"},{\"attributes\":{\"data_source\":{\"id\":\"e3f2f5ca-35a4-46df-9192-f71920acc34b\",\"type\":\"ColumnDataSource\"},\"glyph\":{\"id\":\"3d0a3eb0-8a16-4afa-a854-b7ecabd76313\",\"type\":\"Circle\"},\"hover_glyph\":null,\"muted_glyph\":null,\"nonselection_glyph\":{\"id\":\"53c53814-4bf7-48a8-bcf8-df38437306a4\",\"type\":\"Circle\"},\"selection_glyph\":null,\"view\":{\"id\":\"5d67d1bb-b502-4a9a-9c3a-3dd730e3d48f\",\"type\":\"CDSView\"}},\"id\":\"047d7030-d579-4967-b22a-1499366af919\",\"type\":\"GlyphRenderer\"},{\"attributes\":{\"fill_alpha\":{\"value\":0.1},\"fill_color\":{\"value\":\"#1f77b4\"},\"line_alpha\":{\"value\":0.1},\"line_color\":{\"value\":\"#1f77b4\"},\"size\":{\"units\":\"screen\",\"value\":15},\"x\":{\"value\":5.1},\"y\":{\"value\":1.9}},\"id\":\"3fd33b6f-6a7e-47ad-81d7-3d6f1a66f163\",\"type\":\"Circle\"},{\"attributes\":{\"source\":{\"id\":\"c3aa29d0-a255-40f9-8c66-b8692e1504bf\",\"type\":\"ColumnDataSource\"}},\"id\":\"2efb0432-25a2-47f3-a2de-25d10e40329a\",\"type\":\"CDSView\"},{\"attributes\":{\"callback\":null,\"data\":{}},\"id\":\"cf0de9a3-0140-480a-9267-237ade3a5b1c\",\"type\":\"ColumnDataSource\"},{\"attributes\":{\"data_source\":{\"id\":\"cf0de9a3-0140-480a-9267-237ade3a5b1c\",\"type\":\"ColumnDataSource\"},\"glyph\":{\"id\":\"65462834-687b-4917-8c53-7bcf46b3bdce\",\"type\":\"Circle\"},\"hover_glyph\":null,\"muted_glyph\":null,\"nonselection_glyph\":{\"id\":\"44ceb724-020c-44f9-a911-c9ae3c741d69\",\"type\":\"Circle\"},\"selection_glyph\":null,\"view\":{\"id\":\"a57bd2f8-2069-434b-bd02-3f77545668b0\",\"type\":\"CDSView\"}},\"id\":\"725c4e80-341a-4c0f-a6fd-5f918688e7f3\",\"type\":\"GlyphRenderer\"},{\"attributes\":{\"fill_color\":{\"value\":\"blue\"},\"line_color\":{\"value\":\"blue\"},\"size\":{\"units\":\"screen\",\"value\":15},\"x\":{\"value\":1.9},\"y\":{\"value\":0.4}},\"id\":\"3d0a3eb0-8a16-4afa-a854-b7ecabd76313\",\"type\":\"Circle\"},{\"attributes\":{\"fill_alpha\":{\"value\":0.1},\"fill_color\":{\"value\":\"#1f77b4\"},\"line_alpha\":{\"value\":0.1},\"line_color\":{\"value\":\"#1f77b4\"},\"size\":{\"units\":\"screen\",\"value\":15},\"x\":{\"value\":1.9},\"y\":{\"value\":0.4}},\"id\":\"53c53814-4bf7-48a8-bcf8-df38437306a4\",\"type\":\"Circle\"},{\"attributes\":{\"source\":{\"id\":\"814178ad-4f8e-482e-a92b-35735518ffd9\",\"type\":\"ColumnDataSource\"}},\"id\":\"9f4599ca-4cba-452a-a964-a450ebe045ca\",\"type\":\"CDSView\"},{\"attributes\":{\"source\":{\"id\":\"e3f2f5ca-35a4-46df-9192-f71920acc34b\",\"type\":\"ColumnDataSource\"}},\"id\":\"5d67d1bb-b502-4a9a-9c3a-3dd730e3d48f\",\"type\":\"CDSView\"},{\"attributes\":{\"fill_color\":{\"value\":\"red\"},\"line_color\":{\"value\":\"red\"},\"size\":{\"units\":\"screen\",\"value\":15},\"x\":{\"value\":5.9},\"y\":{\"value\":2.1}},\"id\":\"65462834-687b-4917-8c53-7bcf46b3bdce\",\"type\":\"Circle\"},{\"attributes\":{\"fill_color\":{\"value\":\"blue\"},\"line_color\":{\"value\":\"blue\"},\"size\":{\"units\":\"screen\",\"value\":15},\"x\":{\"value\":1.4},\"y\":{\"value\":0.3}},\"id\":\"3e3328e0-dcf0-4583-960c-77b587186178\",\"type\":\"Circle\"},{\"attributes\":{\"fill_alpha\":{\"value\":0.1},\"fill_color\":{\"value\":\"#1f77b4\"},\"line_alpha\":{\"value\":0.1},\"line_color\":{\"value\":\"#1f77b4\"},\"size\":{\"units\":\"screen\",\"value\":15},\"x\":{\"value\":5.9},\"y\":{\"value\":2.1}},\"id\":\"44ceb724-020c-44f9-a911-c9ae3c741d69\",\"type\":\"Circle\"},{\"attributes\":{\"callback\":null,\"data\":{}},\"id\":\"d111f49f-dc84-438a-9e0d-05a977dceee1\",\"type\":\"ColumnDataSource\"},{\"attributes\":{\"source\":{\"id\":\"cf0de9a3-0140-480a-9267-237ade3a5b1c\",\"type\":\"ColumnDataSource\"}},\"id\":\"a57bd2f8-2069-434b-bd02-3f77545668b0\",\"type\":\"CDSView\"},{\"attributes\":{\"data_source\":{\"id\":\"d111f49f-dc84-438a-9e0d-05a977dceee1\",\"type\":\"ColumnDataSource\"},\"glyph\":{\"id\":\"3e3328e0-dcf0-4583-960c-77b587186178\",\"type\":\"Circle\"},\"hover_glyph\":null,\"muted_glyph\":null,\"nonselection_glyph\":{\"id\":\"ef7afcb8-d718-4937-b971-327a15067d05\",\"type\":\"Circle\"},\"selection_glyph\":null,\"view\":{\"id\":\"93f3b001-6278-4e0a-a0e4-48739434eb39\",\"type\":\"CDSView\"}},\"id\":\"1a290b41-16b8-4578-9bdb-05e7e07b162d\",\"type\":\"GlyphRenderer\"},{\"attributes\":{\"source\":{\"id\":\"c3e1811c-e90d-48fb-bd71-8f9d58f03cbf\",\"type\":\"ColumnDataSource\"}},\"id\":\"1afea0f4-16d9-4a93-af20-f8b247530c43\",\"type\":\"CDSView\"},{\"attributes\":{\"source\":{\"id\":\"d111f49f-dc84-438a-9e0d-05a977dceee1\",\"type\":\"ColumnDataSource\"}},\"id\":\"93f3b001-6278-4e0a-a0e4-48739434eb39\",\"type\":\"CDSView\"},{\"attributes\":{\"fill_color\":{\"value\":\"blue\"},\"line_color\":{\"value\":\"blue\"},\"size\":{\"units\":\"screen\",\"value\":15},\"x\":{\"value\":1.6},\"y\":{\"value\":0.2}},\"id\":\"a6e93f17-171a-4ca5-91e7-14703fac8e14\",\"type\":\"Circle\"},{\"attributes\":{\"callback\":null,\"data\":{}},\"id\":\"c9753bf7-890b-466f-bca4-7a1732132f91\",\"type\":\"ColumnDataSource\"},{\"attributes\":{\"data_source\":{\"id\":\"c9753bf7-890b-466f-bca4-7a1732132f91\",\"type\":\"ColumnDataSource\"},\"glyph\":{\"id\":\"a6e93f17-171a-4ca5-91e7-14703fac8e14\",\"type\":\"Circle\"},\"hover_glyph\":null,\"muted_glyph\":null,\"nonselection_glyph\":{\"id\":\"038d3f92-1ffe-4514-868a-19b4df7df73f\",\"type\":\"Circle\"},\"selection_glyph\":null,\"view\":{\"id\":\"089c8e54-e0b1-4c14-ae77-91555aa3050d\",\"type\":\"CDSView\"}},\"id\":\"9318da8a-bed1-4984-8d9c-b83c661410dd\",\"type\":\"GlyphRenderer\"},{\"attributes\":{\"fill_alpha\":{\"value\":0.1},\"fill_color\":{\"value\":\"#1f77b4\"},\"line_alpha\":{\"value\":0.1},\"line_color\":{\"value\":\"#1f77b4\"},\"size\":{\"units\":\"screen\",\"value\":15},\"x\":{\"value\":1.6},\"y\":{\"value\":0.2}},\"id\":\"038d3f92-1ffe-4514-868a-19b4df7df73f\",\"type\":\"Circle\"},{\"attributes\":{\"callback\":null,\"data\":{}},\"id\":\"7617ccbd-92bd-4052-a508-9b3ae9374697\",\"type\":\"ColumnDataSource\"},{\"attributes\":{\"data_source\":{\"id\":\"7617ccbd-92bd-4052-a508-9b3ae9374697\",\"type\":\"ColumnDataSource\"},\"glyph\":{\"id\":\"e36c9baf-57f2-4a9b-9e48-4d0019a31227\",\"type\":\"Circle\"},\"hover_glyph\":null,\"muted_glyph\":null,\"nonselection_glyph\":{\"id\":\"45bacf9b-f1e1-43d0-b93e-4058205d760f\",\"type\":\"Circle\"},\"selection_glyph\":null,\"view\":{\"id\":\"e56dfa9d-fa7f-4b1e-be8d-ff0c4b82346c\",\"type\":\"CDSView\"}},\"id\":\"cdc60d63-1473-4c74-a859-dff5f3151806\",\"type\":\"GlyphRenderer\"},{\"attributes\":{\"source\":{\"id\":\"c9753bf7-890b-466f-bca4-7a1732132f91\",\"type\":\"ColumnDataSource\"}},\"id\":\"089c8e54-e0b1-4c14-ae77-91555aa3050d\",\"type\":\"CDSView\"},{\"attributes\":{\"fill_color\":{\"value\":\"blue\"},\"line_color\":{\"value\":\"blue\"},\"size\":{\"units\":\"screen\",\"value\":15},\"x\":{\"value\":1.4},\"y\":{\"value\":0.2}},\"id\":\"e36c9baf-57f2-4a9b-9e48-4d0019a31227\",\"type\":\"Circle\"},{\"attributes\":{\"fill_alpha\":{\"value\":0.1},\"fill_color\":{\"value\":\"#1f77b4\"},\"line_alpha\":{\"value\":0.1},\"line_color\":{\"value\":\"#1f77b4\"},\"size\":{\"units\":\"screen\",\"value\":15},\"x\":{\"value\":1.4},\"y\":{\"value\":0.2}},\"id\":\"45bacf9b-f1e1-43d0-b93e-4058205d760f\",\"type\":\"Circle\"},{\"attributes\":{\"callback\":null,\"data\":{}},\"id\":\"eea2fa89-7c4a-4b51-962c-d0c43ec04bf8\",\"type\":\"ColumnDataSource\"},{\"attributes\":{\"data_source\":{\"id\":\"eea2fa89-7c4a-4b51-962c-d0c43ec04bf8\",\"type\":\"ColumnDataSource\"},\"glyph\":{\"id\":\"8f4e7264-68ca-40f3-b4ce-179be636956e\",\"type\":\"Circle\"},\"hover_glyph\":null,\"muted_glyph\":null,\"nonselection_glyph\":{\"id\":\"0d15be4e-4dae-49e5-ba58-579896312b7b\",\"type\":\"Circle\"},\"selection_glyph\":null,\"view\":{\"id\":\"0d6b479b-e516-470f-bb4c-21ef21db7cb1\",\"type\":\"CDSView\"}},\"id\":\"22a5a02a-a13b-4763-b7fd-daaa563bbf9b\",\"type\":\"GlyphRenderer\"},{\"attributes\":{\"source\":{\"id\":\"7617ccbd-92bd-4052-a508-9b3ae9374697\",\"type\":\"ColumnDataSource\"}},\"id\":\"e56dfa9d-fa7f-4b1e-be8d-ff0c4b82346c\",\"type\":\"CDSView\"},{\"attributes\":{\"fill_color\":{\"value\":\"blue\"},\"line_color\":{\"value\":\"blue\"},\"size\":{\"units\":\"screen\",\"value\":15},\"x\":{\"value\":1.5},\"y\":{\"value\":0.2}},\"id\":\"8f4e7264-68ca-40f3-b4ce-179be636956e\",\"type\":\"Circle\"},{\"attributes\":{\"fill_alpha\":{\"value\":0.1},\"fill_color\":{\"value\":\"#1f77b4\"},\"line_alpha\":{\"value\":0.1},\"line_color\":{\"value\":\"#1f77b4\"},\"size\":{\"units\":\"screen\",\"value\":15},\"x\":{\"value\":1.5},\"y\":{\"value\":0.2}},\"id\":\"0d15be4e-4dae-49e5-ba58-579896312b7b\",\"type\":\"Circle\"},{\"attributes\":{\"callback\":null,\"data\":{}},\"id\":\"15b3c892-5f18-44c4-845b-cbea718b05bc\",\"type\":\"ColumnDataSource\"},{\"attributes\":{\"data_source\":{\"id\":\"15b3c892-5f18-44c4-845b-cbea718b05bc\",\"type\":\"ColumnDataSource\"},\"glyph\":{\"id\":\"4dc05d5f-3e27-4d86-be28-249d86343393\",\"type\":\"Circle\"},\"hover_glyph\":null,\"muted_glyph\":null,\"nonselection_glyph\":{\"id\":\"ef91eefe-b74b-4326-80f9-e7aff84438e9\",\"type\":\"Circle\"},\"selection_glyph\":null,\"view\":{\"id\":\"71b5c23f-0ae3-478c-8ed0-cf65631d06b8\",\"type\":\"CDSView\"}},\"id\":\"a0e239dd-b60f-42d9-9852-a80a295451f8\",\"type\":\"GlyphRenderer\"},{\"attributes\":{\"source\":{\"id\":\"eea2fa89-7c4a-4b51-962c-d0c43ec04bf8\",\"type\":\"ColumnDataSource\"}},\"id\":\"0d6b479b-e516-470f-bb4c-21ef21db7cb1\",\"type\":\"CDSView\"},{\"attributes\":{\"fill_color\":{\"value\":\"blue\"},\"line_color\":{\"value\":\"blue\"},\"size\":{\"units\":\"screen\",\"value\":15},\"x\":{\"value\":1.4},\"y\":{\"value\":0.2}},\"id\":\"4dc05d5f-3e27-4d86-be28-249d86343393\",\"type\":\"Circle\"},{\"attributes\":{\"fill_alpha\":{\"value\":0.1},\"fill_color\":{\"value\":\"#1f77b4\"},\"line_alpha\":{\"value\":0.1},\"line_color\":{\"value\":\"#1f77b4\"},\"size\":{\"units\":\"screen\",\"value\":15},\"x\":{\"value\":1.4},\"y\":{\"value\":0.2}},\"id\":\"ef91eefe-b74b-4326-80f9-e7aff84438e9\",\"type\":\"Circle\"},{\"attributes\":{\"callback\":null,\"data\":{}},\"id\":\"619bad9c-09a9-4fd7-b174-33055dbcbe3f\",\"type\":\"ColumnDataSource\"},{\"attributes\":{\"data_source\":{\"id\":\"619bad9c-09a9-4fd7-b174-33055dbcbe3f\",\"type\":\"ColumnDataSource\"},\"glyph\":{\"id\":\"9753b28c-5608-4647-87a0-fc9b0c7cf4e0\",\"type\":\"Circle\"},\"hover_glyph\":null,\"muted_glyph\":null,\"nonselection_glyph\":{\"id\":\"e94d7bfe-be40-4efb-8b2f-d7f54320aaa0\",\"type\":\"Circle\"},\"selection_glyph\":null,\"view\":{\"id\":\"6d1b0d5c-83e3-4015-a806-83319d57ef15\",\"type\":\"CDSView\"}},\"id\":\"55783082-7c80-4eab-954e-6ab083ea8230\",\"type\":\"GlyphRenderer\"},{\"attributes\":{\"source\":{\"id\":\"15b3c892-5f18-44c4-845b-cbea718b05bc\",\"type\":\"ColumnDataSource\"}},\"id\":\"71b5c23f-0ae3-478c-8ed0-cf65631d06b8\",\"type\":\"CDSView\"},{\"attributes\":{\"fill_color\":{\"value\":\"purple\"},\"line_color\":{\"value\":\"purple\"},\"size\":{\"units\":\"screen\",\"value\":15},\"x\":{\"value\":4.7},\"y\":{\"value\":1.4}},\"id\":\"9753b28c-5608-4647-87a0-fc9b0c7cf4e0\",\"type\":\"Circle\"},{\"attributes\":{\"fill_alpha\":{\"value\":0.1},\"fill_color\":{\"value\":\"#1f77b4\"},\"line_alpha\":{\"value\":0.1},\"line_color\":{\"value\":\"#1f77b4\"},\"size\":{\"units\":\"screen\",\"value\":15},\"x\":{\"value\":4.7},\"y\":{\"value\":1.4}},\"id\":\"e94d7bfe-be40-4efb-8b2f-d7f54320aaa0\",\"type\":\"Circle\"},{\"attributes\":{\"callback\":null,\"data\":{}},\"id\":\"ff90fc31-8f9f-4010-af0c-9170ca7ea4fa\",\"type\":\"ColumnDataSource\"},{\"attributes\":{\"data_source\":{\"id\":\"ff90fc31-8f9f-4010-af0c-9170ca7ea4fa\",\"type\":\"ColumnDataSource\"},\"glyph\":{\"id\":\"85f86a7e-d8f8-401f-94bb-f8ba978e06e5\",\"type\":\"Circle\"},\"hover_glyph\":null,\"muted_glyph\":null,\"nonselection_glyph\":{\"id\":\"87197860-3cbd-4861-88cb-ee2a53809380\",\"type\":\"Circle\"},\"selection_glyph\":null,\"view\":{\"id\":\"56220d25-e620-42a9-b620-fd1240593c0b\",\"type\":\"CDSView\"}},\"id\":\"b66574bb-04c4-4fb1-b894-12c7ae42f830\",\"type\":\"GlyphRenderer\"},{\"attributes\":{\"source\":{\"id\":\"619bad9c-09a9-4fd7-b174-33055dbcbe3f\",\"type\":\"ColumnDataSource\"}},\"id\":\"6d1b0d5c-83e3-4015-a806-83319d57ef15\",\"type\":\"CDSView\"},{\"attributes\":{\"fill_color\":{\"value\":\"purple\"},\"line_color\":{\"value\":\"purple\"},\"size\":{\"units\":\"screen\",\"value\":15},\"x\":{\"value\":4.5},\"y\":{\"value\":1.5}},\"id\":\"85f86a7e-d8f8-401f-94bb-f8ba978e06e5\",\"type\":\"Circle\"},{\"attributes\":{\"fill_alpha\":{\"value\":0.1},\"fill_color\":{\"value\":\"#1f77b4\"},\"line_alpha\":{\"value\":0.1},\"line_color\":{\"value\":\"#1f77b4\"},\"size\":{\"units\":\"screen\",\"value\":15},\"x\":{\"value\":4.5},\"y\":{\"value\":1.5}},\"id\":\"87197860-3cbd-4861-88cb-ee2a53809380\",\"type\":\"Circle\"},{\"attributes\":{\"callback\":null,\"data\":{}},\"id\":\"4c72c502-a04a-4513-8551-954bdd77dddb\",\"type\":\"ColumnDataSource\"},{\"attributes\":{\"data_source\":{\"id\":\"4c72c502-a04a-4513-8551-954bdd77dddb\",\"type\":\"ColumnDataSource\"},\"glyph\":{\"id\":\"92b6e3aa-f711-4119-8dbd-42a5769520a2\",\"type\":\"Circle\"},\"hover_glyph\":null,\"muted_glyph\":null,\"nonselection_glyph\":{\"id\":\"2d0df371-7e4e-422f-89c3-53417955d9f2\",\"type\":\"Circle\"},\"selection_glyph\":null,\"view\":{\"id\":\"f07d209f-e6d4-46d9-bb20-6c69018f38a5\",\"type\":\"CDSView\"}},\"id\":\"16f18a28-6b5c-40eb-b9c3-2f54b5f03827\",\"type\":\"GlyphRenderer\"},{\"attributes\":{\"source\":{\"id\":\"ff90fc31-8f9f-4010-af0c-9170ca7ea4fa\",\"type\":\"ColumnDataSource\"}},\"id\":\"56220d25-e620-42a9-b620-fd1240593c0b\",\"type\":\"CDSView\"},{\"attributes\":{\"fill_color\":{\"value\":\"purple\"},\"line_color\":{\"value\":\"purple\"},\"size\":{\"units\":\"screen\",\"value\":15},\"x\":{\"value\":4.9},\"y\":{\"value\":1.5}},\"id\":\"92b6e3aa-f711-4119-8dbd-42a5769520a2\",\"type\":\"Circle\"},{\"attributes\":{\"fill_alpha\":{\"value\":0.1},\"fill_color\":{\"value\":\"#1f77b4\"},\"line_alpha\":{\"value\":0.1},\"line_color\":{\"value\":\"#1f77b4\"},\"size\":{\"units\":\"screen\",\"value\":15},\"x\":{\"value\":4.9},\"y\":{\"value\":1.5}},\"id\":\"2d0df371-7e4e-422f-89c3-53417955d9f2\",\"type\":\"Circle\"},{\"attributes\":{\"callback\":null,\"data\":{}},\"id\":\"45169a5c-15f5-49f8-a93a-605b82db7f9e\",\"type\":\"ColumnDataSource\"},{\"attributes\":{\"data_source\":{\"id\":\"45169a5c-15f5-49f8-a93a-605b82db7f9e\",\"type\":\"ColumnDataSource\"},\"glyph\":{\"id\":\"82f58d9f-0c0c-4db1-8073-dea09d13d464\",\"type\":\"Circle\"},\"hover_glyph\":null,\"muted_glyph\":null,\"nonselection_glyph\":{\"id\":\"b4c55430-04aa-4262-aa58-38e9a3e22c11\",\"type\":\"Circle\"},\"selection_glyph\":null,\"view\":{\"id\":\"6aacc045-f9d2-443d-8c4b-feeec33857f9\",\"type\":\"CDSView\"}},\"id\":\"bb42eb7e-c161-43fb-a30a-eaa946d99c09\",\"type\":\"GlyphRenderer\"},{\"attributes\":{\"source\":{\"id\":\"4c72c502-a04a-4513-8551-954bdd77dddb\",\"type\":\"ColumnDataSource\"}},\"id\":\"f07d209f-e6d4-46d9-bb20-6c69018f38a5\",\"type\":\"CDSView\"},{\"attributes\":{\"fill_color\":{\"value\":\"purple\"},\"line_color\":{\"value\":\"purple\"},\"size\":{\"units\":\"screen\",\"value\":15},\"x\":{\"value\":4.0},\"y\":{\"value\":1.3}},\"id\":\"82f58d9f-0c0c-4db1-8073-dea09d13d464\",\"type\":\"Circle\"},{\"attributes\":{\"fill_alpha\":{\"value\":0.1},\"fill_color\":{\"value\":\"#1f77b4\"},\"line_alpha\":{\"value\":0.1},\"line_color\":{\"value\":\"#1f77b4\"},\"size\":{\"units\":\"screen\",\"value\":15},\"x\":{\"value\":4.0},\"y\":{\"value\":1.3}},\"id\":\"b4c55430-04aa-4262-aa58-38e9a3e22c11\",\"type\":\"Circle\"},{\"attributes\":{\"callback\":null,\"data\":{}},\"id\":\"a4cf518c-0e80-4966-a162-dddffa385dd3\",\"type\":\"ColumnDataSource\"},{\"attributes\":{\"data_source\":{\"id\":\"a4cf518c-0e80-4966-a162-dddffa385dd3\",\"type\":\"ColumnDataSource\"},\"glyph\":{\"id\":\"782be325-7b0f-4b32-96a0-9f3a30b86552\",\"type\":\"Circle\"},\"hover_glyph\":null,\"muted_glyph\":null,\"nonselection_glyph\":{\"id\":\"8fc1187c-25d6-4091-80d8-7b634321fab3\",\"type\":\"Circle\"},\"selection_glyph\":null,\"view\":{\"id\":\"f2e455f9-9d87-4811-8a57-419c204bbe86\",\"type\":\"CDSView\"}},\"id\":\"c15e61c5-53a6-4ace-b2db-8216264607ca\",\"type\":\"GlyphRenderer\"},{\"attributes\":{\"source\":{\"id\":\"45169a5c-15f5-49f8-a93a-605b82db7f9e\",\"type\":\"ColumnDataSource\"}},\"id\":\"6aacc045-f9d2-443d-8c4b-feeec33857f9\",\"type\":\"CDSView\"},{\"attributes\":{\"fill_color\":{\"value\":\"purple\"},\"line_color\":{\"value\":\"purple\"},\"size\":{\"units\":\"screen\",\"value\":15},\"x\":{\"value\":4.6},\"y\":{\"value\":1.5}},\"id\":\"782be325-7b0f-4b32-96a0-9f3a30b86552\",\"type\":\"Circle\"},{\"attributes\":{\"fill_alpha\":{\"value\":0.1},\"fill_color\":{\"value\":\"#1f77b4\"},\"line_alpha\":{\"value\":0.1},\"line_color\":{\"value\":\"#1f77b4\"},\"size\":{\"units\":\"screen\",\"value\":15},\"x\":{\"value\":4.6},\"y\":{\"value\":1.5}},\"id\":\"8fc1187c-25d6-4091-80d8-7b634321fab3\",\"type\":\"Circle\"},{\"attributes\":{\"callback\":null,\"data\":{}},\"id\":\"e2e4e31b-f7c3-4955-a993-1bc9ec8a74f6\",\"type\":\"ColumnDataSource\"},{\"attributes\":{\"data_source\":{\"id\":\"e2e4e31b-f7c3-4955-a993-1bc9ec8a74f6\",\"type\":\"ColumnDataSource\"},\"glyph\":{\"id\":\"81474b27-f23c-461e-9fe7-b2a639d8edbf\",\"type\":\"Circle\"},\"hover_glyph\":null,\"muted_glyph\":null,\"nonselection_glyph\":{\"id\":\"95ce66c0-1831-44c2-8a21-a4b934a3d7fc\",\"type\":\"Circle\"},\"selection_glyph\":null,\"view\":{\"id\":\"c759da44-fa19-4877-944c-28bc4b559913\",\"type\":\"CDSView\"}},\"id\":\"c8e3f2b7-4ed5-4b37-a1cf-d4c436e6655e\",\"type\":\"GlyphRenderer\"},{\"attributes\":{\"source\":{\"id\":\"a4cf518c-0e80-4966-a162-dddffa385dd3\",\"type\":\"ColumnDataSource\"}},\"id\":\"f2e455f9-9d87-4811-8a57-419c204bbe86\",\"type\":\"CDSView\"},{\"attributes\":{\"fill_color\":{\"value\":\"purple\"},\"line_color\":{\"value\":\"purple\"},\"size\":{\"units\":\"screen\",\"value\":15},\"x\":{\"value\":4.5},\"y\":{\"value\":1.3}},\"id\":\"81474b27-f23c-461e-9fe7-b2a639d8edbf\",\"type\":\"Circle\"},{\"attributes\":{\"fill_alpha\":{\"value\":0.1},\"fill_color\":{\"value\":\"#1f77b4\"},\"line_alpha\":{\"value\":0.1},\"line_color\":{\"value\":\"#1f77b4\"},\"size\":{\"units\":\"screen\",\"value\":15},\"x\":{\"value\":4.5},\"y\":{\"value\":1.3}},\"id\":\"95ce66c0-1831-44c2-8a21-a4b934a3d7fc\",\"type\":\"Circle\"},{\"attributes\":{\"callback\":null,\"data\":{}},\"id\":\"60d82ac3-ba05-46fb-bc54-79c622cfe7c8\",\"type\":\"ColumnDataSource\"},{\"attributes\":{\"data_source\":{\"id\":\"60d82ac3-ba05-46fb-bc54-79c622cfe7c8\",\"type\":\"ColumnDataSource\"},\"glyph\":{\"id\":\"22da2270-f184-4408-9cba-da59cb8d3025\",\"type\":\"Circle\"},\"hover_glyph\":null,\"muted_glyph\":null,\"nonselection_glyph\":{\"id\":\"b25d828d-093b-43b4-9482-683f66c89a28\",\"type\":\"Circle\"},\"selection_glyph\":null,\"view\":{\"id\":\"7696ce2e-368c-41f8-b9ee-4f6665159272\",\"type\":\"CDSView\"}},\"id\":\"2a5a98d3-b9d0-4f66-bddd-e0d720078dc6\",\"type\":\"GlyphRenderer\"},{\"attributes\":{\"source\":{\"id\":\"e2e4e31b-f7c3-4955-a993-1bc9ec8a74f6\",\"type\":\"ColumnDataSource\"}},\"id\":\"c759da44-fa19-4877-944c-28bc4b559913\",\"type\":\"CDSView\"},{\"attributes\":{\"fill_color\":{\"value\":\"purple\"},\"line_color\":{\"value\":\"purple\"},\"size\":{\"units\":\"screen\",\"value\":15},\"x\":{\"value\":4.7},\"y\":{\"value\":1.6}},\"id\":\"22da2270-f184-4408-9cba-da59cb8d3025\",\"type\":\"Circle\"},{\"attributes\":{\"fill_alpha\":{\"value\":0.1},\"fill_color\":{\"value\":\"#1f77b4\"},\"line_alpha\":{\"value\":0.1},\"line_color\":{\"value\":\"#1f77b4\"},\"size\":{\"units\":\"screen\",\"value\":15},\"x\":{\"value\":4.7},\"y\":{\"value\":1.6}},\"id\":\"b25d828d-093b-43b4-9482-683f66c89a28\",\"type\":\"Circle\"},{\"attributes\":{\"callback\":null,\"data\":{}},\"id\":\"26f8d6fd-d151-4471-bd01-d9630294bb5d\",\"type\":\"ColumnDataSource\"},{\"attributes\":{\"data_source\":{\"id\":\"26f8d6fd-d151-4471-bd01-d9630294bb5d\",\"type\":\"ColumnDataSource\"},\"glyph\":{\"id\":\"a92f2381-6ac1-4bca-a478-d629ba84344a\",\"type\":\"Circle\"},\"hover_glyph\":null,\"muted_glyph\":null,\"nonselection_glyph\":{\"id\":\"3a5f55a2-978e-4e92-a93d-169abcba8694\",\"type\":\"Circle\"},\"selection_glyph\":null,\"view\":{\"id\":\"e1f0f7a1-5f55-4220-b8ee-8f85d37f33a9\",\"type\":\"CDSView\"}},\"id\":\"b8a5e74b-9d68-4989-a9cd-74e73ff1cc65\",\"type\":\"GlyphRenderer\"},{\"attributes\":{\"source\":{\"id\":\"60d82ac3-ba05-46fb-bc54-79c622cfe7c8\",\"type\":\"ColumnDataSource\"}},\"id\":\"7696ce2e-368c-41f8-b9ee-4f6665159272\",\"type\":\"CDSView\"},{\"attributes\":{\"fill_color\":{\"value\":\"purple\"},\"line_color\":{\"value\":\"purple\"},\"size\":{\"units\":\"screen\",\"value\":15},\"x\":{\"value\":3.3},\"y\":{\"value\":1.0}},\"id\":\"a92f2381-6ac1-4bca-a478-d629ba84344a\",\"type\":\"Circle\"},{\"attributes\":{\"fill_alpha\":{\"value\":0.1},\"fill_color\":{\"value\":\"#1f77b4\"},\"line_alpha\":{\"value\":0.1},\"line_color\":{\"value\":\"#1f77b4\"},\"size\":{\"units\":\"screen\",\"value\":15},\"x\":{\"value\":3.3},\"y\":{\"value\":1.0}},\"id\":\"3a5f55a2-978e-4e92-a93d-169abcba8694\",\"type\":\"Circle\"},{\"attributes\":{\"fill_color\":{\"value\":\"red\"},\"line_color\":{\"value\":\"red\"},\"size\":{\"units\":\"screen\",\"value\":15},\"x\":{\"value\":5.2},\"y\":{\"value\":2.0}},\"id\":\"cf970dea-cc4c-46d1-b58c-37264839cd88\",\"type\":\"Circle\"},{\"attributes\":{\"callback\":null,\"data\":{}},\"id\":\"028d5162-dace-4157-b202-07a15352b820\",\"type\":\"ColumnDataSource\"},{\"attributes\":{\"data_source\":{\"id\":\"028d5162-dace-4157-b202-07a15352b820\",\"type\":\"ColumnDataSource\"},\"glyph\":{\"id\":\"5535e57e-3d0b-45bf-9a39-95a6363fc01f\",\"type\":\"Circle\"},\"hover_glyph\":null,\"muted_glyph\":null,\"nonselection_glyph\":{\"id\":\"0ad42252-acc5-4e34-aca1-46a516d9ab54\",\"type\":\"Circle\"},\"selection_glyph\":null,\"view\":{\"id\":\"acf0e379-92c3-45ad-ab46-cecad737593a\",\"type\":\"CDSView\"}},\"id\":\"22810648-7efd-480d-90db-38de84ff7a70\",\"type\":\"GlyphRenderer\"},{\"attributes\":{\"source\":{\"id\":\"26f8d6fd-d151-4471-bd01-d9630294bb5d\",\"type\":\"ColumnDataSource\"}},\"id\":\"e1f0f7a1-5f55-4220-b8ee-8f85d37f33a9\",\"type\":\"CDSView\"},{\"attributes\":{\"fill_color\":{\"value\":\"purple\"},\"line_color\":{\"value\":\"purple\"},\"size\":{\"units\":\"screen\",\"value\":15},\"x\":{\"value\":4.6},\"y\":{\"value\":1.3}},\"id\":\"5535e57e-3d0b-45bf-9a39-95a6363fc01f\",\"type\":\"Circle\"},{\"attributes\":{\"fill_alpha\":{\"value\":0.1},\"fill_color\":{\"value\":\"#1f77b4\"},\"line_alpha\":{\"value\":0.1},\"line_color\":{\"value\":\"#1f77b4\"},\"size\":{\"units\":\"screen\",\"value\":15},\"x\":{\"value\":4.6},\"y\":{\"value\":1.3}},\"id\":\"0ad42252-acc5-4e34-aca1-46a516d9ab54\",\"type\":\"Circle\"},{\"attributes\":{\"callback\":null,\"data\":{}},\"id\":\"c3e1811c-e90d-48fb-bd71-8f9d58f03cbf\",\"type\":\"ColumnDataSource\"},{\"attributes\":{\"callback\":null,\"data\":{}},\"id\":\"7a156d4f-f67b-4ae5-a0dc-fca56e629290\",\"type\":\"ColumnDataSource\"},{\"attributes\":{\"data_source\":{\"id\":\"c3e1811c-e90d-48fb-bd71-8f9d58f03cbf\",\"type\":\"ColumnDataSource\"},\"glyph\":{\"id\":\"18efee61-4d8d-4218-935f-4bb19318c71c\",\"type\":\"Circle\"},\"hover_glyph\":null,\"muted_glyph\":null,\"nonselection_glyph\":{\"id\":\"de3eb411-7fc5-447f-966b-508e67fe91f6\",\"type\":\"Circle\"},\"selection_glyph\":null,\"view\":{\"id\":\"1afea0f4-16d9-4a93-af20-f8b247530c43\",\"type\":\"CDSView\"}},\"id\":\"042617c3-c609-47c5-b0b9-7191b2b6e4b5\",\"type\":\"GlyphRenderer\"},{\"attributes\":{\"source\":{\"id\":\"028d5162-dace-4157-b202-07a15352b820\",\"type\":\"ColumnDataSource\"}},\"id\":\"acf0e379-92c3-45ad-ab46-cecad737593a\",\"type\":\"CDSView\"},{\"attributes\":{\"fill_color\":{\"value\":\"purple\"},\"line_color\":{\"value\":\"purple\"},\"size\":{\"units\":\"screen\",\"value\":15},\"x\":{\"value\":3.9},\"y\":{\"value\":1.4}},\"id\":\"18efee61-4d8d-4218-935f-4bb19318c71c\",\"type\":\"Circle\"},{\"attributes\":{\"fill_alpha\":{\"value\":0.1},\"fill_color\":{\"value\":\"#1f77b4\"},\"line_alpha\":{\"value\":0.1},\"line_color\":{\"value\":\"#1f77b4\"},\"size\":{\"units\":\"screen\",\"value\":15},\"x\":{\"value\":3.9},\"y\":{\"value\":1.4}},\"id\":\"de3eb411-7fc5-447f-966b-508e67fe91f6\",\"type\":\"Circle\"},{\"attributes\":{\"fill_alpha\":{\"value\":0.1},\"fill_color\":{\"value\":\"#1f77b4\"},\"line_alpha\":{\"value\":0.1},\"line_color\":{\"value\":\"#1f77b4\"},\"size\":{\"units\":\"screen\",\"value\":15},\"x\":{\"value\":4.3},\"y\":{\"value\":1.3}},\"id\":\"972c1101-6acc-45dc-8041-d3f368ec2ad4\",\"type\":\"Circle\"},{\"attributes\":{\"data_source\":{\"id\":\"82043516-8463-40e2-964d-6d155e0aa442\",\"type\":\"ColumnDataSource\"},\"glyph\":{\"id\":\"7499b646-0138-48b1-b900-6456d7d218eb\",\"type\":\"Circle\"},\"hover_glyph\":null,\"muted_glyph\":null,\"nonselection_glyph\":{\"id\":\"8dda48aa-6ac5-4d0b-ba95-e29264d20e5b\",\"type\":\"Circle\"},\"selection_glyph\":null,\"view\":{\"id\":\"75d1c10b-fb90-4221-8043-29d1e0cdd74a\",\"type\":\"CDSView\"}},\"id\":\"a60b0a92-2e6a-4e77-92bb-e22f5ae9cfe0\",\"type\":\"GlyphRenderer\"},{\"attributes\":{\"data_source\":{\"id\":\"643db6ff-bcd8-472e-a887-d2e7884cb5b8\",\"type\":\"ColumnDataSource\"},\"glyph\":{\"id\":\"613ce830-597c-450f-a819-16c258ba74f8\",\"type\":\"Circle\"},\"hover_glyph\":null,\"muted_glyph\":null,\"nonselection_glyph\":{\"id\":\"972c1101-6acc-45dc-8041-d3f368ec2ad4\",\"type\":\"Circle\"},\"selection_glyph\":null,\"view\":{\"id\":\"6b148cba-cb05-4ee0-bdf8-fd7a75584fe8\",\"type\":\"CDSView\"}},\"id\":\"ab4b441f-0849-4424-bedd-f34b82ed0f58\",\"type\":\"GlyphRenderer\"},{\"attributes\":{\"source\":{\"id\":\"643db6ff-bcd8-472e-a887-d2e7884cb5b8\",\"type\":\"ColumnDataSource\"}},\"id\":\"6b148cba-cb05-4ee0-bdf8-fd7a75584fe8\",\"type\":\"CDSView\"},{\"attributes\":{\"fill_color\":{\"value\":\"purple\"},\"line_color\":{\"value\":\"purple\"},\"size\":{\"units\":\"screen\",\"value\":15},\"x\":{\"value\":4.4},\"y\":{\"value\":1.4}},\"id\":\"d6adb23b-ca68-4e22-9462-21dd318817d0\",\"type\":\"Circle\"},{\"attributes\":{\"callback\":null,\"data\":{}},\"id\":\"e88a4fcf-cafd-41f4-a7ba-ce9c37380871\",\"type\":\"ColumnDataSource\"},{\"attributes\":{\"data_source\":{\"id\":\"e88a4fcf-cafd-41f4-a7ba-ce9c37380871\",\"type\":\"ColumnDataSource\"},\"glyph\":{\"id\":\"d6adb23b-ca68-4e22-9462-21dd318817d0\",\"type\":\"Circle\"},\"hover_glyph\":null,\"muted_glyph\":null,\"nonselection_glyph\":{\"id\":\"4050444d-3000-47a5-887c-95e7a2409126\",\"type\":\"Circle\"},\"selection_glyph\":null,\"view\":{\"id\":\"9573ae4e-ddc9-4b2b-b7bc-f0134c9ab992\",\"type\":\"CDSView\"}},\"id\":\"43165675-bb82-4c49-9d12-8ccc271e472c\",\"type\":\"GlyphRenderer\"},{\"attributes\":{\"fill_alpha\":{\"value\":0.1},\"fill_color\":{\"value\":\"#1f77b4\"},\"line_alpha\":{\"value\":0.1},\"line_color\":{\"value\":\"#1f77b4\"},\"size\":{\"units\":\"screen\",\"value\":15},\"x\":{\"value\":4.4},\"y\":{\"value\":1.4}},\"id\":\"4050444d-3000-47a5-887c-95e7a2409126\",\"type\":\"Circle\"},{\"attributes\":{\"callback\":null,\"data\":{}},\"id\":\"e9980b6e-cea5-4db1-bf95-6cc4f4ebedff\",\"type\":\"ColumnDataSource\"},{\"attributes\":{\"callback\":null,\"data\":{}},\"id\":\"a41aa8e3-1636-45d3-b5fd-88f0883ea591\",\"type\":\"ColumnDataSource\"},{\"attributes\":{\"data_source\":{\"id\":\"e9980b6e-cea5-4db1-bf95-6cc4f4ebedff\",\"type\":\"ColumnDataSource\"},\"glyph\":{\"id\":\"3007cfe9-4a34-47c4-99b2-eefdbc2111f1\",\"type\":\"Circle\"},\"hover_glyph\":null,\"muted_glyph\":null,\"nonselection_glyph\":{\"id\":\"33e2780a-11f1-4208-bc69-600ff7e63133\",\"type\":\"Circle\"},\"selection_glyph\":null,\"view\":{\"id\":\"9bd24ca4-81ab-4ffa-9818-cea07de7b9e3\",\"type\":\"CDSView\"}},\"id\":\"c42f39c1-1220-4817-8454-1834e095637e\",\"type\":\"GlyphRenderer\"},{\"attributes\":{\"source\":{\"id\":\"e88a4fcf-cafd-41f4-a7ba-ce9c37380871\",\"type\":\"ColumnDataSource\"}},\"id\":\"9573ae4e-ddc9-4b2b-b7bc-f0134c9ab992\",\"type\":\"CDSView\"},{\"attributes\":{\"fill_color\":{\"value\":\"purple\"},\"line_color\":{\"value\":\"purple\"},\"size\":{\"units\":\"screen\",\"value\":15},\"x\":{\"value\":4.8},\"y\":{\"value\":1.4}},\"id\":\"3007cfe9-4a34-47c4-99b2-eefdbc2111f1\",\"type\":\"Circle\"},{\"attributes\":{\"fill_alpha\":{\"value\":0.1},\"fill_color\":{\"value\":\"#1f77b4\"},\"line_alpha\":{\"value\":0.1},\"line_color\":{\"value\":\"#1f77b4\"},\"size\":{\"units\":\"screen\",\"value\":15},\"x\":{\"value\":4.8},\"y\":{\"value\":1.4}},\"id\":\"33e2780a-11f1-4208-bc69-600ff7e63133\",\"type\":\"Circle\"},{\"attributes\":{\"callback\":null,\"data\":{}},\"id\":\"117f6d30-b26f-4869-b4a4-42471004cb71\",\"type\":\"ColumnDataSource\"},{\"attributes\":{\"data_source\":{\"id\":\"117f6d30-b26f-4869-b4a4-42471004cb71\",\"type\":\"ColumnDataSource\"},\"glyph\":{\"id\":\"3e772f02-b3eb-42e0-bd14-2d060b964858\",\"type\":\"Circle\"},\"hover_glyph\":null,\"muted_glyph\":null,\"nonselection_glyph\":{\"id\":\"de330dba-9050-4218-a91b-2740b3cae399\",\"type\":\"Circle\"},\"selection_glyph\":null,\"view\":{\"id\":\"864619ab-5cb2-40ab-b3bb-82bb8d4da0e8\",\"type\":\"CDSView\"}},\"id\":\"7172089c-d4da-4b99-be77-b4b364c2bed6\",\"type\":\"GlyphRenderer\"},{\"attributes\":{\"source\":{\"id\":\"e9980b6e-cea5-4db1-bf95-6cc4f4ebedff\",\"type\":\"ColumnDataSource\"}},\"id\":\"9bd24ca4-81ab-4ffa-9818-cea07de7b9e3\",\"type\":\"CDSView\"},{\"attributes\":{\"fill_color\":{\"value\":\"red\"},\"line_color\":{\"value\":\"red\"},\"size\":{\"units\":\"screen\",\"value\":15},\"x\":{\"value\":5.0},\"y\":{\"value\":1.7}},\"id\":\"3e772f02-b3eb-42e0-bd14-2d060b964858\",\"type\":\"Circle\"},{\"attributes\":{\"fill_alpha\":{\"value\":0.1},\"fill_color\":{\"value\":\"#1f77b4\"},\"line_alpha\":{\"value\":0.1},\"line_color\":{\"value\":\"#1f77b4\"},\"size\":{\"units\":\"screen\",\"value\":15},\"x\":{\"value\":5.0},\"y\":{\"value\":1.7}},\"id\":\"de330dba-9050-4218-a91b-2740b3cae399\",\"type\":\"Circle\"},{\"attributes\":{\"callback\":null,\"data\":{}},\"id\":\"b29bc5f6-b099-42e7-b964-e4fc3bf64b32\",\"type\":\"ColumnDataSource\"},{\"attributes\":{\"source\":{\"id\":\"7a156d4f-f67b-4ae5-a0dc-fca56e629290\",\"type\":\"ColumnDataSource\"}},\"id\":\"1dcc1cc2-4147-4527-b2a5-565bd0a22d54\",\"type\":\"CDSView\"},{\"attributes\":{\"data_source\":{\"id\":\"b29bc5f6-b099-42e7-b964-e4fc3bf64b32\",\"type\":\"ColumnDataSource\"},\"glyph\":{\"id\":\"b5cf1018-846f-4017-90eb-16bcf4e424ee\",\"type\":\"Circle\"},\"hover_glyph\":null,\"muted_glyph\":null,\"nonselection_glyph\":{\"id\":\"cd0feadb-2a4e-47b5-9d0f-23f5f149c111\",\"type\":\"Circle\"},\"selection_glyph\":null,\"view\":{\"id\":\"15c131b6-80b9-4cfa-b2e2-a9134a7d5bbc\",\"type\":\"CDSView\"}},\"id\":\"5ee1e058-8582-47bc-b98d-59dfee49dbfc\",\"type\":\"GlyphRenderer\"},{\"attributes\":{\"source\":{\"id\":\"117f6d30-b26f-4869-b4a4-42471004cb71\",\"type\":\"ColumnDataSource\"}},\"id\":\"864619ab-5cb2-40ab-b3bb-82bb8d4da0e8\",\"type\":\"CDSView\"},{\"attributes\":{\"fill_color\":{\"value\":\"purple\"},\"line_color\":{\"value\":\"purple\"},\"size\":{\"units\":\"screen\",\"value\":15},\"x\":{\"value\":4.5},\"y\":{\"value\":1.5}},\"id\":\"b5cf1018-846f-4017-90eb-16bcf4e424ee\",\"type\":\"Circle\"},{\"attributes\":{\"fill_alpha\":{\"value\":0.1},\"fill_color\":{\"value\":\"#1f77b4\"},\"line_alpha\":{\"value\":0.1},\"line_color\":{\"value\":\"#1f77b4\"},\"size\":{\"units\":\"screen\",\"value\":15},\"x\":{\"value\":4.5},\"y\":{\"value\":1.5}},\"id\":\"cd0feadb-2a4e-47b5-9d0f-23f5f149c111\",\"type\":\"Circle\"},{\"attributes\":{\"callback\":null,\"data\":{}},\"id\":\"a5690b81-69b2-4b77-a2b0-edea71ef828d\",\"type\":\"ColumnDataSource\"},{\"attributes\":{\"data_source\":{\"id\":\"a5690b81-69b2-4b77-a2b0-edea71ef828d\",\"type\":\"ColumnDataSource\"},\"glyph\":{\"id\":\"d9f4a6e8-6fe4-4c61-a56d-a797fc1ff312\",\"type\":\"Circle\"},\"hover_glyph\":null,\"muted_glyph\":null,\"nonselection_glyph\":{\"id\":\"2e193233-88b1-488b-8bb2-cc0473c9414b\",\"type\":\"Circle\"},\"selection_glyph\":null,\"view\":{\"id\":\"8c0274ce-a9df-4d53-a58e-6458a8bd6b4e\",\"type\":\"CDSView\"}},\"id\":\"b1ba46e9-b024-42da-a2fd-b65f5a3e5af0\",\"type\":\"GlyphRenderer\"},{\"attributes\":{\"fill_color\":{\"value\":\"red\"},\"line_color\":{\"value\":\"red\"},\"size\":{\"units\":\"screen\",\"value\":15},\"x\":{\"value\":5.4},\"y\":{\"value\":2.3}},\"id\":\"288978a3-d2da-4d08-a023-5db7c1efba94\",\"type\":\"Circle\"},{\"attributes\":{\"source\":{\"id\":\"b29bc5f6-b099-42e7-b964-e4fc3bf64b32\",\"type\":\"ColumnDataSource\"}},\"id\":\"15c131b6-80b9-4cfa-b2e2-a9134a7d5bbc\",\"type\":\"CDSView\"},{\"attributes\":{\"fill_color\":{\"value\":\"purple\"},\"line_color\":{\"value\":\"purple\"},\"size\":{\"units\":\"screen\",\"value\":15},\"x\":{\"value\":3.5},\"y\":{\"value\":1.0}},\"id\":\"d9f4a6e8-6fe4-4c61-a56d-a797fc1ff312\",\"type\":\"Circle\"},{\"attributes\":{\"fill_alpha\":{\"value\":0.1},\"fill_color\":{\"value\":\"#1f77b4\"},\"line_alpha\":{\"value\":0.1},\"line_color\":{\"value\":\"#1f77b4\"},\"size\":{\"units\":\"screen\",\"value\":15},\"x\":{\"value\":3.5},\"y\":{\"value\":1.0}},\"id\":\"2e193233-88b1-488b-8bb2-cc0473c9414b\",\"type\":\"Circle\"},{\"attributes\":{\"callback\":null,\"data\":{}},\"id\":\"22ad69f4-dc3f-4931-bf38-9b1a9004243d\",\"type\":\"ColumnDataSource\"},{\"attributes\":{\"data_source\":{\"id\":\"22ad69f4-dc3f-4931-bf38-9b1a9004243d\",\"type\":\"ColumnDataSource\"},\"glyph\":{\"id\":\"c4bb7d02-7ecc-4d6f-9bad-57ece5771782\",\"type\":\"Circle\"},\"hover_glyph\":null,\"muted_glyph\":null,\"nonselection_glyph\":{\"id\":\"4945e11d-c7b6-4b50-983e-5adc29342a4b\",\"type\":\"Circle\"},\"selection_glyph\":null,\"view\":{\"id\":\"ab52f60b-0ff2-4911-8540-b6870d20944a\",\"type\":\"CDSView\"}},\"id\":\"883c55ec-1cc8-475a-bb52-fc1f71184ad0\",\"type\":\"GlyphRenderer\"},{\"attributes\":{\"source\":{\"id\":\"a5690b81-69b2-4b77-a2b0-edea71ef828d\",\"type\":\"ColumnDataSource\"}},\"id\":\"8c0274ce-a9df-4d53-a58e-6458a8bd6b4e\",\"type\":\"CDSView\"},{\"attributes\":{\"fill_color\":{\"value\":\"purple\"},\"line_color\":{\"value\":\"purple\"},\"size\":{\"units\":\"screen\",\"value\":15},\"x\":{\"value\":3.8},\"y\":{\"value\":1.1}},\"id\":\"c4bb7d02-7ecc-4d6f-9bad-57ece5771782\",\"type\":\"Circle\"},{\"attributes\":{\"fill_alpha\":{\"value\":0.1},\"fill_color\":{\"value\":\"#1f77b4\"},\"line_alpha\":{\"value\":0.1},\"line_color\":{\"value\":\"#1f77b4\"},\"size\":{\"units\":\"screen\",\"value\":15},\"x\":{\"value\":3.8},\"y\":{\"value\":1.1}},\"id\":\"4945e11d-c7b6-4b50-983e-5adc29342a4b\",\"type\":\"Circle\"},{\"attributes\":{\"callback\":null,\"data\":{}},\"id\":\"7d230521-b4f0-4d18-aa0d-64ff95ecc946\",\"type\":\"ColumnDataSource\"},{\"attributes\":{\"data_source\":{\"id\":\"7d230521-b4f0-4d18-aa0d-64ff95ecc946\",\"type\":\"ColumnDataSource\"},\"glyph\":{\"id\":\"c931cbef-70d4-48a1-9c8b-ed6160eb8b90\",\"type\":\"Circle\"},\"hover_glyph\":null,\"muted_glyph\":null,\"nonselection_glyph\":{\"id\":\"a95ec2b3-f36e-4e38-ba16-e5ba2a4a5718\",\"type\":\"Circle\"},\"selection_glyph\":null,\"view\":{\"id\":\"0d82bcb8-d9e0-4a26-888e-11ad77c3643a\",\"type\":\"CDSView\"}},\"id\":\"71d12f4a-14c9-4c18-a6dc-d4c024262782\",\"type\":\"GlyphRenderer\"},{\"attributes\":{\"callback\":null,\"data\":{}},\"id\":\"e65405cd-7700-4a60-b595-76cc6b483266\",\"type\":\"ColumnDataSource\"},{\"attributes\":{\"source\":{\"id\":\"22ad69f4-dc3f-4931-bf38-9b1a9004243d\",\"type\":\"ColumnDataSource\"}},\"id\":\"ab52f60b-0ff2-4911-8540-b6870d20944a\",\"type\":\"CDSView\"},{\"attributes\":{\"fill_color\":{\"value\":\"purple\"},\"line_color\":{\"value\":\"purple\"},\"size\":{\"units\":\"screen\",\"value\":15},\"x\":{\"value\":3.7},\"y\":{\"value\":1.0}},\"id\":\"c931cbef-70d4-48a1-9c8b-ed6160eb8b90\",\"type\":\"Circle\"},{\"attributes\":{\"fill_alpha\":{\"value\":0.1},\"fill_color\":{\"value\":\"#1f77b4\"},\"line_alpha\":{\"value\":0.1},\"line_color\":{\"value\":\"#1f77b4\"},\"size\":{\"units\":\"screen\",\"value\":15},\"x\":{\"value\":3.7},\"y\":{\"value\":1.0}},\"id\":\"a95ec2b3-f36e-4e38-ba16-e5ba2a4a5718\",\"type\":\"Circle\"},{\"attributes\":{\"callback\":null,\"data\":{}},\"id\":\"e042e937-4548-4993-9f70-ba3a30f5fd88\",\"type\":\"ColumnDataSource\"},{\"attributes\":{\"data_source\":{\"id\":\"e042e937-4548-4993-9f70-ba3a30f5fd88\",\"type\":\"ColumnDataSource\"},\"glyph\":{\"id\":\"617df461-e193-47d1-bac3-81ed3dfca762\",\"type\":\"Circle\"},\"hover_glyph\":null,\"muted_glyph\":null,\"nonselection_glyph\":{\"id\":\"29bdf447-cc37-4228-b2ca-68971800c50f\",\"type\":\"Circle\"},\"selection_glyph\":null,\"view\":{\"id\":\"bd3dae9c-26df-4824-9218-c58739af0254\",\"type\":\"CDSView\"}},\"id\":\"0bf8297f-42d0-4b10-bd9c-f1962c9b4087\",\"type\":\"GlyphRenderer\"},{\"attributes\":{\"source\":{\"id\":\"7d230521-b4f0-4d18-aa0d-64ff95ecc946\",\"type\":\"ColumnDataSource\"}},\"id\":\"0d82bcb8-d9e0-4a26-888e-11ad77c3643a\",\"type\":\"CDSView\"},{\"attributes\":{\"fill_color\":{\"value\":\"purple\"},\"line_color\":{\"value\":\"purple\"},\"size\":{\"units\":\"screen\",\"value\":15},\"x\":{\"value\":3.9},\"y\":{\"value\":1.2}},\"id\":\"617df461-e193-47d1-bac3-81ed3dfca762\",\"type\":\"Circle\"},{\"attributes\":{\"fill_alpha\":{\"value\":0.1},\"fill_color\":{\"value\":\"#1f77b4\"},\"line_alpha\":{\"value\":0.1},\"line_color\":{\"value\":\"#1f77b4\"},\"size\":{\"units\":\"screen\",\"value\":15},\"x\":{\"value\":3.9},\"y\":{\"value\":1.2}},\"id\":\"29bdf447-cc37-4228-b2ca-68971800c50f\",\"type\":\"Circle\"},{\"attributes\":{\"callback\":null,\"data\":{}},\"id\":\"b82a42f0-505e-42cf-9ce5-b9b257f87af4\",\"type\":\"ColumnDataSource\"},{\"attributes\":{\"data_source\":{\"id\":\"b82a42f0-505e-42cf-9ce5-b9b257f87af4\",\"type\":\"ColumnDataSource\"},\"glyph\":{\"id\":\"70cd9487-4a16-4676-9331-9fa2fabae731\",\"type\":\"Circle\"},\"hover_glyph\":null,\"muted_glyph\":null,\"nonselection_glyph\":{\"id\":\"cc04f9a3-d16b-4c70-96b7-9e345435bd8a\",\"type\":\"Circle\"},\"selection_glyph\":null,\"view\":{\"id\":\"423dfe70-011f-4d84-8e2c-49aae33d0128\",\"type\":\"CDSView\"}},\"id\":\"938041eb-6428-4162-8eee-d01afa319fb6\",\"type\":\"GlyphRenderer\"},{\"attributes\":{\"source\":{\"id\":\"e042e937-4548-4993-9f70-ba3a30f5fd88\",\"type\":\"ColumnDataSource\"}},\"id\":\"bd3dae9c-26df-4824-9218-c58739af0254\",\"type\":\"CDSView\"},{\"attributes\":{\"fill_color\":{\"value\":\"red\"},\"line_color\":{\"value\":\"red\"},\"size\":{\"units\":\"screen\",\"value\":15},\"x\":{\"value\":5.1},\"y\":{\"value\":1.6}},\"id\":\"70cd9487-4a16-4676-9331-9fa2fabae731\",\"type\":\"Circle\"},{\"attributes\":{\"fill_alpha\":{\"value\":0.1},\"fill_color\":{\"value\":\"#1f77b4\"},\"line_alpha\":{\"value\":0.1},\"line_color\":{\"value\":\"#1f77b4\"},\"size\":{\"units\":\"screen\",\"value\":15},\"x\":{\"value\":5.1},\"y\":{\"value\":1.6}},\"id\":\"cc04f9a3-d16b-4c70-96b7-9e345435bd8a\",\"type\":\"Circle\"},{\"attributes\":{\"callback\":null,\"data\":{}},\"id\":\"77ba05a6-543d-431e-9285-efa4b57ea86a\",\"type\":\"ColumnDataSource\"},{\"attributes\":{\"fill_color\":{\"value\":\"red\"},\"line_color\":{\"value\":\"red\"},\"size\":{\"units\":\"screen\",\"value\":15},\"x\":{\"value\":5.1},\"y\":{\"value\":1.8}},\"id\":\"43d3d837-8b53-4008-8b12-804e285aa6bc\",\"type\":\"Circle\"},{\"attributes\":{\"data_source\":{\"id\":\"77ba05a6-543d-431e-9285-efa4b57ea86a\",\"type\":\"ColumnDataSource\"},\"glyph\":{\"id\":\"c878f5c6-effb-48fa-aeef-d4432b407d43\",\"type\":\"Circle\"},\"hover_glyph\":null,\"muted_glyph\":null,\"nonselection_glyph\":{\"id\":\"bef07270-6632-4b84-93af-bd1d2aab64b8\",\"type\":\"Circle\"},\"selection_glyph\":null,\"view\":{\"id\":\"668b0daa-7bd8-466a-aafd-6b2ef6d95e6a\",\"type\":\"CDSView\"}},\"id\":\"8e01ecf3-ee1e-4a34-a158-9de88cde885a\",\"type\":\"GlyphRenderer\"},{\"attributes\":{\"source\":{\"id\":\"b82a42f0-505e-42cf-9ce5-b9b257f87af4\",\"type\":\"ColumnDataSource\"}},\"id\":\"423dfe70-011f-4d84-8e2c-49aae33d0128\",\"type\":\"CDSView\"},{\"attributes\":{\"fill_color\":{\"value\":\"purple\"},\"line_color\":{\"value\":\"purple\"},\"size\":{\"units\":\"screen\",\"value\":15},\"x\":{\"value\":4.5},\"y\":{\"value\":1.5}},\"id\":\"c878f5c6-effb-48fa-aeef-d4432b407d43\",\"type\":\"Circle\"},{\"attributes\":{\"fill_alpha\":{\"value\":0.1},\"fill_color\":{\"value\":\"#1f77b4\"},\"line_alpha\":{\"value\":0.1},\"line_color\":{\"value\":\"#1f77b4\"},\"size\":{\"units\":\"screen\",\"value\":15},\"x\":{\"value\":4.5},\"y\":{\"value\":1.5}},\"id\":\"bef07270-6632-4b84-93af-bd1d2aab64b8\",\"type\":\"Circle\"},{\"attributes\":{\"callback\":null,\"data\":{}},\"id\":\"73141ee1-312b-4c5c-9028-f872e4a3746d\",\"type\":\"ColumnDataSource\"},{\"attributes\":{\"data_source\":{\"id\":\"73141ee1-312b-4c5c-9028-f872e4a3746d\",\"type\":\"ColumnDataSource\"},\"glyph\":{\"id\":\"42e23685-5eee-4c7f-8fb1-e91aefee2074\",\"type\":\"Circle\"},\"hover_glyph\":null,\"muted_glyph\":null,\"nonselection_glyph\":{\"id\":\"584d30a9-26f0-46f5-9781-db6c5e9beca6\",\"type\":\"Circle\"},\"selection_glyph\":null,\"view\":{\"id\":\"909d61f0-dcd4-4a38-894d-8bc88b3bbec2\",\"type\":\"CDSView\"}},\"id\":\"a54f8921-9485-4c15-b232-ed47707a902b\",\"type\":\"GlyphRenderer\"},{\"attributes\":{\"source\":{\"id\":\"77ba05a6-543d-431e-9285-efa4b57ea86a\",\"type\":\"ColumnDataSource\"}},\"id\":\"668b0daa-7bd8-466a-aafd-6b2ef6d95e6a\",\"type\":\"CDSView\"},{\"attributes\":{\"fill_color\":{\"value\":\"purple\"},\"line_color\":{\"value\":\"purple\"},\"size\":{\"units\":\"screen\",\"value\":15},\"x\":{\"value\":4.5},\"y\":{\"value\":1.6}},\"id\":\"42e23685-5eee-4c7f-8fb1-e91aefee2074\",\"type\":\"Circle\"},{\"attributes\":{\"fill_alpha\":{\"value\":0.1},\"fill_color\":{\"value\":\"#1f77b4\"},\"line_alpha\":{\"value\":0.1},\"line_color\":{\"value\":\"#1f77b4\"},\"size\":{\"units\":\"screen\",\"value\":15},\"x\":{\"value\":4.5},\"y\":{\"value\":1.6}},\"id\":\"584d30a9-26f0-46f5-9781-db6c5e9beca6\",\"type\":\"Circle\"},{\"attributes\":{\"callback\":null,\"data\":{}},\"id\":\"867ceecb-9c20-413f-a0f0-4ee0eb128149\",\"type\":\"ColumnDataSource\"},{\"attributes\":{\"data_source\":{\"id\":\"867ceecb-9c20-413f-a0f0-4ee0eb128149\",\"type\":\"ColumnDataSource\"},\"glyph\":{\"id\":\"44f38a07-087e-4a4a-829b-7b3c495eb1b3\",\"type\":\"Circle\"},\"hover_glyph\":null,\"muted_glyph\":null,\"nonselection_glyph\":{\"id\":\"a45f733a-8b11-4f1b-9965-371c259f7c30\",\"type\":\"Circle\"},\"selection_glyph\":null,\"view\":{\"id\":\"344775a6-04e9-499d-be3e-2eaafb5fe503\",\"type\":\"CDSView\"}},\"id\":\"82278b2d-e5e8-4b37-81c1-2ebe381c0f17\",\"type\":\"GlyphRenderer\"},{\"attributes\":{\"source\":{\"id\":\"73141ee1-312b-4c5c-9028-f872e4a3746d\",\"type\":\"ColumnDataSource\"}},\"id\":\"909d61f0-dcd4-4a38-894d-8bc88b3bbec2\",\"type\":\"CDSView\"},{\"attributes\":{\"fill_color\":{\"value\":\"purple\"},\"line_color\":{\"value\":\"purple\"},\"size\":{\"units\":\"screen\",\"value\":15},\"x\":{\"value\":4.7},\"y\":{\"value\":1.5}},\"id\":\"44f38a07-087e-4a4a-829b-7b3c495eb1b3\",\"type\":\"Circle\"},{\"attributes\":{\"fill_alpha\":{\"value\":0},\"fill_color\":{\"field\":\"fill_color\"},\"line_color\":{\"field\":\"line_color\"},\"line_width\":{\"value\":2},\"size\":{\"units\":\"screen\",\"value\":40},\"x\":{\"field\":\"x\"},\"y\":{\"field\":\"y\"}},\"id\":\"5e622fce-533d-443b-beab-730f79ff6473\",\"type\":\"CircleCross\"},{\"attributes\":{\"fill_alpha\":{\"value\":0.1},\"fill_color\":{\"value\":\"#1f77b4\"},\"line_alpha\":{\"value\":0.1},\"line_color\":{\"value\":\"#1f77b4\"},\"size\":{\"units\":\"screen\",\"value\":15},\"x\":{\"value\":4.7},\"y\":{\"value\":1.5}},\"id\":\"a45f733a-8b11-4f1b-9965-371c259f7c30\",\"type\":\"Circle\"},{\"attributes\":{\"callback\":null,\"data\":{}},\"id\":\"cd737e91-b7ac-429e-adf0-e11646b3f78d\",\"type\":\"ColumnDataSource\"},{\"attributes\":{\"data_source\":{\"id\":\"cd737e91-b7ac-429e-adf0-e11646b3f78d\",\"type\":\"ColumnDataSource\"},\"glyph\":{\"id\":\"dc50d5d9-108e-453d-9eca-f37f1df3dfe8\",\"type\":\"Circle\"},\"hover_glyph\":null,\"muted_glyph\":null,\"nonselection_glyph\":{\"id\":\"f75d4195-4cc6-4316-8d8d-1de51c12b412\",\"type\":\"Circle\"},\"selection_glyph\":null,\"view\":{\"id\":\"6549af80-3d3c-4fe4-80cf-8308b9a5461b\",\"type\":\"CDSView\"}},\"id\":\"7431ec36-c9ed-436b-a85b-3c6db7fe82d2\",\"type\":\"GlyphRenderer\"},{\"attributes\":{\"source\":{\"id\":\"867ceecb-9c20-413f-a0f0-4ee0eb128149\",\"type\":\"ColumnDataSource\"}},\"id\":\"344775a6-04e9-499d-be3e-2eaafb5fe503\",\"type\":\"CDSView\"},{\"attributes\":{\"fill_color\":{\"value\":\"purple\"},\"line_color\":{\"value\":\"purple\"},\"size\":{\"units\":\"screen\",\"value\":15},\"x\":{\"value\":4.4},\"y\":{\"value\":1.3}},\"id\":\"dc50d5d9-108e-453d-9eca-f37f1df3dfe8\",\"type\":\"Circle\"},{\"attributes\":{\"fill_alpha\":{\"value\":0.1},\"fill_color\":{\"value\":\"#1f77b4\"},\"line_alpha\":{\"value\":0.1},\"line_color\":{\"value\":\"#1f77b4\"},\"size\":{\"units\":\"screen\",\"value\":15},\"x\":{\"value\":4.4},\"y\":{\"value\":1.3}},\"id\":\"f75d4195-4cc6-4316-8d8d-1de51c12b412\",\"type\":\"Circle\"},{\"attributes\":{\"callback\":null,\"data\":{}},\"id\":\"82043516-8463-40e2-964d-6d155e0aa442\",\"type\":\"ColumnDataSource\"},{\"attributes\":{\"fill_alpha\":{\"value\":0.1},\"fill_color\":{\"value\":\"#1f77b4\"},\"line_alpha\":{\"value\":0.1},\"line_color\":{\"value\":\"#1f77b4\"},\"size\":{\"units\":\"screen\",\"value\":15},\"x\":{\"value\":4.1},\"y\":{\"value\":1.3}},\"id\":\"8dda48aa-6ac5-4d0b-ba95-e29264d20e5b\",\"type\":\"Circle\"},{\"attributes\":{\"source\":{\"id\":\"cd737e91-b7ac-429e-adf0-e11646b3f78d\",\"type\":\"ColumnDataSource\"}},\"id\":\"6549af80-3d3c-4fe4-80cf-8308b9a5461b\",\"type\":\"CDSView\"},{\"attributes\":{\"fill_color\":{\"value\":\"purple\"},\"line_color\":{\"value\":\"purple\"},\"size\":{\"units\":\"screen\",\"value\":15},\"x\":{\"value\":4.1},\"y\":{\"value\":1.3}},\"id\":\"7499b646-0138-48b1-b900-6456d7d218eb\",\"type\":\"Circle\"},{\"attributes\":{\"axis_label\":\"Petal Length\",\"formatter\":{\"id\":\"7ffb6512-90f8-43e6-aefa-ba94e8f9817d\",\"type\":\"BasicTickFormatter\"},\"plot\":{\"id\":\"6edf0fc9-d0ce-48f2-8464-82b04a26c4cf\",\"subtype\":\"Figure\",\"type\":\"Plot\"},\"ticker\":{\"id\":\"ea80d6f2-df34-4434-8fd8-28345c712a75\",\"type\":\"BasicTicker\"}},\"id\":\"74599929-9bd1-4cf2-9fc8-b0ab69df6077\",\"type\":\"LinearAxis\"},{\"attributes\":{},\"id\":\"aa909d60-266e-4921-babd-dcc878f406b4\",\"type\":\"LinearScale\"},{\"attributes\":{},\"id\":\"4e4f4c76-cb2d-458c-81eb-0938bcc02770\",\"type\":\"LinearScale\"},{\"attributes\":{},\"id\":\"a1a352de-a8a6-40a1-89a4-b556711b4682\",\"type\":\"BasicTicker\"},{\"attributes\":{\"fill_alpha\":{\"value\":0.1},\"fill_color\":{\"value\":\"#1f77b4\"},\"line_alpha\":{\"value\":0.1},\"line_color\":{\"value\":\"#1f77b4\"},\"line_width\":{\"value\":2},\"size\":{\"units\":\"screen\",\"value\":40},\"x\":{\"field\":\"x\"},\"y\":{\"field\":\"y\"}},\"id\":\"20063c3f-e914-4ee5-8b0c-cb143226d67e\",\"type\":\"CircleCross\"},{\"attributes\":{\"plot\":{\"id\":\"6edf0fc9-d0ce-48f2-8464-82b04a26c4cf\",\"subtype\":\"Figure\",\"type\":\"Plot\"},\"ticker\":{\"id\":\"ea80d6f2-df34-4434-8fd8-28345c712a75\",\"type\":\"BasicTicker\"}},\"id\":\"87a0d2c7-ab38-467d-9211-8c24a3e479c8\",\"type\":\"Grid\"},{\"attributes\":{},\"id\":\"ea80d6f2-df34-4434-8fd8-28345c712a75\",\"type\":\"BasicTicker\"},{\"attributes\":{\"axis_label\":\"Petal Width\",\"formatter\":{\"id\":\"c911107c-1cb0-4bd1-8e4b-a5ba67d7aa44\",\"type\":\"BasicTickFormatter\"},\"plot\":{\"id\":\"6edf0fc9-d0ce-48f2-8464-82b04a26c4cf\",\"subtype\":\"Figure\",\"type\":\"Plot\"},\"ticker\":{\"id\":\"a1a352de-a8a6-40a1-89a4-b556711b4682\",\"type\":\"BasicTicker\"}},\"id\":\"8f3ff98a-1f08-430f-ba8d-22c733494b6e\",\"type\":\"LinearAxis\"},{\"attributes\":{\"callback\":null},\"id\":\"d2968851-710f-4a8c-a188-433c5408290c\",\"type\":\"DataRange1d\"},{\"attributes\":{\"below\":[{\"id\":\"74599929-9bd1-4cf2-9fc8-b0ab69df6077\",\"type\":\"LinearAxis\"}],\"left\":[{\"id\":\"8f3ff98a-1f08-430f-ba8d-22c733494b6e\",\"type\":\"LinearAxis\"}],\"plot_height\":500,\"plot_width\":500,\"renderers\":[{\"id\":\"74599929-9bd1-4cf2-9fc8-b0ab69df6077\",\"type\":\"LinearAxis\"},{\"id\":\"87a0d2c7-ab38-467d-9211-8c24a3e479c8\",\"type\":\"Grid\"},{\"id\":\"8f3ff98a-1f08-430f-ba8d-22c733494b6e\",\"type\":\"LinearAxis\"},{\"id\":\"f99dfe87-bfab-4fac-a4fb-c398945ebf45\",\"type\":\"Grid\"},{\"id\":\"16e05ec2-97fd-4d83-b608-fa9b797b33f4\",\"type\":\"BoxAnnotation\"},{\"id\":\"db5849dc-e02c-4e44-b8c6-7bd514678c11\",\"type\":\"GlyphRenderer\"},{\"id\":\"9aa899a0-82a0-4c43-9bb9-c9ae8677237a\",\"type\":\"GlyphRenderer\"},{\"id\":\"c08710a2-13d8-4ed0-94df-528f6db433b7\",\"type\":\"GlyphRenderer\"},{\"id\":\"eaecedaf-ac6d-4c7c-84d3-af5a0857d9ce\",\"type\":\"GlyphRenderer\"},{\"id\":\"af3416e9-b98e-4d7f-a15c-ad1be8b8ebb7\",\"type\":\"GlyphRenderer\"},{\"id\":\"dd30142e-1b8c-4a5c-80ec-d85346d7eb7b\",\"type\":\"GlyphRenderer\"},{\"id\":\"c596222b-f682-4d22-9eb3-f9efb296710e\",\"type\":\"GlyphRenderer\"},{\"id\":\"ee2b0e97-e500-48d4-9828-bfd0eeebe114\",\"type\":\"GlyphRenderer\"},{\"id\":\"49a204a7-1597-4096-b49c-1a12ebb921db\",\"type\":\"GlyphRenderer\"},{\"id\":\"eff2512d-7936-4d5e-89fd-f0bdeab58b46\",\"type\":\"GlyphRenderer\"},{\"id\":\"bef5783b-1ea4-4178-8b5f-279fb829d0f1\",\"type\":\"GlyphRenderer\"},{\"id\":\"57e5d625-d52b-4f21-b49e-69c8f364d9f3\",\"type\":\"GlyphRenderer\"},{\"id\":\"1244aa3b-ba33-4471-ad68-4727170f6571\",\"type\":\"GlyphRenderer\"},{\"id\":\"27419331-2cee-4956-b00b-389c88b0a0c3\",\"type\":\"GlyphRenderer\"},{\"id\":\"2f33db4f-62e2-4710-9171-6f2cb0907acb\",\"type\":\"GlyphRenderer\"},{\"id\":\"f03a3218-964b-4593-9924-e4530faf54c2\",\"type\":\"GlyphRenderer\"},{\"id\":\"ca8c4c68-6584-48e9-acb2-ca2e718c17f2\",\"type\":\"GlyphRenderer\"},{\"id\":\"f671da00-55d3-47f4-a3d2-fd58f06b8052\",\"type\":\"GlyphRenderer\"},{\"id\":\"3b72405b-08f2-42db-8a83-36b0da00f6a1\",\"type\":\"GlyphRenderer\"},{\"id\":\"55be2e7e-b229-43df-ae15-2fac6d137420\",\"type\":\"GlyphRenderer\"},{\"id\":\"48011715-1e2a-4d61-b79f-2568f49004c0\",\"type\":\"GlyphRenderer\"},{\"id\":\"1adf22ba-a8e4-4863-8f6c-fda3b95de730\",\"type\":\"GlyphRenderer\"},{\"id\":\"6362c4ea-8bcc-4f87-a6d2-dba8f9d3c3d9\",\"type\":\"GlyphRenderer\"},{\"id\":\"2a39bf1b-b8c2-408d-9932-e80636b6b33d\",\"type\":\"GlyphRenderer\"},{\"id\":\"9717bf24-7271-4fda-86ac-2699689d80f4\",\"type\":\"GlyphRenderer\"},{\"id\":\"61e98c35-9f7c-4268-ba7f-480f99f31901\",\"type\":\"GlyphRenderer\"},{\"id\":\"31440c04-f308-4ad1-a8cb-cc2a705e26c8\",\"type\":\"GlyphRenderer\"},{\"id\":\"a6c5a1c3-4649-4bc7-8404-87f87592cb11\",\"type\":\"GlyphRenderer\"},{\"id\":\"26c947cf-619e-4625-84ae-73a88cad8127\",\"type\":\"GlyphRenderer\"},{\"id\":\"152ed219-d844-4138-a34a-a500fa347850\",\"type\":\"GlyphRenderer\"},{\"id\":\"43aa380a-1d87-4b37-ba76-0c0231b9aa08\",\"type\":\"GlyphRenderer\"},{\"id\":\"45c02dcc-93a1-42eb-bbbc-686a961c09bd\",\"type\":\"GlyphRenderer\"},{\"id\":\"5d5429d6-292d-4c93-8c8c-8867bfbd4804\",\"type\":\"GlyphRenderer\"},{\"id\":\"5d67606f-4f5c-48f3-8d83-2805c4c67ecc\",\"type\":\"GlyphRenderer\"},{\"id\":\"2d793df1-2b9f-4676-872e-99fe6a3ca020\",\"type\":\"GlyphRenderer\"},{\"id\":\"0b6fa897-eaca-4b9f-b97a-4cf0a122d0a1\",\"type\":\"GlyphRenderer\"},{\"id\":\"743d6caf-a8be-4bc5-9f88-5c395c924a66\",\"type\":\"GlyphRenderer\"},{\"id\":\"937c0f7f-d9c5-4194-ac1b-954e5bad45ce\",\"type\":\"GlyphRenderer\"},{\"id\":\"d1c7fcaa-d719-46c6-b49a-84cae2e4c061\",\"type\":\"GlyphRenderer\"},{\"id\":\"59513596-71e7-4d9d-8314-449d55f1cf7b\",\"type\":\"GlyphRenderer\"},{\"id\":\"b74e4ead-29c9-4ce7-b06e-686885f0046d\",\"type\":\"GlyphRenderer\"},{\"id\":\"cdaabee9-bcdb-4129-9a55-f842760f9c24\",\"type\":\"GlyphRenderer\"},{\"id\":\"e0288b44-69f1-4fbc-9654-e3d44ce67cf8\",\"type\":\"GlyphRenderer\"},{\"id\":\"ef060562-b1a7-4cd0-8eca-81fa5794bf97\",\"type\":\"GlyphRenderer\"},{\"id\":\"cae72f4d-be56-471b-9d8a-247bb3e6c0ac\",\"type\":\"GlyphRenderer\"},{\"id\":\"59eb1ac2-2c88-4397-9e20-8f0f2737b88b\",\"type\":\"GlyphRenderer\"},{\"id\":\"047d7030-d579-4967-b22a-1499366af919\",\"type\":\"GlyphRenderer\"},{\"id\":\"1a290b41-16b8-4578-9bdb-05e7e07b162d\",\"type\":\"GlyphRenderer\"},{\"id\":\"9318da8a-bed1-4984-8d9c-b83c661410dd\",\"type\":\"GlyphRenderer\"},{\"id\":\"cdc60d63-1473-4c74-a859-dff5f3151806\",\"type\":\"GlyphRenderer\"},{\"id\":\"22a5a02a-a13b-4763-b7fd-daaa563bbf9b\",\"type\":\"GlyphRenderer\"},{\"id\":\"a0e239dd-b60f-42d9-9852-a80a295451f8\",\"type\":\"GlyphRenderer\"},{\"id\":\"55783082-7c80-4eab-954e-6ab083ea8230\",\"type\":\"GlyphRenderer\"},{\"id\":\"b66574bb-04c4-4fb1-b894-12c7ae42f830\",\"type\":\"GlyphRenderer\"},{\"id\":\"16f18a28-6b5c-40eb-b9c3-2f54b5f03827\",\"type\":\"GlyphRenderer\"},{\"id\":\"bb42eb7e-c161-43fb-a30a-eaa946d99c09\",\"type\":\"GlyphRenderer\"},{\"id\":\"c15e61c5-53a6-4ace-b2db-8216264607ca\",\"type\":\"GlyphRenderer\"},{\"id\":\"c8e3f2b7-4ed5-4b37-a1cf-d4c436e6655e\",\"type\":\"GlyphRenderer\"},{\"id\":\"2a5a98d3-b9d0-4f66-bddd-e0d720078dc6\",\"type\":\"GlyphRenderer\"},{\"id\":\"b8a5e74b-9d68-4989-a9cd-74e73ff1cc65\",\"type\":\"GlyphRenderer\"},{\"id\":\"22810648-7efd-480d-90db-38de84ff7a70\",\"type\":\"GlyphRenderer\"},{\"id\":\"042617c3-c609-47c5-b0b9-7191b2b6e4b5\",\"type\":\"GlyphRenderer\"},{\"id\":\"bd9d8aa3-d113-4aab-a3c9-206985f5fce4\",\"type\":\"GlyphRenderer\"},{\"id\":\"313ef5af-9a1f-4b1a-a1dc-620001ecae1e\",\"type\":\"GlyphRenderer\"},{\"id\":\"042ac91d-689a-49c4-87cf-6c57b62470b0\",\"type\":\"GlyphRenderer\"},{\"id\":\"5ce4df6c-39dc-44fa-81a1-e685b72bc128\",\"type\":\"GlyphRenderer\"},{\"id\":\"a8c0cf93-41c7-4a3e-b7c7-e47903378e1e\",\"type\":\"GlyphRenderer\"},{\"id\":\"8cdb0449-1548-40cd-b0be-2b8dbec61b09\",\"type\":\"GlyphRenderer\"},{\"id\":\"5124eacd-e2d7-44e5-89f8-ade10e78954d\",\"type\":\"GlyphRenderer\"},{\"id\":\"a787aba8-489e-423b-a4ff-21c5aa4da716\",\"type\":\"GlyphRenderer\"},{\"id\":\"906a49cc-2063-4a41-85cb-9427d5c70101\",\"type\":\"GlyphRenderer\"},{\"id\":\"24412251-5474-4580-bdf7-19d7131a92dc\",\"type\":\"GlyphRenderer\"},{\"id\":\"cbd4c616-19cd-4617-b8ca-e1b779afac83\",\"type\":\"GlyphRenderer\"},{\"id\":\"d395afca-314a-4d3f-9096-bfe49f911d2b\",\"type\":\"GlyphRenderer\"},{\"id\":\"8c37e473-e972-463e-aac3-46e11dc8cd93\",\"type\":\"GlyphRenderer\"},{\"id\":\"ba61502b-a8e0-4f2f-8aa8-b1d768fefb34\",\"type\":\"GlyphRenderer\"},{\"id\":\"ab4b441f-0849-4424-bedd-f34b82ed0f58\",\"type\":\"GlyphRenderer\"},{\"id\":\"43165675-bb82-4c49-9d12-8ccc271e472c\",\"type\":\"GlyphRenderer\"},{\"id\":\"c42f39c1-1220-4817-8454-1834e095637e\",\"type\":\"GlyphRenderer\"},{\"id\":\"7172089c-d4da-4b99-be77-b4b364c2bed6\",\"type\":\"GlyphRenderer\"},{\"id\":\"5ee1e058-8582-47bc-b98d-59dfee49dbfc\",\"type\":\"GlyphRenderer\"},{\"id\":\"b1ba46e9-b024-42da-a2fd-b65f5a3e5af0\",\"type\":\"GlyphRenderer\"},{\"id\":\"883c55ec-1cc8-475a-bb52-fc1f71184ad0\",\"type\":\"GlyphRenderer\"},{\"id\":\"71d12f4a-14c9-4c18-a6dc-d4c024262782\",\"type\":\"GlyphRenderer\"},{\"id\":\"0bf8297f-42d0-4b10-bd9c-f1962c9b4087\",\"type\":\"GlyphRenderer\"},{\"id\":\"938041eb-6428-4162-8eee-d01afa319fb6\",\"type\":\"GlyphRenderer\"},{\"id\":\"8e01ecf3-ee1e-4a34-a158-9de88cde885a\",\"type\":\"GlyphRenderer\"},{\"id\":\"a54f8921-9485-4c15-b232-ed47707a902b\",\"type\":\"GlyphRenderer\"},{\"id\":\"82278b2d-e5e8-4b37-81c1-2ebe381c0f17\",\"type\":\"GlyphRenderer\"},{\"id\":\"7431ec36-c9ed-436b-a85b-3c6db7fe82d2\",\"type\":\"GlyphRenderer\"},{\"id\":\"a60b0a92-2e6a-4e77-92bb-e22f5ae9cfe0\",\"type\":\"GlyphRenderer\"},{\"id\":\"da4dc3da-3e43-4308-b3bb-367dd1d63311\",\"type\":\"GlyphRenderer\"},{\"id\":\"31303168-ca8d-41a2-aa4f-8e3a62773d75\",\"type\":\"GlyphRenderer\"},{\"id\":\"0d4f1eb9-2442-467a-a5cc-d627ef0f0644\",\"type\":\"GlyphRenderer\"},{\"id\":\"16fd52f5-da84-43bd-bfcb-f8e5a4963be6\",\"type\":\"GlyphRenderer\"},{\"id\":\"e5b6c1c0-1b38-4135-bf85-feb520a1d76c\",\"type\":\"GlyphRenderer\"},{\"id\":\"d673431c-e006-445e-a139-610464dd11df\",\"type\":\"GlyphRenderer\"},{\"id\":\"5d4a66ea-a901-4d0d-849c-caa972d4bba3\",\"type\":\"GlyphRenderer\"},{\"id\":\"fb4a3328-c8e0-4875-bc30-67300cb97060\",\"type\":\"GlyphRenderer\"},{\"id\":\"9d0ecffc-61d2-4a80-8b7a-760327fa82b2\",\"type\":\"GlyphRenderer\"},{\"id\":\"4b8f19fa-6edc-4bc4-9b3e-776a8790fae1\",\"type\":\"GlyphRenderer\"},{\"id\":\"03f347ca-5c5b-441d-9db9-ef9acfe14fe3\",\"type\":\"GlyphRenderer\"},{\"id\":\"f50ca30e-51bb-44fd-b886-12dfb9426462\",\"type\":\"GlyphRenderer\"},{\"id\":\"2bea523b-bb24-404d-a45a-d8626d619f7e\",\"type\":\"GlyphRenderer\"},{\"id\":\"725c4e80-341a-4c0f-a6fd-5f918688e7f3\",\"type\":\"GlyphRenderer\"},{\"id\":\"7959faa7-257c-4128-b519-8db0955949c7\",\"type\":\"GlyphRenderer\"},{\"id\":\"f065ea94-67de-42da-9b24-fbb7d4afc21c\",\"type\":\"GlyphRenderer\"},{\"id\":\"2da7ade1-3f4e-4a08-9fb1-0b3a605c0b63\",\"type\":\"GlyphRenderer\"},{\"id\":\"ae6c087b-49a2-4f26-9363-2ed3d4ff27d1\",\"type\":\"GlyphRenderer\"},{\"id\":\"6599a18f-ac18-4bcb-9543-ddfcca98cbe5\",\"type\":\"GlyphRenderer\"},{\"id\":\"af75fe5d-0a70-4de8-924e-2760e3ae0995\",\"type\":\"GlyphRenderer\"},{\"id\":\"f1e248cf-fea9-4045-953f-1d0bf63ff865\",\"type\":\"GlyphRenderer\"},{\"id\":\"f5c86c78-39f1-4f65-8b8c-6217704cce33\",\"type\":\"GlyphRenderer\"},{\"id\":\"16b6f117-8392-4c9a-b865-ae63e59a1449\",\"type\":\"GlyphRenderer\"},{\"id\":\"c8a95503-615b-4ea9-a18b-67c2bfb7bafe\",\"type\":\"GlyphRenderer\"},{\"id\":\"230c8060-c9ff-4b3a-92e2-cf24289483a7\",\"type\":\"GlyphRenderer\"},{\"id\":\"9cbc0efe-4935-4eb2-a386-92be5ad7f133\",\"type\":\"GlyphRenderer\"},{\"id\":\"a0bb2495-e685-425e-b540-59e1da8de9bc\",\"type\":\"GlyphRenderer\"},{\"id\":\"4a0001d4-bcde-4096-a936-64cc6ccf61dd\",\"type\":\"GlyphRenderer\"},{\"id\":\"890d8e0c-c360-4e7a-9f5b-0c9b81d27dcc\",\"type\":\"GlyphRenderer\"},{\"id\":\"3a1cb656-1d2a-4f56-bfb9-2e1c8dbfc91b\",\"type\":\"GlyphRenderer\"},{\"id\":\"c030ee5d-ebe6-44b7-a1f6-cb719a16b93b\",\"type\":\"GlyphRenderer\"},{\"id\":\"e9e697d9-234c-451d-982e-49750ab83ac3\",\"type\":\"GlyphRenderer\"},{\"id\":\"93d1c85d-3a81-4282-927e-a7d45c78f919\",\"type\":\"GlyphRenderer\"},{\"id\":\"9911f5f0-af6a-452b-9dec-cacbe338f3a8\",\"type\":\"GlyphRenderer\"},{\"id\":\"4cfbe644-5f56-44c9-9e36-5e2aafd35729\",\"type\":\"GlyphRenderer\"},{\"id\":\"805979d8-2d1d-41d9-b7b7-c4cbcb50e0aa\",\"type\":\"GlyphRenderer\"},{\"id\":\"63305c1f-3d19-41bd-91d9-77fdc1833608\",\"type\":\"GlyphRenderer\"},{\"id\":\"27677018-3ecb-4937-b4d8-475fa4ea705d\",\"type\":\"GlyphRenderer\"},{\"id\":\"cf8213d4-84bf-4c05-b78e-af341f553785\",\"type\":\"GlyphRenderer\"},{\"id\":\"7deb028d-4e9f-4fbe-8609-6791b72d80f7\",\"type\":\"GlyphRenderer\"},{\"id\":\"cbccf42c-1c67-49aa-9299-379f592a99a2\",\"type\":\"GlyphRenderer\"},{\"id\":\"6873ce50-3312-4ad2-8b0b-2d97ff837779\",\"type\":\"GlyphRenderer\"},{\"id\":\"ea14c9fe-30e8-4219-af5a-dab964b9e07f\",\"type\":\"GlyphRenderer\"},{\"id\":\"c8918632-c82d-4677-b214-2f5898a8aa39\",\"type\":\"GlyphRenderer\"},{\"id\":\"094cedaf-fa0e-4ead-8af0-7ab94aaf3665\",\"type\":\"GlyphRenderer\"},{\"id\":\"bd8d92c6-6260-42ce-8d69-fbc9cfc8ad37\",\"type\":\"GlyphRenderer\"},{\"id\":\"d5dc492f-ed32-45d0-8dfb-d2f83016ac30\",\"type\":\"GlyphRenderer\"},{\"id\":\"e8ed7c18-868e-4088-8fd8-0f45f20e99c9\",\"type\":\"GlyphRenderer\"},{\"id\":\"4db7a430-41b6-442a-a4da-1a36aa5d7eb7\",\"type\":\"GlyphRenderer\"},{\"id\":\"a1959cec-4e55-459f-90ca-7dc09971168f\",\"type\":\"GlyphRenderer\"},{\"id\":\"b9dc964a-ab2f-444a-bbfd-8e40dbe20c55\",\"type\":\"GlyphRenderer\"},{\"id\":\"6963f195-09ab-4625-ae3a-eba65cba7188\",\"type\":\"GlyphRenderer\"},{\"id\":\"75638495-5be1-402e-af57-70864f097082\",\"type\":\"GlyphRenderer\"},{\"id\":\"03a73d97-8eeb-4228-8feb-80df22ea7936\",\"type\":\"GlyphRenderer\"},{\"id\":\"ddcced62-9255-4043-a18b-181f746665c1\",\"type\":\"GlyphRenderer\"},{\"id\":\"0dbba638-3a9d-4900-85e0-7aeab1ae2360\",\"type\":\"GlyphRenderer\"},{\"id\":\"30a18d44-04b1-464a-b4fc-268f26292014\",\"type\":\"GlyphRenderer\"},{\"id\":\"56f964c2-6e6c-4b29-bd78-f18e50088b3c\",\"type\":\"GlyphRenderer\"},{\"id\":\"03bb9aa8-621b-4f26-bf82-918f7f6fa01f\",\"type\":\"GlyphRenderer\"},{\"id\":\"020f8e09-a583-40ae-83db-20a31f31ef10\",\"type\":\"GlyphRenderer\"},{\"id\":\"ce0a17f5-8362-4a7c-aa0f-0ce4d7541740\",\"type\":\"GlyphRenderer\"}],\"title\":{\"id\":\"8969c5d4-03af-409e-9b7d-68d6b55533ac\",\"type\":\"Title\"},\"toolbar\":{\"id\":\"d4a64f80-61d9-452a-bd3a-3e27a6a14f56\",\"type\":\"Toolbar\"},\"x_range\":{\"id\":\"7c6c6ecb-1761-4b84-81ee-05cc08988764\",\"type\":\"DataRange1d\"},\"x_scale\":{\"id\":\"aa909d60-266e-4921-babd-dcc878f406b4\",\"type\":\"LinearScale\"},\"y_range\":{\"id\":\"d2968851-710f-4a8c-a188-433c5408290c\",\"type\":\"DataRange1d\"},\"y_scale\":{\"id\":\"4e4f4c76-cb2d-458c-81eb-0938bcc02770\",\"type\":\"LinearScale\"}},\"id\":\"6edf0fc9-d0ce-48f2-8464-82b04a26c4cf\",\"subtype\":\"Figure\",\"type\":\"Plot\"},{\"attributes\":{},\"id\":\"c911107c-1cb0-4bd1-8e4b-a5ba67d7aa44\",\"type\":\"BasicTickFormatter\"},{\"attributes\":{\"callback\":null,\"column_names\":[\"x\",\"y\",\"text\"],\"data\":{\"text\":[\"setosa\",\"versicolor\",\"virginica\"],\"x\":[5.595833333333332,1.4639999999999995,4.269230769230769],\"y\":[2.0374999999999996,0.24400000000000022,1.3423076923076924]}},\"id\":\"2a734f51-53fb-40f8-8b71-9365b5d3c55a\",\"type\":\"ColumnDataSource\"},{\"attributes\":{\"callback\":null},\"id\":\"7c6c6ecb-1761-4b84-81ee-05cc08988764\",\"type\":\"DataRange1d\"},{\"attributes\":{\"plot\":null,\"text\":\"Iris Petals\"},\"id\":\"8969c5d4-03af-409e-9b7d-68d6b55533ac\",\"type\":\"Title\"},{\"attributes\":{\"active_drag\":\"auto\",\"active_inspect\":\"auto\",\"active_scroll\":\"auto\",\"active_tap\":\"auto\",\"tools\":[{\"id\":\"2c67b583-e7f8-433d-a79d-17078b360ec7\",\"type\":\"PanTool\"},{\"id\":\"d2e223e5-b24c-4cab-9738-43580a3f090d\",\"type\":\"WheelZoomTool\"},{\"id\":\"bb4b0313-a817-4c5b-9853-3df311a99940\",\"type\":\"BoxZoomTool\"},{\"id\":\"1b3dcfca-f315-43a9-be13-8bf1695d08d5\",\"type\":\"SaveTool\"},{\"id\":\"94cd5a80-6cee-4aac-9649-2a5423fbc92e\",\"type\":\"ResetTool\"},{\"id\":\"0f889ca9-3f51-4233-89c3-d8d5b085c8b8\",\"type\":\"HelpTool\"}]},\"id\":\"d4a64f80-61d9-452a-bd3a-3e27a6a14f56\",\"type\":\"Toolbar\"},{\"attributes\":{\"fill_alpha\":{\"value\":0.1},\"fill_color\":{\"value\":\"#1f77b4\"},\"line_alpha\":{\"value\":0.1},\"line_color\":{\"value\":\"#1f77b4\"},\"size\":{\"units\":\"screen\",\"value\":15},\"x\":{\"value\":1.4},\"y\":{\"value\":0.2}},\"id\":\"85cfc540-34e5-44c4-a6bc-28999922df75\",\"type\":\"Circle\"},{\"attributes\":{\"bottom_units\":\"screen\",\"fill_alpha\":{\"value\":0.5},\"fill_color\":{\"value\":\"lightgrey\"},\"left_units\":\"screen\",\"level\":\"overlay\",\"line_alpha\":{\"value\":1.0},\"line_color\":{\"value\":\"black\"},\"line_dash\":[4,4],\"line_width\":{\"value\":2},\"plot\":null,\"render_mode\":\"css\",\"right_units\":\"screen\",\"top_units\":\"screen\"},\"id\":\"16e05ec2-97fd-4d83-b608-fa9b797b33f4\",\"type\":\"BoxAnnotation\"},{\"attributes\":{\"text_color\":{\"value\":\"black\"},\"text_font_size\":{\"value\":\"30pt\"},\"x\":{\"field\":\"x\"},\"y\":{\"field\":\"y\"}},\"id\":\"e32d13ff-8ff5-4a21-9ad3-ec9df0656caa\",\"type\":\"Text\"},{\"attributes\":{\"data_source\":{\"id\":\"463d5ea1-a1f5-43b8-a8a4-dc2a07bd038d\",\"type\":\"ColumnDataSource\"},\"glyph\":{\"id\":\"5e622fce-533d-443b-beab-730f79ff6473\",\"type\":\"CircleCross\"},\"hover_glyph\":null,\"muted_glyph\":null,\"nonselection_glyph\":{\"id\":\"20063c3f-e914-4ee5-8b0c-cb143226d67e\",\"type\":\"CircleCross\"},\"selection_glyph\":null,\"view\":{\"id\":\"dc0840f3-c280-48ee-92e0-8f0a10435e06\",\"type\":\"CDSView\"}},\"id\":\"db5849dc-e02c-4e44-b8c6-7bd514678c11\",\"type\":\"GlyphRenderer\"},{\"attributes\":{\"source\":{\"id\":\"333e2a9e-35ae-4663-940f-55594e98c1cf\",\"type\":\"ColumnDataSource\"}},\"id\":\"9dbfee87-37c9-4f7f-81fe-ce0b9f735c24\",\"type\":\"CDSView\"},{\"attributes\":{\"data_source\":{\"id\":\"333e2a9e-35ae-4663-940f-55594e98c1cf\",\"type\":\"ColumnDataSource\"},\"glyph\":{\"id\":\"6e77bb94-4575-403f-8317-c769bffea51a\",\"type\":\"Circle\"},\"hover_glyph\":null,\"muted_glyph\":null,\"nonselection_glyph\":{\"id\":\"85cfc540-34e5-44c4-a6bc-28999922df75\",\"type\":\"Circle\"},\"selection_glyph\":null,\"view\":{\"id\":\"9dbfee87-37c9-4f7f-81fe-ce0b9f735c24\",\"type\":\"CDSView\"}},\"id\":\"eaecedaf-ac6d-4c7c-84d3-af5a0857d9ce\",\"type\":\"GlyphRenderer\"},{\"attributes\":{\"callback\":null,\"data\":{}},\"id\":\"ea666e4b-4ecb-464d-93a5-b3d1967f1072\",\"type\":\"ColumnDataSource\"},{\"attributes\":{\"overlay\":{\"id\":\"16e05ec2-97fd-4d83-b608-fa9b797b33f4\",\"type\":\"BoxAnnotation\"}},\"id\":\"bb4b0313-a817-4c5b-9853-3df311a99940\",\"type\":\"BoxZoomTool\"},{\"attributes\":{\"callback\":null,\"column_names\":[\"x\",\"y\",\"fill_color\",\"line_color\"],\"data\":{\"fill_color\":[\"red\",\"blue\",\"purple\"],\"line_color\":[\"red\",\"blue\",\"purple\"],\"x\":[5.595833333333332,1.4639999999999995,4.269230769230769],\"y\":[2.0374999999999996,0.24400000000000022,1.3423076923076924]}},\"id\":\"463d5ea1-a1f5-43b8-a8a4-dc2a07bd038d\",\"type\":\"ColumnDataSource\"},{\"attributes\":{\"dimension\":1,\"plot\":{\"id\":\"6edf0fc9-d0ce-48f2-8464-82b04a26c4cf\",\"subtype\":\"Figure\",\"type\":\"Plot\"},\"ticker\":{\"id\":\"a1a352de-a8a6-40a1-89a4-b556711b4682\",\"type\":\"BasicTicker\"}},\"id\":\"f99dfe87-bfab-4fac-a4fb-c398945ebf45\",\"type\":\"Grid\"},{\"attributes\":{},\"id\":\"d2e223e5-b24c-4cab-9738-43580a3f090d\",\"type\":\"WheelZoomTool\"},{\"attributes\":{},\"id\":\"2c67b583-e7f8-433d-a79d-17078b360ec7\",\"type\":\"PanTool\"},{\"attributes\":{\"fill_color\":{\"value\":\"blue\"},\"line_color\":{\"value\":\"blue\"},\"size\":{\"units\":\"screen\",\"value\":15},\"x\":{\"value\":1.4},\"y\":{\"value\":0.2}},\"id\":\"6c1e9a68-6623-4281-b716-58c6eb44e11b\",\"type\":\"Circle\"},{\"attributes\":{},\"id\":\"7ffb6512-90f8-43e6-aefa-ba94e8f9817d\",\"type\":\"BasicTickFormatter\"},{\"attributes\":{\"source\":{\"id\":\"463d5ea1-a1f5-43b8-a8a4-dc2a07bd038d\",\"type\":\"ColumnDataSource\"}},\"id\":\"dc0840f3-c280-48ee-92e0-8f0a10435e06\",\"type\":\"CDSView\"},{\"attributes\":{\"callback\":null,\"data\":{}},\"id\":\"2221d4c4-e5dc-4d0c-9faa-5e13d5455ec6\",\"type\":\"ColumnDataSource\"},{\"attributes\":{},\"id\":\"1b3dcfca-f315-43a9-be13-8bf1695d08d5\",\"type\":\"SaveTool\"},{\"attributes\":{},\"id\":\"94cd5a80-6cee-4aac-9649-2a5423fbc92e\",\"type\":\"ResetTool\"},{\"attributes\":{},\"id\":\"0f889ca9-3f51-4233-89c3-d8d5b085c8b8\",\"type\":\"HelpTool\"},{\"attributes\":{\"text_alpha\":{\"value\":0.1},\"text_color\":{\"value\":\"black\"},\"text_font_size\":{\"value\":\"30pt\"},\"x\":{\"field\":\"x\"},\"y\":{\"field\":\"y\"}},\"id\":\"68732098-140f-4292-920f-17af5aad8dd6\",\"type\":\"Text\"},{\"attributes\":{\"data_source\":{\"id\":\"2a734f51-53fb-40f8-8b71-9365b5d3c55a\",\"type\":\"ColumnDataSource\"},\"glyph\":{\"id\":\"e32d13ff-8ff5-4a21-9ad3-ec9df0656caa\",\"type\":\"Text\"},\"hover_glyph\":null,\"muted_glyph\":null,\"nonselection_glyph\":{\"id\":\"68732098-140f-4292-920f-17af5aad8dd6\",\"type\":\"Text\"},\"selection_glyph\":null,\"view\":{\"id\":\"61c3967a-db47-4c2c-a427-33e121d21d9f\",\"type\":\"CDSView\"}},\"id\":\"9aa899a0-82a0-4c43-9bb9-c9ae8677237a\",\"type\":\"GlyphRenderer\"},{\"attributes\":{\"fill_color\":{\"value\":\"blue\"},\"line_color\":{\"value\":\"blue\"},\"size\":{\"units\":\"screen\",\"value\":15},\"x\":{\"value\":1.4},\"y\":{\"value\":0.2}},\"id\":\"6e77bb94-4575-403f-8317-c769bffea51a\",\"type\":\"Circle\"},{\"attributes\":{\"callback\":null,\"data\":{}},\"id\":\"333e2a9e-35ae-4663-940f-55594e98c1cf\",\"type\":\"ColumnDataSource\"},{\"attributes\":{\"data_source\":{\"id\":\"2221d4c4-e5dc-4d0c-9faa-5e13d5455ec6\",\"type\":\"ColumnDataSource\"},\"glyph\":{\"id\":\"6c1e9a68-6623-4281-b716-58c6eb44e11b\",\"type\":\"Circle\"},\"hover_glyph\":null,\"muted_glyph\":null,\"nonselection_glyph\":{\"id\":\"c6d82109-5237-4831-809a-ba9edbc2040c\",\"type\":\"Circle\"},\"selection_glyph\":null,\"view\":{\"id\":\"da8b3aa7-0b0d-4cbc-84d0-2cb8a056942f\",\"type\":\"CDSView\"}},\"id\":\"c08710a2-13d8-4ed0-94df-528f6db433b7\",\"type\":\"GlyphRenderer\"},{\"attributes\":{\"source\":{\"id\":\"2221d4c4-e5dc-4d0c-9faa-5e13d5455ec6\",\"type\":\"ColumnDataSource\"}},\"id\":\"da8b3aa7-0b0d-4cbc-84d0-2cb8a056942f\",\"type\":\"CDSView\"},{\"attributes\":{\"source\":{\"id\":\"2a734f51-53fb-40f8-8b71-9365b5d3c55a\",\"type\":\"ColumnDataSource\"}},\"id\":\"61c3967a-db47-4c2c-a427-33e121d21d9f\",\"type\":\"CDSView\"},{\"attributes\":{\"fill_color\":{\"value\":\"blue\"},\"line_color\":{\"value\":\"blue\"},\"size\":{\"units\":\"screen\",\"value\":15},\"x\":{\"value\":1.3},\"y\":{\"value\":0.2}},\"id\":\"30e6a2ad-58fb-4915-bd75-8fea00fe3b56\",\"type\":\"Circle\"},{\"attributes\":{\"fill_alpha\":{\"value\":0.1},\"fill_color\":{\"value\":\"#1f77b4\"},\"line_alpha\":{\"value\":0.1},\"line_color\":{\"value\":\"#1f77b4\"},\"size\":{\"units\":\"screen\",\"value\":15},\"x\":{\"value\":1.4},\"y\":{\"value\":0.2}},\"id\":\"c6d82109-5237-4831-809a-ba9edbc2040c\",\"type\":\"Circle\"},{\"attributes\":{\"fill_color\":{\"value\":\"red\"},\"line_color\":{\"value\":\"red\"},\"size\":{\"units\":\"screen\",\"value\":15},\"x\":{\"value\":5.6},\"y\":{\"value\":1.8}},\"id\":\"234888f4-3ec5-4c8c-a61b-76fc60e0c073\",\"type\":\"Circle\"},{\"attributes\":{\"callback\":null,\"data\":{}},\"id\":\"5f833a6b-05d0-43a2-90ea-be1b031bba4e\",\"type\":\"ColumnDataSource\"},{\"attributes\":{\"fill_alpha\":{\"value\":0.1},\"fill_color\":{\"value\":\"#1f77b4\"},\"line_alpha\":{\"value\":0.1},\"line_color\":{\"value\":\"#1f77b4\"},\"size\":{\"units\":\"screen\",\"value\":15},\"x\":{\"value\":6.7},\"y\":{\"value\":2.2}},\"id\":\"fe1bdd8f-0b68-43dc-b47d-c0a08cb7cbd3\",\"type\":\"Circle\"},{\"attributes\":{\"fill_color\":{\"value\":\"red\"},\"line_color\":{\"value\":\"red\"},\"size\":{\"units\":\"screen\",\"value\":15},\"x\":{\"value\":5.0},\"y\":{\"value\":1.9}},\"id\":\"b10c55dc-894a-47e4-add6-ff825c5a2761\",\"type\":\"Circle\"},{\"attributes\":{\"fill_alpha\":{\"value\":0.1},\"fill_color\":{\"value\":\"#1f77b4\"},\"line_alpha\":{\"value\":0.1},\"line_color\":{\"value\":\"#1f77b4\"},\"size\":{\"units\":\"screen\",\"value\":15},\"x\":{\"value\":5.6},\"y\":{\"value\":1.8}},\"id\":\"9667b666-5e90-44c3-b21e-dbd5fba7118d\",\"type\":\"Circle\"},{\"attributes\":{\"fill_color\":{\"value\":\"red\"},\"line_color\":{\"value\":\"red\"},\"size\":{\"units\":\"screen\",\"value\":15},\"x\":{\"value\":5.6},\"y\":{\"value\":2.2}},\"id\":\"f938fb9b-fcab-4971-9a86-a2c3acac17b7\",\"type\":\"Circle\"},{\"attributes\":{\"data_source\":{\"id\":\"5511b1ca-a5a3-4429-9db2-afc3c593395e\",\"type\":\"ColumnDataSource\"},\"glyph\":{\"id\":\"234888f4-3ec5-4c8c-a61b-76fc60e0c073\",\"type\":\"Circle\"},\"hover_glyph\":null,\"muted_glyph\":null,\"nonselection_glyph\":{\"id\":\"9667b666-5e90-44c3-b21e-dbd5fba7118d\",\"type\":\"Circle\"},\"selection_glyph\":null,\"view\":{\"id\":\"1bbd28b4-2940-4b0e-a997-30686b99aa41\",\"type\":\"CDSView\"}},\"id\":\"7959faa7-257c-4128-b519-8db0955949c7\",\"type\":\"GlyphRenderer\"},{\"attributes\":{\"fill_alpha\":{\"value\":0.1},\"fill_color\":{\"value\":\"#1f77b4\"},\"line_alpha\":{\"value\":0.1},\"line_color\":{\"value\":\"#1f77b4\"},\"size\":{\"units\":\"screen\",\"value\":15},\"x\":{\"value\":5.6},\"y\":{\"value\":2.2}},\"id\":\"83728ecb-5487-4042-8f56-90dc4ed79949\",\"type\":\"Circle\"},{\"attributes\":{\"data_source\":{\"id\":\"5f833a6b-05d0-43a2-90ea-be1b031bba4e\",\"type\":\"ColumnDataSource\"},\"glyph\":{\"id\":\"f938fb9b-fcab-4971-9a86-a2c3acac17b7\",\"type\":\"Circle\"},\"hover_glyph\":null,\"muted_glyph\":null,\"nonselection_glyph\":{\"id\":\"83728ecb-5487-4042-8f56-90dc4ed79949\",\"type\":\"Circle\"},\"selection_glyph\":null,\"view\":{\"id\":\"40014a72-fdce-4bec-9f96-c8b533959a22\",\"type\":\"CDSView\"}},\"id\":\"c8918632-c82d-4677-b214-2f5898a8aa39\",\"type\":\"GlyphRenderer\"},{\"attributes\":{\"source\":{\"id\":\"5511b1ca-a5a3-4429-9db2-afc3c593395e\",\"type\":\"ColumnDataSource\"}},\"id\":\"1bbd28b4-2940-4b0e-a997-30686b99aa41\",\"type\":\"CDSView\"},{\"attributes\":{\"fill_color\":{\"value\":\"red\"},\"line_color\":{\"value\":\"red\"},\"size\":{\"units\":\"screen\",\"value\":15},\"x\":{\"value\":5.8},\"y\":{\"value\":2.2}},\"id\":\"87f826f7-5bea-4ea0-b302-6b2cca62cee8\",\"type\":\"Circle\"},{\"attributes\":{\"source\":{\"id\":\"5f833a6b-05d0-43a2-90ea-be1b031bba4e\",\"type\":\"ColumnDataSource\"}},\"id\":\"40014a72-fdce-4bec-9f96-c8b533959a22\",\"type\":\"CDSView\"},{\"attributes\":{\"callback\":null,\"data\":{}},\"id\":\"4e4bbb6d-a708-4fdf-ad4e-b0abfebbf63e\",\"type\":\"ColumnDataSource\"},{\"attributes\":{\"fill_color\":{\"value\":\"red\"},\"line_color\":{\"value\":\"red\"},\"size\":{\"units\":\"screen\",\"value\":15},\"x\":{\"value\":5.1},\"y\":{\"value\":1.5}},\"id\":\"5b9eab98-ade4-41bc-ac55-fbeb7f6b9a0b\",\"type\":\"Circle\"},{\"attributes\":{\"data_source\":{\"id\":\"4e4bbb6d-a708-4fdf-ad4e-b0abfebbf63e\",\"type\":\"ColumnDataSource\"},\"glyph\":{\"id\":\"87f826f7-5bea-4ea0-b302-6b2cca62cee8\",\"type\":\"Circle\"},\"hover_glyph\":null,\"muted_glyph\":null,\"nonselection_glyph\":{\"id\":\"e81010a5-380f-4a31-9381-515f34294e8a\",\"type\":\"Circle\"},\"selection_glyph\":null,\"view\":{\"id\":\"bcb42b9a-8441-4641-81ee-decd65112677\",\"type\":\"CDSView\"}},\"id\":\"f065ea94-67de-42da-9b24-fbb7d4afc21c\",\"type\":\"GlyphRenderer\"},{\"attributes\":{\"callback\":null,\"data\":{}},\"id\":\"9d730b6a-1d54-4af7-b33e-08d7aecf1ede\",\"type\":\"ColumnDataSource\"},{\"attributes\":{\"data_source\":{\"id\":\"9d730b6a-1d54-4af7-b33e-08d7aecf1ede\",\"type\":\"ColumnDataSource\"},\"glyph\":{\"id\":\"5b9eab98-ade4-41bc-ac55-fbeb7f6b9a0b\",\"type\":\"Circle\"},\"hover_glyph\":null,\"muted_glyph\":null,\"nonselection_glyph\":{\"id\":\"ce54f637-ad86-4ee3-8645-ea1b03a837da\",\"type\":\"Circle\"},\"selection_glyph\":null,\"view\":{\"id\":\"9c8eb4f0-d883-43b1-a56c-34c23f4c13db\",\"type\":\"CDSView\"}},\"id\":\"094cedaf-fa0e-4ead-8af0-7ab94aaf3665\",\"type\":\"GlyphRenderer\"},{\"attributes\":{\"fill_alpha\":{\"value\":0.1},\"fill_color\":{\"value\":\"#1f77b4\"},\"line_alpha\":{\"value\":0.1},\"line_color\":{\"value\":\"#1f77b4\"},\"size\":{\"units\":\"screen\",\"value\":15},\"x\":{\"value\":5.8},\"y\":{\"value\":2.2}},\"id\":\"e81010a5-380f-4a31-9381-515f34294e8a\",\"type\":\"Circle\"},{\"attributes\":{\"callback\":null,\"data\":{}},\"id\":\"eae32d78-d07d-443d-a2d2-ff7f08fa570c\",\"type\":\"ColumnDataSource\"},{\"attributes\":{\"fill_alpha\":{\"value\":0.1},\"fill_color\":{\"value\":\"#1f77b4\"},\"line_alpha\":{\"value\":0.1},\"line_color\":{\"value\":\"#1f77b4\"},\"size\":{\"units\":\"screen\",\"value\":15},\"x\":{\"value\":5.1},\"y\":{\"value\":1.5}},\"id\":\"ce54f637-ad86-4ee3-8645-ea1b03a837da\",\"type\":\"Circle\"},{\"attributes\":{\"data_source\":{\"id\":\"eae32d78-d07d-443d-a2d2-ff7f08fa570c\",\"type\":\"ColumnDataSource\"},\"glyph\":{\"id\":\"564b5702-f9f1-454d-bc29-b7c2b2e09250\",\"type\":\"Circle\"},\"hover_glyph\":null,\"muted_glyph\":null,\"nonselection_glyph\":{\"id\":\"2e699574-5a7d-44fe-9409-8f6ae4dfe8b0\",\"type\":\"Circle\"},\"selection_glyph\":null,\"view\":{\"id\":\"d2fd210d-a3bc-4306-b9cf-7cdda11512fd\",\"type\":\"CDSView\"}},\"id\":\"2da7ade1-3f4e-4a08-9fb1-0b3a605c0b63\",\"type\":\"GlyphRenderer\"},{\"attributes\":{\"callback\":null,\"data\":{}},\"id\":\"b3bf7407-40b4-43c7-ab6e-22bc1b2a2eb3\",\"type\":\"ColumnDataSource\"},{\"attributes\":{\"data_source\":{\"id\":\"b3bf7407-40b4-43c7-ab6e-22bc1b2a2eb3\",\"type\":\"ColumnDataSource\"},\"glyph\":{\"id\":\"27bc1847-5035-4598-bf79-903cc28a1b1a\",\"type\":\"Circle\"},\"hover_glyph\":null,\"muted_glyph\":null,\"nonselection_glyph\":{\"id\":\"c2d09eb0-7b2c-4418-884a-6d01d80eaf96\",\"type\":\"Circle\"},\"selection_glyph\":null,\"view\":{\"id\":\"59b55e22-919f-434e-8fb0-ec5958370775\",\"type\":\"CDSView\"}},\"id\":\"bd8d92c6-6260-42ce-8d69-fbc9cfc8ad37\",\"type\":\"GlyphRenderer\"},{\"attributes\":{\"source\":{\"id\":\"4e4bbb6d-a708-4fdf-ad4e-b0abfebbf63e\",\"type\":\"ColumnDataSource\"}},\"id\":\"bcb42b9a-8441-4641-81ee-decd65112677\",\"type\":\"CDSView\"},{\"attributes\":{\"fill_color\":{\"value\":\"red\"},\"line_color\":{\"value\":\"red\"},\"size\":{\"units\":\"screen\",\"value\":15},\"x\":{\"value\":6.6},\"y\":{\"value\":2.1}},\"id\":\"564b5702-f9f1-454d-bc29-b7c2b2e09250\",\"type\":\"Circle\"},{\"attributes\":{\"source\":{\"id\":\"9d730b6a-1d54-4af7-b33e-08d7aecf1ede\",\"type\":\"ColumnDataSource\"}},\"id\":\"9c8eb4f0-d883-43b1-a56c-34c23f4c13db\",\"type\":\"CDSView\"},{\"attributes\":{\"fill_alpha\":{\"value\":0.1},\"fill_color\":{\"value\":\"#1f77b4\"},\"line_alpha\":{\"value\":0.1},\"line_color\":{\"value\":\"#1f77b4\"},\"size\":{\"units\":\"screen\",\"value\":15},\"x\":{\"value\":6.6},\"y\":{\"value\":2.1}},\"id\":\"2e699574-5a7d-44fe-9409-8f6ae4dfe8b0\",\"type\":\"Circle\"},{\"attributes\":{\"fill_color\":{\"value\":\"red\"},\"line_color\":{\"value\":\"red\"},\"size\":{\"units\":\"screen\",\"value\":15},\"x\":{\"value\":5.6},\"y\":{\"value\":1.4}},\"id\":\"27bc1847-5035-4598-bf79-903cc28a1b1a\",\"type\":\"Circle\"},{\"attributes\":{\"callback\":null,\"data\":{}},\"id\":\"1f2d1bc3-e12f-48f1-9f0f-1a8a0a8109de\",\"type\":\"ColumnDataSource\"},{\"attributes\":{\"fill_alpha\":{\"value\":0.1},\"fill_color\":{\"value\":\"#1f77b4\"},\"line_alpha\":{\"value\":0.1},\"line_color\":{\"value\":\"#1f77b4\"},\"size\":{\"units\":\"screen\",\"value\":15},\"x\":{\"value\":5.6},\"y\":{\"value\":1.4}},\"id\":\"c2d09eb0-7b2c-4418-884a-6d01d80eaf96\",\"type\":\"Circle\"},{\"attributes\":{\"data_source\":{\"id\":\"1f2d1bc3-e12f-48f1-9f0f-1a8a0a8109de\",\"type\":\"ColumnDataSource\"},\"glyph\":{\"id\":\"19bb7356-aa14-4349-bd88-037853c96de7\",\"type\":\"Circle\"},\"hover_glyph\":null,\"muted_glyph\":null,\"nonselection_glyph\":{\"id\":\"fa7373c6-4d1a-4883-9734-80aef323f2cb\",\"type\":\"Circle\"},\"selection_glyph\":null,\"view\":{\"id\":\"4bacf3a6-9b3d-48a8-9a1c-ebb1d5770c90\",\"type\":\"CDSView\"}},\"id\":\"ae6c087b-49a2-4f26-9363-2ed3d4ff27d1\",\"type\":\"GlyphRenderer\"},{\"attributes\":{\"callback\":null,\"data\":{}},\"id\":\"1772d3f7-2bd1-4150-9eef-285a365fe6dc\",\"type\":\"ColumnDataSource\"},{\"attributes\":{\"data_source\":{\"id\":\"1772d3f7-2bd1-4150-9eef-285a365fe6dc\",\"type\":\"ColumnDataSource\"},\"glyph\":{\"id\":\"ae1b2193-0e60-40aa-8700-620e153e9daf\",\"type\":\"Circle\"},\"hover_glyph\":null,\"muted_glyph\":null,\"nonselection_glyph\":{\"id\":\"4551df00-7870-4349-b030-534fe9299cd5\",\"type\":\"Circle\"},\"selection_glyph\":null,\"view\":{\"id\":\"33c2126c-edd8-4127-8cd0-ee155b385ab2\",\"type\":\"CDSView\"}},\"id\":\"d5dc492f-ed32-45d0-8dfb-d2f83016ac30\",\"type\":\"GlyphRenderer\"},{\"attributes\":{\"source\":{\"id\":\"eae32d78-d07d-443d-a2d2-ff7f08fa570c\",\"type\":\"ColumnDataSource\"}},\"id\":\"d2fd210d-a3bc-4306-b9cf-7cdda11512fd\",\"type\":\"CDSView\"},{\"attributes\":{\"fill_color\":{\"value\":\"purple\"},\"line_color\":{\"value\":\"purple\"},\"size\":{\"units\":\"screen\",\"value\":15},\"x\":{\"value\":4.5},\"y\":{\"value\":1.7}},\"id\":\"19bb7356-aa14-4349-bd88-037853c96de7\",\"type\":\"Circle\"},{\"attributes\":{\"source\":{\"id\":\"b3bf7407-40b4-43c7-ab6e-22bc1b2a2eb3\",\"type\":\"ColumnDataSource\"}},\"id\":\"59b55e22-919f-434e-8fb0-ec5958370775\",\"type\":\"CDSView\"},{\"attributes\":{\"fill_alpha\":{\"value\":0.1},\"fill_color\":{\"value\":\"#1f77b4\"},\"line_alpha\":{\"value\":0.1},\"line_color\":{\"value\":\"#1f77b4\"},\"size\":{\"units\":\"screen\",\"value\":15},\"x\":{\"value\":4.5},\"y\":{\"value\":1.7}},\"id\":\"fa7373c6-4d1a-4883-9734-80aef323f2cb\",\"type\":\"Circle\"},{\"attributes\":{\"fill_color\":{\"value\":\"red\"},\"line_color\":{\"value\":\"red\"},\"size\":{\"units\":\"screen\",\"value\":15},\"x\":{\"value\":6.1},\"y\":{\"value\":2.3}},\"id\":\"ae1b2193-0e60-40aa-8700-620e153e9daf\",\"type\":\"Circle\"},{\"attributes\":{\"callback\":null,\"data\":{}},\"id\":\"5da27c90-c60f-4121-a26d-6b552911997c\",\"type\":\"ColumnDataSource\"},{\"attributes\":{\"fill_alpha\":{\"value\":0.1},\"fill_color\":{\"value\":\"#1f77b4\"},\"line_alpha\":{\"value\":0.1},\"line_color\":{\"value\":\"#1f77b4\"},\"size\":{\"units\":\"screen\",\"value\":15},\"x\":{\"value\":6.1},\"y\":{\"value\":2.3}},\"id\":\"4551df00-7870-4349-b030-534fe9299cd5\",\"type\":\"Circle\"},{\"attributes\":{\"data_source\":{\"id\":\"5da27c90-c60f-4121-a26d-6b552911997c\",\"type\":\"ColumnDataSource\"},\"glyph\":{\"id\":\"fa326b8e-de48-492c-811c-648aefda8276\",\"type\":\"Circle\"},\"hover_glyph\":null,\"muted_glyph\":null,\"nonselection_glyph\":{\"id\":\"60e8552d-cf82-44f0-a60c-e63cb4f6ab41\",\"type\":\"Circle\"},\"selection_glyph\":null,\"view\":{\"id\":\"15d4e5eb-c15a-4a1a-92b1-b234ddef504a\",\"type\":\"CDSView\"}},\"id\":\"6599a18f-ac18-4bcb-9543-ddfcca98cbe5\",\"type\":\"GlyphRenderer\"},{\"attributes\":{\"callback\":null,\"data\":{}},\"id\":\"a7fab23a-b076-43a8-8e40-1e4d699a1d84\",\"type\":\"ColumnDataSource\"},{\"attributes\":{\"data_source\":{\"id\":\"a7fab23a-b076-43a8-8e40-1e4d699a1d84\",\"type\":\"ColumnDataSource\"},\"glyph\":{\"id\":\"f7ee00e8-cf8d-4d18-a57f-796da742dd0d\",\"type\":\"Circle\"},\"hover_glyph\":null,\"muted_glyph\":null,\"nonselection_glyph\":{\"id\":\"101f6784-8900-44e0-b695-a398456630a7\",\"type\":\"Circle\"},\"selection_glyph\":null,\"view\":{\"id\":\"163cf99c-b896-478a-a6e1-c740c7e35588\",\"type\":\"CDSView\"}},\"id\":\"e8ed7c18-868e-4088-8fd8-0f45f20e99c9\",\"type\":\"GlyphRenderer\"},{\"attributes\":{\"source\":{\"id\":\"1f2d1bc3-e12f-48f1-9f0f-1a8a0a8109de\",\"type\":\"ColumnDataSource\"}},\"id\":\"4bacf3a6-9b3d-48a8-9a1c-ebb1d5770c90\",\"type\":\"CDSView\"},{\"attributes\":{\"fill_color\":{\"value\":\"red\"},\"line_color\":{\"value\":\"red\"},\"size\":{\"units\":\"screen\",\"value\":15},\"x\":{\"value\":6.3},\"y\":{\"value\":1.8}},\"id\":\"fa326b8e-de48-492c-811c-648aefda8276\",\"type\":\"Circle\"},{\"attributes\":{\"source\":{\"id\":\"1772d3f7-2bd1-4150-9eef-285a365fe6dc\",\"type\":\"ColumnDataSource\"}},\"id\":\"33c2126c-edd8-4127-8cd0-ee155b385ab2\",\"type\":\"CDSView\"},{\"attributes\":{\"fill_alpha\":{\"value\":0.1},\"fill_color\":{\"value\":\"#1f77b4\"},\"line_alpha\":{\"value\":0.1},\"line_color\":{\"value\":\"#1f77b4\"},\"size\":{\"units\":\"screen\",\"value\":15},\"x\":{\"value\":6.3},\"y\":{\"value\":1.8}},\"id\":\"60e8552d-cf82-44f0-a60c-e63cb4f6ab41\",\"type\":\"Circle\"},{\"attributes\":{\"fill_color\":{\"value\":\"red\"},\"line_color\":{\"value\":\"red\"},\"size\":{\"units\":\"screen\",\"value\":15},\"x\":{\"value\":5.6},\"y\":{\"value\":2.4}},\"id\":\"f7ee00e8-cf8d-4d18-a57f-796da742dd0d\",\"type\":\"Circle\"},{\"attributes\":{\"callback\":null,\"data\":{}},\"id\":\"3ff092c1-d39c-4f87-b7fc-8f27e3a2a5df\",\"type\":\"ColumnDataSource\"},{\"attributes\":{\"fill_alpha\":{\"value\":0.1},\"fill_color\":{\"value\":\"#1f77b4\"},\"line_alpha\":{\"value\":0.1},\"line_color\":{\"value\":\"#1f77b4\"},\"size\":{\"units\":\"screen\",\"value\":15},\"x\":{\"value\":5.6},\"y\":{\"value\":2.4}},\"id\":\"101f6784-8900-44e0-b695-a398456630a7\",\"type\":\"Circle\"},{\"attributes\":{\"data_source\":{\"id\":\"3ff092c1-d39c-4f87-b7fc-8f27e3a2a5df\",\"type\":\"ColumnDataSource\"},\"glyph\":{\"id\":\"bb7b1ffc-e392-49dc-b408-ad5c49132c70\",\"type\":\"Circle\"},\"hover_glyph\":null,\"muted_glyph\":null,\"nonselection_glyph\":{\"id\":\"dc42f93d-34a8-49b4-9e79-8355f607ec32\",\"type\":\"Circle\"},\"selection_glyph\":null,\"view\":{\"id\":\"bfb98930-2f57-43ee-8df9-3b855a7fd3f1\",\"type\":\"CDSView\"}},\"id\":\"af75fe5d-0a70-4de8-924e-2760e3ae0995\",\"type\":\"GlyphRenderer\"},{\"attributes\":{\"callback\":null,\"data\":{}},\"id\":\"11156cae-0480-477b-a4c4-ce58a6696dab\",\"type\":\"ColumnDataSource\"},{\"attributes\":{\"data_source\":{\"id\":\"11156cae-0480-477b-a4c4-ce58a6696dab\",\"type\":\"ColumnDataSource\"},\"glyph\":{\"id\":\"88d1c73d-6587-4e26-8a2c-f436713508a2\",\"type\":\"Circle\"},\"hover_glyph\":null,\"muted_glyph\":null,\"nonselection_glyph\":{\"id\":\"856160d3-5d28-4103-a201-06139777a1de\",\"type\":\"Circle\"},\"selection_glyph\":null,\"view\":{\"id\":\"3496c7ae-0c64-44c1-b198-847be8600515\",\"type\":\"CDSView\"}},\"id\":\"4db7a430-41b6-442a-a4da-1a36aa5d7eb7\",\"type\":\"GlyphRenderer\"},{\"attributes\":{\"source\":{\"id\":\"5da27c90-c60f-4121-a26d-6b552911997c\",\"type\":\"ColumnDataSource\"}},\"id\":\"15d4e5eb-c15a-4a1a-92b1-b234ddef504a\",\"type\":\"CDSView\"},{\"attributes\":{\"fill_color\":{\"value\":\"red\"},\"line_color\":{\"value\":\"red\"},\"size\":{\"units\":\"screen\",\"value\":15},\"x\":{\"value\":5.8},\"y\":{\"value\":1.8}},\"id\":\"bb7b1ffc-e392-49dc-b408-ad5c49132c70\",\"type\":\"Circle\"},{\"attributes\":{\"source\":{\"id\":\"a7fab23a-b076-43a8-8e40-1e4d699a1d84\",\"type\":\"ColumnDataSource\"}},\"id\":\"163cf99c-b896-478a-a6e1-c740c7e35588\",\"type\":\"CDSView\"},{\"attributes\":{\"fill_alpha\":{\"value\":0.1},\"fill_color\":{\"value\":\"#1f77b4\"},\"line_alpha\":{\"value\":0.1},\"line_color\":{\"value\":\"#1f77b4\"},\"size\":{\"units\":\"screen\",\"value\":15},\"x\":{\"value\":5.8},\"y\":{\"value\":1.8}},\"id\":\"dc42f93d-34a8-49b4-9e79-8355f607ec32\",\"type\":\"Circle\"},{\"attributes\":{\"fill_color\":{\"value\":\"red\"},\"line_color\":{\"value\":\"red\"},\"size\":{\"units\":\"screen\",\"value\":15},\"x\":{\"value\":5.5},\"y\":{\"value\":1.8}},\"id\":\"88d1c73d-6587-4e26-8a2c-f436713508a2\",\"type\":\"Circle\"},{\"attributes\":{\"callback\":null,\"data\":{}},\"id\":\"2a2c9a19-757f-48bd-a8a5-64b7c9882917\",\"type\":\"ColumnDataSource\"},{\"attributes\":{\"fill_alpha\":{\"value\":0.1},\"fill_color\":{\"value\":\"#1f77b4\"},\"line_alpha\":{\"value\":0.1},\"line_color\":{\"value\":\"#1f77b4\"},\"size\":{\"units\":\"screen\",\"value\":15},\"x\":{\"value\":5.5},\"y\":{\"value\":1.8}},\"id\":\"856160d3-5d28-4103-a201-06139777a1de\",\"type\":\"Circle\"},{\"attributes\":{\"data_source\":{\"id\":\"2a2c9a19-757f-48bd-a8a5-64b7c9882917\",\"type\":\"ColumnDataSource\"},\"glyph\":{\"id\":\"abc13b74-f282-418d-b342-ed52e14e1cb9\",\"type\":\"Circle\"},\"hover_glyph\":null,\"muted_glyph\":null,\"nonselection_glyph\":{\"id\":\"fe604e3f-d60e-4404-a67c-6cbf0ff9d4d8\",\"type\":\"Circle\"},\"selection_glyph\":null,\"view\":{\"id\":\"ebf176b3-8f12-4704-ba32-0ada3b122e39\",\"type\":\"CDSView\"}},\"id\":\"f1e248cf-fea9-4045-953f-1d0bf63ff865\",\"type\":\"GlyphRenderer\"},{\"attributes\":{\"callback\":null,\"data\":{}},\"id\":\"6d16eb97-f18a-4585-baad-545d7844b6ff\",\"type\":\"ColumnDataSource\"},{\"attributes\":{\"data_source\":{\"id\":\"6d16eb97-f18a-4585-baad-545d7844b6ff\",\"type\":\"ColumnDataSource\"},\"glyph\":{\"id\":\"fd787040-614e-4618-ba1d-b28839df4891\",\"type\":\"Circle\"},\"hover_glyph\":null,\"muted_glyph\":null,\"nonselection_glyph\":{\"id\":\"52fb3cb1-aa8d-4997-8cec-1729fc1983de\",\"type\":\"Circle\"},\"selection_glyph\":null,\"view\":{\"id\":\"21e4fc4a-8db5-43ce-a31d-8a65b42b89e6\",\"type\":\"CDSView\"}},\"id\":\"a1959cec-4e55-459f-90ca-7dc09971168f\",\"type\":\"GlyphRenderer\"},{\"attributes\":{\"source\":{\"id\":\"3ff092c1-d39c-4f87-b7fc-8f27e3a2a5df\",\"type\":\"ColumnDataSource\"}},\"id\":\"bfb98930-2f57-43ee-8df9-3b855a7fd3f1\",\"type\":\"CDSView\"},{\"attributes\":{\"fill_color\":{\"value\":\"red\"},\"line_color\":{\"value\":\"red\"},\"size\":{\"units\":\"screen\",\"value\":15},\"x\":{\"value\":6.1},\"y\":{\"value\":2.5}},\"id\":\"abc13b74-f282-418d-b342-ed52e14e1cb9\",\"type\":\"Circle\"},{\"attributes\":{\"source\":{\"id\":\"11156cae-0480-477b-a4c4-ce58a6696dab\",\"type\":\"ColumnDataSource\"}},\"id\":\"3496c7ae-0c64-44c1-b198-847be8600515\",\"type\":\"CDSView\"},{\"attributes\":{\"fill_alpha\":{\"value\":0.1},\"fill_color\":{\"value\":\"#1f77b4\"},\"line_alpha\":{\"value\":0.1},\"line_color\":{\"value\":\"#1f77b4\"},\"size\":{\"units\":\"screen\",\"value\":15},\"x\":{\"value\":6.1},\"y\":{\"value\":2.5}},\"id\":\"fe604e3f-d60e-4404-a67c-6cbf0ff9d4d8\",\"type\":\"Circle\"},{\"attributes\":{\"fill_color\":{\"value\":\"purple\"},\"line_color\":{\"value\":\"purple\"},\"size\":{\"units\":\"screen\",\"value\":15},\"x\":{\"value\":4.8},\"y\":{\"value\":1.8}},\"id\":\"fd787040-614e-4618-ba1d-b28839df4891\",\"type\":\"Circle\"},{\"attributes\":{\"callback\":null,\"data\":{}},\"id\":\"573f424e-f925-4ed2-9013-5e486dd3be13\",\"type\":\"ColumnDataSource\"},{\"attributes\":{\"fill_alpha\":{\"value\":0.1},\"fill_color\":{\"value\":\"#1f77b4\"},\"line_alpha\":{\"value\":0.1},\"line_color\":{\"value\":\"#1f77b4\"},\"size\":{\"units\":\"screen\",\"value\":15},\"x\":{\"value\":4.8},\"y\":{\"value\":1.8}},\"id\":\"52fb3cb1-aa8d-4997-8cec-1729fc1983de\",\"type\":\"Circle\"},{\"attributes\":{\"data_source\":{\"id\":\"573f424e-f925-4ed2-9013-5e486dd3be13\",\"type\":\"ColumnDataSource\"},\"glyph\":{\"id\":\"5de68104-c1aa-4d47-a03a-1d3b1ae14a70\",\"type\":\"Circle\"},\"hover_glyph\":null,\"muted_glyph\":null,\"nonselection_glyph\":{\"id\":\"1ea69795-fa5d-4a41-b81f-ebc70779fd44\",\"type\":\"Circle\"},\"selection_glyph\":null,\"view\":{\"id\":\"0e2e4b50-1061-4da7-99f9-5b969c38585c\",\"type\":\"CDSView\"}},\"id\":\"f5c86c78-39f1-4f65-8b8c-6217704cce33\",\"type\":\"GlyphRenderer\"},{\"attributes\":{\"callback\":null,\"data\":{}},\"id\":\"009ac541-7ae1-4fbe-a8a3-e88e0d6d4ade\",\"type\":\"ColumnDataSource\"},{\"attributes\":{\"data_source\":{\"id\":\"009ac541-7ae1-4fbe-a8a3-e88e0d6d4ade\",\"type\":\"ColumnDataSource\"},\"glyph\":{\"id\":\"a0b5070c-260b-47a1-90fd-cca61f1d0e65\",\"type\":\"Circle\"},\"hover_glyph\":null,\"muted_glyph\":null,\"nonselection_glyph\":{\"id\":\"78cf5211-eacd-40dd-927f-7eed9b330977\",\"type\":\"Circle\"},\"selection_glyph\":null,\"view\":{\"id\":\"cf84e455-7e25-41b6-ab62-66b203b8f2d7\",\"type\":\"CDSView\"}},\"id\":\"b9dc964a-ab2f-444a-bbfd-8e40dbe20c55\",\"type\":\"GlyphRenderer\"},{\"attributes\":{\"source\":{\"id\":\"2a2c9a19-757f-48bd-a8a5-64b7c9882917\",\"type\":\"ColumnDataSource\"}},\"id\":\"ebf176b3-8f12-4704-ba32-0ada3b122e39\",\"type\":\"CDSView\"},{\"attributes\":{\"fill_color\":{\"value\":\"red\"},\"line_color\":{\"value\":\"red\"},\"size\":{\"units\":\"screen\",\"value\":15},\"x\":{\"value\":5.1},\"y\":{\"value\":2.0}},\"id\":\"5de68104-c1aa-4d47-a03a-1d3b1ae14a70\",\"type\":\"Circle\"},{\"attributes\":{\"source\":{\"id\":\"6d16eb97-f18a-4585-baad-545d7844b6ff\",\"type\":\"ColumnDataSource\"}},\"id\":\"21e4fc4a-8db5-43ce-a31d-8a65b42b89e6\",\"type\":\"CDSView\"},{\"attributes\":{\"fill_alpha\":{\"value\":0.1},\"fill_color\":{\"value\":\"#1f77b4\"},\"line_alpha\":{\"value\":0.1},\"line_color\":{\"value\":\"#1f77b4\"},\"size\":{\"units\":\"screen\",\"value\":15},\"x\":{\"value\":5.1},\"y\":{\"value\":2.0}},\"id\":\"1ea69795-fa5d-4a41-b81f-ebc70779fd44\",\"type\":\"Circle\"},{\"attributes\":{\"fill_color\":{\"value\":\"red\"},\"line_color\":{\"value\":\"red\"},\"size\":{\"units\":\"screen\",\"value\":15},\"x\":{\"value\":5.4},\"y\":{\"value\":2.1}},\"id\":\"a0b5070c-260b-47a1-90fd-cca61f1d0e65\",\"type\":\"Circle\"},{\"attributes\":{\"callback\":null,\"data\":{}},\"id\":\"559d0905-a2ff-49e7-a367-6ba7d43239d8\",\"type\":\"ColumnDataSource\"},{\"attributes\":{\"fill_alpha\":{\"value\":0.1},\"fill_color\":{\"value\":\"#1f77b4\"},\"line_alpha\":{\"value\":0.1},\"line_color\":{\"value\":\"#1f77b4\"},\"size\":{\"units\":\"screen\",\"value\":15},\"x\":{\"value\":5.4},\"y\":{\"value\":2.1}},\"id\":\"78cf5211-eacd-40dd-927f-7eed9b330977\",\"type\":\"Circle\"},{\"attributes\":{\"data_source\":{\"id\":\"559d0905-a2ff-49e7-a367-6ba7d43239d8\",\"type\":\"ColumnDataSource\"},\"glyph\":{\"id\":\"3a272486-6df5-4f50-acb6-d87d5a0b0bd4\",\"type\":\"Circle\"},\"hover_glyph\":null,\"muted_glyph\":null,\"nonselection_glyph\":{\"id\":\"75795baf-bd37-471e-a510-3dfc4c5606b9\",\"type\":\"Circle\"},\"selection_glyph\":null,\"view\":{\"id\":\"f3fc38f8-4215-4cc9-8b17-87679bd07597\",\"type\":\"CDSView\"}},\"id\":\"16b6f117-8392-4c9a-b865-ae63e59a1449\",\"type\":\"GlyphRenderer\"},{\"attributes\":{\"callback\":null,\"data\":{}},\"id\":\"d1a70823-bbcf-4d86-b0c7-2b6e00172e8a\",\"type\":\"ColumnDataSource\"},{\"attributes\":{\"data_source\":{\"id\":\"d1a70823-bbcf-4d86-b0c7-2b6e00172e8a\",\"type\":\"ColumnDataSource\"},\"glyph\":{\"id\":\"c72a904b-7590-4d26-b4b9-24a8057c1079\",\"type\":\"Circle\"},\"hover_glyph\":null,\"muted_glyph\":null,\"nonselection_glyph\":{\"id\":\"20efe291-6e52-4e1f-99ca-a93d479bf147\",\"type\":\"Circle\"},\"selection_glyph\":null,\"view\":{\"id\":\"376e0b6d-57cd-4057-b702-95edda7af0e2\",\"type\":\"CDSView\"}},\"id\":\"6963f195-09ab-4625-ae3a-eba65cba7188\",\"type\":\"GlyphRenderer\"},{\"attributes\":{\"source\":{\"id\":\"573f424e-f925-4ed2-9013-5e486dd3be13\",\"type\":\"ColumnDataSource\"}},\"id\":\"0e2e4b50-1061-4da7-99f9-5b969c38585c\",\"type\":\"CDSView\"},{\"attributes\":{\"fill_color\":{\"value\":\"red\"},\"line_color\":{\"value\":\"red\"},\"size\":{\"units\":\"screen\",\"value\":15},\"x\":{\"value\":5.3},\"y\":{\"value\":1.9}},\"id\":\"3a272486-6df5-4f50-acb6-d87d5a0b0bd4\",\"type\":\"Circle\"},{\"attributes\":{\"source\":{\"id\":\"009ac541-7ae1-4fbe-a8a3-e88e0d6d4ade\",\"type\":\"ColumnDataSource\"}},\"id\":\"cf84e455-7e25-41b6-ab62-66b203b8f2d7\",\"type\":\"CDSView\"},{\"attributes\":{\"fill_alpha\":{\"value\":0.1},\"fill_color\":{\"value\":\"#1f77b4\"},\"line_alpha\":{\"value\":0.1},\"line_color\":{\"value\":\"#1f77b4\"},\"size\":{\"units\":\"screen\",\"value\":15},\"x\":{\"value\":5.3},\"y\":{\"value\":1.9}},\"id\":\"75795baf-bd37-471e-a510-3dfc4c5606b9\",\"type\":\"Circle\"},{\"attributes\":{\"fill_color\":{\"value\":\"red\"},\"line_color\":{\"value\":\"red\"},\"size\":{\"units\":\"screen\",\"value\":15},\"x\":{\"value\":5.6},\"y\":{\"value\":2.4}},\"id\":\"c72a904b-7590-4d26-b4b9-24a8057c1079\",\"type\":\"Circle\"},{\"attributes\":{\"callback\":null,\"data\":{}},\"id\":\"7e0f52f1-8aaa-4754-a40a-09841d39e279\",\"type\":\"ColumnDataSource\"},{\"attributes\":{\"fill_alpha\":{\"value\":0.1},\"fill_color\":{\"value\":\"#1f77b4\"},\"line_alpha\":{\"value\":0.1},\"line_color\":{\"value\":\"#1f77b4\"},\"size\":{\"units\":\"screen\",\"value\":15},\"x\":{\"value\":5.6},\"y\":{\"value\":2.4}},\"id\":\"20efe291-6e52-4e1f-99ca-a93d479bf147\",\"type\":\"Circle\"},{\"attributes\":{\"data_source\":{\"id\":\"7e0f52f1-8aaa-4754-a40a-09841d39e279\",\"type\":\"ColumnDataSource\"},\"glyph\":{\"id\":\"66cb89da-1dbb-426c-8b19-d724fcd2fb49\",\"type\":\"Circle\"},\"hover_glyph\":null,\"muted_glyph\":null,\"nonselection_glyph\":{\"id\":\"53f340df-1997-4705-b6c4-b9b79f2e4dea\",\"type\":\"Circle\"},\"selection_glyph\":null,\"view\":{\"id\":\"f879b176-408b-4e05-8e19-abb8735ebe37\",\"type\":\"CDSView\"}},\"id\":\"c8a95503-615b-4ea9-a18b-67c2bfb7bafe\",\"type\":\"GlyphRenderer\"},{\"attributes\":{\"callback\":null,\"data\":{}},\"id\":\"dfd79618-b9d2-42b8-a4c0-b8ae82175f47\",\"type\":\"ColumnDataSource\"},{\"attributes\":{\"data_source\":{\"id\":\"dfd79618-b9d2-42b8-a4c0-b8ae82175f47\",\"type\":\"ColumnDataSource\"},\"glyph\":{\"id\":\"625dd707-7e80-4f0b-b5a5-42e8d7ba894e\",\"type\":\"Circle\"},\"hover_glyph\":null,\"muted_glyph\":null,\"nonselection_glyph\":{\"id\":\"c48d9fd6-e6c6-4f2d-b9db-9ec8ea353f1a\",\"type\":\"Circle\"},\"selection_glyph\":null,\"view\":{\"id\":\"b60c9612-f879-4dd5-9b69-b0ebea5010b7\",\"type\":\"CDSView\"}},\"id\":\"75638495-5be1-402e-af57-70864f097082\",\"type\":\"GlyphRenderer\"},{\"attributes\":{\"source\":{\"id\":\"559d0905-a2ff-49e7-a367-6ba7d43239d8\",\"type\":\"ColumnDataSource\"}},\"id\":\"f3fc38f8-4215-4cc9-8b17-87679bd07597\",\"type\":\"CDSView\"},{\"attributes\":{\"fill_color\":{\"value\":\"red\"},\"line_color\":{\"value\":\"red\"},\"size\":{\"units\":\"screen\",\"value\":15},\"x\":{\"value\":5.5},\"y\":{\"value\":2.1}},\"id\":\"66cb89da-1dbb-426c-8b19-d724fcd2fb49\",\"type\":\"Circle\"},{\"attributes\":{\"source\":{\"id\":\"d1a70823-bbcf-4d86-b0c7-2b6e00172e8a\",\"type\":\"ColumnDataSource\"}},\"id\":\"376e0b6d-57cd-4057-b702-95edda7af0e2\",\"type\":\"CDSView\"},{\"attributes\":{\"fill_alpha\":{\"value\":0.1},\"fill_color\":{\"value\":\"#1f77b4\"},\"line_alpha\":{\"value\":0.1},\"line_color\":{\"value\":\"#1f77b4\"},\"size\":{\"units\":\"screen\",\"value\":15},\"x\":{\"value\":5.5},\"y\":{\"value\":2.1}},\"id\":\"53f340df-1997-4705-b6c4-b9b79f2e4dea\",\"type\":\"Circle\"},{\"attributes\":{\"fill_color\":{\"value\":\"red\"},\"line_color\":{\"value\":\"red\"},\"size\":{\"units\":\"screen\",\"value\":15},\"x\":{\"value\":5.1},\"y\":{\"value\":2.3}},\"id\":\"625dd707-7e80-4f0b-b5a5-42e8d7ba894e\",\"type\":\"Circle\"},{\"attributes\":{\"callback\":null,\"data\":{}},\"id\":\"c6011b1b-a0ac-4776-b6e5-dc1c9d6c602b\",\"type\":\"ColumnDataSource\"},{\"attributes\":{\"fill_alpha\":{\"value\":0.1},\"fill_color\":{\"value\":\"#1f77b4\"},\"line_alpha\":{\"value\":0.1},\"line_color\":{\"value\":\"#1f77b4\"},\"size\":{\"units\":\"screen\",\"value\":15},\"x\":{\"value\":5.1},\"y\":{\"value\":2.3}},\"id\":\"c48d9fd6-e6c6-4f2d-b9db-9ec8ea353f1a\",\"type\":\"Circle\"},{\"attributes\":{\"data_source\":{\"id\":\"c6011b1b-a0ac-4776-b6e5-dc1c9d6c602b\",\"type\":\"ColumnDataSource\"},\"glyph\":{\"id\":\"9fd097d9-cbdb-4e51-a9d7-8495fb351de9\",\"type\":\"Circle\"},\"hover_glyph\":null,\"muted_glyph\":null,\"nonselection_glyph\":{\"id\":\"b18dfca0-db63-4dff-875f-9a8178c0fbac\",\"type\":\"Circle\"},\"selection_glyph\":null,\"view\":{\"id\":\"153116ca-c9b8-49ed-b852-5c7a90cf486d\",\"type\":\"CDSView\"}},\"id\":\"230c8060-c9ff-4b3a-92e2-cf24289483a7\",\"type\":\"GlyphRenderer\"},{\"attributes\":{\"callback\":null,\"data\":{}},\"id\":\"2d6c0897-d3f6-4c9c-a1cc-3bf4643e5ce6\",\"type\":\"ColumnDataSource\"},{\"attributes\":{\"data_source\":{\"id\":\"2d6c0897-d3f6-4c9c-a1cc-3bf4643e5ce6\",\"type\":\"ColumnDataSource\"},\"glyph\":{\"id\":\"895dc1b4-8b6e-4d5f-9dd6-a3bb1ee324b9\",\"type\":\"Circle\"},\"hover_glyph\":null,\"muted_glyph\":null,\"nonselection_glyph\":{\"id\":\"bde60a46-1bf9-449f-b923-b8365c22e4ee\",\"type\":\"Circle\"},\"selection_glyph\":null,\"view\":{\"id\":\"2279af6d-d1ef-4114-8604-8eca2f79453b\",\"type\":\"CDSView\"}},\"id\":\"03a73d97-8eeb-4228-8feb-80df22ea7936\",\"type\":\"GlyphRenderer\"},{\"attributes\":{\"source\":{\"id\":\"7e0f52f1-8aaa-4754-a40a-09841d39e279\",\"type\":\"ColumnDataSource\"}},\"id\":\"f879b176-408b-4e05-8e19-abb8735ebe37\",\"type\":\"CDSView\"},{\"attributes\":{\"fill_color\":{\"value\":\"red\"},\"line_color\":{\"value\":\"red\"},\"size\":{\"units\":\"screen\",\"value\":15},\"x\":{\"value\":5.0},\"y\":{\"value\":2.0}},\"id\":\"9fd097d9-cbdb-4e51-a9d7-8495fb351de9\",\"type\":\"Circle\"},{\"attributes\":{\"source\":{\"id\":\"dfd79618-b9d2-42b8-a4c0-b8ae82175f47\",\"type\":\"ColumnDataSource\"}},\"id\":\"b60c9612-f879-4dd5-9b69-b0ebea5010b7\",\"type\":\"CDSView\"},{\"attributes\":{\"fill_alpha\":{\"value\":0.1},\"fill_color\":{\"value\":\"#1f77b4\"},\"line_alpha\":{\"value\":0.1},\"line_color\":{\"value\":\"#1f77b4\"},\"size\":{\"units\":\"screen\",\"value\":15},\"x\":{\"value\":5.0},\"y\":{\"value\":2.0}},\"id\":\"b18dfca0-db63-4dff-875f-9a8178c0fbac\",\"type\":\"Circle\"},{\"attributes\":{\"fill_color\":{\"value\":\"red\"},\"line_color\":{\"value\":\"red\"},\"size\":{\"units\":\"screen\",\"value\":15},\"x\":{\"value\":5.1},\"y\":{\"value\":1.9}},\"id\":\"895dc1b4-8b6e-4d5f-9dd6-a3bb1ee324b9\",\"type\":\"Circle\"},{\"attributes\":{\"callback\":null,\"data\":{}},\"id\":\"068817f1-4481-40bf-9a66-a681d19c8568\",\"type\":\"ColumnDataSource\"},{\"attributes\":{\"fill_alpha\":{\"value\":0.1},\"fill_color\":{\"value\":\"#1f77b4\"},\"line_alpha\":{\"value\":0.1},\"line_color\":{\"value\":\"#1f77b4\"},\"size\":{\"units\":\"screen\",\"value\":15},\"x\":{\"value\":5.1},\"y\":{\"value\":1.9}},\"id\":\"bde60a46-1bf9-449f-b923-b8365c22e4ee\",\"type\":\"Circle\"},{\"attributes\":{\"data_source\":{\"id\":\"068817f1-4481-40bf-9a66-a681d19c8568\",\"type\":\"ColumnDataSource\"},\"glyph\":{\"id\":\"e18fce49-17ac-4a1f-989e-64d920448fa5\",\"type\":\"Circle\"},\"hover_glyph\":null,\"muted_glyph\":null,\"nonselection_glyph\":{\"id\":\"a8215483-01b7-4300-b406-0f5da8cd9360\",\"type\":\"Circle\"},\"selection_glyph\":null,\"view\":{\"id\":\"2835a999-846d-4f03-bd00-952711c57578\",\"type\":\"CDSView\"}},\"id\":\"9cbc0efe-4935-4eb2-a386-92be5ad7f133\",\"type\":\"GlyphRenderer\"},{\"attributes\":{\"callback\":null,\"data\":{}},\"id\":\"df85cc59-16a5-4f4d-8262-68c3b3de4996\",\"type\":\"ColumnDataSource\"},{\"attributes\":{\"data_source\":{\"id\":\"df85cc59-16a5-4f4d-8262-68c3b3de4996\",\"type\":\"ColumnDataSource\"},\"glyph\":{\"id\":\"7eaf4ba6-7563-4c9b-a661-2d2acf41f2d4\",\"type\":\"Circle\"},\"hover_glyph\":null,\"muted_glyph\":null,\"nonselection_glyph\":{\"id\":\"4c07f9e7-55cd-4d75-b108-c81fe93c7b6b\",\"type\":\"Circle\"},\"selection_glyph\":null,\"view\":{\"id\":\"6ccfb1ee-610f-4ad7-9a42-97ae425a5772\",\"type\":\"CDSView\"}},\"id\":\"ddcced62-9255-4043-a18b-181f746665c1\",\"type\":\"GlyphRenderer\"},{\"attributes\":{\"source\":{\"id\":\"c6011b1b-a0ac-4776-b6e5-dc1c9d6c602b\",\"type\":\"ColumnDataSource\"}},\"id\":\"153116ca-c9b8-49ed-b852-5c7a90cf486d\",\"type\":\"CDSView\"},{\"attributes\":{\"fill_color\":{\"value\":\"red\"},\"line_color\":{\"value\":\"red\"},\"size\":{\"units\":\"screen\",\"value\":15},\"x\":{\"value\":5.1},\"y\":{\"value\":2.4}},\"id\":\"e18fce49-17ac-4a1f-989e-64d920448fa5\",\"type\":\"Circle\"},{\"attributes\":{\"source\":{\"id\":\"2d6c0897-d3f6-4c9c-a1cc-3bf4643e5ce6\",\"type\":\"ColumnDataSource\"}},\"id\":\"2279af6d-d1ef-4114-8604-8eca2f79453b\",\"type\":\"CDSView\"},{\"attributes\":{\"fill_alpha\":{\"value\":0.1},\"fill_color\":{\"value\":\"#1f77b4\"},\"line_alpha\":{\"value\":0.1},\"line_color\":{\"value\":\"#1f77b4\"},\"size\":{\"units\":\"screen\",\"value\":15},\"x\":{\"value\":5.1},\"y\":{\"value\":2.4}},\"id\":\"a8215483-01b7-4300-b406-0f5da8cd9360\",\"type\":\"Circle\"},{\"attributes\":{\"fill_color\":{\"value\":\"red\"},\"line_color\":{\"value\":\"red\"},\"size\":{\"units\":\"screen\",\"value\":15},\"x\":{\"value\":5.9},\"y\":{\"value\":2.3}},\"id\":\"7eaf4ba6-7563-4c9b-a661-2d2acf41f2d4\",\"type\":\"Circle\"},{\"attributes\":{\"callback\":null,\"data\":{}},\"id\":\"65a4311d-1e52-4a61-8ad8-c9b86d8ce726\",\"type\":\"ColumnDataSource\"},{\"attributes\":{\"fill_alpha\":{\"value\":0.1},\"fill_color\":{\"value\":\"#1f77b4\"},\"line_alpha\":{\"value\":0.1},\"line_color\":{\"value\":\"#1f77b4\"},\"size\":{\"units\":\"screen\",\"value\":15},\"x\":{\"value\":5.9},\"y\":{\"value\":2.3}},\"id\":\"4c07f9e7-55cd-4d75-b108-c81fe93c7b6b\",\"type\":\"Circle\"},{\"attributes\":{\"data_source\":{\"id\":\"65a4311d-1e52-4a61-8ad8-c9b86d8ce726\",\"type\":\"ColumnDataSource\"},\"glyph\":{\"id\":\"ce4553c1-c491-4ddd-bd78-d1ee6c99013b\",\"type\":\"Circle\"},\"hover_glyph\":null,\"muted_glyph\":null,\"nonselection_glyph\":{\"id\":\"b361fc56-9c3b-4f2b-b9ab-2e1f197e074f\",\"type\":\"Circle\"},\"selection_glyph\":null,\"view\":{\"id\":\"5baa9cf4-8e07-479e-a46a-1f62b746771d\",\"type\":\"CDSView\"}},\"id\":\"a0bb2495-e685-425e-b540-59e1da8de9bc\",\"type\":\"GlyphRenderer\"},{\"attributes\":{\"callback\":null,\"data\":{}},\"id\":\"7371cc91-4f01-4ee5-9d9e-df0c11895c94\",\"type\":\"ColumnDataSource\"},{\"attributes\":{\"data_source\":{\"id\":\"7371cc91-4f01-4ee5-9d9e-df0c11895c94\",\"type\":\"ColumnDataSource\"},\"glyph\":{\"id\":\"991d495f-1690-47e3-9edc-d52dd2cb32d8\",\"type\":\"Circle\"},\"hover_glyph\":null,\"muted_glyph\":null,\"nonselection_glyph\":{\"id\":\"29a52cfa-aa08-4d8e-b4cf-f650382edc8f\",\"type\":\"Circle\"},\"selection_glyph\":null,\"view\":{\"id\":\"79164925-b503-495d-9b18-eec7c45b9fb7\",\"type\":\"CDSView\"}},\"id\":\"0dbba638-3a9d-4900-85e0-7aeab1ae2360\",\"type\":\"GlyphRenderer\"},{\"attributes\":{\"source\":{\"id\":\"068817f1-4481-40bf-9a66-a681d19c8568\",\"type\":\"ColumnDataSource\"}},\"id\":\"2835a999-846d-4f03-bd00-952711c57578\",\"type\":\"CDSView\"},{\"attributes\":{\"fill_color\":{\"value\":\"red\"},\"line_color\":{\"value\":\"red\"},\"size\":{\"units\":\"screen\",\"value\":15},\"x\":{\"value\":5.3},\"y\":{\"value\":2.3}},\"id\":\"ce4553c1-c491-4ddd-bd78-d1ee6c99013b\",\"type\":\"Circle\"},{\"attributes\":{\"source\":{\"id\":\"df85cc59-16a5-4f4d-8262-68c3b3de4996\",\"type\":\"ColumnDataSource\"}},\"id\":\"6ccfb1ee-610f-4ad7-9a42-97ae425a5772\",\"type\":\"CDSView\"},{\"attributes\":{\"fill_alpha\":{\"value\":0.1},\"fill_color\":{\"value\":\"#1f77b4\"},\"line_alpha\":{\"value\":0.1},\"line_color\":{\"value\":\"#1f77b4\"},\"size\":{\"units\":\"screen\",\"value\":15},\"x\":{\"value\":5.3},\"y\":{\"value\":2.3}},\"id\":\"b361fc56-9c3b-4f2b-b9ab-2e1f197e074f\",\"type\":\"Circle\"},{\"attributes\":{\"fill_color\":{\"value\":\"red\"},\"line_color\":{\"value\":\"red\"},\"size\":{\"units\":\"screen\",\"value\":15},\"x\":{\"value\":5.7},\"y\":{\"value\":2.5}},\"id\":\"991d495f-1690-47e3-9edc-d52dd2cb32d8\",\"type\":\"Circle\"},{\"attributes\":{\"callback\":null,\"data\":{}},\"id\":\"83493d1c-60e8-4424-8b7c-c227d3253976\",\"type\":\"ColumnDataSource\"},{\"attributes\":{\"fill_alpha\":{\"value\":0.1},\"fill_color\":{\"value\":\"#1f77b4\"},\"line_alpha\":{\"value\":0.1},\"line_color\":{\"value\":\"#1f77b4\"},\"size\":{\"units\":\"screen\",\"value\":15},\"x\":{\"value\":5.7},\"y\":{\"value\":2.5}},\"id\":\"29a52cfa-aa08-4d8e-b4cf-f650382edc8f\",\"type\":\"Circle\"},{\"attributes\":{\"data_source\":{\"id\":\"83493d1c-60e8-4424-8b7c-c227d3253976\",\"type\":\"ColumnDataSource\"},\"glyph\":{\"id\":\"6d611cf9-fe06-4d5e-bfb4-d2c99530dff3\",\"type\":\"Circle\"},\"hover_glyph\":null,\"muted_glyph\":null,\"nonselection_glyph\":{\"id\":\"8c6d12a4-2f68-4f5a-a520-5747c28916a1\",\"type\":\"Circle\"},\"selection_glyph\":null,\"view\":{\"id\":\"2677f297-d757-4539-ad1d-654f5f161ffd\",\"type\":\"CDSView\"}},\"id\":\"4a0001d4-bcde-4096-a936-64cc6ccf61dd\",\"type\":\"GlyphRenderer\"},{\"attributes\":{\"callback\":null,\"data\":{}},\"id\":\"12555cce-41bb-4924-bb46-2d6125bec961\",\"type\":\"ColumnDataSource\"},{\"attributes\":{\"data_source\":{\"id\":\"12555cce-41bb-4924-bb46-2d6125bec961\",\"type\":\"ColumnDataSource\"},\"glyph\":{\"id\":\"e6933c3b-4e92-4079-969c-92150867d5d4\",\"type\":\"Circle\"},\"hover_glyph\":null,\"muted_glyph\":null,\"nonselection_glyph\":{\"id\":\"9a660bc6-1790-4daa-b10b-8fb398cf4298\",\"type\":\"Circle\"},\"selection_glyph\":null,\"view\":{\"id\":\"676df694-1b26-4d37-b10b-9c171156145a\",\"type\":\"CDSView\"}},\"id\":\"30a18d44-04b1-464a-b4fc-268f26292014\",\"type\":\"GlyphRenderer\"},{\"attributes\":{\"source\":{\"id\":\"65a4311d-1e52-4a61-8ad8-c9b86d8ce726\",\"type\":\"ColumnDataSource\"}},\"id\":\"5baa9cf4-8e07-479e-a46a-1f62b746771d\",\"type\":\"CDSView\"},{\"attributes\":{\"fill_color\":{\"value\":\"red\"},\"line_color\":{\"value\":\"red\"},\"size\":{\"units\":\"screen\",\"value\":15},\"x\":{\"value\":5.5},\"y\":{\"value\":1.8}},\"id\":\"6d611cf9-fe06-4d5e-bfb4-d2c99530dff3\",\"type\":\"Circle\"},{\"attributes\":{\"source\":{\"id\":\"7371cc91-4f01-4ee5-9d9e-df0c11895c94\",\"type\":\"ColumnDataSource\"}},\"id\":\"79164925-b503-495d-9b18-eec7c45b9fb7\",\"type\":\"CDSView\"},{\"attributes\":{\"fill_alpha\":{\"value\":0.1},\"fill_color\":{\"value\":\"#1f77b4\"},\"line_alpha\":{\"value\":0.1},\"line_color\":{\"value\":\"#1f77b4\"},\"size\":{\"units\":\"screen\",\"value\":15},\"x\":{\"value\":5.5},\"y\":{\"value\":1.8}},\"id\":\"8c6d12a4-2f68-4f5a-a520-5747c28916a1\",\"type\":\"Circle\"},{\"attributes\":{\"fill_color\":{\"value\":\"red\"},\"line_color\":{\"value\":\"red\"},\"size\":{\"units\":\"screen\",\"value\":15},\"x\":{\"value\":5.2},\"y\":{\"value\":2.3}},\"id\":\"e6933c3b-4e92-4079-969c-92150867d5d4\",\"type\":\"Circle\"},{\"attributes\":{\"source\":{\"id\":\"83493d1c-60e8-4424-8b7c-c227d3253976\",\"type\":\"ColumnDataSource\"}},\"id\":\"2677f297-d757-4539-ad1d-654f5f161ffd\",\"type\":\"CDSView\"},{\"attributes\":{\"fill_alpha\":{\"value\":0.1},\"fill_color\":{\"value\":\"#1f77b4\"},\"line_alpha\":{\"value\":0.1},\"line_color\":{\"value\":\"#1f77b4\"},\"size\":{\"units\":\"screen\",\"value\":15},\"x\":{\"value\":5.2},\"y\":{\"value\":2.3}},\"id\":\"9a660bc6-1790-4daa-b10b-8fb398cf4298\",\"type\":\"Circle\"},{\"attributes\":{\"fill_color\":{\"value\":\"red\"},\"line_color\":{\"value\":\"red\"},\"size\":{\"units\":\"screen\",\"value\":15},\"x\":{\"value\":6.7},\"y\":{\"value\":2.2}},\"id\":\"2d4ee30f-4802-4847-b9f4-d356e4e6dada\",\"type\":\"Circle\"},{\"attributes\":{\"source\":{\"id\":\"12555cce-41bb-4924-bb46-2d6125bec961\",\"type\":\"ColumnDataSource\"}},\"id\":\"676df694-1b26-4d37-b10b-9c171156145a\",\"type\":\"CDSView\"},{\"attributes\":{\"callback\":null,\"data\":{}},\"id\":\"77498b22-42bd-49c7-a0fa-fca7ea32d0e3\",\"type\":\"ColumnDataSource\"},{\"attributes\":{\"callback\":null,\"data\":{}},\"id\":\"fb9fbe27-2d6c-45de-b631-3ca1c2f09628\",\"type\":\"ColumnDataSource\"},{\"attributes\":{\"data_source\":{\"id\":\"77498b22-42bd-49c7-a0fa-fca7ea32d0e3\",\"type\":\"ColumnDataSource\"},\"glyph\":{\"id\":\"2d4ee30f-4802-4847-b9f4-d356e4e6dada\",\"type\":\"Circle\"},\"hover_glyph\":null,\"muted_glyph\":null,\"nonselection_glyph\":{\"id\":\"fe1bdd8f-0b68-43dc-b47d-c0a08cb7cbd3\",\"type\":\"Circle\"},\"selection_glyph\":null,\"view\":{\"id\":\"0163b757-21ed-4881-bc33-fa98f42fe947\",\"type\":\"CDSView\"}},\"id\":\"890d8e0c-c360-4e7a-9f5b-0c9b81d27dcc\",\"type\":\"GlyphRenderer\"},{\"attributes\":{\"source\":{\"id\":\"ca349da7-aea6-42b0-b0c8-0523a2c93d09\",\"type\":\"ColumnDataSource\"}},\"id\":\"894175f2-98ea-46bd-a6e7-71d9d93238eb\",\"type\":\"CDSView\"},{\"attributes\":{\"source\":{\"id\":\"77498b22-42bd-49c7-a0fa-fca7ea32d0e3\",\"type\":\"ColumnDataSource\"}},\"id\":\"0163b757-21ed-4881-bc33-fa98f42fe947\",\"type\":\"CDSView\"},{\"attributes\":{\"fill_color\":{\"value\":\"red\"},\"line_color\":{\"value\":\"red\"},\"size\":{\"units\":\"screen\",\"value\":15},\"x\":{\"value\":6.9},\"y\":{\"value\":2.3}},\"id\":\"4ffddd15-09f9-4848-8e61-22284773d6c9\",\"type\":\"Circle\"},{\"attributes\":{\"callback\":null,\"data\":{}},\"id\":\"828d4424-9089-42dc-9e71-eb753d27361d\",\"type\":\"ColumnDataSource\"},{\"attributes\":{\"data_source\":{\"id\":\"828d4424-9089-42dc-9e71-eb753d27361d\",\"type\":\"ColumnDataSource\"},\"glyph\":{\"id\":\"4ffddd15-09f9-4848-8e61-22284773d6c9\",\"type\":\"Circle\"},\"hover_glyph\":null,\"muted_glyph\":null,\"nonselection_glyph\":{\"id\":\"55d5ffe8-e006-465e-afb2-bfe8766efbf1\",\"type\":\"Circle\"},\"selection_glyph\":null,\"view\":{\"id\":\"5a4a1ae2-30b0-49c4-b8f3-0b65781b4fc3\",\"type\":\"CDSView\"}},\"id\":\"3a1cb656-1d2a-4f56-bfb9-2e1c8dbfc91b\",\"type\":\"GlyphRenderer\"},{\"attributes\":{\"fill_alpha\":{\"value\":0.1},\"fill_color\":{\"value\":\"#1f77b4\"},\"line_alpha\":{\"value\":0.1},\"line_color\":{\"value\":\"#1f77b4\"},\"size\":{\"units\":\"screen\",\"value\":15},\"x\":{\"value\":6.9},\"y\":{\"value\":2.3}},\"id\":\"55d5ffe8-e006-465e-afb2-bfe8766efbf1\",\"type\":\"Circle\"},{\"attributes\":{\"callback\":null,\"data\":{}},\"id\":\"7c26e10d-1d04-46bc-b80a-d02c88b3bf3c\",\"type\":\"ColumnDataSource\"},{\"attributes\":{\"data_source\":{\"id\":\"7c26e10d-1d04-46bc-b80a-d02c88b3bf3c\",\"type\":\"ColumnDataSource\"},\"glyph\":{\"id\":\"b8068a12-22d9-4aee-9ac8-475544e92703\",\"type\":\"Circle\"},\"hover_glyph\":null,\"muted_glyph\":null,\"nonselection_glyph\":{\"id\":\"127986b1-b72a-4682-8538-16457cf35fdf\",\"type\":\"Circle\"},\"selection_glyph\":null,\"view\":{\"id\":\"3890394a-3f35-489b-9e8e-2f84182cec28\",\"type\":\"CDSView\"}},\"id\":\"c030ee5d-ebe6-44b7-a1f6-cb719a16b93b\",\"type\":\"GlyphRenderer\"},{\"attributes\":{\"source\":{\"id\":\"828d4424-9089-42dc-9e71-eb753d27361d\",\"type\":\"ColumnDataSource\"}},\"id\":\"5a4a1ae2-30b0-49c4-b8f3-0b65781b4fc3\",\"type\":\"CDSView\"},{\"attributes\":{\"fill_color\":{\"value\":\"purple\"},\"line_color\":{\"value\":\"purple\"},\"size\":{\"units\":\"screen\",\"value\":15},\"x\":{\"value\":5.0},\"y\":{\"value\":1.5}},\"id\":\"b8068a12-22d9-4aee-9ac8-475544e92703\",\"type\":\"Circle\"},{\"attributes\":{\"fill_alpha\":{\"value\":0.1},\"fill_color\":{\"value\":\"#1f77b4\"},\"line_alpha\":{\"value\":0.1},\"line_color\":{\"value\":\"#1f77b4\"},\"size\":{\"units\":\"screen\",\"value\":15},\"x\":{\"value\":5.0},\"y\":{\"value\":1.5}},\"id\":\"127986b1-b72a-4682-8538-16457cf35fdf\",\"type\":\"Circle\"},{\"attributes\":{\"callback\":null,\"data\":{}},\"id\":\"21e58b38-7edc-421c-9dd6-0900677856e0\",\"type\":\"ColumnDataSource\"},{\"attributes\":{\"data_source\":{\"id\":\"21e58b38-7edc-421c-9dd6-0900677856e0\",\"type\":\"ColumnDataSource\"},\"glyph\":{\"id\":\"e099457c-cbed-4496-95b2-a6e3bad4ef1c\",\"type\":\"Circle\"},\"hover_glyph\":null,\"muted_glyph\":null,\"nonselection_glyph\":{\"id\":\"a7ee8bff-e866-4c7a-b20c-50c81236b9f6\",\"type\":\"Circle\"},\"selection_glyph\":null,\"view\":{\"id\":\"ce13c6a7-9522-48d6-ac3f-8f3372508c34\",\"type\":\"CDSView\"}},\"id\":\"e9e697d9-234c-451d-982e-49750ab83ac3\",\"type\":\"GlyphRenderer\"},{\"attributes\":{\"source\":{\"id\":\"7c26e10d-1d04-46bc-b80a-d02c88b3bf3c\",\"type\":\"ColumnDataSource\"}},\"id\":\"3890394a-3f35-489b-9e8e-2f84182cec28\",\"type\":\"CDSView\"},{\"attributes\":{\"fill_color\":{\"value\":\"red\"},\"line_color\":{\"value\":\"red\"},\"size\":{\"units\":\"screen\",\"value\":15},\"x\":{\"value\":5.7},\"y\":{\"value\":2.3}},\"id\":\"e099457c-cbed-4496-95b2-a6e3bad4ef1c\",\"type\":\"Circle\"},{\"attributes\":{\"fill_alpha\":{\"value\":0.1},\"fill_color\":{\"value\":\"#1f77b4\"},\"line_alpha\":{\"value\":0.1},\"line_color\":{\"value\":\"#1f77b4\"},\"size\":{\"units\":\"screen\",\"value\":15},\"x\":{\"value\":5.7},\"y\":{\"value\":2.3}},\"id\":\"a7ee8bff-e866-4c7a-b20c-50c81236b9f6\",\"type\":\"Circle\"},{\"attributes\":{\"callback\":null,\"data\":{}},\"id\":\"74da0a76-4e16-47cf-acf4-c630964bc673\",\"type\":\"ColumnDataSource\"},{\"attributes\":{\"data_source\":{\"id\":\"74da0a76-4e16-47cf-acf4-c630964bc673\",\"type\":\"ColumnDataSource\"},\"glyph\":{\"id\":\"befcfac8-2fc8-4e09-96c4-e3df7df58e71\",\"type\":\"Circle\"},\"hover_glyph\":null,\"muted_glyph\":null,\"nonselection_glyph\":{\"id\":\"ce65eb9c-2f06-471a-9fa5-e86effe26a25\",\"type\":\"Circle\"},\"selection_glyph\":null,\"view\":{\"id\":\"273387fc-d515-426b-a525-465949008f77\",\"type\":\"CDSView\"}},\"id\":\"93d1c85d-3a81-4282-927e-a7d45c78f919\",\"type\":\"GlyphRenderer\"},{\"attributes\":{\"source\":{\"id\":\"21e58b38-7edc-421c-9dd6-0900677856e0\",\"type\":\"ColumnDataSource\"}},\"id\":\"ce13c6a7-9522-48d6-ac3f-8f3372508c34\",\"type\":\"CDSView\"},{\"attributes\":{\"fill_color\":{\"value\":\"red\"},\"line_color\":{\"value\":\"red\"},\"size\":{\"units\":\"screen\",\"value\":15},\"x\":{\"value\":4.9},\"y\":{\"value\":2.0}},\"id\":\"befcfac8-2fc8-4e09-96c4-e3df7df58e71\",\"type\":\"Circle\"},{\"attributes\":{\"fill_alpha\":{\"value\":0.1},\"fill_color\":{\"value\":\"#1f77b4\"},\"line_alpha\":{\"value\":0.1},\"line_color\":{\"value\":\"#1f77b4\"},\"size\":{\"units\":\"screen\",\"value\":15},\"x\":{\"value\":4.9},\"y\":{\"value\":2.0}},\"id\":\"ce65eb9c-2f06-471a-9fa5-e86effe26a25\",\"type\":\"Circle\"},{\"attributes\":{\"callback\":null,\"data\":{}},\"id\":\"6630b642-f1a0-42b7-96f3-3dbd69e0ccb6\",\"type\":\"ColumnDataSource\"},{\"attributes\":{\"data_source\":{\"id\":\"6630b642-f1a0-42b7-96f3-3dbd69e0ccb6\",\"type\":\"ColumnDataSource\"},\"glyph\":{\"id\":\"a67d3e7c-6baf-460c-afbe-be9764060f2e\",\"type\":\"Circle\"},\"hover_glyph\":null,\"muted_glyph\":null,\"nonselection_glyph\":{\"id\":\"232facbd-f88d-469a-a3d0-74b8c4420da7\",\"type\":\"Circle\"},\"selection_glyph\":null,\"view\":{\"id\":\"6db2826b-372a-43c5-8b8f-a69db6c1e71d\",\"type\":\"CDSView\"}},\"id\":\"9911f5f0-af6a-452b-9dec-cacbe338f3a8\",\"type\":\"GlyphRenderer\"},{\"attributes\":{\"source\":{\"id\":\"74da0a76-4e16-47cf-acf4-c630964bc673\",\"type\":\"ColumnDataSource\"}},\"id\":\"273387fc-d515-426b-a525-465949008f77\",\"type\":\"CDSView\"},{\"attributes\":{\"fill_color\":{\"value\":\"red\"},\"line_color\":{\"value\":\"red\"},\"size\":{\"units\":\"screen\",\"value\":15},\"x\":{\"value\":6.7},\"y\":{\"value\":2.0}},\"id\":\"a67d3e7c-6baf-460c-afbe-be9764060f2e\",\"type\":\"Circle\"},{\"attributes\":{\"fill_alpha\":{\"value\":0.1},\"fill_color\":{\"value\":\"#1f77b4\"},\"line_alpha\":{\"value\":0.1},\"line_color\":{\"value\":\"#1f77b4\"},\"size\":{\"units\":\"screen\",\"value\":15},\"x\":{\"value\":6.7},\"y\":{\"value\":2.0}},\"id\":\"232facbd-f88d-469a-a3d0-74b8c4420da7\",\"type\":\"Circle\"},{\"attributes\":{\"callback\":null,\"data\":{}},\"id\":\"0d2bfd65-efb1-4152-8cff-598832307b7b\",\"type\":\"ColumnDataSource\"},{\"attributes\":{\"data_source\":{\"id\":\"0d2bfd65-efb1-4152-8cff-598832307b7b\",\"type\":\"ColumnDataSource\"},\"glyph\":{\"id\":\"5abbfc87-3672-4e2d-9789-625e41e3888a\",\"type\":\"Circle\"},\"hover_glyph\":null,\"muted_glyph\":null,\"nonselection_glyph\":{\"id\":\"07a2a0bf-42b8-4655-968a-3cc357562cca\",\"type\":\"Circle\"},\"selection_glyph\":null,\"view\":{\"id\":\"3a110a3c-84db-4b00-a2ac-4b617b8f5383\",\"type\":\"CDSView\"}},\"id\":\"4cfbe644-5f56-44c9-9e36-5e2aafd35729\",\"type\":\"GlyphRenderer\"},{\"attributes\":{\"source\":{\"id\":\"6630b642-f1a0-42b7-96f3-3dbd69e0ccb6\",\"type\":\"ColumnDataSource\"}},\"id\":\"6db2826b-372a-43c5-8b8f-a69db6c1e71d\",\"type\":\"CDSView\"},{\"attributes\":{\"fill_color\":{\"value\":\"red\"},\"line_color\":{\"value\":\"red\"},\"size\":{\"units\":\"screen\",\"value\":15},\"x\":{\"value\":4.9},\"y\":{\"value\":1.8}},\"id\":\"5abbfc87-3672-4e2d-9789-625e41e3888a\",\"type\":\"Circle\"},{\"attributes\":{\"fill_alpha\":{\"value\":0.1},\"fill_color\":{\"value\":\"#1f77b4\"},\"line_alpha\":{\"value\":0.1},\"line_color\":{\"value\":\"#1f77b4\"},\"size\":{\"units\":\"screen\",\"value\":15},\"x\":{\"value\":4.9},\"y\":{\"value\":1.8}},\"id\":\"07a2a0bf-42b8-4655-968a-3cc357562cca\",\"type\":\"Circle\"},{\"attributes\":{\"callback\":null,\"data\":{}},\"id\":\"e9d3f048-e15a-4666-b758-01c217f57374\",\"type\":\"ColumnDataSource\"},{\"attributes\":{\"data_source\":{\"id\":\"e9d3f048-e15a-4666-b758-01c217f57374\",\"type\":\"ColumnDataSource\"},\"glyph\":{\"id\":\"4e31626b-9c07-435f-938e-972ef0b46811\",\"type\":\"Circle\"},\"hover_glyph\":null,\"muted_glyph\":null,\"nonselection_glyph\":{\"id\":\"250672db-d79d-4047-8118-4b8aba284739\",\"type\":\"Circle\"},\"selection_glyph\":null,\"view\":{\"id\":\"c0388475-7bf7-4889-b1f9-df3227fd0e51\",\"type\":\"CDSView\"}},\"id\":\"805979d8-2d1d-41d9-b7b7-c4cbcb50e0aa\",\"type\":\"GlyphRenderer\"},{\"attributes\":{\"source\":{\"id\":\"0d2bfd65-efb1-4152-8cff-598832307b7b\",\"type\":\"ColumnDataSource\"}},\"id\":\"3a110a3c-84db-4b00-a2ac-4b617b8f5383\",\"type\":\"CDSView\"},{\"attributes\":{\"fill_color\":{\"value\":\"red\"},\"line_color\":{\"value\":\"red\"},\"size\":{\"units\":\"screen\",\"value\":15},\"x\":{\"value\":5.7},\"y\":{\"value\":2.1}},\"id\":\"4e31626b-9c07-435f-938e-972ef0b46811\",\"type\":\"Circle\"},{\"attributes\":{\"fill_alpha\":{\"value\":0.1},\"fill_color\":{\"value\":\"#1f77b4\"},\"line_alpha\":{\"value\":0.1},\"line_color\":{\"value\":\"#1f77b4\"},\"size\":{\"units\":\"screen\",\"value\":15},\"x\":{\"value\":5.7},\"y\":{\"value\":2.1}},\"id\":\"250672db-d79d-4047-8118-4b8aba284739\",\"type\":\"Circle\"},{\"attributes\":{\"callback\":null,\"data\":{}},\"id\":\"08db0e31-c8c9-48a0-b3ba-8df35d3b6126\",\"type\":\"ColumnDataSource\"},{\"attributes\":{\"data_source\":{\"id\":\"08db0e31-c8c9-48a0-b3ba-8df35d3b6126\",\"type\":\"ColumnDataSource\"},\"glyph\":{\"id\":\"181a8448-9733-40a1-9da9-0c8f5dbd9429\",\"type\":\"Circle\"},\"hover_glyph\":null,\"muted_glyph\":null,\"nonselection_glyph\":{\"id\":\"5204e3ca-8650-4a69-bfc0-3adf55a11af1\",\"type\":\"Circle\"},\"selection_glyph\":null,\"view\":{\"id\":\"1234a4a4-839f-4e84-8928-e19cd35ea50a\",\"type\":\"CDSView\"}},\"id\":\"63305c1f-3d19-41bd-91d9-77fdc1833608\",\"type\":\"GlyphRenderer\"},{\"attributes\":{\"source\":{\"id\":\"e9d3f048-e15a-4666-b758-01c217f57374\",\"type\":\"ColumnDataSource\"}},\"id\":\"c0388475-7bf7-4889-b1f9-df3227fd0e51\",\"type\":\"CDSView\"},{\"attributes\":{\"fill_color\":{\"value\":\"red\"},\"line_color\":{\"value\":\"red\"},\"size\":{\"units\":\"screen\",\"value\":15},\"x\":{\"value\":6.0},\"y\":{\"value\":1.8}},\"id\":\"181a8448-9733-40a1-9da9-0c8f5dbd9429\",\"type\":\"Circle\"},{\"attributes\":{\"fill_alpha\":{\"value\":0.1},\"fill_color\":{\"value\":\"#1f77b4\"},\"line_alpha\":{\"value\":0.1},\"line_color\":{\"value\":\"#1f77b4\"},\"size\":{\"units\":\"screen\",\"value\":15},\"x\":{\"value\":6.0},\"y\":{\"value\":1.8}},\"id\":\"5204e3ca-8650-4a69-bfc0-3adf55a11af1\",\"type\":\"Circle\"},{\"attributes\":{\"callback\":null,\"data\":{}},\"id\":\"cd1a0fd9-bfd8-4cdc-bd6a-77c4c8581e44\",\"type\":\"ColumnDataSource\"},{\"attributes\":{\"data_source\":{\"id\":\"cd1a0fd9-bfd8-4cdc-bd6a-77c4c8581e44\",\"type\":\"ColumnDataSource\"},\"glyph\":{\"id\":\"3904d504-9b3a-46f0-b90f-f448988ce36c\",\"type\":\"Circle\"},\"hover_glyph\":null,\"muted_glyph\":null,\"nonselection_glyph\":{\"id\":\"f24b444d-f550-423c-a512-b3b461031d1d\",\"type\":\"Circle\"},\"selection_glyph\":null,\"view\":{\"id\":\"9225cb54-f95f-451a-9613-3fc814500b66\",\"type\":\"CDSView\"}},\"id\":\"27677018-3ecb-4937-b4d8-475fa4ea705d\",\"type\":\"GlyphRenderer\"},{\"attributes\":{\"source\":{\"id\":\"08db0e31-c8c9-48a0-b3ba-8df35d3b6126\",\"type\":\"ColumnDataSource\"}},\"id\":\"1234a4a4-839f-4e84-8928-e19cd35ea50a\",\"type\":\"CDSView\"},{\"attributes\":{\"fill_color\":{\"value\":\"purple\"},\"line_color\":{\"value\":\"purple\"},\"size\":{\"units\":\"screen\",\"value\":15},\"x\":{\"value\":4.8},\"y\":{\"value\":1.8}},\"id\":\"3904d504-9b3a-46f0-b90f-f448988ce36c\",\"type\":\"Circle\"},{\"attributes\":{\"fill_alpha\":{\"value\":0.1},\"fill_color\":{\"value\":\"#1f77b4\"},\"line_alpha\":{\"value\":0.1},\"line_color\":{\"value\":\"#1f77b4\"},\"size\":{\"units\":\"screen\",\"value\":15},\"x\":{\"value\":4.8},\"y\":{\"value\":1.8}},\"id\":\"f24b444d-f550-423c-a512-b3b461031d1d\",\"type\":\"Circle\"},{\"attributes\":{\"callback\":null,\"data\":{}},\"id\":\"d581eb0e-257f-4ad5-9f96-125329b9a31d\",\"type\":\"ColumnDataSource\"},{\"attributes\":{\"data_source\":{\"id\":\"d581eb0e-257f-4ad5-9f96-125329b9a31d\",\"type\":\"ColumnDataSource\"},\"glyph\":{\"id\":\"56fb33ac-8aaf-405f-a8f8-f215bb0684a3\",\"type\":\"Circle\"},\"hover_glyph\":null,\"muted_glyph\":null,\"nonselection_glyph\":{\"id\":\"e637055d-4c89-4c8a-90a8-f48c607eb4f7\",\"type\":\"Circle\"},\"selection_glyph\":null,\"view\":{\"id\":\"84fb120d-fcaf-42c2-8073-6b6355ff16b3\",\"type\":\"CDSView\"}},\"id\":\"cf8213d4-84bf-4c05-b78e-af341f553785\",\"type\":\"GlyphRenderer\"},{\"attributes\":{\"source\":{\"id\":\"cd1a0fd9-bfd8-4cdc-bd6a-77c4c8581e44\",\"type\":\"ColumnDataSource\"}},\"id\":\"9225cb54-f95f-451a-9613-3fc814500b66\",\"type\":\"CDSView\"},{\"attributes\":{\"fill_color\":{\"value\":\"red\"},\"line_color\":{\"value\":\"red\"},\"size\":{\"units\":\"screen\",\"value\":15},\"x\":{\"value\":4.9},\"y\":{\"value\":1.8}},\"id\":\"56fb33ac-8aaf-405f-a8f8-f215bb0684a3\",\"type\":\"Circle\"},{\"attributes\":{\"fill_alpha\":{\"value\":0.1},\"fill_color\":{\"value\":\"#1f77b4\"},\"line_alpha\":{\"value\":0.1},\"line_color\":{\"value\":\"#1f77b4\"},\"size\":{\"units\":\"screen\",\"value\":15},\"x\":{\"value\":4.9},\"y\":{\"value\":1.8}},\"id\":\"e637055d-4c89-4c8a-90a8-f48c607eb4f7\",\"type\":\"Circle\"},{\"attributes\":{\"callback\":null,\"data\":{}},\"id\":\"dfaea71e-f92b-424e-8763-d6f3224b7821\",\"type\":\"ColumnDataSource\"},{\"attributes\":{\"data_source\":{\"id\":\"dfaea71e-f92b-424e-8763-d6f3224b7821\",\"type\":\"ColumnDataSource\"},\"glyph\":{\"id\":\"6c287fec-a087-48b5-adfd-93fa3f906051\",\"type\":\"Circle\"},\"hover_glyph\":null,\"muted_glyph\":null,\"nonselection_glyph\":{\"id\":\"af132801-22d6-45b4-bb96-a11affb27f15\",\"type\":\"Circle\"},\"selection_glyph\":null,\"view\":{\"id\":\"9be3e20e-0929-450f-8e01-1dbe8acb844a\",\"type\":\"CDSView\"}},\"id\":\"7deb028d-4e9f-4fbe-8609-6791b72d80f7\",\"type\":\"GlyphRenderer\"},{\"attributes\":{\"source\":{\"id\":\"d581eb0e-257f-4ad5-9f96-125329b9a31d\",\"type\":\"ColumnDataSource\"}},\"id\":\"84fb120d-fcaf-42c2-8073-6b6355ff16b3\",\"type\":\"CDSView\"},{\"attributes\":{\"fill_color\":{\"value\":\"red\"},\"line_color\":{\"value\":\"red\"},\"size\":{\"units\":\"screen\",\"value\":15},\"x\":{\"value\":5.6},\"y\":{\"value\":2.1}},\"id\":\"6c287fec-a087-48b5-adfd-93fa3f906051\",\"type\":\"Circle\"},{\"attributes\":{\"fill_alpha\":{\"value\":0.1},\"fill_color\":{\"value\":\"#1f77b4\"},\"line_alpha\":{\"value\":0.1},\"line_color\":{\"value\":\"#1f77b4\"},\"size\":{\"units\":\"screen\",\"value\":15},\"x\":{\"value\":5.6},\"y\":{\"value\":2.1}},\"id\":\"af132801-22d6-45b4-bb96-a11affb27f15\",\"type\":\"Circle\"},{\"attributes\":{\"callback\":null,\"data\":{}},\"id\":\"7a42dad3-5f77-493e-ac41-9aa3e158910f\",\"type\":\"ColumnDataSource\"},{\"attributes\":{\"data_source\":{\"id\":\"7a42dad3-5f77-493e-ac41-9aa3e158910f\",\"type\":\"ColumnDataSource\"},\"glyph\":{\"id\":\"a6d22d71-4954-4a8d-aaca-57fde91b5baf\",\"type\":\"Circle\"},\"hover_glyph\":null,\"muted_glyph\":null,\"nonselection_glyph\":{\"id\":\"d8e928f4-be5d-4203-b664-aae49a3e6d45\",\"type\":\"Circle\"},\"selection_glyph\":null,\"view\":{\"id\":\"ac1711ee-5303-43a1-b848-13e3b2c64c19\",\"type\":\"CDSView\"}},\"id\":\"cbccf42c-1c67-49aa-9299-379f592a99a2\",\"type\":\"GlyphRenderer\"},{\"attributes\":{\"source\":{\"id\":\"dfaea71e-f92b-424e-8763-d6f3224b7821\",\"type\":\"ColumnDataSource\"}},\"id\":\"9be3e20e-0929-450f-8e01-1dbe8acb844a\",\"type\":\"CDSView\"},{\"attributes\":{\"fill_color\":{\"value\":\"red\"},\"line_color\":{\"value\":\"red\"},\"size\":{\"units\":\"screen\",\"value\":15},\"x\":{\"value\":5.8},\"y\":{\"value\":1.6}},\"id\":\"a6d22d71-4954-4a8d-aaca-57fde91b5baf\",\"type\":\"Circle\"},{\"attributes\":{\"fill_alpha\":{\"value\":0.1},\"fill_color\":{\"value\":\"#1f77b4\"},\"line_alpha\":{\"value\":0.1},\"line_color\":{\"value\":\"#1f77b4\"},\"size\":{\"units\":\"screen\",\"value\":15},\"x\":{\"value\":5.8},\"y\":{\"value\":1.6}},\"id\":\"d8e928f4-be5d-4203-b664-aae49a3e6d45\",\"type\":\"Circle\"},{\"attributes\":{\"callback\":null,\"data\":{}},\"id\":\"5390e960-b0ee-43e7-b186-7321b9007571\",\"type\":\"ColumnDataSource\"},{\"attributes\":{\"data_source\":{\"id\":\"5390e960-b0ee-43e7-b186-7321b9007571\",\"type\":\"ColumnDataSource\"},\"glyph\":{\"id\":\"14e17b0b-e7c4-40f0-b5ed-e8a6a7b91b86\",\"type\":\"Circle\"},\"hover_glyph\":null,\"muted_glyph\":null,\"nonselection_glyph\":{\"id\":\"c07ac56a-121f-4ef2-8a09-52e72e1b3dbe\",\"type\":\"Circle\"},\"selection_glyph\":null,\"view\":{\"id\":\"265b928e-b562-4e8a-b111-8ec1a0df5326\",\"type\":\"CDSView\"}},\"id\":\"6873ce50-3312-4ad2-8b0b-2d97ff837779\",\"type\":\"GlyphRenderer\"},{\"attributes\":{\"source\":{\"id\":\"7a42dad3-5f77-493e-ac41-9aa3e158910f\",\"type\":\"ColumnDataSource\"}},\"id\":\"ac1711ee-5303-43a1-b848-13e3b2c64c19\",\"type\":\"CDSView\"},{\"attributes\":{\"fill_color\":{\"value\":\"red\"},\"line_color\":{\"value\":\"red\"},\"size\":{\"units\":\"screen\",\"value\":15},\"x\":{\"value\":6.1},\"y\":{\"value\":1.9}},\"id\":\"14e17b0b-e7c4-40f0-b5ed-e8a6a7b91b86\",\"type\":\"Circle\"},{\"attributes\":{\"fill_alpha\":{\"value\":0.1},\"fill_color\":{\"value\":\"#1f77b4\"},\"line_alpha\":{\"value\":0.1},\"line_color\":{\"value\":\"#1f77b4\"},\"size\":{\"units\":\"screen\",\"value\":15},\"x\":{\"value\":6.1},\"y\":{\"value\":1.9}},\"id\":\"c07ac56a-121f-4ef2-8a09-52e72e1b3dbe\",\"type\":\"Circle\"},{\"attributes\":{\"callback\":null,\"data\":{}},\"id\":\"ca349da7-aea6-42b0-b0c8-0523a2c93d09\",\"type\":\"ColumnDataSource\"},{\"attributes\":{\"data_source\":{\"id\":\"ca349da7-aea6-42b0-b0c8-0523a2c93d09\",\"type\":\"ColumnDataSource\"},\"glyph\":{\"id\":\"c9ff570e-9dcc-4215-ab59-f783bcc7dd0c\",\"type\":\"Circle\"},\"hover_glyph\":null,\"muted_glyph\":null,\"nonselection_glyph\":{\"id\":\"4029800e-10b3-4cdc-93b0-ac4b1c337dab\",\"type\":\"Circle\"},\"selection_glyph\":null,\"view\":{\"id\":\"894175f2-98ea-46bd-a6e7-71d9d93238eb\",\"type\":\"CDSView\"}},\"id\":\"ea14c9fe-30e8-4219-af5a-dab964b9e07f\",\"type\":\"GlyphRenderer\"},{\"attributes\":{\"source\":{\"id\":\"5390e960-b0ee-43e7-b186-7321b9007571\",\"type\":\"ColumnDataSource\"}},\"id\":\"265b928e-b562-4e8a-b111-8ec1a0df5326\",\"type\":\"CDSView\"},{\"attributes\":{\"fill_color\":{\"value\":\"red\"},\"line_color\":{\"value\":\"red\"},\"size\":{\"units\":\"screen\",\"value\":15},\"x\":{\"value\":6.4},\"y\":{\"value\":2.0}},\"id\":\"c9ff570e-9dcc-4215-ab59-f783bcc7dd0c\",\"type\":\"Circle\"},{\"attributes\":{\"fill_alpha\":{\"value\":0.1},\"fill_color\":{\"value\":\"#1f77b4\"},\"line_alpha\":{\"value\":0.1},\"line_color\":{\"value\":\"#1f77b4\"},\"size\":{\"units\":\"screen\",\"value\":15},\"x\":{\"value\":6.4},\"y\":{\"value\":2.0}},\"id\":\"4029800e-10b3-4cdc-93b0-ac4b1c337dab\",\"type\":\"Circle\"}],\"root_ids\":[\"6edf0fc9-d0ce-48f2-8464-82b04a26c4cf\"]},\"title\":\"Bokeh Application\",\"version\":\"0.12.10\"}};\n",
       "    var render_items = [{\"docid\":\"e45217e3-f3b8-4bca-89e5-14fefed3a8d5\",\"elementid\":\"b3d43cae-28a9-4115-bc17-6c279059d94e\",\"modelid\":\"6edf0fc9-d0ce-48f2-8464-82b04a26c4cf\"}];\n",
       "\n",
       "    root.Bokeh.embed.embed_items(docs_json, render_items);\n",
       "  }\n",
       "\n",
       "  if (root.Bokeh !== undefined) {\n",
       "    embed_document(root);\n",
       "  } else {\n",
       "    var attempts = 0;\n",
       "    var timer = setInterval(function(root) {\n",
       "      if (root.Bokeh !== undefined) {\n",
       "        embed_document(root);\n",
       "        clearInterval(timer);\n",
       "      }\n",
       "      attempts++;\n",
       "      if (attempts > 100) {\n",
       "        console.log(\"Bokeh: ERROR: Unable to embed document because BokehJS library is missing\")\n",
       "        clearInterval(timer);\n",
       "      }\n",
       "    }, 10, root)\n",
       "  }\n",
       "})(window);"
      ],
      "application/vnd.bokehjs_exec.v0+json": ""
     },
     "metadata": {
      "application/vnd.bokehjs_exec.v0+json": {
       "id": "6edf0fc9-d0ce-48f2-8464-82b04a26c4cf"
      }
     },
     "output_type": "display_data"
    }
   ],
   "source": [
    "\n",
    "from sklearn.cluster import KMeans\n",
    "\n",
    "import numpy as np\n",
    "\n",
    "import bokeh.plotting\n",
    "\n",
    "from bokeh.plotting import figure\n",
    "\n",
    "from sklearn import datasets\n",
    "\n",
    "bokeh.plotting.output_notebook()  \n",
    "\n",
    "iris = datasets.load_iris()\n",
    "\n",
    "petal_data = iris.data[:,2:] \n",
    "\n",
    "kmean = KMeans(n_clusters=3) #n_clusters asks for only 3 groupings\n",
    "\n",
    "kmean.fit(petal_data) \n",
    "\n",
    "plot = figure(width=500, height=500, title='Iris Petals', x_axis_label = \"Petal Length\", y_axis_label = \"Petal Width\")\n",
    "\n",
    "#plot centroid / cluster center / group mean for each group\n",
    "\n",
    "clus_xs = []\n",
    "\n",
    "clus_ys = []\n",
    "\n",
    "#we get the  cluster x / y values from the k-means algorithm\n",
    "\n",
    "for entry in kmean.cluster_centers_:\n",
    "\n",
    "   clus_xs.append(entry[0])\n",
    "\n",
    "   clus_ys.append(entry[1])\n",
    "\n",
    "#the cluster center is marked by a circle, with a cross in it\n",
    "\n",
    "plot.circle_cross(x=clus_xs, y=clus_ys, size=40, fill_alpha=0, line_width=2, color=['red', 'blue', 'purple'])\n",
    "\n",
    "plot.text(text = ['setosa', 'versicolor', 'virginica'], x=clus_xs, y=clus_ys, text_font_size='30pt')\n",
    "\n",
    "i = 0 #counter\n",
    "\n",
    " \n",
    "\n",
    "for sample in petal_data:\n",
    "\n",
    " \n",
    "   if kmean.labels_[i] == 0:\n",
    "        plot.circle(x=sample[0], y=sample[1], size=15, color=\"red\")\n",
    "\n",
    "   if kmean.labels_[i] == 1:\n",
    "    plot.circle(x=sample[0], y=sample[1], size=15, color=\"blue\")\n",
    "\n",
    "   if kmean.labels_[i] == 2:\n",
    "    plot.circle(x=sample[0], y=sample[1], size=15, color=\"purple\")\n",
    "\n",
    "   i += 1\n",
    "\n",
    "bokeh.plotting.show(plot)\n"
   ]
  }
 ],
 "metadata": {
  "kernelspec": {
   "display_name": "Python 3",
   "language": "python",
   "name": "python3"
  },
  "language_info": {
   "codemirror_mode": {
    "name": "ipython",
    "version": 3
   },
   "file_extension": ".py",
   "mimetype": "text/x-python",
   "name": "python",
   "nbconvert_exporter": "python",
   "pygments_lexer": "ipython3",
   "version": "3.6.2"
  }
 },
 "nbformat": 4,
 "nbformat_minor": 2
}
